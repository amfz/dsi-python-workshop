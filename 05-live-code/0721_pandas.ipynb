{
 "cells": [
  {
   "cell_type": "markdown",
   "id": "c970a754",
   "metadata": {},
   "source": [
    "# Doing more with data: `pandas`\n",
    "## Intro Python\n",
    "\n",
    "21 July 2022"
   ]
  },
  {
   "cell_type": "markdown",
   "id": "dcacff81",
   "metadata": {},
   "source": [
    "## Last session...\n",
    "* `numpy`\n",
    "  * arrays as n-dimensional data structures\n",
    "  * operations on multiple elements without `for` loops\n",
    "  * summary and utility functions\n",
    "* `pandas`\n",
    "  * DataFrames as 2D data structures\n",
    "  * Series as 1D data structures\n",
    "  * loading data from file\n",
    "  * data profiling: `head()`, `tail()`, `info()`, `describe()`, `unique()`, DataFrame attributes\n",
    "  * early data cleaning: `rename()` and `drop()`\n",
    "  * `concat()` and `merge()`\n",
    "  \n",
    "## This session\n",
    "* Picking up where we left off with TTC subway delays\n",
    "* `delays_w_reasons` files available in https://github.com/amfz/dsi-python-workshop/tree/main/data"
   ]
  },
  {
   "cell_type": "code",
   "execution_count": 1,
   "id": "d6971bb9",
   "metadata": {},
   "outputs": [],
   "source": [
    "import pandas as pd\n",
    "import numpy as np"
   ]
  },
  {
   "cell_type": "code",
   "execution_count": 2,
   "id": "512ef7c9",
   "metadata": {},
   "outputs": [],
   "source": [
    "delays_w_reasons = pd.read_excel('https://github.com/amfz/dsi-python-workshop/raw/main/data/delays_w_reasons.xlsx')"
   ]
  },
  {
   "cell_type": "code",
   "execution_count": 3,
   "id": "d6779f62",
   "metadata": {},
   "outputs": [
    {
     "name": "stdout",
     "output_type": "stream",
     "text": [
      "<class 'pandas.core.frame.DataFrame'>\n",
      "RangeIndex: 16370 entries, 0 to 16369\n",
      "Data columns (total 11 columns):\n",
      " #   Column            Non-Null Count  Dtype         \n",
      "---  ------            --------------  -----         \n",
      " 0   date              16370 non-null  datetime64[ns]\n",
      " 1   time              16370 non-null  object        \n",
      " 2   day               16370 non-null  object        \n",
      " 3   station           16370 non-null  object        \n",
      " 4   code              16370 non-null  object        \n",
      " 5   min_delay         16370 non-null  int64         \n",
      " 6   min_gap           16370 non-null  int64         \n",
      " 7   bound             12119 non-null  object        \n",
      " 8   line              16318 non-null  object        \n",
      " 9   vehicle           16370 non-null  int64         \n",
      " 10  code_description  16048 non-null  object        \n",
      "dtypes: datetime64[ns](1), int64(3), object(7)\n",
      "memory usage: 1.4+ MB\n"
     ]
    }
   ],
   "source": [
    "delays_w_reasons.info()"
   ]
  },
  {
   "cell_type": "code",
   "execution_count": 6,
   "id": "0940a420",
   "metadata": {},
   "outputs": [
    {
     "data": {
      "text/html": [
       "<div>\n",
       "<style scoped>\n",
       "    .dataframe tbody tr th:only-of-type {\n",
       "        vertical-align: middle;\n",
       "    }\n",
       "\n",
       "    .dataframe tbody tr th {\n",
       "        vertical-align: top;\n",
       "    }\n",
       "\n",
       "    .dataframe thead th {\n",
       "        text-align: right;\n",
       "    }\n",
       "</style>\n",
       "<table border=\"1\" class=\"dataframe\">\n",
       "  <thead>\n",
       "    <tr style=\"text-align: right;\">\n",
       "      <th></th>\n",
       "      <th>date</th>\n",
       "      <th>time</th>\n",
       "      <th>day</th>\n",
       "      <th>station</th>\n",
       "      <th>code</th>\n",
       "      <th>min_delay</th>\n",
       "      <th>min_gap</th>\n",
       "      <th>bound</th>\n",
       "      <th>line</th>\n",
       "      <th>vehicle</th>\n",
       "      <th>code_description</th>\n",
       "    </tr>\n",
       "  </thead>\n",
       "  <tbody>\n",
       "    <tr>\n",
       "      <th>count</th>\n",
       "      <td>16370</td>\n",
       "      <td>16370</td>\n",
       "      <td>16370</td>\n",
       "      <td>16370</td>\n",
       "      <td>16370</td>\n",
       "      <td>16370.000000</td>\n",
       "      <td>16370.000000</td>\n",
       "      <td>12119</td>\n",
       "      <td>16318</td>\n",
       "      <td>16370.000000</td>\n",
       "      <td>16048</td>\n",
       "    </tr>\n",
       "    <tr>\n",
       "      <th>unique</th>\n",
       "      <td>NaN</td>\n",
       "      <td>1383</td>\n",
       "      <td>7</td>\n",
       "      <td>284</td>\n",
       "      <td>173</td>\n",
       "      <td>NaN</td>\n",
       "      <td>NaN</td>\n",
       "      <td>5</td>\n",
       "      <td>17</td>\n",
       "      <td>NaN</td>\n",
       "      <td>129</td>\n",
       "    </tr>\n",
       "    <tr>\n",
       "      <th>top</th>\n",
       "      <td>NaN</td>\n",
       "      <td>22:00</td>\n",
       "      <td>Friday</td>\n",
       "      <td>VAUGHAN MC STATION</td>\n",
       "      <td>SUDP</td>\n",
       "      <td>NaN</td>\n",
       "      <td>NaN</td>\n",
       "      <td>S</td>\n",
       "      <td>YU</td>\n",
       "      <td>NaN</td>\n",
       "      <td>Disorderly Patron</td>\n",
       "    </tr>\n",
       "    <tr>\n",
       "      <th>freq</th>\n",
       "      <td>NaN</td>\n",
       "      <td>437</td>\n",
       "      <td>2600</td>\n",
       "      <td>927</td>\n",
       "      <td>2015</td>\n",
       "      <td>NaN</td>\n",
       "      <td>NaN</td>\n",
       "      <td>4216</td>\n",
       "      <td>8880</td>\n",
       "      <td>NaN</td>\n",
       "      <td>2051</td>\n",
       "    </tr>\n",
       "    <tr>\n",
       "      <th>mean</th>\n",
       "      <td>2021-07-16 12:47:30.091631104</td>\n",
       "      <td>NaN</td>\n",
       "      <td>NaN</td>\n",
       "      <td>NaN</td>\n",
       "      <td>NaN</td>\n",
       "      <td>3.268418</td>\n",
       "      <td>5.057972</td>\n",
       "      <td>NaN</td>\n",
       "      <td>NaN</td>\n",
       "      <td>3642.871228</td>\n",
       "      <td>NaN</td>\n",
       "    </tr>\n",
       "    <tr>\n",
       "      <th>min</th>\n",
       "      <td>2021-01-01 00:00:00</td>\n",
       "      <td>NaN</td>\n",
       "      <td>NaN</td>\n",
       "      <td>NaN</td>\n",
       "      <td>NaN</td>\n",
       "      <td>0.000000</td>\n",
       "      <td>0.000000</td>\n",
       "      <td>NaN</td>\n",
       "      <td>NaN</td>\n",
       "      <td>0.000000</td>\n",
       "      <td>NaN</td>\n",
       "    </tr>\n",
       "    <tr>\n",
       "      <th>25%</th>\n",
       "      <td>2021-04-13 00:00:00</td>\n",
       "      <td>NaN</td>\n",
       "      <td>NaN</td>\n",
       "      <td>NaN</td>\n",
       "      <td>NaN</td>\n",
       "      <td>0.000000</td>\n",
       "      <td>0.000000</td>\n",
       "      <td>NaN</td>\n",
       "      <td>NaN</td>\n",
       "      <td>0.000000</td>\n",
       "      <td>NaN</td>\n",
       "    </tr>\n",
       "    <tr>\n",
       "      <th>50%</th>\n",
       "      <td>2021-07-24 12:00:00</td>\n",
       "      <td>NaN</td>\n",
       "      <td>NaN</td>\n",
       "      <td>NaN</td>\n",
       "      <td>NaN</td>\n",
       "      <td>0.000000</td>\n",
       "      <td>0.000000</td>\n",
       "      <td>NaN</td>\n",
       "      <td>NaN</td>\n",
       "      <td>5198.500000</td>\n",
       "      <td>NaN</td>\n",
       "    </tr>\n",
       "    <tr>\n",
       "      <th>75%</th>\n",
       "      <td>2021-10-23 00:00:00</td>\n",
       "      <td>NaN</td>\n",
       "      <td>NaN</td>\n",
       "      <td>NaN</td>\n",
       "      <td>NaN</td>\n",
       "      <td>4.000000</td>\n",
       "      <td>8.000000</td>\n",
       "      <td>NaN</td>\n",
       "      <td>NaN</td>\n",
       "      <td>5706.000000</td>\n",
       "      <td>NaN</td>\n",
       "    </tr>\n",
       "    <tr>\n",
       "      <th>max</th>\n",
       "      <td>2021-12-31 00:00:00</td>\n",
       "      <td>NaN</td>\n",
       "      <td>NaN</td>\n",
       "      <td>NaN</td>\n",
       "      <td>NaN</td>\n",
       "      <td>348.000000</td>\n",
       "      <td>351.000000</td>\n",
       "      <td>NaN</td>\n",
       "      <td>NaN</td>\n",
       "      <td>8778.000000</td>\n",
       "      <td>NaN</td>\n",
       "    </tr>\n",
       "    <tr>\n",
       "      <th>std</th>\n",
       "      <td>NaN</td>\n",
       "      <td>NaN</td>\n",
       "      <td>NaN</td>\n",
       "      <td>NaN</td>\n",
       "      <td>NaN</td>\n",
       "      <td>9.619833</td>\n",
       "      <td>10.390565</td>\n",
       "      <td>NaN</td>\n",
       "      <td>NaN</td>\n",
       "      <td>2631.466224</td>\n",
       "      <td>NaN</td>\n",
       "    </tr>\n",
       "  </tbody>\n",
       "</table>\n",
       "</div>"
      ],
      "text/plain": [
       "                                 date   time     day             station  \\\n",
       "count                           16370  16370   16370               16370   \n",
       "unique                            NaN   1383       7                 284   \n",
       "top                               NaN  22:00  Friday  VAUGHAN MC STATION   \n",
       "freq                              NaN    437    2600                 927   \n",
       "mean    2021-07-16 12:47:30.091631104    NaN     NaN                 NaN   \n",
       "min               2021-01-01 00:00:00    NaN     NaN                 NaN   \n",
       "25%               2021-04-13 00:00:00    NaN     NaN                 NaN   \n",
       "50%               2021-07-24 12:00:00    NaN     NaN                 NaN   \n",
       "75%               2021-10-23 00:00:00    NaN     NaN                 NaN   \n",
       "max               2021-12-31 00:00:00    NaN     NaN                 NaN   \n",
       "std                               NaN    NaN     NaN                 NaN   \n",
       "\n",
       "         code     min_delay       min_gap  bound   line       vehicle  \\\n",
       "count   16370  16370.000000  16370.000000  12119  16318  16370.000000   \n",
       "unique    173           NaN           NaN      5     17           NaN   \n",
       "top      SUDP           NaN           NaN      S     YU           NaN   \n",
       "freq     2015           NaN           NaN   4216   8880           NaN   \n",
       "mean      NaN      3.268418      5.057972    NaN    NaN   3642.871228   \n",
       "min       NaN      0.000000      0.000000    NaN    NaN      0.000000   \n",
       "25%       NaN      0.000000      0.000000    NaN    NaN      0.000000   \n",
       "50%       NaN      0.000000      0.000000    NaN    NaN   5198.500000   \n",
       "75%       NaN      4.000000      8.000000    NaN    NaN   5706.000000   \n",
       "max       NaN    348.000000    351.000000    NaN    NaN   8778.000000   \n",
       "std       NaN      9.619833     10.390565    NaN    NaN   2631.466224   \n",
       "\n",
       "         code_description  \n",
       "count               16048  \n",
       "unique                129  \n",
       "top     Disorderly Patron  \n",
       "freq                 2051  \n",
       "mean                  NaN  \n",
       "min                   NaN  \n",
       "25%                   NaN  \n",
       "50%                   NaN  \n",
       "75%                   NaN  \n",
       "max                   NaN  \n",
       "std                   NaN  "
      ]
     },
     "execution_count": 6,
     "metadata": {},
     "output_type": "execute_result"
    }
   ],
   "source": [
    "delays_w_reasons.describe(include='all',\n",
    "                          datetime_is_numeric=True\n",
    "                         )"
   ]
  },
  {
   "cell_type": "code",
   "execution_count": 7,
   "id": "8aa76169",
   "metadata": {},
   "outputs": [
    {
     "data": {
      "text/plain": [
       "array(['YU', 'BD', 'SHP', 'SRT', 'YU/BD', nan, 'YONGE/UNIVERSITY/BLOOR',\n",
       "       'YU / BD', 'YUS', '999', 'SHEP', '36 FINCH WEST', 'YUS & BD',\n",
       "       'YU & BD LINES', '35 JANE', '52', '41 KEELE', 'YUS/BD'],\n",
       "      dtype=object)"
      ]
     },
     "execution_count": 7,
     "metadata": {},
     "output_type": "execute_result"
    }
   ],
   "source": [
    "delays_w_reasons['line'].unique()"
   ]
  },
  {
   "cell_type": "code",
   "execution_count": 8,
   "id": "75061543",
   "metadata": {},
   "outputs": [
    {
     "data": {
      "text/plain": [
       "YU                        8880\n",
       "BD                        5734\n",
       "SHP                        657\n",
       "SRT                        656\n",
       "YU/BD                      346\n",
       "YUS                         18\n",
       "YU / BD                     17\n",
       "YU & BD LINES                1\n",
       "41 KEELE                     1\n",
       "52                           1\n",
       "35 JANE                      1\n",
       "999                          1\n",
       "YUS & BD                     1\n",
       "36 FINCH WEST                1\n",
       "SHEP                         1\n",
       "YONGE/UNIVERSITY/BLOOR       1\n",
       "YUS/BD                       1\n",
       "Name: line, dtype: int64"
      ]
     },
     "execution_count": 8,
     "metadata": {},
     "output_type": "execute_result"
    }
   ],
   "source": [
    "delays_w_reasons['line'].value_counts()"
   ]
  },
  {
   "cell_type": "code",
   "execution_count": 10,
   "id": "9f91ec0f",
   "metadata": {},
   "outputs": [
    {
     "data": {
      "text/plain": [
       "False    16318\n",
       "True        52\n",
       "Name: line, dtype: int64"
      ]
     },
     "execution_count": 10,
     "metadata": {},
     "output_type": "execute_result"
    }
   ],
   "source": [
    "delays_w_reasons['line'].isna().value_counts()"
   ]
  },
  {
   "cell_type": "markdown",
   "id": "dede4c97",
   "metadata": {},
   "source": [
    "## Dropping nulls and filtering values"
   ]
  },
  {
   "cell_type": "code",
   "execution_count": 12,
   "id": "9e4d01ad",
   "metadata": {},
   "outputs": [
    {
     "data": {
      "text/html": [
       "<div>\n",
       "<style scoped>\n",
       "    .dataframe tbody tr th:only-of-type {\n",
       "        vertical-align: middle;\n",
       "    }\n",
       "\n",
       "    .dataframe tbody tr th {\n",
       "        vertical-align: top;\n",
       "    }\n",
       "\n",
       "    .dataframe thead th {\n",
       "        text-align: right;\n",
       "    }\n",
       "</style>\n",
       "<table border=\"1\" class=\"dataframe\">\n",
       "  <thead>\n",
       "    <tr style=\"text-align: right;\">\n",
       "      <th></th>\n",
       "      <th>date</th>\n",
       "      <th>time</th>\n",
       "      <th>day</th>\n",
       "      <th>station</th>\n",
       "      <th>code</th>\n",
       "      <th>min_delay</th>\n",
       "      <th>min_gap</th>\n",
       "      <th>bound</th>\n",
       "      <th>line</th>\n",
       "      <th>vehicle</th>\n",
       "      <th>code_description</th>\n",
       "    </tr>\n",
       "  </thead>\n",
       "  <tbody>\n",
       "    <tr>\n",
       "      <th>495</th>\n",
       "      <td>2021-01-13</td>\n",
       "      <td>15:22</td>\n",
       "      <td>Wednesday</td>\n",
       "      <td>FINCH WEST STATION</td>\n",
       "      <td>MUSAN</td>\n",
       "      <td>3</td>\n",
       "      <td>6</td>\n",
       "      <td>S</td>\n",
       "      <td>NaN</td>\n",
       "      <td>5751</td>\n",
       "      <td>Unsanitary Vehicle</td>\n",
       "    </tr>\n",
       "    <tr>\n",
       "      <th>513</th>\n",
       "      <td>2021-01-13</td>\n",
       "      <td>22:08</td>\n",
       "      <td>Wednesday</td>\n",
       "      <td>EGLINTON WEST STATION</td>\n",
       "      <td>PUMEL</td>\n",
       "      <td>0</td>\n",
       "      <td>0</td>\n",
       "      <td>NaN</td>\n",
       "      <td>NaN</td>\n",
       "      <td>0</td>\n",
       "      <td>Escalator/Elevator Incident</td>\n",
       "    </tr>\n",
       "    <tr>\n",
       "      <th>1044</th>\n",
       "      <td>2021-01-27</td>\n",
       "      <td>22:00</td>\n",
       "      <td>Wednesday</td>\n",
       "      <td>YONGE-UNIVERSITY AND B</td>\n",
       "      <td>MUO</td>\n",
       "      <td>0</td>\n",
       "      <td>0</td>\n",
       "      <td>NaN</td>\n",
       "      <td>NaN</td>\n",
       "      <td>0</td>\n",
       "      <td>Miscellaneous Other</td>\n",
       "    </tr>\n",
       "    <tr>\n",
       "      <th>1045</th>\n",
       "      <td>2021-01-27</td>\n",
       "      <td>23:00</td>\n",
       "      <td>Wednesday</td>\n",
       "      <td>FINCH STATION</td>\n",
       "      <td>MUO</td>\n",
       "      <td>0</td>\n",
       "      <td>0</td>\n",
       "      <td>NaN</td>\n",
       "      <td>NaN</td>\n",
       "      <td>0</td>\n",
       "      <td>Miscellaneous Other</td>\n",
       "    </tr>\n",
       "    <tr>\n",
       "      <th>1362</th>\n",
       "      <td>2021-02-04</td>\n",
       "      <td>01:45</td>\n",
       "      <td>Thursday</td>\n",
       "      <td>LAWRENCE STATION</td>\n",
       "      <td>TUSC</td>\n",
       "      <td>0</td>\n",
       "      <td>0</td>\n",
       "      <td>S</td>\n",
       "      <td>NaN</td>\n",
       "      <td>5596</td>\n",
       "      <td>Operator Overspeeding</td>\n",
       "    </tr>\n",
       "  </tbody>\n",
       "</table>\n",
       "</div>"
      ],
      "text/plain": [
       "           date   time        day                 station   code  min_delay  \\\n",
       "495  2021-01-13  15:22  Wednesday      FINCH WEST STATION  MUSAN          3   \n",
       "513  2021-01-13  22:08  Wednesday   EGLINTON WEST STATION  PUMEL          0   \n",
       "1044 2021-01-27  22:00  Wednesday  YONGE-UNIVERSITY AND B    MUO          0   \n",
       "1045 2021-01-27  23:00  Wednesday           FINCH STATION    MUO          0   \n",
       "1362 2021-02-04  01:45   Thursday        LAWRENCE STATION   TUSC          0   \n",
       "\n",
       "      min_gap bound line  vehicle             code_description  \n",
       "495         6     S  NaN     5751           Unsanitary Vehicle  \n",
       "513         0   NaN  NaN        0  Escalator/Elevator Incident  \n",
       "1044        0   NaN  NaN        0          Miscellaneous Other  \n",
       "1045        0   NaN  NaN        0          Miscellaneous Other  \n",
       "1362        0     S  NaN     5596        Operator Overspeeding  "
      ]
     },
     "execution_count": 12,
     "metadata": {},
     "output_type": "execute_result"
    }
   ],
   "source": [
    "delays_w_reasons.query('line.isna()')"
   ]
  },
  {
   "cell_type": "code",
   "execution_count": 14,
   "id": "e88e439f",
   "metadata": {
    "scrolled": true
   },
   "outputs": [
    {
     "data": {
      "text/html": [
       "<div>\n",
       "<style scoped>\n",
       "    .dataframe tbody tr th:only-of-type {\n",
       "        vertical-align: middle;\n",
       "    }\n",
       "\n",
       "    .dataframe tbody tr th {\n",
       "        vertical-align: top;\n",
       "    }\n",
       "\n",
       "    .dataframe thead th {\n",
       "        text-align: right;\n",
       "    }\n",
       "</style>\n",
       "<table border=\"1\" class=\"dataframe\">\n",
       "  <thead>\n",
       "    <tr style=\"text-align: right;\">\n",
       "      <th></th>\n",
       "      <th>date</th>\n",
       "      <th>time</th>\n",
       "      <th>day</th>\n",
       "      <th>station</th>\n",
       "      <th>code</th>\n",
       "      <th>min_delay</th>\n",
       "      <th>min_gap</th>\n",
       "      <th>bound</th>\n",
       "      <th>line</th>\n",
       "      <th>vehicle</th>\n",
       "      <th>code_description</th>\n",
       "    </tr>\n",
       "  </thead>\n",
       "  <tbody>\n",
       "    <tr>\n",
       "      <th>495</th>\n",
       "      <td>2021-01-13</td>\n",
       "      <td>15:22</td>\n",
       "      <td>Wednesday</td>\n",
       "      <td>FINCH WEST STATION</td>\n",
       "      <td>MUSAN</td>\n",
       "      <td>3</td>\n",
       "      <td>6</td>\n",
       "      <td>S</td>\n",
       "      <td>NaN</td>\n",
       "      <td>5751</td>\n",
       "      <td>Unsanitary Vehicle</td>\n",
       "    </tr>\n",
       "    <tr>\n",
       "      <th>513</th>\n",
       "      <td>2021-01-13</td>\n",
       "      <td>22:08</td>\n",
       "      <td>Wednesday</td>\n",
       "      <td>EGLINTON WEST STATION</td>\n",
       "      <td>PUMEL</td>\n",
       "      <td>0</td>\n",
       "      <td>0</td>\n",
       "      <td>NaN</td>\n",
       "      <td>NaN</td>\n",
       "      <td>0</td>\n",
       "      <td>Escalator/Elevator Incident</td>\n",
       "    </tr>\n",
       "    <tr>\n",
       "      <th>1044</th>\n",
       "      <td>2021-01-27</td>\n",
       "      <td>22:00</td>\n",
       "      <td>Wednesday</td>\n",
       "      <td>YONGE-UNIVERSITY AND B</td>\n",
       "      <td>MUO</td>\n",
       "      <td>0</td>\n",
       "      <td>0</td>\n",
       "      <td>NaN</td>\n",
       "      <td>NaN</td>\n",
       "      <td>0</td>\n",
       "      <td>Miscellaneous Other</td>\n",
       "    </tr>\n",
       "    <tr>\n",
       "      <th>1045</th>\n",
       "      <td>2021-01-27</td>\n",
       "      <td>23:00</td>\n",
       "      <td>Wednesday</td>\n",
       "      <td>FINCH STATION</td>\n",
       "      <td>MUO</td>\n",
       "      <td>0</td>\n",
       "      <td>0</td>\n",
       "      <td>NaN</td>\n",
       "      <td>NaN</td>\n",
       "      <td>0</td>\n",
       "      <td>Miscellaneous Other</td>\n",
       "    </tr>\n",
       "    <tr>\n",
       "      <th>1362</th>\n",
       "      <td>2021-02-04</td>\n",
       "      <td>01:45</td>\n",
       "      <td>Thursday</td>\n",
       "      <td>LAWRENCE STATION</td>\n",
       "      <td>TUSC</td>\n",
       "      <td>0</td>\n",
       "      <td>0</td>\n",
       "      <td>S</td>\n",
       "      <td>NaN</td>\n",
       "      <td>5596</td>\n",
       "      <td>Operator Overspeeding</td>\n",
       "    </tr>\n",
       "  </tbody>\n",
       "</table>\n",
       "</div>"
      ],
      "text/plain": [
       "           date   time        day                 station   code  min_delay  \\\n",
       "495  2021-01-13  15:22  Wednesday      FINCH WEST STATION  MUSAN          3   \n",
       "513  2021-01-13  22:08  Wednesday   EGLINTON WEST STATION  PUMEL          0   \n",
       "1044 2021-01-27  22:00  Wednesday  YONGE-UNIVERSITY AND B    MUO          0   \n",
       "1045 2021-01-27  23:00  Wednesday           FINCH STATION    MUO          0   \n",
       "1362 2021-02-04  01:45   Thursday        LAWRENCE STATION   TUSC          0   \n",
       "\n",
       "      min_gap bound line  vehicle             code_description  \n",
       "495         6     S  NaN     5751           Unsanitary Vehicle  \n",
       "513         0   NaN  NaN        0  Escalator/Elevator Incident  \n",
       "1044        0   NaN  NaN        0          Miscellaneous Other  \n",
       "1045        0   NaN  NaN        0          Miscellaneous Other  \n",
       "1362        0     S  NaN     5596        Operator Overspeeding  "
      ]
     },
     "execution_count": 14,
     "metadata": {},
     "output_type": "execute_result"
    }
   ],
   "source": [
    "delays_w_reasons.loc[delays_w_reasons['line'].isna()].head()"
   ]
  },
  {
   "cell_type": "code",
   "execution_count": 16,
   "id": "3a954d63",
   "metadata": {},
   "outputs": [
    {
     "data": {
      "text/html": [
       "<div>\n",
       "<style scoped>\n",
       "    .dataframe tbody tr th:only-of-type {\n",
       "        vertical-align: middle;\n",
       "    }\n",
       "\n",
       "    .dataframe tbody tr th {\n",
       "        vertical-align: top;\n",
       "    }\n",
       "\n",
       "    .dataframe thead th {\n",
       "        text-align: right;\n",
       "    }\n",
       "</style>\n",
       "<table border=\"1\" class=\"dataframe\">\n",
       "  <thead>\n",
       "    <tr style=\"text-align: right;\">\n",
       "      <th></th>\n",
       "      <th>time</th>\n",
       "      <th>station</th>\n",
       "      <th>line</th>\n",
       "    </tr>\n",
       "  </thead>\n",
       "  <tbody>\n",
       "    <tr>\n",
       "      <th>495</th>\n",
       "      <td>15:22</td>\n",
       "      <td>FINCH WEST STATION</td>\n",
       "      <td>NaN</td>\n",
       "    </tr>\n",
       "    <tr>\n",
       "      <th>513</th>\n",
       "      <td>22:08</td>\n",
       "      <td>EGLINTON WEST STATION</td>\n",
       "      <td>NaN</td>\n",
       "    </tr>\n",
       "    <tr>\n",
       "      <th>1044</th>\n",
       "      <td>22:00</td>\n",
       "      <td>YONGE-UNIVERSITY AND B</td>\n",
       "      <td>NaN</td>\n",
       "    </tr>\n",
       "    <tr>\n",
       "      <th>1045</th>\n",
       "      <td>23:00</td>\n",
       "      <td>FINCH STATION</td>\n",
       "      <td>NaN</td>\n",
       "    </tr>\n",
       "    <tr>\n",
       "      <th>1362</th>\n",
       "      <td>01:45</td>\n",
       "      <td>LAWRENCE STATION</td>\n",
       "      <td>NaN</td>\n",
       "    </tr>\n",
       "  </tbody>\n",
       "</table>\n",
       "</div>"
      ],
      "text/plain": [
       "       time                 station line\n",
       "495   15:22      FINCH WEST STATION  NaN\n",
       "513   22:08   EGLINTON WEST STATION  NaN\n",
       "1044  22:00  YONGE-UNIVERSITY AND B  NaN\n",
       "1045  23:00           FINCH STATION  NaN\n",
       "1362  01:45        LAWRENCE STATION  NaN"
      ]
     },
     "execution_count": 16,
     "metadata": {},
     "output_type": "execute_result"
    }
   ],
   "source": [
    "delays_w_reasons.loc[delays_w_reasons['line'].isna(),  # rows to get\n",
    "                    ['time', 'station', 'line']].head()  # columns to get"
   ]
  },
  {
   "cell_type": "code",
   "execution_count": 17,
   "id": "94d93285",
   "metadata": {},
   "outputs": [],
   "source": [
    "delays_w_reasons = delays_w_reasons.dropna(subset='line')"
   ]
  },
  {
   "cell_type": "code",
   "execution_count": 18,
   "id": "a2c82bd2",
   "metadata": {},
   "outputs": [
    {
     "data": {
      "text/plain": [
       "False    16318\n",
       "Name: line, dtype: int64"
      ]
     },
     "execution_count": 18,
     "metadata": {},
     "output_type": "execute_result"
    }
   ],
   "source": [
    "delays_w_reasons['line'].isna().value_counts()"
   ]
  },
  {
   "cell_type": "code",
   "execution_count": 20,
   "id": "04a419e5",
   "metadata": {},
   "outputs": [
    {
     "data": {
      "text/plain": [
       "array(['YU', 'BD', 'SHP', 'SRT', 'YU/BD', 'YONGE/UNIVERSITY/BLOOR',\n",
       "       'YU / BD', 'YUS', '999', 'SHEP', '36 FINCH WEST', 'YUS & BD',\n",
       "       'YU & BD LINES', '35 JANE', '52', '41 KEELE', 'YUS/BD'],\n",
       "      dtype=object)"
      ]
     },
     "execution_count": 20,
     "metadata": {},
     "output_type": "execute_result"
    }
   ],
   "source": [
    "delays_w_reasons['line'].unique()"
   ]
  },
  {
   "cell_type": "code",
   "execution_count": 21,
   "id": "078e08ff",
   "metadata": {},
   "outputs": [],
   "source": [
    "filter_list = ['999', '36 FINCH WEST', '35 JANE', '52', '41 KEELE']"
   ]
  },
  {
   "cell_type": "code",
   "execution_count": 24,
   "id": "be8faa13",
   "metadata": {},
   "outputs": [],
   "source": [
    "# not\n",
    "# pandas negation operator ~\n",
    "delays_w_reasons = delays_w_reasons.loc[~delays_w_reasons['line'].isin(filter_list)]"
   ]
  },
  {
   "cell_type": "code",
   "execution_count": 25,
   "id": "51487c52",
   "metadata": {},
   "outputs": [
    {
     "data": {
      "text/plain": [
       "array(['YU', 'BD', 'SHP', 'SRT', 'YU/BD', 'YONGE/UNIVERSITY/BLOOR',\n",
       "       'YU / BD', 'YUS', 'SHEP', 'YUS & BD', 'YU & BD LINES', 'YUS/BD'],\n",
       "      dtype=object)"
      ]
     },
     "execution_count": 25,
     "metadata": {},
     "output_type": "execute_result"
    }
   ],
   "source": [
    "delays_w_reasons['line'].unique()"
   ]
  },
  {
   "cell_type": "markdown",
   "id": "b86d6b7c",
   "metadata": {},
   "source": [
    "## Wrangling string data"
   ]
  },
  {
   "cell_type": "code",
   "execution_count": 26,
   "id": "affe569e",
   "metadata": {
    "scrolled": true
   },
   "outputs": [
    {
     "data": {
      "text/plain": [
       "array(['YU', 'BD', 'SHP', 'SRT', 'YU/BD', 'YONGE/UNIVERSITY/BLOOR',\n",
       "       'YU / BD', 'SHEP', 'YU & BD', 'YU & BD LINES'], dtype=object)"
      ]
     },
     "execution_count": 26,
     "metadata": {},
     "output_type": "execute_result"
    }
   ],
   "source": [
    "delays_w_reasons['line'] = delays_w_reasons['line'].str.replace('YUS', 'YU')\n",
    "delays_w_reasons['line'].unique()"
   ]
  },
  {
   "cell_type": "code",
   "execution_count": 27,
   "id": "3d01ef3f",
   "metadata": {},
   "outputs": [],
   "source": [
    "yubd_list = ['YONGE/UNIVERSITY/BLOOR', 'YU / BD', 'YU & BD', 'YU & BD LINES']"
   ]
  },
  {
   "cell_type": "code",
   "execution_count": 29,
   "id": "b7f029d8",
   "metadata": {},
   "outputs": [],
   "source": [
    "# select all the 'cells' with line in the yubd_list and replace w/ 'YU/BD'\n",
    "delays_w_reasons.loc[delays_w_reasons['line'].isin(yubd_list), 'line'] = 'YU/BD'"
   ]
  },
  {
   "cell_type": "code",
   "execution_count": 31,
   "id": "7993b1fa",
   "metadata": {},
   "outputs": [
    {
     "data": {
      "text/plain": [
       "YU       8898\n",
       "BD       5734\n",
       "SHP       657\n",
       "SRT       656\n",
       "YU/BD     367\n",
       "SHEP        1\n",
       "Name: line, dtype: int64"
      ]
     },
     "execution_count": 31,
     "metadata": {},
     "output_type": "execute_result"
    }
   ],
   "source": [
    "delays_w_reasons['line'].value_counts()"
   ]
  },
  {
   "cell_type": "code",
   "execution_count": 32,
   "id": "5743ee65",
   "metadata": {},
   "outputs": [],
   "source": [
    "delays_w_reasons['line'] = delays_w_reasons['line'].str.replace('SHEP', 'SHP')"
   ]
  },
  {
   "cell_type": "code",
   "execution_count": 33,
   "id": "504909ae",
   "metadata": {},
   "outputs": [
    {
     "data": {
      "text/plain": [
       "YU       8898\n",
       "BD       5734\n",
       "SHP       658\n",
       "SRT       656\n",
       "YU/BD     367\n",
       "Name: line, dtype: int64"
      ]
     },
     "execution_count": 33,
     "metadata": {},
     "output_type": "execute_result"
    }
   ],
   "source": [
    "delays_w_reasons['line'].value_counts()"
   ]
  },
  {
   "cell_type": "code",
   "execution_count": 35,
   "id": "3fa9b9e7",
   "metadata": {},
   "outputs": [
    {
     "data": {
      "text/html": [
       "<div>\n",
       "<style scoped>\n",
       "    .dataframe tbody tr th:only-of-type {\n",
       "        vertical-align: middle;\n",
       "    }\n",
       "\n",
       "    .dataframe tbody tr th {\n",
       "        vertical-align: top;\n",
       "    }\n",
       "\n",
       "    .dataframe thead th {\n",
       "        text-align: right;\n",
       "    }\n",
       "</style>\n",
       "<table border=\"1\" class=\"dataframe\">\n",
       "  <thead>\n",
       "    <tr style=\"text-align: right;\">\n",
       "      <th></th>\n",
       "      <th>date</th>\n",
       "      <th>time</th>\n",
       "      <th>day</th>\n",
       "      <th>station</th>\n",
       "      <th>code</th>\n",
       "      <th>min_delay</th>\n",
       "      <th>min_gap</th>\n",
       "      <th>bound</th>\n",
       "      <th>line</th>\n",
       "      <th>vehicle</th>\n",
       "      <th>code_description</th>\n",
       "    </tr>\n",
       "  </thead>\n",
       "  <tbody>\n",
       "    <tr>\n",
       "      <th>0</th>\n",
       "      <td>2021-01-01</td>\n",
       "      <td>00:33</td>\n",
       "      <td>Friday</td>\n",
       "      <td>BLOOR STATION</td>\n",
       "      <td>MUPAA</td>\n",
       "      <td>0</td>\n",
       "      <td>0</td>\n",
       "      <td>N</td>\n",
       "      <td>YU</td>\n",
       "      <td>6046</td>\n",
       "      <td>Passenger Assistance Alarm Activated - No Trou...</td>\n",
       "    </tr>\n",
       "    <tr>\n",
       "      <th>1</th>\n",
       "      <td>2021-01-01</td>\n",
       "      <td>00:39</td>\n",
       "      <td>Friday</td>\n",
       "      <td>SHERBOURNE STATION</td>\n",
       "      <td>EUCO</td>\n",
       "      <td>5</td>\n",
       "      <td>9</td>\n",
       "      <td>E</td>\n",
       "      <td>BD</td>\n",
       "      <td>5250</td>\n",
       "      <td>Couplers</td>\n",
       "    </tr>\n",
       "    <tr>\n",
       "      <th>2</th>\n",
       "      <td>2021-01-01</td>\n",
       "      <td>01:07</td>\n",
       "      <td>Friday</td>\n",
       "      <td>KENNEDY BD STATION</td>\n",
       "      <td>EUCD</td>\n",
       "      <td>5</td>\n",
       "      <td>9</td>\n",
       "      <td>E</td>\n",
       "      <td>BD</td>\n",
       "      <td>5249</td>\n",
       "      <td>Consequential Delay (2nd Delay Same Fault)</td>\n",
       "    </tr>\n",
       "    <tr>\n",
       "      <th>3</th>\n",
       "      <td>2021-01-01</td>\n",
       "      <td>01:41</td>\n",
       "      <td>Friday</td>\n",
       "      <td>ST CLAIR STATION</td>\n",
       "      <td>MUIS</td>\n",
       "      <td>0</td>\n",
       "      <td>0</td>\n",
       "      <td>NaN</td>\n",
       "      <td>YU</td>\n",
       "      <td>0</td>\n",
       "      <td>Injured or ill Customer (In Station) - Transpo...</td>\n",
       "    </tr>\n",
       "    <tr>\n",
       "      <th>4</th>\n",
       "      <td>2021-01-01</td>\n",
       "      <td>02:04</td>\n",
       "      <td>Friday</td>\n",
       "      <td>SHEPPARD WEST STATION</td>\n",
       "      <td>MUIS</td>\n",
       "      <td>0</td>\n",
       "      <td>0</td>\n",
       "      <td>NaN</td>\n",
       "      <td>YU</td>\n",
       "      <td>0</td>\n",
       "      <td>Injured or ill Customer (In Station) - Transpo...</td>\n",
       "    </tr>\n",
       "  </tbody>\n",
       "</table>\n",
       "</div>"
      ],
      "text/plain": [
       "        date   time     day                station   code  min_delay  min_gap  \\\n",
       "0 2021-01-01  00:33  Friday          BLOOR STATION  MUPAA          0        0   \n",
       "1 2021-01-01  00:39  Friday     SHERBOURNE STATION   EUCO          5        9   \n",
       "2 2021-01-01  01:07  Friday     KENNEDY BD STATION   EUCD          5        9   \n",
       "3 2021-01-01  01:41  Friday       ST CLAIR STATION   MUIS          0        0   \n",
       "4 2021-01-01  02:04  Friday  SHEPPARD WEST STATION   MUIS          0        0   \n",
       "\n",
       "  bound line  vehicle                                   code_description  \n",
       "0     N   YU     6046  Passenger Assistance Alarm Activated - No Trou...  \n",
       "1     E   BD     5250                                           Couplers  \n",
       "2     E   BD     5249         Consequential Delay (2nd Delay Same Fault)  \n",
       "3   NaN   YU        0  Injured or ill Customer (In Station) - Transpo...  \n",
       "4   NaN   YU        0  Injured or ill Customer (In Station) - Transpo...  "
      ]
     },
     "execution_count": 35,
     "metadata": {},
     "output_type": "execute_result"
    }
   ],
   "source": [
    "delays_w_reasons.head()"
   ]
  },
  {
   "cell_type": "markdown",
   "id": "1b37bbac",
   "metadata": {},
   "source": [
    "## Creating new columns"
   ]
  },
  {
   "cell_type": "code",
   "execution_count": 36,
   "id": "f052e5e5",
   "metadata": {},
   "outputs": [
    {
     "data": {
      "text/html": [
       "<div>\n",
       "<style scoped>\n",
       "    .dataframe tbody tr th:only-of-type {\n",
       "        vertical-align: middle;\n",
       "    }\n",
       "\n",
       "    .dataframe tbody tr th {\n",
       "        vertical-align: top;\n",
       "    }\n",
       "\n",
       "    .dataframe thead th {\n",
       "        text-align: right;\n",
       "    }\n",
       "</style>\n",
       "<table border=\"1\" class=\"dataframe\">\n",
       "  <thead>\n",
       "    <tr style=\"text-align: right;\">\n",
       "      <th></th>\n",
       "      <th>date</th>\n",
       "      <th>time</th>\n",
       "      <th>day</th>\n",
       "      <th>station</th>\n",
       "      <th>code</th>\n",
       "      <th>min_delay</th>\n",
       "      <th>min_gap</th>\n",
       "      <th>bound</th>\n",
       "      <th>line</th>\n",
       "      <th>vehicle</th>\n",
       "      <th>code_description</th>\n",
       "      <th>year</th>\n",
       "    </tr>\n",
       "  </thead>\n",
       "  <tbody>\n",
       "    <tr>\n",
       "      <th>0</th>\n",
       "      <td>2021-01-01</td>\n",
       "      <td>00:33</td>\n",
       "      <td>Friday</td>\n",
       "      <td>BLOOR STATION</td>\n",
       "      <td>MUPAA</td>\n",
       "      <td>0</td>\n",
       "      <td>0</td>\n",
       "      <td>N</td>\n",
       "      <td>YU</td>\n",
       "      <td>6046</td>\n",
       "      <td>Passenger Assistance Alarm Activated - No Trou...</td>\n",
       "      <td>2021</td>\n",
       "    </tr>\n",
       "    <tr>\n",
       "      <th>1</th>\n",
       "      <td>2021-01-01</td>\n",
       "      <td>00:39</td>\n",
       "      <td>Friday</td>\n",
       "      <td>SHERBOURNE STATION</td>\n",
       "      <td>EUCO</td>\n",
       "      <td>5</td>\n",
       "      <td>9</td>\n",
       "      <td>E</td>\n",
       "      <td>BD</td>\n",
       "      <td>5250</td>\n",
       "      <td>Couplers</td>\n",
       "      <td>2021</td>\n",
       "    </tr>\n",
       "    <tr>\n",
       "      <th>2</th>\n",
       "      <td>2021-01-01</td>\n",
       "      <td>01:07</td>\n",
       "      <td>Friday</td>\n",
       "      <td>KENNEDY BD STATION</td>\n",
       "      <td>EUCD</td>\n",
       "      <td>5</td>\n",
       "      <td>9</td>\n",
       "      <td>E</td>\n",
       "      <td>BD</td>\n",
       "      <td>5249</td>\n",
       "      <td>Consequential Delay (2nd Delay Same Fault)</td>\n",
       "      <td>2021</td>\n",
       "    </tr>\n",
       "    <tr>\n",
       "      <th>3</th>\n",
       "      <td>2021-01-01</td>\n",
       "      <td>01:41</td>\n",
       "      <td>Friday</td>\n",
       "      <td>ST CLAIR STATION</td>\n",
       "      <td>MUIS</td>\n",
       "      <td>0</td>\n",
       "      <td>0</td>\n",
       "      <td>NaN</td>\n",
       "      <td>YU</td>\n",
       "      <td>0</td>\n",
       "      <td>Injured or ill Customer (In Station) - Transpo...</td>\n",
       "      <td>2021</td>\n",
       "    </tr>\n",
       "    <tr>\n",
       "      <th>4</th>\n",
       "      <td>2021-01-01</td>\n",
       "      <td>02:04</td>\n",
       "      <td>Friday</td>\n",
       "      <td>SHEPPARD WEST STATION</td>\n",
       "      <td>MUIS</td>\n",
       "      <td>0</td>\n",
       "      <td>0</td>\n",
       "      <td>NaN</td>\n",
       "      <td>YU</td>\n",
       "      <td>0</td>\n",
       "      <td>Injured or ill Customer (In Station) - Transpo...</td>\n",
       "      <td>2021</td>\n",
       "    </tr>\n",
       "  </tbody>\n",
       "</table>\n",
       "</div>"
      ],
      "text/plain": [
       "        date   time     day                station   code  min_delay  min_gap  \\\n",
       "0 2021-01-01  00:33  Friday          BLOOR STATION  MUPAA          0        0   \n",
       "1 2021-01-01  00:39  Friday     SHERBOURNE STATION   EUCO          5        9   \n",
       "2 2021-01-01  01:07  Friday     KENNEDY BD STATION   EUCD          5        9   \n",
       "3 2021-01-01  01:41  Friday       ST CLAIR STATION   MUIS          0        0   \n",
       "4 2021-01-01  02:04  Friday  SHEPPARD WEST STATION   MUIS          0        0   \n",
       "\n",
       "  bound line  vehicle                                   code_description  year  \n",
       "0     N   YU     6046  Passenger Assistance Alarm Activated - No Trou...  2021  \n",
       "1     E   BD     5250                                           Couplers  2021  \n",
       "2     E   BD     5249         Consequential Delay (2nd Delay Same Fault)  2021  \n",
       "3   NaN   YU        0  Injured or ill Customer (In Station) - Transpo...  2021  \n",
       "4   NaN   YU        0  Injured or ill Customer (In Station) - Transpo...  2021  "
      ]
     },
     "execution_count": 36,
     "metadata": {},
     "output_type": "execute_result"
    }
   ],
   "source": [
    "delays_w_reasons['year'] = 2021\n",
    "delays_w_reasons.head()"
   ]
  },
  {
   "cell_type": "code",
   "execution_count": 40,
   "id": "1e6223de",
   "metadata": {},
   "outputs": [
    {
     "data": {
      "text/plain": [
       "array([ 1,  2,  3,  4,  5,  6,  7,  8,  9, 10, 11, 12], dtype=int64)"
      ]
     },
     "execution_count": 40,
     "metadata": {},
     "output_type": "execute_result"
    }
   ],
   "source": [
    "delays_w_reasons['month'] = delays_w_reasons['date'].dt.month\n",
    "delays_w_reasons['month'].unique()"
   ]
  },
  {
   "cell_type": "code",
   "execution_count": 41,
   "id": "78049baa",
   "metadata": {},
   "outputs": [
    {
     "data": {
      "text/plain": [
       "count    16313.000000\n",
       "mean         3.279225\n",
       "std          9.634782\n",
       "min          0.000000\n",
       "25%          0.000000\n",
       "50%          0.000000\n",
       "75%          4.000000\n",
       "max        348.000000\n",
       "Name: min_delay, dtype: float64"
      ]
     },
     "execution_count": 41,
     "metadata": {},
     "output_type": "execute_result"
    }
   ],
   "source": [
    "delays_w_reasons['min_delay'].describe()"
   ]
  },
  {
   "cell_type": "code",
   "execution_count": 43,
   "id": "555f1e70",
   "metadata": {},
   "outputs": [],
   "source": [
    "# delays <2, 2-5, 5-10, 30\n",
    "delays_w_reasons['delay_level'] = pd.cut(delays_w_reasons['min_delay'],\n",
    "                                         [0, 2, 5, 10, 30, max(delays_w_reasons['min_delay'])+1],\n",
    "                                         right=False,\n",
    "                                         include_lowest=True,\n",
    "                                         ordered=True,\n",
    "                                         labels=['<2 min', '2-5 min', '5-10 min', '10-30 min', '30+ min']\n",
    "                                        )"
   ]
  },
  {
   "cell_type": "code",
   "execution_count": 44,
   "id": "f8260a09",
   "metadata": {},
   "outputs": [
    {
     "data": {
      "text/plain": [
       "<2 min       8937\n",
       "2-5 min      3698\n",
       "5-10 min     2536\n",
       "10-30 min     988\n",
       "30+ min       154\n",
       "Name: delay_level, dtype: int64"
      ]
     },
     "execution_count": 44,
     "metadata": {},
     "output_type": "execute_result"
    }
   ],
   "source": [
    "delays_w_reasons['delay_level'].value_counts()"
   ]
  },
  {
   "cell_type": "code",
   "execution_count": 47,
   "id": "f651d632",
   "metadata": {},
   "outputs": [
    {
     "data": {
      "text/plain": [
       "date                datetime64[ns]\n",
       "time                        object\n",
       "day                         object\n",
       "station                     object\n",
       "code                        object\n",
       "min_delay                    int64\n",
       "min_gap                      int64\n",
       "bound                       object\n",
       "line                        object\n",
       "vehicle                     object\n",
       "code_description            object\n",
       "year                         int64\n",
       "month                        int64\n",
       "delay_level               category\n",
       "dtype: object"
      ]
     },
     "execution_count": 47,
     "metadata": {},
     "output_type": "execute_result"
    }
   ],
   "source": [
    "delays_w_reasons['vehicle'] = delays_w_reasons['vehicle'].astype(str)\n",
    "delays_w_reasons.dtypes"
   ]
  },
  {
   "cell_type": "code",
   "execution_count": 49,
   "id": "c8c608d3",
   "metadata": {},
   "outputs": [],
   "source": [
    "delays_w_reasons['bound'] = delays_w_reasons['bound'].astype('category')"
   ]
  },
  {
   "cell_type": "code",
   "execution_count": 50,
   "id": "b925c600",
   "metadata": {},
   "outputs": [],
   "source": [
    "days = ['Sunday', 'Monday', 'Tuesday', 'Wednesday', 'Thursday', 'Friday', 'Saturday']"
   ]
  },
  {
   "cell_type": "code",
   "execution_count": 51,
   "id": "a1c9b614",
   "metadata": {},
   "outputs": [],
   "source": [
    "day_cat = pd.api.types.CategoricalDtype(categories=days, ordered=True)"
   ]
  },
  {
   "cell_type": "code",
   "execution_count": 52,
   "id": "3d3f2da1",
   "metadata": {},
   "outputs": [
    {
     "data": {
      "text/plain": [
       "0        Friday\n",
       "1        Friday\n",
       "2        Friday\n",
       "3        Friday\n",
       "4        Friday\n",
       "          ...  \n",
       "16365    Friday\n",
       "16366    Friday\n",
       "16367    Friday\n",
       "16368    Friday\n",
       "16369    Friday\n",
       "Name: day, Length: 16313, dtype: category\n",
       "Categories (7, object): ['Sunday' < 'Monday' < 'Tuesday' < 'Wednesday' < 'Thursday' < 'Friday' < 'Saturday']"
      ]
     },
     "execution_count": 52,
     "metadata": {},
     "output_type": "execute_result"
    }
   ],
   "source": [
    "delays_w_reasons['day'] = delays_w_reasons['day'].astype(day_cat)\n",
    "delays_w_reasons['day']"
   ]
  },
  {
   "cell_type": "code",
   "execution_count": 53,
   "id": "1458333a",
   "metadata": {},
   "outputs": [
    {
     "data": {
      "text/html": [
       "<div>\n",
       "<style scoped>\n",
       "    .dataframe tbody tr th:only-of-type {\n",
       "        vertical-align: middle;\n",
       "    }\n",
       "\n",
       "    .dataframe tbody tr th {\n",
       "        vertical-align: top;\n",
       "    }\n",
       "\n",
       "    .dataframe thead th {\n",
       "        text-align: right;\n",
       "    }\n",
       "</style>\n",
       "<table border=\"1\" class=\"dataframe\">\n",
       "  <thead>\n",
       "    <tr style=\"text-align: right;\">\n",
       "      <th></th>\n",
       "      <th>hr_delay</th>\n",
       "      <th>min_delay</th>\n",
       "    </tr>\n",
       "  </thead>\n",
       "  <tbody>\n",
       "    <tr>\n",
       "      <th>count</th>\n",
       "      <td>16313.000000</td>\n",
       "      <td>16313.000000</td>\n",
       "    </tr>\n",
       "    <tr>\n",
       "      <th>mean</th>\n",
       "      <td>0.054654</td>\n",
       "      <td>3.279225</td>\n",
       "    </tr>\n",
       "    <tr>\n",
       "      <th>std</th>\n",
       "      <td>0.160580</td>\n",
       "      <td>9.634782</td>\n",
       "    </tr>\n",
       "    <tr>\n",
       "      <th>min</th>\n",
       "      <td>0.000000</td>\n",
       "      <td>0.000000</td>\n",
       "    </tr>\n",
       "    <tr>\n",
       "      <th>25%</th>\n",
       "      <td>0.000000</td>\n",
       "      <td>0.000000</td>\n",
       "    </tr>\n",
       "    <tr>\n",
       "      <th>50%</th>\n",
       "      <td>0.000000</td>\n",
       "      <td>0.000000</td>\n",
       "    </tr>\n",
       "    <tr>\n",
       "      <th>75%</th>\n",
       "      <td>0.066667</td>\n",
       "      <td>4.000000</td>\n",
       "    </tr>\n",
       "    <tr>\n",
       "      <th>max</th>\n",
       "      <td>5.800000</td>\n",
       "      <td>348.000000</td>\n",
       "    </tr>\n",
       "  </tbody>\n",
       "</table>\n",
       "</div>"
      ],
      "text/plain": [
       "           hr_delay     min_delay\n",
       "count  16313.000000  16313.000000\n",
       "mean       0.054654      3.279225\n",
       "std        0.160580      9.634782\n",
       "min        0.000000      0.000000\n",
       "25%        0.000000      0.000000\n",
       "50%        0.000000      0.000000\n",
       "75%        0.066667      4.000000\n",
       "max        5.800000    348.000000"
      ]
     },
     "execution_count": 53,
     "metadata": {},
     "output_type": "execute_result"
    }
   ],
   "source": [
    "delays_w_reasons['hr_delay'] = delays_w_reasons['min_delay'] / 60\n",
    "delays_w_reasons[['hr_delay', 'min_delay']].describe()"
   ]
  },
  {
   "cell_type": "markdown",
   "id": "c111a8e1",
   "metadata": {},
   "source": [
    "## Grouping and aggregating"
   ]
  },
  {
   "cell_type": "code",
   "execution_count": 65,
   "id": "8c96ecc4",
   "metadata": {},
   "outputs": [],
   "source": [
    "line_grps = delays_w_reasons.groupby('line')"
   ]
  },
  {
   "cell_type": "code",
   "execution_count": 67,
   "id": "8f1a4c02",
   "metadata": {},
   "outputs": [
    {
     "data": {
      "text/plain": [
       "line\n",
       "BD       328.166667\n",
       "SHP       28.583333\n",
       "SRT       57.950000\n",
       "YU       476.866667\n",
       "YU/BD      0.000000\n",
       "Name: hr_delay, dtype: float64"
      ]
     },
     "execution_count": 67,
     "metadata": {},
     "output_type": "execute_result"
    }
   ],
   "source": [
    "line_grps['hr_delay'].sum()"
   ]
  },
  {
   "cell_type": "code",
   "execution_count": 69,
   "id": "8c836fc1",
   "metadata": {},
   "outputs": [
    {
     "data": {
      "text/plain": [
       "Index(['date', 'time', 'day', 'station', 'code', 'min_delay', 'min_gap',\n",
       "       'bound', 'line', 'vehicle', 'code_description', 'year', 'month',\n",
       "       'delay_level', 'hr_delay'],\n",
       "      dtype='object')"
      ]
     },
     "execution_count": 69,
     "metadata": {},
     "output_type": "execute_result"
    }
   ],
   "source": [
    "delays_w_reasons.columns"
   ]
  },
  {
   "cell_type": "code",
   "execution_count": 72,
   "id": "e5205813",
   "metadata": {},
   "outputs": [
    {
     "data": {
      "text/plain": [
       "line\n",
       "BD       5734\n",
       "SHP       658\n",
       "SRT       656\n",
       "YU       8898\n",
       "YU/BD     367\n",
       "dtype: int64"
      ]
     },
     "execution_count": 72,
     "metadata": {},
     "output_type": "execute_result"
    }
   ],
   "source": [
    "line_grps.size()"
   ]
  },
  {
   "cell_type": "code",
   "execution_count": 73,
   "id": "d7435b58",
   "metadata": {},
   "outputs": [],
   "source": [
    "line_code_grps = delays_w_reasons.groupby(['line', 'code_description'])"
   ]
  },
  {
   "cell_type": "code",
   "execution_count": 74,
   "id": "ff7cabc1",
   "metadata": {},
   "outputs": [
    {
     "data": {
      "text/plain": [
       "line   code_description              \n",
       "BD     Air Conditioning                   13\n",
       "       Alternating Current                 2\n",
       "       Assault / Employee Involved        69\n",
       "       Assault / Patron Involved         167\n",
       "       Body                               19\n",
       "                                        ... \n",
       "YU     Work Zone Problems - Signals        5\n",
       "       Work Zone Problems - Track         29\n",
       "       Yard/Carhouse Related Problems     15\n",
       "YU/BD  Mainline Storage                    1\n",
       "       Miscellaneous Other               366\n",
       "Length: 312, dtype: int64"
      ]
     },
     "execution_count": 74,
     "metadata": {},
     "output_type": "execute_result"
    }
   ],
   "source": [
    "line_code_grps.size()"
   ]
  },
  {
   "cell_type": "code",
   "execution_count": 78,
   "id": "f1a73465",
   "metadata": {},
   "outputs": [
    {
     "data": {
      "text/html": [
       "<div>\n",
       "<style scoped>\n",
       "    .dataframe tbody tr th:only-of-type {\n",
       "        vertical-align: middle;\n",
       "    }\n",
       "\n",
       "    .dataframe tbody tr th {\n",
       "        vertical-align: top;\n",
       "    }\n",
       "\n",
       "    .dataframe thead th {\n",
       "        text-align: right;\n",
       "    }\n",
       "</style>\n",
       "<table border=\"1\" class=\"dataframe\">\n",
       "  <thead>\n",
       "    <tr style=\"text-align: right;\">\n",
       "      <th>line</th>\n",
       "      <th>BD</th>\n",
       "      <th>SHP</th>\n",
       "      <th>SRT</th>\n",
       "      <th>YU</th>\n",
       "      <th>YU/BD</th>\n",
       "    </tr>\n",
       "    <tr>\n",
       "      <th>code_description</th>\n",
       "      <th></th>\n",
       "      <th></th>\n",
       "      <th></th>\n",
       "      <th></th>\n",
       "      <th></th>\n",
       "    </tr>\n",
       "  </thead>\n",
       "  <tbody>\n",
       "    <tr>\n",
       "      <th>Body</th>\n",
       "      <td>19.0</td>\n",
       "      <td>3.0</td>\n",
       "      <td>2.0</td>\n",
       "      <td>26.0</td>\n",
       "      <td>NaN</td>\n",
       "    </tr>\n",
       "  </tbody>\n",
       "</table>\n",
       "</div>"
      ],
      "text/plain": [
       "line                BD  SHP  SRT    YU  YU/BD\n",
       "code_description                             \n",
       "Body              19.0  3.0  2.0  26.0    NaN"
      ]
     },
     "execution_count": 78,
     "metadata": {},
     "output_type": "execute_result"
    }
   ],
   "source": [
    "line_code_grps.size().unstack(0).query('code_description == \"Body\"')"
   ]
  },
  {
   "cell_type": "code",
   "execution_count": 81,
   "id": "3466456a",
   "metadata": {},
   "outputs": [],
   "source": [
    "delay_summary = (delays_w_reasons\n",
    "                 .groupby('date')\n",
    "                 .agg(total_delay_min=('min_delay', 'sum'),\n",
    "                      mean_delay_min=('min_delay', 'mean'),\n",
    "                      delay_count=('station', 'count')\n",
    "                     )\n",
    "                )"
   ]
  },
  {
   "cell_type": "code",
   "execution_count": 82,
   "id": "ef945b3c",
   "metadata": {},
   "outputs": [
    {
     "data": {
      "text/html": [
       "<div>\n",
       "<style scoped>\n",
       "    .dataframe tbody tr th:only-of-type {\n",
       "        vertical-align: middle;\n",
       "    }\n",
       "\n",
       "    .dataframe tbody tr th {\n",
       "        vertical-align: top;\n",
       "    }\n",
       "\n",
       "    .dataframe thead th {\n",
       "        text-align: right;\n",
       "    }\n",
       "</style>\n",
       "<table border=\"1\" class=\"dataframe\">\n",
       "  <thead>\n",
       "    <tr style=\"text-align: right;\">\n",
       "      <th></th>\n",
       "      <th>total_delay_min</th>\n",
       "      <th>mean_delay_min</th>\n",
       "      <th>delay_count</th>\n",
       "    </tr>\n",
       "    <tr>\n",
       "      <th>date</th>\n",
       "      <th></th>\n",
       "      <th></th>\n",
       "      <th></th>\n",
       "    </tr>\n",
       "  </thead>\n",
       "  <tbody>\n",
       "    <tr>\n",
       "      <th>2021-01-01</th>\n",
       "      <td>159</td>\n",
       "      <td>4.416667</td>\n",
       "      <td>36</td>\n",
       "    </tr>\n",
       "    <tr>\n",
       "      <th>2021-01-02</th>\n",
       "      <td>284</td>\n",
       "      <td>5.795918</td>\n",
       "      <td>49</td>\n",
       "    </tr>\n",
       "    <tr>\n",
       "      <th>2021-01-03</th>\n",
       "      <td>51</td>\n",
       "      <td>2.684211</td>\n",
       "      <td>19</td>\n",
       "    </tr>\n",
       "    <tr>\n",
       "      <th>2021-01-04</th>\n",
       "      <td>284</td>\n",
       "      <td>6.926829</td>\n",
       "      <td>41</td>\n",
       "    </tr>\n",
       "    <tr>\n",
       "      <th>2021-01-05</th>\n",
       "      <td>298</td>\n",
       "      <td>7.450000</td>\n",
       "      <td>40</td>\n",
       "    </tr>\n",
       "    <tr>\n",
       "      <th>...</th>\n",
       "      <td>...</td>\n",
       "      <td>...</td>\n",
       "      <td>...</td>\n",
       "    </tr>\n",
       "    <tr>\n",
       "      <th>2021-12-27</th>\n",
       "      <td>244</td>\n",
       "      <td>3.588235</td>\n",
       "      <td>68</td>\n",
       "    </tr>\n",
       "    <tr>\n",
       "      <th>2021-12-28</th>\n",
       "      <td>105</td>\n",
       "      <td>1.567164</td>\n",
       "      <td>67</td>\n",
       "    </tr>\n",
       "    <tr>\n",
       "      <th>2021-12-29</th>\n",
       "      <td>124</td>\n",
       "      <td>2.214286</td>\n",
       "      <td>56</td>\n",
       "    </tr>\n",
       "    <tr>\n",
       "      <th>2021-12-30</th>\n",
       "      <td>276</td>\n",
       "      <td>4.119403</td>\n",
       "      <td>67</td>\n",
       "    </tr>\n",
       "    <tr>\n",
       "      <th>2021-12-31</th>\n",
       "      <td>173</td>\n",
       "      <td>2.246753</td>\n",
       "      <td>77</td>\n",
       "    </tr>\n",
       "  </tbody>\n",
       "</table>\n",
       "<p>365 rows × 3 columns</p>\n",
       "</div>"
      ],
      "text/plain": [
       "            total_delay_min  mean_delay_min  delay_count\n",
       "date                                                    \n",
       "2021-01-01              159        4.416667           36\n",
       "2021-01-02              284        5.795918           49\n",
       "2021-01-03               51        2.684211           19\n",
       "2021-01-04              284        6.926829           41\n",
       "2021-01-05              298        7.450000           40\n",
       "...                     ...             ...          ...\n",
       "2021-12-27              244        3.588235           68\n",
       "2021-12-28              105        1.567164           67\n",
       "2021-12-29              124        2.214286           56\n",
       "2021-12-30              276        4.119403           67\n",
       "2021-12-31              173        2.246753           77\n",
       "\n",
       "[365 rows x 3 columns]"
      ]
     },
     "execution_count": 82,
     "metadata": {},
     "output_type": "execute_result"
    }
   ],
   "source": [
    "delay_summary"
   ]
  },
  {
   "cell_type": "markdown",
   "id": "7e69b510",
   "metadata": {},
   "source": [
    "## Window functions and change over periods\n",
    "\n",
    "Windows/periods to not have to be days, or even times at all -- they can simply be the # of rows to shift over/include in a rolling window."
   ]
  },
  {
   "cell_type": "code",
   "execution_count": 83,
   "id": "28aeb7f9",
   "metadata": {},
   "outputs": [
    {
     "data": {
      "text/html": [
       "<div>\n",
       "<style scoped>\n",
       "    .dataframe tbody tr th:only-of-type {\n",
       "        vertical-align: middle;\n",
       "    }\n",
       "\n",
       "    .dataframe tbody tr th {\n",
       "        vertical-align: top;\n",
       "    }\n",
       "\n",
       "    .dataframe thead th {\n",
       "        text-align: right;\n",
       "    }\n",
       "</style>\n",
       "<table border=\"1\" class=\"dataframe\">\n",
       "  <thead>\n",
       "    <tr style=\"text-align: right;\">\n",
       "      <th></th>\n",
       "      <th>total_delay_min</th>\n",
       "      <th>mean_delay_min</th>\n",
       "      <th>delay_count</th>\n",
       "      <th>yesterday_count</th>\n",
       "    </tr>\n",
       "    <tr>\n",
       "      <th>date</th>\n",
       "      <th></th>\n",
       "      <th></th>\n",
       "      <th></th>\n",
       "      <th></th>\n",
       "    </tr>\n",
       "  </thead>\n",
       "  <tbody>\n",
       "    <tr>\n",
       "      <th>2021-01-01</th>\n",
       "      <td>159</td>\n",
       "      <td>4.416667</td>\n",
       "      <td>36</td>\n",
       "      <td>NaN</td>\n",
       "    </tr>\n",
       "    <tr>\n",
       "      <th>2021-01-02</th>\n",
       "      <td>284</td>\n",
       "      <td>5.795918</td>\n",
       "      <td>49</td>\n",
       "      <td>36.0</td>\n",
       "    </tr>\n",
       "    <tr>\n",
       "      <th>2021-01-03</th>\n",
       "      <td>51</td>\n",
       "      <td>2.684211</td>\n",
       "      <td>19</td>\n",
       "      <td>49.0</td>\n",
       "    </tr>\n",
       "    <tr>\n",
       "      <th>2021-01-04</th>\n",
       "      <td>284</td>\n",
       "      <td>6.926829</td>\n",
       "      <td>41</td>\n",
       "      <td>19.0</td>\n",
       "    </tr>\n",
       "    <tr>\n",
       "      <th>2021-01-05</th>\n",
       "      <td>298</td>\n",
       "      <td>7.450000</td>\n",
       "      <td>40</td>\n",
       "      <td>41.0</td>\n",
       "    </tr>\n",
       "    <tr>\n",
       "      <th>...</th>\n",
       "      <td>...</td>\n",
       "      <td>...</td>\n",
       "      <td>...</td>\n",
       "      <td>...</td>\n",
       "    </tr>\n",
       "    <tr>\n",
       "      <th>2021-12-27</th>\n",
       "      <td>244</td>\n",
       "      <td>3.588235</td>\n",
       "      <td>68</td>\n",
       "      <td>47.0</td>\n",
       "    </tr>\n",
       "    <tr>\n",
       "      <th>2021-12-28</th>\n",
       "      <td>105</td>\n",
       "      <td>1.567164</td>\n",
       "      <td>67</td>\n",
       "      <td>68.0</td>\n",
       "    </tr>\n",
       "    <tr>\n",
       "      <th>2021-12-29</th>\n",
       "      <td>124</td>\n",
       "      <td>2.214286</td>\n",
       "      <td>56</td>\n",
       "      <td>67.0</td>\n",
       "    </tr>\n",
       "    <tr>\n",
       "      <th>2021-12-30</th>\n",
       "      <td>276</td>\n",
       "      <td>4.119403</td>\n",
       "      <td>67</td>\n",
       "      <td>56.0</td>\n",
       "    </tr>\n",
       "    <tr>\n",
       "      <th>2021-12-31</th>\n",
       "      <td>173</td>\n",
       "      <td>2.246753</td>\n",
       "      <td>77</td>\n",
       "      <td>67.0</td>\n",
       "    </tr>\n",
       "  </tbody>\n",
       "</table>\n",
       "<p>365 rows × 4 columns</p>\n",
       "</div>"
      ],
      "text/plain": [
       "            total_delay_min  mean_delay_min  delay_count  yesterday_count\n",
       "date                                                                     \n",
       "2021-01-01              159        4.416667           36              NaN\n",
       "2021-01-02              284        5.795918           49             36.0\n",
       "2021-01-03               51        2.684211           19             49.0\n",
       "2021-01-04              284        6.926829           41             19.0\n",
       "2021-01-05              298        7.450000           40             41.0\n",
       "...                     ...             ...          ...              ...\n",
       "2021-12-27              244        3.588235           68             47.0\n",
       "2021-12-28              105        1.567164           67             68.0\n",
       "2021-12-29              124        2.214286           56             67.0\n",
       "2021-12-30              276        4.119403           67             56.0\n",
       "2021-12-31              173        2.246753           77             67.0\n",
       "\n",
       "[365 rows x 4 columns]"
      ]
     },
     "execution_count": 83,
     "metadata": {},
     "output_type": "execute_result"
    }
   ],
   "source": [
    "delay_summary['yesterday_count'] = delay_summary['delay_count'].shift()\n",
    "delay_summary"
   ]
  },
  {
   "cell_type": "code",
   "execution_count": 84,
   "id": "c0cc817a",
   "metadata": {},
   "outputs": [
    {
     "data": {
      "text/html": [
       "<div>\n",
       "<style scoped>\n",
       "    .dataframe tbody tr th:only-of-type {\n",
       "        vertical-align: middle;\n",
       "    }\n",
       "\n",
       "    .dataframe tbody tr th {\n",
       "        vertical-align: top;\n",
       "    }\n",
       "\n",
       "    .dataframe thead th {\n",
       "        text-align: right;\n",
       "    }\n",
       "</style>\n",
       "<table border=\"1\" class=\"dataframe\">\n",
       "  <thead>\n",
       "    <tr style=\"text-align: right;\">\n",
       "      <th></th>\n",
       "      <th>total_delay_min</th>\n",
       "      <th>mean_delay_min</th>\n",
       "      <th>delay_count</th>\n",
       "      <th>yesterday_count</th>\n",
       "      <th>day_chng</th>\n",
       "    </tr>\n",
       "    <tr>\n",
       "      <th>date</th>\n",
       "      <th></th>\n",
       "      <th></th>\n",
       "      <th></th>\n",
       "      <th></th>\n",
       "      <th></th>\n",
       "    </tr>\n",
       "  </thead>\n",
       "  <tbody>\n",
       "    <tr>\n",
       "      <th>2021-01-01</th>\n",
       "      <td>159</td>\n",
       "      <td>4.416667</td>\n",
       "      <td>36</td>\n",
       "      <td>NaN</td>\n",
       "      <td>NaN</td>\n",
       "    </tr>\n",
       "    <tr>\n",
       "      <th>2021-01-02</th>\n",
       "      <td>284</td>\n",
       "      <td>5.795918</td>\n",
       "      <td>49</td>\n",
       "      <td>36.0</td>\n",
       "      <td>13.0</td>\n",
       "    </tr>\n",
       "    <tr>\n",
       "      <th>2021-01-03</th>\n",
       "      <td>51</td>\n",
       "      <td>2.684211</td>\n",
       "      <td>19</td>\n",
       "      <td>49.0</td>\n",
       "      <td>-30.0</td>\n",
       "    </tr>\n",
       "    <tr>\n",
       "      <th>2021-01-04</th>\n",
       "      <td>284</td>\n",
       "      <td>6.926829</td>\n",
       "      <td>41</td>\n",
       "      <td>19.0</td>\n",
       "      <td>22.0</td>\n",
       "    </tr>\n",
       "    <tr>\n",
       "      <th>2021-01-05</th>\n",
       "      <td>298</td>\n",
       "      <td>7.450000</td>\n",
       "      <td>40</td>\n",
       "      <td>41.0</td>\n",
       "      <td>-1.0</td>\n",
       "    </tr>\n",
       "    <tr>\n",
       "      <th>...</th>\n",
       "      <td>...</td>\n",
       "      <td>...</td>\n",
       "      <td>...</td>\n",
       "      <td>...</td>\n",
       "      <td>...</td>\n",
       "    </tr>\n",
       "    <tr>\n",
       "      <th>2021-12-27</th>\n",
       "      <td>244</td>\n",
       "      <td>3.588235</td>\n",
       "      <td>68</td>\n",
       "      <td>47.0</td>\n",
       "      <td>21.0</td>\n",
       "    </tr>\n",
       "    <tr>\n",
       "      <th>2021-12-28</th>\n",
       "      <td>105</td>\n",
       "      <td>1.567164</td>\n",
       "      <td>67</td>\n",
       "      <td>68.0</td>\n",
       "      <td>-1.0</td>\n",
       "    </tr>\n",
       "    <tr>\n",
       "      <th>2021-12-29</th>\n",
       "      <td>124</td>\n",
       "      <td>2.214286</td>\n",
       "      <td>56</td>\n",
       "      <td>67.0</td>\n",
       "      <td>-11.0</td>\n",
       "    </tr>\n",
       "    <tr>\n",
       "      <th>2021-12-30</th>\n",
       "      <td>276</td>\n",
       "      <td>4.119403</td>\n",
       "      <td>67</td>\n",
       "      <td>56.0</td>\n",
       "      <td>11.0</td>\n",
       "    </tr>\n",
       "    <tr>\n",
       "      <th>2021-12-31</th>\n",
       "      <td>173</td>\n",
       "      <td>2.246753</td>\n",
       "      <td>77</td>\n",
       "      <td>67.0</td>\n",
       "      <td>10.0</td>\n",
       "    </tr>\n",
       "  </tbody>\n",
       "</table>\n",
       "<p>365 rows × 5 columns</p>\n",
       "</div>"
      ],
      "text/plain": [
       "            total_delay_min  mean_delay_min  delay_count  yesterday_count  \\\n",
       "date                                                                        \n",
       "2021-01-01              159        4.416667           36              NaN   \n",
       "2021-01-02              284        5.795918           49             36.0   \n",
       "2021-01-03               51        2.684211           19             49.0   \n",
       "2021-01-04              284        6.926829           41             19.0   \n",
       "2021-01-05              298        7.450000           40             41.0   \n",
       "...                     ...             ...          ...              ...   \n",
       "2021-12-27              244        3.588235           68             47.0   \n",
       "2021-12-28              105        1.567164           67             68.0   \n",
       "2021-12-29              124        2.214286           56             67.0   \n",
       "2021-12-30              276        4.119403           67             56.0   \n",
       "2021-12-31              173        2.246753           77             67.0   \n",
       "\n",
       "            day_chng  \n",
       "date                  \n",
       "2021-01-01       NaN  \n",
       "2021-01-02      13.0  \n",
       "2021-01-03     -30.0  \n",
       "2021-01-04      22.0  \n",
       "2021-01-05      -1.0  \n",
       "...              ...  \n",
       "2021-12-27      21.0  \n",
       "2021-12-28      -1.0  \n",
       "2021-12-29     -11.0  \n",
       "2021-12-30      11.0  \n",
       "2021-12-31      10.0  \n",
       "\n",
       "[365 rows x 5 columns]"
      ]
     },
     "execution_count": 84,
     "metadata": {},
     "output_type": "execute_result"
    }
   ],
   "source": [
    "delay_summary['day_chng'] = delay_summary['delay_count'].diff()\n",
    "delay_summary"
   ]
  },
  {
   "cell_type": "code",
   "execution_count": 86,
   "id": "8a24ee18",
   "metadata": {},
   "outputs": [
    {
     "data": {
      "text/html": [
       "<div>\n",
       "<style scoped>\n",
       "    .dataframe tbody tr th:only-of-type {\n",
       "        vertical-align: middle;\n",
       "    }\n",
       "\n",
       "    .dataframe tbody tr th {\n",
       "        vertical-align: top;\n",
       "    }\n",
       "\n",
       "    .dataframe thead th {\n",
       "        text-align: right;\n",
       "    }\n",
       "</style>\n",
       "<table border=\"1\" class=\"dataframe\">\n",
       "  <thead>\n",
       "    <tr style=\"text-align: right;\">\n",
       "      <th></th>\n",
       "      <th>total_delay_min</th>\n",
       "      <th>mean_delay_min</th>\n",
       "      <th>delay_count</th>\n",
       "      <th>yesterday_count</th>\n",
       "      <th>day_chng</th>\n",
       "      <th>week_chng</th>\n",
       "    </tr>\n",
       "    <tr>\n",
       "      <th>date</th>\n",
       "      <th></th>\n",
       "      <th></th>\n",
       "      <th></th>\n",
       "      <th></th>\n",
       "      <th></th>\n",
       "      <th></th>\n",
       "    </tr>\n",
       "  </thead>\n",
       "  <tbody>\n",
       "    <tr>\n",
       "      <th>2021-01-01</th>\n",
       "      <td>159</td>\n",
       "      <td>4.416667</td>\n",
       "      <td>36</td>\n",
       "      <td>NaN</td>\n",
       "      <td>NaN</td>\n",
       "      <td>NaN</td>\n",
       "    </tr>\n",
       "    <tr>\n",
       "      <th>2021-01-02</th>\n",
       "      <td>284</td>\n",
       "      <td>5.795918</td>\n",
       "      <td>49</td>\n",
       "      <td>36.0</td>\n",
       "      <td>13.0</td>\n",
       "      <td>NaN</td>\n",
       "    </tr>\n",
       "    <tr>\n",
       "      <th>2021-01-03</th>\n",
       "      <td>51</td>\n",
       "      <td>2.684211</td>\n",
       "      <td>19</td>\n",
       "      <td>49.0</td>\n",
       "      <td>-30.0</td>\n",
       "      <td>NaN</td>\n",
       "    </tr>\n",
       "    <tr>\n",
       "      <th>2021-01-04</th>\n",
       "      <td>284</td>\n",
       "      <td>6.926829</td>\n",
       "      <td>41</td>\n",
       "      <td>19.0</td>\n",
       "      <td>22.0</td>\n",
       "      <td>NaN</td>\n",
       "    </tr>\n",
       "    <tr>\n",
       "      <th>2021-01-05</th>\n",
       "      <td>298</td>\n",
       "      <td>7.450000</td>\n",
       "      <td>40</td>\n",
       "      <td>41.0</td>\n",
       "      <td>-1.0</td>\n",
       "      <td>NaN</td>\n",
       "    </tr>\n",
       "    <tr>\n",
       "      <th>2021-01-06</th>\n",
       "      <td>104</td>\n",
       "      <td>2.810811</td>\n",
       "      <td>37</td>\n",
       "      <td>40.0</td>\n",
       "      <td>-3.0</td>\n",
       "      <td>NaN</td>\n",
       "    </tr>\n",
       "    <tr>\n",
       "      <th>2021-01-07</th>\n",
       "      <td>157</td>\n",
       "      <td>3.078431</td>\n",
       "      <td>51</td>\n",
       "      <td>37.0</td>\n",
       "      <td>14.0</td>\n",
       "      <td>NaN</td>\n",
       "    </tr>\n",
       "    <tr>\n",
       "      <th>2021-01-08</th>\n",
       "      <td>106</td>\n",
       "      <td>2.208333</td>\n",
       "      <td>48</td>\n",
       "      <td>51.0</td>\n",
       "      <td>-3.0</td>\n",
       "      <td>12.0</td>\n",
       "    </tr>\n",
       "    <tr>\n",
       "      <th>2021-01-09</th>\n",
       "      <td>105</td>\n",
       "      <td>2.500000</td>\n",
       "      <td>42</td>\n",
       "      <td>48.0</td>\n",
       "      <td>-6.0</td>\n",
       "      <td>-7.0</td>\n",
       "    </tr>\n",
       "    <tr>\n",
       "      <th>2021-01-10</th>\n",
       "      <td>290</td>\n",
       "      <td>9.666667</td>\n",
       "      <td>30</td>\n",
       "      <td>42.0</td>\n",
       "      <td>-12.0</td>\n",
       "      <td>11.0</td>\n",
       "    </tr>\n",
       "  </tbody>\n",
       "</table>\n",
       "</div>"
      ],
      "text/plain": [
       "            total_delay_min  mean_delay_min  delay_count  yesterday_count  \\\n",
       "date                                                                        \n",
       "2021-01-01              159        4.416667           36              NaN   \n",
       "2021-01-02              284        5.795918           49             36.0   \n",
       "2021-01-03               51        2.684211           19             49.0   \n",
       "2021-01-04              284        6.926829           41             19.0   \n",
       "2021-01-05              298        7.450000           40             41.0   \n",
       "2021-01-06              104        2.810811           37             40.0   \n",
       "2021-01-07              157        3.078431           51             37.0   \n",
       "2021-01-08              106        2.208333           48             51.0   \n",
       "2021-01-09              105        2.500000           42             48.0   \n",
       "2021-01-10              290        9.666667           30             42.0   \n",
       "\n",
       "            day_chng  week_chng  \n",
       "date                             \n",
       "2021-01-01       NaN        NaN  \n",
       "2021-01-02      13.0        NaN  \n",
       "2021-01-03     -30.0        NaN  \n",
       "2021-01-04      22.0        NaN  \n",
       "2021-01-05      -1.0        NaN  \n",
       "2021-01-06      -3.0        NaN  \n",
       "2021-01-07      14.0        NaN  \n",
       "2021-01-08      -3.0       12.0  \n",
       "2021-01-09      -6.0       -7.0  \n",
       "2021-01-10     -12.0       11.0  "
      ]
     },
     "execution_count": 86,
     "metadata": {},
     "output_type": "execute_result"
    }
   ],
   "source": [
    "delay_summary['week_chng'] = delay_summary['delay_count'].diff(periods=7)\n",
    "delay_summary.head(10)"
   ]
  },
  {
   "cell_type": "code",
   "execution_count": 87,
   "id": "a4720aee",
   "metadata": {},
   "outputs": [
    {
     "data": {
      "text/html": [
       "<div>\n",
       "<style scoped>\n",
       "    .dataframe tbody tr th:only-of-type {\n",
       "        vertical-align: middle;\n",
       "    }\n",
       "\n",
       "    .dataframe tbody tr th {\n",
       "        vertical-align: top;\n",
       "    }\n",
       "\n",
       "    .dataframe thead th {\n",
       "        text-align: right;\n",
       "    }\n",
       "</style>\n",
       "<table border=\"1\" class=\"dataframe\">\n",
       "  <thead>\n",
       "    <tr style=\"text-align: right;\">\n",
       "      <th></th>\n",
       "      <th>total_delay_min</th>\n",
       "      <th>mean_delay_min</th>\n",
       "      <th>delay_count</th>\n",
       "      <th>yesterday_count</th>\n",
       "      <th>day_chng</th>\n",
       "      <th>week_chng</th>\n",
       "      <th>week_chng_pct</th>\n",
       "    </tr>\n",
       "    <tr>\n",
       "      <th>date</th>\n",
       "      <th></th>\n",
       "      <th></th>\n",
       "      <th></th>\n",
       "      <th></th>\n",
       "      <th></th>\n",
       "      <th></th>\n",
       "      <th></th>\n",
       "    </tr>\n",
       "  </thead>\n",
       "  <tbody>\n",
       "    <tr>\n",
       "      <th>2021-01-01</th>\n",
       "      <td>159</td>\n",
       "      <td>4.416667</td>\n",
       "      <td>36</td>\n",
       "      <td>NaN</td>\n",
       "      <td>NaN</td>\n",
       "      <td>NaN</td>\n",
       "      <td>NaN</td>\n",
       "    </tr>\n",
       "    <tr>\n",
       "      <th>2021-01-02</th>\n",
       "      <td>284</td>\n",
       "      <td>5.795918</td>\n",
       "      <td>49</td>\n",
       "      <td>36.0</td>\n",
       "      <td>13.0</td>\n",
       "      <td>NaN</td>\n",
       "      <td>NaN</td>\n",
       "    </tr>\n",
       "    <tr>\n",
       "      <th>2021-01-03</th>\n",
       "      <td>51</td>\n",
       "      <td>2.684211</td>\n",
       "      <td>19</td>\n",
       "      <td>49.0</td>\n",
       "      <td>-30.0</td>\n",
       "      <td>NaN</td>\n",
       "      <td>NaN</td>\n",
       "    </tr>\n",
       "    <tr>\n",
       "      <th>2021-01-04</th>\n",
       "      <td>284</td>\n",
       "      <td>6.926829</td>\n",
       "      <td>41</td>\n",
       "      <td>19.0</td>\n",
       "      <td>22.0</td>\n",
       "      <td>NaN</td>\n",
       "      <td>NaN</td>\n",
       "    </tr>\n",
       "    <tr>\n",
       "      <th>2021-01-05</th>\n",
       "      <td>298</td>\n",
       "      <td>7.450000</td>\n",
       "      <td>40</td>\n",
       "      <td>41.0</td>\n",
       "      <td>-1.0</td>\n",
       "      <td>NaN</td>\n",
       "      <td>NaN</td>\n",
       "    </tr>\n",
       "    <tr>\n",
       "      <th>2021-01-06</th>\n",
       "      <td>104</td>\n",
       "      <td>2.810811</td>\n",
       "      <td>37</td>\n",
       "      <td>40.0</td>\n",
       "      <td>-3.0</td>\n",
       "      <td>NaN</td>\n",
       "      <td>NaN</td>\n",
       "    </tr>\n",
       "    <tr>\n",
       "      <th>2021-01-07</th>\n",
       "      <td>157</td>\n",
       "      <td>3.078431</td>\n",
       "      <td>51</td>\n",
       "      <td>37.0</td>\n",
       "      <td>14.0</td>\n",
       "      <td>NaN</td>\n",
       "      <td>NaN</td>\n",
       "    </tr>\n",
       "    <tr>\n",
       "      <th>2021-01-08</th>\n",
       "      <td>106</td>\n",
       "      <td>2.208333</td>\n",
       "      <td>48</td>\n",
       "      <td>51.0</td>\n",
       "      <td>-3.0</td>\n",
       "      <td>12.0</td>\n",
       "      <td>0.333333</td>\n",
       "    </tr>\n",
       "    <tr>\n",
       "      <th>2021-01-09</th>\n",
       "      <td>105</td>\n",
       "      <td>2.500000</td>\n",
       "      <td>42</td>\n",
       "      <td>48.0</td>\n",
       "      <td>-6.0</td>\n",
       "      <td>-7.0</td>\n",
       "      <td>-0.142857</td>\n",
       "    </tr>\n",
       "    <tr>\n",
       "      <th>2021-01-10</th>\n",
       "      <td>290</td>\n",
       "      <td>9.666667</td>\n",
       "      <td>30</td>\n",
       "      <td>42.0</td>\n",
       "      <td>-12.0</td>\n",
       "      <td>11.0</td>\n",
       "      <td>0.578947</td>\n",
       "    </tr>\n",
       "  </tbody>\n",
       "</table>\n",
       "</div>"
      ],
      "text/plain": [
       "            total_delay_min  mean_delay_min  delay_count  yesterday_count  \\\n",
       "date                                                                        \n",
       "2021-01-01              159        4.416667           36              NaN   \n",
       "2021-01-02              284        5.795918           49             36.0   \n",
       "2021-01-03               51        2.684211           19             49.0   \n",
       "2021-01-04              284        6.926829           41             19.0   \n",
       "2021-01-05              298        7.450000           40             41.0   \n",
       "2021-01-06              104        2.810811           37             40.0   \n",
       "2021-01-07              157        3.078431           51             37.0   \n",
       "2021-01-08              106        2.208333           48             51.0   \n",
       "2021-01-09              105        2.500000           42             48.0   \n",
       "2021-01-10              290        9.666667           30             42.0   \n",
       "\n",
       "            day_chng  week_chng  week_chng_pct  \n",
       "date                                            \n",
       "2021-01-01       NaN        NaN            NaN  \n",
       "2021-01-02      13.0        NaN            NaN  \n",
       "2021-01-03     -30.0        NaN            NaN  \n",
       "2021-01-04      22.0        NaN            NaN  \n",
       "2021-01-05      -1.0        NaN            NaN  \n",
       "2021-01-06      -3.0        NaN            NaN  \n",
       "2021-01-07      14.0        NaN            NaN  \n",
       "2021-01-08      -3.0       12.0       0.333333  \n",
       "2021-01-09      -6.0       -7.0      -0.142857  \n",
       "2021-01-10     -12.0       11.0       0.578947  "
      ]
     },
     "execution_count": 87,
     "metadata": {},
     "output_type": "execute_result"
    }
   ],
   "source": [
    "delay_summary['week_chng_pct'] = delay_summary['delay_count'].pct_change(periods=7)\n",
    "delay_summary.head(10)"
   ]
  },
  {
   "cell_type": "code",
   "execution_count": 91,
   "id": "fde95899",
   "metadata": {},
   "outputs": [],
   "source": [
    "windows = delay_summary.loc[:,'total_delay_min':'delay_count'].rolling(window=3, center=False).mean()"
   ]
  },
  {
   "cell_type": "code",
   "execution_count": 95,
   "id": "1278344f",
   "metadata": {},
   "outputs": [
    {
     "name": "stderr",
     "output_type": "stream",
     "text": [
      "C:\\Users\\unive\\AppData\\Local\\Temp\\ipykernel_27040\\1578090339.py:1: FutureWarning: Dropping of nuisance columns in rolling operations is deprecated; in a future version this will raise TypeError. Select only valid columns before calling the operation. Dropped columns were Index(['bound', 'code', 'code_description', 'date', 'day', 'delay_level',\n",
      "       'line', 'station', 'time'],\n",
      "      dtype='object')\n",
      "  delays_w_reasons.rolling(window=5, center=False).mean()\n"
     ]
    },
    {
     "data": {
      "text/html": [
       "<div>\n",
       "<style scoped>\n",
       "    .dataframe tbody tr th:only-of-type {\n",
       "        vertical-align: middle;\n",
       "    }\n",
       "\n",
       "    .dataframe tbody tr th {\n",
       "        vertical-align: top;\n",
       "    }\n",
       "\n",
       "    .dataframe thead th {\n",
       "        text-align: right;\n",
       "    }\n",
       "</style>\n",
       "<table border=\"1\" class=\"dataframe\">\n",
       "  <thead>\n",
       "    <tr style=\"text-align: right;\">\n",
       "      <th></th>\n",
       "      <th>min_delay</th>\n",
       "      <th>min_gap</th>\n",
       "      <th>vehicle</th>\n",
       "      <th>year</th>\n",
       "      <th>month</th>\n",
       "      <th>hr_delay</th>\n",
       "    </tr>\n",
       "  </thead>\n",
       "  <tbody>\n",
       "    <tr>\n",
       "      <th>0</th>\n",
       "      <td>NaN</td>\n",
       "      <td>NaN</td>\n",
       "      <td>NaN</td>\n",
       "      <td>NaN</td>\n",
       "      <td>NaN</td>\n",
       "      <td>NaN</td>\n",
       "    </tr>\n",
       "    <tr>\n",
       "      <th>1</th>\n",
       "      <td>NaN</td>\n",
       "      <td>NaN</td>\n",
       "      <td>NaN</td>\n",
       "      <td>NaN</td>\n",
       "      <td>NaN</td>\n",
       "      <td>NaN</td>\n",
       "    </tr>\n",
       "    <tr>\n",
       "      <th>2</th>\n",
       "      <td>NaN</td>\n",
       "      <td>NaN</td>\n",
       "      <td>NaN</td>\n",
       "      <td>NaN</td>\n",
       "      <td>NaN</td>\n",
       "      <td>NaN</td>\n",
       "    </tr>\n",
       "    <tr>\n",
       "      <th>3</th>\n",
       "      <td>NaN</td>\n",
       "      <td>NaN</td>\n",
       "      <td>NaN</td>\n",
       "      <td>NaN</td>\n",
       "      <td>NaN</td>\n",
       "      <td>NaN</td>\n",
       "    </tr>\n",
       "    <tr>\n",
       "      <th>4</th>\n",
       "      <td>2.0</td>\n",
       "      <td>3.6</td>\n",
       "      <td>3309.0</td>\n",
       "      <td>2021.0</td>\n",
       "      <td>1.0</td>\n",
       "      <td>0.033333</td>\n",
       "    </tr>\n",
       "    <tr>\n",
       "      <th>...</th>\n",
       "      <td>...</td>\n",
       "      <td>...</td>\n",
       "      <td>...</td>\n",
       "      <td>...</td>\n",
       "      <td>...</td>\n",
       "      <td>...</td>\n",
       "    </tr>\n",
       "    <tr>\n",
       "      <th>16365</th>\n",
       "      <td>0.0</td>\n",
       "      <td>0.0</td>\n",
       "      <td>2221.4</td>\n",
       "      <td>2021.0</td>\n",
       "      <td>12.0</td>\n",
       "      <td>0.000000</td>\n",
       "    </tr>\n",
       "    <tr>\n",
       "      <th>16366</th>\n",
       "      <td>1.0</td>\n",
       "      <td>2.0</td>\n",
       "      <td>3418.0</td>\n",
       "      <td>2021.0</td>\n",
       "      <td>12.0</td>\n",
       "      <td>0.016667</td>\n",
       "    </tr>\n",
       "    <tr>\n",
       "      <th>16367</th>\n",
       "      <td>1.6</td>\n",
       "      <td>3.6</td>\n",
       "      <td>4627.2</td>\n",
       "      <td>2021.0</td>\n",
       "      <td>12.0</td>\n",
       "      <td>0.026667</td>\n",
       "    </tr>\n",
       "    <tr>\n",
       "      <th>16368</th>\n",
       "      <td>1.6</td>\n",
       "      <td>3.6</td>\n",
       "      <td>5734.4</td>\n",
       "      <td>2021.0</td>\n",
       "      <td>12.0</td>\n",
       "      <td>0.026667</td>\n",
       "    </tr>\n",
       "    <tr>\n",
       "      <th>16369</th>\n",
       "      <td>1.6</td>\n",
       "      <td>3.6</td>\n",
       "      <td>5860.4</td>\n",
       "      <td>2021.0</td>\n",
       "      <td>12.0</td>\n",
       "      <td>0.026667</td>\n",
       "    </tr>\n",
       "  </tbody>\n",
       "</table>\n",
       "<p>16313 rows × 6 columns</p>\n",
       "</div>"
      ],
      "text/plain": [
       "       min_delay  min_gap  vehicle    year  month  hr_delay\n",
       "0            NaN      NaN      NaN     NaN    NaN       NaN\n",
       "1            NaN      NaN      NaN     NaN    NaN       NaN\n",
       "2            NaN      NaN      NaN     NaN    NaN       NaN\n",
       "3            NaN      NaN      NaN     NaN    NaN       NaN\n",
       "4            2.0      3.6   3309.0  2021.0    1.0  0.033333\n",
       "...          ...      ...      ...     ...    ...       ...\n",
       "16365        0.0      0.0   2221.4  2021.0   12.0  0.000000\n",
       "16366        1.0      2.0   3418.0  2021.0   12.0  0.016667\n",
       "16367        1.6      3.6   4627.2  2021.0   12.0  0.026667\n",
       "16368        1.6      3.6   5734.4  2021.0   12.0  0.026667\n",
       "16369        1.6      3.6   5860.4  2021.0   12.0  0.026667\n",
       "\n",
       "[16313 rows x 6 columns]"
      ]
     },
     "execution_count": 95,
     "metadata": {},
     "output_type": "execute_result"
    }
   ],
   "source": [
    "delays_w_reasons.rolling(window=5, center=False).mean()"
   ]
  },
  {
   "cell_type": "markdown",
   "id": "80094bfe",
   "metadata": {},
   "source": [
    "## Plotting with `pandas`"
   ]
  },
  {
   "cell_type": "code",
   "execution_count": 96,
   "id": "8ca6785f",
   "metadata": {
    "scrolled": true
   },
   "outputs": [
    {
     "data": {
      "text/plain": [
       "<AxesSubplot:xlabel='date'>"
      ]
     },
     "execution_count": 96,
     "metadata": {},
     "output_type": "execute_result"
    },
    {
     "data": {
      "image/png": "[encoded data removed]",
      "text/plain": [
       "<Figure size 432x288 with 1 Axes>"
      ]
     },
     "metadata": {
      "needs_background": "light"
     },
     "output_type": "display_data"
    }
   ],
   "source": [
    "delay_summary.plot()"
   ]
  },
  {
   "cell_type": "code",
   "execution_count": 97,
   "id": "e353509b",
   "metadata": {},
   "outputs": [
    {
     "data": {
      "text/plain": [
       "array([<AxesSubplot:xlabel='date'>, <AxesSubplot:xlabel='date'>,\n",
       "       <AxesSubplot:xlabel='date'>, <AxesSubplot:xlabel='date'>,\n",
       "       <AxesSubplot:xlabel='date'>, <AxesSubplot:xlabel='date'>,\n",
       "       <AxesSubplot:xlabel='date'>], dtype=object)"
      ]
     },
     "execution_count": 97,
     "metadata": {},
     "output_type": "execute_result"
    },
    {
     "data": {
      "image/png": "[encoded data removed]",
      "text/plain": [
       "<Figure size 432x288 with 7 Axes>"
      ]
     },
     "metadata": {
      "needs_background": "light"
     },
     "output_type": "display_data"
    }
   ],
   "source": [
    "delay_summary.plot(subplots=True)"
   ]
  },
  {
   "cell_type": "code",
   "execution_count": 98,
   "id": "1bdc463c",
   "metadata": {},
   "outputs": [
    {
     "data": {
      "text/plain": [
       "array([<AxesSubplot:xlabel='date'>, <AxesSubplot:xlabel='date'>],\n",
       "      dtype=object)"
      ]
     },
     "execution_count": 98,
     "metadata": {},
     "output_type": "execute_result"
    },
    {
     "data": {
      "image/png": "[encoded data removed]",
      "text/plain": [
       "<Figure size 432x288 with 2 Axes>"
      ]
     },
     "metadata": {
      "needs_background": "light"
     },
     "output_type": "display_data"
    }
   ],
   "source": [
    "delay_summary[['delay_count', 'mean_delay_min']].plot(subplots=True)"
   ]
  },
  {
   "cell_type": "code",
   "execution_count": 101,
   "id": "5daad7c3",
   "metadata": {},
   "outputs": [
    {
     "data": {
      "text/plain": [
       "array([<AxesSubplot:xlabel='date'>, <AxesSubplot:xlabel='date'>],\n",
       "      dtype=object)"
      ]
     },
     "execution_count": 101,
     "metadata": {},
     "output_type": "execute_result"
    },
    {
     "data": {
      "image/png": "[encoded data removed]",
      "text/plain": [
       "<Figure size 432x288 with 2 Axes>"
      ]
     },
     "metadata": {
      "needs_background": "light"
     },
     "output_type": "display_data"
    }
   ],
   "source": [
    "windows[['delay_count', 'mean_delay_min']].plot(subplots=True)"
   ]
  },
  {
   "cell_type": "code",
   "execution_count": 109,
   "id": "486691aa",
   "metadata": {},
   "outputs": [
    {
     "data": {
      "text/plain": [
       "line\n",
       "BD       5734\n",
       "SHP       658\n",
       "SRT       656\n",
       "YU       8898\n",
       "YU/BD     367\n",
       "dtype: int64"
      ]
     },
     "execution_count": 109,
     "metadata": {},
     "output_type": "execute_result"
    }
   ],
   "source": [
    "line_grps.size()"
   ]
  },
  {
   "cell_type": "code",
   "execution_count": 111,
   "id": "36c2429a",
   "metadata": {},
   "outputs": [
    {
     "data": {
      "text/plain": [
       "<AxesSubplot:title={'center':'Delays by Subway Line, 2021'}, xlabel='line'>"
      ]
     },
     "execution_count": 111,
     "metadata": {},
     "output_type": "execute_result"
    },
    {
     "data": {
      "image/png": "[encoded data removed]",
      "text/plain": [
       "<Figure size 432x288 with 1 Axes>"
      ]
     },
     "metadata": {
      "needs_background": "light"
     },
     "output_type": "display_data"
    }
   ],
   "source": [
    "line_grps.size().plot(kind='bar', title='Delays by Subway Line, 2021')"
   ]
  },
  {
   "cell_type": "markdown",
   "id": "0046f2ea",
   "metadata": {},
   "source": [
    "## Creating a column based on values in another column\n",
    "\n",
    "The three code cells below show three ways to create a new column whose values are conditioned on the values in other columns."
   ]
  },
  {
   "cell_type": "code",
   "execution_count": 60,
   "id": "db308467",
   "metadata": {},
   "outputs": [
    {
     "data": {
      "text/html": [
       "<div>\n",
       "<style scoped>\n",
       "    .dataframe tbody tr th:only-of-type {\n",
       "        vertical-align: middle;\n",
       "    }\n",
       "\n",
       "    .dataframe tbody tr th {\n",
       "        vertical-align: top;\n",
       "    }\n",
       "\n",
       "    .dataframe thead th {\n",
       "        text-align: right;\n",
       "    }\n",
       "</style>\n",
       "<table border=\"1\" class=\"dataframe\">\n",
       "  <thead>\n",
       "    <tr style=\"text-align: right;\">\n",
       "      <th></th>\n",
       "      <th>c1</th>\n",
       "      <th>c2</th>\n",
       "      <th>c3</th>\n",
       "      <th>c4</th>\n",
       "      <th>c5</th>\n",
       "      <th>c6</th>\n",
       "    </tr>\n",
       "  </thead>\n",
       "  <tbody>\n",
       "    <tr>\n",
       "      <th>0</th>\n",
       "      <td>0</td>\n",
       "      <td>0</td>\n",
       "      <td>1</td>\n",
       "      <td>0</td>\n",
       "      <td>0</td>\n",
       "      <td>0</td>\n",
       "    </tr>\n",
       "    <tr>\n",
       "      <th>1</th>\n",
       "      <td>0</td>\n",
       "      <td>0</td>\n",
       "      <td>0</td>\n",
       "      <td>0</td>\n",
       "      <td>1</td>\n",
       "      <td>5</td>\n",
       "    </tr>\n",
       "  </tbody>\n",
       "</table>\n",
       "</div>"
      ],
      "text/plain": [
       "   c1  c2  c3  c4  c5  c6\n",
       "0   0   0   1   0   0   0\n",
       "1   0   0   0   0   1   5"
      ]
     },
     "execution_count": 60,
     "metadata": {},
     "output_type": "execute_result"
    }
   ],
   "source": [
    "# create an example data frame\n",
    "demodf = pd.DataFrame({'c1': [0, 0],\n",
    "                       'c2': [0, 0],\n",
    "                       'c3': [1, 0],\n",
    "                       'c4': [0, 0],\n",
    "                       'c5': [0, 1]\n",
    "                      })\n",
    "\n",
    "# if else\n",
    "demodf['c6'] = np.where(demodf['c5'] == 1,  # condition\n",
    "                        5,  # value if true\n",
    "                        0  # value if false\n",
    "                       )\n",
    "\n",
    "demodf"
   ]
  },
  {
   "cell_type": "code",
   "execution_count": 63,
   "id": "c2671171",
   "metadata": {},
   "outputs": [
    {
     "data": {
      "text/html": [
       "<div>\n",
       "<style scoped>\n",
       "    .dataframe tbody tr th:only-of-type {\n",
       "        vertical-align: middle;\n",
       "    }\n",
       "\n",
       "    .dataframe tbody tr th {\n",
       "        vertical-align: top;\n",
       "    }\n",
       "\n",
       "    .dataframe thead th {\n",
       "        text-align: right;\n",
       "    }\n",
       "</style>\n",
       "<table border=\"1\" class=\"dataframe\">\n",
       "  <thead>\n",
       "    <tr style=\"text-align: right;\">\n",
       "      <th></th>\n",
       "      <th>c1</th>\n",
       "      <th>c2</th>\n",
       "      <th>c3</th>\n",
       "      <th>c4</th>\n",
       "      <th>c5</th>\n",
       "      <th>c6</th>\n",
       "      <th>c7</th>\n",
       "    </tr>\n",
       "  </thead>\n",
       "  <tbody>\n",
       "    <tr>\n",
       "      <th>0</th>\n",
       "      <td>0</td>\n",
       "      <td>0</td>\n",
       "      <td>1</td>\n",
       "      <td>0</td>\n",
       "      <td>0</td>\n",
       "      <td>0</td>\n",
       "      <td>3</td>\n",
       "    </tr>\n",
       "    <tr>\n",
       "      <th>1</th>\n",
       "      <td>0</td>\n",
       "      <td>0</td>\n",
       "      <td>0</td>\n",
       "      <td>0</td>\n",
       "      <td>1</td>\n",
       "      <td>5</td>\n",
       "      <td>5</td>\n",
       "    </tr>\n",
       "  </tbody>\n",
       "</table>\n",
       "</div>"
      ],
      "text/plain": [
       "   c1  c2  c3  c4  c5  c6 c7\n",
       "0   0   0   1   0   0   0  3\n",
       "1   0   0   0   0   1   5  5"
      ]
     },
     "execution_count": 63,
     "metadata": {},
     "output_type": "execute_result"
    }
   ],
   "source": [
    "# multiple conditions with np.select()\n",
    "\n",
    "conditions = [demodf['c1'] == 1,\n",
    "              demodf['c2'] == 1,\n",
    "              demodf['c3'] == 1,\n",
    "              demodf['c4'] == 1,\n",
    "              demodf['c5'] == 1\n",
    "             ]\n",
    "\n",
    "results = [1, 2, 3, 4, 5]\n",
    "\n",
    "demodf['c7'] = np.select(conditions,\n",
    "                         results,\n",
    "                         None  # default value if none of the conditions are met\n",
    "                        )\n",
    "demodf"
   ]
  },
  {
   "cell_type": "code",
   "execution_count": 64,
   "id": "64677f9a",
   "metadata": {},
   "outputs": [
    {
     "data": {
      "text/html": [
       "<div>\n",
       "<style scoped>\n",
       "    .dataframe tbody tr th:only-of-type {\n",
       "        vertical-align: middle;\n",
       "    }\n",
       "\n",
       "    .dataframe tbody tr th {\n",
       "        vertical-align: top;\n",
       "    }\n",
       "\n",
       "    .dataframe thead th {\n",
       "        text-align: right;\n",
       "    }\n",
       "</style>\n",
       "<table border=\"1\" class=\"dataframe\">\n",
       "  <thead>\n",
       "    <tr style=\"text-align: right;\">\n",
       "      <th></th>\n",
       "      <th>c1</th>\n",
       "      <th>c2</th>\n",
       "      <th>c3</th>\n",
       "      <th>c4</th>\n",
       "      <th>c5</th>\n",
       "      <th>c6</th>\n",
       "      <th>c7</th>\n",
       "      <th>c8</th>\n",
       "    </tr>\n",
       "  </thead>\n",
       "  <tbody>\n",
       "    <tr>\n",
       "      <th>0</th>\n",
       "      <td>0</td>\n",
       "      <td>0</td>\n",
       "      <td>1</td>\n",
       "      <td>0</td>\n",
       "      <td>0</td>\n",
       "      <td>0</td>\n",
       "      <td>3</td>\n",
       "      <td>3</td>\n",
       "    </tr>\n",
       "    <tr>\n",
       "      <th>1</th>\n",
       "      <td>0</td>\n",
       "      <td>0</td>\n",
       "      <td>0</td>\n",
       "      <td>0</td>\n",
       "      <td>1</td>\n",
       "      <td>5</td>\n",
       "      <td>5</td>\n",
       "      <td>5</td>\n",
       "    </tr>\n",
       "  </tbody>\n",
       "</table>\n",
       "</div>"
      ],
      "text/plain": [
       "   c1  c2  c3  c4  c5  c6 c7  c8\n",
       "0   0   0   1   0   0   0  3   3\n",
       "1   0   0   0   0   1   5  5   5"
      ]
     },
     "execution_count": 64,
     "metadata": {},
     "output_type": "execute_result"
    }
   ],
   "source": [
    "# iterrows() method -- usually slower than np.select()\n",
    "\n",
    "new_column = []\n",
    "\n",
    "for index, row in demodf.iterrows():\n",
    "    if row['c1'] == 1:\n",
    "        new_column.append(1)\n",
    "    if row['c3'] == 1:\n",
    "        new_column.append(3)\n",
    "    if row['c5'] == 1:\n",
    "        new_column.append(5)\n",
    "\n",
    "# add the list as a column\n",
    "demodf['c8'] = new_column\n",
    "demodf"
   ]
  }
 ],
 "metadata": {
  "kernelspec": {
   "display_name": "Python 3 (ipykernel)",
   "language": "python",
   "name": "python3"
  },
  "language_info": {
   "codemirror_mode": {
    "name": "ipython",
    "version": 3
   },
   "file_extension": ".py",
   "mimetype": "text/x-python",
   "name": "python",
   "nbconvert_exporter": "python",
   "pygments_lexer": "ipython3",
   "version": "3.10.4"
  }
 },
 "nbformat": 4,
 "nbformat_minor": 5
}
