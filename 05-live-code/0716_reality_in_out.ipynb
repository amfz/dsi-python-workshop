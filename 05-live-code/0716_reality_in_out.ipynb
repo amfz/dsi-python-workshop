{
 "cells": [
  {
   "cell_type": "markdown",
   "id": "14875b99",
   "metadata": {},
   "source": [
    "# Dealing with Reality: Lists, Iteration\n",
    "## Intro Python\n",
    "\n",
    "16 July 2022"
   ]
  },
  {
   "cell_type": "markdown",
   "id": "69f43921",
   "metadata": {},
   "source": [
    "## Last Session...\n",
    "* **Strings:** `in`, methods (`.upper()`, `.count()`, `.replace()`, `.endswith()`, type conversions\n",
    "* **Logic:** `not`, `and`, `or`\n",
    "* **Conditionals:** Controlling what code runs with `if`, `elif`, `else`\n",
    "* **Lists:** `[]`, methods (`.append()`, `.extend()`, `.insert()`, `.remove()`, `.pop()`, `.index()`, `.clear()`), \n",
    "* **Concepts:** nesting, mutability"
   ]
  },
  {
   "cell_type": "markdown",
   "id": "7731a018",
   "metadata": {},
   "source": [
    "## Questions?"
   ]
  },
  {
   "cell_type": "code",
   "execution_count": 1,
   "id": "e1043eb8",
   "metadata": {},
   "outputs": [
    {
     "data": {
      "text/plain": [
       "['ON',\n",
       " 'BC',\n",
       " 'QC',\n",
       " 'AB',\n",
       " 'MB',\n",
       " 'NL',\n",
       " 'PE',\n",
       " 'NP',\n",
       " 'NS',\n",
       " 'SK',\n",
       " 'Yukon Territories',\n",
       " 'Northwest Territories',\n",
       " 'Nunavut']"
      ]
     },
     "execution_count": 1,
     "metadata": {},
     "output_type": "execute_result"
    }
   ],
   "source": [
    "provinces = ['ON', \n",
    "             'BC', \n",
    "             'QC', \n",
    "             'AB', \n",
    "             'MB', \n",
    "             'NL', \n",
    "             'PE', \n",
    "             'NP', \n",
    "             'NS', \n",
    "             'SK', \n",
    "             'Yukon Territories', \n",
    "             'Northwest Territories', \n",
    "             'Nunavut']\n",
    "provinces"
   ]
  },
  {
   "cell_type": "code",
   "execution_count": 2,
   "id": "82ae628e",
   "metadata": {},
   "outputs": [
    {
     "data": {
      "text/plain": [
       "['AB',\n",
       " 'BC',\n",
       " 'MB',\n",
       " 'NL',\n",
       " 'NP',\n",
       " 'NS',\n",
       " 'Northwest Territories',\n",
       " 'Nunavut',\n",
       " 'ON',\n",
       " 'PE',\n",
       " 'QC',\n",
       " 'SK',\n",
       " 'Yukon Territories']"
      ]
     },
     "execution_count": 2,
     "metadata": {},
     "output_type": "execute_result"
    }
   ],
   "source": [
    "provinces.sort()\n",
    "provinces"
   ]
  },
  {
   "cell_type": "code",
   "execution_count": 3,
   "id": "a2241679",
   "metadata": {},
   "outputs": [],
   "source": [
    "fruits = ['kiwi', 'pear', 'grape', 'melon']"
   ]
  },
  {
   "cell_type": "code",
   "execution_count": 4,
   "id": "72cfe1e8",
   "metadata": {},
   "outputs": [
    {
     "data": {
      "text/plain": [
       "['grape', 'kiwi', 'melon', 'pear']"
      ]
     },
     "execution_count": 4,
     "metadata": {},
     "output_type": "execute_result"
    }
   ],
   "source": [
    "sorted_fruits = sorted(fruits)\n",
    "sorted_fruits"
   ]
  },
  {
   "cell_type": "code",
   "execution_count": 5,
   "id": "9ef01422",
   "metadata": {},
   "outputs": [
    {
     "data": {
      "text/plain": [
       "['AB',\n",
       " 'BC',\n",
       " 'MB',\n",
       " 'NL',\n",
       " 'NP',\n",
       " 'NS',\n",
       " 'ON',\n",
       " 'PE',\n",
       " 'QC',\n",
       " 'SK',\n",
       " 'Nunavut',\n",
       " 'Yukon Territories',\n",
       " 'Northwest Territories']"
      ]
     },
     "execution_count": 5,
     "metadata": {},
     "output_type": "execute_result"
    }
   ],
   "source": [
    "sorted(provinces, key=len)"
   ]
  },
  {
   "cell_type": "code",
   "execution_count": 6,
   "id": "e072d09f",
   "metadata": {},
   "outputs": [],
   "source": [
    "mystery_solvers = [\n",
    "    ['Sherlock', 'Watson'],\n",
    "    ['Poirot'],\n",
    "    ['Scooby', 'Shaggy', 'Fred', 'Velma', 'Daphne']\n",
    "]"
   ]
  },
  {
   "cell_type": "code",
   "execution_count": 7,
   "id": "b606a3d5",
   "metadata": {},
   "outputs": [
    {
     "data": {
      "text/plain": [
       "[['Poirot'],\n",
       " ['Sherlock', 'Watson'],\n",
       " ['Scooby', 'Shaggy', 'Fred', 'Velma', 'Daphne']]"
      ]
     },
     "execution_count": 7,
     "metadata": {},
     "output_type": "execute_result"
    }
   ],
   "source": [
    "sorted(mystery_solvers, key=len)"
   ]
  },
  {
   "cell_type": "code",
   "execution_count": 8,
   "id": "a6f06a43",
   "metadata": {},
   "outputs": [
    {
     "data": {
      "text/plain": [
       "[['Poirot'],\n",
       " ['Scooby', 'Shaggy', 'Fred', 'Velma', 'Daphne'],\n",
       " ['Sherlock', 'Watson']]"
      ]
     },
     "execution_count": 8,
     "metadata": {},
     "output_type": "execute_result"
    }
   ],
   "source": [
    "sorted(mystery_solvers)"
   ]
  },
  {
   "cell_type": "markdown",
   "id": "ba316a71",
   "metadata": {},
   "source": [
    "## `for` loops"
   ]
  },
  {
   "cell_type": "code",
   "execution_count": 9,
   "id": "332e69d8",
   "metadata": {},
   "outputs": [
    {
     "name": "stdout",
     "output_type": "stream",
     "text": [
      "AB\n",
      "BC\n",
      "MB\n",
      "NL\n",
      "NP\n",
      "NS\n",
      "Northwest Territories\n",
      "Nunavut\n",
      "ON\n",
      "PE\n",
      "QC\n",
      "SK\n",
      "Yukon Territories\n"
     ]
    }
   ],
   "source": [
    "for province in provinces:\n",
    "    # do stuff\n",
    "    print(province)"
   ]
  },
  {
   "cell_type": "code",
   "execution_count": 10,
   "id": "1a6dd5c4",
   "metadata": {},
   "outputs": [],
   "source": [
    "scores = [90, 90, 85, 78, 88]"
   ]
  },
  {
   "cell_type": "code",
   "execution_count": 11,
   "id": "4266e385",
   "metadata": {},
   "outputs": [
    {
     "name": "stdout",
     "output_type": "stream",
     "text": [
      "90\n",
      "90\n",
      "85\n",
      "78\n",
      "88\n",
      "There were 2 90+ scores\n"
     ]
    }
   ],
   "source": [
    "count = 0\n",
    "for score in scores:\n",
    "    print(score)\n",
    "    if score >= 90:\n",
    "        count += 1\n",
    "\n",
    "print(f'There were {count} 90+ scores')"
   ]
  },
  {
   "cell_type": "code",
   "execution_count": 12,
   "id": "80f9ea51",
   "metadata": {},
   "outputs": [
    {
     "name": "stdout",
     "output_type": "stream",
     "text": [
      "There were 0 90+ scores\n"
     ]
    }
   ],
   "source": [
    "for score in scores:\n",
    "    count = 0\n",
    "    if score >= 90:\n",
    "        count += 1\n",
    "        \n",
    "print(f'There were {count} 90+ scores')"
   ]
  },
  {
   "cell_type": "code",
   "execution_count": 13,
   "id": "cbd66410",
   "metadata": {},
   "outputs": [
    {
     "name": "stdout",
     "output_type": "stream",
     "text": [
      "0 0\n",
      "1 1\n",
      "2 4\n",
      "3 9\n",
      "4 16\n",
      "5 25\n",
      "6 36\n"
     ]
    }
   ],
   "source": [
    "times = [0, 1, 2, 3, 4, 5, 6]\n",
    "\n",
    "for i in range(7):\n",
    "    print(i, i**2)"
   ]
  },
  {
   "cell_type": "code",
   "execution_count": 14,
   "id": "76028dd6",
   "metadata": {},
   "outputs": [
    {
     "name": "stdout",
     "output_type": "stream",
     "text": [
      "0\n",
      "3\n",
      "6\n",
      "9\n"
     ]
    }
   ],
   "source": [
    "for i in range(0, 12, 3):\n",
    "    print(i)"
   ]
  },
  {
   "cell_type": "code",
   "execution_count": 15,
   "id": "156c0951",
   "metadata": {},
   "outputs": [
    {
     "name": "stdout",
     "output_type": "stream",
     "text": [
      "12\n",
      "9\n",
      "6\n",
      "3\n"
     ]
    }
   ],
   "source": [
    "for i in range(12, 0, -3):\n",
    "    print(i)"
   ]
  },
  {
   "cell_type": "code",
   "execution_count": 16,
   "id": "03a3a17a",
   "metadata": {},
   "outputs": [
    {
     "data": {
      "text/plain": [
       "['processed_data1.xlsx', 'processed_data2.xlsx', 'processed_data3.xlsx']"
      ]
     },
     "execution_count": 16,
     "metadata": {},
     "output_type": "execute_result"
    }
   ],
   "source": [
    "input_files = ['data1.csv', 'data2.csv', 'data3.csv']\n",
    "output_files = []\n",
    "\n",
    "for file in input_files:\n",
    "    output_file_name = 'processed_' + file.replace('.csv', '.xlsx')\n",
    "    output_files.append(output_file_name)\n",
    "    # do more processing\n",
    "    \n",
    "output_files"
   ]
  },
  {
   "cell_type": "code",
   "execution_count": 17,
   "id": "accd6466",
   "metadata": {},
   "outputs": [
    {
     "data": {
      "text/plain": [
       "'data3.csv'"
      ]
     },
     "execution_count": 17,
     "metadata": {},
     "output_type": "execute_result"
    }
   ],
   "source": [
    "data1, data2, data3 = input_files\n",
    "data3"
   ]
  },
  {
   "cell_type": "code",
   "execution_count": 18,
   "id": "0ad65d67",
   "metadata": {},
   "outputs": [
    {
     "name": "stdout",
     "output_type": "stream",
     "text": [
      "Stop 1 is Sheppard-Yonge.\n",
      "Stop 2 is Bayview.\n",
      "Stop 3 is Bessarion.\n",
      "Stop 4 is Leslie.\n",
      "Stop 5 is Don Mills.\n"
     ]
    }
   ],
   "source": [
    "stops = ['Sheppard-Yonge', 'Bayview', 'Bessarion', 'Leslie', 'Don Mills']\n",
    "for index, stop in enumerate(stops):\n",
    "    print(f'Stop {index + 1} is {stop}.')"
   ]
  },
  {
   "cell_type": "code",
   "execution_count": 19,
   "id": "b9098fcd",
   "metadata": {},
   "outputs": [
    {
     "name": "stdout",
     "output_type": "stream",
     "text": [
      "This stop is Sheppard-Yonge. The next stop is Bayview\n",
      "This stop is Bayview. The next stop is Bessarion\n",
      "This stop is Bessarion. The next stop is Leslie\n",
      "This stop is Leslie. The next stop is Don Mills\n"
     ]
    },
    {
     "ename": "IndexError",
     "evalue": "list index out of range",
     "output_type": "error",
     "traceback": [
      "\u001b[1;31m---------------------------------------------------------------------------\u001b[0m",
      "\u001b[1;31mIndexError\u001b[0m                                Traceback (most recent call last)",
      "Input \u001b[1;32mIn [19]\u001b[0m, in \u001b[0;36m<cell line: 1>\u001b[1;34m()\u001b[0m\n\u001b[0;32m      1\u001b[0m \u001b[38;5;28;01mfor\u001b[39;00m index, stop \u001b[38;5;129;01min\u001b[39;00m \u001b[38;5;28menumerate\u001b[39m(stops):\n\u001b[1;32m----> 2\u001b[0m     \u001b[38;5;28mprint\u001b[39m(\u001b[38;5;124mf\u001b[39m\u001b[38;5;124m'\u001b[39m\u001b[38;5;124mThis stop is \u001b[39m\u001b[38;5;132;01m{\u001b[39;00mstop\u001b[38;5;132;01m}\u001b[39;00m\u001b[38;5;124m. The next stop is \u001b[39m\u001b[38;5;132;01m{\u001b[39;00mstops[index\u001b[38;5;241m+\u001b[39m\u001b[38;5;241m1\u001b[39m]\u001b[38;5;132;01m}\u001b[39;00m\u001b[38;5;124m'\u001b[39m)\n",
      "\u001b[1;31mIndexError\u001b[0m: list index out of range"
     ]
    }
   ],
   "source": [
    "for index, stop in enumerate(stops):\n",
    "    print(f'This stop is {stop}. The next stop is {stops[index+1]}')"
   ]
  },
  {
   "cell_type": "code",
   "execution_count": 20,
   "id": "1a9733fb",
   "metadata": {},
   "outputs": [
    {
     "name": "stdout",
     "output_type": "stream",
     "text": [
      "The next stop is: Bayview\n",
      "The next stop is: Bessarion\n",
      "The next stop is: Leslie\n",
      "The next stop is: Don Mills\n"
     ]
    }
   ],
   "source": [
    "for index in range(len(stops)-1):\n",
    "    print(f'The next stop is: {stops[index+1]}')"
   ]
  },
  {
   "cell_type": "code",
   "execution_count": 21,
   "id": "49dec858",
   "metadata": {},
   "outputs": [
    {
     "ename": "ValueError",
     "evalue": "too many values to unpack (expected 2)",
     "output_type": "error",
     "traceback": [
      "\u001b[1;31m---------------------------------------------------------------------------\u001b[0m",
      "\u001b[1;31mValueError\u001b[0m                                Traceback (most recent call last)",
      "Input \u001b[1;32mIn [21]\u001b[0m, in \u001b[0;36m<cell line: 1>\u001b[1;34m()\u001b[0m\n\u001b[1;32m----> 1\u001b[0m \u001b[38;5;28;01mfor\u001b[39;00m index, stop \u001b[38;5;129;01min\u001b[39;00m stops:\n\u001b[0;32m      2\u001b[0m     \u001b[38;5;28mprint\u001b[39m(index)\n\u001b[0;32m      3\u001b[0m     \u001b[38;5;28mprint\u001b[39m(stop)\n",
      "\u001b[1;31mValueError\u001b[0m: too many values to unpack (expected 2)"
     ]
    }
   ],
   "source": [
    "for index, stop in stops:\n",
    "    print(index)\n",
    "    print(stop)"
   ]
  },
  {
   "cell_type": "code",
   "execution_count": 22,
   "id": "0cd65396",
   "metadata": {},
   "outputs": [],
   "source": [
    "scores[0]  = 95"
   ]
  },
  {
   "cell_type": "code",
   "execution_count": 23,
   "id": "7ea93117",
   "metadata": {},
   "outputs": [
    {
     "data": {
      "text/plain": [
       "[97, 92, 87, 80, 90]"
      ]
     },
     "execution_count": 23,
     "metadata": {},
     "output_type": "execute_result"
    }
   ],
   "source": [
    "for index, score in enumerate(scores):\n",
    "    scores[index] = score + 2\n",
    "\n",
    "scores"
   ]
  },
  {
   "cell_type": "code",
   "execution_count": 24,
   "id": "417eaa5f",
   "metadata": {},
   "outputs": [
    {
     "name": "stdout",
     "output_type": "stream",
     "text": [
      "Toronto is at (43.65, -79.38)\n",
      "Montreal is at (45.52, -73.57)\n",
      "Vancouver is at (49.28, -123.13)\n"
     ]
    }
   ],
   "source": [
    "cities = ['Toronto', 'Montreal', 'Vancouver', 'Halifax']\n",
    "lats = [43.65, 45.52, 49.28]\n",
    "lons = [-79.38, -73.57, -123.13]\n",
    "\n",
    "for city, lat, lon in zip(cities, lats, lons):\n",
    "    print(f'{city} is at ({lat}, {lon})')"
   ]
  },
  {
   "cell_type": "code",
   "execution_count": 25,
   "id": "fbe7384f",
   "metadata": {},
   "outputs": [
    {
     "name": "stdout",
     "output_type": "stream",
     "text": [
      "different lens\n"
     ]
    }
   ],
   "source": [
    "if len(cities) == len(lats) == len(lons):\n",
    "    print('can zip')\n",
    "else:\n",
    "    print('different lens')"
   ]
  },
  {
   "cell_type": "markdown",
   "id": "7cef7eac",
   "metadata": {},
   "source": [
    "## Dictionaries"
   ]
  },
  {
   "cell_type": "code",
   "execution_count": 26,
   "id": "c8ac43db",
   "metadata": {},
   "outputs": [
    {
     "data": {
      "text/plain": [
       "{'key': 'value', 'key2': 'value2', 2000: 123}"
      ]
     },
     "execution_count": 26,
     "metadata": {},
     "output_type": "execute_result"
    }
   ],
   "source": [
    "my_dictionary = {'key': 'value',\n",
    "                 'key2': 'value2',\n",
    "                 2000: 123}\n",
    "my_dictionary"
   ]
  },
  {
   "cell_type": "code",
   "execution_count": 27,
   "id": "a2ed690d",
   "metadata": {},
   "outputs": [],
   "source": [
    "cities = {'Toronto': [43.65, -79.38],\n",
    "         'Montreal': [45.52, -73.57],\n",
    "         'Vancouver': [49,.28, -123.13]}"
   ]
  },
  {
   "cell_type": "code",
   "execution_count": 28,
   "id": "298c37c3",
   "metadata": {},
   "outputs": [
    {
     "data": {
      "text/plain": [
       "[45.52, -73.57]"
      ]
     },
     "execution_count": 28,
     "metadata": {},
     "output_type": "execute_result"
    }
   ],
   "source": [
    "cities['Montreal']"
   ]
  },
  {
   "cell_type": "code",
   "execution_count": 29,
   "id": "2bbd2382",
   "metadata": {},
   "outputs": [
    {
     "data": {
      "text/plain": [
       "123"
      ]
     },
     "execution_count": 29,
     "metadata": {},
     "output_type": "execute_result"
    }
   ],
   "source": [
    "my_dictionary[2000]"
   ]
  },
  {
   "cell_type": "code",
   "execution_count": 30,
   "id": "7ff22ef0",
   "metadata": {},
   "outputs": [
    {
     "data": {
      "text/plain": [
       "{2020: 'Tokyo', 2016: 'Rio de Janiero', 2012: 'London'}"
      ]
     },
     "execution_count": 30,
     "metadata": {},
     "output_type": "execute_result"
    }
   ],
   "source": [
    "olympics_hosts = {2020: 'Tokyo', 2016: 'Rio de Janiero', 2012:'London'}\n",
    "olympics_hosts"
   ]
  },
  {
   "cell_type": "code",
   "execution_count": 31,
   "id": "a1e68337",
   "metadata": {},
   "outputs": [
    {
     "data": {
      "text/plain": [
       "'Beijing'"
      ]
     },
     "execution_count": 31,
     "metadata": {},
     "output_type": "execute_result"
    }
   ],
   "source": [
    "olympics_hosts[2008] = 'Beijing'\n",
    "olympics_hosts[2008]"
   ]
  },
  {
   "cell_type": "code",
   "execution_count": 32,
   "id": "ab477194",
   "metadata": {},
   "outputs": [],
   "source": [
    "olympics_hosts[2020] = 'Cancelled'"
   ]
  },
  {
   "cell_type": "code",
   "execution_count": 33,
   "id": "29a0142f",
   "metadata": {},
   "outputs": [
    {
     "data": {
      "text/plain": [
       "False"
      ]
     },
     "execution_count": 33,
     "metadata": {},
     "output_type": "execute_result"
    }
   ],
   "source": [
    "2004 in olympics_hosts"
   ]
  },
  {
   "cell_type": "code",
   "execution_count": 34,
   "id": "4e006426",
   "metadata": {},
   "outputs": [
    {
     "data": {
      "text/plain": [
       "False"
      ]
     },
     "execution_count": 34,
     "metadata": {},
     "output_type": "execute_result"
    }
   ],
   "source": [
    "'Tokyo' in olympics_hosts"
   ]
  },
  {
   "cell_type": "code",
   "execution_count": 35,
   "id": "3e9666d0",
   "metadata": {},
   "outputs": [
    {
     "name": "stdout",
     "output_type": "stream",
     "text": [
      "2020\n",
      "2016\n",
      "2012\n",
      "2008\n"
     ]
    }
   ],
   "source": [
    "for i in olympics_hosts:\n",
    "    print(i)"
   ]
  },
  {
   "cell_type": "code",
   "execution_count": 36,
   "id": "ad2e8f4a",
   "metadata": {},
   "outputs": [
    {
     "name": "stdout",
     "output_type": "stream",
     "text": [
      "Cancelled\n",
      "Rio de Janiero\n",
      "London\n",
      "Beijing\n"
     ]
    }
   ],
   "source": [
    "for value in olympics_hosts.values():\n",
    "    print(value)"
   ]
  },
  {
   "cell_type": "code",
   "execution_count": 37,
   "id": "8449ccc3",
   "metadata": {},
   "outputs": [
    {
     "name": "stdout",
     "output_type": "stream",
     "text": [
      "2020\n",
      "2016\n",
      "2012\n",
      "2008\n"
     ]
    }
   ],
   "source": [
    "for key in olympics_hosts.keys():\n",
    "    print(key)"
   ]
  },
  {
   "cell_type": "code",
   "execution_count": 38,
   "id": "9716e6e1",
   "metadata": {
    "scrolled": true
   },
   "outputs": [
    {
     "name": "stdout",
     "output_type": "stream",
     "text": [
      "Cancelled hosted the 2020 Olympics\n",
      "Rio de Janiero hosted the 2016 Olympics\n",
      "London hosted the 2012 Olympics\n",
      "Beijing hosted the 2008 Olympics\n"
     ]
    }
   ],
   "source": [
    "for key, value in olympics_hosts.items():\n",
    "    print(f'{value} hosted the {key} Olympics')"
   ]
  },
  {
   "cell_type": "code",
   "execution_count": 39,
   "id": "6cc66dbc",
   "metadata": {},
   "outputs": [
    {
     "data": {
      "text/plain": [
       "{2020: 'Cancelled', 2016: 'Rio de Janiero', 2012: 'London', 2008: 'Beijing'}"
      ]
     },
     "execution_count": 39,
     "metadata": {},
     "output_type": "execute_result"
    }
   ],
   "source": [
    "olympics_hosts[2008] = olympics_hosts.get(2008, 'Beijing')\n",
    "olympics_hosts"
   ]
  },
  {
   "cell_type": "code",
   "execution_count": 40,
   "id": "2d6d365d",
   "metadata": {},
   "outputs": [
    {
     "data": {
      "text/plain": [
       "{'summer': {2020: 'Cancelled',\n",
       "  2016: 'Rio de Janiero',\n",
       "  2012: 'London',\n",
       "  2008: 'Beijing'},\n",
       " 'winter': {2022: 'Beijing', 2018: 'Pyeongchang'}}"
      ]
     },
     "execution_count": 40,
     "metadata": {},
     "output_type": "execute_result"
    }
   ],
   "source": [
    "all_olympics = {'summer': olympics_hosts,\n",
    "               'winter': {2022: 'Beijing', 2018: 'Pyeongchang'}}\n",
    "all_olympics"
   ]
  },
  {
   "cell_type": "code",
   "execution_count": 41,
   "id": "d0052562",
   "metadata": {},
   "outputs": [
    {
     "data": {
      "text/plain": [
       "{2022: 'Beijing', 2018: 'Pyeongchang'}"
      ]
     },
     "execution_count": 41,
     "metadata": {},
     "output_type": "execute_result"
    }
   ],
   "source": [
    "all_olympics['winter']"
   ]
  },
  {
   "cell_type": "code",
   "execution_count": 42,
   "id": "f3dbf29d",
   "metadata": {},
   "outputs": [
    {
     "data": {
      "text/plain": [
       "'Pyeongchang'"
      ]
     },
     "execution_count": 42,
     "metadata": {},
     "output_type": "execute_result"
    }
   ],
   "source": [
    "all_olympics['winter'][2018]"
   ]
  },
  {
   "cell_type": "code",
   "execution_count": 43,
   "id": "9d562862",
   "metadata": {},
   "outputs": [
    {
     "data": {
      "text/plain": [
       "'Pyeongchang'"
      ]
     },
     "execution_count": 43,
     "metadata": {},
     "output_type": "execute_result"
    }
   ],
   "source": [
    "# same result as all_olympics['winter'][2018]\n",
    "{2022: 'Beijing', 2018: 'Pyeongchang'}[2018]"
   ]
  },
  {
   "cell_type": "code",
   "execution_count": 44,
   "id": "23a83165",
   "metadata": {},
   "outputs": [
    {
     "data": {
      "text/plain": [
       "'Rio de Janiero'"
      ]
     },
     "execution_count": 44,
     "metadata": {},
     "output_type": "execute_result"
    }
   ],
   "source": [
    "all_olympics['summer'][2016]"
   ]
  },
  {
   "cell_type": "code",
   "execution_count": 45,
   "id": "8a0562bf",
   "metadata": {},
   "outputs": [
    {
     "name": "stdout",
     "output_type": "stream",
     "text": [
      "summer\n",
      "The Summer 2020 Olympics host was Cancelled\n",
      "The Summer 2016 Olympics host was Rio de Janiero\n",
      "The Summer 2012 Olympics host was London\n",
      "The Summer 2008 Olympics host was Beijing\n",
      "winter\n",
      "The Winter 2022 Olympics host was Beijing\n",
      "The Winter 2018 Olympics host was Pyeongchang\n",
      "Pyeongchang\n"
     ]
    }
   ],
   "source": [
    "for season, hosts in all_olympics.items():\n",
    "    print(season)\n",
    "    for year, city in hosts.items():\n",
    "        print(f'The {season.title()} {year} Olympics host was {city}')\n",
    "        \n",
    "print(city)"
   ]
  },
  {
   "cell_type": "code",
   "execution_count": 46,
   "id": "8ea6cfe2",
   "metadata": {},
   "outputs": [
    {
     "data": {
      "text/plain": [
       "{'summer': {2020: 'Cancelled',\n",
       "  2016: 'Rio de Janiero',\n",
       "  2012: 'London',\n",
       "  2008: 'Beijing'},\n",
       " 'winter': {2022: 'Beijing', 2018: 'Pyeongchang'}}"
      ]
     },
     "execution_count": 46,
     "metadata": {},
     "output_type": "execute_result"
    }
   ],
   "source": [
    "all_olympics"
   ]
  },
  {
   "cell_type": "code",
   "execution_count": 47,
   "id": "34ed7475",
   "metadata": {},
   "outputs": [
    {
     "data": {
      "text/plain": [
       "{2020: 'Cancelled', 2016: 'Rio de Janiero', 2012: 'London', 2008: 'Beijing'}"
      ]
     },
     "execution_count": 47,
     "metadata": {},
     "output_type": "execute_result"
    }
   ],
   "source": [
    "olympics_hosts"
   ]
  },
  {
   "cell_type": "code",
   "execution_count": 48,
   "id": "f65971b5",
   "metadata": {},
   "outputs": [
    {
     "data": {
      "text/plain": [
       "{2020: 'Cancelled', 2016: 'Rio de Janiero', 2012: 'London', 2008: 'Beijing'}"
      ]
     },
     "execution_count": 48,
     "metadata": {},
     "output_type": "execute_result"
    }
   ],
   "source": [
    "olympics_hosts[2020] = 'Cancelled'\n",
    "olympics_hosts"
   ]
  },
  {
   "cell_type": "code",
   "execution_count": 49,
   "id": "44aaebb8",
   "metadata": {},
   "outputs": [
    {
     "data": {
      "text/plain": [
       "{'summer': {2020: 'Cancelled',\n",
       "  2016: 'Rio de Janiero',\n",
       "  2012: 'London',\n",
       "  2008: 'Beijing'},\n",
       " 'winter': {2022: 'Beijing', 2018: 'Pyeongchang'}}"
      ]
     },
     "execution_count": 49,
     "metadata": {},
     "output_type": "execute_result"
    }
   ],
   "source": [
    "all_olympics"
   ]
  },
  {
   "cell_type": "code",
   "execution_count": 50,
   "id": "76b6bd36",
   "metadata": {},
   "outputs": [
    {
     "data": {
      "text/plain": [
       "{'Toronto': [43.65, -79.38],\n",
       " 'Montreal': [45.52, -73.57],\n",
       " 'Vancouver': [49, 0.28, -123.13],\n",
       " 'key': 'value',\n",
       " 'key2': 'value2',\n",
       " 2000: 123}"
      ]
     },
     "execution_count": 50,
     "metadata": {},
     "output_type": "execute_result"
    }
   ],
   "source": [
    "cities.update(my_dictionary)\n",
    "cities"
   ]
  },
  {
   "cell_type": "code",
   "execution_count": 51,
   "id": "2343997d",
   "metadata": {},
   "outputs": [
    {
     "data": {
      "text/plain": [
       "{'Toronto': [43.65, -79.38],\n",
       " 'Montreal': [45.52, -73.57],\n",
       " 'Vancouver': [49, 0.28, -123.13],\n",
       " 'key': 'value',\n",
       " 'key2': 'value2',\n",
       " 2000: 'hello'}"
      ]
     },
     "execution_count": 51,
     "metadata": {},
     "output_type": "execute_result"
    }
   ],
   "source": [
    "cities.update({2000: 'hello'})\n",
    "cities"
   ]
  },
  {
   "cell_type": "markdown",
   "id": "4a0ec29b",
   "metadata": {},
   "source": [
    "## `while` loops"
   ]
  },
  {
   "cell_type": "code",
   "execution_count": 52,
   "id": "98ba5a37",
   "metadata": {},
   "outputs": [
    {
     "name": "stdout",
     "output_type": "stream",
     "text": [
      "Toronto\n",
      "Montreal\n",
      "Vancouver\n",
      "key\n",
      "key2\n",
      "2000\n"
     ]
    }
   ],
   "source": [
    "for k in cities.keys():\n",
    "    print(k)"
   ]
  },
  {
   "cell_type": "code",
   "execution_count": 53,
   "id": "8df02731",
   "metadata": {
    "scrolled": true
   },
   "outputs": [
    {
     "name": "stdout",
     "output_type": "stream",
     "text": [
      "True\n",
      "True\n",
      "True\n",
      "False\n",
      "True\n"
     ]
    }
   ],
   "source": [
    "for score in scores:\n",
    "    print(score > 85)"
   ]
  },
  {
   "cell_type": "code",
   "execution_count": 54,
   "id": "d4d6ec0c",
   "metadata": {},
   "outputs": [
    {
     "name": "stdout",
     "output_type": "stream",
     "text": [
      "10\n",
      "9\n",
      "8\n",
      "7\n",
      "6\n",
      "Blastoff\n"
     ]
    }
   ],
   "source": [
    "countdown = 10\n",
    "while countdown > 5:\n",
    "    print(countdown)\n",
    "    countdown -= 1\n",
    "    \n",
    "print('Blastoff')    \n"
   ]
  },
  {
   "cell_type": "code",
   "execution_count": 55,
   "id": "5147e9b2",
   "metadata": {},
   "outputs": [
    {
     "name": "stdout",
     "output_type": "stream",
     "text": [
      "10\n",
      "9\n",
      "8\n",
      "7\n",
      "6\n",
      "blastoff\n"
     ]
    }
   ],
   "source": [
    "countdown = 10\n",
    "while True:\n",
    "    if countdown <= 5:\n",
    "        break\n",
    "    print(countdown)\n",
    "    countdown -= 1\n",
    "\n",
    "print('blastoff')"
   ]
  },
  {
   "cell_type": "code",
   "execution_count": 56,
   "id": "c7304df8",
   "metadata": {},
   "outputs": [
    {
     "name": "stdout",
     "output_type": "stream",
     "text": [
      "1.0\n",
      "1.5\n",
      "-0.3333333333333333\n"
     ]
    }
   ],
   "source": [
    "denominators = [100, 30, 0, -6]\n",
    "numerators = [100, 45, 104, 2]\n",
    "\n",
    "for x, y in zip(numerators, denominators):\n",
    "    if y == 0:\n",
    "        continue\n",
    "        print('divide by zero, moving on')\n",
    "    print(x/y)"
   ]
  },
  {
   "cell_type": "markdown",
   "id": "5a5fc66f",
   "metadata": {},
   "source": [
    "## Tuples"
   ]
  },
  {
   "cell_type": "code",
   "execution_count": 57,
   "id": "75725398",
   "metadata": {},
   "outputs": [],
   "source": [
    "coords = (39.5, -74.3)"
   ]
  },
  {
   "cell_type": "code",
   "execution_count": 58,
   "id": "0076c4c2",
   "metadata": {},
   "outputs": [
    {
     "data": {
      "text/plain": [
       "()"
      ]
     },
     "execution_count": 58,
     "metadata": {},
     "output_type": "execute_result"
    }
   ],
   "source": [
    "tuple()"
   ]
  },
  {
   "cell_type": "code",
   "execution_count": 59,
   "id": "263b2047",
   "metadata": {},
   "outputs": [
    {
     "data": {
      "text/plain": [
       "()"
      ]
     },
     "execution_count": 59,
     "metadata": {},
     "output_type": "execute_result"
    }
   ],
   "source": [
    "()"
   ]
  },
  {
   "cell_type": "code",
   "execution_count": 60,
   "id": "fab089b8",
   "metadata": {},
   "outputs": [
    {
     "data": {
      "text/plain": [
       "(100, 30, 0, -6)"
      ]
     },
     "execution_count": 60,
     "metadata": {},
     "output_type": "execute_result"
    }
   ],
   "source": [
    "tuple(denominators)"
   ]
  },
  {
   "cell_type": "code",
   "execution_count": 61,
   "id": "2bf29dc3",
   "metadata": {},
   "outputs": [
    {
     "ename": "AttributeError",
     "evalue": "'tuple' object has no attribute 'append'",
     "output_type": "error",
     "traceback": [
      "\u001b[1;31m---------------------------------------------------------------------------\u001b[0m",
      "\u001b[1;31mAttributeError\u001b[0m                            Traceback (most recent call last)",
      "Input \u001b[1;32mIn [61]\u001b[0m, in \u001b[0;36m<cell line: 1>\u001b[1;34m()\u001b[0m\n\u001b[1;32m----> 1\u001b[0m \u001b[43mcoords\u001b[49m\u001b[38;5;241;43m.\u001b[39;49m\u001b[43mappend\u001b[49m(\u001b[38;5;241m70\u001b[39m)\n",
      "\u001b[1;31mAttributeError\u001b[0m: 'tuple' object has no attribute 'append'"
     ]
    }
   ],
   "source": [
    "coords.append(70)"
   ]
  },
  {
   "cell_type": "code",
   "execution_count": 62,
   "id": "ecded730",
   "metadata": {},
   "outputs": [
    {
     "data": {
      "text/plain": [
       "39.5"
      ]
     },
     "execution_count": 62,
     "metadata": {},
     "output_type": "execute_result"
    }
   ],
   "source": [
    "lat, lon = coords\n",
    "lat"
   ]
  },
  {
   "cell_type": "code",
   "execution_count": 63,
   "id": "5fc76c8f",
   "metadata": {},
   "outputs": [
    {
     "data": {
      "text/plain": [
       "['AB',\n",
       " 'BC',\n",
       " 'MB',\n",
       " 'NL',\n",
       " 'NP',\n",
       " 'NS',\n",
       " 'Northwest Territories',\n",
       " 'Nunavut',\n",
       " 'ON',\n",
       " 'PE',\n",
       " 'QC',\n",
       " 'SK',\n",
       " 'Yukon Territories']"
      ]
     },
     "execution_count": 63,
     "metadata": {},
     "output_type": "execute_result"
    }
   ],
   "source": [
    "provinces"
   ]
  },
  {
   "cell_type": "code",
   "execution_count": 64,
   "id": "d3537024",
   "metadata": {},
   "outputs": [
    {
     "data": {
      "text/plain": [
       "['AB',\n",
       " 'BC',\n",
       " 'MB',\n",
       " 'NL',\n",
       " 'NP',\n",
       " 'NS',\n",
       " 'Northwest Territories',\n",
       " 'Nunavut',\n",
       " 'ON',\n",
       " 'PE',\n",
       " 'QC',\n",
       " 'SK',\n",
       " 'Yukon Territories',\n",
       " 'SK']"
      ]
     },
     "execution_count": 64,
     "metadata": {},
     "output_type": "execute_result"
    }
   ],
   "source": [
    "provinces.append('SK')\n",
    "provinces"
   ]
  },
  {
   "cell_type": "markdown",
   "id": "72269e3a",
   "metadata": {},
   "source": [
    "## Sets"
   ]
  },
  {
   "cell_type": "code",
   "execution_count": 65,
   "id": "5bc9d950",
   "metadata": {},
   "outputs": [
    {
     "data": {
      "text/plain": [
       "{'AB',\n",
       " 'BC',\n",
       " 'MB',\n",
       " 'NL',\n",
       " 'NP',\n",
       " 'NS',\n",
       " 'Northwest Territories',\n",
       " 'Nunavut',\n",
       " 'ON',\n",
       " 'PE',\n",
       " 'QC',\n",
       " 'SK',\n",
       " 'Yukon Territories'}"
      ]
     },
     "execution_count": 65,
     "metadata": {},
     "output_type": "execute_result"
    }
   ],
   "source": [
    "set(provinces)"
   ]
  },
  {
   "cell_type": "code",
   "execution_count": 66,
   "id": "6a097628",
   "metadata": {},
   "outputs": [
    {
     "data": {
      "text/plain": [
       "dict"
      ]
     },
     "execution_count": 66,
     "metadata": {},
     "output_type": "execute_result"
    }
   ],
   "source": [
    "empty_set = set()\n",
    "mystery_data = {}\n",
    "type(mystery_data)"
   ]
  },
  {
   "cell_type": "code",
   "execution_count": 67,
   "id": "bee2e752",
   "metadata": {},
   "outputs": [
    {
     "data": {
      "text/plain": [
       "set"
      ]
     },
     "execution_count": 67,
     "metadata": {},
     "output_type": "execute_result"
    }
   ],
   "source": [
    "things = {'keys', 'wallet', 'phone'}\n",
    "type(things)"
   ]
  },
  {
   "cell_type": "code",
   "execution_count": 68,
   "id": "d78f3123",
   "metadata": {},
   "outputs": [
    {
     "data": {
      "text/plain": [
       "{'keys', 'phone', 'wallet'}"
      ]
     },
     "execution_count": 68,
     "metadata": {},
     "output_type": "execute_result"
    }
   ],
   "source": [
    "things.add('keys')\n",
    "things"
   ]
  },
  {
   "cell_type": "code",
   "execution_count": 69,
   "id": "12639348",
   "metadata": {},
   "outputs": [
    {
     "data": {
      "text/plain": [
       "{'keys', 'laptop', 'phone', 'wallet'}"
      ]
     },
     "execution_count": 69,
     "metadata": {},
     "output_type": "execute_result"
    }
   ],
   "source": [
    "things.add('laptop')\n",
    "things"
   ]
  },
  {
   "cell_type": "code",
   "execution_count": 70,
   "id": "ba350345",
   "metadata": {},
   "outputs": [
    {
     "data": {
      "text/plain": [
       "{'keys', 'phone', 'wallet'}"
      ]
     },
     "execution_count": 70,
     "metadata": {},
     "output_type": "execute_result"
    }
   ],
   "source": [
    "things.remove('laptop')\n",
    "things"
   ]
  },
  {
   "cell_type": "code",
   "execution_count": 71,
   "id": "44a5b130",
   "metadata": {},
   "outputs": [],
   "source": [
    "rainbow = {'r', 'o', 'y', 'blue'}\n",
    "olympic_flag = {'r', 'g', 'y', 'blue', 'black'}"
   ]
  },
  {
   "cell_type": "code",
   "execution_count": 72,
   "id": "fddc09d8",
   "metadata": {},
   "outputs": [
    {
     "data": {
      "text/plain": [
       "{'o'}"
      ]
     },
     "execution_count": 72,
     "metadata": {},
     "output_type": "execute_result"
    }
   ],
   "source": [
    "rainbow.difference(olympic_flag)"
   ]
  },
  {
   "cell_type": "code",
   "execution_count": 73,
   "id": "7974ed24",
   "metadata": {},
   "outputs": [
    {
     "data": {
      "text/plain": [
       "{'black', 'g'}"
      ]
     },
     "execution_count": 73,
     "metadata": {},
     "output_type": "execute_result"
    }
   ],
   "source": [
    "olympic_flag.difference(rainbow)"
   ]
  },
  {
   "cell_type": "code",
   "execution_count": 74,
   "id": "7cd49d6b",
   "metadata": {},
   "outputs": [
    {
     "data": {
      "text/plain": [
       "{'black', 'g', 'o'}"
      ]
     },
     "execution_count": 74,
     "metadata": {},
     "output_type": "execute_result"
    }
   ],
   "source": [
    "rainbow.symmetric_difference(olympic_flag)"
   ]
  },
  {
   "cell_type": "code",
   "execution_count": 75,
   "id": "d4cce7b3",
   "metadata": {},
   "outputs": [
    {
     "data": {
      "text/plain": [
       "{'blue', 'r', 'y'}"
      ]
     },
     "execution_count": 75,
     "metadata": {},
     "output_type": "execute_result"
    }
   ],
   "source": [
    "rainbow.intersection(olympic_flag)"
   ]
  },
  {
   "cell_type": "code",
   "execution_count": 76,
   "id": "c133f03a",
   "metadata": {},
   "outputs": [
    {
     "data": {
      "text/plain": [
       "{'black', 'blue', 'g', 'o', 'r', 'y'}"
      ]
     },
     "execution_count": 76,
     "metadata": {},
     "output_type": "execute_result"
    }
   ],
   "source": [
    "rainbow.union(olympic_flag)"
   ]
  },
  {
   "cell_type": "code",
   "execution_count": 77,
   "id": "79899dad",
   "metadata": {},
   "outputs": [
    {
     "data": {
      "text/plain": [
       "['blue', 'o', 'r', 'y']"
      ]
     },
     "execution_count": 77,
     "metadata": {},
     "output_type": "execute_result"
    }
   ],
   "source": [
    "sorted(rainbow)"
   ]
  },
  {
   "cell_type": "code",
   "execution_count": 78,
   "id": "a037da33",
   "metadata": {},
   "outputs": [
    {
     "ename": "AttributeError",
     "evalue": "'set' object has no attribute 'sort'",
     "output_type": "error",
     "traceback": [
      "\u001b[1;31m---------------------------------------------------------------------------\u001b[0m",
      "\u001b[1;31mAttributeError\u001b[0m                            Traceback (most recent call last)",
      "Input \u001b[1;32mIn [78]\u001b[0m, in \u001b[0;36m<cell line: 1>\u001b[1;34m()\u001b[0m\n\u001b[1;32m----> 1\u001b[0m \u001b[43mrainbow\u001b[49m\u001b[38;5;241;43m.\u001b[39;49m\u001b[43msort\u001b[49m()\n",
      "\u001b[1;31mAttributeError\u001b[0m: 'set' object has no attribute 'sort'"
     ]
    }
   ],
   "source": [
    "rainbow.sort()"
   ]
  },
  {
   "cell_type": "code",
   "execution_count": 79,
   "id": "a17a95c8",
   "metadata": {},
   "outputs": [
    {
     "name": "stdout",
     "output_type": "stream",
     "text": [
      "o\n",
      "blue\n",
      "y\n",
      "r\n"
     ]
    }
   ],
   "source": [
    "for colour in rainbow:\n",
    "    print(colour)"
   ]
  },
  {
   "cell_type": "markdown",
   "id": "f15a5da1",
   "metadata": {},
   "source": [
    "## Collections: a summary\n",
    "\n",
    "(Adapted from: Table 17, Chapter 11, _Practical Programming: An Introduction to Computer Science Using Python 3.6_)\n",
    "\n",
    "| Collection | Mutable? | Ordered? | Use when...|\n",
    "|---|---|---|---|\n",
    "| `str` | No | Yes | You want to keep track of text. |\n",
    "| `list` | Yes | Yes | You want to keep track of and update an ordered sequence.|\n",
    "| `tuple` | No | Yes | You want to build an ordered sequence that you know won't change or that you want to use as a key in a dictionary or as a value in a set. |\n",
    "| `set` | Yes | No | You want to keep track of values, but order doesn't matter, and you don't want duplicates. The values must be immutable. |\n",
    "| `dict` | Yes | No | You want to keep a mapping of keys to values. The keys must be immutable. |"
   ]
  },
  {
   "cell_type": "markdown",
   "id": "cbb0b0ec",
   "metadata": {},
   "source": [
    "## Modules"
   ]
  },
  {
   "cell_type": "code",
   "execution_count": 80,
   "id": "6e33a239",
   "metadata": {},
   "outputs": [],
   "source": [
    "import math"
   ]
  },
  {
   "cell_type": "code",
   "execution_count": 81,
   "id": "4ca5ce03",
   "metadata": {},
   "outputs": [
    {
     "data": {
      "text/plain": [
       "3.141592653589793"
      ]
     },
     "execution_count": 81,
     "metadata": {},
     "output_type": "execute_result"
    }
   ],
   "source": [
    "math.pi"
   ]
  },
  {
   "cell_type": "code",
   "execution_count": 82,
   "id": "0ed5fe96",
   "metadata": {},
   "outputs": [
    {
     "data": {
      "text/plain": [
       "4"
      ]
     },
     "execution_count": 82,
     "metadata": {},
     "output_type": "execute_result"
    }
   ],
   "source": [
    "math.gcd(45709348, 34908, 2352)"
   ]
  },
  {
   "cell_type": "code",
   "execution_count": 83,
   "id": "166f3bb4",
   "metadata": {},
   "outputs": [
    {
     "ename": "NameError",
     "evalue": "name 'pi' is not defined",
     "output_type": "error",
     "traceback": [
      "\u001b[1;31m---------------------------------------------------------------------------\u001b[0m",
      "\u001b[1;31mNameError\u001b[0m                                 Traceback (most recent call last)",
      "Input \u001b[1;32mIn [83]\u001b[0m, in \u001b[0;36m<cell line: 1>\u001b[1;34m()\u001b[0m\n\u001b[1;32m----> 1\u001b[0m \u001b[43mpi\u001b[49m\n",
      "\u001b[1;31mNameError\u001b[0m: name 'pi' is not defined"
     ]
    }
   ],
   "source": [
    "pi"
   ]
  },
  {
   "cell_type": "code",
   "execution_count": 84,
   "id": "9663f2be",
   "metadata": {},
   "outputs": [
    {
     "ename": "NameError",
     "evalue": "name 'gcd' is not defined",
     "output_type": "error",
     "traceback": [
      "\u001b[1;31m---------------------------------------------------------------------------\u001b[0m",
      "\u001b[1;31mNameError\u001b[0m                                 Traceback (most recent call last)",
      "Input \u001b[1;32mIn [84]\u001b[0m, in \u001b[0;36m<cell line: 1>\u001b[1;34m()\u001b[0m\n\u001b[1;32m----> 1\u001b[0m \u001b[43mgcd\u001b[49m(\u001b[38;5;241m2323\u001b[39m, \u001b[38;5;241m24509809\u001b[39m, \u001b[38;5;241m32\u001b[39m)\n",
      "\u001b[1;31mNameError\u001b[0m: name 'gcd' is not defined"
     ]
    }
   ],
   "source": [
    "gcd(2323, 24509809, 32)"
   ]
  },
  {
   "cell_type": "code",
   "execution_count": 85,
   "id": "98a8e7f0",
   "metadata": {},
   "outputs": [],
   "source": [
    "from datetime import date"
   ]
  },
  {
   "cell_type": "code",
   "execution_count": 86,
   "id": "20036f0e",
   "metadata": {},
   "outputs": [
    {
     "data": {
      "text/plain": [
       "datetime.date(2022, 7, 16)"
      ]
     },
     "execution_count": 86,
     "metadata": {},
     "output_type": "execute_result"
    }
   ],
   "source": [
    "date.today()"
   ]
  },
  {
   "cell_type": "markdown",
   "id": "3acf8507",
   "metadata": {},
   "source": [
    "## Better pattern matching with regular expressions\n",
    "\n",
    "Regular expressions are a mini-language of its own! Python's documentation provides a [guide to regular expression syntax](https://docs.python.org/3/library/re.html#regular-expression-syntax).\n",
    "\n",
    "| Character | Meaning |\n",
    "|---|---|\n",
    "| * | Match zero or more of the RE before |\n",
    "| + | Match one or more of the RE before |\n",
    "| ? | Match zero or one of the RE before |\n",
    "| \\ | Escape character |\n",
    "| \\d | Match any decimal digit |\n",
    "| \\s | Match any whitespace |\n",
    "| \\w | Match any word character (letters, digits, underscore) |\n",
    "| [aeiou] | Match any of the characters in brackets |"
   ]
  },
  {
   "cell_type": "code",
   "execution_count": 87,
   "id": "64b9a8f6",
   "metadata": {},
   "outputs": [],
   "source": [
    "import re"
   ]
  },
  {
   "cell_type": "code",
   "execution_count": 88,
   "id": "75f6eb83",
   "metadata": {},
   "outputs": [],
   "source": [
    "text = 'My favourite thing to do on Saturday morning is program. Programming is fine as long as there are not too many bugs.'"
   ]
  },
  {
   "cell_type": "code",
   "execution_count": 89,
   "id": "b04dcaaa",
   "metadata": {},
   "outputs": [
    {
     "data": {
      "text/plain": [
       "False"
      ]
     },
     "execution_count": 89,
     "metadata": {},
     "output_type": "execute_result"
    }
   ],
   "source": [
    "'favorite' in text"
   ]
  },
  {
   "cell_type": "code",
   "execution_count": 90,
   "id": "2ea1418f",
   "metadata": {},
   "outputs": [
    {
     "data": {
      "text/plain": [
       "<re.Match object; span=(3, 12), match='favourite'>"
      ]
     },
     "execution_count": 90,
     "metadata": {},
     "output_type": "execute_result"
    }
   ],
   "source": [
    "re.search('favou?rite', text)"
   ]
  },
  {
   "cell_type": "code",
   "execution_count": 91,
   "id": "c2f3237e",
   "metadata": {},
   "outputs": [
    {
     "name": "stdout",
     "output_type": "stream",
     "text": [
      "This is about favourites\n"
     ]
    }
   ],
   "source": [
    "if re.search('favou?rite', text):\n",
    "    print('This is about favourites')\n",
    "else:\n",
    "    print('This is about something else')"
   ]
  },
  {
   "cell_type": "code",
   "execution_count": 92,
   "id": "25cc44a0",
   "metadata": {},
   "outputs": [
    {
     "data": {
      "text/plain": [
       "'My favourite thing to do on Saturday morning is garden. gardening is fine as long as there are not too many bugs.'"
      ]
     },
     "execution_count": 92,
     "metadata": {},
     "output_type": "execute_result"
    }
   ],
   "source": [
    "re.sub('program+', 'garden', text, flags=re.I)"
   ]
  },
  {
   "cell_type": "markdown",
   "id": "4808a720",
   "metadata": {},
   "source": [
    "## Navigating folders"
   ]
  },
  {
   "cell_type": "code",
   "execution_count": 93,
   "id": "2f7a6792",
   "metadata": {},
   "outputs": [],
   "source": [
    "import os"
   ]
  },
  {
   "cell_type": "code",
   "execution_count": 94,
   "id": "94c2815d",
   "metadata": {},
   "outputs": [
    {
     "data": {
      "text/plain": [
       "'C:\\\\Users\\\\unive\\\\Documents\\\\GitHub\\\\dsi-python-workshop\\\\05-live-code'"
      ]
     },
     "execution_count": 94,
     "metadata": {},
     "output_type": "execute_result"
    }
   ],
   "source": [
    "os.getcwd()"
   ]
  },
  {
   "cell_type": "code",
   "execution_count": 95,
   "id": "fc85cd5b",
   "metadata": {},
   "outputs": [
    {
     "data": {
      "text/plain": [
       "['.ipynb_checkpoints',\n",
       " '0711_fundamentals.ipynb',\n",
       " '0714_fundamentals_reality.ipynb',\n",
       " '0716_reality_in_out.ipynb',\n",
       " 'provinces.txt',\n",
       " 'readme.md']"
      ]
     },
     "execution_count": 95,
     "metadata": {},
     "output_type": "execute_result"
    }
   ],
   "source": [
    "os.listdir()"
   ]
  },
  {
   "cell_type": "code",
   "execution_count": null,
   "id": "c37db78f",
   "metadata": {},
   "outputs": [],
   "source": [
    "os.listdir('../')\n",
    "\n",
    "#os.listdir('sample_data')  # run if you are using Google Colab"
   ]
  },
  {
   "cell_type": "code",
   "execution_count": 96,
   "id": "bf9992ca",
   "metadata": {},
   "outputs": [
    {
     "data": {
      "text/plain": [
       "['bicycle-thefts - 4326.csv',\n",
       " 'bike_thefts_joined.csv',\n",
       " 'neighbourhood-profiles-2016-140-model.csv',\n",
       " 'neighbourhoods.csv',\n",
       " 'ttc-bus-delay-data-2021.xlsx',\n",
       " 'ttc-streetcar-delay-data-2021.xlsx',\n",
       " 'ttc-subway-delay-codes.xlsx',\n",
       " 'ttc-subway-delay-data-2021.xlsx',\n",
       " 'ttc-subway-delay-data-readme.xlsx']"
      ]
     },
     "execution_count": 96,
     "metadata": {},
     "output_type": "execute_result"
    }
   ],
   "source": [
    "os.listdir('C:\\\\Users\\\\unive\\\\Documents\\\\GitHub\\\\dsi-python-workshop\\\\data')"
   ]
  },
  {
   "cell_type": "code",
   "execution_count": 97,
   "id": "e450e633",
   "metadata": {
    "scrolled": true
   },
   "outputs": [
    {
     "name": "stdout",
     "output_type": "stream",
     "text": [
      "bicycle-thefts - 4326.csv\n",
      "bike_thefts_joined.csv\n",
      "neighbourhood-profiles-2016-140-model.csv\n",
      "neighbourhoods.csv\n",
      "ttc-bus-delay-data-2021.xlsx\n",
      "ttc-streetcar-delay-data-2021.xlsx\n",
      "ttc-subway-delay-codes.xlsx\n",
      "ttc-subway-delay-data-2021.xlsx\n",
      "ttc-subway-delay-data-readme.xlsx\n"
     ]
    }
   ],
   "source": [
    "for file in os.listdir('C:\\\\Users\\\\unive\\\\Documents\\\\GitHub\\\\dsi-python-workshop\\\\data'):\n",
    "    print(file)"
   ]
  },
  {
   "cell_type": "code",
   "execution_count": 98,
   "id": "e2b63214",
   "metadata": {},
   "outputs": [
    {
     "data": {
      "text/plain": [
       "['anscombe.json', 'california_housing_test.csv']"
      ]
     },
     "execution_count": 98,
     "metadata": {},
     "output_type": "execute_result"
    }
   ],
   "source": [
    "os.listdir('../01-slides/sample_data')"
   ]
  },
  {
   "cell_type": "markdown",
   "id": "5b57bb5e",
   "metadata": {},
   "source": [
    "## Reading and writing files"
   ]
  },
  {
   "cell_type": "code",
   "execution_count": null,
   "id": "6dc188cf",
   "metadata": {},
   "outputs": [],
   "source": [
    "# r: read\n",
    "# w: write\n",
    "# a: append\n",
    "with open('../01-slides/sample_data/california_housing_test.csv', 'r') as f:\n",
    "    # prints all 3000 lines of the file\n",
    "    print(f.readlines())\n",
    "    \n",
    "print('We closed the file')"
   ]
  },
  {
   "cell_type": "code",
   "execution_count": 100,
   "id": "79f34c6e",
   "metadata": {},
   "outputs": [
    {
     "data": {
      "text/plain": [
       "['AB',\n",
       " 'BC',\n",
       " 'MB',\n",
       " 'NL',\n",
       " 'NP',\n",
       " 'NS',\n",
       " 'Northwest Territories',\n",
       " 'Nunavut',\n",
       " 'ON',\n",
       " 'PE',\n",
       " 'QC',\n",
       " 'SK',\n",
       " 'Yukon Territories',\n",
       " 'SK']"
      ]
     },
     "execution_count": 100,
     "metadata": {},
     "output_type": "execute_result"
    }
   ],
   "source": [
    "provinces"
   ]
  },
  {
   "cell_type": "code",
   "execution_count": 102,
   "id": "4bf26c7e",
   "metadata": {},
   "outputs": [
    {
     "name": "stdout",
     "output_type": "stream",
     "text": [
      "We wrote to file\n"
     ]
    }
   ],
   "source": [
    "with open('provinces.txt', 'w') as outfile:\n",
    "    #outfile.write(str(provinces))\n",
    "    outfile.writelines(provinces)\n",
    "\n",
    "print('We wrote to file')"
   ]
  },
  {
   "cell_type": "code",
   "execution_count": 103,
   "id": "1f9335ef",
   "metadata": {},
   "outputs": [
    {
     "name": "stdout",
     "output_type": "stream",
     "text": [
      "ABBCMBNLNPNSNorthwest TerritoriesNunavutONPEQCSKYukon TerritoriesSK\n"
     ]
    }
   ],
   "source": [
    "with open('provinces.txt', 'r') as province_file:\n",
    "    print(province_file.read())"
   ]
  },
  {
   "cell_type": "markdown",
   "id": "bac72376",
   "metadata": {},
   "source": [
    "## Object-oriented programming"
   ]
  },
  {
   "cell_type": "code",
   "execution_count": 104,
   "id": "cc988e98",
   "metadata": {},
   "outputs": [],
   "source": [
    "class BasketballPlayer:\n",
    "    # jersey number, team, position\n",
    "    def __init__(self, jersey_number, team, position):\n",
    "        self.jersey_number = jersey_number\n",
    "        self.team = team\n",
    "        self.position = position\n",
    "        \n",
    "    # methods: pass, dribble, shoot\n",
    "    def dribble(self):\n",
    "        print('Dribbling')\n",
    "        \n"
   ]
  },
  {
   "cell_type": "code",
   "execution_count": 105,
   "id": "d9d6da11",
   "metadata": {},
   "outputs": [],
   "source": [
    "player = BasketballPlayer(30, 'Bears', 'centre')"
   ]
  },
  {
   "cell_type": "code",
   "execution_count": 106,
   "id": "e494c903",
   "metadata": {},
   "outputs": [
    {
     "data": {
      "text/plain": [
       "<__main__.BasketballPlayer at 0x1f9d7bed5d0>"
      ]
     },
     "execution_count": 106,
     "metadata": {},
     "output_type": "execute_result"
    }
   ],
   "source": [
    "player"
   ]
  },
  {
   "cell_type": "code",
   "execution_count": 107,
   "id": "041f72f4",
   "metadata": {},
   "outputs": [
    {
     "name": "stdout",
     "output_type": "stream",
     "text": [
      "Dribbling\n"
     ]
    }
   ],
   "source": [
    "player.dribble()"
   ]
  },
  {
   "cell_type": "code",
   "execution_count": 108,
   "id": "3a75004a",
   "metadata": {},
   "outputs": [
    {
     "data": {
      "text/plain": [
       "'Bears'"
      ]
     },
     "execution_count": 108,
     "metadata": {},
     "output_type": "execute_result"
    }
   ],
   "source": [
    "player.team"
   ]
  }
 ],
 "metadata": {
  "kernelspec": {
   "display_name": "Python 3 (ipykernel)",
   "language": "python",
   "name": "python3"
  },
  "language_info": {
   "codemirror_mode": {
    "name": "ipython",
    "version": 3
   },
   "file_extension": ".py",
   "mimetype": "text/x-python",
   "name": "python",
   "nbconvert_exporter": "python",
   "pygments_lexer": "ipython3",
   "version": "3.10.4"
  }
 },
 "nbformat": 4,
 "nbformat_minor": 5
}
