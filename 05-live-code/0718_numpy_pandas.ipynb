{
 "cells": [
  {
   "cell_type": "markdown",
   "id": "84892eb3",
   "metadata": {},
   "source": [
    "# Doing more with data: `numpy`\n",
    "## Intro Python\n",
    "\n",
    "18 July 2022"
   ]
  },
  {
   "cell_type": "markdown",
   "id": "298faca8",
   "metadata": {},
   "source": [
    "## Last Session...\n",
    "* **Lists:** sorting with `.sort()` vs `sorted()`\n",
    "* **Iteration:** `for` and `while` loops, `break` and `continue`\n",
    "* **Dictionaries:** creating, updating, navigating\n",
    "* **More collections:** tuples and sets\n",
    "* **Modules:** a quick tour of built-in modules like `math`, `re`, `datetime`\n",
    "* **Navigating folders** with `os`\n",
    "* **Working with files**: `with open(file_path, 'r') as f:`...\n",
    "* **Concepts:** object-oriented programming"
   ]
  },
  {
   "cell_type": "markdown",
   "id": "8882b83b",
   "metadata": {},
   "source": [
    "## `numpy`"
   ]
  },
  {
   "cell_type": "code",
   "execution_count": 1,
   "id": "5a3eeda0",
   "metadata": {},
   "outputs": [],
   "source": [
    "import numpy as np"
   ]
  },
  {
   "cell_type": "code",
   "execution_count": 2,
   "id": "3639d9c7",
   "metadata": {},
   "outputs": [
    {
     "data": {
      "text/plain": [
       "array([1, 2, 3])"
      ]
     },
     "execution_count": 2,
     "metadata": {},
     "output_type": "execute_result"
    }
   ],
   "source": [
    "a = np.array([1, 2, 3])\n",
    "a"
   ]
  },
  {
   "cell_type": "code",
   "execution_count": 3,
   "id": "768b8aa6",
   "metadata": {},
   "outputs": [
    {
     "data": {
      "text/plain": [
       "array([[1, 2, 3],\n",
       "       [3, 2, 1]])"
      ]
     },
     "execution_count": 3,
     "metadata": {},
     "output_type": "execute_result"
    }
   ],
   "source": [
    "b = np.array([[1, 2, 3],\n",
    "             [3, 2, 1]])\n",
    "b"
   ]
  },
  {
   "cell_type": "code",
   "execution_count": 4,
   "id": "f2f52c0b",
   "metadata": {},
   "outputs": [
    {
     "data": {
      "text/plain": [
       "1"
      ]
     },
     "execution_count": 4,
     "metadata": {},
     "output_type": "execute_result"
    }
   ],
   "source": [
    "a.ndim"
   ]
  },
  {
   "cell_type": "code",
   "execution_count": 5,
   "id": "0fea89f3",
   "metadata": {},
   "outputs": [
    {
     "data": {
      "text/plain": [
       "2"
      ]
     },
     "execution_count": 5,
     "metadata": {},
     "output_type": "execute_result"
    }
   ],
   "source": [
    "b.ndim"
   ]
  },
  {
   "cell_type": "code",
   "execution_count": 6,
   "id": "0b908110",
   "metadata": {},
   "outputs": [
    {
     "data": {
      "text/plain": [
       "(2, 3)"
      ]
     },
     "execution_count": 6,
     "metadata": {},
     "output_type": "execute_result"
    }
   ],
   "source": [
    "b.shape"
   ]
  },
  {
   "cell_type": "code",
   "execution_count": 7,
   "id": "97b48939",
   "metadata": {},
   "outputs": [
    {
     "data": {
      "text/plain": [
       "6"
      ]
     },
     "execution_count": 7,
     "metadata": {},
     "output_type": "execute_result"
    }
   ],
   "source": [
    "b.size"
   ]
  },
  {
   "cell_type": "code",
   "execution_count": 8,
   "id": "4f393961",
   "metadata": {},
   "outputs": [
    {
     "data": {
      "text/plain": [
       "array([[[0., 0., 0.],\n",
       "        [0., 0., 0.],\n",
       "        [0., 0., 0.]],\n",
       "\n",
       "       [[0., 0., 0.],\n",
       "        [0., 0., 0.],\n",
       "        [0., 0., 0.]],\n",
       "\n",
       "       [[0., 0., 0.],\n",
       "        [0., 0., 0.],\n",
       "        [0., 0., 0.]],\n",
       "\n",
       "       [[0., 0., 0.],\n",
       "        [0., 0., 0.],\n",
       "        [0., 0., 0.]]])"
      ]
     },
     "execution_count": 8,
     "metadata": {},
     "output_type": "execute_result"
    }
   ],
   "source": [
    "np.zeros((4, 3, 3))"
   ]
  },
  {
   "cell_type": "code",
   "execution_count": 9,
   "id": "90e631f1",
   "metadata": {},
   "outputs": [
    {
     "ename": "TypeError",
     "evalue": "'float' object cannot be interpreted as an integer",
     "output_type": "error",
     "traceback": [
      "\u001b[1;31m---------------------------------------------------------------------------\u001b[0m",
      "\u001b[1;31mTypeError\u001b[0m                                 Traceback (most recent call last)",
      "Input \u001b[1;32mIn [9]\u001b[0m, in \u001b[0;36m<cell line: 2>\u001b[1;34m()\u001b[0m\n\u001b[0;32m      1\u001b[0m \u001b[38;5;66;03m# we can't do decimal steps with range()\u001b[39;00m\n\u001b[1;32m----> 2\u001b[0m \u001b[38;5;28;43mrange\u001b[39;49m\u001b[43m(\u001b[49m\u001b[38;5;241;43m0\u001b[39;49m\u001b[43m,\u001b[49m\u001b[43m \u001b[49m\u001b[38;5;241;43m1\u001b[39;49m\u001b[43m,\u001b[49m\u001b[43m \u001b[49m\u001b[38;5;241;43m.1\u001b[39;49m\u001b[43m)\u001b[49m\n",
      "\u001b[1;31mTypeError\u001b[0m: 'float' object cannot be interpreted as an integer"
     ]
    }
   ],
   "source": [
    "# we can't do decimal steps with range()\n",
    "range(0, 1, .1)"
   ]
  },
  {
   "cell_type": "code",
   "execution_count": 10,
   "id": "24c43052",
   "metadata": {},
   "outputs": [
    {
     "data": {
      "text/plain": [
       "array([0. , 0.1, 0.2, 0.3, 0.4, 0.5, 0.6, 0.7, 0.8, 0.9])"
      ]
     },
     "execution_count": 10,
     "metadata": {},
     "output_type": "execute_result"
    }
   ],
   "source": [
    "# but we can with np.arange()\n",
    "np.arange(0, 1, .1)"
   ]
  },
  {
   "cell_type": "code",
   "execution_count": 11,
   "id": "e4bab4b0",
   "metadata": {},
   "outputs": [
    {
     "data": {
      "text/plain": [
       "array([[38, 13, 73, 10],\n",
       "       [76,  6, 80, 65],\n",
       "       [17,  2, 77, 72]])"
      ]
     },
     "execution_count": 11,
     "metadata": {},
     "output_type": "execute_result"
    }
   ],
   "source": [
    "np.random.seed(1)\n",
    "np.random.randint(1, 100, (3, 4))"
   ]
  },
  {
   "cell_type": "code",
   "execution_count": 12,
   "id": "63fdbde9",
   "metadata": {},
   "outputs": [
    {
     "data": {
      "text/plain": [
       "array([[111.42052375,  87.41586145,  91.80017919, 111.11284484],\n",
       "       [ 94.23864947, 103.67748832, 100.33375225,  88.63908228],\n",
       "       [ 93.20191937, 101.46173862,  87.57965832,  93.50709786],\n",
       "       [ 80.60680639,  88.98625846, 114.4597452 , 103.690574  ],\n",
       "       [ 98.54728546, 103.60491473, 106.32104309, 103.68025833]])"
      ]
     },
     "execution_count": 12,
     "metadata": {},
     "output_type": "execute_result"
    }
   ],
   "source": [
    "# create a sample generator\n",
    "rng = np.random.default_rng()\n",
    "\n",
    "# use the generator to draw a sample from a normal distribution\n",
    "normal_sample = rng.normal(100,  # mean\n",
    "                           10,  # standard deviation\n",
    "                           (5, 4)  # array rows x cols\n",
    "                          )\n",
    "normal_sample"
   ]
  },
  {
   "cell_type": "code",
   "execution_count": 13,
   "id": "560a8932",
   "metadata": {},
   "outputs": [
    {
     "data": {
      "text/plain": [
       "array([[111.42052375,  87.41586145],\n",
       "       [ 91.80017919, 111.11284484],\n",
       "       [ 94.23864947, 103.67748832],\n",
       "       [100.33375225,  88.63908228],\n",
       "       [ 93.20191937, 101.46173862],\n",
       "       [ 87.57965832,  93.50709786],\n",
       "       [ 80.60680639,  88.98625846],\n",
       "       [114.4597452 , 103.690574  ],\n",
       "       [ 98.54728546, 103.60491473],\n",
       "       [106.32104309, 103.68025833]])"
      ]
     },
     "execution_count": 13,
     "metadata": {},
     "output_type": "execute_result"
    }
   ],
   "source": [
    "normal_sample.reshape(10, 2)"
   ]
  },
  {
   "cell_type": "code",
   "execution_count": 14,
   "id": "fb801663",
   "metadata": {},
   "outputs": [
    {
     "data": {
      "text/plain": [
       "array([[111.42052375,  94.23864947,  93.20191937,  80.60680639,\n",
       "         98.54728546],\n",
       "       [ 87.41586145, 103.67748832, 101.46173862,  88.98625846,\n",
       "        103.60491473],\n",
       "       [ 91.80017919, 100.33375225,  87.57965832, 114.4597452 ,\n",
       "        106.32104309],\n",
       "       [111.11284484,  88.63908228,  93.50709786, 103.690574  ,\n",
       "        103.68025833]])"
      ]
     },
     "execution_count": 14,
     "metadata": {},
     "output_type": "execute_result"
    }
   ],
   "source": [
    "# transpose\n",
    "normal_sample.T"
   ]
  },
  {
   "cell_type": "code",
   "execution_count": 15,
   "id": "8d7c7d17",
   "metadata": {},
   "outputs": [
    {
     "data": {
      "text/plain": [
       "array([111.42052375,  87.41586145,  91.80017919, 111.11284484,\n",
       "        94.23864947, 103.67748832, 100.33375225,  88.63908228,\n",
       "        93.20191937, 101.46173862,  87.57965832,  93.50709786,\n",
       "        80.60680639,  88.98625846, 114.4597452 , 103.690574  ,\n",
       "        98.54728546, 103.60491473, 106.32104309, 103.68025833])"
      ]
     },
     "execution_count": 15,
     "metadata": {},
     "output_type": "execute_result"
    }
   ],
   "source": [
    "normal_sample.flatten()"
   ]
  },
  {
   "cell_type": "code",
   "execution_count": 16,
   "id": "39a964dc",
   "metadata": {},
   "outputs": [
    {
     "data": {
      "text/plain": [
       "array([5, 6, 7, 8])"
      ]
     },
     "execution_count": 16,
     "metadata": {},
     "output_type": "execute_result"
    }
   ],
   "source": [
    "arr1 = np.array([5, 10, 15, 20])\n",
    "arr2 = np.arange(5, 9)\n",
    "\n",
    "arr2"
   ]
  },
  {
   "cell_type": "code",
   "execution_count": 17,
   "id": "4383b8a7",
   "metadata": {},
   "outputs": [
    {
     "data": {
      "text/plain": [
       "array([ 0,  4,  8, 12])"
      ]
     },
     "execution_count": 17,
     "metadata": {},
     "output_type": "execute_result"
    }
   ],
   "source": [
    "arr1 - arr2"
   ]
  },
  {
   "cell_type": "code",
   "execution_count": 18,
   "id": "9164621e",
   "metadata": {},
   "outputs": [
    {
     "data": {
      "text/plain": [
       "array([[ 1,  2,  3,  4],\n",
       "       [ 5,  6,  7,  8],\n",
       "       [ 9, 10, 11, 12],\n",
       "       [13, 14, 15, 16],\n",
       "       [17, 18, 19, 20]])"
      ]
     },
     "execution_count": 18,
     "metadata": {},
     "output_type": "execute_result"
    }
   ],
   "source": [
    "# make a 5x4 matrix\n",
    "rect = np.arange(1, 21).reshape(5, 4)\n",
    "rect"
   ]
  },
  {
   "cell_type": "code",
   "execution_count": 19,
   "id": "d84f8159",
   "metadata": {},
   "outputs": [
    {
     "data": {
      "text/plain": [
       "array([[110.42052375,  85.41586145,  88.80017919, 107.11284484],\n",
       "       [ 89.23864947,  97.67748832,  93.33375225,  80.63908228],\n",
       "       [ 84.20191937,  91.46173862,  76.57965832,  81.50709786],\n",
       "       [ 67.60680639,  74.98625846,  99.4597452 ,  87.690574  ],\n",
       "       [ 81.54728546,  85.60491473,  87.32104309,  83.68025833]])"
      ]
     },
     "execution_count": 19,
     "metadata": {},
     "output_type": "execute_result"
    }
   ],
   "source": [
    "normal_sample - rect"
   ]
  },
  {
   "cell_type": "code",
   "execution_count": 20,
   "id": "ffd53248",
   "metadata": {},
   "outputs": [
    {
     "data": {
      "text/plain": [
       "array([[ 2,  4,  6,  8],\n",
       "       [10, 12, 14, 16],\n",
       "       [18, 20, 22, 24],\n",
       "       [26, 28, 30, 32],\n",
       "       [34, 36, 38, 40]])"
      ]
     },
     "execution_count": 20,
     "metadata": {},
     "output_type": "execute_result"
    }
   ],
   "source": [
    "rect * 2"
   ]
  },
  {
   "cell_type": "code",
   "execution_count": 21,
   "id": "75fbaf50",
   "metadata": {},
   "outputs": [
    {
     "ename": "ValueError",
     "evalue": "operands could not be broadcast together with shapes (5,4) (2,) ",
     "output_type": "error",
     "traceback": [
      "\u001b[1;31m---------------------------------------------------------------------------\u001b[0m",
      "\u001b[1;31mValueError\u001b[0m                                Traceback (most recent call last)",
      "Input \u001b[1;32mIn [21]\u001b[0m, in \u001b[0;36m<cell line: 1>\u001b[1;34m()\u001b[0m\n\u001b[1;32m----> 1\u001b[0m \u001b[43mrect\u001b[49m\u001b[43m \u001b[49m\u001b[38;5;241;43m+\u001b[39;49m\u001b[43m \u001b[49m\u001b[43mnp\u001b[49m\u001b[38;5;241;43m.\u001b[39;49m\u001b[43marray\u001b[49m\u001b[43m(\u001b[49m\u001b[43m[\u001b[49m\u001b[38;5;241;43m1\u001b[39;49m\u001b[43m,\u001b[49m\u001b[43m \u001b[49m\u001b[38;5;241;43m2\u001b[39;49m\u001b[43m]\u001b[49m\u001b[43m)\u001b[49m\n",
      "\u001b[1;31mValueError\u001b[0m: operands could not be broadcast together with shapes (5,4) (2,) "
     ]
    }
   ],
   "source": [
    "rect + np.array([1, 2])"
   ]
  },
  {
   "cell_type": "code",
   "execution_count": 22,
   "id": "7bda6fbb",
   "metadata": {},
   "outputs": [
    {
     "data": {
      "text/plain": [
       "12.5"
      ]
     },
     "execution_count": 22,
     "metadata": {},
     "output_type": "execute_result"
    }
   ],
   "source": [
    "arr1.mean()"
   ]
  },
  {
   "cell_type": "code",
   "execution_count": 23,
   "id": "938a7f07",
   "metadata": {},
   "outputs": [
    {
     "data": {
      "text/plain": [
       "50"
      ]
     },
     "execution_count": 23,
     "metadata": {},
     "output_type": "execute_result"
    }
   ],
   "source": [
    "arr1.sum()"
   ]
  },
  {
   "cell_type": "code",
   "execution_count": 24,
   "id": "6a7f7b3c",
   "metadata": {},
   "outputs": [
    {
     "data": {
      "text/plain": [
       "10.5"
      ]
     },
     "execution_count": 24,
     "metadata": {},
     "output_type": "execute_result"
    }
   ],
   "source": [
    "rect.mean()"
   ]
  },
  {
   "cell_type": "code",
   "execution_count": 25,
   "id": "99408ace",
   "metadata": {},
   "outputs": [
    {
     "data": {
      "text/plain": [
       "array([ 9., 10., 11., 12.])"
      ]
     },
     "execution_count": 25,
     "metadata": {},
     "output_type": "execute_result"
    }
   ],
   "source": [
    "rect.mean(axis=0)  # means by column"
   ]
  },
  {
   "cell_type": "code",
   "execution_count": 26,
   "id": "34850fde",
   "metadata": {},
   "outputs": [
    {
     "data": {
      "text/plain": [
       "array([ 2.5,  6.5, 10.5, 14.5, 18.5])"
      ]
     },
     "execution_count": 26,
     "metadata": {},
     "output_type": "execute_result"
    }
   ],
   "source": [
    "rect.mean(axis=1)  # means by row"
   ]
  },
  {
   "cell_type": "code",
   "execution_count": 27,
   "id": "5eb7532d",
   "metadata": {},
   "outputs": [
    {
     "data": {
      "text/plain": [
       "array([[ 1,  2,  3,  4],\n",
       "       [ 5,  6,  7,  8],\n",
       "       [ 9, 10, 11, 12],\n",
       "       [13, 14, 15, 16],\n",
       "       [17, 18, 19, 20]])"
      ]
     },
     "execution_count": 27,
     "metadata": {},
     "output_type": "execute_result"
    }
   ],
   "source": [
    "rect"
   ]
  },
  {
   "cell_type": "code",
   "execution_count": 28,
   "id": "9387a8dc",
   "metadata": {},
   "outputs": [
    {
     "data": {
      "text/plain": [
       "(5, 4)"
      ]
     },
     "execution_count": 28,
     "metadata": {},
     "output_type": "execute_result"
    }
   ],
   "source": [
    "rect.shape"
   ]
  },
  {
   "cell_type": "code",
   "execution_count": 29,
   "id": "a334a414",
   "metadata": {},
   "outputs": [
    {
     "data": {
      "text/plain": [
       "(2, 3)"
      ]
     },
     "execution_count": 29,
     "metadata": {},
     "output_type": "execute_result"
    }
   ],
   "source": [
    "small_rect = np.array([[2, 3, 4],\n",
    "                     [9, 8, 7]])\n",
    "small_rect.shape"
   ]
  },
  {
   "cell_type": "code",
   "execution_count": 30,
   "id": "08365926",
   "metadata": {},
   "outputs": [
    {
     "ename": "ValueError",
     "evalue": "operands could not be broadcast together with shapes (5,4) (2,3) ",
     "output_type": "error",
     "traceback": [
      "\u001b[1;31m---------------------------------------------------------------------------\u001b[0m",
      "\u001b[1;31mValueError\u001b[0m                                Traceback (most recent call last)",
      "Input \u001b[1;32mIn [30]\u001b[0m, in \u001b[0;36m<cell line: 1>\u001b[1;34m()\u001b[0m\n\u001b[1;32m----> 1\u001b[0m \u001b[43mrect\u001b[49m\u001b[43m \u001b[49m\u001b[38;5;241;43m+\u001b[39;49m\u001b[43m \u001b[49m\u001b[43msmall_rect\u001b[49m\n",
      "\u001b[1;31mValueError\u001b[0m: operands could not be broadcast together with shapes (5,4) (2,3) "
     ]
    }
   ],
   "source": [
    "rect + small_rect"
   ]
  },
  {
   "cell_type": "code",
   "execution_count": 31,
   "id": "1b6436fd",
   "metadata": {},
   "outputs": [
    {
     "data": {
      "text/plain": [
       "(4,)"
      ]
     },
     "execution_count": 31,
     "metadata": {},
     "output_type": "execute_result"
    }
   ],
   "source": [
    "arr1.shape"
   ]
  },
  {
   "cell_type": "code",
   "execution_count": 32,
   "id": "1c33ab33",
   "metadata": {},
   "outputs": [
    {
     "name": "stdout",
     "output_type": "stream",
     "text": [
      "[ 5 10 15 20]\n",
      "[[ 1  2  3  4]\n",
      " [ 5  6  7  8]\n",
      " [ 9 10 11 12]\n",
      " [13 14 15 16]\n",
      " [17 18 19 20]]\n"
     ]
    },
    {
     "data": {
      "text/plain": [
       "array([[ 6, 12, 18, 24],\n",
       "       [10, 16, 22, 28],\n",
       "       [14, 20, 26, 32],\n",
       "       [18, 24, 30, 36],\n",
       "       [22, 28, 34, 40]])"
      ]
     },
     "execution_count": 32,
     "metadata": {},
     "output_type": "execute_result"
    }
   ],
   "source": [
    "print(arr1)\n",
    "print(rect)\n",
    "rect + arr1"
   ]
  },
  {
   "cell_type": "code",
   "execution_count": 33,
   "id": "972a3da1",
   "metadata": {},
   "outputs": [
    {
     "data": {
      "text/plain": [
       "array([ 5.,  6.,  7., nan])"
      ]
     },
     "execution_count": 33,
     "metadata": {},
     "output_type": "execute_result"
    }
   ],
   "source": [
    "nan_arr = np.array([5, 6, 7, np.nan])\n",
    "nan_arr"
   ]
  },
  {
   "cell_type": "code",
   "execution_count": 34,
   "id": "acb4db0e",
   "metadata": {},
   "outputs": [
    {
     "data": {
      "text/plain": [
       "array([10., 16., 22., nan])"
      ]
     },
     "execution_count": 34,
     "metadata": {},
     "output_type": "execute_result"
    }
   ],
   "source": [
    "arr1 + nan_arr"
   ]
  },
  {
   "cell_type": "markdown",
   "id": "dee42533",
   "metadata": {},
   "source": [
    "### Array slicing"
   ]
  },
  {
   "cell_type": "code",
   "execution_count": 35,
   "id": "bdbee1dd",
   "metadata": {
    "scrolled": true
   },
   "outputs": [
    {
     "data": {
      "text/plain": [
       "10"
      ]
     },
     "execution_count": 35,
     "metadata": {},
     "output_type": "execute_result"
    }
   ],
   "source": [
    "arr1[1]"
   ]
  },
  {
   "cell_type": "code",
   "execution_count": 36,
   "id": "7213ff7f",
   "metadata": {},
   "outputs": [
    {
     "data": {
      "text/plain": [
       "array([10, 15])"
      ]
     },
     "execution_count": 36,
     "metadata": {},
     "output_type": "execute_result"
    }
   ],
   "source": [
    "arr1[1:3]"
   ]
  },
  {
   "cell_type": "code",
   "execution_count": 37,
   "id": "35cb0202",
   "metadata": {},
   "outputs": [
    {
     "name": "stdout",
     "output_type": "stream",
     "text": [
      "5\n",
      "10\n",
      "15\n",
      "20\n"
     ]
    }
   ],
   "source": [
    "for i in arr1:\n",
    "    print(i)"
   ]
  },
  {
   "cell_type": "code",
   "execution_count": 38,
   "id": "de6d843d",
   "metadata": {},
   "outputs": [
    {
     "data": {
      "text/plain": [
       "array([[ 1,  2,  3,  4],\n",
       "       [ 5,  6,  7,  8],\n",
       "       [ 9, 10, 11, 12],\n",
       "       [13, 14, 15, 16],\n",
       "       [17, 18, 19, 20]])"
      ]
     },
     "execution_count": 38,
     "metadata": {},
     "output_type": "execute_result"
    }
   ],
   "source": [
    "rect"
   ]
  },
  {
   "cell_type": "code",
   "execution_count": 39,
   "id": "a85869dd",
   "metadata": {},
   "outputs": [
    {
     "data": {
      "text/plain": [
       "6"
      ]
     },
     "execution_count": 39,
     "metadata": {},
     "output_type": "execute_result"
    }
   ],
   "source": [
    "rect[1, 1]"
   ]
  },
  {
   "cell_type": "code",
   "execution_count": 40,
   "id": "8838dbbb",
   "metadata": {},
   "outputs": [
    {
     "data": {
      "text/plain": [
       "array([[10, 11],\n",
       "       [14, 15]])"
      ]
     },
     "execution_count": 40,
     "metadata": {},
     "output_type": "execute_result"
    }
   ],
   "source": [
    "# slicing by index\n",
    "# row indices 2 and 3\n",
    "# col indices 1 and 2\n",
    "rect[2:4, 1:3]"
   ]
  },
  {
   "cell_type": "code",
   "execution_count": 41,
   "id": "df063753",
   "metadata": {},
   "outputs": [
    {
     "data": {
      "text/plain": [
       "array([1, 2, 3, 4])"
      ]
     },
     "execution_count": 41,
     "metadata": {},
     "output_type": "execute_result"
    }
   ],
   "source": [
    "rect[0]"
   ]
  },
  {
   "cell_type": "code",
   "execution_count": 42,
   "id": "61fd7120",
   "metadata": {},
   "outputs": [
    {
     "data": {
      "text/plain": [
       "array([ 1,  5,  9, 13, 17])"
      ]
     },
     "execution_count": 42,
     "metadata": {},
     "output_type": "execute_result"
    }
   ],
   "source": [
    "rect[:, 0]"
   ]
  },
  {
   "cell_type": "code",
   "execution_count": 43,
   "id": "eadbc5d7",
   "metadata": {},
   "outputs": [
    {
     "data": {
      "text/plain": [
       "dtype('float64')"
      ]
     },
     "execution_count": 43,
     "metadata": {},
     "output_type": "execute_result"
    }
   ],
   "source": [
    "# numpy will make all values the same dtype\n",
    "np.array([1, 2, 3.14]).dtype"
   ]
  },
  {
   "cell_type": "code",
   "execution_count": 44,
   "id": "0109c910",
   "metadata": {},
   "outputs": [
    {
     "data": {
      "text/plain": [
       "array(['1', '2', '3'], dtype='<U11')"
      ]
     },
     "execution_count": 44,
     "metadata": {},
     "output_type": "execute_result"
    }
   ],
   "source": [
    "np.array([1, 2, '3'])"
   ]
  },
  {
   "cell_type": "markdown",
   "id": "55b6ed22",
   "metadata": {},
   "source": [
    "### Mutability"
   ]
  },
  {
   "cell_type": "code",
   "execution_count": 45,
   "id": "a302a82c",
   "metadata": {},
   "outputs": [
    {
     "data": {
      "text/plain": [
       "array([[ 7, 10,  3,  5],\n",
       "       [ 6,  3,  5,  3],\n",
       "       [ 5,  8,  8, 10]])"
      ]
     },
     "execution_count": 45,
     "metadata": {},
     "output_type": "execute_result"
    }
   ],
   "source": [
    "matrix = np.random.randint(1, 11, 12).reshape(3, 4)\n",
    "matrix"
   ]
  },
  {
   "cell_type": "code",
   "execution_count": 46,
   "id": "96c6a0b4",
   "metadata": {},
   "outputs": [],
   "source": [
    "matrix2 = matrix\n",
    "matrix3 = matrix.copy()"
   ]
  },
  {
   "cell_type": "code",
   "execution_count": 47,
   "id": "f2ba44a9",
   "metadata": {},
   "outputs": [
    {
     "data": {
      "text/plain": [
       "array([[ 7, 10,  3,  1],\n",
       "       [ 6,  3,  5,  1],\n",
       "       [ 0,  0,  0,  1]])"
      ]
     },
     "execution_count": 47,
     "metadata": {},
     "output_type": "execute_result"
    }
   ],
   "source": [
    "matrix[2] = [0, 0, 0, 0]\n",
    "matrix[:, 3] = [1, 1, 1]\n",
    "matrix"
   ]
  },
  {
   "cell_type": "code",
   "execution_count": 48,
   "id": "5ed0a378",
   "metadata": {},
   "outputs": [
    {
     "data": {
      "text/plain": [
       "array([[ 7, 10,  3,  1],\n",
       "       [ 6,  3,  5,  1],\n",
       "       [ 0,  0,  0,  1]])"
      ]
     },
     "execution_count": 48,
     "metadata": {},
     "output_type": "execute_result"
    }
   ],
   "source": [
    "matrix2"
   ]
  },
  {
   "cell_type": "code",
   "execution_count": 49,
   "id": "def4d0e0",
   "metadata": {},
   "outputs": [
    {
     "data": {
      "text/plain": [
       "array([[ 7, 10,  3,  5],\n",
       "       [ 6,  3,  5,  3],\n",
       "       [ 5,  8,  8, 10]])"
      ]
     },
     "execution_count": 49,
     "metadata": {},
     "output_type": "execute_result"
    }
   ],
   "source": [
    "matrix3"
   ]
  },
  {
   "cell_type": "markdown",
   "id": "219a8660",
   "metadata": {},
   "source": [
    "### Logical operations"
   ]
  },
  {
   "cell_type": "code",
   "execution_count": 50,
   "id": "0d6412c9",
   "metadata": {},
   "outputs": [
    {
     "data": {
      "text/plain": [
       "array([[ 1,  2,  3,  4],\n",
       "       [ 5,  6,  7,  8],\n",
       "       [ 9, 10, 11, 12],\n",
       "       [13, 14, 15, 16],\n",
       "       [17, 18, 19, 20]])"
      ]
     },
     "execution_count": 50,
     "metadata": {},
     "output_type": "execute_result"
    }
   ],
   "source": [
    "rect"
   ]
  },
  {
   "cell_type": "code",
   "execution_count": 51,
   "id": "4c2a44a3",
   "metadata": {},
   "outputs": [
    {
     "data": {
      "text/plain": [
       "array([[False, False,  True, False],\n",
       "       [False,  True, False, False],\n",
       "       [ True, False, False,  True],\n",
       "       [False, False,  True, False],\n",
       "       [False,  True, False, False]])"
      ]
     },
     "execution_count": 51,
     "metadata": {},
     "output_type": "execute_result"
    }
   ],
   "source": [
    "rect % 3 == 0"
   ]
  },
  {
   "cell_type": "code",
   "execution_count": 52,
   "id": "7ac66861",
   "metadata": {},
   "outputs": [
    {
     "data": {
      "text/plain": [
       "array([ 3,  6,  9, 12, 15, 18])"
      ]
     },
     "execution_count": 52,
     "metadata": {},
     "output_type": "execute_result"
    }
   ],
   "source": [
    "# use a boolean expression to filter an array\n",
    "rect[rect % 3 == 0]"
   ]
  },
  {
   "cell_type": "code",
   "execution_count": 53,
   "id": "a21b4445",
   "metadata": {},
   "outputs": [
    {
     "data": {
      "text/plain": [
       "array([ 3,  6,  9, 12, 15, 18])"
      ]
     },
     "execution_count": 53,
     "metadata": {},
     "output_type": "execute_result"
    }
   ],
   "source": [
    "# also works\n",
    "mask = rect % 3 == 0\n",
    "rect[mask]"
   ]
  },
  {
   "cell_type": "code",
   "execution_count": 54,
   "id": "5465afaa",
   "metadata": {},
   "outputs": [
    {
     "data": {
      "text/plain": [
       "[[False, False, True, False],\n",
       " [False, True, False, False],\n",
       " [True, False, False, True],\n",
       " [False, False, True, False],\n",
       " [False, True, False, False]]"
      ]
     },
     "execution_count": 54,
     "metadata": {},
     "output_type": "execute_result"
    }
   ],
   "source": [
    "# for loop version of mask\n",
    "\n",
    "masked = []\n",
    "for row in rect:\n",
    "    masked_row = []\n",
    "    for value in row:\n",
    "        masked_row.append(value % 3 == 0)\n",
    "    masked.append(masked_row)\n",
    "    \n",
    "masked"
   ]
  },
  {
   "cell_type": "code",
   "execution_count": 55,
   "id": "7a74f048",
   "metadata": {},
   "outputs": [
    {
     "data": {
      "text/plain": [
       "array([[ 0,  0,  3,  0],\n",
       "       [ 0,  6,  0,  0],\n",
       "       [ 9,  0,  0, 12],\n",
       "       [ 0,  0, 15,  0],\n",
       "       [ 0, 18,  0,  0]])"
      ]
     },
     "execution_count": 55,
     "metadata": {},
     "output_type": "execute_result"
    }
   ],
   "source": [
    "np.where(rect % 3 == 0,  # condition\n",
    "         rect,  # value to put if True\n",
    "         0)  # value to put if false"
   ]
  },
  {
   "cell_type": "code",
   "execution_count": 56,
   "id": "b54be7e8",
   "metadata": {},
   "outputs": [
    {
     "data": {
      "text/plain": [
       "[[0, 0, 3, 0], [0, 6, 0, 0], [9, 0, 0, 12], [0, 0, 15, 0], [0, 18, 0, 0]]"
      ]
     },
     "execution_count": 56,
     "metadata": {},
     "output_type": "execute_result"
    }
   ],
   "source": [
    "# for loop version of np.where\n",
    "\n",
    "result = []\n",
    "\n",
    "for row in rect:\n",
    "    result_row = []\n",
    "    for value in row:\n",
    "        if value % 3 == 0:\n",
    "            result_row.append(value)\n",
    "        else:\n",
    "            result_row.append(0)\n",
    "    result.append(result_row)\n",
    "    \n",
    "\n",
    "result   "
   ]
  },
  {
   "cell_type": "code",
   "execution_count": 57,
   "id": "545a54b6",
   "metadata": {},
   "outputs": [
    {
     "data": {
      "text/plain": [
       "1.2246467991473532e-16"
      ]
     },
     "execution_count": 57,
     "metadata": {},
     "output_type": "execute_result"
    }
   ],
   "source": [
    "# there are additional math functions and constants in numpy\n",
    "np.sin(np.pi)"
   ]
  },
  {
   "cell_type": "markdown",
   "id": "33add590",
   "metadata": {},
   "source": [
    "### Loading data to `numpy` arrays from file"
   ]
  },
  {
   "cell_type": "code",
   "execution_count": 58,
   "id": "d78c49e2",
   "metadata": {
    "scrolled": true
   },
   "outputs": [
    {
     "name": "stdout",
     "output_type": "stream",
     "text": [
      "longitude,latitude,housing_median_age,total_rooms,total_bedrooms,population,households,median_income,median_house_value\n",
      "\n",
      "-122.05,37.37,27,3885,661,1537,606,6.6085,344700\n",
      "\n",
      "-118.3,34.26,43,1510,310,809,277,3.599,176500\n",
      "\n",
      "-117.81,33.78,27,3589,507,1484,495,5.7934,270500\n",
      "\n",
      "-118.36,33.82,28,67,15,49,11,6.1359,330000\n",
      "\n"
     ]
    }
   ],
   "source": [
    "with open('../01-slides/sample_data/california_housing_test.csv', 'r') as f:\n",
    "    for i in range(5):\n",
    "        print(f.readline())"
   ]
  },
  {
   "cell_type": "code",
   "execution_count": 59,
   "id": "20e64eba",
   "metadata": {},
   "outputs": [
    {
     "data": {
      "text/plain": [
       "array([[-1.22050e+02,  3.73700e+01,  2.70000e+01, ...,  6.06000e+02,\n",
       "         6.60850e+00,  3.44700e+05],\n",
       "       [-1.18300e+02,  3.42600e+01,  4.30000e+01, ...,  2.77000e+02,\n",
       "         3.59900e+00,  1.76500e+05],\n",
       "       [-1.17810e+02,  3.37800e+01,  2.70000e+01, ...,  4.95000e+02,\n",
       "         5.79340e+00,  2.70500e+05],\n",
       "       ...,\n",
       "       [-1.19700e+02,  3.63000e+01,  1.00000e+01, ...,  2.20000e+02,\n",
       "         2.28950e+00,  6.20000e+04],\n",
       "       [-1.17120e+02,  3.41000e+01,  4.00000e+01, ...,  1.40000e+01,\n",
       "         3.27080e+00,  1.62500e+05],\n",
       "       [-1.19630e+02,  3.44200e+01,  4.20000e+01, ...,  2.60000e+02,\n",
       "         8.56080e+00,  5.00001e+05]])"
      ]
     },
     "execution_count": 59,
     "metadata": {},
     "output_type": "execute_result"
    }
   ],
   "source": [
    "hd = np.loadtxt('../01-slides/sample_data/california_housing_test.csv',\n",
    "               delimiter=',',  # we have to specify the delimiter\n",
    "               skiprows=1  # skip the header row\n",
    "               )\n",
    "hd"
   ]
  },
  {
   "cell_type": "code",
   "execution_count": 60,
   "id": "d5552622",
   "metadata": {},
   "outputs": [
    {
     "data": {
      "text/plain": [
       "(3000, 9)"
      ]
     },
     "execution_count": 60,
     "metadata": {},
     "output_type": "execute_result"
    }
   ],
   "source": [
    "hd.shape"
   ]
  },
  {
   "cell_type": "code",
   "execution_count": 61,
   "id": "8970ab50",
   "metadata": {},
   "outputs": [
    {
     "data": {
      "text/plain": [
       "array([(-122.05, 37.37, 27., 3885., 661., 1537., 606., 6.6085, 344700.),\n",
       "       (-118.3 , 34.26, 43., 1510., 310.,  809., 277., 3.599 , 176500.),\n",
       "       (-117.81, 33.78, 27., 3589., 507., 1484., 495., 5.7934, 270500.),\n",
       "       ...,\n",
       "       (-119.7 , 36.3 , 10.,  956., 201.,  693., 220., 2.2895,  62000.),\n",
       "       (-117.12, 34.1 , 40.,   96.,  14.,   46.,  14., 3.2708, 162500.),\n",
       "       (-119.63, 34.42, 42., 1765., 263.,  753., 260., 8.5608, 500001.)],\n",
       "      dtype=[('longitude', '<f8'), ('latitude', '<f8'), ('housing_median_age', '<f8'), ('total_rooms', '<f8'), ('total_bedrooms', '<f8'), ('population', '<f8'), ('households', '<f8'), ('median_income', '<f8'), ('median_house_value', '<f8')])"
      ]
     },
     "execution_count": 61,
     "metadata": {},
     "output_type": "execute_result"
    }
   ],
   "source": [
    "hd2 = np.genfromtxt('../01-slides/sample_data/california_housing_test.csv',\n",
    "                   delimiter=',',\n",
    "                   names=True  # use the first row as column names\n",
    "                   )\n",
    "hd2"
   ]
  },
  {
   "cell_type": "code",
   "execution_count": 62,
   "id": "da473d58",
   "metadata": {},
   "outputs": [
    {
     "data": {
      "text/plain": [
       "(3000,)"
      ]
     },
     "execution_count": 62,
     "metadata": {},
     "output_type": "execute_result"
    }
   ],
   "source": [
    "hd2.shape  # we got a structured array this time"
   ]
  },
  {
   "cell_type": "code",
   "execution_count": 63,
   "id": "0bf93cd6",
   "metadata": {},
   "outputs": [
    {
     "data": {
      "text/plain": [
       "array([1537.,  809., 1484., ...,  693.,   46.,  753.])"
      ]
     },
     "execution_count": 63,
     "metadata": {},
     "output_type": "execute_result"
    }
   ],
   "source": [
    "hd2['population']"
   ]
  },
  {
   "cell_type": "code",
   "execution_count": 64,
   "id": "a138526f",
   "metadata": {},
   "outputs": [
    {
     "data": {
      "text/plain": [
       "1402.7986666666666"
      ]
     },
     "execution_count": 64,
     "metadata": {},
     "output_type": "execute_result"
    }
   ],
   "source": [
    "hd2['population'].mean()"
   ]
  },
  {
   "cell_type": "markdown",
   "id": "b9f99aca",
   "metadata": {},
   "source": [
    "## `pandas`"
   ]
  },
  {
   "cell_type": "code",
   "execution_count": 65,
   "id": "22dcbfff",
   "metadata": {},
   "outputs": [],
   "source": [
    "import pandas as pd\n",
    "\n",
    "# make all columns display, even for wide datasets\n",
    "pd.set_option('display.max_column', None)"
   ]
  },
  {
   "cell_type": "code",
   "execution_count": 66,
   "id": "6f333648",
   "metadata": {},
   "outputs": [
    {
     "data": {
      "text/html": [
       "<div>\n",
       "<style scoped>\n",
       "    .dataframe tbody tr th:only-of-type {\n",
       "        vertical-align: middle;\n",
       "    }\n",
       "\n",
       "    .dataframe tbody tr th {\n",
       "        vertical-align: top;\n",
       "    }\n",
       "\n",
       "    .dataframe thead th {\n",
       "        text-align: right;\n",
       "    }\n",
       "</style>\n",
       "<table border=\"1\" class=\"dataframe\">\n",
       "  <thead>\n",
       "    <tr style=\"text-align: right;\">\n",
       "      <th></th>\n",
       "      <th>avg_lifespan</th>\n",
       "      <th>quantity</th>\n",
       "    </tr>\n",
       "    <tr>\n",
       "      <th>name</th>\n",
       "      <th></th>\n",
       "      <th></th>\n",
       "    </tr>\n",
       "  </thead>\n",
       "  <tbody>\n",
       "    <tr>\n",
       "      <th>maple</th>\n",
       "      <td>300</td>\n",
       "      <td>23</td>\n",
       "    </tr>\n",
       "    <tr>\n",
       "      <th>oak</th>\n",
       "      <td>100</td>\n",
       "      <td>43</td>\n",
       "    </tr>\n",
       "    <tr>\n",
       "      <th>ash</th>\n",
       "      <td>260</td>\n",
       "      <td>74</td>\n",
       "    </tr>\n",
       "    <tr>\n",
       "      <th>fir</th>\n",
       "      <td>450</td>\n",
       "      <td>100</td>\n",
       "    </tr>\n",
       "  </tbody>\n",
       "</table>\n",
       "</div>"
      ],
      "text/plain": [
       "       avg_lifespan  quantity\n",
       "name                         \n",
       "maple           300        23\n",
       "oak             100        43\n",
       "ash             260        74\n",
       "fir             450       100"
      ]
     },
     "execution_count": 66,
     "metadata": {},
     "output_type": "execute_result"
    }
   ],
   "source": [
    "trees = pd.DataFrame({\n",
    "    'name': ['maple', 'oak', 'ash', 'fir'],\n",
    "    'avg_lifespan': [300, 100, 260, 450],\n",
    "    'quantity': [23, 43, 74, 100]\n",
    "})\n",
    "trees.set_index('name')"
   ]
  },
  {
   "cell_type": "code",
   "execution_count": 67,
   "id": "7c800fca",
   "metadata": {},
   "outputs": [
    {
     "data": {
      "text/plain": [
       "0    deciduous\n",
       "1    deciduous\n",
       "2    deciduous\n",
       "3    evergreen\n",
       "Name: foliage, dtype: object"
      ]
     },
     "execution_count": 67,
     "metadata": {},
     "output_type": "execute_result"
    }
   ],
   "source": [
    "tree_types = pd.Series(['deciduous', 'deciduous', 'deciduous', 'evergreen'], \n",
    "                       name='foliage')\n",
    "tree_types"
   ]
  },
  {
   "cell_type": "code",
   "execution_count": 68,
   "id": "49f1fc3d",
   "metadata": {},
   "outputs": [],
   "source": [
    "ttc = 'https://github.com/amfz/dsi-python-workshop/raw/main/data/ttc-subway-delay-data-2021.xlsx'"
   ]
  },
  {
   "cell_type": "code",
   "execution_count": 69,
   "id": "55990c13",
   "metadata": {},
   "outputs": [],
   "source": [
    "# we get a dictionary of sheet_name:data df pairs\n",
    "delays = pd.read_excel(ttc, \n",
    "                       engine='openpyxl',  # optional\n",
    "                       sheet_name=None  # load all sheets -- default is first sheet only\n",
    "                      )"
   ]
  },
  {
   "cell_type": "code",
   "execution_count": 70,
   "id": "5c67b594",
   "metadata": {},
   "outputs": [
    {
     "name": "stdout",
     "output_type": "stream",
     "text": [
      "Adding (1216, 10) from January21\n",
      "Adding (1245, 10) from Feb 21\n",
      "Adding (1167, 10) from March '21\n",
      "Adding (1170, 10) from April '21\n",
      "Adding (1168, 10) from May '21\n",
      "Adding (1265, 10) from June 21\n",
      "Adding (1244, 10) from July 21\n",
      "Adding (1273, 10) from August 21\n",
      "Adding (1433, 10) from Sept 21\n",
      "Adding (1560, 10) from Oct 21\n",
      "Adding (1771, 10) from Nov 21\n",
      "Adding (1858, 10) from December21\n"
     ]
    },
    {
     "data": {
      "text/plain": [
       "(16370, 10)"
      ]
     },
     "execution_count": 70,
     "metadata": {},
     "output_type": "execute_result"
    }
   ],
   "source": [
    "# create an empty dataframe\n",
    "all_delays = pd.DataFrame()\n",
    "\n",
    "# loop through key:value pairs\n",
    "for sheet_name, df in delays.items():\n",
    "    print(f'Adding {df.shape} from {sheet_name}')\n",
    "    all_delays = pd.concat([all_delays, df],  # list of data frames to concatenate\n",
    "                           axis=0,  # append row-wise\n",
    "                           ignore_index=True  # reset row labels to renumber rows\n",
    "                          )\n",
    "    \n",
    "all_delays.shape"
   ]
  },
  {
   "cell_type": "code",
   "execution_count": 71,
   "id": "073570ba",
   "metadata": {},
   "outputs": [
    {
     "data": {
      "text/html": [
       "<div>\n",
       "<style scoped>\n",
       "    .dataframe tbody tr th:only-of-type {\n",
       "        vertical-align: middle;\n",
       "    }\n",
       "\n",
       "    .dataframe tbody tr th {\n",
       "        vertical-align: top;\n",
       "    }\n",
       "\n",
       "    .dataframe thead th {\n",
       "        text-align: right;\n",
       "    }\n",
       "</style>\n",
       "<table border=\"1\" class=\"dataframe\">\n",
       "  <thead>\n",
       "    <tr style=\"text-align: right;\">\n",
       "      <th></th>\n",
       "      <th>Date</th>\n",
       "      <th>Time</th>\n",
       "      <th>Day</th>\n",
       "      <th>Station</th>\n",
       "      <th>Code</th>\n",
       "      <th>Min Delay</th>\n",
       "      <th>Min Gap</th>\n",
       "      <th>Bound</th>\n",
       "      <th>Line</th>\n",
       "      <th>Vehicle</th>\n",
       "    </tr>\n",
       "  </thead>\n",
       "  <tbody>\n",
       "    <tr>\n",
       "      <th>0</th>\n",
       "      <td>2021-01-01</td>\n",
       "      <td>00:33</td>\n",
       "      <td>Friday</td>\n",
       "      <td>BLOOR STATION</td>\n",
       "      <td>MUPAA</td>\n",
       "      <td>0</td>\n",
       "      <td>0</td>\n",
       "      <td>N</td>\n",
       "      <td>YU</td>\n",
       "      <td>6046</td>\n",
       "    </tr>\n",
       "    <tr>\n",
       "      <th>1</th>\n",
       "      <td>2021-01-01</td>\n",
       "      <td>00:39</td>\n",
       "      <td>Friday</td>\n",
       "      <td>SHERBOURNE STATION</td>\n",
       "      <td>EUCO</td>\n",
       "      <td>5</td>\n",
       "      <td>9</td>\n",
       "      <td>E</td>\n",
       "      <td>BD</td>\n",
       "      <td>5250</td>\n",
       "    </tr>\n",
       "    <tr>\n",
       "      <th>2</th>\n",
       "      <td>2021-01-01</td>\n",
       "      <td>01:07</td>\n",
       "      <td>Friday</td>\n",
       "      <td>KENNEDY BD STATION</td>\n",
       "      <td>EUCD</td>\n",
       "      <td>5</td>\n",
       "      <td>9</td>\n",
       "      <td>E</td>\n",
       "      <td>BD</td>\n",
       "      <td>5249</td>\n",
       "    </tr>\n",
       "  </tbody>\n",
       "</table>\n",
       "</div>"
      ],
      "text/plain": [
       "        Date   Time     Day             Station   Code  Min Delay  Min Gap  \\\n",
       "0 2021-01-01  00:33  Friday       BLOOR STATION  MUPAA          0        0   \n",
       "1 2021-01-01  00:39  Friday  SHERBOURNE STATION   EUCO          5        9   \n",
       "2 2021-01-01  01:07  Friday  KENNEDY BD STATION   EUCD          5        9   \n",
       "\n",
       "  Bound Line  Vehicle  \n",
       "0     N   YU     6046  \n",
       "1     E   BD     5250  \n",
       "2     E   BD     5249  "
      ]
     },
     "execution_count": 71,
     "metadata": {},
     "output_type": "execute_result"
    }
   ],
   "source": [
    "all_delays.head(3)"
   ]
  },
  {
   "cell_type": "code",
   "execution_count": 72,
   "id": "68b69062",
   "metadata": {},
   "outputs": [
    {
     "data": {
      "text/html": [
       "<div>\n",
       "<style scoped>\n",
       "    .dataframe tbody tr th:only-of-type {\n",
       "        vertical-align: middle;\n",
       "    }\n",
       "\n",
       "    .dataframe tbody tr th {\n",
       "        vertical-align: top;\n",
       "    }\n",
       "\n",
       "    .dataframe thead th {\n",
       "        text-align: right;\n",
       "    }\n",
       "</style>\n",
       "<table border=\"1\" class=\"dataframe\">\n",
       "  <thead>\n",
       "    <tr style=\"text-align: right;\">\n",
       "      <th></th>\n",
       "      <th>Date</th>\n",
       "      <th>Time</th>\n",
       "      <th>Day</th>\n",
       "      <th>Station</th>\n",
       "      <th>Code</th>\n",
       "      <th>Min Delay</th>\n",
       "      <th>Min Gap</th>\n",
       "      <th>Bound</th>\n",
       "      <th>Line</th>\n",
       "      <th>Vehicle</th>\n",
       "    </tr>\n",
       "  </thead>\n",
       "  <tbody>\n",
       "    <tr>\n",
       "      <th>16365</th>\n",
       "      <td>2021-12-31</td>\n",
       "      <td>01:10</td>\n",
       "      <td>Friday</td>\n",
       "      <td>MUSEUM STATION</td>\n",
       "      <td>SUUT</td>\n",
       "      <td>0</td>\n",
       "      <td>0</td>\n",
       "      <td>N</td>\n",
       "      <td>YU</td>\n",
       "      <td>5591</td>\n",
       "    </tr>\n",
       "    <tr>\n",
       "      <th>16366</th>\n",
       "      <td>2021-12-31</td>\n",
       "      <td>01:12</td>\n",
       "      <td>Friday</td>\n",
       "      <td>FINCH STATION</td>\n",
       "      <td>SUDP</td>\n",
       "      <td>5</td>\n",
       "      <td>10</td>\n",
       "      <td>S</td>\n",
       "      <td>YU</td>\n",
       "      <td>5983</td>\n",
       "    </tr>\n",
       "    <tr>\n",
       "      <th>16367</th>\n",
       "      <td>2021-12-31</td>\n",
       "      <td>01:21</td>\n",
       "      <td>Friday</td>\n",
       "      <td>EGLINTON WEST STATION</td>\n",
       "      <td>PUOPO</td>\n",
       "      <td>3</td>\n",
       "      <td>8</td>\n",
       "      <td>N</td>\n",
       "      <td>YU</td>\n",
       "      <td>6046</td>\n",
       "    </tr>\n",
       "    <tr>\n",
       "      <th>16368</th>\n",
       "      <td>2021-12-31</td>\n",
       "      <td>01:37</td>\n",
       "      <td>Friday</td>\n",
       "      <td>SHEPPARD WEST STATION</td>\n",
       "      <td>SUDP</td>\n",
       "      <td>0</td>\n",
       "      <td>0</td>\n",
       "      <td>S</td>\n",
       "      <td>YU</td>\n",
       "      <td>5536</td>\n",
       "    </tr>\n",
       "    <tr>\n",
       "      <th>16369</th>\n",
       "      <td>2021-12-31</td>\n",
       "      <td>07:00</td>\n",
       "      <td>Friday</td>\n",
       "      <td>DON MILLS STATION</td>\n",
       "      <td>TUSC</td>\n",
       "      <td>0</td>\n",
       "      <td>0</td>\n",
       "      <td>E</td>\n",
       "      <td>SHP</td>\n",
       "      <td>6146</td>\n",
       "    </tr>\n",
       "  </tbody>\n",
       "</table>\n",
       "</div>"
      ],
      "text/plain": [
       "            Date   Time     Day                Station   Code  Min Delay  \\\n",
       "16365 2021-12-31  01:10  Friday         MUSEUM STATION   SUUT          0   \n",
       "16366 2021-12-31  01:12  Friday          FINCH STATION   SUDP          5   \n",
       "16367 2021-12-31  01:21  Friday  EGLINTON WEST STATION  PUOPO          3   \n",
       "16368 2021-12-31  01:37  Friday  SHEPPARD WEST STATION   SUDP          0   \n",
       "16369 2021-12-31  07:00  Friday      DON MILLS STATION   TUSC          0   \n",
       "\n",
       "       Min Gap Bound Line  Vehicle  \n",
       "16365        0     N   YU     5591  \n",
       "16366       10     S   YU     5983  \n",
       "16367        8     N   YU     6046  \n",
       "16368        0     S   YU     5536  \n",
       "16369        0     E  SHP     6146  "
      ]
     },
     "execution_count": 72,
     "metadata": {},
     "output_type": "execute_result"
    }
   ],
   "source": [
    "all_delays.tail()"
   ]
  },
  {
   "cell_type": "code",
   "execution_count": 73,
   "id": "01ec44a8",
   "metadata": {},
   "outputs": [
    {
     "data": {
      "text/plain": [
       "Date         datetime64[ns]\n",
       "Time                 object\n",
       "Day                  object\n",
       "Station              object\n",
       "Code                 object\n",
       "Min Delay             int64\n",
       "Min Gap               int64\n",
       "Bound                object\n",
       "Line                 object\n",
       "Vehicle               int64\n",
       "dtype: object"
      ]
     },
     "execution_count": 73,
     "metadata": {},
     "output_type": "execute_result"
    }
   ],
   "source": [
    "all_delays.dtypes"
   ]
  },
  {
   "cell_type": "code",
   "execution_count": 74,
   "id": "0119b6b0",
   "metadata": {},
   "outputs": [
    {
     "data": {
      "text/html": [
       "<div>\n",
       "<style scoped>\n",
       "    .dataframe tbody tr th:only-of-type {\n",
       "        vertical-align: middle;\n",
       "    }\n",
       "\n",
       "    .dataframe tbody tr th {\n",
       "        vertical-align: top;\n",
       "    }\n",
       "\n",
       "    .dataframe thead th {\n",
       "        text-align: right;\n",
       "    }\n",
       "</style>\n",
       "<table border=\"1\" class=\"dataframe\">\n",
       "  <thead>\n",
       "    <tr style=\"text-align: right;\">\n",
       "      <th></th>\n",
       "      <th>Date</th>\n",
       "      <th>Time</th>\n",
       "      <th>Day</th>\n",
       "      <th>Station</th>\n",
       "      <th>Code</th>\n",
       "      <th>Min Delay</th>\n",
       "      <th>Min Gap</th>\n",
       "      <th>Bound</th>\n",
       "      <th>Line</th>\n",
       "      <th>Vehicle</th>\n",
       "    </tr>\n",
       "  </thead>\n",
       "  <tbody>\n",
       "    <tr>\n",
       "      <th>count</th>\n",
       "      <td>16370</td>\n",
       "      <td>16370</td>\n",
       "      <td>16370</td>\n",
       "      <td>16370</td>\n",
       "      <td>16370</td>\n",
       "      <td>16370.000000</td>\n",
       "      <td>16370.000000</td>\n",
       "      <td>12119</td>\n",
       "      <td>16318</td>\n",
       "      <td>16370.000000</td>\n",
       "    </tr>\n",
       "    <tr>\n",
       "      <th>unique</th>\n",
       "      <td>NaN</td>\n",
       "      <td>1383</td>\n",
       "      <td>7</td>\n",
       "      <td>284</td>\n",
       "      <td>173</td>\n",
       "      <td>NaN</td>\n",
       "      <td>NaN</td>\n",
       "      <td>5</td>\n",
       "      <td>17</td>\n",
       "      <td>NaN</td>\n",
       "    </tr>\n",
       "    <tr>\n",
       "      <th>top</th>\n",
       "      <td>NaN</td>\n",
       "      <td>22:00</td>\n",
       "      <td>Friday</td>\n",
       "      <td>VAUGHAN MC STATION</td>\n",
       "      <td>SUDP</td>\n",
       "      <td>NaN</td>\n",
       "      <td>NaN</td>\n",
       "      <td>S</td>\n",
       "      <td>YU</td>\n",
       "      <td>NaN</td>\n",
       "    </tr>\n",
       "    <tr>\n",
       "      <th>freq</th>\n",
       "      <td>NaN</td>\n",
       "      <td>437</td>\n",
       "      <td>2600</td>\n",
       "      <td>927</td>\n",
       "      <td>2015</td>\n",
       "      <td>NaN</td>\n",
       "      <td>NaN</td>\n",
       "      <td>4216</td>\n",
       "      <td>8880</td>\n",
       "      <td>NaN</td>\n",
       "    </tr>\n",
       "    <tr>\n",
       "      <th>mean</th>\n",
       "      <td>2021-07-16 12:47:30.091631104</td>\n",
       "      <td>NaN</td>\n",
       "      <td>NaN</td>\n",
       "      <td>NaN</td>\n",
       "      <td>NaN</td>\n",
       "      <td>3.268418</td>\n",
       "      <td>5.057972</td>\n",
       "      <td>NaN</td>\n",
       "      <td>NaN</td>\n",
       "      <td>3642.871228</td>\n",
       "    </tr>\n",
       "    <tr>\n",
       "      <th>min</th>\n",
       "      <td>2021-01-01 00:00:00</td>\n",
       "      <td>NaN</td>\n",
       "      <td>NaN</td>\n",
       "      <td>NaN</td>\n",
       "      <td>NaN</td>\n",
       "      <td>0.000000</td>\n",
       "      <td>0.000000</td>\n",
       "      <td>NaN</td>\n",
       "      <td>NaN</td>\n",
       "      <td>0.000000</td>\n",
       "    </tr>\n",
       "    <tr>\n",
       "      <th>25%</th>\n",
       "      <td>2021-04-13 00:00:00</td>\n",
       "      <td>NaN</td>\n",
       "      <td>NaN</td>\n",
       "      <td>NaN</td>\n",
       "      <td>NaN</td>\n",
       "      <td>0.000000</td>\n",
       "      <td>0.000000</td>\n",
       "      <td>NaN</td>\n",
       "      <td>NaN</td>\n",
       "      <td>0.000000</td>\n",
       "    </tr>\n",
       "    <tr>\n",
       "      <th>50%</th>\n",
       "      <td>2021-07-24 12:00:00</td>\n",
       "      <td>NaN</td>\n",
       "      <td>NaN</td>\n",
       "      <td>NaN</td>\n",
       "      <td>NaN</td>\n",
       "      <td>0.000000</td>\n",
       "      <td>0.000000</td>\n",
       "      <td>NaN</td>\n",
       "      <td>NaN</td>\n",
       "      <td>5198.500000</td>\n",
       "    </tr>\n",
       "    <tr>\n",
       "      <th>75%</th>\n",
       "      <td>2021-10-23 00:00:00</td>\n",
       "      <td>NaN</td>\n",
       "      <td>NaN</td>\n",
       "      <td>NaN</td>\n",
       "      <td>NaN</td>\n",
       "      <td>4.000000</td>\n",
       "      <td>8.000000</td>\n",
       "      <td>NaN</td>\n",
       "      <td>NaN</td>\n",
       "      <td>5706.000000</td>\n",
       "    </tr>\n",
       "    <tr>\n",
       "      <th>max</th>\n",
       "      <td>2021-12-31 00:00:00</td>\n",
       "      <td>NaN</td>\n",
       "      <td>NaN</td>\n",
       "      <td>NaN</td>\n",
       "      <td>NaN</td>\n",
       "      <td>348.000000</td>\n",
       "      <td>351.000000</td>\n",
       "      <td>NaN</td>\n",
       "      <td>NaN</td>\n",
       "      <td>8778.000000</td>\n",
       "    </tr>\n",
       "    <tr>\n",
       "      <th>std</th>\n",
       "      <td>NaN</td>\n",
       "      <td>NaN</td>\n",
       "      <td>NaN</td>\n",
       "      <td>NaN</td>\n",
       "      <td>NaN</td>\n",
       "      <td>9.619833</td>\n",
       "      <td>10.390565</td>\n",
       "      <td>NaN</td>\n",
       "      <td>NaN</td>\n",
       "      <td>2631.466224</td>\n",
       "    </tr>\n",
       "  </tbody>\n",
       "</table>\n",
       "</div>"
      ],
      "text/plain": [
       "                                 Date   Time     Day             Station  \\\n",
       "count                           16370  16370   16370               16370   \n",
       "unique                            NaN   1383       7                 284   \n",
       "top                               NaN  22:00  Friday  VAUGHAN MC STATION   \n",
       "freq                              NaN    437    2600                 927   \n",
       "mean    2021-07-16 12:47:30.091631104    NaN     NaN                 NaN   \n",
       "min               2021-01-01 00:00:00    NaN     NaN                 NaN   \n",
       "25%               2021-04-13 00:00:00    NaN     NaN                 NaN   \n",
       "50%               2021-07-24 12:00:00    NaN     NaN                 NaN   \n",
       "75%               2021-10-23 00:00:00    NaN     NaN                 NaN   \n",
       "max               2021-12-31 00:00:00    NaN     NaN                 NaN   \n",
       "std                               NaN    NaN     NaN                 NaN   \n",
       "\n",
       "         Code     Min Delay       Min Gap  Bound   Line       Vehicle  \n",
       "count   16370  16370.000000  16370.000000  12119  16318  16370.000000  \n",
       "unique    173           NaN           NaN      5     17           NaN  \n",
       "top      SUDP           NaN           NaN      S     YU           NaN  \n",
       "freq     2015           NaN           NaN   4216   8880           NaN  \n",
       "mean      NaN      3.268418      5.057972    NaN    NaN   3642.871228  \n",
       "min       NaN      0.000000      0.000000    NaN    NaN      0.000000  \n",
       "25%       NaN      0.000000      0.000000    NaN    NaN      0.000000  \n",
       "50%       NaN      0.000000      0.000000    NaN    NaN   5198.500000  \n",
       "75%       NaN      4.000000      8.000000    NaN    NaN   5706.000000  \n",
       "max       NaN    348.000000    351.000000    NaN    NaN   8778.000000  \n",
       "std       NaN      9.619833     10.390565    NaN    NaN   2631.466224  "
      ]
     },
     "execution_count": 74,
     "metadata": {},
     "output_type": "execute_result"
    }
   ],
   "source": [
    "all_delays.describe(include='all',  # summarize non-numeric columns too\n",
    "                    datetime_is_numeric=True  # silence a warning about treating dates as categorical data\n",
    "                   )"
   ]
  },
  {
   "cell_type": "code",
   "execution_count": 75,
   "id": "07e60e59",
   "metadata": {
    "scrolled": true
   },
   "outputs": [
    {
     "name": "stdout",
     "output_type": "stream",
     "text": [
      "<class 'pandas.core.frame.DataFrame'>\n",
      "RangeIndex: 16370 entries, 0 to 16369\n",
      "Data columns (total 10 columns):\n",
      " #   Column     Non-Null Count  Dtype         \n",
      "---  ------     --------------  -----         \n",
      " 0   Date       16370 non-null  datetime64[ns]\n",
      " 1   Time       16370 non-null  object        \n",
      " 2   Day        16370 non-null  object        \n",
      " 3   Station    16370 non-null  object        \n",
      " 4   Code       16370 non-null  object        \n",
      " 5   Min Delay  16370 non-null  int64         \n",
      " 6   Min Gap    16370 non-null  int64         \n",
      " 7   Bound      12119 non-null  object        \n",
      " 8   Line       16318 non-null  object        \n",
      " 9   Vehicle    16370 non-null  int64         \n",
      "dtypes: datetime64[ns](1), int64(3), object(6)\n",
      "memory usage: 1.2+ MB\n"
     ]
    }
   ],
   "source": [
    "all_delays.info()"
   ]
  },
  {
   "cell_type": "code",
   "execution_count": 76,
   "id": "2d89ae84",
   "metadata": {},
   "outputs": [
    {
     "data": {
      "text/plain": [
       "Index(['date', 'time', 'day', 'station', 'code', 'min_delay', 'min_gap',\n",
       "       'bound', 'line', 'vehicle'],\n",
       "      dtype='object')"
      ]
     },
     "execution_count": 76,
     "metadata": {},
     "output_type": "execute_result"
    }
   ],
   "source": [
    "def clean_names(colname):\n",
    "    return colname.lower().replace(' ', '_')\n",
    "\n",
    "all_delays = all_delays.rename(columns=clean_names)\n",
    "all_delays.columns"
   ]
  },
  {
   "cell_type": "code",
   "execution_count": 77,
   "id": "78ffcc70",
   "metadata": {},
   "outputs": [],
   "source": [
    "# mutate in place\n",
    "# all_delays.rename(columns=clean_names, inplace=True)"
   ]
  },
  {
   "cell_type": "code",
   "execution_count": 78,
   "id": "4f12708e",
   "metadata": {},
   "outputs": [
    {
     "data": {
      "text/plain": [
       "array(['MUPAA', 'EUCO', 'EUCD', 'MUIS', 'MUO', 'MRO', 'TUO', 'MUATC',\n",
       "       'TUMVS', 'TUKEY', 'MUPLB', 'PUSRA', 'MUIR', 'SUDP', 'TRST', 'EUSC',\n",
       "       'MUSC', 'EUNT', 'TUST', 'MUI', 'MUNOA', 'PUSIS', 'TUOS', 'SUAP',\n",
       "       'EUTR', 'TUSC', 'TUNIP', 'MUIRS', 'SUPOL', 'SUO', 'SRAP', 'TUNOA',\n",
       "       'MUPR1', 'EUAC', 'PUTOE', 'EUDO', 'EUOE', 'MUNCA', 'PUMEL',\n",
       "       'PUMST', 'SUUT', 'ERME', 'EUBO', 'PUSO', 'PUSWZ', 'ERTC', 'MUTO',\n",
       "       'PUMO', 'MUIE', 'PUTR', 'MUDD', 'EUPI', 'TUATC', 'PUSTS', 'MUSAN',\n",
       "       'TRO', 'PUTWZ', 'PUSSW', 'TUSUP', 'PUSTC', 'EUO', 'SUG', 'EUME',\n",
       "       'MUCL', 'PRSO', 'TUDOE', 'EUTRD', 'SUROB', 'SUAE', 'MUD', 'EUTL',\n",
       "       'TRNIP', 'MRUI', 'PREL', 'EUBK', 'SRDP', 'MUTD', 'SRO', 'SUSA',\n",
       "       'MRCL', 'TUS', 'EUCA', 'PRSA', 'SUEAS', 'EUECD', 'ERDO', 'EUAL',\n",
       "       'PUTIJ', 'PUSI', 'EUVE', 'PUTSM', 'EUATC', 'PUOPO', 'PUTIS',\n",
       "       'ERCO', 'PUTDN', 'MRPAA', 'PUSAC', 'MRTO', 'TUCC', 'TRTC', 'ERCD',\n",
       "       'TUOPO', 'PUSCR', 'PUCSC', 'EUYRD', 'PUSNT', 'MUESA', 'PUTO',\n",
       "       'MUPLC', 'TUML', 'TRNCA', 'MUWEA', 'MRUIR', 'PRO', 'SRUT', 'PUTTP',\n",
       "       'PUDCS', 'PRS', 'SUPD', 'EULV', 'PUTTC', 'MRDD', 'MUWR', 'PUATC',\n",
       "       'MUFS', 'ERPR', 'PUTSC', 'PUTD', 'PUEO', 'PUSZC', 'EUVA', 'ERBO',\n",
       "       'TRSET', 'MRSAN', 'TUNCA', 'PRSW', 'PUSCA', 'SUBT', 'EUTM',\n",
       "       'MRWEA', 'PRSL', 'ERAC', 'PUEWZ', 'SRAE', 'MUODC', 'PUSTP',\n",
       "       'PUTNT', 'PUCSS', 'ERO', 'MRIE', 'MUPLA', 'MRNOA', 'MRD', 'EUOPO',\n",
       "       'ERDB', 'ERLT', 'EUNEA', 'SUSP', 'EULT', 'TRNOA', 'SREAS', 'PUSIO',\n",
       "       'XXXXX', 'ERLV', 'ERTR', 'MUEC', 'MRLD', 'MRPR1', 'ERRA', 'TUSET',\n",
       "       'SUCOL', 'MRPLB'], dtype=object)"
      ]
     },
     "execution_count": 78,
     "metadata": {},
     "output_type": "execute_result"
    }
   ],
   "source": [
    "all_delays['code'].unique()"
   ]
  },
  {
   "cell_type": "code",
   "execution_count": 79,
   "id": "25161c79",
   "metadata": {},
   "outputs": [
    {
     "data": {
      "text/plain": [
       "{'SUB':     RMENU CODE                     CODE DESCRIPTION SUB OR SRT\n",
       " 0         EUAC                     Air Conditioning        SUB\n",
       " 1         EUAL                  Alternating Current        SUB\n",
       " 2        EUATC                   ATC RC&S Equipment        SUB\n",
       " 3         EUBK                               Brakes        SUB\n",
       " 4         EUBO                                 Body        SUB\n",
       " ..         ...                                  ...        ...\n",
       " 124        TUS     Crew Unable to Maintain Schedule        SUB\n",
       " 125       TUSC                Operator Overspeeding        SUB\n",
       " 126      TUSET  Train Controls Improperly Shut Down        SUB\n",
       " 127       TUST                         Storm Trains        SUB\n",
       " 128      TUSUP                    Supervisory Error        SUB\n",
       " \n",
       " [129 rows x 3 columns],\n",
       " 'SRT':    RMENU CODE                            CODE DESCRIPTION SUB OR SRT\n",
       " 0        ERAC                            Air Conditioning        SRT\n",
       " 1        ERBO                                        Body        SRT\n",
       " 2        ERCD  Consequential Delay (2nd Delay Same Fault)        SRT\n",
       " 3        ERCO                                    Couplers        SRT\n",
       " 4        ERDB                                 Disc Brakes        SRT\n",
       " ..        ...                                         ...        ...\n",
       " 66      TRNOA          No Operator Immediately Available         SRT\n",
       " 67        TRO           Transportation Department - Other        SRT\n",
       " 68      TRSET         Train Controls Improperly Shut Down        SRT\n",
       " 69       TRST                                Storm Trains        SRT\n",
       " 70       TRTC            Transit Control Related Problems        SRT\n",
       " \n",
       " [71 rows x 3 columns]}"
      ]
     },
     "execution_count": 79,
     "metadata": {},
     "output_type": "execute_result"
    }
   ],
   "source": [
    "code_url = 'https://github.com/amfz/dsi-python-workshop/raw/main/data/ttc-subway-delay-codes.xlsx'\n",
    "delay_codes = pd.read_excel(code_url, sheet_name=None)\n",
    "delay_codes"
   ]
  },
  {
   "cell_type": "code",
   "execution_count": 80,
   "id": "10f8e544",
   "metadata": {},
   "outputs": [
    {
     "data": {
      "text/html": [
       "<div>\n",
       "<style scoped>\n",
       "    .dataframe tbody tr th:only-of-type {\n",
       "        vertical-align: middle;\n",
       "    }\n",
       "\n",
       "    .dataframe tbody tr th {\n",
       "        vertical-align: top;\n",
       "    }\n",
       "\n",
       "    .dataframe thead th {\n",
       "        text-align: right;\n",
       "    }\n",
       "</style>\n",
       "<table border=\"1\" class=\"dataframe\">\n",
       "  <thead>\n",
       "    <tr style=\"text-align: right;\">\n",
       "      <th></th>\n",
       "      <th>RMENU CODE</th>\n",
       "      <th>CODE DESCRIPTION</th>\n",
       "      <th>SUB OR SRT</th>\n",
       "    </tr>\n",
       "  </thead>\n",
       "  <tbody>\n",
       "    <tr>\n",
       "      <th>0</th>\n",
       "      <td>EUAC</td>\n",
       "      <td>Air Conditioning</td>\n",
       "      <td>SUB</td>\n",
       "    </tr>\n",
       "    <tr>\n",
       "      <th>1</th>\n",
       "      <td>EUAL</td>\n",
       "      <td>Alternating Current</td>\n",
       "      <td>SUB</td>\n",
       "    </tr>\n",
       "    <tr>\n",
       "      <th>2</th>\n",
       "      <td>EUATC</td>\n",
       "      <td>ATC RC&amp;S Equipment</td>\n",
       "      <td>SUB</td>\n",
       "    </tr>\n",
       "    <tr>\n",
       "      <th>3</th>\n",
       "      <td>EUBK</td>\n",
       "      <td>Brakes</td>\n",
       "      <td>SUB</td>\n",
       "    </tr>\n",
       "    <tr>\n",
       "      <th>4</th>\n",
       "      <td>EUBO</td>\n",
       "      <td>Body</td>\n",
       "      <td>SUB</td>\n",
       "    </tr>\n",
       "  </tbody>\n",
       "</table>\n",
       "</div>"
      ],
      "text/plain": [
       "  RMENU CODE     CODE DESCRIPTION SUB OR SRT\n",
       "0       EUAC     Air Conditioning        SUB\n",
       "1       EUAL  Alternating Current        SUB\n",
       "2      EUATC   ATC RC&S Equipment        SUB\n",
       "3       EUBK               Brakes        SUB\n",
       "4       EUBO                 Body        SUB"
      ]
     },
     "execution_count": 80,
     "metadata": {},
     "output_type": "execute_result"
    }
   ],
   "source": [
    "delay_codes_df = pd.DataFrame()\n",
    "\n",
    "for sheet, df in delay_codes.items():\n",
    "    delay_codes_df = pd.concat([delay_codes_df, df],\n",
    "                              axis=0,\n",
    "                              ignore_index=True)\n",
    "    \n",
    "delay_codes_df.head()"
   ]
  },
  {
   "cell_type": "code",
   "execution_count": 81,
   "id": "10c93d1d",
   "metadata": {},
   "outputs": [
    {
     "data": {
      "text/html": [
       "<div>\n",
       "<style scoped>\n",
       "    .dataframe tbody tr th:only-of-type {\n",
       "        vertical-align: middle;\n",
       "    }\n",
       "\n",
       "    .dataframe tbody tr th {\n",
       "        vertical-align: top;\n",
       "    }\n",
       "\n",
       "    .dataframe thead th {\n",
       "        text-align: right;\n",
       "    }\n",
       "</style>\n",
       "<table border=\"1\" class=\"dataframe\">\n",
       "  <thead>\n",
       "    <tr style=\"text-align: right;\">\n",
       "      <th></th>\n",
       "      <th>date</th>\n",
       "      <th>time</th>\n",
       "      <th>day</th>\n",
       "      <th>station</th>\n",
       "      <th>code</th>\n",
       "      <th>min_delay</th>\n",
       "      <th>min_gap</th>\n",
       "      <th>bound</th>\n",
       "      <th>line</th>\n",
       "      <th>vehicle</th>\n",
       "      <th>RMENU CODE</th>\n",
       "      <th>CODE DESCRIPTION</th>\n",
       "      <th>SUB OR SRT</th>\n",
       "    </tr>\n",
       "  </thead>\n",
       "  <tbody>\n",
       "    <tr>\n",
       "      <th>0</th>\n",
       "      <td>2021-01-01</td>\n",
       "      <td>00:33</td>\n",
       "      <td>Friday</td>\n",
       "      <td>BLOOR STATION</td>\n",
       "      <td>MUPAA</td>\n",
       "      <td>0</td>\n",
       "      <td>0</td>\n",
       "      <td>N</td>\n",
       "      <td>YU</td>\n",
       "      <td>6046</td>\n",
       "      <td>MUPAA</td>\n",
       "      <td>Passenger Assistance Alarm Activated - No Trou...</td>\n",
       "      <td>SUB</td>\n",
       "    </tr>\n",
       "    <tr>\n",
       "      <th>1</th>\n",
       "      <td>2021-01-01</td>\n",
       "      <td>00:39</td>\n",
       "      <td>Friday</td>\n",
       "      <td>SHERBOURNE STATION</td>\n",
       "      <td>EUCO</td>\n",
       "      <td>5</td>\n",
       "      <td>9</td>\n",
       "      <td>E</td>\n",
       "      <td>BD</td>\n",
       "      <td>5250</td>\n",
       "      <td>EUCO</td>\n",
       "      <td>Couplers</td>\n",
       "      <td>SUB</td>\n",
       "    </tr>\n",
       "    <tr>\n",
       "      <th>2</th>\n",
       "      <td>2021-01-01</td>\n",
       "      <td>01:07</td>\n",
       "      <td>Friday</td>\n",
       "      <td>KENNEDY BD STATION</td>\n",
       "      <td>EUCD</td>\n",
       "      <td>5</td>\n",
       "      <td>9</td>\n",
       "      <td>E</td>\n",
       "      <td>BD</td>\n",
       "      <td>5249</td>\n",
       "      <td>EUCD</td>\n",
       "      <td>Consequential Delay (2nd Delay Same Fault)</td>\n",
       "      <td>SUB</td>\n",
       "    </tr>\n",
       "    <tr>\n",
       "      <th>3</th>\n",
       "      <td>2021-01-01</td>\n",
       "      <td>01:41</td>\n",
       "      <td>Friday</td>\n",
       "      <td>ST CLAIR STATION</td>\n",
       "      <td>MUIS</td>\n",
       "      <td>0</td>\n",
       "      <td>0</td>\n",
       "      <td>NaN</td>\n",
       "      <td>YU</td>\n",
       "      <td>0</td>\n",
       "      <td>MUIS</td>\n",
       "      <td>Injured or ill Customer (In Station) - Transpo...</td>\n",
       "      <td>SUB</td>\n",
       "    </tr>\n",
       "    <tr>\n",
       "      <th>4</th>\n",
       "      <td>2021-01-01</td>\n",
       "      <td>02:04</td>\n",
       "      <td>Friday</td>\n",
       "      <td>SHEPPARD WEST STATION</td>\n",
       "      <td>MUIS</td>\n",
       "      <td>0</td>\n",
       "      <td>0</td>\n",
       "      <td>NaN</td>\n",
       "      <td>YU</td>\n",
       "      <td>0</td>\n",
       "      <td>MUIS</td>\n",
       "      <td>Injured or ill Customer (In Station) - Transpo...</td>\n",
       "      <td>SUB</td>\n",
       "    </tr>\n",
       "  </tbody>\n",
       "</table>\n",
       "</div>"
      ],
      "text/plain": [
       "        date   time     day                station   code  min_delay  min_gap  \\\n",
       "0 2021-01-01  00:33  Friday          BLOOR STATION  MUPAA          0        0   \n",
       "1 2021-01-01  00:39  Friday     SHERBOURNE STATION   EUCO          5        9   \n",
       "2 2021-01-01  01:07  Friday     KENNEDY BD STATION   EUCD          5        9   \n",
       "3 2021-01-01  01:41  Friday       ST CLAIR STATION   MUIS          0        0   \n",
       "4 2021-01-01  02:04  Friday  SHEPPARD WEST STATION   MUIS          0        0   \n",
       "\n",
       "  bound line  vehicle RMENU CODE  \\\n",
       "0     N   YU     6046      MUPAA   \n",
       "1     E   BD     5250       EUCO   \n",
       "2     E   BD     5249       EUCD   \n",
       "3   NaN   YU        0       MUIS   \n",
       "4   NaN   YU        0       MUIS   \n",
       "\n",
       "                                    CODE DESCRIPTION SUB OR SRT  \n",
       "0  Passenger Assistance Alarm Activated - No Trou...        SUB  \n",
       "1                                           Couplers        SUB  \n",
       "2         Consequential Delay (2nd Delay Same Fault)        SUB  \n",
       "3  Injured or ill Customer (In Station) - Transpo...        SUB  \n",
       "4  Injured or ill Customer (In Station) - Transpo...        SUB  "
      ]
     },
     "execution_count": 81,
     "metadata": {},
     "output_type": "execute_result"
    }
   ],
   "source": [
    "delays_w_reasons = pd.merge(all_delays,\n",
    "                            delay_codes_df,\n",
    "                            how='left',\n",
    "                            left_on='code',\n",
    "                            right_on='RMENU CODE'\n",
    "                           )\n",
    "delays_w_reasons.head()"
   ]
  },
  {
   "cell_type": "code",
   "execution_count": 86,
   "id": "8ce04fde",
   "metadata": {},
   "outputs": [
    {
     "data": {
      "text/html": [
       "<div>\n",
       "<style scoped>\n",
       "    .dataframe tbody tr th:only-of-type {\n",
       "        vertical-align: middle;\n",
       "    }\n",
       "\n",
       "    .dataframe tbody tr th {\n",
       "        vertical-align: top;\n",
       "    }\n",
       "\n",
       "    .dataframe thead th {\n",
       "        text-align: right;\n",
       "    }\n",
       "</style>\n",
       "<table border=\"1\" class=\"dataframe\">\n",
       "  <thead>\n",
       "    <tr style=\"text-align: right;\">\n",
       "      <th></th>\n",
       "      <th>date</th>\n",
       "      <th>time</th>\n",
       "      <th>day</th>\n",
       "      <th>station</th>\n",
       "      <th>code</th>\n",
       "      <th>min_delay</th>\n",
       "      <th>min_gap</th>\n",
       "      <th>bound</th>\n",
       "      <th>line</th>\n",
       "      <th>vehicle</th>\n",
       "      <th>RMENU CODE</th>\n",
       "      <th>CODE DESCRIPTION</th>\n",
       "      <th>SUB OR SRT</th>\n",
       "    </tr>\n",
       "  </thead>\n",
       "  <tbody>\n",
       "    <tr>\n",
       "      <th>0</th>\n",
       "      <td>2021-01-01</td>\n",
       "      <td>00:33</td>\n",
       "      <td>Friday</td>\n",
       "      <td>BLOOR STATION</td>\n",
       "      <td>MUPAA</td>\n",
       "      <td>0</td>\n",
       "      <td>0</td>\n",
       "      <td>N</td>\n",
       "      <td>YU</td>\n",
       "      <td>6046</td>\n",
       "      <td>MUPAA</td>\n",
       "      <td>Passenger Assistance Alarm Activated - No Trou...</td>\n",
       "      <td>SUB</td>\n",
       "    </tr>\n",
       "    <tr>\n",
       "      <th>1</th>\n",
       "      <td>2021-01-01</td>\n",
       "      <td>00:39</td>\n",
       "      <td>Friday</td>\n",
       "      <td>SHERBOURNE STATION</td>\n",
       "      <td>EUCO</td>\n",
       "      <td>5</td>\n",
       "      <td>9</td>\n",
       "      <td>E</td>\n",
       "      <td>BD</td>\n",
       "      <td>5250</td>\n",
       "      <td>EUCO</td>\n",
       "      <td>Couplers</td>\n",
       "      <td>SUB</td>\n",
       "    </tr>\n",
       "    <tr>\n",
       "      <th>2</th>\n",
       "      <td>2021-01-01</td>\n",
       "      <td>01:07</td>\n",
       "      <td>Friday</td>\n",
       "      <td>KENNEDY BD STATION</td>\n",
       "      <td>EUCD</td>\n",
       "      <td>5</td>\n",
       "      <td>9</td>\n",
       "      <td>E</td>\n",
       "      <td>BD</td>\n",
       "      <td>5249</td>\n",
       "      <td>EUCD</td>\n",
       "      <td>Consequential Delay (2nd Delay Same Fault)</td>\n",
       "      <td>SUB</td>\n",
       "    </tr>\n",
       "    <tr>\n",
       "      <th>3</th>\n",
       "      <td>2021-01-01</td>\n",
       "      <td>01:41</td>\n",
       "      <td>Friday</td>\n",
       "      <td>ST CLAIR STATION</td>\n",
       "      <td>MUIS</td>\n",
       "      <td>0</td>\n",
       "      <td>0</td>\n",
       "      <td>NaN</td>\n",
       "      <td>YU</td>\n",
       "      <td>0</td>\n",
       "      <td>MUIS</td>\n",
       "      <td>Injured or ill Customer (In Station) - Transpo...</td>\n",
       "      <td>SUB</td>\n",
       "    </tr>\n",
       "    <tr>\n",
       "      <th>4</th>\n",
       "      <td>2021-01-01</td>\n",
       "      <td>02:04</td>\n",
       "      <td>Friday</td>\n",
       "      <td>SHEPPARD WEST STATION</td>\n",
       "      <td>MUIS</td>\n",
       "      <td>0</td>\n",
       "      <td>0</td>\n",
       "      <td>NaN</td>\n",
       "      <td>YU</td>\n",
       "      <td>0</td>\n",
       "      <td>MUIS</td>\n",
       "      <td>Injured or ill Customer (In Station) - Transpo...</td>\n",
       "      <td>SUB</td>\n",
       "    </tr>\n",
       "  </tbody>\n",
       "</table>\n",
       "</div>"
      ],
      "text/plain": [
       "        date   time     day                station   code  min_delay  min_gap  \\\n",
       "0 2021-01-01  00:33  Friday          BLOOR STATION  MUPAA          0        0   \n",
       "1 2021-01-01  00:39  Friday     SHERBOURNE STATION   EUCO          5        9   \n",
       "2 2021-01-01  01:07  Friday     KENNEDY BD STATION   EUCD          5        9   \n",
       "3 2021-01-01  01:41  Friday       ST CLAIR STATION   MUIS          0        0   \n",
       "4 2021-01-01  02:04  Friday  SHEPPARD WEST STATION   MUIS          0        0   \n",
       "\n",
       "  bound line  vehicle RMENU CODE  \\\n",
       "0     N   YU     6046      MUPAA   \n",
       "1     E   BD     5250       EUCO   \n",
       "2     E   BD     5249       EUCD   \n",
       "3   NaN   YU        0       MUIS   \n",
       "4   NaN   YU        0       MUIS   \n",
       "\n",
       "                                    CODE DESCRIPTION SUB OR SRT  \n",
       "0  Passenger Assistance Alarm Activated - No Trou...        SUB  \n",
       "1                                           Couplers        SUB  \n",
       "2         Consequential Delay (2nd Delay Same Fault)        SUB  \n",
       "3  Injured or ill Customer (In Station) - Transpo...        SUB  \n",
       "4  Injured or ill Customer (In Station) - Transpo...        SUB  "
      ]
     },
     "execution_count": 86,
     "metadata": {},
     "output_type": "execute_result"
    }
   ],
   "source": [
    "# merge is also a DataFrame method\n",
    "# this does the same thing as the code cell above\n",
    "dwr2 = all_delays.merge(delay_codes_df,\n",
    "                        how='left',\n",
    "                        left_on='code',\n",
    "                        right_on='RMENU CODE'\n",
    "                       )\n",
    "dwr2.head()"
   ]
  },
  {
   "cell_type": "code",
   "execution_count": 82,
   "id": "65b1ee9b",
   "metadata": {},
   "outputs": [
    {
     "data": {
      "text/plain": [
       "Index(['date', 'time', 'day', 'station', 'code', 'min_delay', 'min_gap',\n",
       "       'bound', 'line', 'vehicle', 'rmenu_code', 'code_description',\n",
       "       'sub_or_srt'],\n",
       "      dtype='object')"
      ]
     },
     "execution_count": 82,
     "metadata": {},
     "output_type": "execute_result"
    }
   ],
   "source": [
    "delays_w_reasons = delays_w_reasons.rename(columns=clean_names)\n",
    "delays_w_reasons.columns"
   ]
  },
  {
   "cell_type": "code",
   "execution_count": 83,
   "id": "bf1f76df",
   "metadata": {},
   "outputs": [
    {
     "data": {
      "text/html": [
       "<div>\n",
       "<style scoped>\n",
       "    .dataframe tbody tr th:only-of-type {\n",
       "        vertical-align: middle;\n",
       "    }\n",
       "\n",
       "    .dataframe tbody tr th {\n",
       "        vertical-align: top;\n",
       "    }\n",
       "\n",
       "    .dataframe thead th {\n",
       "        text-align: right;\n",
       "    }\n",
       "</style>\n",
       "<table border=\"1\" class=\"dataframe\">\n",
       "  <thead>\n",
       "    <tr style=\"text-align: right;\">\n",
       "      <th></th>\n",
       "      <th>code</th>\n",
       "      <th>code_description</th>\n",
       "    </tr>\n",
       "  </thead>\n",
       "  <tbody>\n",
       "    <tr>\n",
       "      <th>count</th>\n",
       "      <td>16370</td>\n",
       "      <td>16048</td>\n",
       "    </tr>\n",
       "    <tr>\n",
       "      <th>unique</th>\n",
       "      <td>173</td>\n",
       "      <td>129</td>\n",
       "    </tr>\n",
       "    <tr>\n",
       "      <th>top</th>\n",
       "      <td>SUDP</td>\n",
       "      <td>Disorderly Patron</td>\n",
       "    </tr>\n",
       "    <tr>\n",
       "      <th>freq</th>\n",
       "      <td>2015</td>\n",
       "      <td>2051</td>\n",
       "    </tr>\n",
       "  </tbody>\n",
       "</table>\n",
       "</div>"
      ],
      "text/plain": [
       "         code   code_description\n",
       "count   16370              16048\n",
       "unique    173                129\n",
       "top      SUDP  Disorderly Patron\n",
       "freq     2015               2051"
      ]
     },
     "execution_count": 83,
     "metadata": {},
     "output_type": "execute_result"
    }
   ],
   "source": [
    "delays_w_reasons[['code', 'code_description']].describe(include='all')"
   ]
  },
  {
   "cell_type": "code",
   "execution_count": 84,
   "id": "068b17ce",
   "metadata": {},
   "outputs": [
    {
     "data": {
      "text/html": [
       "<div>\n",
       "<style scoped>\n",
       "    .dataframe tbody tr th:only-of-type {\n",
       "        vertical-align: middle;\n",
       "    }\n",
       "\n",
       "    .dataframe tbody tr th {\n",
       "        vertical-align: top;\n",
       "    }\n",
       "\n",
       "    .dataframe thead th {\n",
       "        text-align: right;\n",
       "    }\n",
       "</style>\n",
       "<table border=\"1\" class=\"dataframe\">\n",
       "  <thead>\n",
       "    <tr style=\"text-align: right;\">\n",
       "      <th></th>\n",
       "      <th>date</th>\n",
       "      <th>time</th>\n",
       "      <th>day</th>\n",
       "      <th>station</th>\n",
       "      <th>code</th>\n",
       "      <th>min_delay</th>\n",
       "      <th>min_gap</th>\n",
       "      <th>bound</th>\n",
       "      <th>line</th>\n",
       "      <th>vehicle</th>\n",
       "      <th>code_description</th>\n",
       "    </tr>\n",
       "  </thead>\n",
       "  <tbody>\n",
       "    <tr>\n",
       "      <th>16365</th>\n",
       "      <td>2021-12-31</td>\n",
       "      <td>01:10</td>\n",
       "      <td>Friday</td>\n",
       "      <td>MUSEUM STATION</td>\n",
       "      <td>SUUT</td>\n",
       "      <td>0</td>\n",
       "      <td>0</td>\n",
       "      <td>N</td>\n",
       "      <td>YU</td>\n",
       "      <td>5591</td>\n",
       "      <td>Unauthorized at Track Level</td>\n",
       "    </tr>\n",
       "    <tr>\n",
       "      <th>16366</th>\n",
       "      <td>2021-12-31</td>\n",
       "      <td>01:12</td>\n",
       "      <td>Friday</td>\n",
       "      <td>FINCH STATION</td>\n",
       "      <td>SUDP</td>\n",
       "      <td>5</td>\n",
       "      <td>10</td>\n",
       "      <td>S</td>\n",
       "      <td>YU</td>\n",
       "      <td>5983</td>\n",
       "      <td>Disorderly Patron</td>\n",
       "    </tr>\n",
       "    <tr>\n",
       "      <th>16367</th>\n",
       "      <td>2021-12-31</td>\n",
       "      <td>01:21</td>\n",
       "      <td>Friday</td>\n",
       "      <td>EGLINTON WEST STATION</td>\n",
       "      <td>PUOPO</td>\n",
       "      <td>3</td>\n",
       "      <td>8</td>\n",
       "      <td>N</td>\n",
       "      <td>YU</td>\n",
       "      <td>6046</td>\n",
       "      <td>OPTO (COMMS) Train Door Monitoring</td>\n",
       "    </tr>\n",
       "    <tr>\n",
       "      <th>16368</th>\n",
       "      <td>2021-12-31</td>\n",
       "      <td>01:37</td>\n",
       "      <td>Friday</td>\n",
       "      <td>SHEPPARD WEST STATION</td>\n",
       "      <td>SUDP</td>\n",
       "      <td>0</td>\n",
       "      <td>0</td>\n",
       "      <td>S</td>\n",
       "      <td>YU</td>\n",
       "      <td>5536</td>\n",
       "      <td>Disorderly Patron</td>\n",
       "    </tr>\n",
       "    <tr>\n",
       "      <th>16369</th>\n",
       "      <td>2021-12-31</td>\n",
       "      <td>07:00</td>\n",
       "      <td>Friday</td>\n",
       "      <td>DON MILLS STATION</td>\n",
       "      <td>TUSC</td>\n",
       "      <td>0</td>\n",
       "      <td>0</td>\n",
       "      <td>E</td>\n",
       "      <td>SHP</td>\n",
       "      <td>6146</td>\n",
       "      <td>Operator Overspeeding</td>\n",
       "    </tr>\n",
       "  </tbody>\n",
       "</table>\n",
       "</div>"
      ],
      "text/plain": [
       "            date   time     day                station   code  min_delay  \\\n",
       "16365 2021-12-31  01:10  Friday         MUSEUM STATION   SUUT          0   \n",
       "16366 2021-12-31  01:12  Friday          FINCH STATION   SUDP          5   \n",
       "16367 2021-12-31  01:21  Friday  EGLINTON WEST STATION  PUOPO          3   \n",
       "16368 2021-12-31  01:37  Friday  SHEPPARD WEST STATION   SUDP          0   \n",
       "16369 2021-12-31  07:00  Friday      DON MILLS STATION   TUSC          0   \n",
       "\n",
       "       min_gap bound line  vehicle                    code_description  \n",
       "16365        0     N   YU     5591         Unauthorized at Track Level  \n",
       "16366       10     S   YU     5983                   Disorderly Patron  \n",
       "16367        8     N   YU     6046  OPTO (COMMS) Train Door Monitoring  \n",
       "16368        0     S   YU     5536                   Disorderly Patron  \n",
       "16369        0     E  SHP     6146               Operator Overspeeding  "
      ]
     },
     "execution_count": 84,
     "metadata": {},
     "output_type": "execute_result"
    }
   ],
   "source": [
    "delays_w_reasons = delays_w_reasons.drop(columns=['rmenu_code', 'sub_or_srt'])\n",
    "delays_w_reasons.tail()"
   ]
  },
  {
   "cell_type": "code",
   "execution_count": 85,
   "id": "afd66129",
   "metadata": {},
   "outputs": [],
   "source": [
    "delays_w_reasons.to_excel('delays_w_reasons.xlsx', index=False)\n",
    "\n",
    "delays_w_reasons.to_csv('delays_w_reasons.csv', index=False)"
   ]
  }
 ],
 "metadata": {
  "kernelspec": {
   "display_name": "Python 3 (ipykernel)",
   "language": "python",
   "name": "python3"
  },
  "language_info": {
   "codemirror_mode": {
    "name": "ipython",
    "version": 3
   },
   "file_extension": ".py",
   "mimetype": "text/x-python",
   "name": "python",
   "nbconvert_exporter": "python",
   "pygments_lexer": "ipython3",
   "version": "3.10.4"
  }
 },
 "nbformat": 4,
 "nbformat_minor": 5
}
