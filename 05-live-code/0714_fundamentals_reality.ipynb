{
 "cells": [
  {
   "cell_type": "markdown",
   "id": "7250b798",
   "metadata": {},
   "source": [
    "# Getting Started and Dealing with Reality\n",
    "## Intro Python\n",
    "\n",
    "14 July 2022"
   ]
  },
  {
   "cell_type": "markdown",
   "id": "ae7dd5c3",
   "metadata": {},
   "source": [
    "## Last Session...\n",
    "\n",
    "* Numeric data types (`int`, `float`)\n",
    "* Statements and expressions\n",
    "* Variables\n",
    "* Functions\n",
    "* Comments\n",
    "* Errors"
   ]
  },
  {
   "cell_type": "markdown",
   "id": "b3ada913",
   "metadata": {},
   "source": [
    "## Strings\n",
    "\n",
    "Last session: operations, comparisons, slicing"
   ]
  },
  {
   "cell_type": "code",
   "execution_count": 1,
   "id": "221ed27f",
   "metadata": {},
   "outputs": [
    {
     "data": {
      "text/plain": [
       "'this is my string'"
      ]
     },
     "execution_count": 1,
     "metadata": {},
     "output_type": "execute_result"
    }
   ],
   "source": [
    "'this is my string'"
   ]
  },
  {
   "cell_type": "code",
   "execution_count": 2,
   "id": "8a274dd3",
   "metadata": {},
   "outputs": [],
   "source": [
    "string = 'this is a string'"
   ]
  },
  {
   "cell_type": "code",
   "execution_count": 3,
   "id": "2a706d4c",
   "metadata": {},
   "outputs": [
    {
     "data": {
      "text/plain": [
       "'this is a string60'"
      ]
     },
     "execution_count": 3,
     "metadata": {},
     "output_type": "execute_result"
    }
   ],
   "source": [
    "string + '60'"
   ]
  },
  {
   "cell_type": "code",
   "execution_count": 4,
   "id": "a0dd94e4",
   "metadata": {},
   "outputs": [
    {
     "name": "stdout",
     "output_type": "stream",
     "text": [
      "8 is 8\n"
     ]
    }
   ],
   "source": [
    "print(f'{3 + 5} is 8')"
   ]
  },
  {
   "cell_type": "code",
   "execution_count": 5,
   "id": "26becf0a",
   "metadata": {},
   "outputs": [
    {
     "data": {
      "text/plain": [
       "'gnirts a si siht'"
      ]
     },
     "execution_count": 5,
     "metadata": {},
     "output_type": "execute_result"
    }
   ],
   "source": [
    "string[::-1]"
   ]
  },
  {
   "cell_type": "code",
   "execution_count": 6,
   "id": "475c72e4",
   "metadata": {},
   "outputs": [],
   "source": [
    "ds_skill = 'python, r, sql, databases'"
   ]
  },
  {
   "cell_type": "code",
   "execution_count": 7,
   "id": "874ee4b7",
   "metadata": {},
   "outputs": [
    {
     "data": {
      "text/plain": [
       "True"
      ]
     },
     "execution_count": 7,
     "metadata": {},
     "output_type": "execute_result"
    }
   ],
   "source": [
    "'python' in ds_skill"
   ]
  },
  {
   "cell_type": "code",
   "execution_count": 8,
   "id": "6fb12f93",
   "metadata": {},
   "outputs": [
    {
     "data": {
      "text/plain": [
       "False"
      ]
     },
     "execution_count": 8,
     "metadata": {},
     "output_type": "execute_result"
    }
   ],
   "source": [
    "'R' in ds_skill"
   ]
  },
  {
   "cell_type": "code",
   "execution_count": 9,
   "id": "017ef1da",
   "metadata": {},
   "outputs": [],
   "source": [
    "report = 'report_june.csv'"
   ]
  },
  {
   "cell_type": "code",
   "execution_count": 10,
   "id": "bafa251f",
   "metadata": {},
   "outputs": [
    {
     "data": {
      "text/plain": [
       "True"
      ]
     },
     "execution_count": 10,
     "metadata": {},
     "output_type": "execute_result"
    }
   ],
   "source": [
    "'.csv' in report"
   ]
  },
  {
   "cell_type": "markdown",
   "id": "77e09300",
   "metadata": {},
   "source": [
    "### Type conversions"
   ]
  },
  {
   "cell_type": "code",
   "execution_count": 12,
   "id": "d316dc48",
   "metadata": {
    "scrolled": true
   },
   "outputs": [
    {
     "ename": "TypeError",
     "evalue": "can only concatenate str (not \"int\") to str",
     "output_type": "error",
     "traceback": [
      "\u001b[1;31m---------------------------------------------------------------------------\u001b[0m",
      "\u001b[1;31mTypeError\u001b[0m                                 Traceback (most recent call last)",
      "Input \u001b[1;32mIn [12]\u001b[0m, in \u001b[0;36m<cell line: 1>\u001b[1;34m()\u001b[0m\n\u001b[1;32m----> 1\u001b[0m \u001b[38;5;124;43m'\u001b[39;49m\u001b[38;5;124;43m20\u001b[39;49m\u001b[38;5;124;43m'\u001b[39;49m\u001b[43m \u001b[49m\u001b[38;5;241;43m+\u001b[39;49m\u001b[43m \u001b[49m\u001b[38;5;241;43m4\u001b[39;49m\n",
      "\u001b[1;31mTypeError\u001b[0m: can only concatenate str (not \"int\") to str"
     ]
    }
   ],
   "source": [
    "'20' + 4"
   ]
  },
  {
   "cell_type": "code",
   "execution_count": 14,
   "id": "500cfbc2",
   "metadata": {},
   "outputs": [
    {
     "data": {
      "text/plain": [
       "20"
      ]
     },
     "execution_count": 14,
     "metadata": {},
     "output_type": "execute_result"
    }
   ],
   "source": [
    "int('20')"
   ]
  },
  {
   "cell_type": "code",
   "execution_count": 15,
   "id": "e423a74f",
   "metadata": {},
   "outputs": [
    {
     "data": {
      "text/plain": [
       "24"
      ]
     },
     "execution_count": 15,
     "metadata": {},
     "output_type": "execute_result"
    }
   ],
   "source": [
    "int('20') + 4"
   ]
  },
  {
   "cell_type": "code",
   "execution_count": 16,
   "id": "d56a2488",
   "metadata": {},
   "outputs": [
    {
     "data": {
      "text/plain": [
       "20.0"
      ]
     },
     "execution_count": 16,
     "metadata": {},
     "output_type": "execute_result"
    }
   ],
   "source": [
    "float('20')"
   ]
  },
  {
   "cell_type": "code",
   "execution_count": 17,
   "id": "b1bf9d48",
   "metadata": {},
   "outputs": [
    {
     "ename": "ValueError",
     "evalue": "could not convert string to float: 'twenty'",
     "output_type": "error",
     "traceback": [
      "\u001b[1;31m---------------------------------------------------------------------------\u001b[0m",
      "\u001b[1;31mValueError\u001b[0m                                Traceback (most recent call last)",
      "Input \u001b[1;32mIn [17]\u001b[0m, in \u001b[0;36m<cell line: 1>\u001b[1;34m()\u001b[0m\n\u001b[1;32m----> 1\u001b[0m \u001b[38;5;28;43mfloat\u001b[39;49m\u001b[43m(\u001b[49m\u001b[38;5;124;43m'\u001b[39;49m\u001b[38;5;124;43mtwenty\u001b[39;49m\u001b[38;5;124;43m'\u001b[39;49m\u001b[43m)\u001b[49m\n",
      "\u001b[1;31mValueError\u001b[0m: could not convert string to float: 'twenty'"
     ]
    }
   ],
   "source": [
    "float('twenty')"
   ]
  },
  {
   "cell_type": "code",
   "execution_count": 18,
   "id": "546c71f8",
   "metadata": {},
   "outputs": [],
   "source": [
    "my_number = 4165551234"
   ]
  },
  {
   "cell_type": "code",
   "execution_count": 19,
   "id": "3a0ae714",
   "metadata": {},
   "outputs": [
    {
     "ename": "TypeError",
     "evalue": "'int' object is not subscriptable",
     "output_type": "error",
     "traceback": [
      "\u001b[1;31m---------------------------------------------------------------------------\u001b[0m",
      "\u001b[1;31mTypeError\u001b[0m                                 Traceback (most recent call last)",
      "Input \u001b[1;32mIn [19]\u001b[0m, in \u001b[0;36m<cell line: 1>\u001b[1;34m()\u001b[0m\n\u001b[1;32m----> 1\u001b[0m \u001b[43mmy_number\u001b[49m\u001b[43m[\u001b[49m\u001b[43m:\u001b[49m\u001b[38;5;241;43m3\u001b[39;49m\u001b[43m]\u001b[49m\n",
      "\u001b[1;31mTypeError\u001b[0m: 'int' object is not subscriptable"
     ]
    }
   ],
   "source": [
    "# we can't slice numbers\n",
    "my_number[:3]"
   ]
  },
  {
   "cell_type": "code",
   "execution_count": 20,
   "id": "2b30eab7",
   "metadata": {},
   "outputs": [
    {
     "data": {
      "text/plain": [
       "'416'"
      ]
     },
     "execution_count": 20,
     "metadata": {},
     "output_type": "execute_result"
    }
   ],
   "source": [
    "str(my_number)[:3]"
   ]
  },
  {
   "cell_type": "code",
   "execution_count": 21,
   "id": "f997cc23",
   "metadata": {},
   "outputs": [],
   "source": [
    "my_number = str(my_number)"
   ]
  },
  {
   "cell_type": "code",
   "execution_count": 22,
   "id": "0a36310d",
   "metadata": {},
   "outputs": [
    {
     "data": {
      "text/plain": [
       "10"
      ]
     },
     "execution_count": 22,
     "metadata": {},
     "output_type": "execute_result"
    }
   ],
   "source": [
    "len(my_number)"
   ]
  },
  {
   "cell_type": "markdown",
   "id": "04b63fcc",
   "metadata": {},
   "source": [
    "### String methods"
   ]
  },
  {
   "cell_type": "code",
   "execution_count": 25,
   "id": "e84386f6",
   "metadata": {},
   "outputs": [
    {
     "data": {
      "text/plain": [
       "'THIS IS A STRING'"
      ]
     },
     "execution_count": 25,
     "metadata": {},
     "output_type": "execute_result"
    }
   ],
   "source": [
    "string.upper()"
   ]
  },
  {
   "cell_type": "code",
   "execution_count": 26,
   "id": "fff84963",
   "metadata": {},
   "outputs": [
    {
     "data": {
      "text/plain": [
       "2"
      ]
     },
     "execution_count": 26,
     "metadata": {},
     "output_type": "execute_result"
    }
   ],
   "source": [
    "string.count('is')"
   ]
  },
  {
   "cell_type": "code",
   "execution_count": 27,
   "id": "b064d266",
   "metadata": {},
   "outputs": [
    {
     "data": {
      "text/plain": [
       "True"
      ]
     },
     "execution_count": 27,
     "metadata": {},
     "output_type": "execute_result"
    }
   ],
   "source": [
    "'report_june.csv'.endswith('.csv')"
   ]
  },
  {
   "cell_type": "code",
   "execution_count": 28,
   "id": "9c114533",
   "metadata": {},
   "outputs": [
    {
     "data": {
      "text/plain": [
       "True"
      ]
     },
     "execution_count": 28,
     "metadata": {},
     "output_type": "execute_result"
    }
   ],
   "source": [
    "my_number.startswith('416')"
   ]
  },
  {
   "cell_type": "code",
   "execution_count": 29,
   "id": "6643190b",
   "metadata": {},
   "outputs": [
    {
     "data": {
      "text/plain": [
       "'6475551234'"
      ]
     },
     "execution_count": 29,
     "metadata": {},
     "output_type": "execute_result"
    }
   ],
   "source": [
    "my_number = my_number.replace('416', '647')\n",
    "my_number"
   ]
  },
  {
   "cell_type": "code",
   "execution_count": 30,
   "id": "099cae1f",
   "metadata": {},
   "outputs": [
    {
     "data": {
      "text/plain": [
       "'long_file_name_with_spaces.csv'"
      ]
     },
     "execution_count": 30,
     "metadata": {},
     "output_type": "execute_result"
    }
   ],
   "source": [
    "'long file name with spaces.csv'.replace(' ', '_')"
   ]
  },
  {
   "cell_type": "markdown",
   "id": "f8ef8d0e",
   "metadata": {},
   "source": [
    "## Logic"
   ]
  },
  {
   "cell_type": "markdown",
   "id": "ee645b79",
   "metadata": {},
   "source": [
    "* `not`  \n",
    "* `and`  \n",
    "* `or`"
   ]
  },
  {
   "cell_type": "code",
   "execution_count": 31,
   "id": "5b15d03a",
   "metadata": {},
   "outputs": [
    {
     "data": {
      "text/plain": [
       "False"
      ]
     },
     "execution_count": 31,
     "metadata": {},
     "output_type": "execute_result"
    }
   ],
   "source": [
    "not True"
   ]
  },
  {
   "cell_type": "code",
   "execution_count": 32,
   "id": "baa765a9",
   "metadata": {},
   "outputs": [
    {
     "data": {
      "text/plain": [
       "False"
      ]
     },
     "execution_count": 32,
     "metadata": {},
     "output_type": "execute_result"
    }
   ],
   "source": [
    "not 3 == 3"
   ]
  },
  {
   "cell_type": "code",
   "execution_count": 33,
   "id": "32c3148c",
   "metadata": {},
   "outputs": [
    {
     "data": {
      "text/plain": [
       "False"
      ]
     },
     "execution_count": 33,
     "metadata": {},
     "output_type": "execute_result"
    }
   ],
   "source": [
    "not 1"
   ]
  },
  {
   "cell_type": "code",
   "execution_count": 34,
   "id": "a66aa46e",
   "metadata": {},
   "outputs": [
    {
     "data": {
      "text/plain": [
       "False"
      ]
     },
     "execution_count": 34,
     "metadata": {},
     "output_type": "execute_result"
    }
   ],
   "source": [
    "not 'this is a value'"
   ]
  },
  {
   "cell_type": "code",
   "execution_count": 35,
   "id": "700bfdf0",
   "metadata": {},
   "outputs": [
    {
     "data": {
      "text/plain": [
       "True"
      ]
     },
     "execution_count": 35,
     "metadata": {},
     "output_type": "execute_result"
    }
   ],
   "source": [
    "not None"
   ]
  },
  {
   "cell_type": "code",
   "execution_count": 36,
   "id": "fcc987c8",
   "metadata": {},
   "outputs": [
    {
     "data": {
      "text/plain": [
       "True"
      ]
     },
     "execution_count": 36,
     "metadata": {},
     "output_type": "execute_result"
    }
   ],
   "source": [
    "7 == 7.0 and 31 > 10"
   ]
  },
  {
   "cell_type": "code",
   "execution_count": 37,
   "id": "08f93e7b",
   "metadata": {},
   "outputs": [
    {
     "data": {
      "text/plain": [
       "False"
      ]
     },
     "execution_count": 37,
     "metadata": {},
     "output_type": "execute_result"
    }
   ],
   "source": [
    "'Python' == 'python' and 'r' in ds_skill"
   ]
  },
  {
   "cell_type": "code",
   "execution_count": 38,
   "id": "2bddebbb",
   "metadata": {},
   "outputs": [
    {
     "data": {
      "text/plain": [
       "'python, r, sql, databases'"
      ]
     },
     "execution_count": 38,
     "metadata": {},
     "output_type": "execute_result"
    }
   ],
   "source": [
    "ds_skill"
   ]
  },
  {
   "cell_type": "code",
   "execution_count": 39,
   "id": "a0cd046a",
   "metadata": {},
   "outputs": [
    {
     "data": {
      "text/plain": [
       "True"
      ]
     },
     "execution_count": 39,
     "metadata": {},
     "output_type": "execute_result"
    }
   ],
   "source": [
    "is_summer = True\n",
    "is_sunny = True\n",
    "is_summer and is_sunny"
   ]
  },
  {
   "cell_type": "code",
   "execution_count": 40,
   "id": "eccadc9a",
   "metadata": {},
   "outputs": [
    {
     "data": {
      "text/plain": [
       "True"
      ]
     },
     "execution_count": 40,
     "metadata": {},
     "output_type": "execute_result"
    }
   ],
   "source": [
    "'Python' == 'python' or 'r' in ds_skill"
   ]
  },
  {
   "cell_type": "markdown",
   "id": "e40ef73a",
   "metadata": {},
   "source": [
    "### Order of operations, revisited\n",
    "1. **\n",
    "2. -\n",
    "3. * / %\n",
    "4. + -\n",
    "5. ==, !=, >, <\n",
    "6. `not`\n",
    "7. `and`\n",
    "8. `or`"
   ]
  },
  {
   "cell_type": "code",
   "execution_count": 41,
   "id": "d12a42a2",
   "metadata": {},
   "outputs": [
    {
     "data": {
      "text/plain": [
       "False"
      ]
     },
     "execution_count": 41,
     "metadata": {},
     "output_type": "execute_result"
    }
   ],
   "source": [
    "not ('r' in ds_skill) and 7 > 8 or False"
   ]
  },
  {
   "cell_type": "markdown",
   "id": "0f24cf48",
   "metadata": {},
   "source": [
    "## `if`/`elif`/`else`"
   ]
  },
  {
   "cell_type": "code",
   "execution_count": 42,
   "id": "1e9b5915",
   "metadata": {},
   "outputs": [
    {
     "name": "stdout",
     "output_type": "stream",
     "text": [
      "21st century\n"
     ]
    }
   ],
   "source": [
    "year = 2022\n",
    "\n",
    "if year > 2000:\n",
    "    # run this code\n",
    "    print('21st century')"
   ]
  },
  {
   "cell_type": "code",
   "execution_count": 43,
   "id": "9e91b713",
   "metadata": {},
   "outputs": [
    {
     "name": "stdout",
     "output_type": "stream",
     "text": [
      "21st c\n"
     ]
    }
   ],
   "source": [
    "if year > 2000:\n",
    "    print('21st c')\n",
    "else:\n",
    "    print('not 21st c')"
   ]
  },
  {
   "cell_type": "code",
   "execution_count": 44,
   "id": "be37a7df",
   "metadata": {},
   "outputs": [
    {
     "name": "stdout",
     "output_type": "stream",
     "text": [
      "20th\n"
     ]
    }
   ],
   "source": [
    "year = 1967\n",
    "\n",
    "# notice how the program stops checking conditions after the first True one\n",
    "if year >= 2000:\n",
    "    print('21st c')\n",
    "elif year >= 1900:\n",
    "    print('20th')\n",
    "elif year >= 1800:\n",
    "    print('19th')\n",
    "else:\n",
    "    print('Way back in time')"
   ]
  },
  {
   "cell_type": "code",
   "execution_count": 45,
   "id": "bbdcee91",
   "metadata": {},
   "outputs": [],
   "source": [
    "def group_age(age):\n",
    "    '''\n",
    "    Group people by age. Return the age group.\n",
    "    65+ senior\n",
    "    19 - 64: adult\n",
    "    13 - 18: teen\n",
    "    12 or younger: kid\n",
    "    '''\n",
    "    if age >= 65:\n",
    "        return 'Senior'\n",
    "    elif age >= 19:\n",
    "        return 'Adult'\n",
    "    elif age >= 13:\n",
    "        return 'Teen'\n",
    "    else:\n",
    "        return 'Child'"
   ]
  },
  {
   "cell_type": "code",
   "execution_count": 46,
   "id": "6aeceefa",
   "metadata": {},
   "outputs": [],
   "source": [
    "age_category = group_age(19)"
   ]
  },
  {
   "cell_type": "code",
   "execution_count": 47,
   "id": "5bdfa0e4",
   "metadata": {},
   "outputs": [
    {
     "name": "stdout",
     "output_type": "stream",
     "text": [
      "Weekday\n"
     ]
    }
   ],
   "source": [
    "day_of_week = 'Thursday'\n",
    "\n",
    "if day_of_week == 'Saturday' or day_of_week == 'Sunday':\n",
    "    print('Weekend')\n",
    "else:\n",
    "    print('Weekday')"
   ]
  },
  {
   "cell_type": "markdown",
   "id": "2fa3b859",
   "metadata": {},
   "source": [
    "OHIP eye exam coverage rules: https://www.ontario.ca/page/what-ohip-covers#section-5\n",
    "\n",
    "OHIP will cover an eye exam every 12 months (`time_since_last_exam >= 12`) if you:\n",
    "* Are 19 or younger (`age <= 19`)\n",
    "* Are 65 or older (`age >= 65`)\n",
    "* Are between 20 and 64 with a specific medical condition (`condition == True`)"
   ]
  },
  {
   "cell_type": "code",
   "execution_count": 48,
   "id": "ff242d4a",
   "metadata": {},
   "outputs": [],
   "source": [
    "def eye_exam_covered(time_since_last_exam, age, condition):\n",
    "    if time_since_last_exam >=12:\n",
    "        if age <= 19:\n",
    "            return True\n",
    "        elif age >= 65:\n",
    "            return True\n",
    "        elif condition:\n",
    "            return True\n",
    "        else:\n",
    "            return False\n",
    "    else:\n",
    "        return False"
   ]
  },
  {
   "cell_type": "code",
   "execution_count": 49,
   "id": "b465e1f7",
   "metadata": {},
   "outputs": [
    {
     "data": {
      "text/plain": [
       "True"
      ]
     },
     "execution_count": 49,
     "metadata": {},
     "output_type": "execute_result"
    }
   ],
   "source": [
    "eye_exam_covered(13, 15, False)"
   ]
  },
  {
   "cell_type": "code",
   "execution_count": 50,
   "id": "8f939b43",
   "metadata": {},
   "outputs": [
    {
     "data": {
      "text/plain": [
       "False"
      ]
     },
     "execution_count": 50,
     "metadata": {},
     "output_type": "execute_result"
    }
   ],
   "source": [
    "eye_exam_covered(20, 20, False)"
   ]
  },
  {
   "cell_type": "markdown",
   "id": "10f19f68",
   "metadata": {},
   "source": [
    "OHIP+ eligibility: https://health.gov.on.ca/en/pro/programs/drugs/ohipplus/#covered\n",
    "\n",
    "Anyone 24 years and under (`age <= 24`) who has OHIP coverage (`ohip_coverage == True`) and is not covered by a private plan is covered by OHIP+ (`private_plan == False`). "
   ]
  },
  {
   "cell_type": "code",
   "execution_count": 51,
   "id": "9444481c",
   "metadata": {},
   "outputs": [
    {
     "name": "stdout",
     "output_type": "stream",
     "text": [
      "No -- over age\n"
     ]
    }
   ],
   "source": [
    "age = 25\n",
    "ohip_coverage = True\n",
    "private_plan = False\n",
    "\n",
    "if age <= 24:\n",
    "    print('Y')\n",
    "    if ohip_coverage and not private_plan:\n",
    "        print('OHIP+')\n",
    "    else:\n",
    "        print('No OHIP+')\n",
    "else:\n",
    "    print('No -- over age')"
   ]
  },
  {
   "cell_type": "code",
   "execution_count": 52,
   "id": "b3778e72",
   "metadata": {},
   "outputs": [
    {
     "name": "stdout",
     "output_type": "stream",
     "text": [
      "Over age\n"
     ]
    }
   ],
   "source": [
    "if age <= 24:\n",
    "    print('In age range')\n",
    "    if ohip_coverage:\n",
    "        print('OHIP Coverage')\n",
    "        if private_plan:\n",
    "            print('Private plan -- no OHIP+')\n",
    "        else:\n",
    "            print('OHIP+')\n",
    "    else:\n",
    "        print('No OHIP -- no OHIP+')\n",
    "else:\n",
    "    print('Over age')"
   ]
  },
  {
   "cell_type": "code",
   "execution_count": 53,
   "id": "74ca1f4a",
   "metadata": {
    "scrolled": true
   },
   "outputs": [
    {
     "name": "stdout",
     "output_type": "stream",
     "text": [
      "Not covered by OHIP+\n"
     ]
    }
   ],
   "source": [
    "if age <= 24 and ohip_coverage and not private_plan:\n",
    "    print('Covered by OHIP+')\n",
    "else:\n",
    "    print('Not covered by OHIP+')"
   ]
  },
  {
   "cell_type": "markdown",
   "id": "c033e1a3",
   "metadata": {},
   "source": [
    "## Lists"
   ]
  },
  {
   "cell_type": "code",
   "execution_count": 54,
   "id": "054be8fc",
   "metadata": {},
   "outputs": [],
   "source": [
    "vowels = ['a', 'e', 'i', 'o', 'u']"
   ]
  },
  {
   "cell_type": "code",
   "execution_count": 55,
   "id": "cfc49e89",
   "metadata": {},
   "outputs": [
    {
     "name": "stdout",
     "output_type": "stream",
     "text": [
      "['a', 'e', 'i', 'o', 'u'] are vowels\n"
     ]
    }
   ],
   "source": [
    "print(f'{vowels} are vowels')"
   ]
  },
  {
   "cell_type": "code",
   "execution_count": 56,
   "id": "1f47f6d8",
   "metadata": {},
   "outputs": [
    {
     "name": "stdout",
     "output_type": "stream",
     "text": [
      "<class 'list'>\n"
     ]
    }
   ],
   "source": [
    "empty_list = []\n",
    "print(type(empty_list))"
   ]
  },
  {
   "cell_type": "code",
   "execution_count": 57,
   "id": "d36a2b95",
   "metadata": {},
   "outputs": [
    {
     "name": "stdout",
     "output_type": "stream",
     "text": [
      "<class 'list'>\n"
     ]
    }
   ],
   "source": [
    "empty_list2 = list()\n",
    "print(type(empty_list2))"
   ]
  },
  {
   "cell_type": "code",
   "execution_count": 58,
   "id": "96b168d7",
   "metadata": {},
   "outputs": [],
   "source": [
    "scores = [90, 90, 85, 80]\n",
    "grades = ['K', 1, 2, 3, 4, 5, 6, 7, 8, 9, 10, 11, 12]"
   ]
  },
  {
   "cell_type": "code",
   "execution_count": 59,
   "id": "d3cb9766",
   "metadata": {},
   "outputs": [
    {
     "data": {
      "text/plain": [
       "[['Sherlock', 'Watson'],\n",
       " 'Poirot',\n",
       " ['Scooby', 'Shaggy', 'Fred', 'Daphne', 'Velma']]"
      ]
     },
     "execution_count": 59,
     "metadata": {},
     "output_type": "execute_result"
    }
   ],
   "source": [
    "mystery_solvers = [\n",
    "    ['Sherlock', 'Watson'],\n",
    "    'Poirot',\n",
    "    ['Scooby', 'Shaggy', 'Fred', 'Daphne', 'Velma']\n",
    "]\n",
    "mystery_solvers"
   ]
  },
  {
   "cell_type": "markdown",
   "id": "f7be1670",
   "metadata": {},
   "source": [
    "### List slicing and indexing"
   ]
  },
  {
   "cell_type": "code",
   "execution_count": 60,
   "id": "3627aa1b",
   "metadata": {},
   "outputs": [
    {
     "data": {
      "text/plain": [
       "'K'"
      ]
     },
     "execution_count": 60,
     "metadata": {},
     "output_type": "execute_result"
    }
   ],
   "source": [
    "grades[0]"
   ]
  },
  {
   "cell_type": "code",
   "execution_count": 61,
   "id": "bd2d3fc3",
   "metadata": {},
   "outputs": [
    {
     "data": {
      "text/plain": [
       "[1, 2, 3, 4, 5]"
      ]
     },
     "execution_count": 61,
     "metadata": {},
     "output_type": "execute_result"
    }
   ],
   "source": [
    "grades[1:6]"
   ]
  },
  {
   "cell_type": "code",
   "execution_count": 62,
   "id": "b285513b",
   "metadata": {},
   "outputs": [
    {
     "data": {
      "text/plain": [
       "[9, 10, 11, 12]"
      ]
     },
     "execution_count": 62,
     "metadata": {},
     "output_type": "execute_result"
    }
   ],
   "source": [
    "grades[-4:]"
   ]
  },
  {
   "cell_type": "code",
   "execution_count": 63,
   "id": "9059f8ce",
   "metadata": {},
   "outputs": [
    {
     "data": {
      "text/plain": [
       "[12, 11, 10, 9, 8, 7, 6, 5, 4, 3, 2, 1, 'K']"
      ]
     },
     "execution_count": 63,
     "metadata": {},
     "output_type": "execute_result"
    }
   ],
   "source": [
    "grades[::-1]"
   ]
  },
  {
   "cell_type": "code",
   "execution_count": 64,
   "id": "5c41a243",
   "metadata": {},
   "outputs": [
    {
     "ename": "IndexError",
     "evalue": "list index out of range",
     "output_type": "error",
     "traceback": [
      "\u001b[1;31m---------------------------------------------------------------------------\u001b[0m",
      "\u001b[1;31mIndexError\u001b[0m                                Traceback (most recent call last)",
      "Input \u001b[1;32mIn [64]\u001b[0m, in \u001b[0;36m<cell line: 1>\u001b[1;34m()\u001b[0m\n\u001b[1;32m----> 1\u001b[0m \u001b[43mgrades\u001b[49m\u001b[43m[\u001b[49m\u001b[38;5;241;43m13\u001b[39;49m\u001b[43m]\u001b[49m\n",
      "\u001b[1;31mIndexError\u001b[0m: list index out of range"
     ]
    }
   ],
   "source": [
    "grades[13]"
   ]
  },
  {
   "cell_type": "markdown",
   "id": "3bacb3f0",
   "metadata": {},
   "source": [
    "### Checking for elements in a list"
   ]
  },
  {
   "cell_type": "code",
   "execution_count": 65,
   "id": "ee4646d2",
   "metadata": {},
   "outputs": [
    {
     "data": {
      "text/plain": [
       "True"
      ]
     },
     "execution_count": 65,
     "metadata": {},
     "output_type": "execute_result"
    }
   ],
   "source": [
    "'e' in vowels"
   ]
  },
  {
   "cell_type": "code",
   "execution_count": 66,
   "id": "e7f16c20",
   "metadata": {},
   "outputs": [
    {
     "data": {
      "text/plain": [
       "False"
      ]
     },
     "execution_count": 66,
     "metadata": {},
     "output_type": "execute_result"
    }
   ],
   "source": [
    "'Scooby' in mystery_solvers"
   ]
  },
  {
   "cell_type": "code",
   "execution_count": 67,
   "id": "9b0cdded",
   "metadata": {},
   "outputs": [
    {
     "data": {
      "text/plain": [
       "True"
      ]
     },
     "execution_count": 67,
     "metadata": {},
     "output_type": "execute_result"
    }
   ],
   "source": [
    "'Poirot' in mystery_solvers"
   ]
  },
  {
   "cell_type": "code",
   "execution_count": 68,
   "id": "bc139e36",
   "metadata": {},
   "outputs": [
    {
     "data": {
      "text/plain": [
       "True"
      ]
     },
     "execution_count": 68,
     "metadata": {},
     "output_type": "execute_result"
    }
   ],
   "source": [
    "'Scooby' in mystery_solvers[2]"
   ]
  },
  {
   "cell_type": "code",
   "execution_count": 69,
   "id": "0c1a0b37",
   "metadata": {},
   "outputs": [
    {
     "data": {
      "text/plain": [
       "['Scooby', 'Shaggy', 'Fred', 'Daphne', 'Velma']"
      ]
     },
     "execution_count": 69,
     "metadata": {},
     "output_type": "execute_result"
    }
   ],
   "source": [
    "mystery_solvers[2]"
   ]
  },
  {
   "cell_type": "code",
   "execution_count": 70,
   "id": "f41e09e3",
   "metadata": {},
   "outputs": [],
   "source": [
    "year = 1266"
   ]
  },
  {
   "cell_type": "markdown",
   "id": "357f6c03",
   "metadata": {},
   "source": [
    "### Mutating lists"
   ]
  },
  {
   "cell_type": "code",
   "execution_count": 71,
   "id": "a8cb7d5d",
   "metadata": {},
   "outputs": [],
   "source": [
    "squares = [1, 4, 8, 16]"
   ]
  },
  {
   "cell_type": "code",
   "execution_count": 72,
   "id": "c5f82e84",
   "metadata": {},
   "outputs": [],
   "source": [
    "squares[2] = 9"
   ]
  },
  {
   "cell_type": "code",
   "execution_count": 73,
   "id": "26642638",
   "metadata": {},
   "outputs": [
    {
     "data": {
      "text/plain": [
       "[1, 4, 9, 16]"
      ]
     },
     "execution_count": 73,
     "metadata": {},
     "output_type": "execute_result"
    }
   ],
   "source": [
    "squares"
   ]
  },
  {
   "cell_type": "code",
   "execution_count": 74,
   "id": "7c30ccd7",
   "metadata": {},
   "outputs": [],
   "source": [
    "sandwich = ['bread', 'cheese', 'bread']"
   ]
  },
  {
   "cell_type": "code",
   "execution_count": 75,
   "id": "ac571701",
   "metadata": {},
   "outputs": [
    {
     "data": {
      "text/plain": [
       "['bread', 'cheese', 'bread']"
      ]
     },
     "execution_count": 75,
     "metadata": {},
     "output_type": "execute_result"
    }
   ],
   "source": [
    "sandwich"
   ]
  },
  {
   "cell_type": "code",
   "execution_count": 76,
   "id": "c8ea3bc6",
   "metadata": {},
   "outputs": [
    {
     "data": {
      "text/plain": [
       "['bread', 'cheese', 'bread']"
      ]
     },
     "execution_count": 76,
     "metadata": {},
     "output_type": "execute_result"
    }
   ],
   "source": [
    "sandwich_copy = sandwich\n",
    "sandwich_copy"
   ]
  },
  {
   "cell_type": "code",
   "execution_count": 77,
   "id": "0e0240c5",
   "metadata": {},
   "outputs": [
    {
     "data": {
      "text/plain": [
       "['bread', 'ham', 'bread']"
      ]
     },
     "execution_count": 77,
     "metadata": {},
     "output_type": "execute_result"
    }
   ],
   "source": [
    "sandwich[1] = 'ham'\n",
    "sandwich"
   ]
  },
  {
   "cell_type": "code",
   "execution_count": 78,
   "id": "c32b9382",
   "metadata": {},
   "outputs": [
    {
     "data": {
      "text/plain": [
       "['bread', 'ham', 'bread']"
      ]
     },
     "execution_count": 78,
     "metadata": {},
     "output_type": "execute_result"
    }
   ],
   "source": [
    "sandwich_copy"
   ]
  },
  {
   "cell_type": "code",
   "execution_count": 79,
   "id": "fb34b453",
   "metadata": {},
   "outputs": [],
   "source": [
    "combo = ['burger', 'fries', 'drink']\n",
    "kids_meal = list(combo)"
   ]
  },
  {
   "cell_type": "code",
   "execution_count": 80,
   "id": "80a24027",
   "metadata": {},
   "outputs": [],
   "source": [
    "combo[0] = 'chicken'"
   ]
  },
  {
   "cell_type": "code",
   "execution_count": 81,
   "id": "3b1c648e",
   "metadata": {},
   "outputs": [
    {
     "data": {
      "text/plain": [
       "['chicken', 'fries', 'drink']"
      ]
     },
     "execution_count": 81,
     "metadata": {},
     "output_type": "execute_result"
    }
   ],
   "source": [
    "combo"
   ]
  },
  {
   "cell_type": "code",
   "execution_count": 82,
   "id": "b1dc51c1",
   "metadata": {},
   "outputs": [
    {
     "data": {
      "text/plain": [
       "['burger', 'fries', 'drink']"
      ]
     },
     "execution_count": 82,
     "metadata": {},
     "output_type": "execute_result"
    }
   ],
   "source": [
    "kids_meal"
   ]
  },
  {
   "cell_type": "code",
   "execution_count": 83,
   "id": "6e52c63e",
   "metadata": {},
   "outputs": [
    {
     "data": {
      "text/plain": [
       "[90, 90, 85, 80]"
      ]
     },
     "execution_count": 83,
     "metadata": {},
     "output_type": "execute_result"
    }
   ],
   "source": [
    "scores"
   ]
  },
  {
   "cell_type": "markdown",
   "id": "8821600f",
   "metadata": {},
   "source": [
    "### Finding the index for a list element"
   ]
  },
  {
   "cell_type": "code",
   "execution_count": 84,
   "id": "04a03b05",
   "metadata": {},
   "outputs": [
    {
     "data": {
      "text/plain": [
       "[90, 90, 85, 80]"
      ]
     },
     "execution_count": 84,
     "metadata": {},
     "output_type": "execute_result"
    }
   ],
   "source": [
    "scores"
   ]
  },
  {
   "cell_type": "code",
   "execution_count": 85,
   "id": "3a0c4c67",
   "metadata": {},
   "outputs": [
    {
     "data": {
      "text/plain": [
       "0"
      ]
     },
     "execution_count": 85,
     "metadata": {},
     "output_type": "execute_result"
    }
   ],
   "source": [
    "scores.index(90)"
   ]
  },
  {
   "cell_type": "code",
   "execution_count": 86,
   "id": "b0e1e1bc",
   "metadata": {},
   "outputs": [
    {
     "data": {
      "text/plain": [
       "2"
      ]
     },
     "execution_count": 86,
     "metadata": {},
     "output_type": "execute_result"
    }
   ],
   "source": [
    "scores.index(85)"
   ]
  },
  {
   "cell_type": "markdown",
   "id": "472ec04a",
   "metadata": {},
   "source": [
    "### List operations and methods\n",
    "\n",
    "Most list methods mutate the list in place and return `None`!"
   ]
  },
  {
   "cell_type": "code",
   "execution_count": 87,
   "id": "f1e69dfa",
   "metadata": {},
   "outputs": [
    {
     "data": {
      "text/plain": [
       "[90, 90, 85, 80, 'K', 1, 2, 3, 4, 5, 6, 7, 8, 9, 10, 11, 12]"
      ]
     },
     "execution_count": 87,
     "metadata": {},
     "output_type": "execute_result"
    }
   ],
   "source": [
    "scores + grades"
   ]
  },
  {
   "cell_type": "code",
   "execution_count": 88,
   "id": "7d44c176",
   "metadata": {},
   "outputs": [],
   "source": [
    "rainbow = ['red', 'orange', 'yellow', 'green', 'blue', 'purple']"
   ]
  },
  {
   "cell_type": "code",
   "execution_count": 89,
   "id": "bb3d6996",
   "metadata": {},
   "outputs": [
    {
     "data": {
      "text/plain": [
       "'purple'"
      ]
     },
     "execution_count": 89,
     "metadata": {},
     "output_type": "execute_result"
    }
   ],
   "source": [
    "# pop() removes a value from a list and returns it\n",
    "# the list changes AND we get a value back\n",
    "colour = rainbow.pop()\n",
    "colour"
   ]
  },
  {
   "cell_type": "code",
   "execution_count": 90,
   "id": "dded1997",
   "metadata": {},
   "outputs": [
    {
     "data": {
      "text/plain": [
       "['red', 'orange', 'yellow', 'green', 'blue']"
      ]
     },
     "execution_count": 90,
     "metadata": {},
     "output_type": "execute_result"
    }
   ],
   "source": [
    "rainbow"
   ]
  },
  {
   "cell_type": "code",
   "execution_count": 91,
   "id": "4dfb622b",
   "metadata": {},
   "outputs": [],
   "source": [
    "rainbow.append('violet')"
   ]
  },
  {
   "cell_type": "code",
   "execution_count": 92,
   "id": "a3a777f2",
   "metadata": {},
   "outputs": [
    {
     "data": {
      "text/plain": [
       "['red', 'orange', 'yellow', 'green', 'blue', 'violet']"
      ]
     },
     "execution_count": 92,
     "metadata": {},
     "output_type": "execute_result"
    }
   ],
   "source": [
    "rainbow"
   ]
  },
  {
   "cell_type": "code",
   "execution_count": 93,
   "id": "ecf26d00",
   "metadata": {},
   "outputs": [
    {
     "data": {
      "text/plain": [
       "['red', 'orange', 'yellow', 'green', 'blue', 'violet', ['pink', 'magenta']]"
      ]
     },
     "execution_count": 93,
     "metadata": {},
     "output_type": "execute_result"
    }
   ],
   "source": [
    "rainbow.append(['pink', 'magenta'])\n",
    "rainbow"
   ]
  },
  {
   "cell_type": "code",
   "execution_count": 94,
   "id": "1f7c0181",
   "metadata": {},
   "outputs": [
    {
     "data": {
      "text/plain": [
       "['red',\n",
       " 'orange',\n",
       " 'yellow',\n",
       " 'green',\n",
       " 'blue',\n",
       " 'violet',\n",
       " ['pink', 'magenta'],\n",
       " 'pink',\n",
       " 'magenta']"
      ]
     },
     "execution_count": 94,
     "metadata": {},
     "output_type": "execute_result"
    }
   ],
   "source": [
    "rainbow.extend(['pink', 'magenta'])\n",
    "rainbow"
   ]
  },
  {
   "cell_type": "code",
   "execution_count": 95,
   "id": "106009e1",
   "metadata": {},
   "outputs": [
    {
     "data": {
      "text/plain": [
       "['red',\n",
       " 'orange',\n",
       " 'yellow',\n",
       " 'green',\n",
       " 'blue',\n",
       " 'violet',\n",
       " ['pink', 'magenta'],\n",
       " 'pink',\n",
       " 'magenta',\n",
       " ['Sherlock', 'Watson'],\n",
       " 'Poirot',\n",
       " ['Scooby', 'Shaggy', 'Fred', 'Daphne', 'Velma']]"
      ]
     },
     "execution_count": 95,
     "metadata": {},
     "output_type": "execute_result"
    }
   ],
   "source": [
    "rainbow.extend(mystery_solvers)\n",
    "rainbow"
   ]
  },
  {
   "cell_type": "code",
   "execution_count": 96,
   "id": "64d8eb00",
   "metadata": {},
   "outputs": [
    {
     "data": {
      "text/plain": [
       "['red',\n",
       " 'orange',\n",
       " 'yellow',\n",
       " 'green',\n",
       " 'blue',\n",
       " 'violet',\n",
       " ['pink', 'magenta'],\n",
       " 'pink',\n",
       " 'magenta',\n",
       " ['Sherlock', 'Watson'],\n",
       " ['Scooby', 'Shaggy', 'Fred', 'Daphne', 'Velma']]"
      ]
     },
     "execution_count": 96,
     "metadata": {},
     "output_type": "execute_result"
    }
   ],
   "source": [
    "rainbow.remove('Poirot')\n",
    "rainbow"
   ]
  },
  {
   "cell_type": "code",
   "execution_count": 97,
   "id": "34177073",
   "metadata": {},
   "outputs": [
    {
     "data": {
      "text/plain": [
       "['red',\n",
       " 'orange',\n",
       " 'yellow',\n",
       " 'green',\n",
       " 'blue',\n",
       " 'violet',\n",
       " ['pink', 'magenta'],\n",
       " 'pink',\n",
       " 'magenta',\n",
       " ['Scooby', 'Shaggy', 'Fred', 'Daphne', 'Velma']]"
      ]
     },
     "execution_count": 97,
     "metadata": {},
     "output_type": "execute_result"
    }
   ],
   "source": [
    "rainbow.pop(-2)\n",
    "rainbow"
   ]
  },
  {
   "cell_type": "code",
   "execution_count": 98,
   "id": "82e0fe00",
   "metadata": {},
   "outputs": [
    {
     "data": {
      "text/plain": [
       "['red',\n",
       " 'orange',\n",
       " 'yellow',\n",
       " 'green',\n",
       " 'blue',\n",
       " 'violet',\n",
       " ['pink', 'magenta'],\n",
       " 'pink',\n",
       " 'magenta']"
      ]
     },
     "execution_count": 98,
     "metadata": {},
     "output_type": "execute_result"
    }
   ],
   "source": [
    "rainbow.remove(mystery_solvers[-1])\n",
    "rainbow"
   ]
  },
  {
   "cell_type": "code",
   "execution_count": 99,
   "id": "1928ef01",
   "metadata": {},
   "outputs": [
    {
     "data": {
      "text/plain": [
       "[['Sherlock', 'Watson'],\n",
       " 'Poirot',\n",
       " ['Scooby', 'Shaggy', 'Fred', 'Daphne', 'Velma']]"
      ]
     },
     "execution_count": 99,
     "metadata": {},
     "output_type": "execute_result"
    }
   ],
   "source": [
    "mystery_solvers"
   ]
  },
  {
   "cell_type": "code",
   "execution_count": 100,
   "id": "9ccfc325",
   "metadata": {},
   "outputs": [
    {
     "data": {
      "text/plain": [
       "['red',\n",
       " 'orange',\n",
       " 'yellow',\n",
       " 'green',\n",
       " 'blue',\n",
       " 'violet',\n",
       " ['pink', 'magenta'],\n",
       " 'pink',\n",
       " 'magenta']"
      ]
     },
     "execution_count": 100,
     "metadata": {},
     "output_type": "execute_result"
    }
   ],
   "source": [
    "rainbow"
   ]
  },
  {
   "cell_type": "code",
   "execution_count": 101,
   "id": "563864e7",
   "metadata": {},
   "outputs": [
    {
     "data": {
      "text/plain": [
       "['red',\n",
       " 'orange',\n",
       " 'yellow',\n",
       " 'green',\n",
       " 'blue',\n",
       " 'indigo',\n",
       " 'violet',\n",
       " ['pink', 'magenta'],\n",
       " 'pink',\n",
       " 'magenta']"
      ]
     },
     "execution_count": 101,
     "metadata": {},
     "output_type": "execute_result"
    }
   ],
   "source": [
    "rainbow.insert(5, 'indigo')\n",
    "rainbow"
   ]
  },
  {
   "cell_type": "code",
   "execution_count": 102,
   "id": "4af58b23",
   "metadata": {},
   "outputs": [
    {
     "data": {
      "text/plain": [
       "[]"
      ]
     },
     "execution_count": 102,
     "metadata": {},
     "output_type": "execute_result"
    }
   ],
   "source": [
    "rainbow.clear()\n",
    "rainbow"
   ]
  },
  {
   "cell_type": "markdown",
   "id": "37234f89",
   "metadata": {},
   "source": [
    "## Mutating: another example"
   ]
  },
  {
   "cell_type": "code",
   "execution_count": 103,
   "id": "2b8b02f9",
   "metadata": {},
   "outputs": [
    {
     "data": {
      "text/plain": [
       "9"
      ]
     },
     "execution_count": 103,
     "metadata": {},
     "output_type": "execute_result"
    }
   ],
   "source": [
    "provinces = ['ON', 'BC', 'QC', 'AB', 'MB', 'NL', 'PE', 'NB', 'NS']\n",
    "len(provinces)"
   ]
  },
  {
   "cell_type": "code",
   "execution_count": 104,
   "id": "bc9627bb",
   "metadata": {},
   "outputs": [],
   "source": [
    "provinces.append('SK')"
   ]
  },
  {
   "cell_type": "code",
   "execution_count": 105,
   "id": "14b20bd5",
   "metadata": {},
   "outputs": [
    {
     "data": {
      "text/plain": [
       "['ON', 'BC', 'QC', 'AB', 'MB', 'NL', 'PE', 'NB', 'NS', 'SK']"
      ]
     },
     "execution_count": 105,
     "metadata": {},
     "output_type": "execute_result"
    }
   ],
   "source": [
    "provinces"
   ]
  },
  {
   "cell_type": "code",
   "execution_count": 106,
   "id": "8b34744b",
   "metadata": {},
   "outputs": [
    {
     "data": {
      "text/plain": [
       "['ON',\n",
       " 'BC',\n",
       " 'QC',\n",
       " 'AB',\n",
       " 'MB',\n",
       " 'NL',\n",
       " 'PE',\n",
       " 'NB',\n",
       " 'NS',\n",
       " 'SK',\n",
       " 'Yukon',\n",
       " 'Northwest Territories',\n",
       " 'Nunavut']"
      ]
     },
     "execution_count": 106,
     "metadata": {},
     "output_type": "execute_result"
    }
   ],
   "source": [
    "# add the territories\n",
    "provinces.extend(['Yukon', 'Northwest Territories', 'Nunavut'])\n",
    "provinces"
   ]
  },
  {
   "cell_type": "code",
   "execution_count": 107,
   "id": "5009f0a7",
   "metadata": {},
   "outputs": [],
   "source": [
    "canada = provinces"
   ]
  },
  {
   "cell_type": "code",
   "execution_count": 108,
   "id": "35750fab",
   "metadata": {},
   "outputs": [
    {
     "data": {
      "text/plain": [
       "['ON',\n",
       " 'BC',\n",
       " 'Ottawa',\n",
       " 'QC',\n",
       " 'AB',\n",
       " 'MB',\n",
       " 'NL',\n",
       " 'PE',\n",
       " 'NB',\n",
       " 'NS',\n",
       " 'SK',\n",
       " 'Yukon',\n",
       " 'Northwest Territories',\n",
       " 'Nunavut']"
      ]
     },
     "execution_count": 108,
     "metadata": {},
     "output_type": "execute_result"
    }
   ],
   "source": [
    "canada.insert(2, 'Ottawa')\n",
    "canada"
   ]
  },
  {
   "cell_type": "code",
   "execution_count": 109,
   "id": "d74f07bf",
   "metadata": {},
   "outputs": [
    {
     "data": {
      "text/plain": [
       "['ON',\n",
       " 'BC',\n",
       " 'Ottawa',\n",
       " 'QC',\n",
       " 'AB',\n",
       " 'MB',\n",
       " 'NL',\n",
       " 'PE',\n",
       " 'NB',\n",
       " 'NS',\n",
       " 'SK',\n",
       " 'Yukon',\n",
       " 'Northwest Territories',\n",
       " 'Nunavut']"
      ]
     },
     "execution_count": 109,
     "metadata": {},
     "output_type": "execute_result"
    }
   ],
   "source": [
    "provinces"
   ]
  },
  {
   "cell_type": "code",
   "execution_count": 110,
   "id": "9d838309",
   "metadata": {},
   "outputs": [
    {
     "data": {
      "text/plain": [
       "['ON',\n",
       " 'BC',\n",
       " 'QC',\n",
       " 'AB',\n",
       " 'MB',\n",
       " 'NL',\n",
       " 'PE',\n",
       " 'NB',\n",
       " 'NS',\n",
       " 'SK',\n",
       " 'Yukon',\n",
       " 'Northwest Territories',\n",
       " 'Nunavut']"
      ]
     },
     "execution_count": 110,
     "metadata": {},
     "output_type": "execute_result"
    }
   ],
   "source": [
    "provinces.remove('Ottawa')\n",
    "provinces"
   ]
  },
  {
   "cell_type": "code",
   "execution_count": 111,
   "id": "b2bd6cc9",
   "metadata": {},
   "outputs": [
    {
     "data": {
      "text/plain": [
       "['ON',\n",
       " 'BC',\n",
       " 'QC',\n",
       " 'AB',\n",
       " 'MB',\n",
       " 'NL',\n",
       " 'PE',\n",
       " 'NB',\n",
       " 'NS',\n",
       " 'SK',\n",
       " 'Yukon',\n",
       " 'Northwest Territories',\n",
       " 'Nunavut']"
      ]
     },
     "execution_count": 111,
     "metadata": {},
     "output_type": "execute_result"
    }
   ],
   "source": [
    "canada"
   ]
  },
  {
   "cell_type": "code",
   "execution_count": 112,
   "id": "672277f7",
   "metadata": {},
   "outputs": [],
   "source": [
    "canada.sort()"
   ]
  },
  {
   "cell_type": "code",
   "execution_count": 113,
   "id": "b1ea8dae",
   "metadata": {},
   "outputs": [
    {
     "data": {
      "text/plain": [
       "['AB',\n",
       " 'BC',\n",
       " 'MB',\n",
       " 'NB',\n",
       " 'NL',\n",
       " 'NS',\n",
       " 'Northwest Territories',\n",
       " 'Nunavut',\n",
       " 'ON',\n",
       " 'PE',\n",
       " 'QC',\n",
       " 'SK',\n",
       " 'Yukon']"
      ]
     },
     "execution_count": 113,
     "metadata": {},
     "output_type": "execute_result"
    }
   ],
   "source": [
    "canada"
   ]
  },
  {
   "cell_type": "code",
   "execution_count": 114,
   "id": "5e5031d1",
   "metadata": {},
   "outputs": [
    {
     "data": {
      "text/plain": [
       "['AB',\n",
       " 'BC',\n",
       " 'MB',\n",
       " 'NB',\n",
       " 'NL',\n",
       " 'NS',\n",
       " 'Northwest Territories',\n",
       " 'Nunavut',\n",
       " 'ON',\n",
       " 'PE',\n",
       " 'QC',\n",
       " 'SK',\n",
       " 'Yukon']"
      ]
     },
     "execution_count": 114,
     "metadata": {},
     "output_type": "execute_result"
    }
   ],
   "source": [
    "provinces"
   ]
  }
 ],
 "metadata": {
  "kernelspec": {
   "display_name": "Python 3 (ipykernel)",
   "language": "python",
   "name": "python3"
  },
  "language_info": {
   "codemirror_mode": {
    "name": "ipython",
    "version": 3
   },
   "file_extension": ".py",
   "mimetype": "text/x-python",
   "name": "python",
   "nbconvert_exporter": "python",
   "pygments_lexer": "ipython3",
   "version": "3.10.4"
  }
 },
 "nbformat": 4,
 "nbformat_minor": 5
}
