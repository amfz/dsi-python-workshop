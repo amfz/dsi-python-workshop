{
 "cells": [
  {
   "cell_type": "markdown",
   "id": "9f18ec63",
   "metadata": {},
   "source": [
    "# Getting Started: Fundamentals\n",
    "## Intro Python\n",
    "\n",
    "11 July 2022"
   ]
  },
  {
   "cell_type": "markdown",
   "id": "7ca9752b",
   "metadata": {},
   "source": [
    "## Data Types"
   ]
  },
  {
   "cell_type": "code",
   "execution_count": 1,
   "id": "000fa00d",
   "metadata": {
    "scrolled": true
   },
   "outputs": [
    {
     "data": {
      "text/plain": [
       "23"
      ]
     },
     "execution_count": 1,
     "metadata": {},
     "output_type": "execute_result"
    }
   ],
   "source": [
    "23"
   ]
  },
  {
   "cell_type": "code",
   "execution_count": 2,
   "id": "1a5cefa6",
   "metadata": {},
   "outputs": [
    {
     "data": {
      "text/plain": [
       "23.4"
      ]
     },
     "execution_count": 2,
     "metadata": {},
     "output_type": "execute_result"
    }
   ],
   "source": [
    "23.4"
   ]
  },
  {
   "cell_type": "code",
   "execution_count": 3,
   "id": "439d24a1",
   "metadata": {},
   "outputs": [
    {
     "data": {
      "text/plain": [
       "'hello'"
      ]
     },
     "execution_count": 3,
     "metadata": {},
     "output_type": "execute_result"
    }
   ],
   "source": [
    "'hello'"
   ]
  },
  {
   "cell_type": "code",
   "execution_count": 4,
   "id": "6c275d92",
   "metadata": {},
   "outputs": [
    {
     "data": {
      "text/plain": [
       "True"
      ]
     },
     "execution_count": 4,
     "metadata": {},
     "output_type": "execute_result"
    }
   ],
   "source": [
    "True"
   ]
  },
  {
   "cell_type": "markdown",
   "id": "28ed8529",
   "metadata": {},
   "source": [
    "## Operations"
   ]
  },
  {
   "cell_type": "code",
   "execution_count": 5,
   "id": "682b8470",
   "metadata": {
    "scrolled": true
   },
   "outputs": [
    {
     "data": {
      "text/plain": [
       "8"
      ]
     },
     "execution_count": 5,
     "metadata": {},
     "output_type": "execute_result"
    }
   ],
   "source": [
    "4 + 4"
   ]
  },
  {
   "cell_type": "code",
   "execution_count": 6,
   "id": "f6c0932d",
   "metadata": {},
   "outputs": [
    {
     "data": {
      "text/plain": [
       "2.5"
      ]
     },
     "execution_count": 6,
     "metadata": {},
     "output_type": "execute_result"
    }
   ],
   "source": [
    "5 / 2"
   ]
  },
  {
   "cell_type": "code",
   "execution_count": 7,
   "id": "5057b4d2",
   "metadata": {},
   "outputs": [
    {
     "data": {
      "text/plain": [
       "4"
      ]
     },
     "execution_count": 7,
     "metadata": {},
     "output_type": "execute_result"
    }
   ],
   "source": [
    "9 // 2"
   ]
  },
  {
   "cell_type": "code",
   "execution_count": 8,
   "id": "cad509fb",
   "metadata": {},
   "outputs": [
    {
     "data": {
      "text/plain": [
       "-5"
      ]
     },
     "execution_count": 8,
     "metadata": {},
     "output_type": "execute_result"
    }
   ],
   "source": [
    "9 // -2"
   ]
  },
  {
   "cell_type": "code",
   "execution_count": 9,
   "id": "bbd838cc",
   "metadata": {},
   "outputs": [
    {
     "data": {
      "text/plain": [
       "1"
      ]
     },
     "execution_count": 9,
     "metadata": {},
     "output_type": "execute_result"
    }
   ],
   "source": [
    "9 % 2"
   ]
  },
  {
   "cell_type": "code",
   "execution_count": 10,
   "id": "5b4b18ea",
   "metadata": {},
   "outputs": [
    {
     "data": {
      "text/plain": [
       "8"
      ]
     },
     "execution_count": 10,
     "metadata": {},
     "output_type": "execute_result"
    }
   ],
   "source": [
    "2 ** 3"
   ]
  },
  {
   "cell_type": "markdown",
   "id": "8d8d755d",
   "metadata": {},
   "source": [
    "## Comparisons and Booleans (`True` and `False`)"
   ]
  },
  {
   "cell_type": "code",
   "execution_count": 11,
   "id": "4bebbbb2",
   "metadata": {},
   "outputs": [
    {
     "data": {
      "text/plain": [
       "False"
      ]
     },
     "execution_count": 11,
     "metadata": {},
     "output_type": "execute_result"
    }
   ],
   "source": [
    "56 <= 23"
   ]
  },
  {
   "cell_type": "code",
   "execution_count": 12,
   "id": "55d672b9",
   "metadata": {},
   "outputs": [
    {
     "data": {
      "text/plain": [
       "True"
      ]
     },
     "execution_count": 12,
     "metadata": {},
     "output_type": "execute_result"
    }
   ],
   "source": [
    "78 >= 1"
   ]
  },
  {
   "cell_type": "code",
   "execution_count": 13,
   "id": "4a21dd2b",
   "metadata": {},
   "outputs": [
    {
     "data": {
      "text/plain": [
       "True"
      ]
     },
     "execution_count": 13,
     "metadata": {},
     "output_type": "execute_result"
    }
   ],
   "source": [
    "5 == 5"
   ]
  },
  {
   "cell_type": "code",
   "execution_count": 14,
   "id": "60817f13",
   "metadata": {},
   "outputs": [
    {
     "ename": "SyntaxError",
     "evalue": "cannot assign to literal here. Maybe you meant '==' instead of '='? (3619573732.py, line 1)",
     "output_type": "error",
     "traceback": [
      "\u001b[1;36m  Input \u001b[1;32mIn [14]\u001b[1;36m\u001b[0m\n\u001b[1;33m    5 = 5\u001b[0m\n\u001b[1;37m    ^\u001b[0m\n\u001b[1;31mSyntaxError\u001b[0m\u001b[1;31m:\u001b[0m cannot assign to literal here. Maybe you meant '==' instead of '='?\n"
     ]
    }
   ],
   "source": [
    "5 = 5  # We can't try to change the value of a number"
   ]
  },
  {
   "cell_type": "code",
   "execution_count": 15,
   "id": "8c6b69ff",
   "metadata": {},
   "outputs": [
    {
     "data": {
      "text/plain": [
       "False"
      ]
     },
     "execution_count": 15,
     "metadata": {},
     "output_type": "execute_result"
    }
   ],
   "source": [
    "5 != 5"
   ]
  },
  {
   "cell_type": "markdown",
   "id": "c0cb9df1",
   "metadata": {},
   "source": [
    "### Order of Operations\n",
    "\n",
    "1. Parentheses\n",
    "2. Exponentiation: `**`\n",
    "3. Multiplication and division: `*` , `/`, `%`, `//`\n",
    "4. Addition and subtraction: `+`, `-`\n",
    "5. Comparisons: `==`, `!=`, `>`, `>=`, `<`, `<=`"
   ]
  },
  {
   "cell_type": "code",
   "execution_count": 16,
   "id": "b1ad5817",
   "metadata": {},
   "outputs": [
    {
     "data": {
      "text/plain": [
       "False"
      ]
     },
     "execution_count": 16,
     "metadata": {},
     "output_type": "execute_result"
    }
   ],
   "source": [
    "5 * 2 <= 6 - 3 * 8"
   ]
  },
  {
   "cell_type": "markdown",
   "id": "94f98d17",
   "metadata": {},
   "source": [
    "## Variables"
   ]
  },
  {
   "cell_type": "code",
   "execution_count": 17,
   "id": "ae97e4bc",
   "metadata": {},
   "outputs": [],
   "source": [
    "feet_in_mile = 5280"
   ]
  },
  {
   "cell_type": "code",
   "execution_count": 18,
   "id": "75c6a7bf",
   "metadata": {},
   "outputs": [
    {
     "data": {
      "text/plain": [
       "21120"
      ]
     },
     "execution_count": 18,
     "metadata": {},
     "output_type": "execute_result"
    }
   ],
   "source": [
    "4 * feet_in_mile"
   ]
  },
  {
   "cell_type": "code",
   "execution_count": 19,
   "id": "8a7b815e",
   "metadata": {},
   "outputs": [],
   "source": [
    "mikm = .61"
   ]
  },
  {
   "cell_type": "code",
   "execution_count": 22,
   "id": "c91ed66c",
   "metadata": {},
   "outputs": [
    {
     "data": {
      "text/plain": [
       "0.6"
      ]
     },
     "execution_count": 22,
     "metadata": {},
     "output_type": "execute_result"
    }
   ],
   "source": [
    "miles_in_km = .6\n",
    "miles_in_km"
   ]
  },
  {
   "cell_type": "code",
   "execution_count": 23,
   "id": "d92457d6",
   "metadata": {},
   "outputs": [
    {
     "data": {
      "text/plain": [
       "6.0"
      ]
     },
     "execution_count": 23,
     "metadata": {},
     "output_type": "execute_result"
    }
   ],
   "source": [
    "distance = 10 * miles_in_km\n",
    "distance"
   ]
  },
  {
   "cell_type": "code",
   "execution_count": 24,
   "id": "40302f96",
   "metadata": {},
   "outputs": [
    {
     "data": {
      "text/plain": [
       "7.0"
      ]
     },
     "execution_count": 24,
     "metadata": {},
     "output_type": "execute_result"
    }
   ],
   "source": [
    "distance = distance + 1\n",
    "distance"
   ]
  },
  {
   "cell_type": "code",
   "execution_count": 25,
   "id": "488a34ce",
   "metadata": {},
   "outputs": [
    {
     "data": {
      "text/plain": [
       "8.0"
      ]
     },
     "execution_count": 25,
     "metadata": {},
     "output_type": "execute_result"
    }
   ],
   "source": [
    "distance += 1\n",
    "distance"
   ]
  },
  {
   "cell_type": "code",
   "execution_count": 26,
   "id": "1884740d",
   "metadata": {},
   "outputs": [
    {
     "data": {
      "text/plain": [
       "16.0"
      ]
     },
     "execution_count": 26,
     "metadata": {},
     "output_type": "execute_result"
    }
   ],
   "source": [
    "distance*=2\n",
    "distance"
   ]
  },
  {
   "cell_type": "markdown",
   "id": "3910d977",
   "metadata": {},
   "source": [
    "# Errors"
   ]
  },
  {
   "cell_type": "code",
   "execution_count": 27,
   "id": "88f904f6",
   "metadata": {},
   "outputs": [
    {
     "ename": "SyntaxError",
     "evalue": "cannot assign to literal here. Maybe you meant '==' instead of '='? (2492207828.py, line 1)",
     "output_type": "error",
     "traceback": [
      "\u001b[1;36m  Input \u001b[1;32mIn [27]\u001b[1;36m\u001b[0m\n\u001b[1;33m    5 = 7\u001b[0m\n\u001b[1;37m    ^\u001b[0m\n\u001b[1;31mSyntaxError\u001b[0m\u001b[1;31m:\u001b[0m cannot assign to literal here. Maybe you meant '==' instead of '='?\n"
     ]
    }
   ],
   "source": [
    "5 = 7"
   ]
  },
  {
   "cell_type": "code",
   "execution_count": 28,
   "id": "a307ac01",
   "metadata": {},
   "outputs": [
    {
     "ename": "NameError",
     "evalue": "name 'miles' is not defined",
     "output_type": "error",
     "traceback": [
      "\u001b[1;31m---------------------------------------------------------------------------\u001b[0m",
      "\u001b[1;31mNameError\u001b[0m                                 Traceback (most recent call last)",
      "Input \u001b[1;32mIn [28]\u001b[0m, in \u001b[0;36m<cell line: 1>\u001b[1;34m()\u001b[0m\n\u001b[1;32m----> 1\u001b[0m \u001b[43mmiles\u001b[49m\n",
      "\u001b[1;31mNameError\u001b[0m: name 'miles' is not defined"
     ]
    }
   ],
   "source": [
    "miles"
   ]
  },
  {
   "cell_type": "code",
   "execution_count": 29,
   "id": "23d4dee8",
   "metadata": {},
   "outputs": [],
   "source": [
    "# this is a comment\n",
    "month = 7  # july\n",
    "year = 2022\n",
    "# century = 21"
   ]
  },
  {
   "cell_type": "code",
   "execution_count": 30,
   "id": "03eecf29",
   "metadata": {},
   "outputs": [
    {
     "ename": "NameError",
     "evalue": "name 'century' is not defined",
     "output_type": "error",
     "traceback": [
      "\u001b[1;31m---------------------------------------------------------------------------\u001b[0m",
      "\u001b[1;31mNameError\u001b[0m                                 Traceback (most recent call last)",
      "Input \u001b[1;32mIn [30]\u001b[0m, in \u001b[0;36m<cell line: 1>\u001b[1;34m()\u001b[0m\n\u001b[1;32m----> 1\u001b[0m \u001b[43mcentury\u001b[49m\n",
      "\u001b[1;31mNameError\u001b[0m: name 'century' is not defined"
     ]
    }
   ],
   "source": [
    "century"
   ]
  },
  {
   "cell_type": "markdown",
   "id": "f9b6a2b9",
   "metadata": {},
   "source": [
    "## Functions"
   ]
  },
  {
   "cell_type": "code",
   "execution_count": 31,
   "id": "fe368620",
   "metadata": {
    "scrolled": true
   },
   "outputs": [
    {
     "name": "stdout",
     "output_type": "stream",
     "text": [
      "hello world\n"
     ]
    }
   ],
   "source": [
    "print('hello world')"
   ]
  },
  {
   "cell_type": "code",
   "execution_count": 32,
   "id": "0b5698c2",
   "metadata": {},
   "outputs": [
    {
     "data": {
      "text/plain": [
       "float"
      ]
     },
     "execution_count": 32,
     "metadata": {},
     "output_type": "execute_result"
    }
   ],
   "source": [
    "type(miles_in_km)"
   ]
  },
  {
   "cell_type": "code",
   "execution_count": 34,
   "id": "809472bb",
   "metadata": {},
   "outputs": [
    {
     "name": "stdout",
     "output_type": "stream",
     "text": [
      "100\n"
     ]
    }
   ],
   "source": [
    "print(10 ** 2)"
   ]
  },
  {
   "cell_type": "code",
   "execution_count": 35,
   "id": "faadc2d3",
   "metadata": {},
   "outputs": [
    {
     "data": {
      "text/plain": [
       "0"
      ]
     },
     "execution_count": 35,
     "metadata": {},
     "output_type": "execute_result"
    }
   ],
   "source": [
    "int(miles_in_km)"
   ]
  },
  {
   "cell_type": "code",
   "execution_count": 36,
   "id": "ce8bd9b3",
   "metadata": {},
   "outputs": [
    {
     "data": {
      "text/plain": [
       "0.6"
      ]
     },
     "execution_count": 36,
     "metadata": {},
     "output_type": "execute_result"
    }
   ],
   "source": [
    "round(miles_in_km, 1)"
   ]
  },
  {
   "cell_type": "code",
   "execution_count": 37,
   "id": "02343c98",
   "metadata": {},
   "outputs": [
    {
     "data": {
      "text/plain": [
       "17"
      ]
     },
     "execution_count": 37,
     "metadata": {},
     "output_type": "execute_result"
    }
   ],
   "source": [
    "abs(-17)"
   ]
  },
  {
   "cell_type": "code",
   "execution_count": 38,
   "id": "3b1ebe8c",
   "metadata": {},
   "outputs": [
    {
     "name": "stdout",
     "output_type": "stream",
     "text": [
      "<class 'int'>\n"
     ]
    }
   ],
   "source": [
    "print(type(round(2 * 1.5)))"
   ]
  },
  {
   "cell_type": "code",
   "execution_count": 39,
   "id": "ebb576e9",
   "metadata": {},
   "outputs": [
    {
     "name": "stdout",
     "output_type": "stream",
     "text": [
      "Help on built-in function round in module builtins:\n",
      "\n",
      "round(number, ndigits=None)\n",
      "    Round a number to a given precision in decimal digits.\n",
      "    \n",
      "    The return value is an integer if ndigits is omitted or None.  Otherwise\n",
      "    the return value has the same type as the number.  ndigits may be negative.\n",
      "\n"
     ]
    }
   ],
   "source": [
    "help(round)"
   ]
  },
  {
   "cell_type": "code",
   "execution_count": 40,
   "id": "fb2c3be9",
   "metadata": {},
   "outputs": [],
   "source": [
    "# writing a function\n",
    "def km_to_mi(km):\n",
    "    '''\n",
    "    Convert km to mi. There are .6 km in a mile\n",
    "    '''\n",
    "    mi = km * 0.6\n",
    "    return mi"
   ]
  },
  {
   "cell_type": "code",
   "execution_count": 41,
   "id": "5016fdb6",
   "metadata": {},
   "outputs": [
    {
     "name": "stdout",
     "output_type": "stream",
     "text": [
      "Help on function km_to_mi in module __main__:\n",
      "\n",
      "km_to_mi(km)\n",
      "    Convert km to mi. There are .6 km in a mile\n",
      "\n"
     ]
    }
   ],
   "source": [
    "help(km_to_mi)"
   ]
  },
  {
   "cell_type": "code",
   "execution_count": 42,
   "id": "f6c8cea7",
   "metadata": {},
   "outputs": [],
   "source": [
    "def divide(dividend, divisor):\n",
    "    return dividend / divisor"
   ]
  },
  {
   "cell_type": "code",
   "execution_count": 43,
   "id": "1672e7ac",
   "metadata": {},
   "outputs": [
    {
     "data": {
      "text/plain": [
       "2.5"
      ]
     },
     "execution_count": 43,
     "metadata": {},
     "output_type": "execute_result"
    }
   ],
   "source": [
    "divide(10, 4)"
   ]
  },
  {
   "cell_type": "code",
   "execution_count": 44,
   "id": "7d5ae0f3",
   "metadata": {},
   "outputs": [
    {
     "data": {
      "text/plain": [
       "0.0"
      ]
     },
     "execution_count": 44,
     "metadata": {},
     "output_type": "execute_result"
    }
   ],
   "source": [
    "divide(0, 4)"
   ]
  },
  {
   "cell_type": "code",
   "execution_count": 48,
   "id": "cbe203ae",
   "metadata": {
    "scrolled": false
   },
   "outputs": [
    {
     "ename": "ZeroDivisionError",
     "evalue": "division by zero",
     "output_type": "error",
     "traceback": [
      "\u001b[1;31m---------------------------------------------------------------------------\u001b[0m",
      "\u001b[1;31mZeroDivisionError\u001b[0m                         Traceback (most recent call last)",
      "Input \u001b[1;32mIn [48]\u001b[0m, in \u001b[0;36m<cell line: 1>\u001b[1;34m()\u001b[0m\n\u001b[1;32m----> 1\u001b[0m \u001b[43mdivide\u001b[49m\u001b[43m(\u001b[49m\u001b[38;5;241;43m4\u001b[39;49m\u001b[43m,\u001b[49m\u001b[43m \u001b[49m\u001b[38;5;241;43m0\u001b[39;49m\u001b[43m)\u001b[49m\n",
      "Input \u001b[1;32mIn [42]\u001b[0m, in \u001b[0;36mdivide\u001b[1;34m(dividend, divisor)\u001b[0m\n\u001b[0;32m      1\u001b[0m \u001b[38;5;28;01mdef\u001b[39;00m \u001b[38;5;21mdivide\u001b[39m(dividend, divisor):\n\u001b[1;32m----> 2\u001b[0m     \u001b[38;5;28;01mreturn\u001b[39;00m \u001b[43mdividend\u001b[49m\u001b[43m \u001b[49m\u001b[38;5;241;43m/\u001b[39;49m\u001b[43m \u001b[49m\u001b[43mdivisor\u001b[49m\n",
      "\u001b[1;31mZeroDivisionError\u001b[0m: division by zero"
     ]
    }
   ],
   "source": [
    "divide(4, 0)"
   ]
  },
  {
   "cell_type": "code",
   "execution_count": 49,
   "id": "83f5586f",
   "metadata": {},
   "outputs": [
    {
     "data": {
      "text/plain": [
       "2.0345"
      ]
     },
     "execution_count": 49,
     "metadata": {},
     "output_type": "execute_result"
    }
   ],
   "source": [
    "def calc_sales_tax(price, tax_rate=0.13):\n",
    "    return price * tax_rate\n",
    "\n",
    "calc_sales_tax(15.65)"
   ]
  },
  {
   "cell_type": "code",
   "execution_count": 50,
   "id": "8b52aa57",
   "metadata": {},
   "outputs": [
    {
     "data": {
      "text/plain": [
       "0.7825000000000001"
      ]
     },
     "execution_count": 50,
     "metadata": {},
     "output_type": "execute_result"
    }
   ],
   "source": [
    "calc_sales_tax(15.65, .05)"
   ]
  },
  {
   "cell_type": "code",
   "execution_count": 51,
   "id": "d5b6066f",
   "metadata": {},
   "outputs": [],
   "source": [
    "def calc_total_bill(price, tax_rate=0.13, tip_rate=.2):\n",
    "    tax = price * tax_rate\n",
    "    tip = price * tip_rate\n",
    "    return price + tax + tip"
   ]
  },
  {
   "cell_type": "code",
   "execution_count": 52,
   "id": "f3812992",
   "metadata": {},
   "outputs": [
    {
     "data": {
      "text/plain": [
       "133.0"
      ]
     },
     "execution_count": 52,
     "metadata": {},
     "output_type": "execute_result"
    }
   ],
   "source": [
    "calc_total_bill(100)"
   ]
  },
  {
   "cell_type": "code",
   "execution_count": 53,
   "id": "615b25f7",
   "metadata": {},
   "outputs": [
    {
     "data": {
      "text/plain": [
       "142.0"
      ]
     },
     "execution_count": 53,
     "metadata": {},
     "output_type": "execute_result"
    }
   ],
   "source": [
    "calc_total_bill(100, .22)"
   ]
  },
  {
   "cell_type": "code",
   "execution_count": 54,
   "id": "f267e2d8",
   "metadata": {},
   "outputs": [
    {
     "data": {
      "text/plain": [
       "127.0"
      ]
     },
     "execution_count": 54,
     "metadata": {},
     "output_type": "execute_result"
    }
   ],
   "source": [
    "calc_total_bill(100, tip_rate=.22, tax_rate=.05)"
   ]
  },
  {
   "cell_type": "code",
   "execution_count": 55,
   "id": "c164a34f",
   "metadata": {},
   "outputs": [
    {
     "name": "stdout",
     "output_type": "stream",
     "text": [
      "Help on built-in function round in module builtins:\n",
      "\n",
      "round(number, ndigits=None)\n",
      "    Round a number to a given precision in decimal digits.\n",
      "    \n",
      "    The return value is an integer if ndigits is omitted or None.  Otherwise\n",
      "    the return value has the same type as the number.  ndigits may be negative.\n",
      "\n"
     ]
    }
   ],
   "source": [
    "help(round)"
   ]
  },
  {
   "cell_type": "code",
   "execution_count": 56,
   "id": "cbf99f89",
   "metadata": {},
   "outputs": [
    {
     "data": {
      "text/plain": [
       "3.1"
      ]
     },
     "execution_count": 56,
     "metadata": {},
     "output_type": "execute_result"
    }
   ],
   "source": [
    "round(ndigits=1, number=3.14)"
   ]
  },
  {
   "cell_type": "code",
   "execution_count": 57,
   "id": "3b4e8d80",
   "metadata": {},
   "outputs": [],
   "source": [
    "pounds = 135"
   ]
  },
  {
   "cell_type": "code",
   "execution_count": 58,
   "id": "076fbb02",
   "metadata": {},
   "outputs": [],
   "source": [
    "def kg_to_lb(kg):\n",
    "    '''Convert kg to lb\n",
    "    >>> kg_to_lb(50)\n",
    "    110\n",
    "    >>> kg_to_lb(2)\n",
    "    4.4\n",
    "    '''\n",
    "    pounds = kg * 2.2\n",
    "    return pounds"
   ]
  },
  {
   "cell_type": "code",
   "execution_count": 62,
   "id": "ca07b6dd",
   "metadata": {},
   "outputs": [
    {
     "data": {
      "text/plain": [
       "4.4"
      ]
     },
     "execution_count": 62,
     "metadata": {},
     "output_type": "execute_result"
    }
   ],
   "source": [
    "kg_to_lb(2)"
   ]
  },
  {
   "cell_type": "markdown",
   "id": "56bd1f99",
   "metadata": {},
   "source": [
    "## Function Design Recipe\n",
    "\n",
    "This function design recipe standardizes the steps to write a function.\n",
    "\n",
    "1. Think about what your function does. Come up with a few examples of inputs and outputs.\n",
    "2. Think of a meaningful function name.\n",
    "3. Write thorough function documentation.\n",
    "4. Code the function body.\n",
    "5. Test the function against the examples from step 1."
   ]
  },
  {
   "cell_type": "code",
   "execution_count": 63,
   "id": "a1423570",
   "metadata": {},
   "outputs": [
    {
     "name": "stdout",
     "output_type": "stream",
     "text": [
      "42\n",
      "3\n"
     ]
    }
   ],
   "source": [
    "# what does this code print? why?\n",
    "\n",
    "answer = 3\n",
    "\n",
    "def answer_to_everything():\n",
    "    answer = 42\n",
    "    return answer\n",
    "    \n",
    "print(answer_to_everything())\n",
    "\n",
    "print(answer)"
   ]
  },
  {
   "cell_type": "markdown",
   "id": "fb437a98",
   "metadata": {},
   "source": [
    "# Strings\n",
    "\n",
    "`str`: text data"
   ]
  },
  {
   "cell_type": "code",
   "execution_count": 64,
   "id": "bc004820",
   "metadata": {},
   "outputs": [
    {
     "data": {
      "text/plain": [
       "'this is a string'"
      ]
     },
     "execution_count": 64,
     "metadata": {},
     "output_type": "execute_result"
    }
   ],
   "source": [
    "'this is a string'"
   ]
  },
  {
   "cell_type": "code",
   "execution_count": 65,
   "id": "05927115",
   "metadata": {},
   "outputs": [
    {
     "ename": "SyntaxError",
     "evalue": "invalid syntax (4100235400.py, line 1)",
     "output_type": "error",
     "traceback": [
      "\u001b[1;36m  Input \u001b[1;32mIn [65]\u001b[1;36m\u001b[0m\n\u001b[1;33m    'we're doing great\u001b[0m\n\u001b[1;37m        ^\u001b[0m\n\u001b[1;31mSyntaxError\u001b[0m\u001b[1;31m:\u001b[0m invalid syntax\n"
     ]
    }
   ],
   "source": [
    "'we're doing great"
   ]
  },
  {
   "cell_type": "code",
   "execution_count": 66,
   "id": "23e05a27",
   "metadata": {},
   "outputs": [
    {
     "data": {
      "text/plain": [
       "\"we're doing great\""
      ]
     },
     "execution_count": 66,
     "metadata": {},
     "output_type": "execute_result"
    }
   ],
   "source": [
    "\"we're doing great\""
   ]
  },
  {
   "cell_type": "code",
   "execution_count": 67,
   "id": "0e10c9c9",
   "metadata": {},
   "outputs": [
    {
     "data": {
      "text/plain": [
       "\"we're doing great\""
      ]
     },
     "execution_count": 67,
     "metadata": {},
     "output_type": "execute_result"
    }
   ],
   "source": [
    "'we\\'re doing great'"
   ]
  },
  {
   "cell_type": "code",
   "execution_count": 68,
   "id": "5774b292",
   "metadata": {},
   "outputs": [
    {
     "data": {
      "text/plain": [
       "'\\nI am a multiline string\\n\\nI\\'m useful for documentation and storing longer text.\\n\\nAnd we don\\'t need to worry about \"quotation marks\"!\\n'"
      ]
     },
     "execution_count": 68,
     "metadata": {},
     "output_type": "execute_result"
    }
   ],
   "source": [
    "'''\n",
    "I am a multiline string\n",
    "\n",
    "I'm useful for documentation and storing longer text.\n",
    "\n",
    "And we don't need to worry about \"quotation marks\"!\n",
    "'''"
   ]
  },
  {
   "cell_type": "markdown",
   "id": "762ec31a",
   "metadata": {},
   "source": [
    "### Escape characters\n",
    "`\\'` escapes '  \n",
    "`\\\\` escapes the backslash  \n",
    "`\\n` newline  \n",
    "`\\t` tab"
   ]
  },
  {
   "cell_type": "markdown",
   "id": "472571b2",
   "metadata": {},
   "source": [
    "## String operations"
   ]
  },
  {
   "cell_type": "code",
   "execution_count": 69,
   "id": "6dc31dd1",
   "metadata": {},
   "outputs": [
    {
     "data": {
      "text/plain": [
       "'helloworld'"
      ]
     },
     "execution_count": 69,
     "metadata": {},
     "output_type": "execute_result"
    }
   ],
   "source": [
    "'hello' + 'world'"
   ]
  },
  {
   "cell_type": "code",
   "execution_count": 70,
   "id": "e316302e",
   "metadata": {},
   "outputs": [
    {
     "data": {
      "text/plain": [
       "'22'"
      ]
     },
     "execution_count": 70,
     "metadata": {},
     "output_type": "execute_result"
    }
   ],
   "source": [
    "'2' + '2'"
   ]
  },
  {
   "cell_type": "code",
   "execution_count": 71,
   "id": "a24a03c5",
   "metadata": {},
   "outputs": [
    {
     "data": {
      "text/plain": [
       "'222'"
      ]
     },
     "execution_count": 71,
     "metadata": {},
     "output_type": "execute_result"
    }
   ],
   "source": [
    "'2' * 3"
   ]
  },
  {
   "cell_type": "code",
   "execution_count": 72,
   "id": "7b737649",
   "metadata": {},
   "outputs": [
    {
     "ename": "TypeError",
     "evalue": "can't multiply sequence by non-int of type 'str'",
     "output_type": "error",
     "traceback": [
      "\u001b[1;31m---------------------------------------------------------------------------\u001b[0m",
      "\u001b[1;31mTypeError\u001b[0m                                 Traceback (most recent call last)",
      "Input \u001b[1;32mIn [72]\u001b[0m, in \u001b[0;36m<cell line: 1>\u001b[1;34m()\u001b[0m\n\u001b[1;32m----> 1\u001b[0m \u001b[38;5;124;43m'\u001b[39;49m\u001b[38;5;124;43m4\u001b[39;49m\u001b[38;5;124;43m'\u001b[39;49m\u001b[43m \u001b[49m\u001b[38;5;241;43m*\u001b[39;49m\u001b[43m \u001b[49m\u001b[38;5;124;43m'\u001b[39;49m\u001b[38;5;124;43m5\u001b[39;49m\u001b[38;5;124;43m'\u001b[39;49m\n",
      "\u001b[1;31mTypeError\u001b[0m: can't multiply sequence by non-int of type 'str'"
     ]
    }
   ],
   "source": [
    "'4' * '5'"
   ]
  },
  {
   "cell_type": "code",
   "execution_count": 73,
   "id": "9e5b8407",
   "metadata": {},
   "outputs": [
    {
     "ename": "TypeError",
     "evalue": "can only concatenate str (not \"int\") to str",
     "output_type": "error",
     "traceback": [
      "\u001b[1;31m---------------------------------------------------------------------------\u001b[0m",
      "\u001b[1;31mTypeError\u001b[0m                                 Traceback (most recent call last)",
      "Input \u001b[1;32mIn [73]\u001b[0m, in \u001b[0;36m<cell line: 1>\u001b[1;34m()\u001b[0m\n\u001b[1;32m----> 1\u001b[0m \u001b[38;5;124;43m'\u001b[39;49m\u001b[38;5;124;43m2\u001b[39;49m\u001b[38;5;124;43m'\u001b[39;49m\u001b[43m \u001b[49m\u001b[38;5;241;43m+\u001b[39;49m\u001b[43m \u001b[49m\u001b[38;5;241;43m100\u001b[39;49m\n",
      "\u001b[1;31mTypeError\u001b[0m: can only concatenate str (not \"int\") to str"
     ]
    }
   ],
   "source": [
    "'2' + 100"
   ]
  },
  {
   "cell_type": "code",
   "execution_count": 74,
   "id": "6673ae0d",
   "metadata": {},
   "outputs": [
    {
     "name": "stdout",
     "output_type": "stream",
     "text": [
      "My weight is 61.36363636363636 kg\n"
     ]
    }
   ],
   "source": [
    "print(f'My weight is {pounds/2.2} kg')"
   ]
  },
  {
   "cell_type": "code",
   "execution_count": 75,
   "id": "596d86d8",
   "metadata": {},
   "outputs": [
    {
     "name": "stdout",
     "output_type": "stream",
     "text": [
      "42 is the answer to everything\n"
     ]
    }
   ],
   "source": [
    "print(f'{answer_to_everything()} is the answer to everything')"
   ]
  },
  {
   "cell_type": "code",
   "execution_count": 76,
   "id": "0d7f530c",
   "metadata": {},
   "outputs": [
    {
     "data": {
      "text/plain": [
       "False"
      ]
     },
     "execution_count": 76,
     "metadata": {},
     "output_type": "execute_result"
    }
   ],
   "source": [
    "'apple' == 'Apple'"
   ]
  },
  {
   "cell_type": "code",
   "execution_count": 77,
   "id": "898c0ecc",
   "metadata": {},
   "outputs": [
    {
     "data": {
      "text/plain": [
       "True"
      ]
     },
     "execution_count": 77,
     "metadata": {},
     "output_type": "execute_result"
    }
   ],
   "source": [
    "'apple' != 'Apple'"
   ]
  },
  {
   "cell_type": "code",
   "execution_count": 78,
   "id": "18dc9d2a",
   "metadata": {},
   "outputs": [
    {
     "data": {
      "text/plain": [
       "True"
      ]
     },
     "execution_count": 78,
     "metadata": {},
     "output_type": "execute_result"
    }
   ],
   "source": [
    "20.0 == 20"
   ]
  },
  {
   "cell_type": "code",
   "execution_count": 79,
   "id": "2650bc22",
   "metadata": {},
   "outputs": [
    {
     "data": {
      "text/plain": [
       "False"
      ]
     },
     "execution_count": 79,
     "metadata": {},
     "output_type": "execute_result"
    }
   ],
   "source": [
    "'apple' > 'banana'"
   ]
  },
  {
   "cell_type": "code",
   "execution_count": 80,
   "id": "75774429",
   "metadata": {},
   "outputs": [
    {
     "data": {
      "text/plain": [
       "True"
      ]
     },
     "execution_count": 80,
     "metadata": {},
     "output_type": "execute_result"
    }
   ],
   "source": [
    "'apple' < 'banana'"
   ]
  },
  {
   "cell_type": "code",
   "execution_count": 81,
   "id": "05f9497c",
   "metadata": {},
   "outputs": [
    {
     "data": {
      "text/plain": [
       "True"
      ]
     },
     "execution_count": 81,
     "metadata": {},
     "output_type": "execute_result"
    }
   ],
   "source": [
    "'apple' > 'Apple'"
   ]
  },
  {
   "cell_type": "markdown",
   "id": "0979e411",
   "metadata": {},
   "source": [
    "## Slicing strings"
   ]
  },
  {
   "cell_type": "code",
   "execution_count": 82,
   "id": "5a108b8f",
   "metadata": {},
   "outputs": [
    {
     "data": {
      "text/plain": [
       "'b'"
      ]
     },
     "execution_count": 82,
     "metadata": {},
     "output_type": "execute_result"
    }
   ],
   "source": [
    "'banana'[0]"
   ]
  },
  {
   "cell_type": "code",
   "execution_count": 83,
   "id": "e11a3c4c",
   "metadata": {},
   "outputs": [
    {
     "data": {
      "text/plain": [
       "'a'"
      ]
     },
     "execution_count": 83,
     "metadata": {},
     "output_type": "execute_result"
    }
   ],
   "source": [
    "'banana'[1]"
   ]
  },
  {
   "cell_type": "code",
   "execution_count": 84,
   "id": "67b82e2b",
   "metadata": {},
   "outputs": [
    {
     "data": {
      "text/plain": [
       "'s'"
      ]
     },
     "execution_count": 84,
     "metadata": {},
     "output_type": "execute_result"
    }
   ],
   "source": [
    "'bananas'[-1]"
   ]
  },
  {
   "cell_type": "code",
   "execution_count": 85,
   "id": "1b470996",
   "metadata": {},
   "outputs": [
    {
     "data": {
      "text/plain": [
       "'v'"
      ]
     },
     "execution_count": 85,
     "metadata": {},
     "output_type": "execute_result"
    }
   ],
   "source": [
    "filename = 'my_long_filename.csv'\n",
    "\n",
    "filename[-1]"
   ]
  },
  {
   "cell_type": "code",
   "execution_count": 86,
   "id": "a3a46670",
   "metadata": {},
   "outputs": [
    {
     "data": {
      "text/plain": [
       "'my'"
      ]
     },
     "execution_count": 86,
     "metadata": {},
     "output_type": "execute_result"
    }
   ],
   "source": [
    "filename[0:2]"
   ]
  },
  {
   "cell_type": "code",
   "execution_count": 87,
   "id": "091cdd62",
   "metadata": {},
   "outputs": [
    {
     "data": {
      "text/plain": [
       "'csv'"
      ]
     },
     "execution_count": 87,
     "metadata": {},
     "output_type": "execute_result"
    }
   ],
   "source": [
    "filename[-3:]"
   ]
  },
  {
   "cell_type": "code",
   "execution_count": 88,
   "id": "622b2503",
   "metadata": {},
   "outputs": [
    {
     "data": {
      "text/plain": [
       "'my'"
      ]
     },
     "execution_count": 88,
     "metadata": {},
     "output_type": "execute_result"
    }
   ],
   "source": [
    "filename[:2]"
   ]
  },
  {
   "cell_type": "code",
   "execution_count": 89,
   "id": "dae6a316",
   "metadata": {},
   "outputs": [
    {
     "data": {
      "text/plain": [
       "'vsc.emanelif_gnol_ym'"
      ]
     },
     "execution_count": 89,
     "metadata": {},
     "output_type": "execute_result"
    }
   ],
   "source": [
    "filename[::-1]"
   ]
  },
  {
   "cell_type": "code",
   "execution_count": 90,
   "id": "0a43a01d",
   "metadata": {},
   "outputs": [
    {
     "data": {
      "text/plain": [
       "'m_ogflnm.s'"
      ]
     },
     "execution_count": 90,
     "metadata": {},
     "output_type": "execute_result"
    }
   ],
   "source": [
    "filename[::2]"
   ]
  }
 ],
 "metadata": {
  "kernelspec": {
   "display_name": "Python 3 (ipykernel)",
   "language": "python",
   "name": "python3"
  },
  "language_info": {
   "codemirror_mode": {
    "name": "ipython",
    "version": 3
   },
   "file_extension": ".py",
   "mimetype": "text/x-python",
   "name": "python",
   "nbconvert_exporter": "python",
   "pygments_lexer": "ipython3",
   "version": "3.10.4"
  }
 },
 "nbformat": 4,
 "nbformat_minor": 5
}
