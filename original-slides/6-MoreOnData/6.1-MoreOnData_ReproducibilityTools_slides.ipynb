{
 "cells": [
  {
   "cell_type": "markdown",
   "id": "4209c67b",
   "metadata": {
    "slideshow": {
     "slide_type": "slide"
    }
   },
   "source": [
    "## Module 4: Python\n",
    "\n",
    "\n",
    "# More on Data\n",
    "## REPRODUCIBILITY Tools\n",
    "<br>\n",
    "\n",
    "Asel Kushkeyeva<br>\n",
    "Data Science Institute, University of Toronto<br>\n",
    "2022"
   ]
  },
  {
   "cell_type": "markdown",
   "id": "8aebbe1a",
   "metadata": {
    "slideshow": {
     "slide_type": "slide"
    }
   },
   "source": [
    "### Jupyter Notebook as a Slideshow\n",
    "\n",
    "To see this notebook as a live slideshow, we need to install RISE (Reveal.js - Jupyter/IPython Slideshow Extension):\n",
    "\n",
    "1. Insert a cell and execute the following code: `conda install -c conda-forge rise`\n",
    "2. Restart the Jupyter Notebook.\n",
    "3. On the top of your notebook you have a new icon that looks like a bar chart; hover over the icon to see 'Enter/Exit RISE Slideshow'.\n",
    "4. Click on the RISE icon and enjoy the slideshow.\n",
    "5. You can edit the notebook in a slideshow mode by double clicking the line.\n",
    "*This is done only once. Now all your notebooks will have the RISE extension (unless you re-install the Jupyter Notebook).*"
   ]
  },
  {
   "cell_type": "markdown",
   "id": "454a2695",
   "metadata": {
    "slideshow": {
     "slide_type": "slide"
    }
   },
   "source": [
    "# Agenda\n",
    "\n",
    "1. Jupyter Notebook. Markdown\n",
    "2. Google Colab\n",
    "3. Spyder\n",
    "4. Visual Studio Code\n",
    "5. Virtual Environment\n",
    "6. requirements.txt"
   ]
  },
  {
   "cell_type": "markdown",
   "id": "57dda203",
   "metadata": {
    "slideshow": {
     "slide_type": "slide"
    }
   },
   "source": [
    "# Jupyter Notebook"
   ]
  },
  {
   "cell_type": "markdown",
   "id": "33aa1560",
   "metadata": {
    "slideshow": {
     "slide_type": "slide"
    }
   },
   "source": [
    "You were introduced to *Anaconda's* __Jupyter Notebook__ at the begining of this module. We typed and executed codes in our notebooks. Let's talk about some of its other features such as:\n",
    "- using markup language;\n",
    "- creating slides."
   ]
  },
  {
   "cell_type": "markdown",
   "id": "e21c1148",
   "metadata": {
    "slideshow": {
     "slide_type": "slide"
    }
   },
   "source": [
    "### Markdown"
   ]
  },
  {
   "cell_type": "markdown",
   "id": "7e5585b3",
   "metadata": {
    "slideshow": {
     "slide_type": "slide"
    }
   },
   "source": [
    "*Markdown* is a lighweight markup language that allows to edit a Jupyter Notebook to make it easier to read. For example, we can add:"
   ]
  },
  {
   "cell_type": "markdown",
   "id": "e5fe7b71",
   "metadata": {
    "slideshow": {
     "slide_type": "fragment"
    }
   },
   "source": [
    "# headers,\n",
    "__bolded__ and *italized* font,\n",
    "- bulletted lists, and\n",
    "[links](https://jupyter.org/documentation)."
   ]
  },
  {
   "cell_type": "markdown",
   "id": "32b8e11d",
   "metadata": {
    "slideshow": {
     "slide_type": "slide"
    }
   },
   "source": [
    "Go to __Cell -> Cell Type -> Markdown__. Now we can type in this cell as we do in a word document, run the cell and get some text rendered. Try in your notebooks!"
   ]
  },
  {
   "cell_type": "markdown",
   "id": "987421e6",
   "metadata": {
    "slideshow": {
     "slide_type": "slide"
    }
   },
   "source": [
    "Table 1 demonstrates some of the essential Markdown syntax uses. These will help you create human readable documents."
   ]
  },
  {
   "cell_type": "markdown",
   "id": "00b10708",
   "metadata": {
    "slideshow": {
     "slide_type": "fragment"
    }
   },
   "source": [
    "__Table1. Markdown syntax__\n",
    "<br>\n",
    "\n",
    "|Symbol|Output|Description|\n",
    "|------|------|------|\n",
    "|#     |Header 1     |One hashtag at the begining of a line    |\n",
    "|##    |Header 2     |Two hashtags at the begining of a line      |\n",
    "|###   |Header 3     |Three hashtags at the begining of a line      |\n",
    "|####  |Header 4     |Four hashtags at the begining of a line      |\n",
    "|##### |Header 5     |Five hashtags at the begining of a line      |\n",
    "|__ __ |Bold font    |Two underscores at the begining and end of text     |\n",
    "|**    |Italic font  |A star on each sides of text     |\n",
    "|-     |Bullet points|One hiphen at the begining of a line   |\n",
    "|\\[click here\\](url)  |Embedded links|text between square brakets and full url in brackets|"
   ]
  },
  {
   "cell_type": "markdown",
   "id": "0b191835",
   "metadata": {
    "slideshow": {
     "slide_type": "slide"
    }
   },
   "source": [
    "## PRACTICE IN YOUR NOTEBOOK"
   ]
  },
  {
   "cell_type": "markdown",
   "id": "0d80f611",
   "metadata": {
    "slideshow": {
     "slide_type": "slide"
    }
   },
   "source": [
    "Explore other Markdown formatting syntax. [The Ultimate Markdown Guide (for Jupyter Notebook)](https://medium.com/analytics-vidhya/the-ultimate-markdown-guide-for-jupyter-notebook-d5e5abf728fd) on medium.com will get you started."
   ]
  },
  {
   "cell_type": "markdown",
   "id": "3b64df5e",
   "metadata": {
    "slideshow": {
     "slide_type": "slide"
    }
   },
   "source": [
    "### Creating slides in Jupyter Notebook"
   ]
  },
  {
   "cell_type": "markdown",
   "id": "bd8dfcd1",
   "metadata": {
    "slideshow": {
     "slide_type": "slide"
    }
   },
   "source": [
    "To create slides:\n",
    "- Go to *View -> Cell Toolbar -> Slideshow*.\n",
    "- Now each cell has *Slide Type* menu on the right.\n",
    "- *Slide Type* options:\n",
    "    - *Slide* turns a cell into a slide;\n",
    "    - *Sub-Slide* adds a slide below previous slide;\n",
    "    - *Fragment* adds fragments in previous slide;\n",
    "    - *Skip* does not show this cell in a slidedeck;\n",
    "    - *Notes* adds speaker notes.\n",
    "\n",
    "Voila! We have a working presentation."
   ]
  },
  {
   "cell_type": "markdown",
   "id": "0ee696de",
   "metadata": {
    "slideshow": {
     "slide_type": "slide"
    }
   },
   "source": [
    "To run the presentation, we need to install __RISE__. Please do so if you haven't done during the first class."
   ]
  },
  {
   "cell_type": "markdown",
   "id": "969031de",
   "metadata": {
    "slideshow": {
     "slide_type": "slide"
    }
   },
   "source": [
    "### RISE (Reveal.js - Jupyter/IPython Slideshow Extension) installation:\n",
    "1. In a new cell execute the following code: `conda install -c conda-forge rise`\n",
    "2. Restart your Jupyter.\n",
    "3. Now on the top of your notebook you have __RISE__ icon - an icon that looks like a bar chart. \n",
    "4. Click on the RISE icon and enjoy the slideshow.\n",
    "5. You can edit the notebook in a slideshow mode by double clicking the line.\n",
    "*This is done only once for all your notebooks to have the RISE extension. (Unless you reinstall your Jupyter.)*"
   ]
  },
  {
   "cell_type": "markdown",
   "id": "7d6267bb",
   "metadata": {
    "slideshow": {
     "slide_type": "slide"
    }
   },
   "source": [
    "# Google Colab"
   ]
  },
  {
   "cell_type": "markdown",
   "id": "ba588a9d",
   "metadata": {
    "slideshow": {
     "slide_type": "slide"
    }
   },
   "source": [
    "*Google Colab* is very similar to Jupyter Notebook. It's a Google product so we can share it like we would any other document of Google Suite."
   ]
  },
  {
   "cell_type": "markdown",
   "id": "4f498d52",
   "metadata": {
    "slideshow": {
     "slide_type": "slide"
    }
   },
   "source": [
    "Go to http://colab.research.google.com.\n",
    "\n",
    "Many example notebooks are presented there.\n",
    "\n",
    "Click on Examples and scroll to *Altair Chart Snippets*."
   ]
  },
  {
   "cell_type": "markdown",
   "id": "6ae1bbed",
   "metadata": {
    "slideshow": {
     "slide_type": "slide"
    }
   },
   "source": [
    "In the *Altair Chart Snippet* notebook, we see several visualization codes. \n",
    "\n",
    "Click on Run cell button at the beginning of a code to enjoy the beautiful visuals.\n",
    "\n",
    "Similarly, we can create new Colab Notebook or upload our own Jupyter Notebook to Google Drive and open it with Colab to use its features."
   ]
  },
  {
   "cell_type": "markdown",
   "id": "3720bda6",
   "metadata": {
    "slideshow": {
     "slide_type": "slide"
    }
   },
   "source": [
    "Notebooks exploring more advanced topics of machine learning are on Google's [AiHUB](https://aihub.cloud.google.com/u/0/)."
   ]
  },
  {
   "cell_type": "markdown",
   "id": "bc4be991",
   "metadata": {
    "slideshow": {
     "slide_type": "slide"
    }
   },
   "source": [
    "## PRACTICE IN YOUR Google Colab"
   ]
  },
  {
   "cell_type": "markdown",
   "id": "44000309",
   "metadata": {
    "slideshow": {
     "slide_type": "slide"
    }
   },
   "source": [
    "Access any of the Google Colab's examples and try to use the example code in your own Notebook, changing the parameters."
   ]
  },
  {
   "cell_type": "markdown",
   "id": "15610b27",
   "metadata": {
    "slideshow": {
     "slide_type": "slide"
    }
   },
   "source": [
    "# Spyder"
   ]
  },
  {
   "cell_type": "markdown",
   "id": "dfa68f29",
   "metadata": {
    "slideshow": {
     "slide_type": "slide"
    }
   },
   "source": [
    "Another Python IDE that comes under *Anaconda* umbrella is __Spyder__. If you are familiar with __RStudio__, you will find Spyder very similar to it. "
   ]
  },
  {
   "cell_type": "markdown",
   "id": "23c1aeb5",
   "metadata": {
    "slideshow": {
     "slide_type": "slide"
    }
   },
   "source": [
    "Launch the Spyder and let's explore."
   ]
  },
  {
   "cell_type": "markdown",
   "id": "1ffd3123",
   "metadata": {
    "slideshow": {
     "slide_type": "fragment"
    }
   },
   "source": [
    "On the top, *Toolbar* allows a quick access to open and run scripts and adjust panes.\n",
    "\n",
    "On the bottom, *Status Bar* shows Python version, line and column our cursor pointing to.\n",
    "\n",
    "A large pane on the left, *Editor* is for writing code.\n",
    "\n",
    "On the right bottom, *Console* evaluates the code written in the *Editor*.\n",
    "\n",
    "On the right top, *Variable Explorer* shows defined variables, their type, size, and value. \n"
   ]
  },
  {
   "cell_type": "markdown",
   "id": "36d19607",
   "metadata": {
    "slideshow": {
     "slide_type": "slide"
    }
   },
   "source": [
    "Let's look at one of the functions we defined earlier in the module, adding *if, else* statements."
   ]
  },
  {
   "cell_type": "code",
   "execution_count": 2,
   "id": "355074d4",
   "metadata": {
    "slideshow": {
     "slide_type": "fragment"
    }
   },
   "outputs": [],
   "source": [
    "def boiling_temp(x: float):\n",
    "    \"\"\"Print 'Boiling!' if x is greater than or equal to 100 degree Celsius.\n",
    "    Otherwise print 'Not boiling yet.'\n",
    "    boiling_temp(150)\n",
    "    Boiling!\n",
    "    boiling_temp(30)\n",
    "    Not boiling yet. \"\"\"\n",
    "    if x >= 100:\n",
    "        print(\"Boiling!\")\n",
    "    else:\n",
    "        print('Not boiling yet.')"
   ]
  },
  {
   "cell_type": "markdown",
   "id": "06a7ff97",
   "metadata": {
    "slideshow": {
     "slide_type": "slide"
    }
   },
   "source": [
    "1. Open a new file in Spyder -- New File icon in the toolbar.\n",
    "\n",
    "2. You may save the file as *boiling_temp*.\n",
    "\n",
    "3. Type or copy/paste the `boiling_temp` function in the file.\n",
    "\n",
    "4. Run the file (Run icon in the toolbar or F5).\n",
    "\n",
    "5. Nothing seem to be happening, right? Except *Console* shows the file's path.\n",
    "\n",
    "6. We can call the function either in the *Editor* or *Console*. Try both to see the difference.\n",
    "\n",
    "7. Start typing `boiling_temp` in the *Editor* and Spyder shows a list of available options.\n",
    "\n",
    "8. Double click on the *function* option and insert a value in brackets.\n",
    "\n",
    "9. Run the current cell.\n",
    "\n",
    "10. The function gets evaluated in the *Console*.\n",
    "\n",
    "11. Type `boiling_temp(` in the *Console* and Spyder hints the function with its documentation. Pretty convenient, right!?\n",
    "\n"
   ]
  },
  {
   "cell_type": "markdown",
   "id": "88b49d3e",
   "metadata": {
    "slideshow": {
     "slide_type": "slide"
    }
   },
   "source": [
    "## PRACTICE IN YOUR Spyder"
   ]
  },
  {
   "cell_type": "markdown",
   "id": "c9a1b74b",
   "metadata": {
    "slideshow": {
     "slide_type": "slide"
    }
   },
   "source": [
    "Design a function and try its workings in Spyder."
   ]
  },
  {
   "cell_type": "markdown",
   "id": "a6bfb8b8",
   "metadata": {
    "slideshow": {
     "slide_type": "slide"
    }
   },
   "source": [
    "# Visual Studio Code"
   ]
  },
  {
   "cell_type": "markdown",
   "id": "16a56e75",
   "metadata": {
    "slideshow": {
     "slide_type": "slide"
    }
   },
   "source": [
    "*Visual Studio Code* is another code editor. VSCode supports Python and other languages such as JavaScript, JSON, HTML, C++, and Julia. "
   ]
  },
  {
   "cell_type": "markdown",
   "id": "845f31a2",
   "metadata": {
    "slideshow": {
     "slide_type": "slide"
    }
   },
   "source": [
    "Go to https://code.visualstudio.com/docs and install VSCode for your OS.\n",
    "\n",
    "Go through a quick initial setup.\n",
    "\n",
    "To work in Python, we need to install additional extensions.\n",
    "\n",
    "Go to File -> Open and open any Jupyter Notebook.\n",
    "\n",
    "VSCode will prompt you to install *Jupyter Notebook* and *Python* extensions.\n",
    "\n",
    "Now you are ready to work in VSCode."
   ]
  },
  {
   "cell_type": "markdown",
   "id": "74ac85e7",
   "metadata": {
    "slideshow": {
     "slide_type": "slide"
    }
   },
   "source": [
    "Similar to Spyder, VSCode provides us with hints and autocompletion. However, VSCode might get a little overwhelming for a beginner programmer. This code editor definitely comes in handy to program in various languages."
   ]
  },
  {
   "cell_type": "markdown",
   "id": "fd943dd3",
   "metadata": {
    "slideshow": {
     "slide_type": "slide"
    }
   },
   "source": [
    "## Optional exercise:\n",
    "Go to https://code.visualstudio.com/docs/python/python-tutorial and go through the tutorial."
   ]
  },
  {
   "cell_type": "markdown",
   "id": "0743bfd4",
   "metadata": {
    "slideshow": {
     "slide_type": "slide"
    }
   },
   "source": [
    "# Virtual Environment"
   ]
  },
  {
   "cell_type": "markdown",
   "id": "8e51d3b1",
   "metadata": {
    "slideshow": {
     "slide_type": "slide"
    }
   },
   "source": [
    "In our coding journey we will soon discover that __installing various Python packages on your machine__ might not be the best choice. Applications/projects that need need to simultaneously might require __different versions__ of the same packages (or modules) to work properly. However, the versions of the packages are installed __under the same name__. In other words, version name (v1.0.0 or v2.3.0) is not part of the packages' path, and our projects/applications are not able to differentiate between the versions, potentially using a wrong package version.\n",
    "\n",
    "### How can we work around this?"
   ]
  },
  {
   "cell_type": "markdown",
   "id": "f37efb51",
   "metadata": {
    "slideshow": {
     "slide_type": "slide"
    }
   },
   "source": [
    "### Create and start working with a virtual environment"
   ]
  },
  {
   "cell_type": "markdown",
   "id": "c5b72dc7",
   "metadata": {
    "slideshow": {
     "slide_type": "slide"
    }
   },
   "source": [
    "- Open terminal/shell.\n",
    "- Make a new directory to work with: type `mkdir python-virtual-environments && cd python-virtual-environments` and execute.\n",
    "- Now in the terminal we see `python-virtual-environments` before our user name.\n",
    "- Create a new virtual environment inside the directory: type `python3 -m venv env` and execute.\n",
    "- Activate the virtual environment: type `source env/bin/activate` and execute.\n",
    "- After execution, we see `(env)` at the beginning of the line."
   ]
  },
  {
   "cell_type": "markdown",
   "id": "86e1da2a",
   "metadata": {
    "slideshow": {
     "slide_type": "slide"
    }
   },
   "source": [
    "To test the workings of our virtual environment we deactivate the virtual environment, install a new module, perform a command ensuring the command works in the global Python. Then activate the environment and try the very same command and witness that the module is not available in the environment.\n",
    "\n",
    "- Deactivate the virtual environment: type and execute `deactivate`.\n",
    "- To nstall `bcrypt` and use it to hash a password type and execute the following two commands separately: \n",
    "    - `pip -q install bcrypt`\n",
    "    - `python -c \"import bcrypt; print(bcrypt.hashpw('password'.encode('utf-8'), bcrypt.gensalt()))\"`\n",
    "- Activate the environment: `source env/bin/activate`.\n",
    "- Try using the password hashing command: `python -c \"import bcrypt; print(bcrypt.hashpw('password'.encode('utf-8'), bcrypt.gensalt()))\"`\n",
    "- The shell tells us that there is no 'bcrypt' module available. This proves that the virtual environment works!"
   ]
  },
  {
   "cell_type": "markdown",
   "id": "beb12896",
   "metadata": {
    "slideshow": {
     "slide_type": "slide"
    }
   },
   "source": [
    "### Managing virtual environments"
   ]
  },
  {
   "cell_type": "markdown",
   "id": "e9a228e7",
   "metadata": {
    "slideshow": {
     "slide_type": "slide"
    }
   },
   "source": [
    "In your shell: \n",
    "\n",
    "Install a tool to manage virtual environments - `pip install virtualenvwrapper`.\n",
    "\n",
    "Check its path - `which virtualenvwrapper.sh`.\n",
    "\n",
    "Activate it with the following three lines of code:\n"
   ]
  },
  {
   "cell_type": "code",
   "execution_count": null,
   "id": "fe59e314",
   "metadata": {
    "slideshow": {
     "slide_type": "fragment"
    }
   },
   "outputs": [],
   "source": [
    "export WORKON_HOME=$HOME/.virtualenvs\n",
    "export PROJECT_HOME=$HOME/projects\n",
    "source __wrapper's path__"
   ]
  },
  {
   "cell_type": "markdown",
   "id": "94feebba",
   "metadata": {
    "slideshow": {
     "slide_type": "slide"
    }
   },
   "source": [
    "Now there should be a directory to store all our virtual environments: `echo $WORKON_HOME`"
   ]
  },
  {
   "cell_type": "markdown",
   "id": "d94b0f41",
   "metadata": {
    "slideshow": {
     "slide_type": "slide"
    }
   },
   "source": [
    "Every time we start a new project, run: `mkvirtualenv my-new-project`"
   ]
  },
  {
   "cell_type": "markdown",
   "id": "4daaef19",
   "metadata": {
    "slideshow": {
     "slide_type": "fragment"
    }
   },
   "source": [
    "We see (my-new-project) at the beginning of the line in the shell."
   ]
  },
  {
   "cell_type": "markdown",
   "id": "051cbfae",
   "metadata": {
    "slideshow": {
     "slide_type": "slide"
    }
   },
   "source": [
    "To deactivate: `deactivate`\n",
    "\n",
    "To list all available projects: `workon`\n",
    "\n",
    "To activate a project: `workon project-name`"
   ]
  },
  {
   "cell_type": "markdown",
   "id": "10b3319a",
   "metadata": {},
   "source": [
    "# Requirements.txt"
   ]
  },
  {
   "cell_type": "markdown",
   "id": "c51d4624",
   "metadata": {
    "slideshow": {
     "slide_type": "slide"
    }
   },
   "source": [
    "*requirements* file is a file containing all required packages for a specific project. Maintaining such file is another way of handling project dependencies and be able to run the project on a different machine or in another virtual environment."
   ]
  },
  {
   "cell_type": "markdown",
   "id": "42a60569",
   "metadata": {
    "slideshow": {
     "slide_type": "slide"
    }
   },
   "source": [
    "We can list the projects' packages by `pip freeze`.\n",
    "\n",
    "To store the project's packages, run: `pip freeze > requirements.txt`.\n",
    "\n",
    "Now, we are able to reproduce the project on another machine by running the following command on it: `pip install -r requirements.txt`.\n",
    "\n",
    "In case you need to upgrade the packages, run: `pip install --upgrade -r requirements.txt`."
   ]
  },
  {
   "cell_type": "markdown",
   "id": "734a2d24",
   "metadata": {
    "slideshow": {
     "slide_type": "slide"
    }
   },
   "source": [
    "# References\n",
    "\n",
    "- Brett Cannon, 2020, *A quick-and-dirty guide on how to install packages for Python*. https://snarky.ca/a-quick-and-dirty-guide-on-how-to-install-packages-for-python/\n",
    "- Google Colab. https://colab.research.google.com\n",
    "- Hannan Satopay, 2019, *The Ultimate Markdown Guide (for Jupyter Notebook)*. https://medium.com/analytics-vidhya/the-ultimate-markdown-guide-for-jupyter-notebook-d5e5abf728fd\n",
    "- Mike Driscoll, *Creating Presentations with Jupyter Notebook*. https://www.blog.pythonlibrary.org/2018/09/25/creating-presentations-with-jupyter-notebook/\n",
    "- Mark Roepke, 2019, *Tips for Creating Slideshows in Jupyter*\n",
    " https://www.markroepke.me/posts/2019/06/05/tips-for-slideshows-in-jupyter.html\n",
    "- Real Python, 2016, *Python Virtual Environments: A Primer*. https://realpython.com/python-virtual-environments-a-primer/\n",
    "- Spyder. https://www.spyder-ide.org\n",
    "- Virtual Environment. https://docs.python.org/3/tutorial/venv.html\n",
    "- Virtualenvwrapper. https://virtualenvwrapper.readthedocs.io/en/latest/install.html\n",
    "- Visual Studio Code. https://code.visualstudio.com/learn/get-started/basics"
   ]
  }
 ],
 "metadata": {
  "celltoolbar": "Slideshow",
  "kernelspec": {
   "display_name": "Python 3 (ipykernel)",
   "language": "python",
   "name": "python3"
  },
  "language_info": {
   "codemirror_mode": {
    "name": "ipython",
    "version": 3
   },
   "file_extension": ".py",
   "mimetype": "text/x-python",
   "name": "python",
   "nbconvert_exporter": "python",
   "pygments_lexer": "ipython3",
   "version": "3.9.7"
  }
 },
 "nbformat": 4,
 "nbformat_minor": 5
}
