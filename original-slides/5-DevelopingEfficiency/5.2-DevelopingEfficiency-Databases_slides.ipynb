{
 "cells": [
  {
   "cell_type": "markdown",
   "id": "ccb6ef8e",
   "metadata": {
    "slideshow": {
     "slide_type": "slide"
    }
   },
   "source": [
    "## Module 4: Python\n",
    "\n",
    "\n",
    "# Developing Efficiency\n",
    "## DATABASES\n",
    "<br>\n",
    "\n",
    "Asel Kushkeyeva<br>\n",
    "Data Science Institute, University of Toronto<br>\n",
    "2022"
   ]
  },
  {
   "cell_type": "markdown",
   "id": "9bf29106",
   "metadata": {
    "slideshow": {
     "slide_type": "slide"
    }
   },
   "source": [
    "### Jupyter Notebook as a Slideshow\n",
    "\n",
    "To see this notebook as a live slideshow, we need to install RISE (Reveal.js - Jupyter/IPython Slideshow Extension):\n",
    "\n",
    "1. Insert a cell and execute the following code: `conda install -c conda-forge rise`\n",
    "2. Restart the Jupyter Notebook.\n",
    "3. On the top of your notebook you have a new icon that looks like a bar chart; hover over the icon to see 'Enter/Exit RISE Slideshow'.\n",
    "4. Click on the RISE icon and enjoy the slideshow.\n",
    "5. You can edit the notebook in a slideshow mode by double clicking the line.\n",
    "*This is done only once. Now all your notebooks will have the RISE extension (unless you re-install the Jupyter Notebook).*"
   ]
  },
  {
   "cell_type": "markdown",
   "id": "36354241",
   "metadata": {
    "slideshow": {
     "slide_type": "slide"
    }
   },
   "source": [
    "# Agenda\n",
    "\n",
    "1. Creating Databases\n",
    "2. Updating and Deleting Databases\n",
    "3. Joins to Combine Tables"
   ]
  },
  {
   "cell_type": "markdown",
   "id": "1274c8ac",
   "metadata": {
    "slideshow": {
     "slide_type": "slide"
    }
   },
   "source": [
    "# Databases"
   ]
  },
  {
   "cell_type": "markdown",
   "id": "dca346a4",
   "metadata": {
    "slideshow": {
     "slide_type": "slide"
    }
   },
   "source": [
    "As we have learned in the Data Storage and Access module, SQL is the language to manipulate relational databases.\n",
    "\n",
    "Today we will learn how Python works with SQL by closely following __Chapter 17. Databases__ of the key text *Practical Programming: An Introduction to Computer Science Using Python 3.6* "
   ]
  },
  {
   "cell_type": "code",
   "execution_count": 2,
   "id": "2bd0d37c",
   "metadata": {
    "slideshow": {
     "slide_type": "slide"
    }
   },
   "outputs": [],
   "source": [
    "import sqlite3 # an SQL package"
   ]
  },
  {
   "cell_type": "code",
   "execution_count": 38,
   "id": "7b20974b",
   "metadata": {
    "slideshow": {
     "slide_type": "slide"
    }
   },
   "outputs": [],
   "source": [
    "# establish a conncetion with a database and get a cursor:\n",
    "con = sqlite3.connect('population_1.db')\n",
    "cur = con.cursor()"
   ]
  },
  {
   "cell_type": "code",
   "execution_count": 39,
   "id": "763fd05b",
   "metadata": {
    "slideshow": {
     "slide_type": "slide"
    }
   },
   "outputs": [
    {
     "data": {
      "text/plain": [
       "<sqlite3.Cursor at 0x7fe043935b90>"
      ]
     },
     "execution_count": 39,
     "metadata": {},
     "output_type": "execute_result"
    }
   ],
   "source": [
    "# SQL statement is to be put in a string\n",
    "cur.execute('CREATE TABLE PopByRegion_1(Region TEXT, Population INTEGER)')"
   ]
  },
  {
   "cell_type": "code",
   "execution_count": 41,
   "id": "ef92b0b2",
   "metadata": {
    "slideshow": {
     "slide_type": "slide"
    }
   },
   "outputs": [
    {
     "data": {
      "text/plain": [
       "<sqlite3.Cursor at 0x7fe043935b90>"
      ]
     },
     "execution_count": 41,
     "metadata": {},
     "output_type": "execute_result"
    }
   ],
   "source": [
    "# Insert data in the PopByRegion table\n",
    "cur.execute('INSERT INTO PopByRegion_1 VALUES(\"Central Africa\", 330993)')\n",
    "cur.execute('INSERT INTO PopByRegion_1 VALUES(\"Southeastern Africa\", 743112)')"
   ]
  },
  {
   "cell_type": "code",
   "execution_count": 43,
   "id": "9f94c6cc",
   "metadata": {
    "slideshow": {
     "slide_type": "fragment"
    }
   },
   "outputs": [
    {
     "data": {
      "text/plain": [
       "<sqlite3.Cursor at 0x7fe043935b90>"
      ]
     },
     "execution_count": 43,
     "metadata": {},
     "output_type": "execute_result"
    }
   ],
   "source": [
    "# insert the rest of the data\n",
    "cur.execute('''INSERT INTO PopByRegion_1 VALUES \n",
    "('Southern Asia', 2051941), \n",
    "('Northern Africa', 1037463),\n",
    "('Asia Pacific', 785468),\n",
    "('Middle East', 687630),\n",
    "('Eastern Asia', 1362955), \n",
    "('South America', 593121), \n",
    "('Eastern Europe', 223427), \n",
    "('North America', 661157), \n",
    "('Western Europe', 387933)\n",
    "''')\n",
    "\n",
    "# another way of inserting data:\n",
    "cur.execute('INSERT INTO PopByRegion_1 VALUES (?, ?)', (\"Japan\", 100562))"
   ]
  },
  {
   "cell_type": "code",
   "execution_count": 44,
   "id": "8d5afb97",
   "metadata": {
    "slideshow": {
     "slide_type": "slide"
    }
   },
   "outputs": [],
   "source": [
    "# save the changes\n",
    "con.commit()"
   ]
  },
  {
   "cell_type": "code",
   "execution_count": 45,
   "id": "7cd91870",
   "metadata": {
    "slideshow": {
     "slide_type": "fragment"
    }
   },
   "outputs": [],
   "source": [
    "# close connection\n",
    "con.close()"
   ]
  },
  {
   "cell_type": "markdown",
   "id": "6b359ab3",
   "metadata": {
    "slideshow": {
     "slide_type": "slide"
    }
   },
   "source": [
    "After closing the connection to work in the database again, we need to establish the connection and get the cursor. Similarly, we need to run the `connect()` and `cursor()` after restarting the notebook."
   ]
  },
  {
   "cell_type": "code",
   "execution_count": 3,
   "id": "80f87e54",
   "metadata": {
    "slideshow": {
     "slide_type": "fragment"
    }
   },
   "outputs": [],
   "source": [
    "# establish a conncetion with a database and get a cursor:\n",
    "con = sqlite3.connect('population_1.db')\n",
    "cur = con.cursor()"
   ]
  },
  {
   "cell_type": "code",
   "execution_count": 51,
   "id": "8d91737d",
   "metadata": {
    "slideshow": {
     "slide_type": "slide"
    }
   },
   "outputs": [
    {
     "data": {
      "text/plain": [
       "<sqlite3.Cursor at 0x7fe043935a40>"
      ]
     },
     "execution_count": 51,
     "metadata": {},
     "output_type": "execute_result"
    }
   ],
   "source": [
    "# run a query\n",
    "cur.execute('SELECT Region, Population FROM PopByRegion_1')"
   ]
  },
  {
   "cell_type": "code",
   "execution_count": 52,
   "id": "3cc85162",
   "metadata": {
    "slideshow": {
     "slide_type": "fragment"
    }
   },
   "outputs": [
    {
     "data": {
      "text/plain": [
       "('Central Africa', 330993)"
      ]
     },
     "execution_count": 52,
     "metadata": {},
     "output_type": "execute_result"
    }
   ],
   "source": [
    "# after running a query, return one record\n",
    "cur.fetchone()"
   ]
  },
  {
   "cell_type": "code",
   "execution_count": 54,
   "id": "50c91760",
   "metadata": {
    "slideshow": {
     "slide_type": "fragment"
    }
   },
   "outputs": [
    {
     "data": {
      "text/plain": [
       "[]"
      ]
     },
     "execution_count": 54,
     "metadata": {},
     "output_type": "execute_result"
    }
   ],
   "source": [
    "# return all leftover records\n",
    "cur.fetchall()"
   ]
  },
  {
   "cell_type": "markdown",
   "id": "4ebf0c8f",
   "metadata": {
    "slideshow": {
     "slide_type": "slide"
    }
   },
   "source": [
    "Once all the records are retrieved the following commands do not produce any output."
   ]
  },
  {
   "cell_type": "code",
   "execution_count": 55,
   "id": "a546ca38",
   "metadata": {
    "slideshow": {
     "slide_type": "fragment"
    }
   },
   "outputs": [],
   "source": [
    "cur.fetchone()"
   ]
  },
  {
   "cell_type": "code",
   "execution_count": 56,
   "id": "051564d6",
   "metadata": {
    "slideshow": {
     "slide_type": "fragment"
    }
   },
   "outputs": [
    {
     "data": {
      "text/plain": [
       "[]"
      ]
     },
     "execution_count": 56,
     "metadata": {},
     "output_type": "execute_result"
    }
   ],
   "source": [
    "cur.fetchall()"
   ]
  },
  {
   "cell_type": "markdown",
   "id": "e496b903",
   "metadata": {
    "slideshow": {
     "slide_type": "slide"
    }
   },
   "source": [
    "Ordering the records:"
   ]
  },
  {
   "cell_type": "code",
   "execution_count": 58,
   "id": "3024d1ce",
   "metadata": {
    "slideshow": {
     "slide_type": "fragment"
    }
   },
   "outputs": [
    {
     "data": {
      "text/plain": [
       "<sqlite3.Cursor at 0x7fe043935a40>"
      ]
     },
     "execution_count": 58,
     "metadata": {},
     "output_type": "execute_result"
    }
   ],
   "source": [
    "cur.execute('SELECT Region, Population FROM PopByRegion_1 ORDER BY Region')"
   ]
  },
  {
   "cell_type": "code",
   "execution_count": 59,
   "id": "868be5f3",
   "metadata": {
    "slideshow": {
     "slide_type": "fragment"
    }
   },
   "outputs": [
    {
     "data": {
      "text/plain": [
       "[('Asia Pacific', 785468),\n",
       " ('Central Africa', 330993),\n",
       " ('Eastern Asia', 1362955),\n",
       " ('Eastern Europe', 223427),\n",
       " ('Japan', 100562),\n",
       " ('Middle East', 687630),\n",
       " ('North America', 661157),\n",
       " ('Northern Africa', 1037463),\n",
       " ('South America', 593121),\n",
       " ('Southeastern Africa', 743112),\n",
       " ('Southern Asia', 2051941),\n",
       " ('Western Europe', 387933)]"
      ]
     },
     "execution_count": 59,
     "metadata": {},
     "output_type": "execute_result"
    }
   ],
   "source": [
    "cur.fetchall()"
   ]
  },
  {
   "cell_type": "markdown",
   "id": "d69c5799",
   "metadata": {
    "slideshow": {
     "slide_type": "slide"
    }
   },
   "source": [
    "Query conditions:"
   ]
  },
  {
   "cell_type": "code",
   "execution_count": 61,
   "id": "3167b1dd",
   "metadata": {
    "slideshow": {
     "slide_type": "fragment"
    }
   },
   "outputs": [
    {
     "data": {
      "text/plain": [
       "<sqlite3.Cursor at 0x7fe043935a40>"
      ]
     },
     "execution_count": 61,
     "metadata": {},
     "output_type": "execute_result"
    }
   ],
   "source": [
    "cur.execute('SELECT Region FROM PopByRegion_1 WHERE Population > 1000000')"
   ]
  },
  {
   "cell_type": "code",
   "execution_count": 62,
   "id": "a4f849fd",
   "metadata": {
    "slideshow": {
     "slide_type": "fragment"
    }
   },
   "outputs": [
    {
     "data": {
      "text/plain": [
       "[('Southern Asia',), ('Northern Africa',), ('Eastern Asia',)]"
      ]
     },
     "execution_count": 62,
     "metadata": {},
     "output_type": "execute_result"
    }
   ],
   "source": [
    "cur.fetchall()"
   ]
  },
  {
   "cell_type": "code",
   "execution_count": 64,
   "id": "8ac6fa0e",
   "metadata": {
    "slideshow": {
     "slide_type": "slide"
    }
   },
   "outputs": [
    {
     "data": {
      "text/plain": [
       "<sqlite3.Cursor at 0x7fe043935a40>"
      ]
     },
     "execution_count": 64,
     "metadata": {},
     "output_type": "execute_result"
    }
   ],
   "source": [
    "cur.execute('''SELECT Region FROM PopByRegion_1\n",
    "WHERE Population > 1000000 AND Region < \"L\"''')"
   ]
  },
  {
   "cell_type": "code",
   "execution_count": 65,
   "id": "b67534b7",
   "metadata": {
    "slideshow": {
     "slide_type": "fragment"
    }
   },
   "outputs": [
    {
     "data": {
      "text/plain": [
       "[('Eastern Asia',)]"
      ]
     },
     "execution_count": 65,
     "metadata": {},
     "output_type": "execute_result"
    }
   ],
   "source": [
    "cur.fetchall()"
   ]
  },
  {
   "cell_type": "markdown",
   "id": "c168a240",
   "metadata": {
    "slideshow": {
     "slide_type": "slide"
    }
   },
   "source": [
    "## Updating and Deleting"
   ]
  },
  {
   "cell_type": "code",
   "execution_count": 21,
   "id": "f378e634",
   "metadata": {
    "slideshow": {
     "slide_type": "slide"
    }
   },
   "outputs": [
    {
     "data": {
      "text/plain": [
       "<sqlite3.Cursor at 0x7feb3a6d8d50>"
      ]
     },
     "execution_count": 21,
     "metadata": {},
     "output_type": "execute_result"
    }
   ],
   "source": [
    "cur.execute('SELECT * FROM PopByRegion_1 WHERE Region = \"Japan\"')"
   ]
  },
  {
   "cell_type": "code",
   "execution_count": 22,
   "id": "745be471",
   "metadata": {
    "slideshow": {
     "slide_type": "fragment"
    }
   },
   "outputs": [
    {
     "data": {
      "text/plain": [
       "[('Japan', 100562)]"
      ]
     },
     "execution_count": 22,
     "metadata": {},
     "output_type": "execute_result"
    }
   ],
   "source": [
    "cur.fetchall()"
   ]
  },
  {
   "cell_type": "code",
   "execution_count": 24,
   "id": "2c0f4ace",
   "metadata": {
    "slideshow": {
     "slide_type": "slide"
    }
   },
   "outputs": [
    {
     "data": {
      "text/plain": [
       "<sqlite3.Cursor at 0x7feb3a6d8d50>"
      ]
     },
     "execution_count": 24,
     "metadata": {},
     "output_type": "execute_result"
    }
   ],
   "source": [
    "# change Japan's population value:\n",
    "cur.execute('''\n",
    "UPDATE PopByRegion_1 \n",
    "SET Population = 100600\n",
    "WHERE Region = \"Japan\"''')"
   ]
  },
  {
   "cell_type": "code",
   "execution_count": 25,
   "id": "51d5b588",
   "metadata": {
    "slideshow": {
     "slide_type": "fragment"
    }
   },
   "outputs": [
    {
     "data": {
      "text/plain": [
       "[('Japan', 100600)]"
      ]
     },
     "execution_count": 25,
     "metadata": {},
     "output_type": "execute_result"
    }
   ],
   "source": [
    "# check if the update took place\n",
    "cur.execute('SELECT * FROM PopByRegion_1 WHERE Region = \"Japan\"')\n",
    "cur.fetchall()"
   ]
  },
  {
   "cell_type": "markdown",
   "id": "cd0e5e4a",
   "metadata": {
    "slideshow": {
     "slide_type": "slide"
    }
   },
   "source": [
    "A command to delete a table is as follows:\n",
    "\n",
    "DROP TABLE table_name"
   ]
  },
  {
   "cell_type": "code",
   "execution_count": 26,
   "id": "0c30a84a",
   "metadata": {
    "slideshow": {
     "slide_type": "slide"
    }
   },
   "outputs": [
    {
     "data": {
      "text/plain": [
       "<sqlite3.Cursor at 0x7feb3a6d8d50>"
      ]
     },
     "execution_count": 26,
     "metadata": {},
     "output_type": "execute_result"
    }
   ],
   "source": [
    "# to delete individual records:\n",
    "cur.execute('DELETE FROM PopByRegion_1 WHERE Region < \"L\"')"
   ]
  },
  {
   "cell_type": "code",
   "execution_count": 28,
   "id": "84b8a51d",
   "metadata": {
    "slideshow": {
     "slide_type": "fragment"
    }
   },
   "outputs": [
    {
     "data": {
      "text/plain": [
       "[('Southeastern Africa', 743112),\n",
       " ('Southern Asia', 2051941),\n",
       " ('Northern Africa', 1037463),\n",
       " ('Middle East', 687630),\n",
       " ('South America', 593121),\n",
       " ('North America', 661157),\n",
       " ('Western Europe', 387933)]"
      ]
     },
     "execution_count": 28,
     "metadata": {},
     "output_type": "execute_result"
    }
   ],
   "source": [
    "# see the changes\n",
    "cur.execute('SELECT * FROM PopByRegion_1')\n",
    "cur.fetchall()"
   ]
  },
  {
   "cell_type": "code",
   "execution_count": 30,
   "id": "7ea9971a",
   "metadata": {
    "slideshow": {
     "slide_type": "slide"
    }
   },
   "outputs": [
    {
     "data": {
      "text/plain": [
       "<sqlite3.Cursor at 0x7feb3a6d8d50>"
      ]
     },
     "execution_count": 30,
     "metadata": {},
     "output_type": "execute_result"
    }
   ],
   "source": [
    "# let us put the deleted record back in the table\n",
    "cur.execute('INSERT INTO PopByRegion_1 VALUES (\"Japan\", 100562)')"
   ]
  },
  {
   "cell_type": "markdown",
   "id": "f0d48159",
   "metadata": {
    "slideshow": {
     "slide_type": "slide"
    }
   },
   "source": [
    "## Joins to Combine Tables"
   ]
  },
  {
   "cell_type": "code",
   "execution_count": 4,
   "id": "88f49dfb",
   "metadata": {
    "slideshow": {
     "slide_type": "slide"
    }
   },
   "outputs": [
    {
     "data": {
      "text/plain": [
       "<sqlite3.Cursor at 0x7feb3a6d8d50>"
      ]
     },
     "execution_count": 4,
     "metadata": {},
     "output_type": "execute_result"
    }
   ],
   "source": [
    "# create another table:\n",
    "cur.execute('''CREATE TABLE PopByCountry(Region TEXT, Country TEXT, Population INTEGER)''')"
   ]
  },
  {
   "cell_type": "code",
   "execution_count": 5,
   "id": "b3dd4016",
   "metadata": {
    "slideshow": {
     "slide_type": "slide"
    }
   },
   "outputs": [
    {
     "data": {
      "text/plain": [
       "<sqlite3.Cursor at 0x7feb3a6d8d50>"
      ]
     },
     "execution_count": 5,
     "metadata": {},
     "output_type": "execute_result"
    }
   ],
   "source": [
    "# insert data:\n",
    "cur.execute('''INSERT INTO PopByCountry VALUES(\"Eastern Asia\", \"China\",\n",
    "1285238)''')"
   ]
  },
  {
   "cell_type": "code",
   "execution_count": 6,
   "id": "8e828fa0",
   "metadata": {
    "slideshow": {
     "slide_type": "slide"
    }
   },
   "outputs": [],
   "source": [
    "# more efficient insertion:\n",
    "countries = [(\"Eastern Asia\", \"DPR Korea\", 24056), \n",
    "             (\"Eastern Asia\", \"Hong Kong (China)\", 8764), \n",
    "             (\"Eastern Asia\", \"Mongolia\", 3407), \n",
    "             (\"Eastern Asia\", \"Republic of Korea\", 41491), \n",
    "             (\"Eastern Asia\", \"Taiwan\", 1433),\n",
    "             (\"North America\", \"Bahamas\", 368), \n",
    "             (\"North America\", \"Canada\", 40876),\n",
    "             (\"North America\", \"Greenland\", 43), \n",
    "             (\"North America\", \"Mexico\", 126875),\n",
    "             (\"North America\", \"United States\", 493038)]"
   ]
  },
  {
   "cell_type": "code",
   "execution_count": 7,
   "id": "16dbd573",
   "metadata": {
    "slideshow": {
     "slide_type": "fragment"
    }
   },
   "outputs": [],
   "source": [
    "for c in countries:\n",
    "    cur.execute('INSERT INTO PopByCountry VALUES (?, ?, ?)', (c[0], c[1], c[2]))"
   ]
  },
  {
   "cell_type": "code",
   "execution_count": 8,
   "id": "e6b83f33",
   "metadata": {
    "slideshow": {
     "slide_type": "fragment"
    }
   },
   "outputs": [],
   "source": [
    "con.commit()"
   ]
  },
  {
   "cell_type": "code",
   "execution_count": 9,
   "id": "d57c33db",
   "metadata": {
    "slideshow": {
     "slide_type": "slide"
    }
   },
   "outputs": [
    {
     "data": {
      "text/plain": [
       "<sqlite3.Cursor at 0x7feb3a6d8d50>"
      ]
     },
     "execution_count": 9,
     "metadata": {},
     "output_type": "execute_result"
    }
   ],
   "source": [
    "# join the tables:\n",
    "cur.execute(''' \n",
    "SELECT PopByRegion_1.Region, PopByCountry.Country\n",
    "FROM PopByRegion_1\n",
    "INNER JOIN PopByCountry\n",
    "WHERE (PopByRegion_1.Region = PopByCountry.Region)\n",
    "AND (PopByRegion_1.Population > 1000000)\n",
    "''')"
   ]
  },
  {
   "cell_type": "code",
   "execution_count": 10,
   "id": "2be0d72f",
   "metadata": {
    "slideshow": {
     "slide_type": "slide"
    }
   },
   "outputs": [
    {
     "data": {
      "text/plain": [
       "[('Eastern Asia', 'China'),\n",
       " ('Eastern Asia', 'DPR Korea'),\n",
       " ('Eastern Asia', 'Hong Kong (China)'),\n",
       " ('Eastern Asia', 'Mongolia'),\n",
       " ('Eastern Asia', 'Republic of Korea'),\n",
       " ('Eastern Asia', 'Taiwan')]"
      ]
     },
     "execution_count": 10,
     "metadata": {},
     "output_type": "execute_result"
    }
   ],
   "source": [
    "cur.fetchall()"
   ]
  },
  {
   "cell_type": "code",
   "execution_count": 11,
   "id": "ea3fb7ce",
   "metadata": {
    "slideshow": {
     "slide_type": "slide"
    }
   },
   "outputs": [
    {
     "data": {
      "text/plain": [
       "<sqlite3.Cursor at 0x7feb3a6d8d50>"
      ]
     },
     "execution_count": 11,
     "metadata": {},
     "output_type": "execute_result"
    }
   ],
   "source": [
    "# to find the regions where one country accounts for more than 10 percent of the region’s overall population\n",
    "cur.execute('''\n",
    "SELECT PopByCountry.Region\n",
    "FROM PopByCountry\n",
    "INNER JOIN PopByRegion_1\n",
    "WHERE (PopByCountry.Region = PopByRegion_1.Region)\n",
    "AND (PopByCountry.Population > PopByRegion_1.Population * 0.10)\n",
    "''')"
   ]
  },
  {
   "cell_type": "code",
   "execution_count": 12,
   "id": "7a604776",
   "metadata": {
    "slideshow": {
     "slide_type": "fragment"
    }
   },
   "outputs": [
    {
     "data": {
      "text/plain": [
       "[('Eastern Asia',), ('North America',), ('North America',)]"
      ]
     },
     "execution_count": 12,
     "metadata": {},
     "output_type": "execute_result"
    }
   ],
   "source": [
    "cur.fetchall()"
   ]
  },
  {
   "cell_type": "code",
   "execution_count": 13,
   "id": "56e752a4",
   "metadata": {
    "slideshow": {
     "slide_type": "slide"
    }
   },
   "outputs": [
    {
     "data": {
      "text/plain": [
       "<sqlite3.Cursor at 0x7feb3a6d8d50>"
      ]
     },
     "execution_count": 13,
     "metadata": {},
     "output_type": "execute_result"
    }
   ],
   "source": [
    "# to remove duplicates:\n",
    "cur.execute('''\n",
    "SELECT DISTINCT PopByCountry.Region\n",
    "FROM PopByCountry\n",
    "INNER JOIN PopByRegion_1\n",
    "WHERE (PopByCountry.Region = PopByRegion_1.Region)\n",
    "AND (PopByCountry.Population > PopByRegion_1.Population * 0.10)\n",
    "''')"
   ]
  },
  {
   "cell_type": "code",
   "execution_count": 14,
   "id": "74fd50fa",
   "metadata": {
    "slideshow": {
     "slide_type": "fragment"
    }
   },
   "outputs": [
    {
     "data": {
      "text/plain": [
       "[('Eastern Asia',), ('North America',)]"
      ]
     },
     "execution_count": 14,
     "metadata": {},
     "output_type": "execute_result"
    }
   ],
   "source": [
    "cur.fetchall()"
   ]
  },
  {
   "cell_type": "markdown",
   "id": "106d16e8",
   "metadata": {
    "slideshow": {
     "slide_type": "slide"
    }
   },
   "source": [
    "### Self Join"
   ]
  },
  {
   "cell_type": "markdown",
   "id": "9212d73a",
   "metadata": {
    "slideshow": {
     "slide_type": "slide"
    }
   },
   "source": [
    "To find pairs of countries in a table whose populations are close to each other — say, within 1,000 of each other."
   ]
  },
  {
   "cell_type": "code",
   "execution_count": 31,
   "id": "869c6456",
   "metadata": {
    "slideshow": {
     "slide_type": "fragment"
    }
   },
   "outputs": [
    {
     "data": {
      "text/plain": [
       "<sqlite3.Cursor at 0x7feb3a6d8d50>"
      ]
     },
     "execution_count": 31,
     "metadata": {},
     "output_type": "execute_result"
    }
   ],
   "source": [
    "cur.execute('''\n",
    "SELECT A.Country, B.Country\n",
    "FROM PopByCountry A\n",
    "INNER JOIN PopByCountry B\n",
    "WHERE (ABS(A.Population - B.Population) <= 1000)\n",
    "AND A.Country != B.Country''')"
   ]
  },
  {
   "cell_type": "code",
   "execution_count": 32,
   "id": "f3eb97ac",
   "metadata": {
    "slideshow": {
     "slide_type": "fragment"
    }
   },
   "outputs": [
    {
     "data": {
      "text/plain": [
       "[('Republic of Korea', 'Canada'),\n",
       " ('Bahamas', 'Greenland'),\n",
       " ('Canada', 'Republic of Korea'),\n",
       " ('Greenland', 'Bahamas')]"
      ]
     },
     "execution_count": 32,
     "metadata": {},
     "output_type": "execute_result"
    }
   ],
   "source": [
    "cur.fetchall()"
   ]
  },
  {
   "cell_type": "markdown",
   "id": "35afcb53",
   "metadata": {
    "slideshow": {
     "slide_type": "slide"
    }
   },
   "source": [
    "Keys and other constraints should be added at the time of table creation."
   ]
  },
  {
   "cell_type": "markdown",
   "id": "8d5d7fc6",
   "metadata": {
    "slideshow": {
     "slide_type": "slide"
    }
   },
   "source": [
    "__Agregate Functions:__\n",
    "\n",
    "SUM, AVG, MIN, MAX, COUNT"
   ]
  },
  {
   "cell_type": "code",
   "execution_count": 33,
   "id": "1992468e",
   "metadata": {
    "slideshow": {
     "slide_type": "slide"
    }
   },
   "outputs": [
    {
     "data": {
      "text/plain": [
       "<sqlite3.Cursor at 0x7feb3a6d8d50>"
      ]
     },
     "execution_count": 33,
     "metadata": {},
     "output_type": "execute_result"
    }
   ],
   "source": [
    "# grouping\n",
    "cur.execute('''SELECT Region, SUM (Population) FROM PopByCountry\n",
    "GROUP BY Region''')"
   ]
  },
  {
   "cell_type": "code",
   "execution_count": 34,
   "id": "429d98f6",
   "metadata": {
    "slideshow": {
     "slide_type": "fragment"
    }
   },
   "outputs": [
    {
     "data": {
      "text/plain": [
       "[('Eastern Asia', 1364389), ('North America', 661200)]"
      ]
     },
     "execution_count": 34,
     "metadata": {},
     "output_type": "execute_result"
    }
   ],
   "source": [
    "cur.fetchall()"
   ]
  },
  {
   "cell_type": "markdown",
   "id": "101ee65b",
   "metadata": {
    "slideshow": {
     "slide_type": "slide"
    }
   },
   "source": [
    "### Nested Queries"
   ]
  },
  {
   "cell_type": "markdown",
   "id": "0d8bf71a",
   "metadata": {
    "slideshow": {
     "slide_type": "slide"
    }
   },
   "source": [
    "To write a query on the PopByCountry table to get the regions that do not have a country with a population of 8,764,000."
   ]
  },
  {
   "cell_type": "code",
   "execution_count": 35,
   "id": "e330797c",
   "metadata": {
    "slideshow": {
     "slide_type": "fragment"
    }
   },
   "outputs": [
    {
     "data": {
      "text/plain": [
       "<sqlite3.Cursor at 0x7feb3a6d8d50>"
      ]
     },
     "execution_count": 35,
     "metadata": {},
     "output_type": "execute_result"
    }
   ],
   "source": [
    "cur.execute('''\n",
    "SELECT DISTINCT Region\n",
    "FROM PopByCountry\n",
    "WHERE Region NOT IN\n",
    "(SELECT DISTINCT Region\n",
    "FROM PopByCountry\n",
    "WHERE (PopByCountry.Population = 8764))\n",
    "''')"
   ]
  },
  {
   "cell_type": "code",
   "execution_count": 36,
   "id": "7ba63160",
   "metadata": {
    "slideshow": {
     "slide_type": "fragment"
    }
   },
   "outputs": [
    {
     "data": {
      "text/plain": [
       "[('North America',)]"
      ]
     },
     "execution_count": 36,
     "metadata": {},
     "output_type": "execute_result"
    }
   ],
   "source": [
    "cur.fetchall()"
   ]
  },
  {
   "cell_type": "markdown",
   "id": "8048e59a",
   "metadata": {
    "slideshow": {
     "slide_type": "slide"
    }
   },
   "source": [
    "## PRACTICE IN YOUR NOTEBOOK"
   ]
  },
  {
   "cell_type": "markdown",
   "id": "6ca163ed",
   "metadata": {
    "slideshow": {
     "slide_type": "slide"
    }
   },
   "source": [
    "__Exercise 1 on page 365 *Practical Programming: an Introduction to Computer Science using Python 3.6*__\n",
    "\n",
    "In this exercise, you will create a table to store the population and land area of the Canadian provinces and territories according to the 2001 census. Our data is taken from http://www12.statcan.ca/english/census01/home/index.cfm."
   ]
  },
  {
   "cell_type": "markdown",
   "id": "0edee397",
   "metadata": {
    "slideshow": {
     "slide_type": "slide"
    }
   },
   "source": [
    "Province/Territory | Population | Land Area\n",
    "-------------------|------------|--------\n",
    "Newfoundland and Labrador | 512930 | 370501.69\n",
    "Prince Edward Island | 135294 | 5684.39\n",
    "Nova Scotia | 908007 | 52917.43\n",
    "New Brunswick | 729498 | 71355.67\n",
    "Quebec | 7237479 | 1357743.08\n",
    "Ontario | 11410046 | 907655.59\n",
    "Manitoba | 1119583 | 551937.87\n",
    "Saskatchewan | 978933 | 586561.35\n",
    "Alberta | 2974807 | 639987.12\n",
    "British Columbia | 3907738 | 926492.48\n",
    "Yukon Territory | 28674 | 474706.97\n",
    "Northwest Territories | 37360 | 1141108.37\n",
    "Nunavut | 26745 | 1925460.18\n",
    "\n",
    "\n",
    "Write Python code that does the following:"
   ]
  },
  {
   "cell_type": "markdown",
   "id": "56b38c02",
   "metadata": {
    "slideshow": {
     "slide_type": "slide"
    }
   },
   "source": [
    "a. Creates a new database called census.db\n",
    "\n",
    "b. Makes a database table called Density that will hold the name of the province or territory (TEXT), the population (INTEGER), and the land area (REAL)\n",
    "\n",
    "c. Inserts the data from the table above\n",
    "\n",
    "e. Retrieves the populations\n",
    "\n",
    "f. Retrieves the provinces that have populations of less than one million\n",
    "\n",
    "g. Retrieves the provinces that have populations of less than one million or greater than five million\n",
    "\n",
    "h. Retrieves the provinces that do not have populations of less than one million or greater than five million\n",
    "\n",
    "i. Retrieves the populations of provinces that have a land area greater than 200,000 square kilometers\n",
    "\n",
    "j. Retrieves the provinces along with their population densities (population divided by land area)"
   ]
  },
  {
   "cell_type": "markdown",
   "id": "9c2f4b84",
   "metadata": {
    "slideshow": {
     "slide_type": "slide"
    }
   },
   "source": [
    "# References\n",
    "\n",
    "- Chapter 17, Gries, Campbell, and Montojo, 2017, *Practical Programming: An Introduction to Computer Science Using Python 3.6*"
   ]
  }
 ],
 "metadata": {
  "celltoolbar": "Slideshow",
  "kernelspec": {
   "display_name": "Python 3 (ipykernel)",
   "language": "python",
   "name": "python3"
  },
  "language_info": {
   "codemirror_mode": {
    "name": "ipython",
    "version": 3
   },
   "file_extension": ".py",
   "mimetype": "text/x-python",
   "name": "python",
   "nbconvert_exporter": "python",
   "pygments_lexer": "ipython3",
   "version": "3.9.7"
  }
 },
 "nbformat": 4,
 "nbformat_minor": 5
}
