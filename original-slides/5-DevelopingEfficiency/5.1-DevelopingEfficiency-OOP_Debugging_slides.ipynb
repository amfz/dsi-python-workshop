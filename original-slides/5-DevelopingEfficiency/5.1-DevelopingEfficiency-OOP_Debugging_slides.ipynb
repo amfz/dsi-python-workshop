{
 "cells": [
  {
   "cell_type": "markdown",
   "id": "d70b2eed",
   "metadata": {
    "slideshow": {
     "slide_type": "slide"
    }
   },
   "source": [
    "## Module 4: Python\n",
    "\n",
    "\n",
    "# Developing Efficiency\n",
    "## OBJECT-ORIENTED Programming, TESTING and DEBUGGING\n",
    "<br>\n",
    "\n",
    "Asel Kushkeyeva<br>\n",
    "Data Science Institute, University of Toronto<br>\n",
    "2022"
   ]
  },
  {
   "cell_type": "markdown",
   "id": "2a532807",
   "metadata": {
    "slideshow": {
     "slide_type": "slide"
    }
   },
   "source": [
    "### Jupyter Notebook as a Slideshow\n",
    "\n",
    "To see this notebook as a live slideshow, we need to install RISE (Reveal.js - Jupyter/IPython Slideshow Extension):\n",
    "\n",
    "1. Insert a cell and execute the following code: `conda install -c conda-forge rise`\n",
    "2. Restart the Jupyter Notebook.\n",
    "3. On the top of your notebook you have a new icon that looks like a bar chart; hover over the icon to see 'Enter/Exit RISE Slideshow'.\n",
    "4. Click on the RISE icon and enjoy the slideshow.\n",
    "5. You can edit the notebook in a slideshow mode by double clicking the line.\n",
    "*This is done only once. Now all your notebooks will have the RISE extension (unless you re-install the Jupyter Notebook).*"
   ]
  },
  {
   "cell_type": "markdown",
   "id": "b98a00ae",
   "metadata": {
    "slideshow": {
     "slide_type": "slide"
    }
   },
   "source": [
    "# Agenda\n",
    "\n",
    "1. Object-Oriented Programming:\n",
    "    - Basic Class\n",
    "    - Instance Method and Attributes\n",
    "    - Instance Types\n",
    "    - Class Methods and Members\n",
    "    - Inheritance\n",
    "    - 'Magic' Object Methods\n",
    "2. Testing and Debugging:\n",
    "    - doctest\n",
    "    - unittest"
   ]
  },
  {
   "cell_type": "markdown",
   "id": "10791819",
   "metadata": {
    "slideshow": {
     "slide_type": "slide"
    }
   },
   "source": [
    "# Object-Oriented Programming (OPP)"
   ]
  },
  {
   "cell_type": "markdown",
   "id": "a102d65f",
   "metadata": {
    "slideshow": {
     "slide_type": "slide"
    }
   },
   "source": [
    "- Implementing OPP in your work is completely optional.\n",
    "\n",
    "- More complex code requires creating objects and classes.\n",
    "\n",
    "- OPP organizes and structures code."
   ]
  },
  {
   "cell_type": "markdown",
   "id": "d8360a84",
   "metadata": {
    "slideshow": {
     "slide_type": "slide"
    }
   },
   "source": [
    "## Basic Class"
   ]
  },
  {
   "cell_type": "code",
   "execution_count": 1,
   "id": "934b0163",
   "metadata": {
    "slideshow": {
     "slide_type": "fragment"
    }
   },
   "outputs": [],
   "source": [
    "class Book:\n",
    "    def __init__(self, title):\n",
    "        self.title = title\n",
    "        \n",
    "# __init__ is an initializer function\n",
    "# title is an attribute"
   ]
  },
  {
   "cell_type": "markdown",
   "id": "f5ad4082",
   "metadata": {
    "slideshow": {
     "slide_type": "slide"
    }
   },
   "source": [
    "Create instance of a class:"
   ]
  },
  {
   "cell_type": "code",
   "execution_count": 9,
   "id": "eccfb3e5",
   "metadata": {
    "slideshow": {
     "slide_type": "fragment"
    }
   },
   "outputs": [],
   "source": [
    "b1 = Book('Practical Programming: An Introduction to Computer Science Using Python 3.6')\n",
    "b2 = Book('Building a Caree in Data Science')"
   ]
  },
  {
   "cell_type": "code",
   "execution_count": 10,
   "id": "7ae992bd",
   "metadata": {
    "slideshow": {
     "slide_type": "slide"
    }
   },
   "outputs": [
    {
     "data": {
      "text/plain": [
       "<__main__.Book at 0x7fb35dfd1d60>"
      ]
     },
     "execution_count": 10,
     "metadata": {},
     "output_type": "execute_result"
    }
   ],
   "source": [
    "b1"
   ]
  },
  {
   "cell_type": "code",
   "execution_count": 11,
   "id": "f98f63a5",
   "metadata": {
    "slideshow": {
     "slide_type": "fragment"
    }
   },
   "outputs": [
    {
     "data": {
      "text/plain": [
       "'Practical Programming: An Introduction to Computer Science Using Python 3.6'"
      ]
     },
     "execution_count": 11,
     "metadata": {},
     "output_type": "execute_result"
    }
   ],
   "source": [
    "b1.title"
   ]
  },
  {
   "cell_type": "markdown",
   "id": "609be7cf",
   "metadata": {
    "slideshow": {
     "slide_type": "slide"
    }
   },
   "source": [
    "## Instance method and attributes"
   ]
  },
  {
   "cell_type": "markdown",
   "id": "64d4ed30",
   "metadata": {
    "slideshow": {
     "slide_type": "slide"
    }
   },
   "source": [
    "Let us expand our Book class."
   ]
  },
  {
   "cell_type": "code",
   "execution_count": 12,
   "id": "0c487ee5",
   "metadata": {
    "slideshow": {
     "slide_type": "fragment"
    }
   },
   "outputs": [],
   "source": [
    "class Book:\n",
    "    def __init__(self, title, author, pages, price):\n",
    "        self.title = title\n",
    "        self.author = author\n",
    "        self.pages = pages\n",
    "        self.price = price\n",
    "    def getprice(self):\n",
    "        return self.price"
   ]
  },
  {
   "cell_type": "code",
   "execution_count": 13,
   "id": "73a7574b",
   "metadata": {
    "slideshow": {
     "slide_type": "slide"
    }
   },
   "outputs": [],
   "source": [
    "b1 = Book('Practical Programming...', 'Gries, Campbell, Montojo', 383, 50)\n",
    "b2 = Book('Building a Caree in Data Science', 'Robinson, Nolis', 322, 40)"
   ]
  },
  {
   "cell_type": "code",
   "execution_count": 15,
   "id": "d96a9d60",
   "metadata": {
    "slideshow": {
     "slide_type": "fragment"
    }
   },
   "outputs": [
    {
     "name": "stdout",
     "output_type": "stream",
     "text": [
      "50\n"
     ]
    }
   ],
   "source": [
    "print(b1.getprice())"
   ]
  },
  {
   "cell_type": "markdown",
   "id": "d5485315",
   "metadata": {
    "slideshow": {
     "slide_type": "slide"
    }
   },
   "source": [
    "Let us add a discount method. "
   ]
  },
  {
   "cell_type": "code",
   "execution_count": 34,
   "id": "f526ef99",
   "metadata": {
    "slideshow": {
     "slide_type": "fragment"
    }
   },
   "outputs": [],
   "source": [
    "class Book:\n",
    "    def __init__(self, title, author, pages, price):\n",
    "        self.title = title\n",
    "        self.author = author\n",
    "        self.pages = pages\n",
    "        self.price = price\n",
    "        \n",
    "    # make changes to getprice():\n",
    "    \n",
    "    def getprice(self):\n",
    "        if hasattr(self, '_discount'):\n",
    "            return self.price - (self.price * self._discount)\n",
    "        else:\n",
    "            return self.price\n",
    "        \n",
    "    def setdiscount(self, amount):\n",
    "        self._discount = amount\n",
    "        \n",
    "# In _discount the underscore means that the attribute belongs to this class \n",
    "# and should not be accessed outside of the class."
   ]
  },
  {
   "cell_type": "code",
   "execution_count": 35,
   "id": "4df054c8",
   "metadata": {
    "slideshow": {
     "slide_type": "slide"
    }
   },
   "outputs": [],
   "source": [
    "b1 = Book('Practical Programming...', 'Gries, Campbell, Montojo', 383, 50)\n",
    "b2 = Book('Building a Caree in Data Science', 'Robinson, Nolis', 322, 40)"
   ]
  },
  {
   "cell_type": "code",
   "execution_count": 36,
   "id": "1f7aa64c",
   "metadata": {
    "slideshow": {
     "slide_type": "fragment"
    }
   },
   "outputs": [
    {
     "data": {
      "text/plain": [
       "40"
      ]
     },
     "execution_count": 36,
     "metadata": {},
     "output_type": "execute_result"
    }
   ],
   "source": [
    "b2.getprice()"
   ]
  },
  {
   "cell_type": "code",
   "execution_count": 37,
   "id": "bf409215",
   "metadata": {
    "slideshow": {
     "slide_type": "fragment"
    }
   },
   "outputs": [
    {
     "data": {
      "text/plain": [
       "30.0"
      ]
     },
     "execution_count": 37,
     "metadata": {},
     "output_type": "execute_result"
    }
   ],
   "source": [
    "b2.setdiscount(0.25)\n",
    "b2.getprice()"
   ]
  },
  {
   "cell_type": "markdown",
   "id": "751bbf9a",
   "metadata": {
    "slideshow": {
     "slide_type": "slide"
    }
   },
   "source": [
    "Double underscore in front of an attribute prevent subclasses to use that name"
   ]
  },
  {
   "cell_type": "code",
   "execution_count": 38,
   "id": "f7c18599",
   "metadata": {
    "slideshow": {
     "slide_type": "fragment"
    }
   },
   "outputs": [],
   "source": [
    "class Book:\n",
    "    def __init__(self, title, author, pages, price):\n",
    "        self.title = title\n",
    "        self.author = author\n",
    "        self.pages = pages\n",
    "        self.price = price\n",
    "        self.__secret = 'This is a secret'"
   ]
  },
  {
   "cell_type": "code",
   "execution_count": 42,
   "id": "9a5ac2f1",
   "metadata": {
    "slideshow": {
     "slide_type": "slide"
    }
   },
   "outputs": [],
   "source": [
    "b1 = Book('Practical Programming...', 'Gries, Campbell, Montojo', 383, 50)\n",
    "b2 = Book('Building a Caree in Data Science', 'Robinson, Nolis', 322, 40)"
   ]
  },
  {
   "cell_type": "code",
   "execution_count": 43,
   "id": "e591e3b7",
   "metadata": {
    "slideshow": {
     "slide_type": "slide"
    }
   },
   "outputs": [
    {
     "ename": "AttributeError",
     "evalue": "'Book' object has no attribute '__secret'",
     "output_type": "error",
     "traceback": [
      "\u001b[0;31m---------------------------------------------------------------------------\u001b[0m",
      "\u001b[0;31mAttributeError\u001b[0m                            Traceback (most recent call last)",
      "\u001b[0;32m/var/folders/1l/0mv3_kgn13d1cztjd0_17gpc0000gn/T/ipykernel_20514/2429360750.py\u001b[0m in \u001b[0;36m<module>\u001b[0;34m\u001b[0m\n\u001b[0;32m----> 1\u001b[0;31m \u001b[0mb1\u001b[0m\u001b[0;34m.\u001b[0m\u001b[0m__secret\u001b[0m\u001b[0;34m\u001b[0m\u001b[0;34m\u001b[0m\u001b[0m\n\u001b[0m",
      "\u001b[0;31mAttributeError\u001b[0m: 'Book' object has no attribute '__secret'"
     ]
    }
   ],
   "source": [
    "b1.__secret"
   ]
  },
  {
   "cell_type": "code",
   "execution_count": 44,
   "id": "6985015b",
   "metadata": {
    "slideshow": {
     "slide_type": "slide"
    }
   },
   "outputs": [
    {
     "data": {
      "text/plain": [
       "'This is a secret'"
      ]
     },
     "execution_count": 44,
     "metadata": {},
     "output_type": "execute_result"
    }
   ],
   "source": [
    "# to get access to the __secret attribute:\n",
    "\n",
    "b1._Book__secret"
   ]
  },
  {
   "cell_type": "markdown",
   "id": "22923af1",
   "metadata": {
    "slideshow": {
     "slide_type": "slide"
    }
   },
   "source": [
    "## Instance Types"
   ]
  },
  {
   "cell_type": "code",
   "execution_count": 45,
   "id": "1f7e45e5",
   "metadata": {
    "slideshow": {
     "slide_type": "slide"
    }
   },
   "outputs": [],
   "source": [
    "class Book:\n",
    "    def __init__(self, title):\n",
    "        self.title = title\n",
    "    \n",
    "class Newspaper:\n",
    "    def __init__(self, name):\n",
    "        self.name = name\n",
    "        "
   ]
  },
  {
   "cell_type": "code",
   "execution_count": 46,
   "id": "6e3f9796",
   "metadata": {
    "slideshow": {
     "slide_type": "fragment"
    }
   },
   "outputs": [],
   "source": [
    "# create instances:\n",
    "b1 = Book(\"A Canadian Writer's Reference\")\n",
    "b2 = Book('Leadership and Self-Deception')\n",
    "\n",
    "n1 = Newspaper('Toronto Star')\n",
    "n2 = Newspaper('Mississauga News')"
   ]
  },
  {
   "cell_type": "code",
   "execution_count": 49,
   "id": "b15b428f",
   "metadata": {
    "slideshow": {
     "slide_type": "slide"
    }
   },
   "outputs": [
    {
     "data": {
      "text/plain": [
       "__main__.Book"
      ]
     },
     "execution_count": 49,
     "metadata": {},
     "output_type": "execute_result"
    }
   ],
   "source": [
    "type(b1)"
   ]
  },
  {
   "cell_type": "code",
   "execution_count": 48,
   "id": "d66f93df",
   "metadata": {
    "slideshow": {
     "slide_type": "fragment"
    }
   },
   "outputs": [
    {
     "data": {
      "text/plain": [
       "__main__.Newspaper"
      ]
     },
     "execution_count": 48,
     "metadata": {},
     "output_type": "execute_result"
    }
   ],
   "source": [
    "type(n1)"
   ]
  },
  {
   "cell_type": "code",
   "execution_count": 50,
   "id": "2275b46e",
   "metadata": {
    "slideshow": {
     "slide_type": "slide"
    }
   },
   "outputs": [
    {
     "data": {
      "text/plain": [
       "True"
      ]
     },
     "execution_count": 50,
     "metadata": {},
     "output_type": "execute_result"
    }
   ],
   "source": [
    "type(b1) == type(b2)"
   ]
  },
  {
   "cell_type": "code",
   "execution_count": 51,
   "id": "7ef997f5",
   "metadata": {
    "slideshow": {
     "slide_type": "fragment"
    }
   },
   "outputs": [
    {
     "data": {
      "text/plain": [
       "False"
      ]
     },
     "execution_count": 51,
     "metadata": {},
     "output_type": "execute_result"
    }
   ],
   "source": [
    "type(b1) == type(n2)"
   ]
  },
  {
   "cell_type": "code",
   "execution_count": 52,
   "id": "87ae2e9f",
   "metadata": {
    "slideshow": {
     "slide_type": "slide"
    }
   },
   "outputs": [
    {
     "data": {
      "text/plain": [
       "True"
      ]
     },
     "execution_count": 52,
     "metadata": {},
     "output_type": "execute_result"
    }
   ],
   "source": [
    "isinstance(b1, Book)"
   ]
  },
  {
   "cell_type": "code",
   "execution_count": 53,
   "id": "85609e3e",
   "metadata": {
    "slideshow": {
     "slide_type": "fragment"
    }
   },
   "outputs": [
    {
     "data": {
      "text/plain": [
       "True"
      ]
     },
     "execution_count": 53,
     "metadata": {},
     "output_type": "execute_result"
    }
   ],
   "source": [
    "isinstance(n1, Newspaper)"
   ]
  },
  {
   "cell_type": "code",
   "execution_count": 54,
   "id": "74fc2667",
   "metadata": {
    "slideshow": {
     "slide_type": "fragment"
    }
   },
   "outputs": [
    {
     "data": {
      "text/plain": [
       "False"
      ]
     },
     "execution_count": 54,
     "metadata": {},
     "output_type": "execute_result"
    }
   ],
   "source": [
    "isinstance(n2, Book)"
   ]
  },
  {
   "cell_type": "code",
   "execution_count": 55,
   "id": "157f20a1",
   "metadata": {
    "slideshow": {
     "slide_type": "fragment"
    }
   },
   "outputs": [
    {
     "data": {
      "text/plain": [
       "True"
      ]
     },
     "execution_count": 55,
     "metadata": {},
     "output_type": "execute_result"
    }
   ],
   "source": [
    "isinstance(n2, object)"
   ]
  },
  {
   "cell_type": "markdown",
   "id": "7a01b6f4",
   "metadata": {
    "slideshow": {
     "slide_type": "slide"
    }
   },
   "source": [
    "## Class Methods and Members"
   ]
  },
  {
   "cell_type": "code",
   "execution_count": 58,
   "id": "3dff28e2",
   "metadata": {
    "slideshow": {
     "slide_type": "slide"
    }
   },
   "outputs": [],
   "source": [
    "class Book:\n",
    "    BOOK_TYPES = ('HARDCOVER', 'PAPERCOVER', 'EBOOK')\n",
    "    \n",
    "    # create a class method\n",
    "    @classmethod\n",
    "    def getbooktypes(cls):\n",
    "        return cls.BOOK_TYPES\n",
    "    \n",
    "    def setTitle(self, newtitle):\n",
    "        self.title = newtitle\n",
    "    def __init__(self, title, booktype):\n",
    "        self.title = title\n",
    "        if (not booktype in Book.BOOK_TYPES):\n",
    "            raise ValueError(f'{booktype} is not a valid book type')\n",
    "        else:\n",
    "            self.booktype = booktype\n",
    "    "
   ]
  },
  {
   "cell_type": "code",
   "execution_count": 63,
   "id": "32bb8a88",
   "metadata": {
    "slideshow": {
     "slide_type": "slide"
    }
   },
   "outputs": [
    {
     "data": {
      "text/plain": [
       "('Book types: ', ('HARDCOVER', 'PAPERCOVER', 'EBOOK'))"
      ]
     },
     "execution_count": 63,
     "metadata": {},
     "output_type": "execute_result"
    }
   ],
   "source": [
    "'Book types: ', Book.getbooktypes()"
   ]
  },
  {
   "cell_type": "code",
   "execution_count": 62,
   "id": "9c52dbd7",
   "metadata": {
    "slideshow": {
     "slide_type": "fragment"
    }
   },
   "outputs": [],
   "source": [
    "b1 = Book('Title 1', 'HARDCOVER')"
   ]
  },
  {
   "cell_type": "code",
   "execution_count": 65,
   "id": "a98fa2ab",
   "metadata": {
    "slideshow": {
     "slide_type": "fragment"
    }
   },
   "outputs": [
    {
     "ename": "ValueError",
     "evalue": "ROMANCE is not a valid book type",
     "output_type": "error",
     "traceback": [
      "\u001b[0;31m---------------------------------------------------------------------------\u001b[0m",
      "\u001b[0;31mValueError\u001b[0m                                Traceback (most recent call last)",
      "\u001b[0;32m/var/folders/1l/0mv3_kgn13d1cztjd0_17gpc0000gn/T/ipykernel_20514/282649516.py\u001b[0m in \u001b[0;36m<module>\u001b[0;34m\u001b[0m\n\u001b[0;32m----> 1\u001b[0;31m \u001b[0mb2\u001b[0m \u001b[0;34m=\u001b[0m \u001b[0mBook\u001b[0m\u001b[0;34m(\u001b[0m\u001b[0;34m'Title 2'\u001b[0m\u001b[0;34m,\u001b[0m \u001b[0;34m'ROMANCE'\u001b[0m\u001b[0;34m)\u001b[0m\u001b[0;34m\u001b[0m\u001b[0;34m\u001b[0m\u001b[0m\n\u001b[0m",
      "\u001b[0;32m/var/folders/1l/0mv3_kgn13d1cztjd0_17gpc0000gn/T/ipykernel_20514/1876941981.py\u001b[0m in \u001b[0;36m__init__\u001b[0;34m(self, title, booktype)\u001b[0m\n\u001b[1;32m     12\u001b[0m         \u001b[0mself\u001b[0m\u001b[0;34m.\u001b[0m\u001b[0mtitle\u001b[0m \u001b[0;34m=\u001b[0m \u001b[0mtitle\u001b[0m\u001b[0;34m\u001b[0m\u001b[0;34m\u001b[0m\u001b[0m\n\u001b[1;32m     13\u001b[0m         \u001b[0;32mif\u001b[0m \u001b[0;34m(\u001b[0m\u001b[0;32mnot\u001b[0m \u001b[0mbooktype\u001b[0m \u001b[0;32min\u001b[0m \u001b[0mBook\u001b[0m\u001b[0;34m.\u001b[0m\u001b[0mBOOK_TYPES\u001b[0m\u001b[0;34m)\u001b[0m\u001b[0;34m:\u001b[0m\u001b[0;34m\u001b[0m\u001b[0;34m\u001b[0m\u001b[0m\n\u001b[0;32m---> 14\u001b[0;31m             \u001b[0;32mraise\u001b[0m \u001b[0mValueError\u001b[0m\u001b[0;34m(\u001b[0m\u001b[0;34mf'{booktype} is not a valid book type'\u001b[0m\u001b[0;34m)\u001b[0m\u001b[0;34m\u001b[0m\u001b[0;34m\u001b[0m\u001b[0m\n\u001b[0m\u001b[1;32m     15\u001b[0m         \u001b[0;32melse\u001b[0m\u001b[0;34m:\u001b[0m\u001b[0;34m\u001b[0m\u001b[0;34m\u001b[0m\u001b[0m\n\u001b[1;32m     16\u001b[0m             \u001b[0mself\u001b[0m\u001b[0;34m.\u001b[0m\u001b[0mbooktype\u001b[0m \u001b[0;34m=\u001b[0m \u001b[0mbooktype\u001b[0m\u001b[0;34m\u001b[0m\u001b[0;34m\u001b[0m\u001b[0m\n",
      "\u001b[0;31mValueError\u001b[0m: ROMANCE is not a valid book type"
     ]
    }
   ],
   "source": [
    "b2 = Book('Title 2', 'ROMANCE')"
   ]
  },
  {
   "cell_type": "markdown",
   "id": "6d433f09",
   "metadata": {
    "slideshow": {
     "slide_type": "slide"
    }
   },
   "source": [
    "## QUIZ"
   ]
  },
  {
   "cell_type": "markdown",
   "id": "adcfe201",
   "metadata": {
    "slideshow": {
     "slide_type": "slide"
    }
   },
   "source": [
    "I. Which method will ensure that an attribute has been defined before you access it?\n",
    "\n",
    "1. hasattr = \n",
    "\n",
    "2. hasattr()\n",
    "\n",
    "3. hasattr('')\n",
    "4. hasattr"
   ]
  },
  {
   "cell_type": "markdown",
   "id": "085f13d2",
   "metadata": {
    "slideshow": {
     "slide_type": "slide"
    }
   },
   "source": [
    "II. When an underscore precedes the attribute name, it means the attribute is:\n",
    "\n",
    "1. meant for public use, and the name of the attribute will remain the same\n",
    "2. private, and it can only be modified by an accessor method\n",
    "3. meant for internal use, and the name of the attribute may change\n",
    "4. static, and the value of the attribute cannot be changed"
   ]
  },
  {
   "cell_type": "markdown",
   "id": "c3dff3b5",
   "metadata": {
    "slideshow": {
     "slide_type": "slide"
    }
   },
   "source": [
    "III. What is the correct way to instantiate an object from a class called Movie with two attributes called genre and director?\n",
    "\n",
    "1. movie1 = Movie[Thriller, Tarantino]\n",
    "2. movie1 = Movie{\"Thriller\", \"Tarantino\"};\n",
    "3. movie1 = new Movie(\"Thriller\", \"Tarantino\");\n",
    "4. movie1 = Movie(\"Thriller\", \"Tarantino\")"
   ]
  },
  {
   "cell_type": "markdown",
   "id": "bc3f5444",
   "metadata": {
    "slideshow": {
     "slide_type": "slide"
    }
   },
   "source": [
    "IV. You have created a class called Animal and you want to create two animal types. What is the correct syntax to define the animal types?\n",
    "\n",
    "1. ANIMAL_TYPES = (\"mammal\", \"reptile\")\n",
    "2. class=ANIMAL_TYPES[\"mammal\", \"reptile\"]\n",
    "3. ANIMALTYPES[\"mammal\", \"reptile\"]\n",
    "4. Animal_Types(mammal, reptile)"
   ]
  },
  {
   "cell_type": "markdown",
   "id": "4cd57752",
   "metadata": {
    "slideshow": {
     "slide_type": "slide"
    }
   },
   "source": [
    "V. In object-oriented programming, what does the word \"object\" refer to?\n",
    "\n",
    "1. a specific instance of a class\n",
    "2. a container that holds data from a class\n",
    "3. a function that is part of a class\n",
    "4. a blueprint for creating items of a particular type"
   ]
  },
  {
   "cell_type": "markdown",
   "id": "36525824",
   "metadata": {
    "slideshow": {
     "slide_type": "slide"
    }
   },
   "source": [
    "Quizz answers:\n",
    "\n",
    "I - 2\n",
    "\n",
    "II - 3\n",
    "\n",
    "III - 4\n",
    "\n",
    "IV - 1\n",
    "\n",
    "V - 1"
   ]
  },
  {
   "cell_type": "markdown",
   "id": "c88cb116",
   "metadata": {
    "slideshow": {
     "slide_type": "slide"
    }
   },
   "source": [
    "## Inheritance"
   ]
  },
  {
   "cell_type": "code",
   "execution_count": 67,
   "id": "c90fa727",
   "metadata": {
    "slideshow": {
     "slide_type": "slide"
    }
   },
   "outputs": [],
   "source": [
    "class Book:\n",
    "    def __init__(self, title, author, pages, price):\n",
    "        self.title = title\n",
    "        self.price = price\n",
    "        self.author = author\n",
    "        self.pages = pages\n",
    "\n",
    "\n",
    "class Magazine:\n",
    "    def __init__(self, title, publisher, price, period):\n",
    "        self.title = title\n",
    "        self.price = price\n",
    "        self.period = period\n",
    "        self.publisher = publisher\n",
    "\n",
    "\n",
    "class Newspaper:\n",
    "    def __init__(self, title, publisher, price, period):\n",
    "        self.title = title\n",
    "        self.price = price\n",
    "        self.period = period\n",
    "        self.publisher = publisher"
   ]
  },
  {
   "cell_type": "code",
   "execution_count": 68,
   "id": "73f9918a",
   "metadata": {
    "slideshow": {
     "slide_type": "slide"
    }
   },
   "outputs": [],
   "source": [
    "b1 = Book(\"Brave New World\", \"Aldous Huxley\", 311, 29.0)\n",
    "n1 = Newspaper(\"NY Times\", \"New York Times Company\", 6.0, \"Daily\")\n",
    "m1 = Magazine(\"Scientific American\", \"Springer Nature\", 5.99, \"Monthly\")"
   ]
  },
  {
   "cell_type": "code",
   "execution_count": 69,
   "id": "683b7087",
   "metadata": {
    "slideshow": {
     "slide_type": "slide"
    }
   },
   "outputs": [
    {
     "data": {
      "text/plain": [
       "29.0"
      ]
     },
     "execution_count": 69,
     "metadata": {},
     "output_type": "execute_result"
    }
   ],
   "source": [
    "b1.price"
   ]
  },
  {
   "cell_type": "code",
   "execution_count": 70,
   "id": "d5d7c06d",
   "metadata": {
    "slideshow": {
     "slide_type": "fragment"
    }
   },
   "outputs": [
    {
     "data": {
      "text/plain": [
       "'Springer Nature'"
      ]
     },
     "execution_count": 70,
     "metadata": {},
     "output_type": "execute_result"
    }
   ],
   "source": [
    "m1.publisher"
   ]
  },
  {
   "cell_type": "code",
   "execution_count": 72,
   "id": "b8b106c9",
   "metadata": {
    "slideshow": {
     "slide_type": "fragment"
    }
   },
   "outputs": [
    {
     "data": {
      "text/plain": [
       "(29.0, 6.0, 5.99)"
      ]
     },
     "execution_count": 72,
     "metadata": {},
     "output_type": "execute_result"
    }
   ],
   "source": [
    "b1. price, n1.price, m1.price"
   ]
  },
  {
   "cell_type": "markdown",
   "id": "ab296325",
   "metadata": {
    "slideshow": {
     "slide_type": "slide"
    }
   },
   "source": [
    "We can see that there is a lot of duplication in the classes. For example, all three classes hold attributes for title and price. Here, we will introduce inheritance to avoid duplications."
   ]
  },
  {
   "cell_type": "code",
   "execution_count": 73,
   "id": "3317a915",
   "metadata": {},
   "outputs": [],
   "source": [
    "# define a new class\n",
    "class Publication:\n",
    "    def __init__(self, title, price):\n",
    "        self.title = title\n",
    "        self.price = price\n",
    "\n",
    "# as the Magazine and Newspaper classes have more duplications, we define another class\n",
    "class Periodical(Publication):\n",
    "    def __init__(self, title, price, period, publisher):\n",
    "        super().__init__(title, price)\n",
    "        self.period = period\n",
    "        self.publisher = publisher\n",
    "    \n",
    "# add super class \n",
    "class Book(Publication):\n",
    "    def __init__(self, title, author, pages, price):\n",
    "        super().__init__(title, price)\n",
    "        self.author = author\n",
    "        self.pages = pages\n",
    "        \n",
    "class Magazine(Periodical):\n",
    "    def __init__(self, title, publisher, price, period):\n",
    "        super().__init__(title, price, period, publisher)\n",
    "\n",
    "class Newspaper(Periodical):\n",
    "    def __init__(self, title, publisher, price, period):\n",
    "        super().__init__(title, price, period, publisher)\n",
    "        "
   ]
  },
  {
   "cell_type": "code",
   "execution_count": 74,
   "id": "0bb81de4",
   "metadata": {
    "slideshow": {
     "slide_type": "slide"
    }
   },
   "outputs": [],
   "source": [
    "b1 = Book(\"Brave New World\", \"Aldous Huxley\", 311, 29.0)\n",
    "n1 = Newspaper(\"NY Times\", \"New York Times Company\", 6.0, \"Daily\")\n",
    "m1 = Magazine(\"Scientific American\", \"Springer Nature\", 5.99, \"Monthly\")"
   ]
  },
  {
   "cell_type": "code",
   "execution_count": 75,
   "id": "8065c6d0",
   "metadata": {
    "slideshow": {
     "slide_type": "slide"
    }
   },
   "outputs": [
    {
     "data": {
      "text/plain": [
       "29.0"
      ]
     },
     "execution_count": 75,
     "metadata": {},
     "output_type": "execute_result"
    }
   ],
   "source": [
    "b1.price"
   ]
  },
  {
   "cell_type": "code",
   "execution_count": 76,
   "id": "61aa69e5",
   "metadata": {
    "slideshow": {
     "slide_type": "fragment"
    }
   },
   "outputs": [
    {
     "data": {
      "text/plain": [
       "'Springer Nature'"
      ]
     },
     "execution_count": 76,
     "metadata": {},
     "output_type": "execute_result"
    }
   ],
   "source": [
    "m1.publisher"
   ]
  },
  {
   "cell_type": "code",
   "execution_count": 77,
   "id": "4a01ab8a",
   "metadata": {
    "slideshow": {
     "slide_type": "fragment"
    }
   },
   "outputs": [
    {
     "data": {
      "text/plain": [
       "(29.0, 6.0, 5.99)"
      ]
     },
     "execution_count": 77,
     "metadata": {},
     "output_type": "execute_result"
    }
   ],
   "source": [
    "b1. price, n1.price, m1.price"
   ]
  },
  {
   "cell_type": "markdown",
   "id": "15c6e36d",
   "metadata": {
    "slideshow": {
     "slide_type": "slide"
    }
   },
   "source": [
    "We achieved much better organization of the code which is the main use of inheritance."
   ]
  },
  {
   "cell_type": "markdown",
   "id": "46564bee",
   "metadata": {
    "slideshow": {
     "slide_type": "slide"
    }
   },
   "source": [
    "## 'Magic' Object Methods"
   ]
  },
  {
   "cell_type": "markdown",
   "id": "62027c93",
   "metadata": {
    "slideshow": {
     "slide_type": "slide"
    }
   },
   "source": [
    "### String"
   ]
  },
  {
   "cell_type": "code",
   "execution_count": 93,
   "id": "34766376",
   "metadata": {
    "slideshow": {
     "slide_type": "slide"
    }
   },
   "outputs": [],
   "source": [
    "class Book:\n",
    "    def __init__(self, title, author, price):\n",
    "        super().__init__()\n",
    "        self.title = title\n",
    "        self.author = author\n",
    "        self.price = price"
   ]
  },
  {
   "cell_type": "code",
   "execution_count": 94,
   "id": "52ea0125",
   "metadata": {
    "slideshow": {
     "slide_type": "fragment"
    }
   },
   "outputs": [],
   "source": [
    "b1 = Book(\"War and Peace\", \"Leo Tolstoy\", 39.95)\n",
    "b2 = Book(\"The Catcher in the Rye\", \"JD Salinger\", 29.95)"
   ]
  },
  {
   "cell_type": "code",
   "execution_count": 95,
   "id": "1e578fef",
   "metadata": {
    "slideshow": {
     "slide_type": "slide"
    }
   },
   "outputs": [],
   "source": [
    "# __str__ function provides a user-friendly string description of the object\n",
    "# __repr__ is used by developers for debugging purposes and it contains many details."
   ]
  },
  {
   "cell_type": "code",
   "execution_count": 96,
   "id": "bc696565",
   "metadata": {
    "slideshow": {
     "slide_type": "fragment"
    }
   },
   "outputs": [
    {
     "name": "stdout",
     "output_type": "stream",
     "text": [
      "<__main__.Book object at 0x7fb35e131ee0>\n"
     ]
    }
   ],
   "source": [
    "# the output is a very vague description of the objects\n",
    "print(b1)"
   ]
  },
  {
   "cell_type": "code",
   "execution_count": 97,
   "id": "ed60921d",
   "metadata": {
    "slideshow": {
     "slide_type": "slide"
    }
   },
   "outputs": [],
   "source": [
    "class Book:\n",
    "    def __init__(self, title, author, price):\n",
    "        super().__init__()\n",
    "        self.title = title\n",
    "        self.author = author\n",
    "        self.price = price\n",
    "        \n",
    "    # add __str__ function; here we decide what information is returned by the function:\n",
    "    def __str__(self):\n",
    "        return f'{self.title} by {self.author}, costs {self.price}'"
   ]
  },
  {
   "cell_type": "code",
   "execution_count": 98,
   "id": "4c698f13",
   "metadata": {
    "slideshow": {
     "slide_type": "fragment"
    }
   },
   "outputs": [],
   "source": [
    "b1 = Book(\"War and Peace\", \"Leo Tolstoy\", 39.95)\n",
    "b2 = Book(\"The Catcher in the Rye\", \"JD Salinger\", 29.95)"
   ]
  },
  {
   "cell_type": "code",
   "execution_count": 99,
   "id": "75cdc209",
   "metadata": {
    "slideshow": {
     "slide_type": "fragment"
    }
   },
   "outputs": [
    {
     "name": "stdout",
     "output_type": "stream",
     "text": [
      "War and Peace by Leo Tolstoy, costs 39.95\n"
     ]
    }
   ],
   "source": [
    "print(b1)"
   ]
  },
  {
   "cell_type": "code",
   "execution_count": 101,
   "id": "22b3eb5a",
   "metadata": {
    "slideshow": {
     "slide_type": "slide"
    }
   },
   "outputs": [],
   "source": [
    "class Book:\n",
    "    def __init__(self, title, author, price):\n",
    "        super().__init__()\n",
    "        self.title = title\n",
    "        self.author = author\n",
    "        self.price = price\n",
    "        \n",
    "    def __str__(self):\n",
    "        return f'{self.title} by {self.author}, costs {self.price}'\n",
    "\n",
    "    # add __repr__ function\n",
    "    def __repr__(self):\n",
    "        return f'title = {self.title}, author = {self.author}, price = {self.price}'"
   ]
  },
  {
   "cell_type": "code",
   "execution_count": 102,
   "id": "017636ae",
   "metadata": {
    "slideshow": {
     "slide_type": "fragment"
    }
   },
   "outputs": [],
   "source": [
    "b1 = Book(\"War and Peace\", \"Leo Tolstoy\", 39.95)\n",
    "b2 = Book(\"The Catcher in the Rye\", \"JD Salinger\", 29.95)"
   ]
  },
  {
   "cell_type": "code",
   "execution_count": 103,
   "id": "a496e714",
   "metadata": {
    "slideshow": {
     "slide_type": "slide"
    }
   },
   "outputs": [
    {
     "name": "stdout",
     "output_type": "stream",
     "text": [
      "War and Peace by Leo Tolstoy, costs 39.95\n"
     ]
    }
   ],
   "source": [
    "print(str(b1))"
   ]
  },
  {
   "cell_type": "code",
   "execution_count": 104,
   "id": "fd3aec0f",
   "metadata": {
    "slideshow": {
     "slide_type": "fragment"
    }
   },
   "outputs": [
    {
     "name": "stdout",
     "output_type": "stream",
     "text": [
      "title = The Catcher in the Rye, author = JD Salinger, price = 29.95\n"
     ]
    }
   ],
   "source": [
    "print(repr(b2))"
   ]
  },
  {
   "cell_type": "markdown",
   "id": "0ce9ae04",
   "metadata": {
    "slideshow": {
     "slide_type": "slide"
    }
   },
   "source": [
    "Both __str__ and __repr__ functions are optional to define but it is a good idea to include at least a __repr__ function to make debugging easier."
   ]
  },
  {
   "cell_type": "markdown",
   "id": "c1359930",
   "metadata": {
    "slideshow": {
     "slide_type": "slide"
    }
   },
   "source": [
    "### Equality and Comparison"
   ]
  },
  {
   "cell_type": "code",
   "execution_count": 105,
   "id": "1c558ee9",
   "metadata": {
    "slideshow": {
     "slide_type": "slide"
    }
   },
   "outputs": [],
   "source": [
    "class Book:\n",
    "    def __init__(self, title, author, price):\n",
    "        super().__init__()\n",
    "        self.title = title\n",
    "        self.author = author\n",
    "        self.price = price"
   ]
  },
  {
   "cell_type": "code",
   "execution_count": 106,
   "id": "6bda9808",
   "metadata": {
    "slideshow": {
     "slide_type": "slide"
    }
   },
   "outputs": [],
   "source": [
    "b1 = Book(\"War and Peace\", \"Leo Tolstoy\", 39.95)\n",
    "b2 = Book(\"The Catcher in the Rye\", \"JD Salinger\", 29.95)\n",
    "b3 = Book(\"War and Peace\", \"Leo Tolstoy\", 39.95)\n",
    "b4 = Book(\"To Kill a Mockingbird\", \"Harper Lee\", 24.95)"
   ]
  },
  {
   "cell_type": "code",
   "execution_count": 107,
   "id": "ce822cf6",
   "metadata": {
    "slideshow": {
     "slide_type": "fragment"
    }
   },
   "outputs": [
    {
     "data": {
      "text/plain": [
       "False"
      ]
     },
     "execution_count": 107,
     "metadata": {},
     "output_type": "execute_result"
    }
   ],
   "source": [
    "b1 == b3"
   ]
  },
  {
   "cell_type": "code",
   "execution_count": 115,
   "id": "30fbceb2",
   "metadata": {
    "slideshow": {
     "slide_type": "slide"
    }
   },
   "outputs": [],
   "source": [
    "class Book:\n",
    "    def __init__(self, title, author, price):\n",
    "        super().__init__()\n",
    "        self.title = title\n",
    "        self.author = author\n",
    "        self.price = price\n",
    "    \n",
    "    # add equality function:\n",
    "    \n",
    "    def __eq__(self, value):\n",
    "        if not isinstance(value, Book):\n",
    "            raise ValueError(\"Can't compare book to a non book\")\n",
    "        return (self.title == value.title and\n",
    "                self.author == value.author and\n",
    "                self.price == value.price)"
   ]
  },
  {
   "cell_type": "code",
   "execution_count": 116,
   "id": "f01a01bc",
   "metadata": {
    "slideshow": {
     "slide_type": "slide"
    }
   },
   "outputs": [],
   "source": [
    "b1 = Book(\"War and Peace\", \"Leo Tolstoy\", 39.95)\n",
    "b2 = Book(\"The Catcher in the Rye\", \"JD Salinger\", 29.95)\n",
    "b3 = Book(\"War and Peace\", \"Leo Tolstoy\", 39.95)\n",
    "b4 = Book(\"To Kill a Mockingbird\", \"Harper Lee\", 24.95)"
   ]
  },
  {
   "cell_type": "code",
   "execution_count": 118,
   "id": "9e41fa67",
   "metadata": {
    "slideshow": {
     "slide_type": "fragment"
    }
   },
   "outputs": [
    {
     "data": {
      "text/plain": [
       "True"
      ]
     },
     "execution_count": 118,
     "metadata": {},
     "output_type": "execute_result"
    }
   ],
   "source": [
    "b1 == b3"
   ]
  },
  {
   "cell_type": "code",
   "execution_count": 119,
   "id": "9a0cdec6",
   "metadata": {
    "slideshow": {
     "slide_type": "fragment"
    }
   },
   "outputs": [
    {
     "data": {
      "text/plain": [
       "False"
      ]
     },
     "execution_count": 119,
     "metadata": {},
     "output_type": "execute_result"
    }
   ],
   "source": [
    "b1 == b2"
   ]
  },
  {
   "cell_type": "code",
   "execution_count": 120,
   "id": "c378e46c",
   "metadata": {
    "slideshow": {
     "slide_type": "slide"
    }
   },
   "outputs": [
    {
     "ename": "ValueError",
     "evalue": "Can't compare book to a non book",
     "output_type": "error",
     "traceback": [
      "\u001b[0;31m---------------------------------------------------------------------------\u001b[0m",
      "\u001b[0;31mValueError\u001b[0m                                Traceback (most recent call last)",
      "\u001b[0;32m/var/folders/1l/0mv3_kgn13d1cztjd0_17gpc0000gn/T/ipykernel_20514/1297801562.py\u001b[0m in \u001b[0;36m<module>\u001b[0;34m\u001b[0m\n\u001b[0;32m----> 1\u001b[0;31m \u001b[0mb1\u001b[0m \u001b[0;34m==\u001b[0m \u001b[0;36m23\u001b[0m\u001b[0;34m\u001b[0m\u001b[0;34m\u001b[0m\u001b[0m\n\u001b[0m",
      "\u001b[0;32m/var/folders/1l/0mv3_kgn13d1cztjd0_17gpc0000gn/T/ipykernel_20514/3042112296.py\u001b[0m in \u001b[0;36m__eq__\u001b[0;34m(self, value)\u001b[0m\n\u001b[1;32m      7\u001b[0m     \u001b[0;32mdef\u001b[0m \u001b[0m__eq__\u001b[0m\u001b[0;34m(\u001b[0m\u001b[0mself\u001b[0m\u001b[0;34m,\u001b[0m \u001b[0mvalue\u001b[0m\u001b[0;34m)\u001b[0m\u001b[0;34m:\u001b[0m\u001b[0;34m\u001b[0m\u001b[0;34m\u001b[0m\u001b[0m\n\u001b[1;32m      8\u001b[0m         \u001b[0;32mif\u001b[0m \u001b[0;32mnot\u001b[0m \u001b[0misinstance\u001b[0m\u001b[0;34m(\u001b[0m\u001b[0mvalue\u001b[0m\u001b[0;34m,\u001b[0m \u001b[0mBook\u001b[0m\u001b[0;34m)\u001b[0m\u001b[0;34m:\u001b[0m\u001b[0;34m\u001b[0m\u001b[0;34m\u001b[0m\u001b[0m\n\u001b[0;32m----> 9\u001b[0;31m             \u001b[0;32mraise\u001b[0m \u001b[0mValueError\u001b[0m\u001b[0;34m(\u001b[0m\u001b[0;34m\"Can't compare book to a non book\"\u001b[0m\u001b[0;34m)\u001b[0m\u001b[0;34m\u001b[0m\u001b[0;34m\u001b[0m\u001b[0m\n\u001b[0m\u001b[1;32m     10\u001b[0m         return (self.title == value.title and\n\u001b[1;32m     11\u001b[0m                 \u001b[0mself\u001b[0m\u001b[0;34m.\u001b[0m\u001b[0mauthor\u001b[0m \u001b[0;34m==\u001b[0m \u001b[0mvalue\u001b[0m\u001b[0;34m.\u001b[0m\u001b[0mauthor\u001b[0m \u001b[0;32mand\u001b[0m\u001b[0;34m\u001b[0m\u001b[0;34m\u001b[0m\u001b[0m\n",
      "\u001b[0;31mValueError\u001b[0m: Can't compare book to a non book"
     ]
    }
   ],
   "source": [
    "# Value error we mentioned above\n",
    "b1 == 23"
   ]
  },
  {
   "cell_type": "code",
   "execution_count": 124,
   "id": "426bae92",
   "metadata": {
    "slideshow": {
     "slide_type": "slide"
    }
   },
   "outputs": [],
   "source": [
    "class Book:\n",
    "    def __init__(self, title, author, price):\n",
    "        super().__init__()\n",
    "        self.title = title\n",
    "        self.author = author\n",
    "        self.price = price\n",
    "    def __eq__(self, value):\n",
    "        if not isinstance(value, Book):\n",
    "            raise ValueError(\"Can't compare book to a non book\")\n",
    "        return (self.title == value.title and\n",
    "                self.author == value.author and\n",
    "                self.price == value.price)\n",
    "    \n",
    "    # add 'greater than or equal' function:\n",
    "    \n",
    "    def __ge__(self, value):\n",
    "        if not isinstance(value, Book):\n",
    "            raise ValueError(\"Can't compare book to a non book\")\n",
    "        return self.price >= value.price\n",
    "    \n",
    "    # add 'less than' function:\n",
    "    \n",
    "    def __lt__(self, value):\n",
    "        if not isinstance(value, Book):\n",
    "            raise ValueError(\"Can't compare book to a non book\")\n",
    "        return self.price < value.price"
   ]
  },
  {
   "cell_type": "code",
   "execution_count": 125,
   "id": "d637fe06",
   "metadata": {
    "slideshow": {
     "slide_type": "slide"
    }
   },
   "outputs": [],
   "source": [
    "b1 = Book(\"War and Peace\", \"Leo Tolstoy\", 39.95)\n",
    "b2 = Book(\"The Catcher in the Rye\", \"JD Salinger\", 29.95)\n",
    "b3 = Book(\"War and Peace\", \"Leo Tolstoy\", 39.95)\n",
    "b4 = Book(\"To Kill a Mockingbird\", \"Harper Lee\", 24.95)"
   ]
  },
  {
   "cell_type": "code",
   "execution_count": 126,
   "id": "b208a259",
   "metadata": {
    "slideshow": {
     "slide_type": "fragment"
    }
   },
   "outputs": [
    {
     "data": {
      "text/plain": [
       "False"
      ]
     },
     "execution_count": 126,
     "metadata": {},
     "output_type": "execute_result"
    }
   ],
   "source": [
    "b2 >= b1"
   ]
  },
  {
   "cell_type": "code",
   "execution_count": 127,
   "id": "5eb54bbc",
   "metadata": {
    "slideshow": {
     "slide_type": "fragment"
    }
   },
   "outputs": [
    {
     "data": {
      "text/plain": [
       "True"
      ]
     },
     "execution_count": 127,
     "metadata": {},
     "output_type": "execute_result"
    }
   ],
   "source": [
    "b2 < b1"
   ]
  },
  {
   "cell_type": "markdown",
   "id": "28ca8313",
   "metadata": {
    "slideshow": {
     "slide_type": "slide"
    }
   },
   "source": [
    "In adddition to __ge__ and __lt__ there are many other comparison functions."
   ]
  },
  {
   "cell_type": "markdown",
   "id": "3af8d315",
   "metadata": {
    "slideshow": {
     "slide_type": "slide"
    }
   },
   "source": [
    "We can also sort the books now."
   ]
  },
  {
   "cell_type": "code",
   "execution_count": 128,
   "id": "37fc612c",
   "metadata": {
    "slideshow": {
     "slide_type": "fragment"
    }
   },
   "outputs": [],
   "source": [
    "books = [b1, b3, b2, b4]"
   ]
  },
  {
   "cell_type": "code",
   "execution_count": 129,
   "id": "72606b8b",
   "metadata": {
    "slideshow": {
     "slide_type": "fragment"
    }
   },
   "outputs": [],
   "source": [
    "books.sort()"
   ]
  },
  {
   "cell_type": "code",
   "execution_count": 130,
   "id": "92ea779e",
   "metadata": {
    "slideshow": {
     "slide_type": "fragment"
    }
   },
   "outputs": [
    {
     "data": {
      "text/plain": [
       "['To Kill a Mockingbird',\n",
       " 'The Catcher in the Rye',\n",
       " 'War and Peace',\n",
       " 'War and Peace']"
      ]
     },
     "execution_count": 130,
     "metadata": {},
     "output_type": "execute_result"
    }
   ],
   "source": [
    "[book.title for book in books]"
   ]
  },
  {
   "cell_type": "markdown",
   "id": "ff8d8aa7",
   "metadata": {
    "slideshow": {
     "slide_type": "slide"
    }
   },
   "source": [
    "More methods are documented in Python's [Data Model](https://docs.python.org/3/reference/datamodel.html)."
   ]
  },
  {
   "cell_type": "markdown",
   "id": "3741d062",
   "metadata": {
    "slideshow": {
     "slide_type": "slide"
    }
   },
   "source": [
    "### Callable Objects"
   ]
  },
  {
   "cell_type": "code",
   "execution_count": 132,
   "id": "2d024466",
   "metadata": {
    "slideshow": {
     "slide_type": "slide"
    }
   },
   "outputs": [],
   "source": [
    "class Book:\n",
    "    def __init__(self, title, author, price):\n",
    "        super().__init__()\n",
    "        self.title = title\n",
    "        self.author = author\n",
    "        self.price = price\n",
    "\n",
    "    def __str__(self):\n",
    "        return f\"{self.title} by {self.author}, costs {self.price}\"\n",
    "\n",
    "    # add the __call__ method to call the object like a function:\n",
    "    \n",
    "    def __call__(self, title, author, price):\n",
    "        self.title = title\n",
    "        self.author = author\n",
    "        self.price = price\n",
    "\n",
    "\n",
    "b1 = Book(\"War and Peace\", \"Leo Tolstoy\", 39.95)\n",
    "b2 = Book(\"The Catcher in the Rye\", \"JD Salinger\", 29.95)"
   ]
  },
  {
   "cell_type": "code",
   "execution_count": 133,
   "id": "055cef1a",
   "metadata": {
    "slideshow": {
     "slide_type": "slide"
    }
   },
   "outputs": [
    {
     "name": "stdout",
     "output_type": "stream",
     "text": [
      "War and Peace by Leo Tolstoy, costs 39.95\n"
     ]
    }
   ],
   "source": [
    "print(b1)"
   ]
  },
  {
   "cell_type": "code",
   "execution_count": 134,
   "id": "2ce20cac",
   "metadata": {
    "slideshow": {
     "slide_type": "fragment"
    }
   },
   "outputs": [],
   "source": [
    "# call b1 obejct like a usual python function call\n",
    "b1('Anna Karenina', 'Leo Tolstoy', 45)"
   ]
  },
  {
   "cell_type": "code",
   "execution_count": 135,
   "id": "0853f302",
   "metadata": {
    "slideshow": {
     "slide_type": "fragment"
    }
   },
   "outputs": [
    {
     "name": "stdout",
     "output_type": "stream",
     "text": [
      "Anna Karenina by Leo Tolstoy, costs 45\n"
     ]
    }
   ],
   "source": [
    "print(b1)\n",
    "# b1 has changed"
   ]
  },
  {
   "cell_type": "markdown",
   "id": "9f2267f7",
   "metadata": {
    "slideshow": {
     "slide_type": "slide"
    }
   },
   "source": [
    "## QUIZ"
   ]
  },
  {
   "cell_type": "markdown",
   "id": "efa9aa5c",
   "metadata": {
    "slideshow": {
     "slide_type": "slide"
    }
   },
   "source": [
    "I. It is preferable to use the repr() method over the str() method when:\n",
    "\n",
    "1. you want to highlight debugging statements during development\n",
    "\n",
    "2. you want to suppress debugging statements in a production build\n",
    "\n",
    "3. you need an exact representation of the object during development and debugging tasks\n",
    "\n",
    "4. you need an informal representation of the object during development and debugging tasks"
   ]
  },
  {
   "cell_type": "markdown",
   "id": "6a15e9de",
   "metadata": {
    "slideshow": {
     "slide_type": "slide"
    }
   },
   "source": [
    "II. Which situation is made possible by the Python magic method?\n",
    "\n",
    "1. You can use the || operator to check whether two objects are Boolean types.\n",
    "2. You can use the == operator to check whether two objects are equal.\n",
    "3. You can use '()' to call attributes, such as methods.\n",
    "4. You can use the != operator to check whether two objects exist."
   ]
  },
  {
   "cell_type": "markdown",
   "id": "ee54c7b5",
   "metadata": {
    "slideshow": {
     "slide_type": "slide"
    }
   },
   "source": [
    "Quiz answers:\n",
    "\n",
    "I - 3\n",
    "\n",
    "II - 2"
   ]
  },
  {
   "cell_type": "markdown",
   "id": "4693f739",
   "metadata": {
    "slideshow": {
     "slide_type": "slide"
    }
   },
   "source": [
    "# Debugging"
   ]
  },
  {
   "cell_type": "markdown",
   "id": "5d934f12",
   "metadata": {
    "slideshow": {
     "slide_type": "slide"
    }
   },
   "source": [
    "## Choosing Test Cases"
   ]
  },
  {
   "cell_type": "markdown",
   "id": "610b76b5",
   "metadata": {
    "slideshow": {
     "slide_type": "slide"
    }
   },
   "source": [
    "Let us consider `boiling_temp()` function we looked at earlier. "
   ]
  },
  {
   "cell_type": "code",
   "execution_count": 136,
   "id": "1e5b2c0c",
   "metadata": {
    "slideshow": {
     "slide_type": "fragment"
    }
   },
   "outputs": [],
   "source": [
    "def boiling_temp(number):\n",
    "    '''\n",
    "    Returns True if and only if the temperature is above 100 degrees Celcius.\n",
    "    >>> boiling_temp(90)\n",
    "    False\n",
    "    >>> boiling_temp(105)\n",
    "    True\n",
    "    '''\n",
    "    return number > 100"
   ]
  },
  {
   "cell_type": "markdown",
   "id": "9b738a9e",
   "metadata": {
    "slideshow": {
     "slide_type": "fragment"
    }
   },
   "source": [
    "Since water boiling temperature is above 100 degrees Celcius, the function checks for temperatures greater than 100. What cases does it make sense to test for? Should we test for the temperature being 0? Negative 10? 1000? Since the function returns strictly greater than 100, our test cases should be around 100: greater than and less than. We can also test for 100 if we choose to."
   ]
  },
  {
   "cell_type": "markdown",
   "id": "cd1f7659",
   "metadata": {
    "slideshow": {
     "slide_type": "slide"
    }
   },
   "source": [
    "Look at the next function. What test cases can we suggest?"
   ]
  },
  {
   "cell_type": "code",
   "execution_count": 137,
   "id": "9b37ec8d",
   "metadata": {
    "slideshow": {
     "slide_type": "fragment"
    }
   },
   "outputs": [],
   "source": [
    "def boiling_temp(number):\n",
    "    '''\n",
    "    Returns True if and only if the temperature is above 100 degrees Celcius.\n",
    "    \n",
    "    '''\n",
    "    return number >= 100"
   ]
  },
  {
   "cell_type": "markdown",
   "id": "91d28896",
   "metadata": {
    "slideshow": {
     "slide_type": "slide"
    }
   },
   "source": [
    "When choosing test cases consider:\n",
    "\n",
    "1. size;\n",
    "2. dichotomoies;\n",
    "3. boundary cases;\n",
    "4. order."
   ]
  },
  {
   "cell_type": "markdown",
   "id": "14e5b464",
   "metadata": {
    "slideshow": {
     "slide_type": "slide"
    }
   },
   "source": [
    "## Doctest module"
   ]
  },
  {
   "cell_type": "code",
   "execution_count": 140,
   "id": "4211477a",
   "metadata": {
    "slideshow": {
     "slide_type": "slide"
    }
   },
   "outputs": [],
   "source": [
    "import doctest\n",
    "# doctest module runs tests on the test cases written out in the function documentation."
   ]
  },
  {
   "cell_type": "code",
   "execution_count": 141,
   "id": "c38ad532",
   "metadata": {
    "slideshow": {
     "slide_type": "slide"
    }
   },
   "outputs": [],
   "source": [
    "def boiling_temp(number):\n",
    "    '''\n",
    "    Returns True if and only if the temperature is above 100 degrees Celcius.\n",
    "    >>> boiling_temp(90)\n",
    "    False\n",
    "    >>> boiling_temp(105)\n",
    "    True\n",
    "    '''\n",
    "    return number > 100"
   ]
  },
  {
   "cell_type": "code",
   "execution_count": 142,
   "id": "8b8b2dbc",
   "metadata": {
    "slideshow": {
     "slide_type": "fragment"
    }
   },
   "outputs": [
    {
     "data": {
      "text/plain": [
       "TestResults(failed=0, attempted=2)"
      ]
     },
     "execution_count": 142,
     "metadata": {},
     "output_type": "execute_result"
    }
   ],
   "source": [
    "doctest.testmod()"
   ]
  },
  {
   "cell_type": "markdown",
   "id": "627652e5",
   "metadata": {
    "slideshow": {
     "slide_type": "fragment"
    }
   },
   "source": [
    "Our two tests passed!"
   ]
  },
  {
   "cell_type": "markdown",
   "id": "84df76a8",
   "metadata": {
    "slideshow": {
     "slide_type": "slide"
    }
   },
   "source": [
    "Let's add an error in the test cases to see `doctest` in action."
   ]
  },
  {
   "cell_type": "code",
   "execution_count": 145,
   "id": "b1d2d459",
   "metadata": {
    "slideshow": {
     "slide_type": "fragment"
    }
   },
   "outputs": [],
   "source": [
    "def boiling_temp(number):\n",
    "    '''\n",
    "    Returns True if and only if the temperature is above 100 degrees Celcius.\n",
    "    >>> boiling_temp(90)\n",
    "    True\n",
    "    >>> boiling_temp(105)\n",
    "    True\n",
    "    '''\n",
    "    return number > 100"
   ]
  },
  {
   "cell_type": "code",
   "execution_count": 146,
   "id": "3d85cf4e",
   "metadata": {
    "slideshow": {
     "slide_type": "fragment"
    }
   },
   "outputs": [
    {
     "name": "stdout",
     "output_type": "stream",
     "text": [
      "**********************************************************************\n",
      "File \"__main__\", line 4, in __main__.boiling_temp\n",
      "Failed example:\n",
      "    boiling_temp(90)\n",
      "Expected:\n",
      "    True\n",
      "Got:\n",
      "    False\n",
      "**********************************************************************\n",
      "1 items had failures:\n",
      "   1 of   2 in __main__.boiling_temp\n",
      "***Test Failed*** 1 failures.\n"
     ]
    },
    {
     "data": {
      "text/plain": [
       "TestResults(failed=1, attempted=2)"
      ]
     },
     "execution_count": 146,
     "metadata": {},
     "output_type": "execute_result"
    }
   ],
   "source": [
    "doctest.testmod()"
   ]
  },
  {
   "cell_type": "markdown",
   "id": "d97baec4",
   "metadata": {
    "slideshow": {
     "slide_type": "slide"
    }
   },
   "source": [
    "## Unittest module"
   ]
  },
  {
   "cell_type": "markdown",
   "id": "df86bb67",
   "metadata": {
    "slideshow": {
     "slide_type": "slide"
    }
   },
   "source": [
    "`unittest` is another module that tests functions. We will use the `temperature` module we created in the Modules section of the course. We are going to use our knowledge of object-oriented programming and build a class."
   ]
  },
  {
   "cell_type": "code",
   "execution_count": 3,
   "id": "60877b5a",
   "metadata": {
    "slideshow": {
     "slide_type": "fragment"
    }
   },
   "outputs": [],
   "source": [
    "import unittest\n",
    "import temperature"
   ]
  },
  {
   "cell_type": "code",
   "execution_count": 4,
   "id": "d677a61b",
   "metadata": {
    "slideshow": {
     "slide_type": "slide"
    }
   },
   "outputs": [
    {
     "name": "stderr",
     "output_type": "stream",
     "text": [
      "...\n",
      "----------------------------------------------------------------------\n",
      "Ran 3 tests in 0.002s\n",
      "\n",
      "OK\n"
     ]
    },
    {
     "data": {
      "text/plain": [
       "<unittest.main.TestProgram at 0x7fcc3f914f70>"
      ]
     },
     "execution_count": 4,
     "metadata": {},
     "output_type": "execute_result"
    }
   ],
   "source": [
    "class TestAboveFreezing(unittest.TestCase):\n",
    "    \"\"\"Tests for temperature.above_freezing.\"\"\"\n",
    "    def test_above_freezing_above(self):\n",
    "        \"\"\"Test a temperature that is above freezing.\"\"\"\n",
    "        expected = True\n",
    "        actual = temperature.above_freezing(5)\n",
    "        self.assertEqual(expected, actual, \"The temperature is above freezing.\")\n",
    "    def test_above_freezing_below(self):\n",
    "        \"\"\"Test a temperature that is below freezing.\"\"\"\n",
    "        expected = False\n",
    "        actual = temperature.above_freezing(-10)\n",
    "        self.assertEqual(expected, actual, \"The temperature is below freezing.\")\n",
    "    def test_above_freezing_at_zero(self):\n",
    "        \"\"\"Test a temperature that is at freezing.\"\"\"\n",
    "        expected = False\n",
    "        actual = temperature.above_freezing(0)\n",
    "        self.assertEqual(expected, actual, \"The temperature is at the freezing mark.\")\n",
    "unittest.main(argv=['first-arg-is-ignored'], exit=False)"
   ]
  },
  {
   "cell_type": "markdown",
   "id": "fc0cb610",
   "metadata": {
    "slideshow": {
     "slide_type": "slide"
    }
   },
   "source": [
    "Three dots means three tests were run.\n",
    "\n",
    "We add `argv=['first-arg-is-ignored']` here as we run the unittest from Jupyter Notebook. In Python IDLE `unittest.main()` will work."
   ]
  },
  {
   "cell_type": "markdown",
   "id": "9d2bedf7",
   "metadata": {
    "slideshow": {
     "slide_type": "slide"
    }
   },
   "source": [
    "Advantages of `unittest` over `doctest`:\n",
    "\n",
    "- We can keep the test code separate from the code being tested.\n",
    "\n",
    "- We can keep the tests independent of each other.\n",
    "\n",
    "- We can document individual test case."
   ]
  },
  {
   "cell_type": "markdown",
   "id": "ed69a461",
   "metadata": {
    "slideshow": {
     "slide_type": "slide"
    }
   },
   "source": [
    "## PRACTICE IN YOUR NOTEBOOK"
   ]
  },
  {
   "cell_type": "markdown",
   "id": "e2ba62a8",
   "metadata": {
    "slideshow": {
     "slide_type": "slide"
    }
   },
   "source": [
    "Please go through Case Study: Running Sum on page 309 *Practical Programming: An Introduction to Computer Science Using Python 3.6*."
   ]
  },
  {
   "cell_type": "markdown",
   "id": "ee3ad381",
   "metadata": {
    "slideshow": {
     "slide_type": "slide"
    }
   },
   "source": [
    "## Home Reading"
   ]
  },
  {
   "cell_type": "markdown",
   "id": "318c5f00",
   "metadata": {
    "slideshow": {
     "slide_type": "slide"
    }
   },
   "source": [
    "Please go through Chapter 12 *Designing Algorithms* on your own. The chapter introduces *top-down* method and re-iterates our learning so far."
   ]
  },
  {
   "cell_type": "markdown",
   "id": "5b3b0d38",
   "metadata": {
    "slideshow": {
     "slide_type": "slide"
    }
   },
   "source": [
    "# References\n",
    "\n",
    "- Chapter 12, 14 and 15, Gries, Campbell, and Montojo, 2017, *Practical Programming: An Introduction to Computer Science Using Python 3.6*\n",
    "- Marini, 2020, Python Object-Oriented Programming LinkedIn course"
   ]
  }
 ],
 "metadata": {
  "celltoolbar": "Slideshow",
  "kernelspec": {
   "display_name": "Python 3 (ipykernel)",
   "language": "python",
   "name": "python3"
  },
  "language_info": {
   "codemirror_mode": {
    "name": "ipython",
    "version": 3
   },
   "file_extension": ".py",
   "mimetype": "text/x-python",
   "name": "python",
   "nbconvert_exporter": "python",
   "pygments_lexer": "ipython3",
   "version": "3.9.7"
  }
 },
 "nbformat": 4,
 "nbformat_minor": 5
}
