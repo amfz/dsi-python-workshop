{
 "cells": [
  {
   "cell_type": "markdown",
   "id": "5c11a3a7",
   "metadata": {
    "slideshow": {
     "slide_type": "slide"
    }
   },
   "source": [
    "## Module 4: Python\n",
    "\n",
    "\n",
    "# What We Can Do With Data\n",
    "## READING and WRITING FILES\n",
    "<br>\n",
    "\n",
    "Asel Kushkeyeva<br>\n",
    "Data Science Institute, University of Toronto<br>\n",
    "2022"
   ]
  },
  {
   "cell_type": "markdown",
   "id": "9a037d07",
   "metadata": {
    "slideshow": {
     "slide_type": "slide"
    }
   },
   "source": [
    "### Jupyter Notebook as a Slideshow\n",
    "\n",
    "To see this notebook as a live slideshow, we need to install RISE (Reveal.js - Jupyter/IPython Slideshow Extension):\n",
    "\n",
    "1. Insert a cell and execute the following code: `conda install -c conda-forge rise`\n",
    "2. Restart the Jupyter Notebook.\n",
    "3. On the top of your notebook you have a new icon that looks like a bar chart; hover over the icon to see 'Enter/Exit RISE Slideshow'.\n",
    "4. Click on the RISE icon and enjoy the slideshow.\n",
    "5. You can edit the notebook in a slideshow mode by double clicking the line.\n",
    "*This is done only once. Now all your notebooks will have the RISE extension (unless you re-install the Jupyter Notebook).*"
   ]
  },
  {
   "cell_type": "markdown",
   "id": "e77e91ef",
   "metadata": {
    "slideshow": {
     "slide_type": "slide"
    }
   },
   "source": [
    "# Agenda\n",
    "\n",
    "1. Reading Files\n",
    "2. Writing Files"
   ]
  },
  {
   "cell_type": "markdown",
   "id": "1e1f1be1",
   "metadata": {
    "slideshow": {
     "slide_type": "slide"
    }
   },
   "source": [
    "# We Can Read and Write Files"
   ]
  },
  {
   "cell_type": "markdown",
   "id": "2f39b569",
   "metadata": {
    "slideshow": {
     "slide_type": "slide"
    }
   },
   "source": [
    "Few things to consider while working with files:"
   ]
  },
  {
   "cell_type": "markdown",
   "id": "d04fdeee",
   "metadata": {
    "slideshow": {
     "slide_type": "fragment"
    }
   },
   "source": [
    "- File paths consist of folder path, file name, and extension.\n",
    "<br>\n",
    "\n",
    "For example, the current Jupyter Notebook's file path could be user/name/Desktop/DataScienceInstitute/whatcanwedowithdata.ipynb. Folder path is *users/name/Desktop/DataScienceInstitute/*; file name is *whatcanwedowithdata*; extension is *.ipynb*."
   ]
  },
  {
   "cell_type": "code",
   "execution_count": 18,
   "id": "a8892648",
   "metadata": {
    "slideshow": {
     "slide_type": "slide"
    }
   },
   "outputs": [
    {
     "data": {
      "text/plain": [
       "'/Users/aselkushkeyeva/Desktop/DSI'"
      ]
     },
     "execution_count": 18,
     "metadata": {},
     "output_type": "execute_result"
    }
   ],
   "source": [
    "# to display the current working directory\n",
    "import os\n",
    "os.getcwd()"
   ]
  },
  {
   "cell_type": "markdown",
   "id": "98b569c0",
   "metadata": {
    "slideshow": {
     "slide_type": "fragment"
    }
   },
   "source": [
    "To change working directory: os.chdir('new file path')"
   ]
  },
  {
   "cell_type": "markdown",
   "id": "6876de55",
   "metadata": {
    "slideshow": {
     "slide_type": "slide"
    }
   },
   "source": [
    "To work with a file in the directory above the current:\n",
    "<br>\n",
    "\n",
    "__../DSI/whatcanwedowithdata.ipynb__\n",
    "\n",
    "<br>\n",
    "\n",
    "And two directories above:\n",
    "<br>\n",
    "\n",
    "__../../DSI/whatcanwedowithdata.ipynb__"
   ]
  },
  {
   "cell_type": "markdown",
   "id": "c37e5a89",
   "metadata": {
    "slideshow": {
     "slide_type": "slide"
    }
   },
   "source": [
    "- Line endings.\n",
    "<br>\n",
    "\n",
    "Carriage return __\\r__ and new line __\\n__ symbols indicate end of line differently on Windows and Unix. We may need to account for such situations."
   ]
  },
  {
   "cell_type": "markdown",
   "id": "7e0fb139",
   "metadata": {
    "slideshow": {
     "slide_type": "fragment"
    }
   },
   "source": [
    "- Character encoding.\n",
    "<br>\n",
    "\n",
    "The most common systems of encodings are ASCII and UNICODE. Our code might throw an error if we are trying to parse a code using ASCII that was encoded by UNICODE. "
   ]
  },
  {
   "cell_type": "markdown",
   "id": "59ee87c6",
   "metadata": {
    "slideshow": {
     "slide_type": "slide"
    }
   },
   "source": [
    "## Reading files"
   ]
  },
  {
   "cell_type": "markdown",
   "id": "209feea9",
   "metadata": {
    "slideshow": {
     "slide_type": "slide"
    }
   },
   "source": [
    "__open('abc.txt')__ is the code to open a file in Python. `open` is a built-in function that requires one argument -- file path. In our case the file path is *'abc.txt'*."
   ]
  },
  {
   "cell_type": "markdown",
   "id": "974b2b0a",
   "metadata": {
    "slideshow": {
     "slide_type": "fragment"
    }
   },
   "source": [
    "After opening a file and completing any work with it, the file needs to be closed. *close()* method does it for us. There is a cleaner way to open and close files: the *with* statement."
   ]
  },
  {
   "cell_type": "code",
   "execution_count": 15,
   "id": "30876112",
   "metadata": {
    "slideshow": {
     "slide_type": "slide"
    }
   },
   "outputs": [
    {
     "ename": "IndentationError",
     "evalue": "expected an indented block (3111970361.py, line 4)",
     "output_type": "error",
     "traceback": [
      "\u001b[0;36m  File \u001b[0;32m\"/var/folders/1l/0mv3_kgn13d1cztjd0_17gpc0000gn/T/ipykernel_1534/3111970361.py\"\u001b[0;36m, line \u001b[0;32m4\u001b[0m\n\u001b[0;31m    #this code will result in a error as we do not have the abc.txt file in the current directory.\u001b[0m\n\u001b[0m                                                                                                  ^\u001b[0m\n\u001b[0;31mIndentationError\u001b[0m\u001b[0;31m:\u001b[0m expected an indented block\n"
     ]
    }
   ],
   "source": [
    "with open('abc.txt', 'r') as abc_file:\n",
    "    # some file processing goes here\n",
    "    \n",
    "# this code will result in a error as this is a partial statement,\n",
    "# and we do not have the abc.txt file in the current directory."
   ]
  },
  {
   "cell_type": "markdown",
   "id": "9bea235b",
   "metadata": {
    "slideshow": {
     "slide_type": "fragment"
    }
   },
   "source": [
    "__'r'__ tells Python to only read the file. We replace __'r'__ with __'w'__ if we want to write a file, and __'a'__ for adding information to an existing file."
   ]
  },
  {
   "cell_type": "markdown",
   "id": "99a3d506",
   "metadata": {
    "slideshow": {
     "slide_type": "slide"
    }
   },
   "source": [
    "### Methods to read files:\n",
    "\n",
    "- .read() -- reads an entire file.\n",
    "- .readline() -- reads each line.\n",
    "- .readlines() -- reads each line and returns them as a list."
   ]
  },
  {
   "cell_type": "markdown",
   "id": "1a10dfbf",
   "metadata": {
    "slideshow": {
     "slide_type": "slide"
    }
   },
   "source": [
    "### *for* loop to read line by line"
   ]
  },
  {
   "cell_type": "code",
   "execution_count": null,
   "id": "6626a3f1",
   "metadata": {
    "slideshow": {
     "slide_type": "fragment"
    }
   },
   "outputs": [],
   "source": [
    "with open('abc.txt', 'r') as abc_file:\n",
    "    for line in abc_file:\n",
    "        print(line)\n",
    "    # some file processing goes here\n",
    "    \n",
    "# this code will result in a error as this is a partial statement,\n",
    "# and we do not have the abc.txt file in the current directory."
   ]
  },
  {
   "cell_type": "markdown",
   "id": "efea523d",
   "metadata": {
    "slideshow": {
     "slide_type": "slide"
    }
   },
   "source": [
    "*An exercise with a txt file*"
   ]
  },
  {
   "cell_type": "markdown",
   "id": "b80e2d7f",
   "metadata": {
    "slideshow": {
     "slide_type": "slide"
    }
   },
   "source": [
    "To read csv files:"
   ]
  },
  {
   "cell_type": "code",
   "execution_count": null,
   "id": "ed21fd33",
   "metadata": {
    "slideshow": {
     "slide_type": "fragment"
    }
   },
   "outputs": [],
   "source": [
    "import csv\n",
    "with open('123.csv', 'r', newline = '') as number_file:\n",
    "    contents = csv.reader(number_file)\n",
    "    for row in contents:\n",
    "        print(row)\n",
    "# as usual please replace '123.csv' with an existing file in the current directory for this code to work."
   ]
  },
  {
   "cell_type": "markdown",
   "id": "e811f56f",
   "metadata": {
    "slideshow": {
     "slide_type": "slide"
    }
   },
   "source": [
    "## PRACTICE IN YOUR NOTEBOOK"
   ]
  },
  {
   "cell_type": "markdown",
   "id": "a14ad054",
   "metadata": {
    "slideshow": {
     "slide_type": "slide"
    }
   },
   "source": [
    "A *with open* and *for* loop exercise with a *txt* file."
   ]
  },
  {
   "cell_type": "markdown",
   "id": "728d372f",
   "metadata": {
    "slideshow": {
     "slide_type": "slide"
    }
   },
   "source": [
    "## Writing to Files"
   ]
  },
  {
   "cell_type": "code",
   "execution_count": 1,
   "id": "d523b622",
   "metadata": {
    "slideshow": {
     "slide_type": "slide"
    }
   },
   "outputs": [],
   "source": [
    "with open('fruits.txt', 'w') as fruit_file:\n",
    "    fruit_file.write('tangerines')"
   ]
  },
  {
   "cell_type": "markdown",
   "id": "caa152c4",
   "metadata": {
    "slideshow": {
     "slide_type": "fragment"
    }
   },
   "source": [
    "That's it! We created a txt file *fruits* in the current working directory. The *fruits* file contain string 'tangerines'."
   ]
  },
  {
   "cell_type": "markdown",
   "id": "412dacf2",
   "metadata": {
    "slideshow": {
     "slide_type": "slide"
    }
   },
   "source": [
    "__Warning!__ Writing a file with *'w'* will create a new file. In case a file already exist, 'w' will overwrite the entire file."
   ]
  },
  {
   "cell_type": "markdown",
   "id": "07284981",
   "metadata": {
    "slideshow": {
     "slide_type": "slide"
    }
   },
   "source": [
    "To add content to *fruits*:"
   ]
  },
  {
   "cell_type": "code",
   "execution_count": 3,
   "id": "b2f06a5d",
   "metadata": {
    "slideshow": {
     "slide_type": "fragment"
    }
   },
   "outputs": [],
   "source": [
    "with open('fruits.txt', 'a') as fruit_file:\n",
    "    fruit_file.write('dragon fruit')"
   ]
  },
  {
   "cell_type": "markdown",
   "id": "c8b32805",
   "metadata": {
    "slideshow": {
     "slide_type": "slide"
    }
   },
   "source": [
    "Right now the *fruit* file contains the following: \n",
    "<br>\n",
    "\n",
    "tangerinesdragon fruit"
   ]
  },
  {
   "cell_type": "markdown",
   "id": "40f5453f",
   "metadata": {
    "slideshow": {
     "slide_type": "fragment"
    }
   },
   "source": [
    "For a content to appear on a new line:"
   ]
  },
  {
   "cell_type": "code",
   "execution_count": 4,
   "id": "5425b016",
   "metadata": {
    "slideshow": {
     "slide_type": "fragment"
    }
   },
   "outputs": [],
   "source": [
    "with open('fruits.txt', 'a') as fruit_file:\n",
    "    fruit_file.write('\\napples')"
   ]
  },
  {
   "cell_type": "markdown",
   "id": "9c0eeec5",
   "metadata": {
    "slideshow": {
     "slide_type": "slide"
    }
   },
   "source": [
    "# References\n",
    "\n",
    "- Chapter 10, Gries, Campbell, and Montojo, 2017, *Practical Programming: An Introduction to Computer Science Using Python 3.6*"
   ]
  }
 ],
 "metadata": {
  "celltoolbar": "Slideshow",
  "kernelspec": {
   "display_name": "Python 3 (ipykernel)",
   "language": "python",
   "name": "python3"
  },
  "language_info": {
   "codemirror_mode": {
    "name": "ipython",
    "version": 3
   },
   "file_extension": ".py",
   "mimetype": "text/x-python",
   "name": "python",
   "nbconvert_exporter": "python",
   "pygments_lexer": "ipython3",
   "version": "3.9.7"
  }
 },
 "nbformat": 4,
 "nbformat_minor": 5
}
