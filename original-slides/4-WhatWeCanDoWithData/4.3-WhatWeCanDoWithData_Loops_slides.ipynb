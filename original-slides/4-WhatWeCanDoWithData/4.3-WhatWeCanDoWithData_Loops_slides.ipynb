{
 "cells": [
  {
   "cell_type": "markdown",
   "metadata": {
    "slideshow": {
     "slide_type": "slide"
    }
   },
   "source": [
    "## Module 4: Python\n",
    "\n",
    "\n",
    "# What We Can Do With Data\n",
    "## LOOPS\n",
    "<br>\n",
    "\n",
    "Asel Kushkeyeva<br>\n",
    "Data Science Institute, University of Toronto<br>\n",
    "2022"
   ]
  },
  {
   "cell_type": "markdown",
   "metadata": {
    "slideshow": {
     "slide_type": "slide"
    }
   },
   "source": [
    "### Jupyter Notebook as a Slideshow\n",
    "\n",
    "To see this notebook as a live slideshow, we need to install RISE (Reveal.js - Jupyter/IPython Slideshow Extension):\n",
    "\n",
    "1. Insert a cell and execute the following code: `conda install -c conda-forge rise`\n",
    "2. Restart the Jupyter Notebook.\n",
    "3. On the top of your notebook you have a new icon that looks like a bar chart; hover over the icon to see 'Enter/Exit RISE Slideshow'.\n",
    "4. Click on the RISE icon and enjoy the slideshow.\n",
    "5. You can edit the notebook in a slideshow mode by double clicking the line.\n",
    "*This is done only once. Now all your notebooks will have the RISE extension (unless you re-install the Jupyter Notebook).*"
   ]
  },
  {
   "cell_type": "markdown",
   "metadata": {
    "slideshow": {
     "slide_type": "slide"
    }
   },
   "source": [
    "# Agenda\n",
    "\n",
    "1. for Loop\n",
    "2. Nested Loops\n",
    "3. while Loop\n",
    "4. input() in a Loop"
   ]
  },
  {
   "cell_type": "markdown",
   "metadata": {
    "slideshow": {
     "slide_type": "slide"
    }
   },
   "source": [
    "# We Can Repeat Code Using Loops"
   ]
  },
  {
   "cell_type": "markdown",
   "metadata": {
    "slideshow": {
     "slide_type": "slide"
    }
   },
   "source": [
    "## For Loop"
   ]
  },
  {
   "cell_type": "code",
   "execution_count": 15,
   "metadata": {
    "slideshow": {
     "slide_type": "slide"
    }
   },
   "outputs": [
    {
     "data": {
      "text/plain": [
       "[4.0, 3.4, 3.6, 3.2, 4.0, 2.3]"
      ]
     },
     "execution_count": 15,
     "metadata": {},
     "output_type": "execute_result"
    }
   ],
   "source": [
    "gpa = [4.0, 3.4, 3.6, 3.2, 4.0, 2.3]\n",
    "gpa"
   ]
  },
  {
   "cell_type": "markdown",
   "metadata": {
    "slideshow": {
     "slide_type": "fragment"
    }
   },
   "source": [
    "To print each GPA score:"
   ]
  },
  {
   "cell_type": "code",
   "execution_count": 16,
   "metadata": {
    "slideshow": {
     "slide_type": "fragment"
    }
   },
   "outputs": [
    {
     "name": "stdout",
     "output_type": "stream",
     "text": [
      "GPA score is : 4.0\n",
      "GPA score is : 3.4\n",
      "GPA score is : 3.6\n",
      "GPA score is : 3.2\n",
      "GPA score is : 4.0\n"
     ]
    }
   ],
   "source": [
    "print('GPA score is :', gpa[0])\n",
    "print('GPA score is :', gpa[1])\n",
    "print('GPA score is :', gpa[2])\n",
    "print('GPA score is :', gpa[3])\n",
    "print('GPA score is :', gpa[4])"
   ]
  },
  {
   "cell_type": "markdown",
   "metadata": {
    "slideshow": {
     "slide_type": "slide"
    }
   },
   "source": [
    "Imagine we have a giant list of all UofT students' GPA. How many lines of code do we need to print in this case?"
   ]
  },
  {
   "cell_type": "markdown",
   "metadata": {
    "slideshow": {
     "slide_type": "fragment"
    }
   },
   "source": [
    "A *__for__* loop can help us solve this task."
   ]
  },
  {
   "cell_type": "code",
   "execution_count": 17,
   "metadata": {
    "slideshow": {
     "slide_type": "fragment"
    }
   },
   "outputs": [
    {
     "name": "stdout",
     "output_type": "stream",
     "text": [
      "GPA score is : 4.0\n",
      "GPA score is : 3.4\n",
      "GPA score is : 3.6\n",
      "GPA score is : 3.2\n",
      "GPA score is : 4.0\n",
      "GPA score is : 2.3\n"
     ]
    }
   ],
   "source": [
    "for score in gpa:\n",
    "    print('GPA score is :', score)"
   ]
  },
  {
   "cell_type": "markdown",
   "metadata": {
    "slideshow": {
     "slide_type": "slide"
    }
   },
   "source": [
    "Similarly, we can loop over each character of a string ..."
   ]
  },
  {
   "cell_type": "code",
   "execution_count": 18,
   "metadata": {
    "slideshow": {
     "slide_type": "fragment"
    }
   },
   "outputs": [
    {
     "name": "stdout",
     "output_type": "stream",
     "text": [
      "S\n",
      "o\n",
      "u\n",
      "r\n",
      " \n",
      "P\n",
      "a\n",
      "t\n",
      "c\n",
      "h\n",
      " \n",
      "K\n",
      "i\n",
      "d\n",
      "s\n"
     ]
    }
   ],
   "source": [
    "candy = 'Sour Patch Kids'\n",
    "for char in candy:\n",
    "    print(char)"
   ]
  },
  {
   "cell_type": "markdown",
   "metadata": {
    "slideshow": {
     "slide_type": "slide"
    }
   },
   "source": [
    "... lists ..."
   ]
  },
  {
   "cell_type": "code",
   "execution_count": 19,
   "metadata": {},
   "outputs": [
    {
     "name": "stdout",
     "output_type": "stream",
     "text": [
      "Sour\n",
      "Patch\n",
      "Kids\n"
     ]
    }
   ],
   "source": [
    "candy_list = ['Sour', 'Patch', 'Kids']\n",
    "for c in candy_list:\n",
    "    print(c)"
   ]
  },
  {
   "cell_type": "markdown",
   "metadata": {
    "slideshow": {
     "slide_type": "slide"
    }
   },
   "source": [
    "... range of numbers."
   ]
  },
  {
   "cell_type": "code",
   "execution_count": 20,
   "metadata": {
    "slideshow": {
     "slide_type": "fragment"
    }
   },
   "outputs": [
    {
     "name": "stdout",
     "output_type": "stream",
     "text": [
      "0\n",
      "1\n",
      "2\n",
      "3\n",
      "4\n",
      "5\n",
      "6\n"
     ]
    }
   ],
   "source": [
    "numbers = range(7)\n",
    "for num in numbers:\n",
    "    print(num)"
   ]
  },
  {
   "cell_type": "markdown",
   "metadata": {
    "slideshow": {
     "slide_type": "slide"
    }
   },
   "source": [
    "### Range type"
   ]
  },
  {
   "cell_type": "code",
   "execution_count": 21,
   "metadata": {
    "slideshow": {
     "slide_type": "slide"
    }
   },
   "outputs": [
    {
     "data": {
      "text/plain": [
       "[0, 1, 2, 3, 4, 5, 6]"
      ]
     },
     "execution_count": 21,
     "metadata": {},
     "output_type": "execute_result"
    }
   ],
   "source": [
    "list(range(7))"
   ]
  },
  {
   "cell_type": "code",
   "execution_count": 22,
   "metadata": {
    "slideshow": {
     "slide_type": "fragment"
    }
   },
   "outputs": [
    {
     "data": {
      "text/plain": [
       "[1, 2, 3, 4, 5, 6]"
      ]
     },
     "execution_count": 22,
     "metadata": {},
     "output_type": "execute_result"
    }
   ],
   "source": [
    "list(range(1, 7))"
   ]
  },
  {
   "cell_type": "code",
   "execution_count": 23,
   "metadata": {
    "slideshow": {
     "slide_type": "fragment"
    }
   },
   "outputs": [
    {
     "data": {
      "text/plain": [
       "[1, 3, 5, 7, 9]"
      ]
     },
     "execution_count": 23,
     "metadata": {},
     "output_type": "execute_result"
    }
   ],
   "source": [
    "list(range(1, 10, 2))"
   ]
  },
  {
   "cell_type": "code",
   "execution_count": 24,
   "metadata": {
    "slideshow": {
     "slide_type": "fragment"
    }
   },
   "outputs": [
    {
     "data": {
      "text/plain": [
       "[10, 8, 6, 4, 2]"
      ]
     },
     "execution_count": 24,
     "metadata": {},
     "output_type": "execute_result"
    }
   ],
   "source": [
    "list(range(10, 1, -2))"
   ]
  },
  {
   "cell_type": "code",
   "execution_count": 25,
   "metadata": {
    "slideshow": {
     "slide_type": "fragment"
    }
   },
   "outputs": [
    {
     "data": {
      "text/plain": [
       "[]"
      ]
     },
     "execution_count": 25,
     "metadata": {},
     "output_type": "execute_result"
    }
   ],
   "source": [
    "list(range(1, 10, -2))"
   ]
  },
  {
   "cell_type": "markdown",
   "metadata": {
    "slideshow": {
     "slide_type": "slide"
    }
   },
   "source": [
    "### Loop over indices to change items in a list"
   ]
  },
  {
   "cell_type": "markdown",
   "metadata": {
    "slideshow": {
     "slide_type": "slide"
    }
   },
   "source": [
    "*Looping over list's indices is an important skill. We will use it extensively later in the course.*"
   ]
  },
  {
   "cell_type": "markdown",
   "metadata": {
    "slideshow": {
     "slide_type": "slide"
    }
   },
   "source": [
    "To double the values in `values`, we can try the following:"
   ]
  },
  {
   "cell_type": "code",
   "execution_count": 26,
   "metadata": {
    "slideshow": {
     "slide_type": "fragment"
    }
   },
   "outputs": [
    {
     "data": {
      "text/plain": [
       "[4, 10, 3, 8, -6]"
      ]
     },
     "execution_count": 26,
     "metadata": {},
     "output_type": "execute_result"
    }
   ],
   "source": [
    "values = [4, 10, 3, 8, -6]\n",
    "for num in values:\n",
    "    num = num * 2\n",
    "\n",
    "values"
   ]
  },
  {
   "cell_type": "markdown",
   "metadata": {
    "slideshow": {
     "slide_type": "fragment"
    }
   },
   "source": [
    "This does not change items of the list `values`."
   ]
  },
  {
   "cell_type": "markdown",
   "metadata": {
    "slideshow": {
     "slide_type": "slide"
    }
   },
   "source": [
    "To access indices of the list `values`, we will use function *range* on `values` length:"
   ]
  },
  {
   "cell_type": "code",
   "execution_count": 27,
   "metadata": {
    "slideshow": {
     "slide_type": "fragment"
    }
   },
   "outputs": [
    {
     "name": "stdout",
     "output_type": "stream",
     "text": [
      "0\n",
      "1\n",
      "2\n",
      "3\n",
      "4\n"
     ]
    }
   ],
   "source": [
    "for i in range(len(values)):\n",
    "    print(i)"
   ]
  },
  {
   "cell_type": "markdown",
   "metadata": {
    "slideshow": {
     "slide_type": "fragment"
    }
   },
   "source": [
    "Variable *i* stands for *index*. Finally, we can change the list's items:"
   ]
  },
  {
   "cell_type": "code",
   "execution_count": 28,
   "metadata": {
    "slideshow": {
     "slide_type": "fragment"
    }
   },
   "outputs": [
    {
     "data": {
      "text/plain": [
       "[8, 20, 6, 16, -12]"
      ]
     },
     "execution_count": 28,
     "metadata": {},
     "output_type": "execute_result"
    }
   ],
   "source": [
    "for i in range(len(values)):\n",
    "    values[i] = values[i] * 2\n",
    "    \n",
    "    \n",
    "values"
   ]
  },
  {
   "cell_type": "markdown",
   "metadata": {
    "slideshow": {
     "slide_type": "slide"
    }
   },
   "source": [
    "### Parallel lists"
   ]
  },
  {
   "cell_type": "code",
   "execution_count": 29,
   "metadata": {
    "slideshow": {
     "slide_type": "slide"
    }
   },
   "outputs": [],
   "source": [
    "cars = ['Toyota', 'BMW', 'Dodge', 'Jeep']\n",
    "year = [2022, 2020, 2021, 2022]"
   ]
  },
  {
   "cell_type": "code",
   "execution_count": 30,
   "metadata": {
    "slideshow": {
     "slide_type": "fragment"
    }
   },
   "outputs": [
    {
     "name": "stdout",
     "output_type": "stream",
     "text": [
      "Toyota 2022\n",
      "BMW 2020\n",
      "Dodge 2021\n",
      "Jeep 2022\n"
     ]
    }
   ],
   "source": [
    "for i in range(len(cars)):\n",
    "    print(cars[i], year[i])"
   ]
  },
  {
   "cell_type": "markdown",
   "metadata": {
    "slideshow": {
     "slide_type": "slide"
    }
   },
   "source": [
    "## Nested Loops"
   ]
  },
  {
   "cell_type": "code",
   "execution_count": 31,
   "metadata": {
    "slideshow": {
     "slide_type": "slide"
    }
   },
   "outputs": [
    {
     "name": "stdout",
     "output_type": "stream",
     "text": [
      "1+4\n",
      "1+5\n",
      "1+6\n",
      "2+4\n",
      "2+5\n",
      "2+6\n",
      "3+4\n",
      "3+5\n",
      "3+6\n"
     ]
    }
   ],
   "source": [
    "# note that the items in the list are of type string.\n",
    "outer = ['1+', '2+', '3+']\n",
    "inner = ['4', '5', '6']\n",
    "for numsign in outer:\n",
    "    for num in inner:\n",
    "        print(numsign + num)"
   ]
  },
  {
   "cell_type": "markdown",
   "metadata": {
    "slideshow": {
     "slide_type": "fragment"
    }
   },
   "source": [
    "The *for* loop prints each item of the `outer` list added to items of the `inner` list."
   ]
  },
  {
   "cell_type": "markdown",
   "metadata": {
    "slideshow": {
     "slide_type": "slide"
    }
   },
   "source": [
    "Multiplication table example:"
   ]
  },
  {
   "cell_type": "code",
   "execution_count": 32,
   "metadata": {
    "slideshow": {
     "slide_type": "fragment"
    }
   },
   "outputs": [],
   "source": [
    "def print_table(n: int)-> None:\n",
    "    \"\"\"Print the multiplication table for numbers 1 through n inclusive.\n",
    "    >>> print_table(3)\n",
    "      1 2  3 \n",
    "    1 1 2  3 \n",
    "    2 2 4  6\n",
    "    3 3 6  9\n",
    "    \"\"\"\n",
    "    # The numbers to include in the table.\n",
    "    numbers = list(range(1, n + 1))\n",
    "    # Print the header row.\n",
    "    for i in numbers:\n",
    "        print('\\t' + str(i), end='')\n",
    "    # End the header row.\n",
    "    print()\n",
    "    # Print each row number and the contents of each row.\n",
    "    for i in numbers:\n",
    "        print (i, end='')\n",
    "        for j in numbers:\n",
    "            print('\\t' + str(i * j), end='')\n",
    "        # End the current row.\n",
    "        print()"
   ]
  },
  {
   "cell_type": "code",
   "execution_count": 33,
   "metadata": {
    "slideshow": {
     "slide_type": "slide"
    }
   },
   "outputs": [
    {
     "name": "stdout",
     "output_type": "stream",
     "text": [
      "\t1\t2\t3\t4\t5\n",
      "1\t1\t2\t3\t4\t5\n",
      "2\t2\t4\t6\t8\t10\n",
      "3\t3\t6\t9\t12\t15\n",
      "4\t4\t8\t12\t16\t20\n",
      "5\t5\t10\t15\t20\t25\n"
     ]
    }
   ],
   "source": [
    "print_table(5)"
   ]
  },
  {
   "cell_type": "markdown",
   "metadata": {
    "slideshow": {
     "slide_type": "slide"
    }
   },
   "source": [
    "### Looping over nested lists\n",
    "<br>\n",
    "\n",
    "Depending on which items we need to access, we can write the following *for* loops:"
   ]
  },
  {
   "cell_type": "code",
   "execution_count": 34,
   "metadata": {
    "slideshow": {
     "slide_type": "slide"
    }
   },
   "outputs": [],
   "source": [
    "colors = [['yellow', 'red', 'orange'], ['blue', 'purple', 'violet']]"
   ]
  },
  {
   "cell_type": "markdown",
   "metadata": {
    "slideshow": {
     "slide_type": "fragment"
    }
   },
   "source": [
    "To print the two inner lists:"
   ]
  },
  {
   "cell_type": "code",
   "execution_count": 35,
   "metadata": {
    "slideshow": {
     "slide_type": "fragment"
    }
   },
   "outputs": [
    {
     "name": "stdout",
     "output_type": "stream",
     "text": [
      "['yellow', 'red', 'orange']\n",
      "['blue', 'purple', 'violet']\n"
     ]
    }
   ],
   "source": [
    "for inner_list in colors:\n",
    "    print(inner_list)"
   ]
  },
  {
   "cell_type": "markdown",
   "metadata": {
    "slideshow": {
     "slide_type": "slide"
    }
   },
   "source": [
    "To print each item of the two inner lists:"
   ]
  },
  {
   "cell_type": "code",
   "execution_count": 36,
   "metadata": {
    "slideshow": {
     "slide_type": "fragment"
    }
   },
   "outputs": [
    {
     "name": "stdout",
     "output_type": "stream",
     "text": [
      "yellow\n",
      "red\n",
      "orange\n",
      "blue\n",
      "purple\n",
      "violet\n"
     ]
    }
   ],
   "source": [
    "for inner_list in colors:\n",
    "    for items in inner_list:\n",
    "        print(items)"
   ]
  },
  {
   "cell_type": "markdown",
   "metadata": {
    "slideshow": {
     "slide_type": "slide"
    }
   },
   "source": [
    "### Ragged Lists"
   ]
  },
  {
   "cell_type": "markdown",
   "metadata": {
    "slideshow": {
     "slide_type": "slide"
    }
   },
   "source": [
    "Imagine we have a one week data of call logs of a tech support team."
   ]
  },
  {
   "cell_type": "code",
   "execution_count": 37,
   "metadata": {
    "slideshow": {
     "slide_type": "fragment"
    }
   },
   "outputs": [],
   "source": [
    "call_logs = [['8:00', '11:30', '14:00', '20:00'],\n",
    "            ['6:30', '12:00', '19:00'],\n",
    "            ['9:30', '11:00', '12:00', '12:30', '16:00', '22:00', '23:15'],\n",
    "            ['7:00', '10:30', '14:30', '20:00', '21:15'],\n",
    "            ['9:00'],\n",
    "            ['8:30', '12:30', '17:00', '21:00', '23:30'],\n",
    "            ['12:45', '21:00']]"
   ]
  },
  {
   "cell_type": "code",
   "execution_count": 38,
   "metadata": {
    "slideshow": {
     "slide_type": "slide"
    }
   },
   "outputs": [
    {
     "name": "stdout",
     "output_type": "stream",
     "text": [
      "8:00 11:30 14:00 20:00 \n",
      "6:30 12:00 19:00 \n",
      "9:30 11:00 12:00 12:30 16:00 22:00 23:15 \n",
      "7:00 10:30 14:30 20:00 21:15 \n",
      "9:00 \n",
      "8:30 12:30 17:00 21:00 23:30 \n",
      "12:45 21:00 \n"
     ]
    }
   ],
   "source": [
    "for day in call_logs:\n",
    "    for time in day:\n",
    "        print(time, end = ' ')\n",
    "    print()"
   ]
  },
  {
   "cell_type": "markdown",
   "metadata": {
    "slideshow": {
     "slide_type": "slide"
    }
   },
   "source": [
    "## PRACTICE IN YOUR NOTEBOOK"
   ]
  },
  {
   "cell_type": "markdown",
   "metadata": {
    "slideshow": {
     "slide_type": "slide"
    }
   },
   "source": [
    "Write a *for* loop to print all the values in the `rainbow_colors` list."
   ]
  },
  {
   "cell_type": "markdown",
   "metadata": {
    "slideshow": {
     "slide_type": "fragment"
    }
   },
   "source": [
    "Write separate *for* loops to print the inner lists and each item of the `students_per_class` list."
   ]
  },
  {
   "cell_type": "markdown",
   "metadata": {
    "slideshow": {
     "slide_type": "slide"
    }
   },
   "source": [
    "The following function doesn’t have a docstring, type annotations, or comments. Write enough of all three to make it easy for another programmer to understand. What the function does and how, and then compare your solution with those of at least two other people. How similar are they? Why do they differ?"
   ]
  },
  {
   "cell_type": "code",
   "execution_count": 39,
   "metadata": {
    "slideshow": {
     "slide_type": "fragment"
    }
   },
   "outputs": [],
   "source": [
    "def mystery_function(values):\n",
    "    result = []\n",
    "    for sublist in values:\n",
    "        result.append([sublist[0]])\n",
    "        for i in sublist[1:]:\n",
    "            result[-1].insert(0, i)\n",
    "    return result"
   ]
  },
  {
   "cell_type": "markdown",
   "metadata": {
    "slideshow": {
     "slide_type": "slide"
    }
   },
   "source": [
    "## While Loop"
   ]
  },
  {
   "cell_type": "markdown",
   "metadata": {
    "slideshow": {
     "slide_type": "slide"
    }
   },
   "source": [
    "*while* loops are used when we do not know number of iterations. For example, will the player choose to play one more time? A *while* loop is similar to an *if* statement in a sense that it controls the flow of a function/statement."
   ]
  },
  {
   "cell_type": "code",
   "execution_count": 40,
   "metadata": {
    "slideshow": {
     "slide_type": "fragment"
    }
   },
   "outputs": [
    {
     "name": "stdout",
     "output_type": "stream",
     "text": [
      "4\n",
      "3\n",
      "2\n",
      "1\n"
     ]
    }
   ],
   "source": [
    "turtles = 4\n",
    "while turtles > 0:\n",
    "    print(turtles)\n",
    "    turtles = turtles - 1"
   ]
  },
  {
   "cell_type": "markdown",
   "metadata": {
    "slideshow": {
     "slide_type": "slide"
    }
   },
   "source": [
    "### Infinite Loops\n",
    "<br>\n",
    "\n",
    "See what happens if we omit the last line of code in the turtles statement. Oops! We ran an infinite loop because that is what our *while* statement asked for -- since turtles equals to 4 there will always be greater than zero turtles! (Please remove hashtags and run the following cell.)\n",
    "<br>\n",
    "\n",
    "__NOTE__: To be able to continue working in this notebook, after running the next cell we need to exit the infinite loop. Go to Kernel -> Interrupt."
   ]
  },
  {
   "cell_type": "code",
   "execution_count": 52,
   "metadata": {
    "slideshow": {
     "slide_type": "fragment"
    }
   },
   "outputs": [],
   "source": [
    "#turtles = 4\n",
    "#while turtles > 0:\n",
    "    #print(turtles)"
   ]
  },
  {
   "attachments": {
    "infinite%20loop.png": {
     "image/png": "[encoded data removed]"
    }
   },
   "cell_type": "markdown",
   "metadata": {
    "slideshow": {
     "slide_type": "slide"
    }
   },
   "source": [
    "The infinite loop static image for reference:\n",
    "<br>\n",
    "\n",
    "\n",
    "![infinite%20loop.png](attachment:infinite%20loop.png)"
   ]
  },
  {
   "cell_type": "markdown",
   "metadata": {
    "slideshow": {
     "slide_type": "slide"
    }
   },
   "source": [
    "__Infinite loops__ are sometimes necessary. They are used extensively in gaming or to run a connection to a server. However, those applications are beyond the scope of this course."
   ]
  },
  {
   "cell_type": "markdown",
   "metadata": {
    "slideshow": {
     "slide_type": "slide"
    }
   },
   "source": [
    "### *input* in a Loop"
   ]
  },
  {
   "cell_type": "code",
   "execution_count": 42,
   "metadata": {
    "slideshow": {
     "slide_type": "slide"
    }
   },
   "outputs": [
    {
     "name": "stdout",
     "output_type": "stream",
     "text": [
      "Please enter a chemical formula (or 'quit' to exit): METHANE\n",
      "Unknown compound\n",
      "Please enter a chemical formula (or 'quit' to exit): QUIT\n",
      "Unknown compound\n",
      "Please enter a chemical formula (or 'quit' to exit): quit\n",
      "…exiting program\n"
     ]
    }
   ],
   "source": [
    "text = \"\"\n",
    "while text != \"quit\":\n",
    "    text = input(\"Please enter a chemical formula (or 'quit' to exit): \")\n",
    "    if text == \"quit\":\n",
    "        print(\"…exiting program\")\n",
    "    elif text == \"H2O\":\n",
    "        print(\"Water\")\n",
    "    elif text == \"NH3\":\n",
    "        print(\"Ammonia\")\n",
    "    elif text == \"CH4\":\n",
    "        print(\"Methane\")\n",
    "    else:\n",
    "        print(\"Unknown compound\")"
   ]
  },
  {
   "cell_type": "markdown",
   "metadata": {
    "slideshow": {
     "slide_type": "slide"
    }
   },
   "source": [
    "## PRACTICE IN YOUR NOTEBOOK"
   ]
  },
  {
   "cell_type": "markdown",
   "metadata": {
    "slideshow": {
     "slide_type": "slide"
    }
   },
   "source": [
    "In the loop above you saw that users continue to input a text until they typed *quit*. This code won’t work if users type *Quit*, or *QUIT*, or any other version that isn’t exactly *quit*. Modify that loop so that it terminates if a user types that word with any capitalization."
   ]
  },
  {
   "cell_type": "markdown",
   "metadata": {
    "slideshow": {
     "slide_type": "fragment"
    }
   },
   "source": [
    "Using a loop, sum the numbers in the range 2 to 22 (inclusive), and then calculate the average."
   ]
  },
  {
   "cell_type": "markdown",
   "metadata": {
    "slideshow": {
     "slide_type": "slide"
    }
   },
   "source": [
    "# References\n",
    "\n",
    "- Chapter 9, Gries, Campbell, and Montojo, 2017, *Practical Programming: An Introduction to Computer Science Using Python 3.6*"
   ]
  }
 ],
 "metadata": {
  "celltoolbar": "Slideshow",
  "kernelspec": {
   "display_name": "Python 3 (ipykernel)",
   "language": "python",
   "name": "python3"
  },
  "language_info": {
   "codemirror_mode": {
    "name": "ipython",
    "version": 3
   },
   "file_extension": ".py",
   "mimetype": "text/x-python",
   "name": "python",
   "nbconvert_exporter": "python",
   "pygments_lexer": "ipython3",
   "version": "3.9.7"
  }
 },
 "nbformat": 4,
 "nbformat_minor": 2
}
