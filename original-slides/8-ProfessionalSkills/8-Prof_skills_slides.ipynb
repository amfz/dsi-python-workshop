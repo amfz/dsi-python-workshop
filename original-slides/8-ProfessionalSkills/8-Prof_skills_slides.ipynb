{
 "cells": [
  {
   "cell_type": "markdown",
   "id": "6bc1a772",
   "metadata": {
    "slideshow": {
     "slide_type": "slide"
    }
   },
   "source": [
    "## Module 4: Python\n",
    "\n",
    "\n",
    "# Professional Skills: JOB INTERVIEWS\n",
    "<br>\n",
    "\n",
    "Asel Kushkeyeva<br>\n",
    "Data Science Institute, University of Toronto<br>\n",
    "2022"
   ]
  },
  {
   "cell_type": "markdown",
   "id": "94091864",
   "metadata": {
    "slideshow": {
     "slide_type": "slide"
    }
   },
   "source": [
    "### Jupyter Notebook as a Slideshow\n",
    "\n",
    "To see this notebook as a live slideshow, we need to install RISE (Reveal.js - Jupyter/IPython Slideshow Extension):\n",
    "\n",
    "1. Insert a cell and execute the following code: `conda install -c conda-forge rise`\n",
    "2. Restart the Jupyter Notebook.\n",
    "3. On the top of your notebook you have a new icon that looks like a bar chart; hover over the icon to see 'Enter/Exit RISE Slideshow'.\n",
    "4. Click on the RISE icon and enjoy the slideshow.\n",
    "5. You can edit the notebook in a slideshow mode by double clicking the line.\n",
    "*This is done only once. Now all your notebooks will have the RISE extension (unless you re-install the Jupyter Notebook).*"
   ]
  },
  {
   "cell_type": "markdown",
   "id": "2665aab4",
   "metadata": {
    "slideshow": {
     "slide_type": "slide"
    }
   },
   "source": [
    "# Agenda\n",
    "\n",
    "1. Career in Data Science\n",
    "2. Interview Format\n",
    "3. Non-Technical Skills\n",
    "4. Coding Questions"
   ]
  },
  {
   "cell_type": "markdown",
   "id": "b3051590",
   "metadata": {
    "slideshow": {
     "slide_type": "slide"
    }
   },
   "source": [
    "# Career in Data Science"
   ]
  },
  {
   "cell_type": "markdown",
   "id": "50551e47",
   "metadata": {
    "slideshow": {
     "slide_type": "slide"
    }
   },
   "source": [
    "After going through this program, some of you might want to pivot from the current career path and try yourselves as data scientists. There are many helpful resources online to get started."
   ]
  },
  {
   "cell_type": "markdown",
   "id": "da96b52a",
   "metadata": {
    "slideshow": {
     "slide_type": "slide"
    }
   },
   "source": [
    "Rachel Thomas (one of the founders of [fast.ai](https://www.fast.ai)) in [How to change careers and become a data scientist - one quant's experience](https://www.fast.ai/2017/03/01/changing-careers/) answers some of the frequently asked questions to help professionals transition."
   ]
  },
  {
   "cell_type": "markdown",
   "id": "5af9c12c",
   "metadata": {
    "slideshow": {
     "slide_type": "slide"
    }
   },
   "source": [
    "She suggests the following as building blocks to succeed in becoming a data scientist.\n",
    "\n",
    "1. In your current job, try to get involved in projects requiring coding and data analysis, or integrate coding in your work, automating some of the tasks.\n",
    "\n",
    "2. Learn Python as it is the most widely used language by data scientists.\n",
    "\n",
    "3. Participate in coding competitions and interact in the forums.\n",
    "\n",
    "4. Join tech meetups in your area."
   ]
  },
  {
   "cell_type": "markdown",
   "id": "985de0c1",
   "metadata": {
    "slideshow": {
     "slide_type": "slide"
    }
   },
   "source": [
    "In the same article, Thomas lists online courses and news sources to stay up-to-date in the fast changing tech environment."
   ]
  },
  {
   "cell_type": "markdown",
   "id": "c0c6c2f8",
   "metadata": {
    "slideshow": {
     "slide_type": "slide"
    }
   },
   "source": [
    "Sam Chow provides practical tips on how to become a data scientist as he trained himself into it. Although some of his tips are similar to those of Thomas' such as getting into Kaggle competition and networking, there are few that grab attention."
   ]
  },
  {
   "cell_type": "markdown",
   "id": "99f9b4cf",
   "metadata": {
    "slideshow": {
     "slide_type": "slide"
    }
   },
   "source": [
    "Chow's tips from [How to transition your career into Data Science — even if you don’t code today](https://www.freecodecamp.org/news/5-tips-on-transitioning-your-career-into-data-science-even-if-you-dont-code-today-3440a563ac9d/):\n",
    "\n",
    "1. Learn to speak and think like a Data Scientist. \n",
    "\n",
    "This will help to build base knowledge and further help to narrow down online search to learn any particular terminology or concept.\n",
    "\n",
    "2. Engage in Kaggle Challenges.\n",
    "\n",
    "Set SMART goals and set them small and realistic."
   ]
  },
  {
   "cell_type": "markdown",
   "id": "879983dc",
   "metadata": {
    "slideshow": {
     "slide_type": "slide"
    }
   },
   "source": [
    "3. Find your own Data Science Project.\n",
    "\n",
    "Turn your hobby or anything your are passionate about into a data science project. If you get stuck on this, Chow offers help in finding a project for you!\n",
    "\n",
    "4. Apply for Data Science Jobs.\n",
    "\n",
    "I know this sounds odd to say the least. Chow argues, however, that to interview for a data scientist is a skill that needs to be learned by practicing (and it takes time!). His algorithm is to fail the interviews, take notes of the questions, while learning the process of the interviews.\n",
    "\n",
    "5. Network…Network… And Network\n",
    "\n",
    "In person and via LinkedIn."
   ]
  },
  {
   "cell_type": "markdown",
   "id": "5e89cd60",
   "metadata": {
    "slideshow": {
     "slide_type": "slide"
    }
   },
   "source": [
    "Chip Huyen in his [*Introduction to Machine Learning Interviews*](https://huyenchip.com/ml-interviews-book/) provides some useful tips on how to get prepared for data science job search long-term in [this chapter](https://huyenchip.com/ml-interviews-book/contents/4.1-how-long-do-i-need-for-my-job-search.html), and worthwhile tips on [networking](https://huyenchip.com/ml-interviews-book/contents/b.-building-your-network.html)."
   ]
  },
  {
   "cell_type": "markdown",
   "id": "a8f78487",
   "metadata": {
    "slideshow": {
     "slide_type": "slide"
    }
   },
   "source": [
    "# Interview Format"
   ]
  },
  {
   "cell_type": "markdown",
   "id": "0138ddef",
   "metadata": {
    "slideshow": {
     "slide_type": "slide"
    }
   },
   "source": [
    "Majority of the following slides are based on Chip Huyen's book [*Introduction to Machine Learning Interviews*](https://huyenchip.com/ml-interviews-book/) freely accessible online; and on [*Build a Career in Data Science*](https://www.manning.com/books/build-a-career-in-data-science) by Emily Robinson and Jacqueline Nolis."
   ]
  },
  {
   "cell_type": "markdown",
   "id": "a5251746",
   "metadata": {
    "slideshow": {
     "slide_type": "slide"
    }
   },
   "source": [
    "Job interviews are often intimidating and stressful, especially if an interviewee is under any type of pressure or constraint including time, finances, and other obligations. One of the strategies to reduce stress level and be more prepared is to... be prepared. So, let us look into most common interview formats."
   ]
  },
  {
   "cell_type": "markdown",
   "id": "bcb3e9db",
   "metadata": {
    "slideshow": {
     "slide_type": "slide"
    }
   },
   "source": [
    "[Common interview format](https://huyenchip.com/ml-interviews-book/contents/2.2.1-common-interview-formats.html) outlines various interview formats for a technical position:\n",
    "\n",
    "1. Resume screen\n",
    "2. Phone screen\n",
    "3. Coding challenge\n",
    "4. Offsite technical interviews\n",
    "5. Presentation\n",
    "6. Onsite technical interviews"
   ]
  },
  {
   "cell_type": "markdown",
   "id": "ebdc4f64",
   "metadata": {
    "slideshow": {
     "slide_type": "slide"
    }
   },
   "source": [
    "# Non-technical Skills"
   ]
  },
  {
   "cell_type": "markdown",
   "id": "9cd3c63c",
   "metadata": {
    "slideshow": {
     "slide_type": "slide"
    }
   },
   "source": [
    "[Non-technical skills](https://huyenchip.com/ml-interviews-book/contents/2.1.1.2-non-technical-skills.html)  might be similar to those that required at your current work:\n",
    "\n",
    "1. Analytical thinking\n",
    "2. Communication skills\n",
    "3. Experience\n",
    "4. Leadership"
   ]
  },
  {
   "cell_type": "markdown",
   "id": "6a91b1f3",
   "metadata": {
    "slideshow": {
     "slide_type": "slide"
    }
   },
   "source": [
    "# Coding Questions"
   ]
  },
  {
   "cell_type": "markdown",
   "id": "aa0c40d5",
   "metadata": {
    "slideshow": {
     "slide_type": "slide"
    }
   },
   "source": [
    "[*Build a Career in Data Science*](https://www.manning.com/books/build-a-career-in-data-science) by Emily Robinson and Jacqueline Nolis is a great resource for beginner and mature data scientists. The book highlights coding and software, SQL databases, statistics, and machine learning interview questions. We will look at some of the Python and SQL coding questions. Try to solve them first, then look for answers on the last slide."
   ]
  },
  {
   "cell_type": "markdown",
   "id": "da5c9eb6",
   "metadata": {
    "slideshow": {
     "slide_type": "slide"
    }
   },
   "source": [
    "Question 1. FizzBuzz\n",
    "\n",
    "This is one of the most famous interview questions"
   ]
  },
  {
   "cell_type": "markdown",
   "id": "af9fefb1",
   "metadata": {
    "slideshow": {
     "slide_type": "fragment"
    }
   },
   "source": [
    "Write a program that prints the numbers from 1 to 100, considering the following. For multiples of 3, print 'Fizz', for multiples of 5, print 'Buzz', and for multiples of both 3 and 5, print 'FizzBuzz'."
   ]
  },
  {
   "cell_type": "markdown",
   "id": "ee0f0139",
   "metadata": {
    "slideshow": {
     "slide_type": "slide"
    }
   },
   "source": [
    "Question 2. Prime number"
   ]
  },
  {
   "cell_type": "markdown",
   "id": "fe8111fc",
   "metadata": {
    "slideshow": {
     "slide_type": "fragment"
    }
   },
   "source": [
    "Write a function that, given a number, returns True if it is a prime number and False otherwise. Assume there is no built-in function to check whether a numbed is prime. (Prime number is a number that is divisible only by 1 and by itself.)"
   ]
  },
  {
   "cell_type": "markdown",
   "id": "89d10f0a",
   "metadata": {
    "slideshow": {
     "slide_type": "slide"
    }
   },
   "source": [
    "Question 3. Manipulating data in Python."
   ]
  },
  {
   "cell_type": "markdown",
   "id": "45e3708e",
   "metadata": {
    "slideshow": {
     "slide_type": "fragment"
    }
   },
   "source": [
    "`tweets` table is given. Wrangle the data to get a table with one row per person with a column `minimum_number_of_likes` and a column of the total number of tweets `nb_tweets`. This should be only for tweets sent after Septermber 1, 2019. You also need to eliminate any duplicates in the table first. (Please note that you only need to write the code to perform the task. It is not possible to run the code as we do not have the actual table.)"
   ]
  },
  {
   "cell_type": "markdown",
   "id": "fe02f69d",
   "metadata": {
    "slideshow": {
     "slide_type": "fragment"
    }
   },
   "source": [
    "account_name | text | nb_likes | date\n",
    "-------------|------|----------|-----\n",
    "@vboykis | Data Science is.... | 50 | 2019-10-01\n",
    "@Randy_Au| \tIt’s hard when...|\t23|\t2019-05-01\n",
    "@rchang|\tSome news...|\t35|\t2019-01-01\n",
    "@vboykis|\tMy newsletter...|\t42\t|2019-11-23\n",
    "@drob\t|My best advice...\t|62|\t2019-11-01\n",
    "...|\t...\t|...|\t...|\n"
   ]
  },
  {
   "cell_type": "markdown",
   "id": "f0568332",
   "metadata": {
    "slideshow": {
     "slide_type": "slide"
    }
   },
   "source": [
    "Question 4. Types of joins in SQL"
   ]
  },
  {
   "cell_type": "markdown",
   "id": "1e08589d",
   "metadata": {
    "slideshow": {
     "slide_type": "fragment"
    }
   },
   "source": [
    "Explain the difference between a left join and an inner join."
   ]
  },
  {
   "cell_type": "markdown",
   "id": "2f018837",
   "metadata": {
    "slideshow": {
     "slide_type": "slide"
    }
   },
   "source": [
    "Question 5. SQL query"
   ]
  },
  {
   "cell_type": "markdown",
   "id": "746a903d",
   "metadata": {
    "slideshow": {
     "slide_type": "fragment"
    }
   },
   "source": [
    "TABLE_A contains grades from 0 to 100 earned by students across multiple classes. Calculate the highest grade in each class."
   ]
  },
  {
   "cell_type": "markdown",
   "id": "3f354093",
   "metadata": {
    "slideshow": {
     "slide_type": "fragment"
    }
   },
   "source": [
    "Class | Student | Grade\n",
    "---|---|---\n",
    "Math\t|Nolis, Amber|\t100\n",
    "Math\t|Berkowitz, Mike|\t90\n",
    "Literature\t|Liston, Amanda|\t97\n",
    "Spanish\t|Betancourt, Laura|\t93\n",
    "Literature\t|Robinson, Abby|\t93\n",
    "...\t|...\t|..."
   ]
  },
  {
   "cell_type": "markdown",
   "id": "a426fd6a",
   "metadata": {
    "slideshow": {
     "slide_type": "slide"
    }
   },
   "source": [
    "Question 6. Another SQL query"
   ]
  },
  {
   "cell_type": "markdown",
   "id": "a1cc8a2c",
   "metadata": {
    "slideshow": {
     "slide_type": "fragment"
    }
   },
   "source": [
    "Consider the table from the previous question. What if we wanted to not only find the highest grade in each class, but also the student who earned that grade?"
   ]
  },
  {
   "cell_type": "markdown",
   "id": "4e39ec6e",
   "metadata": {
    "slideshow": {
     "slide_type": "slide"
    }
   },
   "source": [
    "## PRACTICE IN PAIRS"
   ]
  },
  {
   "cell_type": "markdown",
   "id": "782bbd42",
   "metadata": {
    "slideshow": {
     "slide_type": "slide"
    }
   },
   "source": [
    "Technical interview questions to practice in mock interviews in class:\n",
    "\n",
    "1. Can you talk about a time when you used Git to collaborate on a project?\n",
    "2. What’s a Python library you use frequently, and why?\n",
    "3. What is a Jupyter Notebook? Why would you use a Jupyter Notebook over a Python script? When is a script better?\n",
    "4. At what point should you make your code into a function? When should you turn it into a package or library?\n",
    "5. SQL: What are some different ways you can load data into a database in the first place, and what are the advantages and disadvantages of each?\n",
    "6. What disadvantages are there to storing a column of dates as strings in a database? In SQL, for example, what if we stored a column of dates as a VARCHAR(MAX) instead of DATE?\n",
    "7. SQL: Explain the difference between a left join and an inner join."
   ]
  },
  {
   "cell_type": "markdown",
   "id": "b5f3c37d",
   "metadata": {
    "slideshow": {
     "slide_type": "slide"
    }
   },
   "source": [
    "## Answers for Coding Questions "
   ]
  },
  {
   "cell_type": "code",
   "execution_count": 1,
   "id": "60092ec6",
   "metadata": {
    "slideshow": {
     "slide_type": "slide"
    }
   },
   "outputs": [
    {
     "name": "stdout",
     "output_type": "stream",
     "text": [
      "1\n",
      "2\n",
      "Fizz\n",
      "4\n",
      "Buzz\n",
      "Fizz\n",
      "7\n",
      "8\n",
      "Fizz\n",
      "Buzz\n",
      "11\n",
      "Fizz\n",
      "13\n",
      "14\n",
      "FizzBuzz\n",
      "16\n",
      "17\n",
      "Fizz\n",
      "19\n",
      "Buzz\n",
      "Fizz\n",
      "22\n",
      "23\n",
      "Fizz\n",
      "Buzz\n",
      "26\n",
      "Fizz\n",
      "28\n",
      "29\n",
      "FizzBuzz\n",
      "31\n",
      "32\n",
      "Fizz\n",
      "34\n",
      "Buzz\n",
      "Fizz\n",
      "37\n",
      "38\n",
      "Fizz\n",
      "Buzz\n",
      "41\n",
      "Fizz\n",
      "43\n",
      "44\n",
      "FizzBuzz\n",
      "46\n",
      "47\n",
      "Fizz\n",
      "49\n",
      "Buzz\n",
      "Fizz\n",
      "52\n",
      "53\n",
      "Fizz\n",
      "Buzz\n",
      "56\n",
      "Fizz\n",
      "58\n",
      "59\n",
      "FizzBuzz\n",
      "61\n",
      "62\n",
      "Fizz\n",
      "64\n",
      "Buzz\n",
      "Fizz\n",
      "67\n",
      "68\n",
      "Fizz\n",
      "Buzz\n",
      "71\n",
      "Fizz\n",
      "73\n",
      "74\n",
      "FizzBuzz\n",
      "76\n",
      "77\n",
      "Fizz\n",
      "79\n",
      "Buzz\n",
      "Fizz\n",
      "82\n",
      "83\n",
      "Fizz\n",
      "Buzz\n",
      "86\n",
      "Fizz\n",
      "88\n",
      "89\n",
      "FizzBuzz\n",
      "91\n",
      "92\n",
      "Fizz\n",
      "94\n",
      "Buzz\n",
      "Fizz\n",
      "97\n",
      "98\n",
      "Fizz\n",
      "Buzz\n"
     ]
    }
   ],
   "source": [
    "# Question 1.\n",
    "\n",
    "for i in range(1, 101):\n",
    "    if i % 15 == 0:\n",
    "        print('FizzBuzz')\n",
    "    elif i % 5 ==0:\n",
    "        print('Buzz')\n",
    "    elif i % 3 == 0:\n",
    "        print('Fizz')\n",
    "    else:\n",
    "        print(i)"
   ]
  },
  {
   "cell_type": "code",
   "execution_count": 8,
   "id": "2de6f067",
   "metadata": {
    "slideshow": {
     "slide_type": "slide"
    }
   },
   "outputs": [],
   "source": [
    "# Question 2.\n",
    "def is_prime(number):\n",
    "    for i in range(2, int(number/2)):\n",
    "        if number % i == 0:\n",
    "            return False\n",
    "    return True"
   ]
  },
  {
   "cell_type": "markdown",
   "id": "c0981d8e",
   "metadata": {
    "slideshow": {
     "slide_type": "slide"
    }
   },
   "source": [
    "Question 3.\n",
    "\n",
    "tweets = tweets[tweets.date > '2019-09-01']\n",
    "\n",
    "drop_duplicates()\n",
    "\n",
    "groupby('account_name')\n",
    "\n",
    "tweets[nb_likes].agg(nb_tweets = 'count', minimum_number_of_likes = 'min')\n"
   ]
  },
  {
   "cell_type": "markdown",
   "id": "8b2defa9",
   "metadata": {
    "slideshow": {
     "slide_type": "slide"
    }
   },
   "source": [
    "Question 5.\n",
    "\n",
    "SELECT Class, MAX(Grade)\n",
    "\n",
    "INTO TABLE_B\n",
    "\n",
    "FROM TABLE_A\n",
    "\n",
    "GROUP BY Class\n",
    "\n",
    "__Note:__ INTO TABLE_B is an optional line. "
   ]
  },
  {
   "cell_type": "markdown",
   "id": "6ff7e970",
   "metadata": {
    "slideshow": {
     "slide_type": "slide"
    }
   },
   "source": [
    "Question 6.\n",
    "\n",
    "__Option 1.__ Using TABLE_B:\n",
    "\n",
    "SELECT a.CLASS, a.GRADE, a.STUDENT\n",
    "\n",
    "FROM TABLE_A a\n",
    "\n",
    "INNER JOIN TABLE_B b ON a.CLASS = b.CLASS AND a.GRADE = b.GRADE\n",
    "\n",
    "__Option 2.__ Without TABLE_B:\n",
    "\n",
    "SELECT a.CLASS, a.GRADE, a.STUDENT\n",
    "\n",
    "FROM TABLE_A a\n",
    "\n",
    "INNER JOIN (\n",
    "\n",
    "     SELECT CLASS, MAX(GRADE)\n",
    "     \n",
    "     FROM TABLE_A GROUP BY CLASS) b\n",
    "     \n",
    "ON a.CLASS = b.CLASS AND a.GRADE = b.GRADE"
   ]
  },
  {
   "cell_type": "markdown",
   "id": "2819c061",
   "metadata": {
    "slideshow": {
     "slide_type": "slide"
    }
   },
   "source": [
    "# References\n",
    "\n",
    "- Chow, 2019, *How to transition your career into Data Science — even if you don’t code today*, https://www.freecodecamp.org/news/5-tips-on-transitioning-your-career-into-data-science-even-if-you-dont-code-today-3440a563ac9d/\n",
    "- Huyen, 2021, *Introduction to Machine Learning Interviews Book*, https://huyenchip.com/ml-interviews-book/\n",
    "- Robinson and Nolis, 2020, *Build a Career in Data Science*, https://www.manning.com/books/build-a-career-in-data-science?query=Emily%20Robinson\n",
    "- Thomas, 2017, *How to change careers and become a data scientist - one quant's experience*, https://www.fast.ai/2017/03/01/changing-careers/"
   ]
  }
 ],
 "metadata": {
  "celltoolbar": "Slideshow",
  "kernelspec": {
   "display_name": "Python 3 (ipykernel)",
   "language": "python",
   "name": "python3"
  },
  "language_info": {
   "codemirror_mode": {
    "name": "ipython",
    "version": 3
   },
   "file_extension": ".py",
   "mimetype": "text/x-python",
   "name": "python",
   "nbconvert_exporter": "python",
   "pygments_lexer": "ipython3",
   "version": "3.9.7"
  }
 },
 "nbformat": 4,
 "nbformat_minor": 5
}
