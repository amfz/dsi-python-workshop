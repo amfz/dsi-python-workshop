{
 "cells": [
  {
   "cell_type": "markdown",
   "id": "40d3f376",
   "metadata": {
    "slideshow": {
     "slide_type": "slide"
    }
   },
   "source": [
    "# Introduction to Python\n",
    "\n",
    "## Data Sciences Institute, University of Toronto\n",
    "\n",
    "July 2022\n",
    "\n",
    "Instructor: A Mahfouz | TA: Kaylie Lau"
   ]
  },
  {
   "cell_type": "markdown",
   "id": "11cd7cd4",
   "metadata": {
    "slideshow": {
     "slide_type": "skip"
    }
   },
   "source": [
    "### Jupyter Notebook as a Slideshow\n",
    "\n",
    "To see this notebook as a live slideshow, we need to install RISE (Reveal.js - Jupyter/IPython Slideshow Extension):\n",
    "\n",
    "1. Insert a cell and execute the following code: `conda install -c conda-forge rise`\n",
    "2. Restart the Jupyter Notebook.\n",
    "3. On the top of your notebook you have a new icon that looks like a bar chart; hover over the icon to see 'Enter/Exit RISE Slideshow'.\n",
    "4. Click on the RISE icon and enjoy the slideshow.\n",
    "5. You can edit the notebook in a slideshow mode by double clicking the line.\n",
    "*This is done only once. Now all your notebooks will have the RISE extension (unless you re-install the Jupyter Notebook).*"
   ]
  },
  {
   "cell_type": "markdown",
   "id": "e5e5ab47",
   "metadata": {
    "slideshow": {
     "slide_type": "slide"
    }
   },
   "source": [
    "# Contents:\n",
    "\n",
    "1. Intro\n",
    "  1. Programming\n",
    "  2. Python\n",
    "  3. Setup: Anaconda and Notebooks"
   ]
  },
  {
   "cell_type": "markdown",
   "id": "70765b71",
   "metadata": {
    "slideshow": {
     "slide_type": "subslide"
    }
   },
   "source": [
    "2. Python Fundamentals \n",
    "  1. Types\n",
    "  2. Statements and Expressions\n",
    "  3. Logical Data\n",
    "  4. Variables\n",
    "  5. Errors\n",
    "  6. Comments and Readability\n",
    "  7. Functions\n",
    "  8. Strings\n",
    "  9. Input"
   ]
  },
  {
   "cell_type": "markdown",
   "id": "f31cc4a9",
   "metadata": {
    "slideshow": {
     "slide_type": "slide"
    }
   },
   "source": [
    "# Programming"
   ]
  },
  {
   "cell_type": "markdown",
   "id": "6c7e1c79",
   "metadata": {
    "slideshow": {
     "slide_type": "slide"
    }
   },
   "source": [
    "## What is programming ?\n",
    "\n",
    "A *program* is a set of instructions. *Programming* defines new sets of instructions to perform a useful task. A *programming language* lets us write those instructions in a way that a computer can interpret and execute."
   ]
  },
  {
   "cell_type": "markdown",
   "id": "0e4ae887",
   "metadata": {
    "slideshow": {
     "slide_type": "slide"
    }
   },
   "source": [
    "# Python"
   ]
  },
  {
   "cell_type": "markdown",
   "id": "e7b999b1",
   "metadata": {
    "slideshow": {
     "slide_type": "slide"
    }
   },
   "source": [
    "## What is Python?\n",
    "\n",
    "Python is a general-purpose programming language first released in 1991. It has since become a popular language for data science, thanks to an enthusiastic community and a large ecosystem of code libraries and tools that make it easier to perform common tasks throughout the data science life cycle."
   ]
  },
  {
   "cell_type": "markdown",
   "id": "f7f1df44",
   "metadata": {
    "slideshow": {
     "slide_type": "slide"
    }
   },
   "source": [
    "# Setup"
   ]
  },
  {
   "cell_type": "markdown",
   "id": "c0e5e1d5",
   "metadata": {
    "slideshow": {
     "slide_type": "slide"
    }
   },
   "source": [
    "## Options\n",
    "\n",
    "\n",
    "<table>\n",
    "    <tr>\n",
    "        <th>Google Colab</th>\n",
    "        <th>Anaconda</th>\n",
    "    </tr>\n",
    "    <tr>\n",
    "        <td>\n",
    "            <ul>\n",
    "                <li>Easy to get started</li>\n",
    "                <li>Less flexible</li>\n",
    "                <li>Runs online through a Google account</li>\n",
    "            </ul>\n",
    "        </td>\n",
    "        <td>\n",
    "            <ul>\n",
    "                <li>Can be tricky to install</li>\n",
    "                <li>Lots of flexibility</li>\n",
    "                <li>Installed on your own computer</li>\n",
    "            </ul>\n",
    "        </td>\n",
    "    </tr>\n",
    "    <tr>\n",
    "        <td>\n",
    "            <p>Go to <a href=\"https://colab.research.google.com/\">https://colab.research.google.com/</a></p>\n",
    "            <p>In the upper left corner, click <strong>File</strong>, then <strong>New notebook</strong>.\n",
    "        </td>\n",
    "        <td>\n",
    "            <p>Download and install from <a href=\"https://www.anaconda.com/products/individual#Downloads\">https://www.anaconda.com/products/individual#Downloads</a></p>\n",
    "            <p>Open <strong>Anaconda Navigator</strong>. Then, install and launch <strong>Jupyter Notebook.</strong>\n",
    "        </td>\n",
    "    </tr>\n",
    "</table>\n",
    "    \n"
   ]
  },
  {
   "cell_type": "markdown",
   "id": "a2c2ea75",
   "metadata": {
    "slideshow": {
     "slide_type": "subslide"
    }
   },
   "source": [
    "### Anaconda and Notebooks\n",
    "\n",
    "_Anaconda_ is a software suite that consists of Python and several complementary data science applications. It includes a Python _interpreter_, or a program that translates Python code into machine instructions. It also includes _Jupyter Notebook_, a web application that lets us combine pieces of executable code, text, images, and visualizations in a single document, or notebook. Even though Jupyter Notebook is a web application, notebooks are stored locally on your computer, not hosted online by default.\n",
    "\n",
    "Sections of a notebook are called _cells_. Cells can be run independently of each other, and in any order."
   ]
  },
  {
   "cell_type": "markdown",
   "id": "92258b2e",
   "metadata": {
    "slideshow": {
     "slide_type": "subslide"
    }
   },
   "source": [
    "### Google Colab\n",
    "_Google Colab_ is a Jupyter Notebook environment hosted on the cloud -- that is, on Google's servers. Google Colab provides a standardized notebook environment, with common data science libraries already installed."
   ]
  },
  {
   "cell_type": "markdown",
   "id": "c1370ffe",
   "metadata": {
    "slideshow": {
     "slide_type": "slide"
    }
   },
   "source": [
    "# Python Fundamentals"
   ]
  },
  {
   "cell_type": "markdown",
   "id": "61d24008",
   "metadata": {
    "slideshow": {
     "slide_type": "slide"
    }
   },
   "source": [
    "## Types\n",
    "\n",
    "Every piece of data in Python has a _type_. Data types dictate how values are stored by the computer and what operations we can perform on the data. For example, an `int`, or integer, value must be a whole number, and we can use it for arithmetic. The `float`, or floating point data type supports decimal numbers. There are other types for text (`string`), true/false values (`bool`), and more complex data that we will go into later."
   ]
  },
  {
   "cell_type": "markdown",
   "id": "d1032864",
   "metadata": {
    "slideshow": {
     "slide_type": "slide"
    }
   },
   "source": [
    "## Statements and Expressions\n",
    "\n",
    "A _statement_ in programming is a command. You can think of them as the smallest units of code. An _expression_ is a statement that produces a single value.\n",
    "\n",
    "We can use arithmetic operators like `+` and `-` to write simple expressions."
   ]
  },
  {
   "cell_type": "code",
   "execution_count": 1,
   "id": "ec52cb74",
   "metadata": {
    "slideshow": {
     "slide_type": "subslide"
    }
   },
   "outputs": [
    {
     "data": {
      "text/plain": [
       "11"
      ]
     },
     "execution_count": 1,
     "metadata": {},
     "output_type": "execute_result"
    }
   ],
   "source": [
    "5 + 6"
   ]
  },
  {
   "cell_type": "markdown",
   "id": "85bfb339",
   "metadata": {
    "slideshow": {
     "slide_type": "fragment"
    }
   },
   "source": [
    "`5 + 6` is an expression.  \n",
    "`+` is an operator.  \n",
    "`5` and `6` are operands.  \n",
    "`11` is a value."
   ]
  },
  {
   "cell_type": "markdown",
   "id": "d074ec3c",
   "metadata": {
    "slideshow": {
     "slide_type": "subslide"
    }
   },
   "source": [
    "The result of an expression may be a different data type than its inputs."
   ]
  },
  {
   "cell_type": "code",
   "execution_count": 2,
   "id": "f7552f6f",
   "metadata": {
    "slideshow": {
     "slide_type": "fragment"
    }
   },
   "outputs": [
    {
     "data": {
      "text/plain": [
       "2.5"
      ]
     },
     "execution_count": 2,
     "metadata": {},
     "output_type": "execute_result"
    }
   ],
   "source": [
    "5 / 2"
   ]
  },
  {
   "cell_type": "markdown",
   "id": "98d6b4b8",
   "metadata": {
    "slideshow": {
     "slide_type": "slide"
    }
   },
   "source": [
    "## Practice"
   ]
  },
  {
   "cell_type": "markdown",
   "id": "6e245071",
   "metadata": {
    "slideshow": {
     "slide_type": "subslide"
    }
   },
   "source": [
    "### What values do the following expressions produce?\n",
    "\n",
    "`9 - 3`\n",
    "\n",
    "`8 * 2.5`\n",
    "\n",
    "`9 / 2`\n",
    "\n",
    "`9 / -2`"
   ]
  },
  {
   "cell_type": "code",
   "execution_count": 3,
   "id": "5410ee83",
   "metadata": {
    "slideshow": {
     "slide_type": "notes"
    }
   },
   "outputs": [
    {
     "name": "stdout",
     "output_type": "stream",
     "text": [
      "20.0\n",
      "4.5\n",
      "-4.5\n"
     ]
    }
   ],
   "source": [
    "print(8 * 2.5)\n",
    "print(9 / 2)\n",
    "print(9 / -2)"
   ]
  },
  {
   "cell_type": "markdown",
   "id": "520787cd",
   "metadata": {
    "slideshow": {
     "slide_type": "slide"
    }
   },
   "source": [
    "## Additional Arithmetic Operators\n",
    "\n",
    "| Operator | Description |\n",
    "|---|---|\n",
    "| // | Integer division (always rounds down)|\n",
    "| % | Modulo or remainder |\n",
    "| ** | Exponentiation |"
   ]
  },
  {
   "cell_type": "markdown",
   "id": "c2ddcdfb",
   "metadata": {
    "slideshow": {
     "slide_type": "subslide"
    }
   },
   "source": [
    "### Examples"
   ]
  },
  {
   "cell_type": "code",
   "execution_count": 4,
   "id": "8f09ff90",
   "metadata": {
    "slideshow": {
     "slide_type": "fragment"
    }
   },
   "outputs": [
    {
     "data": {
      "text/plain": [
       "3"
      ]
     },
     "execution_count": 4,
     "metadata": {},
     "output_type": "execute_result"
    }
   ],
   "source": [
    "10 // 3"
   ]
  },
  {
   "cell_type": "code",
   "execution_count": 5,
   "id": "f6df46e3",
   "metadata": {
    "slideshow": {
     "slide_type": "fragment"
    }
   },
   "outputs": [
    {
     "data": {
      "text/plain": [
       "1"
      ]
     },
     "execution_count": 5,
     "metadata": {},
     "output_type": "execute_result"
    }
   ],
   "source": [
    "10 % 3"
   ]
  },
  {
   "cell_type": "code",
   "execution_count": 6,
   "id": "d93768ac",
   "metadata": {
    "slideshow": {
     "slide_type": "fragment"
    }
   },
   "outputs": [
    {
     "data": {
      "text/plain": [
       "3.3333333333333335"
      ]
     },
     "execution_count": 6,
     "metadata": {},
     "output_type": "execute_result"
    }
   ],
   "source": [
    "10 / 3"
   ]
  },
  {
   "cell_type": "code",
   "execution_count": 7,
   "id": "9ee5c9c8",
   "metadata": {
    "slideshow": {
     "slide_type": "fragment"
    }
   },
   "outputs": [
    {
     "data": {
      "text/plain": [
       "1000"
      ]
     },
     "execution_count": 7,
     "metadata": {},
     "output_type": "execute_result"
    }
   ],
   "source": [
    "10 ** 3"
   ]
  },
  {
   "cell_type": "markdown",
   "id": "c6ab576c",
   "metadata": {
    "slideshow": {
     "slide_type": "slide"
    }
   },
   "source": [
    "# Logical Data"
   ]
  },
  {
   "cell_type": "markdown",
   "id": "0294d7fe",
   "metadata": {
    "slideshow": {
     "slide_type": "slide"
    }
   },
   "source": [
    "## True/False\n",
    "\n",
    "Python also has a data type, `bool`, for `True` and `False` values. The term `bool` derives from Boolean, which is itself a reference to the mathematician and logician George Boole, whose work underpins information and computing."
   ]
  },
  {
   "cell_type": "markdown",
   "id": "6a34dcb6",
   "metadata": {
    "slideshow": {
     "slide_type": "slide"
    }
   },
   "source": [
    "## Comparison operators\n",
    "\n",
    "Python has comparison operators as well as arithmetic operators. Unlike arithmetic expressions, which produce integer or float values, comparison expressions produce a Boolean value.\n",
    "\n",
    "| Operator | Description |\n",
    "| --- | --- |\n",
    "| `>` | Greater than |\n",
    "| `>=` | Greater than or equal to |\n",
    "| `<` | Less than |\n",
    "| `<=` | Less than or equal to |\n",
    "| `==` | Equal to |\n",
    "| `!=` | Not equal to |"
   ]
  },
  {
   "cell_type": "markdown",
   "id": "2604afb5",
   "metadata": {
    "slideshow": {
     "slide_type": "subslide"
    }
   },
   "source": [
    "### Examples"
   ]
  },
  {
   "cell_type": "code",
   "execution_count": 8,
   "id": "55307f4c",
   "metadata": {
    "slideshow": {
     "slide_type": "fragment"
    }
   },
   "outputs": [
    {
     "data": {
      "text/plain": [
       "True"
      ]
     },
     "execution_count": 8,
     "metadata": {},
     "output_type": "execute_result"
    }
   ],
   "source": [
    "50 > 25"
   ]
  },
  {
   "cell_type": "code",
   "execution_count": 9,
   "id": "b9bcb9bb",
   "metadata": {
    "slideshow": {
     "slide_type": "fragment"
    }
   },
   "outputs": [
    {
     "data": {
      "text/plain": [
       "False"
      ]
     },
     "execution_count": 9,
     "metadata": {},
     "output_type": "execute_result"
    }
   ],
   "source": [
    "-15 >= -14.99"
   ]
  },
  {
   "cell_type": "code",
   "execution_count": 10,
   "id": "8a33c0a7",
   "metadata": {
    "slideshow": {
     "slide_type": "fragment"
    }
   },
   "outputs": [
    {
     "data": {
      "text/plain": [
       "True"
      ]
     },
     "execution_count": 10,
     "metadata": {},
     "output_type": "execute_result"
    }
   ],
   "source": [
    "20 == 20"
   ]
  },
  {
   "cell_type": "markdown",
   "id": "b3f69e98",
   "metadata": {
    "slideshow": {
     "slide_type": "slide"
    }
   },
   "source": [
    "## Operator precedence\n",
    "\n",
    "Arithmetic and comparison operators are evaluated in the following order. We can enclose operations in parentheses to override the order of precedence -- operations in parentheses are evaluated before the rest of the expression.\n",
    "\n",
    "| Order | Operator | Description |\n",
    "|---|---|---|\n",
    "| 1 | `**` | Exponentiation |\n",
    "| 2 | `-`| Negation |\n",
    "| 3 | `*`, `/`, `//`, `%` | Multiplication, division, integer division, and modulo |\n",
    "| 4 | `+`, `-` | Addition and subtraction |\n",
    "| 5 | `<`, `<=`, `>`, `>=`, `==`, `!=` | Less than, less than or equal to, greater than, greater than or equal to, equal, not equal |"
   ]
  },
  {
   "cell_type": "markdown",
   "id": "0466f441",
   "metadata": {
    "slideshow": {
     "slide_type": "slide"
    }
   },
   "source": [
    "## Practice"
   ]
  },
  {
   "cell_type": "markdown",
   "id": "f754a4fb",
   "metadata": {
    "slideshow": {
     "slide_type": "subslide"
    }
   },
   "source": [
    "## In which order will the expressions be evaluated? \n",
    "\n",
    "`6 * 3 + 7 * 4`\n",
    "\n",
    "`5 + 3 / 4`\n",
    "\n",
    "`5 - 2 * 3 ** 4`\n",
    "\n",
    "`(5 - 2) * 3 ** 4`\n",
    "\n",
    "`5 + 2 >= 3 * 4`"
   ]
  },
  {
   "cell_type": "markdown",
   "id": "1707a97c",
   "metadata": {
    "slideshow": {
     "slide_type": "slide"
    }
   },
   "source": [
    "# Variables"
   ]
  },
  {
   "cell_type": "markdown",
   "id": "cd134d80",
   "metadata": {
    "slideshow": {
     "slide_type": "slide"
    }
   },
   "source": [
    "## What is a variable?\n",
    "\n",
    "A _variable_ is a name that refers to a value. Variables make it easier to keep track of data.\n",
    "\n",
    "Variable names in Python can include letters, digits, and underscores. They cannot start with a digit. They are also case sensitive, so `variable` and `Variable` would be two different variables!"
   ]
  },
  {
   "cell_type": "markdown",
   "id": "9fb6371f",
   "metadata": {
    "slideshow": {
     "slide_type": "slide"
    }
   },
   "source": [
    "## Creating variables\n",
    "\n",
    "To create a variable, we assign it a value using the assignment operator `=`."
   ]
  },
  {
   "cell_type": "code",
   "execution_count": 11,
   "id": "d3a1912f",
   "metadata": {
    "slideshow": {
     "slide_type": "fragment"
    }
   },
   "outputs": [],
   "source": [
    "degrees_celsius = 25"
   ]
  },
  {
   "cell_type": "markdown",
   "id": "a3047a6d",
   "metadata": {
    "slideshow": {
     "slide_type": "fragment"
    }
   },
   "source": [
    "This statement is called an _assignment statement_. Now that the variable `degrees_celsius` has been assigned a value, we can use it anywhere we would use that value."
   ]
  },
  {
   "cell_type": "code",
   "execution_count": 12,
   "id": "68a76f09",
   "metadata": {
    "slideshow": {
     "slide_type": "fragment"
    }
   },
   "outputs": [
    {
     "data": {
      "text/plain": [
       "77.0"
      ]
     },
     "execution_count": 12,
     "metadata": {},
     "output_type": "execute_result"
    }
   ],
   "source": [
    "degrees_fahrenheit = (9 / 5) * degrees_celsius + 32\n",
    "degrees_fahrenheit"
   ]
  },
  {
   "cell_type": "markdown",
   "id": "97e0fbd0",
   "metadata": {
    "slideshow": {
     "slide_type": "slide"
    }
   },
   "source": [
    "## Reassigning variables\n",
    "\n",
    "When we reassign a variable, we change the value that variable refers to. Reassigning a variable does not change any other variable. Notice that `degrees_fahrenheit` stayed the same, even when we reassigned `degrees_celsius`."
   ]
  },
  {
   "cell_type": "code",
   "execution_count": 13,
   "id": "8e3bb515",
   "metadata": {
    "slideshow": {
     "slide_type": "fragment"
    }
   },
   "outputs": [
    {
     "data": {
      "text/plain": [
       "77.0"
      ]
     },
     "execution_count": 13,
     "metadata": {},
     "output_type": "execute_result"
    }
   ],
   "source": [
    "degrees_celsius = 0\n",
    "degrees_fahrenheit"
   ]
  },
  {
   "cell_type": "markdown",
   "id": "19442de0",
   "metadata": {
    "slideshow": {
     "slide_type": "subslide"
    }
   },
   "source": [
    "We can use a variable on both sides of an assignment statement. This is useful for updating a variable based on its current value."
   ]
  },
  {
   "cell_type": "code",
   "execution_count": 14,
   "id": "79efac68",
   "metadata": {
    "slideshow": {
     "slide_type": "fragment"
    }
   },
   "outputs": [
    {
     "data": {
      "text/plain": [
       "10"
      ]
     },
     "execution_count": 14,
     "metadata": {},
     "output_type": "execute_result"
    }
   ],
   "source": [
    "degrees_celsius = degrees_celsius + 10\n",
    "degrees_celsius"
   ]
  },
  {
   "cell_type": "markdown",
   "id": "a0b7b6ab",
   "metadata": {
    "slideshow": {
     "slide_type": "subslide"
    }
   },
   "source": [
    "Notice what happens when we set one variable equal to another, then reassign the first one."
   ]
  },
  {
   "cell_type": "code",
   "execution_count": 15,
   "id": "1ce3bd9d",
   "metadata": {
    "slideshow": {
     "slide_type": "fragment"
    }
   },
   "outputs": [
    {
     "data": {
      "text/plain": [
       "1"
      ]
     },
     "execution_count": 15,
     "metadata": {},
     "output_type": "execute_result"
    }
   ],
   "source": [
    "a = 1\n",
    "b = a\n",
    "b"
   ]
  },
  {
   "cell_type": "code",
   "execution_count": 16,
   "id": "481d05d3",
   "metadata": {
    "slideshow": {
     "slide_type": "fragment"
    }
   },
   "outputs": [
    {
     "data": {
      "text/plain": [
       "1"
      ]
     },
     "execution_count": 16,
     "metadata": {},
     "output_type": "execute_result"
    }
   ],
   "source": [
    "a = 2\n",
    "b"
   ]
  },
  {
   "cell_type": "code",
   "execution_count": 17,
   "id": "3b227766",
   "metadata": {
    "slideshow": {
     "slide_type": "notes"
    }
   },
   "outputs": [
    {
     "name": "stdout",
     "output_type": "stream",
     "text": [
      "2819689480464\n",
      "2819689480432\n"
     ]
    }
   ],
   "source": [
    "print(id(a))\n",
    "print(id(b))"
   ]
  },
  {
   "cell_type": "markdown",
   "id": "99aba8e0",
   "metadata": {
    "slideshow": {
     "slide_type": "slide"
    }
   },
   "source": [
    "## Augmented assignment\n",
    "\n",
    "While `degrees_celsius = degrees_celsius + 10` is a valid statement, there is a more concise way to express this: by putting the operator `+` before the assignment operator `=`."
   ]
  },
  {
   "cell_type": "code",
   "execution_count": 18,
   "id": "4affd490",
   "metadata": {
    "slideshow": {
     "slide_type": "fragment"
    }
   },
   "outputs": [
    {
     "data": {
      "text/plain": [
       "10"
      ]
     },
     "execution_count": 18,
     "metadata": {},
     "output_type": "execute_result"
    }
   ],
   "source": [
    "degrees_celsius = 0\n",
    "degrees_celsius += 10\n",
    "degrees_celsius"
   ]
  },
  {
   "cell_type": "markdown",
   "id": "74c246b0",
   "metadata": {
    "slideshow": {
     "slide_type": "fragment"
    }
   },
   "source": [
    "Similarly, subtraction, multiplication, division, expontiation, integer division, and modulo can be used as an augmented assignment."
   ]
  },
  {
   "cell_type": "markdown",
   "id": "6e0db7b2",
   "metadata": {
    "slideshow": {
     "slide_type": "slide"
    }
   },
   "source": [
    "# Errors"
   ]
  },
  {
   "cell_type": "markdown",
   "id": "16f27979",
   "metadata": {
    "slideshow": {
     "slide_type": "slide"
    }
   },
   "source": [
    "## What causes errors?\n",
    "\n",
    "Errors indicate that there is something in the code that the computer cannot execute. We will see some of the reasons that can happen. When an error occurs, Python produces an error message called a _traceback_. Tracebacks can be quite cryptic, but they tell us what code was running at the time of the error. When in doubt, copying the error message at the bottom of a traceback into a search engine can help."
   ]
  },
  {
   "cell_type": "markdown",
   "id": "d7a1f381",
   "metadata": {
    "slideshow": {
     "slide_type": "slide"
    }
   },
   "source": [
    "## Syntax errors\n",
    "\n",
    "A _syntax error_ occurs when our program contains code that isn't valid Python. Below, we are trying to assign the value `x` to the variable `12` -- but variable names that start with digits are not allowed in Python!"
   ]
  },
  {
   "cell_type": "code",
   "execution_count": 19,
   "id": "917b947b",
   "metadata": {
    "slideshow": {
     "slide_type": "fragment"
    }
   },
   "outputs": [
    {
     "ename": "SyntaxError",
     "evalue": "cannot assign to literal here. Maybe you meant '==' instead of '='? (3541004665.py, line 1)",
     "output_type": "error",
     "traceback": [
      "\u001b[1;36m  Input \u001b[1;32mIn [19]\u001b[1;36m\u001b[0m\n\u001b[1;33m    12 = x\u001b[0m\n\u001b[1;37m    ^\u001b[0m\n\u001b[1;31mSyntaxError\u001b[0m\u001b[1;31m:\u001b[0m cannot assign to literal here. Maybe you meant '==' instead of '='?\n"
     ]
    }
   ],
   "source": [
    "12 = x"
   ]
  },
  {
   "cell_type": "code",
   "execution_count": 20,
   "id": "a4c43ab3",
   "metadata": {
    "slideshow": {
     "slide_type": "subslide"
    }
   },
   "outputs": [
    {
     "ename": "SyntaxError",
     "evalue": "invalid syntax (3249839057.py, line 1)",
     "output_type": "error",
     "traceback": [
      "\u001b[1;36m  Input \u001b[1;32mIn [20]\u001b[1;36m\u001b[0m\n\u001b[1;33m    25 -\u001b[0m\n\u001b[1;37m         ^\u001b[0m\n\u001b[1;31mSyntaxError\u001b[0m\u001b[1;31m:\u001b[0m invalid syntax\n"
     ]
    }
   ],
   "source": [
    "25 - "
   ]
  },
  {
   "cell_type": "markdown",
   "id": "c2b3f063",
   "metadata": {
    "slideshow": {
     "slide_type": "fragment"
    }
   },
   "source": [
    "Above, Python expects another operand to the right of `-`, and throws a syntax error because there isn't a second operand."
   ]
  },
  {
   "cell_type": "markdown",
   "id": "4f58b933",
   "metadata": {
    "slideshow": {
     "slide_type": "slide"
    }
   },
   "source": [
    "## Name errors\n",
    "\n",
    "A _name error_ occurs when we try to use a variable that hasn't been assigned yet. Name errors are especially common when working in notebooks, where code is often not run from top to bottom."
   ]
  },
  {
   "cell_type": "code",
   "execution_count": 21,
   "id": "761ba2c8",
   "metadata": {
    "slideshow": {
     "slide_type": "fragment"
    }
   },
   "outputs": [
    {
     "ename": "NameError",
     "evalue": "name 'my_variable' is not defined",
     "output_type": "error",
     "traceback": [
      "\u001b[1;31m---------------------------------------------------------------------------\u001b[0m",
      "\u001b[1;31mNameError\u001b[0m                                 Traceback (most recent call last)",
      "Input \u001b[1;32mIn [21]\u001b[0m, in \u001b[0;36m<cell line: 1>\u001b[1;34m()\u001b[0m\n\u001b[1;32m----> 1\u001b[0m \u001b[43mmy_variable\u001b[49m \u001b[38;5;241m+\u001b[39m \u001b[38;5;241m1\u001b[39m\n",
      "\u001b[1;31mNameError\u001b[0m: name 'my_variable' is not defined"
     ]
    }
   ],
   "source": [
    "my_variable + 1"
   ]
  },
  {
   "cell_type": "markdown",
   "id": "4cf12fcd",
   "metadata": {
    "slideshow": {
     "slide_type": "slide"
    }
   },
   "source": [
    "## Practice"
   ]
  },
  {
   "cell_type": "markdown",
   "id": "ece51e66",
   "metadata": {
    "slideshow": {
     "slide_type": "subslide"
    }
   },
   "source": [
    "Which of these expressions results in a SyntaxError?\n",
    "\n",
    "`((((5 * 4 ** 7))))`\n",
    "\n",
    "`84 *= 0.5 / 7`\n",
    "\n",
    "`(-(-(-(-5 * (4 + 3)))))`\n",
    "\n",
    "`5 * 3 = weight`\n",
    "\n",
    "`73 / -----------5`"
   ]
  },
  {
   "cell_type": "markdown",
   "id": "4c90736a",
   "metadata": {
    "slideshow": {
     "slide_type": "slide"
    }
   },
   "source": [
    "# Comments"
   ]
  },
  {
   "cell_type": "markdown",
   "id": "43450dfd",
   "metadata": {
    "slideshow": {
     "slide_type": "slide"
    }
   },
   "source": [
    "## What are comments?\n",
    "\n",
    "Comments are a way to annotate code within code. They're used to explain parts of code to human audiences. In Python, comments start with a `#` symbol. The interpreter ignores everything from the `#` to the end of the line when translating a program into machine instructions."
   ]
  },
  {
   "cell_type": "code",
   "execution_count": 22,
   "id": "07b096a8",
   "metadata": {
    "slideshow": {
     "slide_type": "fragment"
    }
   },
   "outputs": [],
   "source": [
    "# This is a comment. It is not evaluated when we run our code"
   ]
  },
  {
   "cell_type": "code",
   "execution_count": 23,
   "id": "5ca26540",
   "metadata": {
    "slideshow": {
     "slide_type": "fragment"
    }
   },
   "outputs": [
    {
     "data": {
      "text/plain": [
       "71.33333333333333"
      ]
     },
     "execution_count": 23,
     "metadata": {},
     "output_type": "execute_result"
    }
   ],
   "source": [
    "student1_grade = 90\n",
    "student2_grade = 50\n",
    "student3_grade = 74\n",
    "average_grade = (student1_grade + student2_grade + student3_grade) / 3 \n",
    "average_grade  # These lines of code will produce a value. \n",
    "# Python will ignore everything after the # symbol."
   ]
  },
  {
   "cell_type": "markdown",
   "id": "6f43b431",
   "metadata": {
    "slideshow": {
     "slide_type": "slide"
    }
   },
   "source": [
    "# Readability"
   ]
  },
  {
   "cell_type": "markdown",
   "id": "8dca9af3",
   "metadata": {
    "slideshow": {
     "slide_type": "slide"
    }
   },
   "source": [
    "## What is readable code and why should we care?\n",
    "\n",
    "Code that is easier to read is easier to debug and maintain. Readability becomes more important the larger the codebase or the team is."
   ]
  },
  {
   "cell_type": "markdown",
   "id": "79743bbe",
   "metadata": {
    "slideshow": {
     "slide_type": "subslide"
    }
   },
   "source": [
    "Some practices that make code easier to read:  \n",
    "* **White space**: A space to either side of an operand helps readability. We can also split code across multiple lines by wrapping it in parentheses.\n",
    "* **Comments**: Comments communicate the gist of a program and help explain complicated sections of code. They can also be used to plan future work in plain language, or to toggle lines of code on and off for debugging.\n",
    "* **Clear and consistent variable names**: Descriptive variable names contribute to self-documenting code and reduce the need for comments. Consistent naming practices reduce the likelihood of referencing the wrong variable or raising a NameError."
   ]
  },
  {
   "cell_type": "markdown",
   "id": "f1caca54",
   "metadata": {
    "slideshow": {
     "slide_type": "slide"
    }
   },
   "source": [
    "## Which code is easier to read and follow?\n",
    "\n",
    "1.  \n",
    "```python\n",
    "studentone_grade=90\n",
    "StudentGrade2=50\n",
    "stu3gr=74\n",
    "avggrade=(studentone_grade+StudentGrade2+stut3gr)/3 \n",
    "```\n",
    "\n",
    "2.  \n",
    "```python\n",
    "student1_grade = 90\n",
    "student2_grade = 50\n",
    "student3_grade = 74\n",
    "average_grade = ((student1_grade \n",
    "                  + student2_grade \n",
    "                  + student3_grade) \n",
    "                 / 3)\n",
    "```\n"
   ]
  },
  {
   "cell_type": "markdown",
   "id": "2fa65e79",
   "metadata": {
    "slideshow": {
     "slide_type": "slide"
    }
   },
   "source": [
    "# Functions"
   ]
  },
  {
   "cell_type": "markdown",
   "id": "3a700ac7",
   "metadata": {
    "slideshow": {
     "slide_type": "slide"
    }
   },
   "source": [
    "## What is a function?\n",
    "\n",
    "A _function_ is a block of code that performs a task. A function takes zero or more inputs and _returns_ an output.\n",
    "\n",
    "When we use a function, we say we are _calling_ it. We call a function by typing out the function's name followed by parentheses. Inside the parentheses, we can _pass_ in data for the function to use. These values are called _arguments_."
   ]
  },
  {
   "cell_type": "markdown",
   "id": "b79adc3b",
   "metadata": {
    "slideshow": {
     "slide_type": "slide"
    }
   },
   "source": [
    "## Built-in functions\n",
    "\n",
    "Python comes with several functions already built in. To display information, for example, we can call the `print()` function. (Note that if the last line in a notebook cell is an expression, the notebook will automatically display the result, no `print()` function needed.)"
   ]
  },
  {
   "cell_type": "code",
   "execution_count": 24,
   "id": "345bda77",
   "metadata": {
    "slideshow": {
     "slide_type": "fragment"
    }
   },
   "outputs": [
    {
     "name": "stdout",
     "output_type": "stream",
     "text": [
      "42\n"
     ]
    }
   ],
   "source": [
    "print(42)"
   ]
  },
  {
   "cell_type": "markdown",
   "id": "d25e6107",
   "metadata": {
    "slideshow": {
     "slide_type": "subslide"
    }
   },
   "source": [
    "To check the data type of a value, we can call the `type()` function."
   ]
  },
  {
   "cell_type": "code",
   "execution_count": 25,
   "id": "d4bad1e7",
   "metadata": {
    "slideshow": {
     "slide_type": "fragment"
    }
   },
   "outputs": [
    {
     "data": {
      "text/plain": [
       "int"
      ]
     },
     "execution_count": 25,
     "metadata": {},
     "output_type": "execute_result"
    }
   ],
   "source": [
    "type(42)"
   ]
  },
  {
   "cell_type": "markdown",
   "id": "f70b9a2d",
   "metadata": {
    "slideshow": {
     "slide_type": "subslide"
    }
   },
   "source": [
    "We can pass in expressions as arguments. "
   ]
  },
  {
   "cell_type": "code",
   "execution_count": 26,
   "id": "47c6ffff",
   "metadata": {
    "slideshow": {
     "slide_type": "fragment"
    }
   },
   "outputs": [
    {
     "name": "stdout",
     "output_type": "stream",
     "text": [
      "100\n"
     ]
    }
   ],
   "source": [
    "print(10 ** 2)"
   ]
  },
  {
   "cell_type": "markdown",
   "id": "aa7eec74",
   "metadata": {
    "slideshow": {
     "slide_type": "slide"
    }
   },
   "source": [
    "## More built-in functions\n",
    "\n",
    "Some other useful built-in functions include `abs()` for absolute values, `round()` for rounding, and `int()` and `float()` for type conversion into integers and floats, respectively."
   ]
  },
  {
   "cell_type": "code",
   "execution_count": 27,
   "id": "3cf13d07",
   "metadata": {
    "slideshow": {
     "slide_type": "subslide"
    }
   },
   "outputs": [
    {
     "data": {
      "text/plain": [
       "43"
      ]
     },
     "execution_count": 27,
     "metadata": {},
     "output_type": "execute_result"
    }
   ],
   "source": [
    "abs(-43)"
   ]
  },
  {
   "cell_type": "code",
   "execution_count": 28,
   "id": "bf9825ec",
   "metadata": {
    "slideshow": {
     "slide_type": "fragment"
    }
   },
   "outputs": [
    {
     "data": {
      "text/plain": [
       "1"
      ]
     },
     "execution_count": 28,
     "metadata": {},
     "output_type": "execute_result"
    }
   ],
   "source": [
    "round(2/3)"
   ]
  },
  {
   "cell_type": "code",
   "execution_count": 29,
   "id": "c1bff1ca",
   "metadata": {
    "slideshow": {
     "slide_type": "fragment"
    }
   },
   "outputs": [
    {
     "data": {
      "text/plain": [
       "3"
      ]
     },
     "execution_count": 29,
     "metadata": {},
     "output_type": "execute_result"
    }
   ],
   "source": [
    "int(3.99)"
   ]
  },
  {
   "cell_type": "code",
   "execution_count": 30,
   "id": "9c79d3da",
   "metadata": {
    "slideshow": {
     "slide_type": "fragment"
    }
   },
   "outputs": [
    {
     "data": {
      "text/plain": [
       "7.0"
      ]
     },
     "execution_count": 30,
     "metadata": {},
     "output_type": "execute_result"
    }
   ],
   "source": [
    "float(7)"
   ]
  },
  {
   "cell_type": "markdown",
   "id": "93f36746",
   "metadata": {
    "slideshow": {
     "slide_type": "slide"
    }
   },
   "source": [
    "## Nesting functions\n",
    "\n",
    "We can also _nest_ functions within one another. Nested functions are evaluated from the inside out. The code below is evaluated in the following order:\n",
    "\n",
    "1. `2 * 1.5`\n",
    "2. `round()`\n",
    "3. `type()`\n",
    "4. `print()`"
   ]
  },
  {
   "cell_type": "code",
   "execution_count": 31,
   "id": "49041e2a",
   "metadata": {
    "slideshow": {
     "slide_type": "fragment"
    }
   },
   "outputs": [
    {
     "name": "stdout",
     "output_type": "stream",
     "text": [
      "<class 'int'>\n"
     ]
    }
   ],
   "source": [
    "print(type(round(2 * 1.5)))"
   ]
  },
  {
   "cell_type": "markdown",
   "id": "10d33dcb",
   "metadata": {
    "slideshow": {
     "slide_type": "slide"
    }
   },
   "source": [
    "## Getting help\n",
    "\n",
    "How do we know what a function does or what arguments it can take? One way is by looking up documentation online. Another is by using the built in `help()` function, with the name of the function we want to know about passed in as an argument. "
   ]
  },
  {
   "cell_type": "code",
   "execution_count": 32,
   "id": "532fe5cc",
   "metadata": {
    "slideshow": {
     "slide_type": "fragment"
    }
   },
   "outputs": [
    {
     "name": "stdout",
     "output_type": "stream",
     "text": [
      "Help on built-in function round in module builtins:\n",
      "\n",
      "round(number, ndigits=None)\n",
      "    Round a number to a given precision in decimal digits.\n",
      "    \n",
      "    The return value is an integer if ndigits is omitted or None.  Otherwise\n",
      "    the return value has the same type as the number.  ndigits may be negative.\n",
      "\n"
     ]
    }
   ],
   "source": [
    "help(round)"
   ]
  },
  {
   "cell_type": "markdown",
   "id": "b8e495fb",
   "metadata": {
    "slideshow": {
     "slide_type": "slide"
    }
   },
   "source": [
    "## Writing our own functions\n",
    "\n",
    "We can also create our own functions, which allows us to reuse code without copying and pasting. As we write longer programs, functions also help structure our code."
   ]
  },
  {
   "cell_type": "markdown",
   "id": "ffe15547",
   "metadata": {
    "slideshow": {
     "slide_type": "subslide"
    }
   },
   "source": [
    "We use the `def` keyword to start a _function definition statement_. The function name follows `def`. Function names can use letters, digits, and underscores; they cannot start with a digit; and they are case sensitive. Functions in Python typically start with lowercase letters.\n",
    "\n",
    "After the function name come parameter names enclosed in parentheses. A _parameter_ is a variable used only within a function. When we pass an argument to a function, the argument value is assigned to a corresponding parameter.\n",
    "\n",
    "After the closing parenthesis comes a colon (`:`). The function _body_ follows on the next lines. The function body is an indented block of code that runs whenever we call the function. It can include comments as well as statements. The body does not run when we define the function, though!\n",
    "\n",
    "Finally, the body ends with a `return` statement. The return statement tells the function what value, if any, to output when it is called. Some functions, like `print()`, return `None` -- a special data type representing no data. If we don't write a `return` statement, Python will fill in an implicit one and return `None`."
   ]
  },
  {
   "cell_type": "markdown",
   "id": "01274079",
   "metadata": {
    "slideshow": {
     "slide_type": "subslide"
    }
   },
   "source": [
    "`degrees_fahrenheit = (9 / 5) * degrees_celsius + 32`\n",
    "\n",
    "Let's turn our Celsius-to-Fahrenheit conversion code from earlier into a function.  "
   ]
  },
  {
   "cell_type": "markdown",
   "id": "bdcf02c8",
   "metadata": {
    "slideshow": {
     "slide_type": "subslide"
    }
   },
   "source": [
    "We want our output to be a number representing degrees Fahrenheit. Our input is a number representing degrees Celsius.\n",
    "\n",
    "To make it easy to understand what our function does, let's call it `c_to_f()`. We'll need a parameter name for our input within the parentheses as well -- let's use `degrees_c`. Before writing any code in the body, we can add a comment briefly explaining what the function does.\n",
    "\n",
    "The output is the result of the expression `(9 / 5) * degrees_c + 32`. This calculation is pretty short, so we can put it in the `return` statement as is."
   ]
  },
  {
   "cell_type": "code",
   "execution_count": 33,
   "id": "69a1cfea",
   "metadata": {
    "slideshow": {
     "slide_type": "fragment"
    }
   },
   "outputs": [],
   "source": [
    "def c_to_f(degrees_c):\n",
    "    # Convert degrees from Celsius to Fahrenheit\n",
    "    return ((9 / 5) * degrees_c + 32)"
   ]
  },
  {
   "cell_type": "markdown",
   "id": "ce855b6f",
   "metadata": {
    "slideshow": {
     "slide_type": "subslide"
    }
   },
   "source": [
    "Let's try `c_to_f()` out!"
   ]
  },
  {
   "cell_type": "code",
   "execution_count": 34,
   "id": "c9ed1dff",
   "metadata": {
    "slideshow": {
     "slide_type": "fragment"
    }
   },
   "outputs": [
    {
     "name": "stdout",
     "output_type": "stream",
     "text": [
      "212.0\n",
      "12.2\n"
     ]
    }
   ],
   "source": [
    "print(c_to_f(100))\n",
    "print(c_to_f(-11))"
   ]
  },
  {
   "cell_type": "markdown",
   "id": "d0dd42b0",
   "metadata": {
    "slideshow": {
     "slide_type": "fragment"
    }
   },
   "source": [
    "We can save the output of a function by assigning it to a variable."
   ]
  },
  {
   "cell_type": "code",
   "execution_count": 35,
   "id": "f27a7980",
   "metadata": {
    "slideshow": {
     "slide_type": "fragment"
    }
   },
   "outputs": [
    {
     "data": {
      "text/plain": [
       "32.0"
      ]
     },
     "execution_count": 35,
     "metadata": {},
     "output_type": "execute_result"
    }
   ],
   "source": [
    "freezing_f = c_to_f(0)\n",
    "freezing_f"
   ]
  },
  {
   "cell_type": "markdown",
   "id": "936d16a9",
   "metadata": {
    "slideshow": {
     "slide_type": "slide"
    }
   },
   "source": [
    "### Multiple parameters\n",
    "\n",
    "Functions can have multiple parameters. In this case, the order that arguments are passed in matters. The first argument corresponds to the first parameter, the second argument to the second parameter, and so on."
   ]
  },
  {
   "cell_type": "code",
   "execution_count": 36,
   "id": "e8f57c4f",
   "metadata": {
    "slideshow": {
     "slide_type": "fragment"
    }
   },
   "outputs": [
    {
     "name": "stdout",
     "output_type": "stream",
     "text": [
      "0.0\n"
     ]
    }
   ],
   "source": [
    "def divide(dividend, divisor):\n",
    "    return dividend / divisor\n",
    "\n",
    "print(divide(0, 2))"
   ]
  },
  {
   "cell_type": "code",
   "execution_count": 37,
   "id": "81d0aa06",
   "metadata": {
    "slideshow": {
     "slide_type": "fragment"
    }
   },
   "outputs": [
    {
     "ename": "ZeroDivisionError",
     "evalue": "division by zero",
     "output_type": "error",
     "traceback": [
      "\u001b[1;31m---------------------------------------------------------------------------\u001b[0m",
      "\u001b[1;31mZeroDivisionError\u001b[0m                         Traceback (most recent call last)",
      "Input \u001b[1;32mIn [37]\u001b[0m, in \u001b[0;36m<cell line: 1>\u001b[1;34m()\u001b[0m\n\u001b[1;32m----> 1\u001b[0m \u001b[38;5;28mprint\u001b[39m(\u001b[43mdivide\u001b[49m\u001b[43m(\u001b[49m\u001b[38;5;241;43m2\u001b[39;49m\u001b[43m,\u001b[49m\u001b[43m \u001b[49m\u001b[38;5;241;43m0\u001b[39;49m\u001b[43m)\u001b[49m)\n",
      "Input \u001b[1;32mIn [36]\u001b[0m, in \u001b[0;36mdivide\u001b[1;34m(dividend, divisor)\u001b[0m\n\u001b[0;32m      1\u001b[0m \u001b[38;5;28;01mdef\u001b[39;00m \u001b[38;5;21mdivide\u001b[39m(dividend, divisor):\n\u001b[1;32m----> 2\u001b[0m     \u001b[38;5;28;01mreturn\u001b[39;00m \u001b[43mdividend\u001b[49m\u001b[43m \u001b[49m\u001b[38;5;241;43m/\u001b[39;49m\u001b[43m \u001b[49m\u001b[43mdivisor\u001b[49m\n",
      "\u001b[1;31mZeroDivisionError\u001b[0m: division by zero"
     ]
    }
   ],
   "source": [
    "print(divide(2, 0))"
   ]
  },
  {
   "cell_type": "markdown",
   "id": "7f49baa4",
   "metadata": {
    "slideshow": {
     "slide_type": "slide"
    }
   },
   "source": [
    "### Optional parameters and default arguments\n",
    "\n",
    "Functions can have default values for parameters. This is convenient when there is a commonly used default -- it means we do not have to supply that argument if the default value works for our purposes. To override the default, we can pass in an additional argument. \n",
    "\n",
    "Below, we define a sales tax calculator that uses Ontario's tax rate as the default."
   ]
  },
  {
   "cell_type": "code",
   "execution_count": 38,
   "id": "2287bab3",
   "metadata": {
    "slideshow": {
     "slide_type": "fragment"
    }
   },
   "outputs": [
    {
     "name": "stdout",
     "output_type": "stream",
     "text": [
      "0.65\n",
      "0.4\n"
     ]
    }
   ],
   "source": [
    "def calc_sales_tax(price, tax_rate=0.13):\n",
    "    return price * tax_rate\n",
    "\n",
    "print(calc_sales_tax(5))\n",
    "print(calc_sales_tax(5, .08))"
   ]
  },
  {
   "cell_type": "markdown",
   "id": "58e03fa7",
   "metadata": {
    "slideshow": {
     "slide_type": "subslide"
    }
   },
   "source": [
    "### Keyword arguments\n",
    "\n",
    "If there are multiple optional parameters, use _keyword arguments_ to specify which parameter a value should be used for. Using a keyword argument resembles assigning a variable.\n",
    "\n",
    "The function below has multiple optional parameters."
   ]
  },
  {
   "cell_type": "code",
   "execution_count": 39,
   "id": "1e81e377",
   "metadata": {
    "slideshow": {
     "slide_type": "fragment"
    }
   },
   "outputs": [],
   "source": [
    "def calc_total_bill(price, tax_rate=0.13, tip_rate=0.2):\n",
    "    tax = price * tax_rate\n",
    "    tip = price * tip_rate\n",
    "    return price + tax + tip"
   ]
  },
  {
   "cell_type": "markdown",
   "id": "39510068",
   "metadata": {
    "slideshow": {
     "slide_type": "subslide"
    }
   },
   "source": [
    "Accept all defaults:"
   ]
  },
  {
   "cell_type": "code",
   "execution_count": 40,
   "id": "34b595e3",
   "metadata": {
    "slideshow": {
     "slide_type": "fragment"
    }
   },
   "outputs": [
    {
     "data": {
      "text/plain": [
       "133.0"
      ]
     },
     "execution_count": 40,
     "metadata": {},
     "output_type": "execute_result"
    }
   ],
   "source": [
    "calc_total_bill(100)"
   ]
  },
  {
   "cell_type": "markdown",
   "id": "c2485199",
   "metadata": {
    "slideshow": {
     "slide_type": "fragment"
    }
   },
   "source": [
    "Python assumes the second argument is for the second parameter, `tax_rate`."
   ]
  },
  {
   "cell_type": "code",
   "execution_count": 41,
   "id": "bede3708",
   "metadata": {
    "slideshow": {
     "slide_type": "fragment"
    }
   },
   "outputs": [
    {
     "name": "stdout",
     "output_type": "stream",
     "text": [
      "142.0\n"
     ]
    }
   ],
   "source": [
    "print(calc_total_bill(100, 0.22))"
   ]
  },
  {
   "cell_type": "markdown",
   "id": "a2cffd6f",
   "metadata": {
    "slideshow": {
     "slide_type": "fragment"
    }
   },
   "source": [
    "Use the `tip_rate` keyword argument to specify that the second argument is not the tax rate."
   ]
  },
  {
   "cell_type": "code",
   "execution_count": 42,
   "id": "d1d9f3d2",
   "metadata": {
    "slideshow": {
     "slide_type": "fragment"
    }
   },
   "outputs": [
    {
     "name": "stdout",
     "output_type": "stream",
     "text": [
      "135.0\n"
     ]
    }
   ],
   "source": [
    "print(calc_total_bill(100, tip_rate=0.22))"
   ]
  },
  {
   "cell_type": "markdown",
   "id": "fc58762b",
   "metadata": {
    "slideshow": {
     "slide_type": "slide"
    }
   },
   "source": [
    "## Documenting functions\n",
    "\n",
    "We can call `help()` on user-defined functions as well as built-in functions. "
   ]
  },
  {
   "cell_type": "code",
   "execution_count": 43,
   "id": "8dc69f93",
   "metadata": {
    "slideshow": {
     "slide_type": "fragment"
    }
   },
   "outputs": [
    {
     "name": "stdout",
     "output_type": "stream",
     "text": [
      "Help on function c_to_f in module __main__:\n",
      "\n",
      "c_to_f(degrees_c)\n",
      "\n"
     ]
    }
   ],
   "source": [
    "help(c_to_f)"
   ]
  },
  {
   "cell_type": "markdown",
   "id": "5747c4ed",
   "metadata": {
    "slideshow": {
     "slide_type": "slide"
    }
   },
   "source": [
    "## Docstrings\n",
    "\n",
    "In order to get useful results, though, a user-defined function needs a docstring. A _docstring_ is a special kind of string, or text data, that describes what a function does. It is the first thing in a function after the definition statement, and it is typically surrounded by triple single or double quotes (`'''` or `\"\"\"`). `help()` looks for a docstring when it is called."
   ]
  },
  {
   "cell_type": "markdown",
   "id": "cedc4bcc",
   "metadata": {
    "slideshow": {
     "slide_type": "subslide"
    }
   },
   "source": [
    "Let's convert our comment from earlier into a docstring, then try calling `help()` again."
   ]
  },
  {
   "cell_type": "code",
   "execution_count": 44,
   "id": "5c55eb30",
   "metadata": {
    "slideshow": {
     "slide_type": "fragment"
    }
   },
   "outputs": [
    {
     "name": "stdout",
     "output_type": "stream",
     "text": [
      "Help on function c_to_f in module __main__:\n",
      "\n",
      "c_to_f(degrees_c)\n",
      "    Convert degrees from Celsius to Fahrenheit\n",
      "\n"
     ]
    }
   ],
   "source": [
    "def c_to_f(degrees_c):\n",
    "    '''Convert degrees from Celsius to Fahrenheit'''\n",
    "    return ((9 / 5) * degrees_c + 32)\n",
    "\n",
    "help(c_to_f)"
   ]
  },
  {
   "cell_type": "markdown",
   "id": "182f59a6",
   "metadata": {
    "slideshow": {
     "slide_type": "slide"
    }
   },
   "source": [
    "## Structure of a function\n",
    "\n",
    "Now that we've written our first function, let's review the structure.\n",
    "\n",
    "`c_to_f(degrees_c)` is the _function header_. It tells us what the function name and parameters are.\n",
    "\n",
    "`'''Convert degrees from Celsius to Fahrenheit'''` is the _docstring_. It briefly describes what the function does. Docstrings can include more information about the function, such as examples, what types of data are accepted as arguments, or what gets returned.\n",
    "\n",
    "`return ((9 / 5) * degrees_c + 32)` makes up the function _body_, or the code that runs when a function is called. This is typically more than one line of code. The body ends with a `return` statement specifying what the output of the function should be. If no `return` statement is written out, the function will return `None`."
   ]
  },
  {
   "cell_type": "markdown",
   "id": "a243134e",
   "metadata": {
    "slideshow": {
     "slide_type": "slide"
    }
   },
   "source": [
    "## Variable Scope\n",
    "\n",
    "We mentioned that parameters were variables used only in functions. This means that the parameter does not exist outside of the function call -- if we try to access `degrees_c` outside of `c_to_f()`, we get a NameError."
   ]
  },
  {
   "cell_type": "code",
   "execution_count": 45,
   "id": "3799ebfc",
   "metadata": {
    "slideshow": {
     "slide_type": "fragment"
    }
   },
   "outputs": [
    {
     "ename": "NameError",
     "evalue": "name 'degrees_c' is not defined",
     "output_type": "error",
     "traceback": [
      "\u001b[1;31m---------------------------------------------------------------------------\u001b[0m",
      "\u001b[1;31mNameError\u001b[0m                                 Traceback (most recent call last)",
      "Input \u001b[1;32mIn [45]\u001b[0m, in \u001b[0;36m<cell line: 1>\u001b[1;34m()\u001b[0m\n\u001b[1;32m----> 1\u001b[0m \u001b[43mdegrees_c\u001b[49m\n",
      "\u001b[1;31mNameError\u001b[0m: name 'degrees_c' is not defined"
     ]
    }
   ],
   "source": [
    "degrees_c"
   ]
  },
  {
   "cell_type": "markdown",
   "id": "69e2892f",
   "metadata": {
    "slideshow": {
     "slide_type": "fragment"
    }
   },
   "source": [
    "Parameters are _locally scoped_ variables. _Scope_ refers to the context in which a variable can be accessed. _Local_ indicates that the variable can only be accessed within the function itself."
   ]
  },
  {
   "cell_type": "markdown",
   "id": "b3bedf20",
   "metadata": {
    "slideshow": {
     "slide_type": "subslide"
    }
   },
   "source": [
    "In contrast, a variable defined outside of a function has _global scope_. It can be accessed from anywhere in the program."
   ]
  },
  {
   "cell_type": "code",
   "execution_count": 46,
   "id": "8d6408c9",
   "metadata": {
    "slideshow": {
     "slide_type": "fragment"
    }
   },
   "outputs": [
    {
     "name": "stdout",
     "output_type": "stream",
     "text": [
      "100 212.0\n"
     ]
    }
   ],
   "source": [
    "# boiling_c is a global variable\n",
    "boiling_c = 100\n",
    "\n",
    "# boiling_f is too\n",
    "boiling_f = c_to_f(100)\n",
    "\n",
    "print(boiling_c, boiling_f)"
   ]
  },
  {
   "cell_type": "markdown",
   "id": "722d2c13",
   "metadata": {
    "slideshow": {
     "slide_type": "subslide"
    }
   },
   "source": [
    "## Function Design Recipe\n",
    "\n",
    "This function design recipe standardizes the steps to write a function.\n",
    "\n",
    "1. Think about what your function does. Come up with a few examples of inputs and outputs.\n",
    "2. Think of a meaningful function name.\n",
    "3. Write thorough function documentation.\n",
    "4. Code the function body.\n",
    "5. Test the function against the examples from step 1."
   ]
  },
  {
   "cell_type": "markdown",
   "id": "d84f00b5",
   "metadata": {
    "slideshow": {
     "slide_type": "slide"
    }
   },
   "source": [
    "## Practice"
   ]
  },
  {
   "cell_type": "markdown",
   "id": "0f763049",
   "metadata": {
    "slideshow": {
     "slide_type": "subslide"
    }
   },
   "source": [
    "### Writing functions\n",
    "\n",
    "Following the function design recipe, define:\n",
    "* a function that converts Fahrenheit into Celsius\n",
    "* a function that converts kilometers into miles. (There are 1.6 kilometers in a mile.)"
   ]
  },
  {
   "cell_type": "markdown",
   "id": "53421365",
   "metadata": {
    "slideshow": {
     "slide_type": "subslide"
    }
   },
   "source": [
    "### Understanding scope\n",
    "\n",
    "What value is printed in the below code?\n",
    "\n",
    "```python\n",
    "answer = 3\n",
    "\n",
    "def answer_to_everything():\n",
    "    answer = 42\n",
    "    return answer\n",
    "    \n",
    "answer_to_everything()\n",
    "\n",
    "print(answer)\n",
    "```"
   ]
  },
  {
   "cell_type": "markdown",
   "id": "c396f70f",
   "metadata": {
    "slideshow": {
     "slide_type": "slide"
    }
   },
   "source": [
    "# Strings"
   ]
  },
  {
   "cell_type": "markdown",
   "id": "ed8b70b9",
   "metadata": {
    "slideshow": {
     "slide_type": "slide"
    }
   },
   "source": [
    "## What is a string?\n",
    "\n",
    "`str`, short for _string_, is Python's text data type. Strings are sequences of characters, including digits and symbols. Strings are surrounded by either single (`'`) or double (`\"`) quotes. Which one to use is a matter of preference, but they must be the consistent around a string and should be consistent across our code. The presence of apostrophes, single quotes, or double quotes in our text may require us to use a different quote option, though."
   ]
  },
  {
   "cell_type": "markdown",
   "id": "9e2bdd59",
   "metadata": {
    "slideshow": {
     "slide_type": "slide"
    }
   },
   "source": [
    "## String examples"
   ]
  },
  {
   "cell_type": "code",
   "execution_count": 47,
   "id": "12eb8ee1",
   "metadata": {
    "slideshow": {
     "slide_type": "fragment"
    }
   },
   "outputs": [
    {
     "data": {
      "text/plain": [
       "'This is a string'"
      ]
     },
     "execution_count": 47,
     "metadata": {},
     "output_type": "execute_result"
    }
   ],
   "source": [
    "'This is a string'"
   ]
  },
  {
   "cell_type": "code",
   "execution_count": 48,
   "id": "4ac33807",
   "metadata": {
    "slideshow": {
     "slide_type": "fragment"
    }
   },
   "outputs": [
    {
     "data": {
      "text/plain": [
       "'So is this'"
      ]
     },
     "execution_count": 48,
     "metadata": {},
     "output_type": "execute_result"
    }
   ],
   "source": [
    "\"So is this\""
   ]
  },
  {
   "cell_type": "code",
   "execution_count": 49,
   "id": "352e8161",
   "metadata": {
    "slideshow": {
     "slide_type": "fragment"
    }
   },
   "outputs": [
    {
     "ename": "SyntaxError",
     "evalue": "unterminated string literal (detected at line 1) (1479919974.py, line 1)",
     "output_type": "error",
     "traceback": [
      "\u001b[1;36m  Input \u001b[1;32mIn [49]\u001b[1;36m\u001b[0m\n\u001b[1;33m    \"these quotes do not match'\u001b[0m\n\u001b[1;37m    ^\u001b[0m\n\u001b[1;31mSyntaxError\u001b[0m\u001b[1;31m:\u001b[0m unterminated string literal (detected at line 1)\n"
     ]
    }
   ],
   "source": [
    "\"these quotes do not match'"
   ]
  },
  {
   "cell_type": "code",
   "execution_count": 50,
   "id": "b555fd3c",
   "metadata": {
    "slideshow": {
     "slide_type": "subslide"
    }
   },
   "outputs": [
    {
     "ename": "SyntaxError",
     "evalue": "invalid syntax (1618629434.py, line 1)",
     "output_type": "error",
     "traceback": [
      "\u001b[1;36m  Input \u001b[1;32mIn [50]\u001b[1;36m\u001b[0m\n\u001b[1;33m    'Let's see if this works\u001b[0m\n\u001b[1;37m         ^\u001b[0m\n\u001b[1;31mSyntaxError\u001b[0m\u001b[1;31m:\u001b[0m invalid syntax\n"
     ]
    }
   ],
   "source": [
    "'Let's see if this works"
   ]
  },
  {
   "cell_type": "code",
   "execution_count": 51,
   "id": "5d695d24",
   "metadata": {
    "slideshow": {
     "slide_type": "fragment"
    }
   },
   "outputs": [
    {
     "data": {
      "text/plain": [
       "\"Let's see if this works now\""
      ]
     },
     "execution_count": 51,
     "metadata": {},
     "output_type": "execute_result"
    }
   ],
   "source": [
    "# use double quotes to avoid the error\n",
    "\"Let's see if this works now\""
   ]
  },
  {
   "cell_type": "markdown",
   "id": "e1404f58",
   "metadata": {
    "slideshow": {
     "slide_type": "slide"
    }
   },
   "source": [
    "## Multiline strings\n",
    "\n",
    "If we want a string to span multiple lines of code, we need to wrap it in triple quotations (`'''` or `\"\"\"`). We saw this before with our docstrings!"
   ]
  },
  {
   "cell_type": "code",
   "execution_count": 52,
   "id": "af1875b1",
   "metadata": {
    "slideshow": {
     "slide_type": "fragment"
    }
   },
   "outputs": [
    {
     "data": {
      "text/plain": [
       "'\\nI am a multiline string\\n\\nI\\'m very useful for documenting functions \\nand for storing longer texts.\\n\\nAnd you don\\'t have to worry about apostrophes or \"quote\"s!\\n'"
      ]
     },
     "execution_count": 52,
     "metadata": {},
     "output_type": "execute_result"
    }
   ],
   "source": [
    "'''\n",
    "I am a multiline string\n",
    "\n",
    "I'm very useful for documenting functions \n",
    "and for storing longer texts.\n",
    "\n",
    "And you don't have to worry about apostrophes or \"quote\"s!\n",
    "'''"
   ]
  },
  {
   "cell_type": "markdown",
   "id": "b19547d6",
   "metadata": {
    "slideshow": {
     "slide_type": "slide"
    }
   },
   "source": [
    "## Escape sequences\n",
    "\n",
    "Where did those `\\n` characters come from and where did our line breaks go in that last string? `\\n` is an _escape sequence_, a combination of characters that means something else. Here, it means \"new line\", not literally \"\\n\". More generally, the backslash (`\\`) is an escape character that can be used to indicate that the next character should be treated differently."
   ]
  },
  {
   "cell_type": "markdown",
   "id": "b6191db7",
   "metadata": {
    "slideshow": {
     "slide_type": "subslide"
    }
   },
   "source": [
    "### Escape sequences\n",
    "|Escape sequence|Description|\n",
    "|-----|-----|\n",
    "|\\\\'|Single quote|\n",
    "|\\\\\"|Double quote|\n",
    "|\\\\\\\\|Backslash|\n",
    "|\\t|Tab|\n",
    "|\\n|Newline|\n",
    "|\\r|Carriage return|"
   ]
  },
  {
   "cell_type": "code",
   "execution_count": 53,
   "id": "f798ecd5",
   "metadata": {
    "slideshow": {
     "slide_type": "fragment"
    }
   },
   "outputs": [
    {
     "data": {
      "text/plain": [
       "\"This string won't result in an error thanks to the escape sequence\""
      ]
     },
     "execution_count": 53,
     "metadata": {},
     "output_type": "execute_result"
    }
   ],
   "source": [
    "'This string won\\'t result in an error thanks to the escape sequence'"
   ]
  },
  {
   "cell_type": "markdown",
   "id": "11052d21",
   "metadata": {
    "slideshow": {
     "slide_type": "slide"
    }
   },
   "source": [
    "## Working with strings and overloading\n",
    "\n",
    "Some arithmetic and comparison operators also work with strings, though their meaning changes. When an operator does different things depending on the data provided, we say that it is _overloaded_. It's important to understand what type of data is being used with an overloaded operator so that the results are as expected."
   ]
  },
  {
   "cell_type": "markdown",
   "id": "1732a7cd",
   "metadata": {
    "slideshow": {
     "slide_type": "subslide"
    }
   },
   "source": [
    "### Strings and arithmetic operators"
   ]
  },
  {
   "cell_type": "code",
   "execution_count": 54,
   "id": "4e36d1f4",
   "metadata": {
    "slideshow": {
     "slide_type": "fragment"
    }
   },
   "outputs": [
    {
     "data": {
      "text/plain": [
       "'hello world'"
      ]
     },
     "execution_count": 54,
     "metadata": {},
     "output_type": "execute_result"
    }
   ],
   "source": [
    "# adding strings together concatenates them\n",
    "'hello' + ' ' + 'world'"
   ]
  },
  {
   "cell_type": "code",
   "execution_count": 55,
   "id": "69d734a3",
   "metadata": {
    "slideshow": {
     "slide_type": "fragment"
    }
   },
   "outputs": [
    {
     "data": {
      "text/plain": [
       "'hahaha'"
      ]
     },
     "execution_count": 55,
     "metadata": {},
     "output_type": "execute_result"
    }
   ],
   "source": [
    "# multiplying a string repeats it\n",
    "'ha' * 3"
   ]
  },
  {
   "cell_type": "code",
   "execution_count": 56,
   "id": "444cd7f1",
   "metadata": {
    "slideshow": {
     "slide_type": "fragment"
    }
   },
   "outputs": [
    {
     "ename": "TypeError",
     "evalue": "can only concatenate str (not \"int\") to str",
     "output_type": "error",
     "traceback": [
      "\u001b[1;31m---------------------------------------------------------------------------\u001b[0m",
      "\u001b[1;31mTypeError\u001b[0m                                 Traceback (most recent call last)",
      "Input \u001b[1;32mIn [56]\u001b[0m, in \u001b[0;36m<cell line: 2>\u001b[1;34m()\u001b[0m\n\u001b[0;32m      1\u001b[0m \u001b[38;5;66;03m# mixing data types results in an error\u001b[39;00m\n\u001b[1;32m----> 2\u001b[0m \u001b[38;5;124;43m'\u001b[39;49m\u001b[38;5;124;43mThe year is \u001b[39;49m\u001b[38;5;124;43m'\u001b[39;49m\u001b[43m \u001b[49m\u001b[38;5;241;43m+\u001b[39;49m\u001b[43m \u001b[49m\u001b[38;5;241;43m2020\u001b[39;49m\n",
      "\u001b[1;31mTypeError\u001b[0m: can only concatenate str (not \"int\") to str"
     ]
    }
   ],
   "source": [
    "# mixing data types results in an error\n",
    "'The year is ' + 2020"
   ]
  },
  {
   "cell_type": "markdown",
   "id": "071bacd8",
   "metadata": {
    "slideshow": {
     "slide_type": "slide"
    }
   },
   "source": [
    "## Practice"
   ]
  },
  {
   "cell_type": "markdown",
   "id": "8161d113",
   "metadata": {
    "slideshow": {
     "slide_type": "subslide"
    }
   },
   "source": [
    "Complete the examples in the docstring below, then write the body of the function\n"
   ]
  },
  {
   "cell_type": "code",
   "execution_count": 57,
   "id": "0a0eb99e",
   "metadata": {
    "slideshow": {
     "slide_type": "fragment"
    }
   },
   "outputs": [],
   "source": [
    "def repeat(string, num):\n",
    "    \"\"\" Return string repeated num times.\n",
    "    >>> repeat('yes', 4)\n",
    "    'yesyesyesyes'\n",
    "    >>> repeat('no', 0)\n",
    "    \n",
    "    >>> repeat('yesnomaybe', 3)\n",
    "    \n",
    "    \"\"\"\n",
    "    "
   ]
  },
  {
   "cell_type": "markdown",
   "id": "beca20a7",
   "metadata": {
    "slideshow": {
     "slide_type": "subslide"
    }
   },
   "source": [
    "### Strings and comparison operators\n",
    "\n",
    "We can use the `==` and `!=` operators to compare strings, as well as to compare strings and numbers."
   ]
  },
  {
   "cell_type": "code",
   "execution_count": 58,
   "id": "b922b788",
   "metadata": {
    "slideshow": {
     "slide_type": "fragment"
    }
   },
   "outputs": [
    {
     "data": {
      "text/plain": [
       "False"
      ]
     },
     "execution_count": 58,
     "metadata": {},
     "output_type": "execute_result"
    }
   ],
   "source": [
    "'apple' == 'Apple'"
   ]
  },
  {
   "cell_type": "code",
   "execution_count": 59,
   "id": "5f0f4faa",
   "metadata": {
    "slideshow": {
     "slide_type": "fragment"
    }
   },
   "outputs": [
    {
     "data": {
      "text/plain": [
       "True"
      ]
     },
     "execution_count": 59,
     "metadata": {},
     "output_type": "execute_result"
    }
   ],
   "source": [
    "'apple' != 'Apple'"
   ]
  },
  {
   "cell_type": "code",
   "execution_count": 60,
   "id": "1158f00c",
   "metadata": {
    "slideshow": {
     "slide_type": "fragment"
    }
   },
   "outputs": [
    {
     "data": {
      "text/plain": [
       "False"
      ]
     },
     "execution_count": 60,
     "metadata": {},
     "output_type": "execute_result"
    }
   ],
   "source": [
    "'20' == 20"
   ]
  },
  {
   "cell_type": "markdown",
   "id": "fb078997",
   "metadata": {
    "slideshow": {
     "slide_type": "slide"
    }
   },
   "source": [
    "## Strings within strings\n",
    "\n",
    "\n",
    "We can extract a piece of a string by _slicing_ it. For example, if we want to get initials from a first name and last name, we may slice the first letter of each.\n",
    "\n",
    "To slice a string, we add square brackets (`[]`) to the end of it. To get a single character, we then put the _index_ or position, of the character we want to get.\n",
    "\n",
    "To get multiple characters, we put the starting index of our slice, then a colon (`:`) and finally the index where we want to end our slice. **Strings in Python are _zero-indexed_, meaning that the first letter is at index 0, not 1.** Slices do not include the character at the ending index position."
   ]
  },
  {
   "cell_type": "markdown",
   "id": "f07856bf",
   "metadata": {
    "slideshow": {
     "slide_type": "subslide"
    }
   },
   "source": [
    "### Slicing single characters"
   ]
  },
  {
   "cell_type": "code",
   "execution_count": 61,
   "id": "c231d8f4",
   "metadata": {
    "slideshow": {
     "slide_type": "fragment"
    }
   },
   "outputs": [
    {
     "name": "stdout",
     "output_type": "stream",
     "text": [
      "Initials are A L\n"
     ]
    }
   ],
   "source": [
    "first_name = 'Ada'\n",
    "last_name = 'Lovelace'\n",
    "\n",
    "# print initials\n",
    "print('Initials are', first_name[0], last_name[0])"
   ]
  },
  {
   "cell_type": "markdown",
   "id": "b2ad7ff0",
   "metadata": {
    "slideshow": {
     "slide_type": "subslide"
    }
   },
   "source": [
    "If we don't provide a starting index, our string slice will go from the beginning to the ending index. Similarly, if we don't provide an ending index, our string slice will go from the starting index to the end."
   ]
  },
  {
   "cell_type": "code",
   "execution_count": 62,
   "id": "2a8ab4a2",
   "metadata": {
    "slideshow": {
     "slide_type": "fragment"
    }
   },
   "outputs": [
    {
     "name": "stdout",
     "output_type": "stream",
     "text": [
      "A lace\n"
     ]
    }
   ],
   "source": [
    "print(first_name[:1], last_name[4:])"
   ]
  },
  {
   "cell_type": "code",
   "execution_count": 63,
   "id": "474b7246",
   "metadata": {
    "slideshow": {
     "slide_type": "fragment"
    }
   },
   "outputs": [
    {
     "data": {
      "text/plain": [
       "'555'"
      ]
     },
     "execution_count": 63,
     "metadata": {},
     "output_type": "execute_result"
    }
   ],
   "source": [
    "phone_number = '+1 555-123-4567'\n",
    "\n",
    "# get the area code\n",
    "phone_number[3:6]"
   ]
  },
  {
   "cell_type": "markdown",
   "id": "6c8352ae",
   "metadata": {
    "slideshow": {
     "slide_type": "subslide"
    }
   },
   "source": [
    "We can even use negative indices. Here, we slice from the fourth-to-last character to the end."
   ]
  },
  {
   "cell_type": "code",
   "execution_count": 64,
   "id": "41ee9c63",
   "metadata": {
    "slideshow": {
     "slide_type": "fragment"
    }
   },
   "outputs": [
    {
     "data": {
      "text/plain": [
       "'4567'"
      ]
     },
     "execution_count": 64,
     "metadata": {},
     "output_type": "execute_result"
    }
   ],
   "source": [
    "phone_number[-4:]"
   ]
  },
  {
   "cell_type": "markdown",
   "id": "11b03c70",
   "metadata": {
    "slideshow": {
     "slide_type": "subslide"
    }
   },
   "source": [
    "### Checking for strings\n",
    "\n",
    "We can also check for character sequences, or _substrings_ within a string. There are multiple ways to do this, but one of the simplest is with the `in` operator."
   ]
  },
  {
   "cell_type": "code",
   "execution_count": 65,
   "id": "052d6727",
   "metadata": {
    "slideshow": {
     "slide_type": "fragment"
    }
   },
   "outputs": [],
   "source": [
    "job_qualifications = 'The successful applicant will be proficient in R, Python, SQL, statistics, and data visualization.'"
   ]
  },
  {
   "cell_type": "code",
   "execution_count": 66,
   "id": "22261d43",
   "metadata": {
    "slideshow": {
     "slide_type": "fragment"
    }
   },
   "outputs": [
    {
     "data": {
      "text/plain": [
       "True"
      ]
     },
     "execution_count": 66,
     "metadata": {},
     "output_type": "execute_result"
    }
   ],
   "source": [
    "'R' in job_qualifications"
   ]
  },
  {
   "cell_type": "code",
   "execution_count": 67,
   "id": "0345fd67",
   "metadata": {
    "slideshow": {
     "slide_type": "fragment"
    }
   },
   "outputs": [
    {
     "data": {
      "text/plain": [
       "False"
      ]
     },
     "execution_count": 67,
     "metadata": {},
     "output_type": "execute_result"
    }
   ],
   "source": [
    "' r ' in job_qualifications"
   ]
  },
  {
   "cell_type": "code",
   "execution_count": 68,
   "id": "c54f65ef",
   "metadata": {
    "slideshow": {
     "slide_type": "fragment"
    }
   },
   "outputs": [
    {
     "data": {
      "text/plain": [
       "False"
      ]
     },
     "execution_count": 68,
     "metadata": {},
     "output_type": "execute_result"
    }
   ],
   "source": [
    "'JavaScript' in job_qualifications"
   ]
  },
  {
   "cell_type": "markdown",
   "id": "94b61ac0",
   "metadata": {
    "slideshow": {
     "slide_type": "slide"
    }
   },
   "source": [
    "## Converting between types\n",
    "\n",
    "Sometimes, we'll get string data that should be treated as a number, or vice versa. We can use the `str()`, `int()` and `float()` functions to convert between data types. If the argument to the type conversion function is not valid in the target data type, Python will produce an error."
   ]
  },
  {
   "cell_type": "markdown",
   "id": "edb37e4d",
   "metadata": {
    "slideshow": {
     "slide_type": "subslide"
    }
   },
   "source": [
    "#### String to integer"
   ]
  },
  {
   "cell_type": "code",
   "execution_count": 69,
   "id": "5af84a29",
   "metadata": {
    "slideshow": {
     "slide_type": "fragment"
    }
   },
   "outputs": [
    {
     "data": {
      "text/plain": [
       "17"
      ]
     },
     "execution_count": 69,
     "metadata": {},
     "output_type": "execute_result"
    }
   ],
   "source": [
    "int('17')"
   ]
  },
  {
   "cell_type": "code",
   "execution_count": 70,
   "id": "fbf1894e",
   "metadata": {
    "slideshow": {
     "slide_type": "fragment"
    }
   },
   "outputs": [
    {
     "ename": "ValueError",
     "evalue": "invalid literal for int() with base 10: '17.4'",
     "output_type": "error",
     "traceback": [
      "\u001b[1;31m---------------------------------------------------------------------------\u001b[0m",
      "\u001b[1;31mValueError\u001b[0m                                Traceback (most recent call last)",
      "Input \u001b[1;32mIn [70]\u001b[0m, in \u001b[0;36m<cell line: 1>\u001b[1;34m()\u001b[0m\n\u001b[1;32m----> 1\u001b[0m \u001b[38;5;28;43mint\u001b[39;49m\u001b[43m(\u001b[49m\u001b[38;5;124;43m'\u001b[39;49m\u001b[38;5;124;43m17.4\u001b[39;49m\u001b[38;5;124;43m'\u001b[39;49m\u001b[43m)\u001b[49m\n",
      "\u001b[1;31mValueError\u001b[0m: invalid literal for int() with base 10: '17.4'"
     ]
    }
   ],
   "source": [
    "int('17.4')"
   ]
  },
  {
   "cell_type": "code",
   "execution_count": 71,
   "id": "ed698bf3",
   "metadata": {
    "slideshow": {
     "slide_type": "fragment"
    }
   },
   "outputs": [
    {
     "ename": "ValueError",
     "evalue": "invalid literal for int() with base 10: 'me'",
     "output_type": "error",
     "traceback": [
      "\u001b[1;31m---------------------------------------------------------------------------\u001b[0m",
      "\u001b[1;31mValueError\u001b[0m                                Traceback (most recent call last)",
      "Input \u001b[1;32mIn [71]\u001b[0m, in \u001b[0;36m<cell line: 1>\u001b[1;34m()\u001b[0m\n\u001b[1;32m----> 1\u001b[0m \u001b[38;5;28;43mint\u001b[39;49m\u001b[43m(\u001b[49m\u001b[38;5;124;43m'\u001b[39;49m\u001b[38;5;124;43mme\u001b[39;49m\u001b[38;5;124;43m'\u001b[39;49m\u001b[43m)\u001b[49m\n",
      "\u001b[1;31mValueError\u001b[0m: invalid literal for int() with base 10: 'me'"
     ]
    }
   ],
   "source": [
    "int('me')"
   ]
  },
  {
   "cell_type": "markdown",
   "id": "5fc3ae9b",
   "metadata": {
    "slideshow": {
     "slide_type": "subslide"
    }
   },
   "source": [
    "#### String to float"
   ]
  },
  {
   "cell_type": "code",
   "execution_count": 72,
   "id": "516644f7",
   "metadata": {
    "slideshow": {
     "slide_type": "fragment"
    }
   },
   "outputs": [
    {
     "data": {
      "text/plain": [
       "892.0"
      ]
     },
     "execution_count": 72,
     "metadata": {},
     "output_type": "execute_result"
    }
   ],
   "source": [
    "float('892')"
   ]
  },
  {
   "cell_type": "code",
   "execution_count": 73,
   "id": "f9013665",
   "metadata": {
    "slideshow": {
     "slide_type": "fragment"
    }
   },
   "outputs": [
    {
     "ename": "ValueError",
     "evalue": "could not convert string to float: 'you'",
     "output_type": "error",
     "traceback": [
      "\u001b[1;31m---------------------------------------------------------------------------\u001b[0m",
      "\u001b[1;31mValueError\u001b[0m                                Traceback (most recent call last)",
      "Input \u001b[1;32mIn [73]\u001b[0m, in \u001b[0;36m<cell line: 1>\u001b[1;34m()\u001b[0m\n\u001b[1;32m----> 1\u001b[0m \u001b[38;5;28;43mfloat\u001b[39;49m\u001b[43m(\u001b[49m\u001b[38;5;124;43m'\u001b[39;49m\u001b[38;5;124;43myou\u001b[39;49m\u001b[38;5;124;43m'\u001b[39;49m\u001b[43m)\u001b[49m\n",
      "\u001b[1;31mValueError\u001b[0m: could not convert string to float: 'you'"
     ]
    }
   ],
   "source": [
    "float('you')"
   ]
  },
  {
   "cell_type": "markdown",
   "id": "018ce02a",
   "metadata": {
    "slideshow": {
     "slide_type": "subslide"
    }
   },
   "source": [
    "#### Float and int to string"
   ]
  },
  {
   "cell_type": "code",
   "execution_count": 74,
   "id": "d750cc4f",
   "metadata": {
    "slideshow": {
     "slide_type": "fragment"
    }
   },
   "outputs": [
    {
     "data": {
      "text/plain": [
       "'37.5'"
      ]
     },
     "execution_count": 74,
     "metadata": {},
     "output_type": "execute_result"
    }
   ],
   "source": [
    "str(37.5)"
   ]
  },
  {
   "cell_type": "code",
   "execution_count": 75,
   "id": "40d832c1",
   "metadata": {
    "slideshow": {
     "slide_type": "fragment"
    }
   },
   "outputs": [
    {
     "data": {
      "text/plain": [
       "'20'"
      ]
     },
     "execution_count": 75,
     "metadata": {},
     "output_type": "execute_result"
    }
   ],
   "source": [
    "str(20)"
   ]
  },
  {
   "cell_type": "code",
   "execution_count": 76,
   "id": "bdc67737",
   "metadata": {
    "slideshow": {
     "slide_type": "fragment"
    }
   },
   "outputs": [
    {
     "data": {
      "text/plain": [
       "'2037.5'"
      ]
     },
     "execution_count": 76,
     "metadata": {},
     "output_type": "execute_result"
    }
   ],
   "source": [
    "'20' + str(37.5)"
   ]
  },
  {
   "cell_type": "markdown",
   "id": "b334b4fe",
   "metadata": {
    "slideshow": {
     "slide_type": "slide"
    }
   },
   "source": [
    "## Strings and functions\n",
    "\n",
    "String data works with some of the functions we've seen before, like `print()`, as well as with built-in functions like `len()`, which tells us how long the argument we pass in is."
   ]
  },
  {
   "cell_type": "code",
   "execution_count": 77,
   "id": "2887ca72",
   "metadata": {
    "slideshow": {
     "slide_type": "fragment"
    }
   },
   "outputs": [
    {
     "name": "stdout",
     "output_type": "stream",
     "text": [
      "1 fish, 2 fish\n"
     ]
    }
   ],
   "source": [
    "# We can print strings, ints, and floats together\n",
    "print(1, 'fish,', 2, 'fish')"
   ]
  },
  {
   "cell_type": "code",
   "execution_count": 78,
   "id": "9fe0a453",
   "metadata": {
    "slideshow": {
     "slide_type": "fragment"
    }
   },
   "outputs": [
    {
     "data": {
      "text/plain": [
       "80"
      ]
     },
     "execution_count": 78,
     "metadata": {},
     "output_type": "execute_result"
    }
   ],
   "source": [
    "len('Sometimes we type long-winded sentences to meet word counts or character counts.')"
   ]
  },
  {
   "cell_type": "markdown",
   "id": "8af90510",
   "metadata": {
    "slideshow": {
     "slide_type": "slide"
    }
   },
   "source": [
    "## String methods\n",
    "\n",
    "Strings in Python also have _methods_, which are functions that work only for a specific type of data. We'll learn about methods in more depth later. The key points here are:\n",
    "\n",
    "- String methods work only on strings -- not on integers, floats, or booleans\n",
    "- Methods are called differently from other functions"
   ]
  },
  {
   "cell_type": "markdown",
   "id": "dc5f7eed",
   "metadata": {
    "slideshow": {
     "slide_type": "subslide"
    }
   },
   "source": [
    "To use a string method, we specify a string, then follow it with a period and the method being called."
   ]
  },
  {
   "cell_type": "code",
   "execution_count": 79,
   "id": "03b3d6a1",
   "metadata": {
    "slideshow": {
     "slide_type": "fragment"
    }
   },
   "outputs": [
    {
     "data": {
      "text/plain": [
       "'I AM NOT YELLING'"
      ]
     },
     "execution_count": 79,
     "metadata": {},
     "output_type": "execute_result"
    }
   ],
   "source": [
    "# convert a string to all caps\n",
    "'I am not yelling'.upper()"
   ]
  },
  {
   "cell_type": "code",
   "execution_count": 80,
   "id": "afe58878",
   "metadata": {
    "slideshow": {
     "slide_type": "fragment"
    }
   },
   "outputs": [
    {
     "data": {
      "text/plain": [
       "0"
      ]
     },
     "execution_count": 80,
     "metadata": {},
     "output_type": "execute_result"
    }
   ],
   "source": [
    "# count the 'e's\n",
    "'This string is unusual'.count('e')"
   ]
  },
  {
   "cell_type": "code",
   "execution_count": 88,
   "id": "4411add4",
   "metadata": {
    "slideshow": {
     "slide_type": "subslide"
    }
   },
   "outputs": [
    {
     "data": {
      "text/plain": [
       "True"
      ]
     },
     "execution_count": 88,
     "metadata": {},
     "output_type": "execute_result"
    }
   ],
   "source": [
    "# check if a string ends with a substring\n",
    "'file_name.csv'.endswith('.csv')"
   ]
  },
  {
   "cell_type": "code",
   "execution_count": 89,
   "id": "cc09e74b",
   "metadata": {
    "slideshow": {
     "slide_type": "fragment"
    }
   },
   "outputs": [
    {
     "data": {
      "text/plain": [
       "'long_file_name_with_spaces.csv'"
      ]
     },
     "execution_count": 89,
     "metadata": {},
     "output_type": "execute_result"
    }
   ],
   "source": [
    "# replace text\n",
    "'long file name with spaces.csv'.replace(' ', '_')"
   ]
  },
  {
   "cell_type": "markdown",
   "id": "1d548a4e",
   "metadata": {
    "slideshow": {
     "slide_type": "fragment"
    }
   },
   "source": [
    "For a full list of string methods, see the [Python documentation](https://docs.python.org/3/library/stdtypes.html#string-methods)."
   ]
  },
  {
   "cell_type": "markdown",
   "id": "131e451a",
   "metadata": {
    "slideshow": {
     "slide_type": "subslide"
    }
   },
   "source": [
    "### Formatting Strings\n",
    "\n",
    "The `format()` string method makes it easier to combine text with other data. We can create text templates with curly braces (`{}`), then pass values in."
   ]
  },
  {
   "cell_type": "code",
   "execution_count": 81,
   "id": "c6cc75d8",
   "metadata": {
    "slideshow": {
     "slide_type": "fragment"
    }
   },
   "outputs": [
    {
     "data": {
      "text/plain": [
       "\"Ada Lovelace's initials are A. L.\""
      ]
     },
     "execution_count": 81,
     "metadata": {},
     "output_type": "execute_result"
    }
   ],
   "source": [
    "'Ada Lovelace\\'s initials are {}. {}.'.format('Ada'[0], 'Lovelace'[0])"
   ]
  },
  {
   "cell_type": "markdown",
   "id": "a0cd99a3",
   "metadata": {
    "slideshow": {
     "slide_type": "fragment"
    }
   },
   "source": [
    "If we preface the string with `f`, we can pass values directly into the curly braces."
   ]
  },
  {
   "cell_type": "code",
   "execution_count": 87,
   "id": "4ae6edf7",
   "metadata": {
    "slideshow": {
     "slide_type": "fragment"
    }
   },
   "outputs": [
    {
     "data": {
      "text/plain": [
       "\"Ada Lovelace's initials are A. L.\""
      ]
     },
     "execution_count": 87,
     "metadata": {},
     "output_type": "execute_result"
    }
   ],
   "source": [
    "f'Ada Lovelace\\'s initials are {\"Ada\"[0]}. {\"Lovelace\"[0]}.'"
   ]
  },
  {
   "cell_type": "markdown",
   "id": "4090d1f7",
   "metadata": {
    "slideshow": {
     "slide_type": "subslide"
    }
   },
   "source": [
    "When in doubt, we can call for `help()`!"
   ]
  },
  {
   "cell_type": "code",
   "execution_count": 83,
   "id": "f663acf3",
   "metadata": {
    "slideshow": {
     "slide_type": "fragment"
    }
   },
   "outputs": [
    {
     "name": "stdout",
     "output_type": "stream",
     "text": [
      "Help on method_descriptor:\n",
      "\n",
      "lower(self, /)\n",
      "    Return a copy of the string converted to lowercase.\n",
      "\n"
     ]
    }
   ],
   "source": [
    "help(str.lower)"
   ]
  },
  {
   "cell_type": "markdown",
   "id": "5645a11c",
   "metadata": {
    "slideshow": {
     "slide_type": "slide"
    }
   },
   "source": [
    "# Input"
   ]
  },
  {
   "cell_type": "markdown",
   "id": "3ac38293",
   "metadata": {
    "slideshow": {
     "slide_type": "slide"
    }
   },
   "source": [
    "## Getting user input\n",
    "\n",
    "Sometimes, we may want to work with data given to us by the user running the program. One way to get user input is with the `input()` function, which prompts the user and returns their response as a string. `input()` takes a prompt string as an argument.\n",
    "\n",
    "Be careful when using `input()` -- there's no guarantee that the user will answer in a way you expect!"
   ]
  },
  {
   "cell_type": "code",
   "execution_count": 84,
   "id": "69f1ae7d",
   "metadata": {
    "slideshow": {
     "slide_type": "subslide"
    }
   },
   "outputs": [
    {
     "name": "stdout",
     "output_type": "stream",
     "text": [
      "How old are you? 200\n"
     ]
    },
    {
     "data": {
      "text/plain": [
       "'200'"
      ]
     },
     "execution_count": 84,
     "metadata": {},
     "output_type": "execute_result"
    }
   ],
   "source": [
    "age = input('How old are you? ')\n",
    "age"
   ]
  },
  {
   "cell_type": "code",
   "execution_count": 85,
   "id": "b81e701c",
   "metadata": {
    "slideshow": {
     "slide_type": "fragment"
    }
   },
   "outputs": [
    {
     "name": "stdout",
     "output_type": "stream",
     "text": [
      "Next birthday you will be 201\n"
     ]
    }
   ],
   "source": [
    "# to do arithmetic on an input, we need to convert it\n",
    "age_next_bday = int(age) + 1\n",
    "print('Next birthday you will be {}'.format(age_next_bday))"
   ]
  },
  {
   "cell_type": "markdown",
   "id": "0d1c483c",
   "metadata": {
    "slideshow": {
     "slide_type": "slide"
    }
   },
   "source": [
    "# References"
   ]
  },
  {
   "cell_type": "markdown",
   "id": "c43689bc",
   "metadata": {
    "slideshow": {
     "slide_type": "subslide"
    }
   },
   "source": [
    "- Bostroem, Bekolay, and Staneva (eds): \"Software Carpentry: Programming with Python\"  Version 2016.06, June 2016, https://github.com/swcarpentry/python-novice-inflammation, 10.5281/zenodo.57492.\n",
    "- Chapters 1, 2, 3, and 4, Gries, Campbell, and Montojo, 2017, *Practical Programming: An Introduction to Computer Science Using Python 3.6*\n",
    "- Chapter 8, Adhikari, DeNero, and Wagner, 2021, *Computational and Inferential Thinking: The Foundations of Data Science*\n",
    "- \"String methods\", Python Software Foundation, *Python Language Reference, version 3.* Available at https://docs.python.org/3/library/stdtypes.html#string-methods"
   ]
  }
 ],
 "metadata": {
  "celltoolbar": "Slideshow",
  "kernelspec": {
   "display_name": "Python 3 (ipykernel)",
   "language": "python",
   "name": "python3"
  },
  "language_info": {
   "codemirror_mode": {
    "name": "ipython",
    "version": 3
   },
   "file_extension": ".py",
   "mimetype": "text/x-python",
   "name": "python",
   "nbconvert_exporter": "python",
   "pygments_lexer": "ipython3",
   "version": "3.10.4"
  },
  "rise": {
   "scroll": true,
   "theme": "solarized",
   "transition": "none"
  }
 },
 "nbformat": 4,
 "nbformat_minor": 5
}
