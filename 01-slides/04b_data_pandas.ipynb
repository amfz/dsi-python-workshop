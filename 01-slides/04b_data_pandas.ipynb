{
 "cells": [
  {
   "cell_type": "markdown",
   "id": "40d3f376",
   "metadata": {
    "slideshow": {
     "slide_type": "slide"
    }
   },
   "source": [
    "# Doing More with Data: `pandas`\n",
    "\n",
    "## Introduction to Python\n",
    "\n",
    "Data Sciences Institute, University of Toronto\n",
    "\n",
    "Instructor: A Mahfouz | TA: Kaylie Lau  \n",
    "July 2022"
   ]
  },
  {
   "cell_type": "markdown",
   "id": "11cd7cd4",
   "metadata": {
    "slideshow": {
     "slide_type": "skip"
    }
   },
   "source": [
    "### Jupyter Notebook as a Slideshow\n",
    "\n",
    "To see this notebook as a live slideshow, we need to install RISE (Reveal.js - Jupyter/IPython Slideshow Extension):\n",
    "\n",
    "1. Insert a cell and execute the following code: `conda install -c conda-forge rise`\n",
    "2. Restart the Jupyter Notebook.\n",
    "3. On the top of your notebook you have a new icon that looks like a bar chart; hover over the icon to see 'Enter/Exit RISE Slideshow'.\n",
    "4. Click on the RISE icon and enjoy the slideshow.\n",
    "5. You can edit the notebook in a slideshow mode by double clicking the line.\n",
    "*This is done only once. Now all your notebooks will have the RISE extension (unless you re-install the Jupyter Notebook).*"
   ]
  },
  {
   "cell_type": "markdown",
   "id": "d59f3e1e",
   "metadata": {
    "slideshow": {
     "slide_type": "slide"
    }
   },
   "source": [
    "# Contents:\n",
    "\n",
    "1. Setup\n",
    "2. Intro to `pandas`\n",
    "2. Getting data\n",
    "3. Profiling and initial data exploration: changing data types, descriptive statistics\n",
    "4. Wrangling and plotting: concatenating, merging, adding and removing columns, filtering and selecting, null values, grouping and aggregating, plotting\n",
    "5. Writing to file\n",
    "6. More wrangling: reshaping, applying functions"
   ]
  },
  {
   "cell_type": "markdown",
   "id": "7543c2f9",
   "metadata": {
    "slideshow": {
     "slide_type": "slide"
    }
   },
   "source": [
    "# Setup"
   ]
  },
  {
   "cell_type": "markdown",
   "id": "42f401de",
   "metadata": {
    "slideshow": {
     "slide_type": "slide"
    }
   },
   "source": [
    "## Anaconda\n",
    "\n",
    "Install `pandas` if you haven't already. If you're not sure, go through the steps below.\n",
    "\n",
    "1. Open Anaconda Prompt. You may have to do this in admin mode.\n",
    "2. Type `conda install pandas` and press enter to run.\n",
    "3. Press `enter` to answer Y to any prompts.\n",
    "\n",
    "We will also need `openpyxl`, which can be installed by running the command `conda install openpyxl` in Anaconda Prompt."
   ]
  },
  {
   "cell_type": "markdown",
   "id": "240c98df",
   "metadata": {
    "slideshow": {
     "slide_type": "slide"
    }
   },
   "source": [
    "## Google Colab\n",
    "\n",
    "If you're using Colab, you're all set! `pandas` and `openpyxl` are already installed."
   ]
  },
  {
   "cell_type": "markdown",
   "id": "617bcc6b",
   "metadata": {
    "slideshow": {
     "slide_type": "slide"
    }
   },
   "source": [
    "## Data\n",
    "\n",
    "This module uses four datasets: [bike thefts](https://open.toronto.ca/dataset/bicycle-thefts/), [TTC subway delays and subway delay reason codes](https://open.toronto.ca/dataset/ttc-subway-delay-data/), and [neighbourhood profiles](https://open.toronto.ca/dataset/neighbourhood-profiles/). All four are available in the course repo, and originally come from Toronto Open Data."
   ]
  },
  {
   "cell_type": "markdown",
   "id": "b80d4fb6",
   "metadata": {
    "slideshow": {
     "slide_type": "slide"
    }
   },
   "source": [
    "# `pandas`"
   ]
  },
  {
   "cell_type": "markdown",
   "id": "4339b9f2",
   "metadata": {
    "slideshow": {
     "slide_type": "slide"
    }
   },
   "source": [
    "## What is `pandas`?\n",
    "\n",
    "`pandas` is a package for data analysis and manipulation. (The name is a reference to panel data, not the animal.) It gives us data frames, which represent data in a table of columns and rows, and functions to manipulate and plot them. `pandas` also provides a slew of functions for reading and writing data to a variety of sources, including files, SQL databases, and compressed binary formats."
   ]
  },
  {
   "cell_type": "code",
   "execution_count": 1,
   "id": "cea5f938",
   "metadata": {
    "slideshow": {
     "slide_type": "fragment"
    }
   },
   "outputs": [],
   "source": [
    "import numpy as np\n",
    "# pd is the conventional alias for pandas\n",
    "import pandas as pd\n",
    "\n",
    "# display all columns\n",
    "pd.set_option(\"display.max_columns\", None)"
   ]
  },
  {
   "cell_type": "markdown",
   "id": "4891c551",
   "metadata": {
    "slideshow": {
     "slide_type": "slide"
    }
   },
   "source": [
    "## DataFrames\n",
    "\n",
    "Columns are labeled with their names. Rows also have a label, or _index_. If row labels are not specified, `pandas` uses numbers as the default. Each column is a _Series_, or one-dimensional array, where values share a data type. Unlike `numpy` arrays, DataFrames can have columns of different data types. However, like arrays and lists, **DataFrames are mutable** -- this means that if more than one variable refers to the same DataFrame, updating one updates them all!"
   ]
  },
  {
   "attachments": {
    "image-2.png": {
     "image/png": "[encoded data removed]"
    }
   },
   "cell_type": "markdown",
   "id": "c6dd7983",
   "metadata": {
    "slideshow": {
     "slide_type": "subslide"
    }
   },
   "source": [
    "![image-2.png](attachment:image-2.png)"
   ]
  },
  {
   "cell_type": "markdown",
   "id": "6536654d",
   "metadata": {
    "slideshow": {
     "slide_type": "slide"
    }
   },
   "source": [
    "## Getting data\n",
    "\n",
    "We can create a DataFrame manually with `DataFrame()` constructor. If a dictionary is passed to `DataFrame()`, the keys become column names, and the values become the rows. Calling just `DataFrame()` creates an empty DataFrame to which data can be added later."
   ]
  },
  {
   "cell_type": "code",
   "execution_count": 2,
   "id": "d035bb4a",
   "metadata": {
    "slideshow": {
     "slide_type": "fragment"
    }
   },
   "outputs": [
    {
     "data": {
      "text/html": [
       "<div>\n",
       "<style scoped>\n",
       "    .dataframe tbody tr th:only-of-type {\n",
       "        vertical-align: middle;\n",
       "    }\n",
       "\n",
       "    .dataframe tbody tr th {\n",
       "        vertical-align: top;\n",
       "    }\n",
       "\n",
       "    .dataframe thead th {\n",
       "        text-align: right;\n",
       "    }\n",
       "</style>\n",
       "<table border=\"1\" class=\"dataframe\">\n",
       "  <thead>\n",
       "    <tr style=\"text-align: right;\">\n",
       "      <th></th>\n",
       "      <th>name</th>\n",
       "      <th>avg_lifespan</th>\n",
       "      <th>quantity</th>\n",
       "    </tr>\n",
       "  </thead>\n",
       "  <tbody>\n",
       "    <tr>\n",
       "      <th>0</th>\n",
       "      <td>sugar maple</td>\n",
       "      <td>300</td>\n",
       "      <td>53</td>\n",
       "    </tr>\n",
       "    <tr>\n",
       "      <th>1</th>\n",
       "      <td>black oak</td>\n",
       "      <td>100</td>\n",
       "      <td>207</td>\n",
       "    </tr>\n",
       "    <tr>\n",
       "      <th>2</th>\n",
       "      <td>white ash</td>\n",
       "      <td>260</td>\n",
       "      <td>178</td>\n",
       "    </tr>\n",
       "    <tr>\n",
       "      <th>3</th>\n",
       "      <td>douglas fir</td>\n",
       "      <td>450</td>\n",
       "      <td>93</td>\n",
       "    </tr>\n",
       "  </tbody>\n",
       "</table>\n",
       "</div>"
      ],
      "text/plain": [
       "          name  avg_lifespan  quantity\n",
       "0  sugar maple           300        53\n",
       "1    black oak           100       207\n",
       "2    white ash           260       178\n",
       "3  douglas fir           450        93"
      ]
     },
     "execution_count": 2,
     "metadata": {},
     "output_type": "execute_result"
    }
   ],
   "source": [
    "trees = pd.DataFrame({\n",
    "    'name': ['sugar maple', 'black oak', 'white ash', 'douglas fir'],\n",
    "    'avg_lifespan': [300, 100, 260, 450],\n",
    "    'quantity': [53, 207, 178, 93]\n",
    "})\n",
    "trees"
   ]
  },
  {
   "cell_type": "markdown",
   "id": "fdc4ca75",
   "metadata": {
    "slideshow": {
     "slide_type": "subslide"
    }
   },
   "source": [
    "We can create an individual column with `Series()`. The `name` argument corresponds to a column name."
   ]
  },
  {
   "cell_type": "code",
   "execution_count": 3,
   "id": "99aa5f2b",
   "metadata": {
    "slideshow": {
     "slide_type": "fragment"
    }
   },
   "outputs": [
    {
     "data": {
      "text/plain": [
       "0    deciduous\n",
       "1    deciduous\n",
       "2    deciduous\n",
       "3    evergreen\n",
       "Name: foliage, dtype: object"
      ]
     },
     "execution_count": 3,
     "metadata": {},
     "output_type": "execute_result"
    }
   ],
   "source": [
    "tree_types = pd.Series(['deciduous', 'deciduous', 'deciduous', 'evergreen'],\n",
    "                       name='foliage')\n",
    "tree_types"
   ]
  },
  {
   "cell_type": "markdown",
   "id": "4b611794",
   "metadata": {
    "slideshow": {
     "slide_type": "slide"
    }
   },
   "source": [
    "### Data from csv\n",
    "\n",
    "Of course, we're more likely to load data into a DataFrame than to create DataFrames manually. `pandas` has read functions for different file formats. To read data from a csv or other delimited file, we use `pd.read_csv()`, then pass in the local file path or the URL of the csv to read. `pandas` will infer the data type of each column based on the values in the first chunk of the file loaded."
   ]
  },
  {
   "cell_type": "code",
   "execution_count": 4,
   "id": "3473e899",
   "metadata": {},
   "outputs": [],
   "source": [
    "thefts = pd.read_csv('../data/bicycle-thefts - 4326.csv')"
   ]
  },
  {
   "cell_type": "markdown",
   "id": "24d22043",
   "metadata": {
    "slideshow": {
     "slide_type": "slide"
    }
   },
   "source": [
    "## Profiling and initial data cleaning\n",
    "\n",
    "We got our data, but now we need to understand what's in it. We can start to understand the DataFrame by checking out its `dtypes` and `shape` attributes, which give column data types and row by column dimensions, respectively. Note that `object` is `pandas`' way of saying values are represented as string data."
   ]
  },
  {
   "cell_type": "code",
   "execution_count": 5,
   "id": "1b4bbb4c",
   "metadata": {
    "slideshow": {
     "slide_type": "fragment"
    }
   },
   "outputs": [
    {
     "data": {
      "text/plain": [
       "(25569, 33)"
      ]
     },
     "execution_count": 5,
     "metadata": {},
     "output_type": "execute_result"
    }
   ],
   "source": [
    "thefts.shape"
   ]
  },
  {
   "cell_type": "code",
   "execution_count": 6,
   "id": "92ccbe1a",
   "metadata": {
    "slideshow": {
     "slide_type": "subslide"
    }
   },
   "outputs": [
    {
     "data": {
      "text/plain": [
       "_id                        int64\n",
       "OBJECTID                   int64\n",
       "event_unique_id           object\n",
       "Primary_Offence           object\n",
       "Occurrence_Date           object\n",
       "Occurrence_Year            int64\n",
       "Occurrence_Month          object\n",
       "Occurrence_DayOfWeek      object\n",
       "Occurrence_DayOfMonth      int64\n",
       "Occurrence_DayOfYear       int64\n",
       "Occurrence_Hour            int64\n",
       "Report_Date               object\n",
       "Report_Year                int64\n",
       "Report_Month              object\n",
       "Report_DayOfWeek          object\n",
       "Report_DayOfMonth          int64\n",
       "Report_DayOfYear           int64\n",
       "Report_Hour                int64\n",
       "Division                  object\n",
       "City                      object\n",
       "Hood_ID                   object\n",
       "NeighbourhoodName         object\n",
       "Location_Type             object\n",
       "Premises_Type             object\n",
       "Bike_Make                 object\n",
       "Bike_Model                object\n",
       "Bike_Type                 object\n",
       "Bike_Speed                 int64\n",
       "Bike_Colour               object\n",
       "Cost_of_Bike             float64\n",
       "Status                    object\n",
       "ObjectId2                  int64\n",
       "geometry                  object\n",
       "dtype: object"
      ]
     },
     "execution_count": 6,
     "metadata": {},
     "output_type": "execute_result"
    }
   ],
   "source": [
    "thefts.dtypes"
   ]
  },
  {
   "cell_type": "markdown",
   "id": "6f1bfa33",
   "metadata": {
    "slideshow": {
     "slide_type": "slide"
    }
   },
   "source": [
    "### `head()`s and `tail()`s\n",
    "\n",
    "To check out the first few rows, we can call the DataFrame `head()` method. Similarly, we can see the last few rows with the `tail()` method. Five rows are shown by default, but we can change that by passing an integer as an argument."
   ]
  },
  {
   "cell_type": "code",
   "execution_count": 7,
   "id": "9f2217f1",
   "metadata": {
    "scrolled": true,
    "slideshow": {
     "slide_type": "subslide"
    }
   },
   "outputs": [
    {
     "data": {
      "text/html": [
       "<div>\n",
       "<style scoped>\n",
       "    .dataframe tbody tr th:only-of-type {\n",
       "        vertical-align: middle;\n",
       "    }\n",
       "\n",
       "    .dataframe tbody tr th {\n",
       "        vertical-align: top;\n",
       "    }\n",
       "\n",
       "    .dataframe thead th {\n",
       "        text-align: right;\n",
       "    }\n",
       "</style>\n",
       "<table border=\"1\" class=\"dataframe\">\n",
       "  <thead>\n",
       "    <tr style=\"text-align: right;\">\n",
       "      <th></th>\n",
       "      <th>_id</th>\n",
       "      <th>OBJECTID</th>\n",
       "      <th>event_unique_id</th>\n",
       "      <th>Primary_Offence</th>\n",
       "      <th>Occurrence_Date</th>\n",
       "      <th>Occurrence_Year</th>\n",
       "      <th>Occurrence_Month</th>\n",
       "      <th>Occurrence_DayOfWeek</th>\n",
       "      <th>Occurrence_DayOfMonth</th>\n",
       "      <th>Occurrence_DayOfYear</th>\n",
       "      <th>Occurrence_Hour</th>\n",
       "      <th>Report_Date</th>\n",
       "      <th>Report_Year</th>\n",
       "      <th>Report_Month</th>\n",
       "      <th>Report_DayOfWeek</th>\n",
       "      <th>Report_DayOfMonth</th>\n",
       "      <th>Report_DayOfYear</th>\n",
       "      <th>Report_Hour</th>\n",
       "      <th>Division</th>\n",
       "      <th>City</th>\n",
       "      <th>Hood_ID</th>\n",
       "      <th>NeighbourhoodName</th>\n",
       "      <th>Location_Type</th>\n",
       "      <th>Premises_Type</th>\n",
       "      <th>Bike_Make</th>\n",
       "      <th>Bike_Model</th>\n",
       "      <th>Bike_Type</th>\n",
       "      <th>Bike_Speed</th>\n",
       "      <th>Bike_Colour</th>\n",
       "      <th>Cost_of_Bike</th>\n",
       "      <th>Status</th>\n",
       "      <th>ObjectId2</th>\n",
       "      <th>geometry</th>\n",
       "    </tr>\n",
       "  </thead>\n",
       "  <tbody>\n",
       "    <tr>\n",
       "      <th>0</th>\n",
       "      <td>1</td>\n",
       "      <td>17744</td>\n",
       "      <td>GO-20179016397</td>\n",
       "      <td>THEFT UNDER</td>\n",
       "      <td>2017-10-03T00:00:00</td>\n",
       "      <td>2017</td>\n",
       "      <td>October</td>\n",
       "      <td>Tuesday</td>\n",
       "      <td>3</td>\n",
       "      <td>276</td>\n",
       "      <td>14</td>\n",
       "      <td>2017-10-03T00:00:00</td>\n",
       "      <td>2017</td>\n",
       "      <td>October</td>\n",
       "      <td>Tuesday</td>\n",
       "      <td>3</td>\n",
       "      <td>276</td>\n",
       "      <td>18</td>\n",
       "      <td>D22</td>\n",
       "      <td>Toronto</td>\n",
       "      <td>15</td>\n",
       "      <td>Kingsway South (15)</td>\n",
       "      <td>Streets, Roads, Highways (Bicycle Path, Privat...</td>\n",
       "      <td>Outside</td>\n",
       "      <td>GI</td>\n",
       "      <td>ESCAPE 2</td>\n",
       "      <td>OT</td>\n",
       "      <td>7</td>\n",
       "      <td>BLK</td>\n",
       "      <td>700.0</td>\n",
       "      <td>STOLEN</td>\n",
       "      <td>1</td>\n",
       "      <td>{'type': 'Point', 'coordinates': (-79.50655965...</td>\n",
       "    </tr>\n",
       "    <tr>\n",
       "      <th>1</th>\n",
       "      <td>2</td>\n",
       "      <td>17759</td>\n",
       "      <td>GO-20172033056</td>\n",
       "      <td>THEFT UNDER - BICYCLE</td>\n",
       "      <td>2017-11-08T00:00:00</td>\n",
       "      <td>2017</td>\n",
       "      <td>November</td>\n",
       "      <td>Wednesday</td>\n",
       "      <td>8</td>\n",
       "      <td>312</td>\n",
       "      <td>3</td>\n",
       "      <td>2017-11-08T00:00:00</td>\n",
       "      <td>2017</td>\n",
       "      <td>November</td>\n",
       "      <td>Wednesday</td>\n",
       "      <td>8</td>\n",
       "      <td>312</td>\n",
       "      <td>22</td>\n",
       "      <td>D22</td>\n",
       "      <td>Toronto</td>\n",
       "      <td>15</td>\n",
       "      <td>Kingsway South (15)</td>\n",
       "      <td>Single Home, House (Attach Garage, Cottage, Mo...</td>\n",
       "      <td>House</td>\n",
       "      <td>UNKNOWN MAKE</td>\n",
       "      <td>NaN</td>\n",
       "      <td>TO</td>\n",
       "      <td>1</td>\n",
       "      <td>BLK</td>\n",
       "      <td>1100.0</td>\n",
       "      <td>RECOVERED</td>\n",
       "      <td>2</td>\n",
       "      <td>{'type': 'Point', 'coordinates': (-79.50484874...</td>\n",
       "    </tr>\n",
       "    <tr>\n",
       "      <th>2</th>\n",
       "      <td>3</td>\n",
       "      <td>17906</td>\n",
       "      <td>GO-20189030822</td>\n",
       "      <td>THEFT UNDER - BICYCLE</td>\n",
       "      <td>2018-09-14T00:00:00</td>\n",
       "      <td>2018</td>\n",
       "      <td>September</td>\n",
       "      <td>Friday</td>\n",
       "      <td>14</td>\n",
       "      <td>257</td>\n",
       "      <td>9</td>\n",
       "      <td>2018-09-17T00:00:00</td>\n",
       "      <td>2018</td>\n",
       "      <td>September</td>\n",
       "      <td>Monday</td>\n",
       "      <td>17</td>\n",
       "      <td>260</td>\n",
       "      <td>16</td>\n",
       "      <td>D22</td>\n",
       "      <td>Toronto</td>\n",
       "      <td>15</td>\n",
       "      <td>Kingsway South (15)</td>\n",
       "      <td>Ttc Subway Station</td>\n",
       "      <td>Transit</td>\n",
       "      <td>OT</td>\n",
       "      <td>CROSSTRAIL</td>\n",
       "      <td>MT</td>\n",
       "      <td>24</td>\n",
       "      <td>BLK</td>\n",
       "      <td>904.0</td>\n",
       "      <td>STOLEN</td>\n",
       "      <td>3</td>\n",
       "      <td>{'type': 'Point', 'coordinates': (-79.51170915...</td>\n",
       "    </tr>\n",
       "    <tr>\n",
       "      <th>3</th>\n",
       "      <td>4</td>\n",
       "      <td>17962</td>\n",
       "      <td>GO-2015804467</td>\n",
       "      <td>THEFT UNDER</td>\n",
       "      <td>2015-05-07T00:00:00</td>\n",
       "      <td>2015</td>\n",
       "      <td>May</td>\n",
       "      <td>Thursday</td>\n",
       "      <td>7</td>\n",
       "      <td>127</td>\n",
       "      <td>18</td>\n",
       "      <td>2015-05-14T00:00:00</td>\n",
       "      <td>2015</td>\n",
       "      <td>May</td>\n",
       "      <td>Thursday</td>\n",
       "      <td>14</td>\n",
       "      <td>134</td>\n",
       "      <td>14</td>\n",
       "      <td>D22</td>\n",
       "      <td>Toronto</td>\n",
       "      <td>15</td>\n",
       "      <td>Kingsway South (15)</td>\n",
       "      <td>Ttc Subway Station</td>\n",
       "      <td>Transit</td>\n",
       "      <td>GT</td>\n",
       "      <td>NaN</td>\n",
       "      <td>TO</td>\n",
       "      <td>10</td>\n",
       "      <td>BLKDGR</td>\n",
       "      <td>400.0</td>\n",
       "      <td>STOLEN</td>\n",
       "      <td>4</td>\n",
       "      <td>{'type': 'Point', 'coordinates': (-79.51170915...</td>\n",
       "    </tr>\n",
       "    <tr>\n",
       "      <th>4</th>\n",
       "      <td>5</td>\n",
       "      <td>17963</td>\n",
       "      <td>GO-20159002781</td>\n",
       "      <td>THEFT UNDER</td>\n",
       "      <td>2015-05-16T00:00:00</td>\n",
       "      <td>2015</td>\n",
       "      <td>May</td>\n",
       "      <td>Saturday</td>\n",
       "      <td>16</td>\n",
       "      <td>136</td>\n",
       "      <td>12</td>\n",
       "      <td>2015-05-16T00:00:00</td>\n",
       "      <td>2015</td>\n",
       "      <td>May</td>\n",
       "      <td>Saturday</td>\n",
       "      <td>16</td>\n",
       "      <td>136</td>\n",
       "      <td>15</td>\n",
       "      <td>D22</td>\n",
       "      <td>Toronto</td>\n",
       "      <td>15</td>\n",
       "      <td>Kingsway South (15)</td>\n",
       "      <td>Ttc Subway Station</td>\n",
       "      <td>Transit</td>\n",
       "      <td>GI</td>\n",
       "      <td>NaN</td>\n",
       "      <td>MT</td>\n",
       "      <td>6</td>\n",
       "      <td>RED</td>\n",
       "      <td>600.0</td>\n",
       "      <td>STOLEN</td>\n",
       "      <td>5</td>\n",
       "      <td>{'type': 'Point', 'coordinates': (-79.51132657...</td>\n",
       "    </tr>\n",
       "  </tbody>\n",
       "</table>\n",
       "</div>"
      ],
      "text/plain": [
       "   _id  OBJECTID event_unique_id        Primary_Offence      Occurrence_Date  \\\n",
       "0    1     17744  GO-20179016397            THEFT UNDER  2017-10-03T00:00:00   \n",
       "1    2     17759  GO-20172033056  THEFT UNDER - BICYCLE  2017-11-08T00:00:00   \n",
       "2    3     17906  GO-20189030822  THEFT UNDER - BICYCLE  2018-09-14T00:00:00   \n",
       "3    4     17962   GO-2015804467            THEFT UNDER  2015-05-07T00:00:00   \n",
       "4    5     17963  GO-20159002781            THEFT UNDER  2015-05-16T00:00:00   \n",
       "\n",
       "   Occurrence_Year Occurrence_Month Occurrence_DayOfWeek  \\\n",
       "0             2017          October              Tuesday   \n",
       "1             2017         November            Wednesday   \n",
       "2             2018        September               Friday   \n",
       "3             2015              May             Thursday   \n",
       "4             2015              May             Saturday   \n",
       "\n",
       "   Occurrence_DayOfMonth  Occurrence_DayOfYear  Occurrence_Hour  \\\n",
       "0                      3                   276               14   \n",
       "1                      8                   312                3   \n",
       "2                     14                   257                9   \n",
       "3                      7                   127               18   \n",
       "4                     16                   136               12   \n",
       "\n",
       "           Report_Date  Report_Year Report_Month Report_DayOfWeek  \\\n",
       "0  2017-10-03T00:00:00         2017      October          Tuesday   \n",
       "1  2017-11-08T00:00:00         2017     November        Wednesday   \n",
       "2  2018-09-17T00:00:00         2018    September           Monday   \n",
       "3  2015-05-14T00:00:00         2015          May         Thursday   \n",
       "4  2015-05-16T00:00:00         2015          May         Saturday   \n",
       "\n",
       "   Report_DayOfMonth  Report_DayOfYear  Report_Hour Division     City Hood_ID  \\\n",
       "0                  3               276           18      D22  Toronto      15   \n",
       "1                  8               312           22      D22  Toronto      15   \n",
       "2                 17               260           16      D22  Toronto      15   \n",
       "3                 14               134           14      D22  Toronto      15   \n",
       "4                 16               136           15      D22  Toronto      15   \n",
       "\n",
       "     NeighbourhoodName                                      Location_Type  \\\n",
       "0  Kingsway South (15)  Streets, Roads, Highways (Bicycle Path, Privat...   \n",
       "1  Kingsway South (15)  Single Home, House (Attach Garage, Cottage, Mo...   \n",
       "2  Kingsway South (15)                                 Ttc Subway Station   \n",
       "3  Kingsway South (15)                                 Ttc Subway Station   \n",
       "4  Kingsway South (15)                                 Ttc Subway Station   \n",
       "\n",
       "  Premises_Type     Bike_Make  Bike_Model Bike_Type  Bike_Speed Bike_Colour  \\\n",
       "0       Outside            GI    ESCAPE 2        OT           7         BLK   \n",
       "1         House  UNKNOWN MAKE         NaN        TO           1         BLK   \n",
       "2       Transit            OT  CROSSTRAIL        MT          24         BLK   \n",
       "3       Transit            GT         NaN        TO          10      BLKDGR   \n",
       "4       Transit            GI         NaN        MT           6         RED   \n",
       "\n",
       "   Cost_of_Bike     Status  ObjectId2  \\\n",
       "0         700.0     STOLEN          1   \n",
       "1        1100.0  RECOVERED          2   \n",
       "2         904.0     STOLEN          3   \n",
       "3         400.0     STOLEN          4   \n",
       "4         600.0     STOLEN          5   \n",
       "\n",
       "                                            geometry  \n",
       "0  {'type': 'Point', 'coordinates': (-79.50655965...  \n",
       "1  {'type': 'Point', 'coordinates': (-79.50484874...  \n",
       "2  {'type': 'Point', 'coordinates': (-79.51170915...  \n",
       "3  {'type': 'Point', 'coordinates': (-79.51170915...  \n",
       "4  {'type': 'Point', 'coordinates': (-79.51132657...  "
      ]
     },
     "execution_count": 7,
     "metadata": {},
     "output_type": "execute_result"
    }
   ],
   "source": [
    "thefts.head()"
   ]
  },
  {
   "cell_type": "code",
   "execution_count": 8,
   "id": "41b2e05c",
   "metadata": {
    "slideshow": {
     "slide_type": "subslide"
    }
   },
   "outputs": [
    {
     "data": {
      "text/html": [
       "<div>\n",
       "<style scoped>\n",
       "    .dataframe tbody tr th:only-of-type {\n",
       "        vertical-align: middle;\n",
       "    }\n",
       "\n",
       "    .dataframe tbody tr th {\n",
       "        vertical-align: top;\n",
       "    }\n",
       "\n",
       "    .dataframe thead th {\n",
       "        text-align: right;\n",
       "    }\n",
       "</style>\n",
       "<table border=\"1\" class=\"dataframe\">\n",
       "  <thead>\n",
       "    <tr style=\"text-align: right;\">\n",
       "      <th></th>\n",
       "      <th>_id</th>\n",
       "      <th>OBJECTID</th>\n",
       "      <th>event_unique_id</th>\n",
       "      <th>Primary_Offence</th>\n",
       "      <th>Occurrence_Date</th>\n",
       "      <th>Occurrence_Year</th>\n",
       "      <th>Occurrence_Month</th>\n",
       "      <th>Occurrence_DayOfWeek</th>\n",
       "      <th>Occurrence_DayOfMonth</th>\n",
       "      <th>Occurrence_DayOfYear</th>\n",
       "      <th>Occurrence_Hour</th>\n",
       "      <th>Report_Date</th>\n",
       "      <th>Report_Year</th>\n",
       "      <th>Report_Month</th>\n",
       "      <th>Report_DayOfWeek</th>\n",
       "      <th>Report_DayOfMonth</th>\n",
       "      <th>Report_DayOfYear</th>\n",
       "      <th>Report_Hour</th>\n",
       "      <th>Division</th>\n",
       "      <th>City</th>\n",
       "      <th>Hood_ID</th>\n",
       "      <th>NeighbourhoodName</th>\n",
       "      <th>Location_Type</th>\n",
       "      <th>Premises_Type</th>\n",
       "      <th>Bike_Make</th>\n",
       "      <th>Bike_Model</th>\n",
       "      <th>Bike_Type</th>\n",
       "      <th>Bike_Speed</th>\n",
       "      <th>Bike_Colour</th>\n",
       "      <th>Cost_of_Bike</th>\n",
       "      <th>Status</th>\n",
       "      <th>ObjectId2</th>\n",
       "      <th>geometry</th>\n",
       "    </tr>\n",
       "  </thead>\n",
       "  <tbody>\n",
       "    <tr>\n",
       "      <th>25566</th>\n",
       "      <td>25567</td>\n",
       "      <td>11462</td>\n",
       "      <td>GO-20169005434</td>\n",
       "      <td>THEFT UNDER</td>\n",
       "      <td>2016-06-04T00:00:00</td>\n",
       "      <td>2016</td>\n",
       "      <td>June</td>\n",
       "      <td>Saturday</td>\n",
       "      <td>4</td>\n",
       "      <td>156</td>\n",
       "      <td>22</td>\n",
       "      <td>2016-06-07T00:00:00</td>\n",
       "      <td>2016</td>\n",
       "      <td>June</td>\n",
       "      <td>Tuesday</td>\n",
       "      <td>7</td>\n",
       "      <td>159</td>\n",
       "      <td>16</td>\n",
       "      <td>D42</td>\n",
       "      <td>Toronto</td>\n",
       "      <td>132</td>\n",
       "      <td>Malvern (132)</td>\n",
       "      <td>Apartment (Rooming House, Condo)</td>\n",
       "      <td>Apartment</td>\n",
       "      <td>SC</td>\n",
       "      <td>ANTRIM</td>\n",
       "      <td>MT</td>\n",
       "      <td>24</td>\n",
       "      <td>WHI</td>\n",
       "      <td>700.0</td>\n",
       "      <td>STOLEN</td>\n",
       "      <td>25567</td>\n",
       "      <td>{'type': 'Point', 'coordinates': (-79.2360175,...</td>\n",
       "    </tr>\n",
       "    <tr>\n",
       "      <th>25567</th>\n",
       "      <td>25568</td>\n",
       "      <td>11695</td>\n",
       "      <td>GO-20161170896</td>\n",
       "      <td>THEFT UNDER</td>\n",
       "      <td>2016-07-04T00:00:00</td>\n",
       "      <td>2016</td>\n",
       "      <td>July</td>\n",
       "      <td>Monday</td>\n",
       "      <td>4</td>\n",
       "      <td>186</td>\n",
       "      <td>20</td>\n",
       "      <td>2016-07-04T00:00:00</td>\n",
       "      <td>2016</td>\n",
       "      <td>July</td>\n",
       "      <td>Monday</td>\n",
       "      <td>4</td>\n",
       "      <td>186</td>\n",
       "      <td>20</td>\n",
       "      <td>D42</td>\n",
       "      <td>Toronto</td>\n",
       "      <td>132</td>\n",
       "      <td>Malvern (132)</td>\n",
       "      <td>Other Commercial / Corporate Places (For Profi...</td>\n",
       "      <td>Commercial</td>\n",
       "      <td>UNKNOWN MAKE</td>\n",
       "      <td>NaN</td>\n",
       "      <td>SC</td>\n",
       "      <td>1</td>\n",
       "      <td>NaN</td>\n",
       "      <td>3000.0</td>\n",
       "      <td>STOLEN</td>\n",
       "      <td>25568</td>\n",
       "      <td>{'type': 'Point', 'coordinates': (-79.20060719...</td>\n",
       "    </tr>\n",
       "    <tr>\n",
       "      <th>25568</th>\n",
       "      <td>25569</td>\n",
       "      <td>11883</td>\n",
       "      <td>GO-20169007653</td>\n",
       "      <td>THEFT UNDER - BICYCLE</td>\n",
       "      <td>2016-07-22T00:00:00</td>\n",
       "      <td>2016</td>\n",
       "      <td>July</td>\n",
       "      <td>Friday</td>\n",
       "      <td>22</td>\n",
       "      <td>204</td>\n",
       "      <td>9</td>\n",
       "      <td>2016-07-23T00:00:00</td>\n",
       "      <td>2016</td>\n",
       "      <td>July</td>\n",
       "      <td>Saturday</td>\n",
       "      <td>23</td>\n",
       "      <td>205</td>\n",
       "      <td>11</td>\n",
       "      <td>D42</td>\n",
       "      <td>Toronto</td>\n",
       "      <td>132</td>\n",
       "      <td>Malvern (132)</td>\n",
       "      <td>Parking Lots (Apt., Commercial Or Non-Commercial)</td>\n",
       "      <td>Outside</td>\n",
       "      <td>SU</td>\n",
       "      <td>ASCENT MOUNTAIN</td>\n",
       "      <td>MT</td>\n",
       "      <td>21</td>\n",
       "      <td>ONG</td>\n",
       "      <td>200.0</td>\n",
       "      <td>STOLEN</td>\n",
       "      <td>25569</td>\n",
       "      <td>{'type': 'Point', 'coordinates': (-79.23734742...</td>\n",
       "    </tr>\n",
       "  </tbody>\n",
       "</table>\n",
       "</div>"
      ],
      "text/plain": [
       "         _id  OBJECTID event_unique_id        Primary_Offence  \\\n",
       "25566  25567     11462  GO-20169005434            THEFT UNDER   \n",
       "25567  25568     11695  GO-20161170896            THEFT UNDER   \n",
       "25568  25569     11883  GO-20169007653  THEFT UNDER - BICYCLE   \n",
       "\n",
       "           Occurrence_Date  Occurrence_Year Occurrence_Month  \\\n",
       "25566  2016-06-04T00:00:00             2016             June   \n",
       "25567  2016-07-04T00:00:00             2016             July   \n",
       "25568  2016-07-22T00:00:00             2016             July   \n",
       "\n",
       "      Occurrence_DayOfWeek  Occurrence_DayOfMonth  Occurrence_DayOfYear  \\\n",
       "25566             Saturday                      4                   156   \n",
       "25567               Monday                      4                   186   \n",
       "25568               Friday                     22                   204   \n",
       "\n",
       "       Occurrence_Hour          Report_Date  Report_Year Report_Month  \\\n",
       "25566               22  2016-06-07T00:00:00         2016         June   \n",
       "25567               20  2016-07-04T00:00:00         2016         July   \n",
       "25568                9  2016-07-23T00:00:00         2016         July   \n",
       "\n",
       "      Report_DayOfWeek  Report_DayOfMonth  Report_DayOfYear  Report_Hour  \\\n",
       "25566          Tuesday                  7               159           16   \n",
       "25567           Monday                  4               186           20   \n",
       "25568         Saturday                 23               205           11   \n",
       "\n",
       "      Division     City Hood_ID NeighbourhoodName  \\\n",
       "25566      D42  Toronto     132     Malvern (132)   \n",
       "25567      D42  Toronto     132     Malvern (132)   \n",
       "25568      D42  Toronto     132     Malvern (132)   \n",
       "\n",
       "                                           Location_Type Premises_Type  \\\n",
       "25566                   Apartment (Rooming House, Condo)     Apartment   \n",
       "25567  Other Commercial / Corporate Places (For Profi...    Commercial   \n",
       "25568  Parking Lots (Apt., Commercial Or Non-Commercial)       Outside   \n",
       "\n",
       "          Bike_Make       Bike_Model Bike_Type  Bike_Speed Bike_Colour  \\\n",
       "25566            SC           ANTRIM        MT          24         WHI   \n",
       "25567  UNKNOWN MAKE              NaN        SC           1         NaN   \n",
       "25568            SU  ASCENT MOUNTAIN        MT          21         ONG   \n",
       "\n",
       "       Cost_of_Bike  Status  ObjectId2  \\\n",
       "25566         700.0  STOLEN      25567   \n",
       "25567        3000.0  STOLEN      25568   \n",
       "25568         200.0  STOLEN      25569   \n",
       "\n",
       "                                                geometry  \n",
       "25566  {'type': 'Point', 'coordinates': (-79.2360175,...  \n",
       "25567  {'type': 'Point', 'coordinates': (-79.20060719...  \n",
       "25568  {'type': 'Point', 'coordinates': (-79.23734742...  "
      ]
     },
     "execution_count": 8,
     "metadata": {},
     "output_type": "execute_result"
    }
   ],
   "source": [
    "# last 3\n",
    "thefts.tail(3)"
   ]
  },
  {
   "cell_type": "markdown",
   "id": "2ffd0b4b",
   "metadata": {
    "slideshow": {
     "slide_type": "slide"
    }
   },
   "source": [
    "### Renaming columns\n",
    "\n",
    "Most, but not all, of the bike theft columns follow the same naming convention. For convenience's sake, though, let's convert the column names to all lowercase. We can do this with the DataFrame `rename()` method. `rename()` accepts either a dictionary with current column names as the keys and new names as the values, or the name of a function to transform names. Let's write a function."
   ]
  },
  {
   "cell_type": "code",
   "execution_count": 9,
   "id": "7ae1134b",
   "metadata": {
    "slideshow": {
     "slide_type": "subslide"
    }
   },
   "outputs": [],
   "source": [
    "# notice that we do not add () to the function name\n",
    "thefts = thefts.rename(columns=str.lower)"
   ]
  },
  {
   "cell_type": "markdown",
   "id": "ae4bdd8a",
   "metadata": {
    "slideshow": {
     "slide_type": "subslide"
    }
   },
   "source": [
    "Let's also rename `cost_of_bike` so it follows the pattern of the other bike attribute columns."
   ]
  },
  {
   "cell_type": "code",
   "execution_count": 10,
   "id": "1f221dbc",
   "metadata": {
    "slideshow": {
     "slide_type": "fragment"
    }
   },
   "outputs": [
    {
     "name": "stdout",
     "output_type": "stream",
     "text": [
      "['_id', 'objectid', 'event_unique_id', 'primary_offence', 'occurrence_date', 'occurrence_year', 'occurrence_month', 'occurrence_dayofweek', 'occurrence_dayofmonth', 'occurrence_dayofyear', 'occurrence_hour', 'report_date', 'report_year', 'report_month', 'report_dayofweek', 'report_dayofmonth', 'report_dayofyear', 'report_hour', 'division', 'city', 'hood_id', 'neighbourhoodname', 'location_type', 'premises_type', 'bike_make', 'bike_model', 'bike_type', 'bike_speed', 'bike_colour', 'bike_cost', 'status', 'objectid2', 'geometry']\n"
     ]
    }
   ],
   "source": [
    "thefts = thefts.rename(columns={'cost_of_bike':'bike_cost'})\n",
    "\n",
    "# view column names\n",
    "print(list(thefts))"
   ]
  },
  {
   "cell_type": "markdown",
   "id": "8cf14e92",
   "metadata": {
    "slideshow": {
     "slide_type": "slide"
    }
   },
   "source": [
    "### Profiling columns\n",
    "\n",
    "It can be useful to focus on a subset of columns, particularly to understand value sets. To select a single column in a DataFrame, we can supply the name of the column in square brackets, just like we did when accessing values in a dictionary. `pandas` will return the column as a Series. To get unique values, we can use the `unique()` Series method. If we want to count how many times each value appears, we can use the `value_counts()` method."
   ]
  },
  {
   "cell_type": "code",
   "execution_count": 11,
   "id": "bab6f2f7",
   "metadata": {
    "slideshow": {
     "slide_type": "subslide"
    }
   },
   "outputs": [
    {
     "data": {
      "text/plain": [
       "0           STOLEN\n",
       "1        RECOVERED\n",
       "2           STOLEN\n",
       "3           STOLEN\n",
       "4           STOLEN\n",
       "           ...    \n",
       "25564       STOLEN\n",
       "25565       STOLEN\n",
       "25566       STOLEN\n",
       "25567       STOLEN\n",
       "25568       STOLEN\n",
       "Name: status, Length: 25569, dtype: object"
      ]
     },
     "execution_count": 11,
     "metadata": {},
     "output_type": "execute_result"
    }
   ],
   "source": [
    "thefts['status']"
   ]
  },
  {
   "cell_type": "code",
   "execution_count": 12,
   "id": "1babac10",
   "metadata": {
    "slideshow": {
     "slide_type": "fragment"
    }
   },
   "outputs": [
    {
     "data": {
      "text/plain": [
       "array(['STOLEN', 'RECOVERED', 'UNKNOWN'], dtype=object)"
      ]
     },
     "execution_count": 12,
     "metadata": {},
     "output_type": "execute_result"
    }
   ],
   "source": [
    "thefts['status'].unique()"
   ]
  },
  {
   "cell_type": "code",
   "execution_count": 13,
   "id": "26976b4b",
   "metadata": {
    "slideshow": {
     "slide_type": "fragment"
    }
   },
   "outputs": [
    {
     "data": {
      "text/plain": [
       "STOLEN       24807\n",
       "UNKNOWN        454\n",
       "RECOVERED      308\n",
       "Name: status, dtype: int64"
      ]
     },
     "execution_count": 13,
     "metadata": {},
     "output_type": "execute_result"
    }
   ],
   "source": [
    "thefts['status'].value_counts()"
   ]
  },
  {
   "cell_type": "markdown",
   "id": "49505d9c",
   "metadata": {
    "slideshow": {
     "slide_type": "subslide"
    }
   },
   "source": [
    "We can summarize numeric Series much like we did with `numpy` functions. "
   ]
  },
  {
   "cell_type": "code",
   "execution_count": 14,
   "id": "01d6bffa",
   "metadata": {
    "slideshow": {
     "slide_type": "fragment"
    }
   },
   "outputs": [
    {
     "data": {
      "text/plain": [
       "600.0"
      ]
     },
     "execution_count": 14,
     "metadata": {},
     "output_type": "execute_result"
    }
   ],
   "source": [
    "thefts['bike_cost'].median()"
   ]
  },
  {
   "cell_type": "code",
   "execution_count": 15,
   "id": "8a7f4104",
   "metadata": {
    "slideshow": {
     "slide_type": "fragment"
    }
   },
   "outputs": [
    {
     "data": {
      "text/plain": [
       "2000.0"
      ]
     },
     "execution_count": 15,
     "metadata": {},
     "output_type": "execute_result"
    }
   ],
   "source": [
    "thefts['bike_cost'].quantile(0.9)"
   ]
  },
  {
   "cell_type": "markdown",
   "id": "d34d6368",
   "metadata": {
    "slideshow": {
     "slide_type": "slide"
    }
   },
   "source": [
    "### `info()`\n",
    "\n",
    "We can get an overview of the DataFrame by profiling it with the `info()` method. \n",
    "\n",
    "`info()` prints a lot of information about a DataFrame, including:\n",
    "* the `shape` as the number of rows and columns\n",
    "* column names and their `dtype`\n",
    "* the number of non-null values in each column\n",
    "* how big the DataFrame is in terms of memory usage"
   ]
  },
  {
   "cell_type": "markdown",
   "id": "815e6e4b",
   "metadata": {
    "slideshow": {
     "slide_type": "subslide"
    }
   },
   "source": [
    "The bicycle theft data looks quite complete, though some records are missing bike descriptors like bike_make, bike_model, bike_colour, and bike_cost.\n",
    "\n",
    "Most of the column dtypes make sense. We'll want to convert the dates to proper dates. We may also want to convert string columns with limited value sets, like status, to categorical data."
   ]
  },
  {
   "cell_type": "code",
   "execution_count": 16,
   "id": "a0ff7d64",
   "metadata": {
    "scrolled": true,
    "slideshow": {
     "slide_type": "subslide"
    }
   },
   "outputs": [
    {
     "name": "stdout",
     "output_type": "stream",
     "text": [
      "<class 'pandas.core.frame.DataFrame'>\n",
      "RangeIndex: 25569 entries, 0 to 25568\n",
      "Data columns (total 33 columns):\n",
      " #   Column                 Non-Null Count  Dtype  \n",
      "---  ------                 --------------  -----  \n",
      " 0   _id                    25569 non-null  int64  \n",
      " 1   objectid               25569 non-null  int64  \n",
      " 2   event_unique_id        25569 non-null  object \n",
      " 3   primary_offence        25569 non-null  object \n",
      " 4   occurrence_date        25569 non-null  object \n",
      " 5   occurrence_year        25569 non-null  int64  \n",
      " 6   occurrence_month       25569 non-null  object \n",
      " 7   occurrence_dayofweek   25569 non-null  object \n",
      " 8   occurrence_dayofmonth  25569 non-null  int64  \n",
      " 9   occurrence_dayofyear   25569 non-null  int64  \n",
      " 10  occurrence_hour        25569 non-null  int64  \n",
      " 11  report_date            25569 non-null  object \n",
      " 12  report_year            25569 non-null  int64  \n",
      " 13  report_month           25569 non-null  object \n",
      " 14  report_dayofweek       25569 non-null  object \n",
      " 15  report_dayofmonth      25569 non-null  int64  \n",
      " 16  report_dayofyear       25569 non-null  int64  \n",
      " 17  report_hour            25569 non-null  int64  \n",
      " 18  division               25569 non-null  object \n",
      " 19  city                   25569 non-null  object \n",
      " 20  hood_id                25569 non-null  object \n",
      " 21  neighbourhoodname      25569 non-null  object \n",
      " 22  location_type          25569 non-null  object \n",
      " 23  premises_type          25569 non-null  object \n",
      " 24  bike_make              25448 non-null  object \n",
      " 25  bike_model             15923 non-null  object \n",
      " 26  bike_type              25569 non-null  object \n",
      " 27  bike_speed             25569 non-null  int64  \n",
      " 28  bike_colour            23508 non-null  object \n",
      " 29  bike_cost              23825 non-null  float64\n",
      " 30  status                 25569 non-null  object \n",
      " 31  objectid2              25569 non-null  int64  \n",
      " 32  geometry               25569 non-null  object \n",
      "dtypes: float64(1), int64(12), object(20)\n",
      "memory usage: 6.4+ MB\n"
     ]
    }
   ],
   "source": [
    "thefts.info()"
   ]
  },
  {
   "cell_type": "markdown",
   "id": "5533a5de",
   "metadata": {
    "slideshow": {
     "slide_type": "slide"
    }
   },
   "source": [
    "### Changing data types\n",
    "\n",
    "Before exploring the bike theft data further, let's fix the date and categorical columns. To convert a column to datetime, we use the `pd.to_datetime()` function, passing in the column to convert, and reassign the output back to the column we're converting. \n",
    "\n",
    "`pandas` knows how to convert the dates in the bike thefts data, but for less common formats, it is necessary to use the `format` keyword argument to specify how dates should be parsed. `format` strings use `strftime` codes. See https://strftime.org/ for a cheat sheet."
   ]
  },
  {
   "cell_type": "code",
   "execution_count": 17,
   "id": "a42f4c89",
   "metadata": {
    "slideshow": {
     "slide_type": "subslide"
    }
   },
   "outputs": [
    {
     "data": {
      "text/plain": [
       "0       2017-10-03\n",
       "1       2017-11-08\n",
       "2       2018-09-14\n",
       "3       2015-05-07\n",
       "4       2015-05-16\n",
       "           ...    \n",
       "25564   2015-04-01\n",
       "25565   2016-05-16\n",
       "25566   2016-06-04\n",
       "25567   2016-07-04\n",
       "25568   2016-07-22\n",
       "Name: occurrence_date, Length: 25569, dtype: datetime64[ns]"
      ]
     },
     "execution_count": 17,
     "metadata": {},
     "output_type": "execute_result"
    }
   ],
   "source": [
    "thefts['occurrence_date'] = pd.to_datetime(thefts['occurrence_date'],\n",
    "                                          format='%Y-%m-%d')\n",
    "thefts['occurrence_date']"
   ]
  },
  {
   "cell_type": "code",
   "execution_count": 18,
   "id": "4722100d",
   "metadata": {
    "slideshow": {
     "slide_type": "subslide"
    }
   },
   "outputs": [
    {
     "data": {
      "text/plain": [
       "0       2017-10-03\n",
       "1       2017-11-08\n",
       "2       2018-09-17\n",
       "3       2015-05-14\n",
       "4       2015-05-16\n",
       "           ...    \n",
       "25564   2015-04-01\n",
       "25565   2016-05-16\n",
       "25566   2016-06-07\n",
       "25567   2016-07-04\n",
       "25568   2016-07-23\n",
       "Name: report_date, Length: 25569, dtype: datetime64[ns]"
      ]
     },
     "execution_count": 18,
     "metadata": {},
     "output_type": "execute_result"
    }
   ],
   "source": [
    "# convert report_date without the format argument\n",
    "thefts['report_date'] = pd.to_datetime(thefts['report_date'])\n",
    "thefts['report_date']"
   ]
  },
  {
   "cell_type": "markdown",
   "id": "df68b74d",
   "metadata": {
    "slideshow": {
     "slide_type": "subslide"
    }
   },
   "source": [
    "All other data type conversions can be done with the `astype()` method. If we were converting to a number, `pd.to_numeric()` provides an easy way to convert without having to pick a specific numeric data type."
   ]
  },
  {
   "cell_type": "code",
   "execution_count": 19,
   "id": "5adc64a3",
   "metadata": {
    "slideshow": {
     "slide_type": "fragment"
    }
   },
   "outputs": [
    {
     "data": {
      "text/plain": [
       "0           STOLEN\n",
       "1        RECOVERED\n",
       "2           STOLEN\n",
       "3           STOLEN\n",
       "4           STOLEN\n",
       "           ...    \n",
       "25564       STOLEN\n",
       "25565       STOLEN\n",
       "25566       STOLEN\n",
       "25567       STOLEN\n",
       "25568       STOLEN\n",
       "Name: status, Length: 25569, dtype: category\n",
       "Categories (3, object): ['RECOVERED', 'STOLEN', 'UNKNOWN']"
      ]
     },
     "execution_count": 19,
     "metadata": {},
     "output_type": "execute_result"
    }
   ],
   "source": [
    "thefts['status'] = thefts['status'].astype('category')\n",
    "thefts['status']"
   ]
  },
  {
   "cell_type": "markdown",
   "id": "2c574958",
   "metadata": {
    "slideshow": {
     "slide_type": "slide"
    }
   },
   "source": [
    "We can select and convert multiple columns at once by passing a list of columns in the square brackets., then using `.astype()`."
   ]
  },
  {
   "cell_type": "code",
   "execution_count": 20,
   "id": "c327ef8b",
   "metadata": {
    "slideshow": {
     "slide_type": "subslide"
    }
   },
   "outputs": [
    {
     "data": {
      "text/plain": [
       "location_type    category\n",
       "premises_type    category\n",
       "dtype: object"
      ]
     },
     "execution_count": 20,
     "metadata": {},
     "output_type": "execute_result"
    }
   ],
   "source": [
    "thefts[['location_type', 'premises_type']] = thefts[['location_type','premises_type']].astype('category')\n",
    "\n",
    "# check data types\n",
    "thefts[['location_type', 'premises_type']].dtypes"
   ]
  },
  {
   "cell_type": "markdown",
   "id": "4d9c4a20",
   "metadata": {
    "slideshow": {
     "slide_type": "slide"
    }
   },
   "source": [
    "### `describe()`\n",
    "\n",
    "To get a sense of the values in a DataFrame, we can use the `describe()` method. `describe()` summarizes only numeric columns by default. Passing the `include='all'` argument will produce summary statistics for other columns as well."
   ]
  },
  {
   "cell_type": "code",
   "execution_count": 21,
   "id": "c8115ab9",
   "metadata": {
    "slideshow": {
     "slide_type": "subslide"
    }
   },
   "outputs": [
    {
     "data": {
      "text/html": [
       "<div>\n",
       "<style scoped>\n",
       "    .dataframe tbody tr th:only-of-type {\n",
       "        vertical-align: middle;\n",
       "    }\n",
       "\n",
       "    .dataframe tbody tr th {\n",
       "        vertical-align: top;\n",
       "    }\n",
       "\n",
       "    .dataframe thead th {\n",
       "        text-align: right;\n",
       "    }\n",
       "</style>\n",
       "<table border=\"1\" class=\"dataframe\">\n",
       "  <thead>\n",
       "    <tr style=\"text-align: right;\">\n",
       "      <th></th>\n",
       "      <th>_id</th>\n",
       "      <th>objectid</th>\n",
       "      <th>event_unique_id</th>\n",
       "      <th>primary_offence</th>\n",
       "      <th>occurrence_date</th>\n",
       "      <th>occurrence_year</th>\n",
       "      <th>occurrence_month</th>\n",
       "      <th>occurrence_dayofweek</th>\n",
       "      <th>occurrence_dayofmonth</th>\n",
       "      <th>occurrence_dayofyear</th>\n",
       "      <th>occurrence_hour</th>\n",
       "      <th>report_date</th>\n",
       "      <th>report_year</th>\n",
       "      <th>report_month</th>\n",
       "      <th>report_dayofweek</th>\n",
       "      <th>report_dayofmonth</th>\n",
       "      <th>report_dayofyear</th>\n",
       "      <th>report_hour</th>\n",
       "      <th>division</th>\n",
       "      <th>city</th>\n",
       "      <th>hood_id</th>\n",
       "      <th>neighbourhoodname</th>\n",
       "      <th>location_type</th>\n",
       "      <th>premises_type</th>\n",
       "      <th>bike_make</th>\n",
       "      <th>bike_model</th>\n",
       "      <th>bike_type</th>\n",
       "      <th>bike_speed</th>\n",
       "      <th>bike_colour</th>\n",
       "      <th>bike_cost</th>\n",
       "      <th>status</th>\n",
       "      <th>objectid2</th>\n",
       "      <th>geometry</th>\n",
       "    </tr>\n",
       "  </thead>\n",
       "  <tbody>\n",
       "    <tr>\n",
       "      <th>count</th>\n",
       "      <td>25569.000000</td>\n",
       "      <td>25569.000000</td>\n",
       "      <td>25569</td>\n",
       "      <td>25569</td>\n",
       "      <td>25569</td>\n",
       "      <td>25569.000000</td>\n",
       "      <td>25569</td>\n",
       "      <td>25569</td>\n",
       "      <td>25569.000000</td>\n",
       "      <td>25569.000000</td>\n",
       "      <td>25569.000000</td>\n",
       "      <td>25569</td>\n",
       "      <td>25569.000000</td>\n",
       "      <td>25569</td>\n",
       "      <td>25569</td>\n",
       "      <td>25569.000000</td>\n",
       "      <td>25569.000000</td>\n",
       "      <td>25569.000000</td>\n",
       "      <td>25569</td>\n",
       "      <td>25569</td>\n",
       "      <td>25569</td>\n",
       "      <td>25569</td>\n",
       "      <td>25569</td>\n",
       "      <td>25569</td>\n",
       "      <td>25448</td>\n",
       "      <td>15923</td>\n",
       "      <td>25569</td>\n",
       "      <td>25569.000000</td>\n",
       "      <td>23508</td>\n",
       "      <td>23825.000000</td>\n",
       "      <td>25569</td>\n",
       "      <td>25569.000000</td>\n",
       "      <td>25569</td>\n",
       "    </tr>\n",
       "    <tr>\n",
       "      <th>unique</th>\n",
       "      <td>NaN</td>\n",
       "      <td>NaN</td>\n",
       "      <td>22771</td>\n",
       "      <td>66</td>\n",
       "      <td>NaN</td>\n",
       "      <td>NaN</td>\n",
       "      <td>12</td>\n",
       "      <td>7</td>\n",
       "      <td>NaN</td>\n",
       "      <td>NaN</td>\n",
       "      <td>NaN</td>\n",
       "      <td>NaN</td>\n",
       "      <td>NaN</td>\n",
       "      <td>12</td>\n",
       "      <td>7</td>\n",
       "      <td>NaN</td>\n",
       "      <td>NaN</td>\n",
       "      <td>NaN</td>\n",
       "      <td>18</td>\n",
       "      <td>2</td>\n",
       "      <td>141</td>\n",
       "      <td>141</td>\n",
       "      <td>42</td>\n",
       "      <td>7</td>\n",
       "      <td>820</td>\n",
       "      <td>8097</td>\n",
       "      <td>13</td>\n",
       "      <td>NaN</td>\n",
       "      <td>252</td>\n",
       "      <td>NaN</td>\n",
       "      <td>3</td>\n",
       "      <td>NaN</td>\n",
       "      <td>5816</td>\n",
       "    </tr>\n",
       "    <tr>\n",
       "      <th>top</th>\n",
       "      <td>NaN</td>\n",
       "      <td>NaN</td>\n",
       "      <td>GO-20201550944</td>\n",
       "      <td>THEFT UNDER</td>\n",
       "      <td>NaN</td>\n",
       "      <td>NaN</td>\n",
       "      <td>July</td>\n",
       "      <td>Friday</td>\n",
       "      <td>NaN</td>\n",
       "      <td>NaN</td>\n",
       "      <td>NaN</td>\n",
       "      <td>NaN</td>\n",
       "      <td>NaN</td>\n",
       "      <td>July</td>\n",
       "      <td>Monday</td>\n",
       "      <td>NaN</td>\n",
       "      <td>NaN</td>\n",
       "      <td>NaN</td>\n",
       "      <td>D14</td>\n",
       "      <td>Toronto</td>\n",
       "      <td>77</td>\n",
       "      <td>Waterfront Communities-The Island (77)</td>\n",
       "      <td>Apartment (Rooming House, Condo)</td>\n",
       "      <td>Outside</td>\n",
       "      <td>OT</td>\n",
       "      <td>UNKNOWN</td>\n",
       "      <td>MT</td>\n",
       "      <td>NaN</td>\n",
       "      <td>BLK</td>\n",
       "      <td>NaN</td>\n",
       "      <td>STOLEN</td>\n",
       "      <td>NaN</td>\n",
       "      <td>{'type': 'Point', 'coordinates': (-79.38372586...</td>\n",
       "    </tr>\n",
       "    <tr>\n",
       "      <th>freq</th>\n",
       "      <td>NaN</td>\n",
       "      <td>NaN</td>\n",
       "      <td>14</td>\n",
       "      <td>11904</td>\n",
       "      <td>NaN</td>\n",
       "      <td>NaN</td>\n",
       "      <td>4002</td>\n",
       "      <td>3924</td>\n",
       "      <td>NaN</td>\n",
       "      <td>NaN</td>\n",
       "      <td>NaN</td>\n",
       "      <td>NaN</td>\n",
       "      <td>NaN</td>\n",
       "      <td>3988</td>\n",
       "      <td>4318</td>\n",
       "      <td>NaN</td>\n",
       "      <td>NaN</td>\n",
       "      <td>NaN</td>\n",
       "      <td>4580</td>\n",
       "      <td>25560</td>\n",
       "      <td>2576</td>\n",
       "      <td>2576</td>\n",
       "      <td>5887</td>\n",
       "      <td>7960</td>\n",
       "      <td>4991</td>\n",
       "      <td>304</td>\n",
       "      <td>8245</td>\n",
       "      <td>NaN</td>\n",
       "      <td>7422</td>\n",
       "      <td>NaN</td>\n",
       "      <td>24807</td>\n",
       "      <td>NaN</td>\n",
       "      <td>167</td>\n",
       "    </tr>\n",
       "    <tr>\n",
       "      <th>mean</th>\n",
       "      <td>12785.000000</td>\n",
       "      <td>12909.173218</td>\n",
       "      <td>NaN</td>\n",
       "      <td>NaN</td>\n",
       "      <td>2017-09-04 03:39:28.321013504</td>\n",
       "      <td>2017.124174</td>\n",
       "      <td>NaN</td>\n",
       "      <td>NaN</td>\n",
       "      <td>15.616684</td>\n",
       "      <td>202.227698</td>\n",
       "      <td>13.274395</td>\n",
       "      <td>2017-09-12 12:02:37.127771904</td>\n",
       "      <td>2017.143572</td>\n",
       "      <td>NaN</td>\n",
       "      <td>NaN</td>\n",
       "      <td>15.924870</td>\n",
       "      <td>203.493723</td>\n",
       "      <td>14.224139</td>\n",
       "      <td>NaN</td>\n",
       "      <td>NaN</td>\n",
       "      <td>NaN</td>\n",
       "      <td>NaN</td>\n",
       "      <td>NaN</td>\n",
       "      <td>NaN</td>\n",
       "      <td>NaN</td>\n",
       "      <td>NaN</td>\n",
       "      <td>NaN</td>\n",
       "      <td>14.164144</td>\n",
       "      <td>NaN</td>\n",
       "      <td>949.542371</td>\n",
       "      <td>NaN</td>\n",
       "      <td>12785.000000</td>\n",
       "      <td>NaN</td>\n",
       "    </tr>\n",
       "    <tr>\n",
       "      <th>min</th>\n",
       "      <td>1.000000</td>\n",
       "      <td>1.000000</td>\n",
       "      <td>NaN</td>\n",
       "      <td>NaN</td>\n",
       "      <td>2009-09-01 00:00:00</td>\n",
       "      <td>2009.000000</td>\n",
       "      <td>NaN</td>\n",
       "      <td>NaN</td>\n",
       "      <td>1.000000</td>\n",
       "      <td>1.000000</td>\n",
       "      <td>0.000000</td>\n",
       "      <td>2014-01-01 00:00:00</td>\n",
       "      <td>2014.000000</td>\n",
       "      <td>NaN</td>\n",
       "      <td>NaN</td>\n",
       "      <td>1.000000</td>\n",
       "      <td>1.000000</td>\n",
       "      <td>0.000000</td>\n",
       "      <td>NaN</td>\n",
       "      <td>NaN</td>\n",
       "      <td>NaN</td>\n",
       "      <td>NaN</td>\n",
       "      <td>NaN</td>\n",
       "      <td>NaN</td>\n",
       "      <td>NaN</td>\n",
       "      <td>NaN</td>\n",
       "      <td>NaN</td>\n",
       "      <td>0.000000</td>\n",
       "      <td>NaN</td>\n",
       "      <td>0.000000</td>\n",
       "      <td>NaN</td>\n",
       "      <td>1.000000</td>\n",
       "      <td>NaN</td>\n",
       "    </tr>\n",
       "    <tr>\n",
       "      <th>25%</th>\n",
       "      <td>6393.000000</td>\n",
       "      <td>6456.000000</td>\n",
       "      <td>NaN</td>\n",
       "      <td>NaN</td>\n",
       "      <td>2016-01-06 00:00:00</td>\n",
       "      <td>2016.000000</td>\n",
       "      <td>NaN</td>\n",
       "      <td>NaN</td>\n",
       "      <td>8.000000</td>\n",
       "      <td>153.000000</td>\n",
       "      <td>9.000000</td>\n",
       "      <td>2016-01-22 00:00:00</td>\n",
       "      <td>2016.000000</td>\n",
       "      <td>NaN</td>\n",
       "      <td>NaN</td>\n",
       "      <td>9.000000</td>\n",
       "      <td>154.000000</td>\n",
       "      <td>11.000000</td>\n",
       "      <td>NaN</td>\n",
       "      <td>NaN</td>\n",
       "      <td>NaN</td>\n",
       "      <td>NaN</td>\n",
       "      <td>NaN</td>\n",
       "      <td>NaN</td>\n",
       "      <td>NaN</td>\n",
       "      <td>NaN</td>\n",
       "      <td>NaN</td>\n",
       "      <td>6.000000</td>\n",
       "      <td>NaN</td>\n",
       "      <td>350.000000</td>\n",
       "      <td>NaN</td>\n",
       "      <td>6393.000000</td>\n",
       "      <td>NaN</td>\n",
       "    </tr>\n",
       "    <tr>\n",
       "      <th>50%</th>\n",
       "      <td>12785.000000</td>\n",
       "      <td>12918.000000</td>\n",
       "      <td>NaN</td>\n",
       "      <td>NaN</td>\n",
       "      <td>2017-09-05 00:00:00</td>\n",
       "      <td>2017.000000</td>\n",
       "      <td>NaN</td>\n",
       "      <td>NaN</td>\n",
       "      <td>16.000000</td>\n",
       "      <td>205.000000</td>\n",
       "      <td>14.000000</td>\n",
       "      <td>2017-09-12 00:00:00</td>\n",
       "      <td>2017.000000</td>\n",
       "      <td>NaN</td>\n",
       "      <td>NaN</td>\n",
       "      <td>16.000000</td>\n",
       "      <td>206.000000</td>\n",
       "      <td>14.000000</td>\n",
       "      <td>NaN</td>\n",
       "      <td>NaN</td>\n",
       "      <td>NaN</td>\n",
       "      <td>NaN</td>\n",
       "      <td>NaN</td>\n",
       "      <td>NaN</td>\n",
       "      <td>NaN</td>\n",
       "      <td>NaN</td>\n",
       "      <td>NaN</td>\n",
       "      <td>15.000000</td>\n",
       "      <td>NaN</td>\n",
       "      <td>600.000000</td>\n",
       "      <td>NaN</td>\n",
       "      <td>12785.000000</td>\n",
       "      <td>NaN</td>\n",
       "    </tr>\n",
       "    <tr>\n",
       "      <th>75%</th>\n",
       "      <td>19177.000000</td>\n",
       "      <td>19360.000000</td>\n",
       "      <td>NaN</td>\n",
       "      <td>NaN</td>\n",
       "      <td>2019-06-20 00:00:00</td>\n",
       "      <td>2019.000000</td>\n",
       "      <td>NaN</td>\n",
       "      <td>NaN</td>\n",
       "      <td>23.000000</td>\n",
       "      <td>259.000000</td>\n",
       "      <td>19.000000</td>\n",
       "      <td>2019-06-26 00:00:00</td>\n",
       "      <td>2019.000000</td>\n",
       "      <td>NaN</td>\n",
       "      <td>NaN</td>\n",
       "      <td>23.000000</td>\n",
       "      <td>260.000000</td>\n",
       "      <td>18.000000</td>\n",
       "      <td>NaN</td>\n",
       "      <td>NaN</td>\n",
       "      <td>NaN</td>\n",
       "      <td>NaN</td>\n",
       "      <td>NaN</td>\n",
       "      <td>NaN</td>\n",
       "      <td>NaN</td>\n",
       "      <td>NaN</td>\n",
       "      <td>NaN</td>\n",
       "      <td>21.000000</td>\n",
       "      <td>NaN</td>\n",
       "      <td>1000.000000</td>\n",
       "      <td>NaN</td>\n",
       "      <td>19177.000000</td>\n",
       "      <td>NaN</td>\n",
       "    </tr>\n",
       "    <tr>\n",
       "      <th>max</th>\n",
       "      <td>25569.000000</td>\n",
       "      <td>25806.000000</td>\n",
       "      <td>NaN</td>\n",
       "      <td>NaN</td>\n",
       "      <td>2020-12-30 00:00:00</td>\n",
       "      <td>2020.000000</td>\n",
       "      <td>NaN</td>\n",
       "      <td>NaN</td>\n",
       "      <td>31.000000</td>\n",
       "      <td>366.000000</td>\n",
       "      <td>23.000000</td>\n",
       "      <td>2020-12-31 00:00:00</td>\n",
       "      <td>2020.000000</td>\n",
       "      <td>NaN</td>\n",
       "      <td>NaN</td>\n",
       "      <td>31.000000</td>\n",
       "      <td>366.000000</td>\n",
       "      <td>23.000000</td>\n",
       "      <td>NaN</td>\n",
       "      <td>NaN</td>\n",
       "      <td>NaN</td>\n",
       "      <td>NaN</td>\n",
       "      <td>NaN</td>\n",
       "      <td>NaN</td>\n",
       "      <td>NaN</td>\n",
       "      <td>NaN</td>\n",
       "      <td>NaN</td>\n",
       "      <td>99.000000</td>\n",
       "      <td>NaN</td>\n",
       "      <td>120000.000000</td>\n",
       "      <td>NaN</td>\n",
       "      <td>25569.000000</td>\n",
       "      <td>NaN</td>\n",
       "    </tr>\n",
       "    <tr>\n",
       "      <th>std</th>\n",
       "      <td>7381.278853</td>\n",
       "      <td>7448.318562</td>\n",
       "      <td>NaN</td>\n",
       "      <td>NaN</td>\n",
       "      <td>NaN</td>\n",
       "      <td>1.960127</td>\n",
       "      <td>NaN</td>\n",
       "      <td>NaN</td>\n",
       "      <td>8.592886</td>\n",
       "      <td>76.821431</td>\n",
       "      <td>6.530181</td>\n",
       "      <td>NaN</td>\n",
       "      <td>1.955024</td>\n",
       "      <td>NaN</td>\n",
       "      <td>NaN</td>\n",
       "      <td>8.549584</td>\n",
       "      <td>77.115977</td>\n",
       "      <td>5.052944</td>\n",
       "      <td>NaN</td>\n",
       "      <td>NaN</td>\n",
       "      <td>NaN</td>\n",
       "      <td>NaN</td>\n",
       "      <td>NaN</td>\n",
       "      <td>NaN</td>\n",
       "      <td>NaN</td>\n",
       "      <td>NaN</td>\n",
       "      <td>NaN</td>\n",
       "      <td>10.559215</td>\n",
       "      <td>NaN</td>\n",
       "      <td>1675.880345</td>\n",
       "      <td>NaN</td>\n",
       "      <td>7381.278853</td>\n",
       "      <td>NaN</td>\n",
       "    </tr>\n",
       "  </tbody>\n",
       "</table>\n",
       "</div>"
      ],
      "text/plain": [
       "                 _id      objectid event_unique_id primary_offence  \\\n",
       "count   25569.000000  25569.000000           25569           25569   \n",
       "unique           NaN           NaN           22771              66   \n",
       "top              NaN           NaN  GO-20201550944     THEFT UNDER   \n",
       "freq             NaN           NaN              14           11904   \n",
       "mean    12785.000000  12909.173218             NaN             NaN   \n",
       "min         1.000000      1.000000             NaN             NaN   \n",
       "25%      6393.000000   6456.000000             NaN             NaN   \n",
       "50%     12785.000000  12918.000000             NaN             NaN   \n",
       "75%     19177.000000  19360.000000             NaN             NaN   \n",
       "max     25569.000000  25806.000000             NaN             NaN   \n",
       "std      7381.278853   7448.318562             NaN             NaN   \n",
       "\n",
       "                      occurrence_date  occurrence_year occurrence_month  \\\n",
       "count                           25569     25569.000000            25569   \n",
       "unique                            NaN              NaN               12   \n",
       "top                               NaN              NaN             July   \n",
       "freq                              NaN              NaN             4002   \n",
       "mean    2017-09-04 03:39:28.321013504      2017.124174              NaN   \n",
       "min               2009-09-01 00:00:00      2009.000000              NaN   \n",
       "25%               2016-01-06 00:00:00      2016.000000              NaN   \n",
       "50%               2017-09-05 00:00:00      2017.000000              NaN   \n",
       "75%               2019-06-20 00:00:00      2019.000000              NaN   \n",
       "max               2020-12-30 00:00:00      2020.000000              NaN   \n",
       "std                               NaN         1.960127              NaN   \n",
       "\n",
       "       occurrence_dayofweek  occurrence_dayofmonth  occurrence_dayofyear  \\\n",
       "count                 25569           25569.000000          25569.000000   \n",
       "unique                    7                    NaN                   NaN   \n",
       "top                  Friday                    NaN                   NaN   \n",
       "freq                   3924                    NaN                   NaN   \n",
       "mean                    NaN              15.616684            202.227698   \n",
       "min                     NaN               1.000000              1.000000   \n",
       "25%                     NaN               8.000000            153.000000   \n",
       "50%                     NaN              16.000000            205.000000   \n",
       "75%                     NaN              23.000000            259.000000   \n",
       "max                     NaN              31.000000            366.000000   \n",
       "std                     NaN               8.592886             76.821431   \n",
       "\n",
       "        occurrence_hour                    report_date   report_year  \\\n",
       "count      25569.000000                          25569  25569.000000   \n",
       "unique              NaN                            NaN           NaN   \n",
       "top                 NaN                            NaN           NaN   \n",
       "freq                NaN                            NaN           NaN   \n",
       "mean          13.274395  2017-09-12 12:02:37.127771904   2017.143572   \n",
       "min            0.000000            2014-01-01 00:00:00   2014.000000   \n",
       "25%            9.000000            2016-01-22 00:00:00   2016.000000   \n",
       "50%           14.000000            2017-09-12 00:00:00   2017.000000   \n",
       "75%           19.000000            2019-06-26 00:00:00   2019.000000   \n",
       "max           23.000000            2020-12-31 00:00:00   2020.000000   \n",
       "std            6.530181                            NaN      1.955024   \n",
       "\n",
       "       report_month report_dayofweek  report_dayofmonth  report_dayofyear  \\\n",
       "count         25569            25569       25569.000000      25569.000000   \n",
       "unique           12                7                NaN               NaN   \n",
       "top            July           Monday                NaN               NaN   \n",
       "freq           3988             4318                NaN               NaN   \n",
       "mean            NaN              NaN          15.924870        203.493723   \n",
       "min             NaN              NaN           1.000000          1.000000   \n",
       "25%             NaN              NaN           9.000000        154.000000   \n",
       "50%             NaN              NaN          16.000000        206.000000   \n",
       "75%             NaN              NaN          23.000000        260.000000   \n",
       "max             NaN              NaN          31.000000        366.000000   \n",
       "std             NaN              NaN           8.549584         77.115977   \n",
       "\n",
       "         report_hour division     city hood_id  \\\n",
       "count   25569.000000    25569    25569   25569   \n",
       "unique           NaN       18        2     141   \n",
       "top              NaN      D14  Toronto      77   \n",
       "freq             NaN     4580    25560    2576   \n",
       "mean       14.224139      NaN      NaN     NaN   \n",
       "min         0.000000      NaN      NaN     NaN   \n",
       "25%        11.000000      NaN      NaN     NaN   \n",
       "50%        14.000000      NaN      NaN     NaN   \n",
       "75%        18.000000      NaN      NaN     NaN   \n",
       "max        23.000000      NaN      NaN     NaN   \n",
       "std         5.052944      NaN      NaN     NaN   \n",
       "\n",
       "                             neighbourhoodname  \\\n",
       "count                                    25569   \n",
       "unique                                     141   \n",
       "top     Waterfront Communities-The Island (77)   \n",
       "freq                                      2576   \n",
       "mean                                       NaN   \n",
       "min                                        NaN   \n",
       "25%                                        NaN   \n",
       "50%                                        NaN   \n",
       "75%                                        NaN   \n",
       "max                                        NaN   \n",
       "std                                        NaN   \n",
       "\n",
       "                           location_type premises_type bike_make bike_model  \\\n",
       "count                              25569         25569     25448      15923   \n",
       "unique                                42             7       820       8097   \n",
       "top     Apartment (Rooming House, Condo)       Outside        OT    UNKNOWN   \n",
       "freq                                5887          7960      4991        304   \n",
       "mean                                 NaN           NaN       NaN        NaN   \n",
       "min                                  NaN           NaN       NaN        NaN   \n",
       "25%                                  NaN           NaN       NaN        NaN   \n",
       "50%                                  NaN           NaN       NaN        NaN   \n",
       "75%                                  NaN           NaN       NaN        NaN   \n",
       "max                                  NaN           NaN       NaN        NaN   \n",
       "std                                  NaN           NaN       NaN        NaN   \n",
       "\n",
       "       bike_type    bike_speed bike_colour      bike_cost  status  \\\n",
       "count      25569  25569.000000       23508   23825.000000   25569   \n",
       "unique        13           NaN         252            NaN       3   \n",
       "top           MT           NaN         BLK            NaN  STOLEN   \n",
       "freq        8245           NaN        7422            NaN   24807   \n",
       "mean         NaN     14.164144         NaN     949.542371     NaN   \n",
       "min          NaN      0.000000         NaN       0.000000     NaN   \n",
       "25%          NaN      6.000000         NaN     350.000000     NaN   \n",
       "50%          NaN     15.000000         NaN     600.000000     NaN   \n",
       "75%          NaN     21.000000         NaN    1000.000000     NaN   \n",
       "max          NaN     99.000000         NaN  120000.000000     NaN   \n",
       "std          NaN     10.559215         NaN    1675.880345     NaN   \n",
       "\n",
       "           objectid2                                           geometry  \n",
       "count   25569.000000                                              25569  \n",
       "unique           NaN                                               5816  \n",
       "top              NaN  {'type': 'Point', 'coordinates': (-79.38372586...  \n",
       "freq             NaN                                                167  \n",
       "mean    12785.000000                                                NaN  \n",
       "min         1.000000                                                NaN  \n",
       "25%      6393.000000                                                NaN  \n",
       "50%     12785.000000                                                NaN  \n",
       "75%     19177.000000                                                NaN  \n",
       "max     25569.000000                                                NaN  \n",
       "std      7381.278853                                                NaN  "
      ]
     },
     "execution_count": 21,
     "metadata": {},
     "output_type": "execute_result"
    }
   ],
   "source": [
    "thefts.describe(include='all', \n",
    "                datetime_is_numeric=True)  # silence warning about upcoming pandas change"
   ]
  },
  {
   "cell_type": "markdown",
   "id": "50b9f0ac",
   "metadata": {
    "slideshow": {
     "slide_type": "slide"
    }
   },
   "source": [
    "## Practice"
   ]
  },
  {
   "cell_type": "markdown",
   "id": "63e268d9",
   "metadata": {
    "slideshow": {
     "slide_type": "subslide"
    }
   },
   "source": [
    "1. Explore unique valuesets for some of the other columns in `thefts`. Identify at least one that may make sense as categorical variables and convert it.\n",
    "2. Count values for `location_type`. Where did most reported thefts happen?\n",
    "3. Find the 10th percentile of `bike_cost`."
   ]
  },
  {
   "cell_type": "code",
   "execution_count": 22,
   "id": "14e37208",
   "metadata": {
    "slideshow": {
     "slide_type": "skip"
    }
   },
   "outputs": [
    {
     "data": {
      "text/plain": [
       "Apartment (Rooming House, Condo)                                          5887\n",
       "Streets, Roads, Highways (Bicycle Path, Private Road)                     5088\n",
       "Single Home, House (Attach Garage, Cottage, Mobile)                       4118\n",
       "Parking Lots (Apt., Commercial Or Non-Commercial)                         2421\n",
       "Other Commercial / Corporate Places (For Profit, Warehouse, Corp. Bldg    2094\n",
       "Name: location_type, dtype: int64"
      ]
     },
     "execution_count": 22,
     "metadata": {},
     "output_type": "execute_result"
    }
   ],
   "source": [
    "thefts['location_type'].value_counts().head()"
   ]
  },
  {
   "cell_type": "markdown",
   "id": "98f401a5",
   "metadata": {
    "slideshow": {
     "slide_type": "slide"
    }
   },
   "source": [
    "## Wrangling and Plotting"
   ]
  },
  {
   "cell_type": "markdown",
   "id": "076d08b1",
   "metadata": {
    "slideshow": {
     "slide_type": "slide"
    }
   },
   "source": [
    "### Combining datasets: concatenation\n",
    "\n",
    "Just as `pandas` has `read_csv()` for flat files, there is a `read_excel()` function to load Excel files. \n",
    "\n",
    "The TTC publishes subway delay data as a multi-sheet Excel workbook, with a month's worth of data per sheet. `read_excel()` loads just the first sheet in an Excel file by default. To load all sheets, pass in the keyword argument `sheet_name=None`. The result is a dictionary, where each key is the sheet name and each value is a DataFrame with the contents of the sheet."
   ]
  },
  {
   "cell_type": "code",
   "execution_count": 23,
   "id": "0ce56e2e",
   "metadata": {
    "slideshow": {
     "slide_type": "fragment"
    }
   },
   "outputs": [],
   "source": [
    "delays_url = '../data/ttc-subway-delay-data-2021.xlsx'\n",
    "delays = pd.read_excel(delays_url, sheet_name=None)"
   ]
  },
  {
   "cell_type": "code",
   "execution_count": 24,
   "id": "256c6e97",
   "metadata": {
    "slideshow": {
     "slide_type": "fragment"
    }
   },
   "outputs": [
    {
     "data": {
      "text/plain": [
       "dict"
      ]
     },
     "execution_count": 24,
     "metadata": {},
     "output_type": "execute_result"
    }
   ],
   "source": [
    "type(delays)"
   ]
  },
  {
   "cell_type": "markdown",
   "id": "4f757ac4",
   "metadata": {
    "slideshow": {
     "slide_type": "subslide"
    }
   },
   "source": [
    "To combine them all, we create an empty DataFrame, then loop through the dictionary items and use `pd.concat()` to append data. `concat()` takes a list of DataFrames to combine. Since we did not specify an index, row labels are numbers: the first row of each sheet has an index of 0, and so on. To reset row labels so that they are sequential again, we set `ignore_index=True`."
   ]
  },
  {
   "cell_type": "code",
   "execution_count": 25,
   "id": "81bd009e",
   "metadata": {
    "slideshow": {
     "slide_type": "subslide"
    }
   },
   "outputs": [
    {
     "name": "stdout",
     "output_type": "stream",
     "text": [
      "Adding 1216 rows from January21\n",
      "Adding 1245 rows from Feb 21\n",
      "Adding 1167 rows from March '21\n",
      "Adding 1170 rows from April '21\n",
      "Adding 1168 rows from May '21\n",
      "Adding 1265 rows from June 21\n",
      "Adding 1244 rows from July 21\n",
      "Adding 1273 rows from August 21\n",
      "Adding 1433 rows from Sept 21\n",
      "Adding 1560 rows from Oct 21\n",
      "Adding 1771 rows from Nov 21\n",
      "Adding 1858 rows from December21\n"
     ]
    },
    {
     "data": {
      "text/plain": [
       "(16370, 10)"
      ]
     },
     "execution_count": 25,
     "metadata": {},
     "output_type": "execute_result"
    }
   ],
   "source": [
    "# create an empty DataFrame\n",
    "all_delays = pd.DataFrame()\n",
    "\n",
    "for sheet_name, values in delays.items():\n",
    "    # print the number of rows\n",
    "    print(f'Adding {values.shape[0]} rows from {sheet_name}')\n",
    "    # add each sheet to all_delays\n",
    "    all_delays = pd.concat([all_delays, values], \n",
    "                           axis=0,  # concatenate rows\n",
    "                           ignore_index=True)  # reset row labels\n",
    "\n",
    "all_delays.shape"
   ]
  },
  {
   "cell_type": "code",
   "execution_count": 26,
   "id": "b407508c",
   "metadata": {
    "slideshow": {
     "slide_type": "subslide"
    }
   },
   "outputs": [
    {
     "data": {
      "text/html": [
       "<div>\n",
       "<style scoped>\n",
       "    .dataframe tbody tr th:only-of-type {\n",
       "        vertical-align: middle;\n",
       "    }\n",
       "\n",
       "    .dataframe tbody tr th {\n",
       "        vertical-align: top;\n",
       "    }\n",
       "\n",
       "    .dataframe thead th {\n",
       "        text-align: right;\n",
       "    }\n",
       "</style>\n",
       "<table border=\"1\" class=\"dataframe\">\n",
       "  <thead>\n",
       "    <tr style=\"text-align: right;\">\n",
       "      <th></th>\n",
       "      <th>Date</th>\n",
       "      <th>Time</th>\n",
       "      <th>Day</th>\n",
       "      <th>Station</th>\n",
       "      <th>Code</th>\n",
       "      <th>Min Delay</th>\n",
       "      <th>Min Gap</th>\n",
       "      <th>Bound</th>\n",
       "      <th>Line</th>\n",
       "      <th>Vehicle</th>\n",
       "    </tr>\n",
       "  </thead>\n",
       "  <tbody>\n",
       "    <tr>\n",
       "      <th>0</th>\n",
       "      <td>2021-01-01</td>\n",
       "      <td>00:33</td>\n",
       "      <td>Friday</td>\n",
       "      <td>BLOOR STATION</td>\n",
       "      <td>MUPAA</td>\n",
       "      <td>0</td>\n",
       "      <td>0</td>\n",
       "      <td>N</td>\n",
       "      <td>YU</td>\n",
       "      <td>6046</td>\n",
       "    </tr>\n",
       "    <tr>\n",
       "      <th>1</th>\n",
       "      <td>2021-01-01</td>\n",
       "      <td>00:39</td>\n",
       "      <td>Friday</td>\n",
       "      <td>SHERBOURNE STATION</td>\n",
       "      <td>EUCO</td>\n",
       "      <td>5</td>\n",
       "      <td>9</td>\n",
       "      <td>E</td>\n",
       "      <td>BD</td>\n",
       "      <td>5250</td>\n",
       "    </tr>\n",
       "    <tr>\n",
       "      <th>2</th>\n",
       "      <td>2021-01-01</td>\n",
       "      <td>01:07</td>\n",
       "      <td>Friday</td>\n",
       "      <td>KENNEDY BD STATION</td>\n",
       "      <td>EUCD</td>\n",
       "      <td>5</td>\n",
       "      <td>9</td>\n",
       "      <td>E</td>\n",
       "      <td>BD</td>\n",
       "      <td>5249</td>\n",
       "    </tr>\n",
       "    <tr>\n",
       "      <th>3</th>\n",
       "      <td>2021-01-01</td>\n",
       "      <td>01:41</td>\n",
       "      <td>Friday</td>\n",
       "      <td>ST CLAIR STATION</td>\n",
       "      <td>MUIS</td>\n",
       "      <td>0</td>\n",
       "      <td>0</td>\n",
       "      <td>NaN</td>\n",
       "      <td>YU</td>\n",
       "      <td>0</td>\n",
       "    </tr>\n",
       "    <tr>\n",
       "      <th>4</th>\n",
       "      <td>2021-01-01</td>\n",
       "      <td>02:04</td>\n",
       "      <td>Friday</td>\n",
       "      <td>SHEPPARD WEST STATION</td>\n",
       "      <td>MUIS</td>\n",
       "      <td>0</td>\n",
       "      <td>0</td>\n",
       "      <td>NaN</td>\n",
       "      <td>YU</td>\n",
       "      <td>0</td>\n",
       "    </tr>\n",
       "  </tbody>\n",
       "</table>\n",
       "</div>"
      ],
      "text/plain": [
       "        Date   Time     Day                Station   Code  Min Delay  Min Gap  \\\n",
       "0 2021-01-01  00:33  Friday          BLOOR STATION  MUPAA          0        0   \n",
       "1 2021-01-01  00:39  Friday     SHERBOURNE STATION   EUCO          5        9   \n",
       "2 2021-01-01  01:07  Friday     KENNEDY BD STATION   EUCD          5        9   \n",
       "3 2021-01-01  01:41  Friday       ST CLAIR STATION   MUIS          0        0   \n",
       "4 2021-01-01  02:04  Friday  SHEPPARD WEST STATION   MUIS          0        0   \n",
       "\n",
       "  Bound Line  Vehicle  \n",
       "0     N   YU     6046  \n",
       "1     E   BD     5250  \n",
       "2     E   BD     5249  \n",
       "3   NaN   YU        0  \n",
       "4   NaN   YU        0  "
      ]
     },
     "execution_count": 26,
     "metadata": {},
     "output_type": "execute_result"
    }
   ],
   "source": [
    "all_delays.head()"
   ]
  },
  {
   "cell_type": "markdown",
   "id": "05a49b1d",
   "metadata": {
    "slideshow": {
     "slide_type": "slide"
    }
   },
   "source": [
    "## Practice"
   ]
  },
  {
   "cell_type": "markdown",
   "id": "5889dc0a",
   "metadata": {
    "slideshow": {
     "slide_type": "subslide"
    }
   },
   "source": [
    "1. The TTC delays data includes a reason code for the delay. Code definitions, however, are in a separate Excel file, `ttc-subway-delay-codes.xlsx`. This file has been modified slightly to make it easier to work with. Codes are split between two tabs. Load both to a DataFrame, `delay_reasons`.\n",
    "\n",
    "2. Rename the columns in both `all_delays` and `delay_reasons` so that all letters are lowercase. **Challenge**: rename the columns to replace spaces with underscores as well as convert all letters to lowercase. \n",
    "\n",
    "3. Explore `all_delays`. Do any columns have missing values? What was the median `Min Delay`? How many unique lines are in the data?"
   ]
  },
  {
   "cell_type": "code",
   "execution_count": 27,
   "id": "53e525c3",
   "metadata": {
    "slideshow": {
     "slide_type": "skip"
    }
   },
   "outputs": [
    {
     "data": {
      "text/html": [
       "<div>\n",
       "<style scoped>\n",
       "    .dataframe tbody tr th:only-of-type {\n",
       "        vertical-align: middle;\n",
       "    }\n",
       "\n",
       "    .dataframe tbody tr th {\n",
       "        vertical-align: top;\n",
       "    }\n",
       "\n",
       "    .dataframe thead th {\n",
       "        text-align: right;\n",
       "    }\n",
       "</style>\n",
       "<table border=\"1\" class=\"dataframe\">\n",
       "  <thead>\n",
       "    <tr style=\"text-align: right;\">\n",
       "      <th></th>\n",
       "      <th>RMENU CODE</th>\n",
       "      <th>CODE DESCRIPTION</th>\n",
       "      <th>SUB OR SRT</th>\n",
       "    </tr>\n",
       "  </thead>\n",
       "  <tbody>\n",
       "    <tr>\n",
       "      <th>0</th>\n",
       "      <td>EUAC</td>\n",
       "      <td>Air Conditioning</td>\n",
       "      <td>SUB</td>\n",
       "    </tr>\n",
       "    <tr>\n",
       "      <th>1</th>\n",
       "      <td>EUAL</td>\n",
       "      <td>Alternating Current</td>\n",
       "      <td>SUB</td>\n",
       "    </tr>\n",
       "    <tr>\n",
       "      <th>2</th>\n",
       "      <td>EUATC</td>\n",
       "      <td>ATC RC&amp;S Equipment</td>\n",
       "      <td>SUB</td>\n",
       "    </tr>\n",
       "    <tr>\n",
       "      <th>3</th>\n",
       "      <td>EUBK</td>\n",
       "      <td>Brakes</td>\n",
       "      <td>SUB</td>\n",
       "    </tr>\n",
       "    <tr>\n",
       "      <th>4</th>\n",
       "      <td>EUBO</td>\n",
       "      <td>Body</td>\n",
       "      <td>SUB</td>\n",
       "    </tr>\n",
       "    <tr>\n",
       "      <th>...</th>\n",
       "      <td>...</td>\n",
       "      <td>...</td>\n",
       "      <td>...</td>\n",
       "    </tr>\n",
       "    <tr>\n",
       "      <th>195</th>\n",
       "      <td>TRNOA</td>\n",
       "      <td>No Operator Immediately Available</td>\n",
       "      <td>SRT</td>\n",
       "    </tr>\n",
       "    <tr>\n",
       "      <th>196</th>\n",
       "      <td>TRO</td>\n",
       "      <td>Transportation Department - Other</td>\n",
       "      <td>SRT</td>\n",
       "    </tr>\n",
       "    <tr>\n",
       "      <th>197</th>\n",
       "      <td>TRSET</td>\n",
       "      <td>Train Controls Improperly Shut Down</td>\n",
       "      <td>SRT</td>\n",
       "    </tr>\n",
       "    <tr>\n",
       "      <th>198</th>\n",
       "      <td>TRST</td>\n",
       "      <td>Storm Trains</td>\n",
       "      <td>SRT</td>\n",
       "    </tr>\n",
       "    <tr>\n",
       "      <th>199</th>\n",
       "      <td>TRTC</td>\n",
       "      <td>Transit Control Related Problems</td>\n",
       "      <td>SRT</td>\n",
       "    </tr>\n",
       "  </tbody>\n",
       "</table>\n",
       "<p>200 rows × 3 columns</p>\n",
       "</div>"
      ],
      "text/plain": [
       "    RMENU CODE                     CODE DESCRIPTION SUB OR SRT\n",
       "0         EUAC                     Air Conditioning        SUB\n",
       "1         EUAL                  Alternating Current        SUB\n",
       "2        EUATC                   ATC RC&S Equipment        SUB\n",
       "3         EUBK                               Brakes        SUB\n",
       "4         EUBO                                 Body        SUB\n",
       "..         ...                                  ...        ...\n",
       "195      TRNOA   No Operator Immediately Available         SRT\n",
       "196        TRO    Transportation Department - Other        SRT\n",
       "197      TRSET  Train Controls Improperly Shut Down        SRT\n",
       "198       TRST                         Storm Trains        SRT\n",
       "199       TRTC     Transit Control Related Problems        SRT\n",
       "\n",
       "[200 rows x 3 columns]"
      ]
     },
     "execution_count": 27,
     "metadata": {},
     "output_type": "execute_result"
    }
   ],
   "source": [
    "## Practice answers\n",
    "# Question 1\n",
    "dr = pd.read_excel('../data/ttc-subway-delay-codes.xlsx', sheet_name=None)\n",
    "\n",
    "delay_reasons = pd.DataFrame()\n",
    "for sheet_name, values in dr.items():\n",
    "    delay_reasons = pd.concat([delay_reasons, values],\n",
    "                             axis=0,\n",
    "                             ignore_index=True)\n",
    "\n",
    "delay_reasons"
   ]
  },
  {
   "cell_type": "code",
   "execution_count": 28,
   "id": "e7c6fd96",
   "metadata": {
    "slideshow": {
     "slide_type": "skip"
    }
   },
   "outputs": [
    {
     "name": "stdout",
     "output_type": "stream",
     "text": [
      "['rmenu_code', 'code_description', 'sub_or_srt']\n",
      "['date', 'time', 'day', 'station', 'code', 'min_delay', 'min_gap', 'bound', 'line', 'vehicle']\n"
     ]
    }
   ],
   "source": [
    "# Question 2 challenge\n",
    "\n",
    "def clean_names(string):\n",
    "    return string.lower().replace(' ', '_')\n",
    "\n",
    "delay_reasons = delay_reasons.rename(columns=clean_names)\n",
    "all_delays = all_delays.rename(columns=clean_names)\n",
    "print(list(delay_reasons))\n",
    "print(list(all_delays))"
   ]
  },
  {
   "cell_type": "markdown",
   "id": "c2b1b5f4",
   "metadata": {
    "slideshow": {
     "slide_type": "slide"
    }
   },
   "source": [
    "## Combining datasets: merging\n",
    "\n",
    "Ideally, the delays data would include code descriptions. We can get descriptions into `all_delays` by _merging_ in `delay_reasons`. Merging is analagous to joining in SQL databases. To merge two DataFrames, we pass them as arguments to the `pd.merge()`. Then, we specify `how` to merge the two DataFrames and what column names to merge `on`."
   ]
  },
  {
   "cell_type": "markdown",
   "id": "32f9f2b2",
   "metadata": {
    "slideshow": {
     "slide_type": "subslide"
    }
   },
   "source": [
    "Let's review the `all_delays` and `delay_reasons` DataFrames. `code` is equivalent to `rmenu_code`. If we pass in `all_delays` as the first DataFrame, then it will be the left frame, and `delay_reasons` the right one. We want to keep all the delay records, even if there isn't a matching code in `delay_reasons`, so we will perform a left join."
   ]
  },
  {
   "cell_type": "code",
   "execution_count": 29,
   "id": "0fd6c216",
   "metadata": {
    "slideshow": {
     "slide_type": "fragment"
    }
   },
   "outputs": [
    {
     "data": {
      "text/html": [
       "<div>\n",
       "<style scoped>\n",
       "    .dataframe tbody tr th:only-of-type {\n",
       "        vertical-align: middle;\n",
       "    }\n",
       "\n",
       "    .dataframe tbody tr th {\n",
       "        vertical-align: top;\n",
       "    }\n",
       "\n",
       "    .dataframe thead th {\n",
       "        text-align: right;\n",
       "    }\n",
       "</style>\n",
       "<table border=\"1\" class=\"dataframe\">\n",
       "  <thead>\n",
       "    <tr style=\"text-align: right;\">\n",
       "      <th></th>\n",
       "      <th>date</th>\n",
       "      <th>time</th>\n",
       "      <th>day</th>\n",
       "      <th>station</th>\n",
       "      <th>code</th>\n",
       "      <th>min_delay</th>\n",
       "      <th>min_gap</th>\n",
       "      <th>bound</th>\n",
       "      <th>line</th>\n",
       "      <th>vehicle</th>\n",
       "    </tr>\n",
       "  </thead>\n",
       "  <tbody>\n",
       "    <tr>\n",
       "      <th>0</th>\n",
       "      <td>2021-01-01</td>\n",
       "      <td>00:33</td>\n",
       "      <td>Friday</td>\n",
       "      <td>BLOOR STATION</td>\n",
       "      <td>MUPAA</td>\n",
       "      <td>0</td>\n",
       "      <td>0</td>\n",
       "      <td>N</td>\n",
       "      <td>YU</td>\n",
       "      <td>6046</td>\n",
       "    </tr>\n",
       "    <tr>\n",
       "      <th>1</th>\n",
       "      <td>2021-01-01</td>\n",
       "      <td>00:39</td>\n",
       "      <td>Friday</td>\n",
       "      <td>SHERBOURNE STATION</td>\n",
       "      <td>EUCO</td>\n",
       "      <td>5</td>\n",
       "      <td>9</td>\n",
       "      <td>E</td>\n",
       "      <td>BD</td>\n",
       "      <td>5250</td>\n",
       "    </tr>\n",
       "  </tbody>\n",
       "</table>\n",
       "</div>"
      ],
      "text/plain": [
       "        date   time     day             station   code  min_delay  min_gap  \\\n",
       "0 2021-01-01  00:33  Friday       BLOOR STATION  MUPAA          0        0   \n",
       "1 2021-01-01  00:39  Friday  SHERBOURNE STATION   EUCO          5        9   \n",
       "\n",
       "  bound line  vehicle  \n",
       "0     N   YU     6046  \n",
       "1     E   BD     5250  "
      ]
     },
     "execution_count": 29,
     "metadata": {},
     "output_type": "execute_result"
    }
   ],
   "source": [
    "all_delays.head(2)"
   ]
  },
  {
   "cell_type": "code",
   "execution_count": 30,
   "id": "8fbb4203",
   "metadata": {
    "slideshow": {
     "slide_type": "fragment"
    }
   },
   "outputs": [
    {
     "data": {
      "text/html": [
       "<div>\n",
       "<style scoped>\n",
       "    .dataframe tbody tr th:only-of-type {\n",
       "        vertical-align: middle;\n",
       "    }\n",
       "\n",
       "    .dataframe tbody tr th {\n",
       "        vertical-align: top;\n",
       "    }\n",
       "\n",
       "    .dataframe thead th {\n",
       "        text-align: right;\n",
       "    }\n",
       "</style>\n",
       "<table border=\"1\" class=\"dataframe\">\n",
       "  <thead>\n",
       "    <tr style=\"text-align: right;\">\n",
       "      <th></th>\n",
       "      <th>rmenu_code</th>\n",
       "      <th>code_description</th>\n",
       "      <th>sub_or_srt</th>\n",
       "    </tr>\n",
       "  </thead>\n",
       "  <tbody>\n",
       "    <tr>\n",
       "      <th>0</th>\n",
       "      <td>EUAC</td>\n",
       "      <td>Air Conditioning</td>\n",
       "      <td>SUB</td>\n",
       "    </tr>\n",
       "    <tr>\n",
       "      <th>1</th>\n",
       "      <td>EUAL</td>\n",
       "      <td>Alternating Current</td>\n",
       "      <td>SUB</td>\n",
       "    </tr>\n",
       "  </tbody>\n",
       "</table>\n",
       "</div>"
      ],
      "text/plain": [
       "  rmenu_code     code_description sub_or_srt\n",
       "0       EUAC     Air Conditioning        SUB\n",
       "1       EUAL  Alternating Current        SUB"
      ]
     },
     "execution_count": 30,
     "metadata": {},
     "output_type": "execute_result"
    }
   ],
   "source": [
    "delay_reasons.head(2)"
   ]
  },
  {
   "cell_type": "code",
   "execution_count": 31,
   "id": "b6f6b219",
   "metadata": {
    "slideshow": {
     "slide_type": "subslide"
    }
   },
   "outputs": [
    {
     "data": {
      "text/html": [
       "<div>\n",
       "<style scoped>\n",
       "    .dataframe tbody tr th:only-of-type {\n",
       "        vertical-align: middle;\n",
       "    }\n",
       "\n",
       "    .dataframe tbody tr th {\n",
       "        vertical-align: top;\n",
       "    }\n",
       "\n",
       "    .dataframe thead th {\n",
       "        text-align: right;\n",
       "    }\n",
       "</style>\n",
       "<table border=\"1\" class=\"dataframe\">\n",
       "  <thead>\n",
       "    <tr style=\"text-align: right;\">\n",
       "      <th></th>\n",
       "      <th>date</th>\n",
       "      <th>time</th>\n",
       "      <th>day</th>\n",
       "      <th>station</th>\n",
       "      <th>code</th>\n",
       "      <th>min_delay</th>\n",
       "      <th>min_gap</th>\n",
       "      <th>bound</th>\n",
       "      <th>line</th>\n",
       "      <th>vehicle</th>\n",
       "      <th>rmenu_code</th>\n",
       "      <th>code_description</th>\n",
       "      <th>sub_or_srt</th>\n",
       "    </tr>\n",
       "  </thead>\n",
       "  <tbody>\n",
       "    <tr>\n",
       "      <th>0</th>\n",
       "      <td>2021-01-01</td>\n",
       "      <td>00:33</td>\n",
       "      <td>Friday</td>\n",
       "      <td>BLOOR STATION</td>\n",
       "      <td>MUPAA</td>\n",
       "      <td>0</td>\n",
       "      <td>0</td>\n",
       "      <td>N</td>\n",
       "      <td>YU</td>\n",
       "      <td>6046</td>\n",
       "      <td>MUPAA</td>\n",
       "      <td>Passenger Assistance Alarm Activated - No Trou...</td>\n",
       "      <td>SUB</td>\n",
       "    </tr>\n",
       "    <tr>\n",
       "      <th>1</th>\n",
       "      <td>2021-01-01</td>\n",
       "      <td>00:39</td>\n",
       "      <td>Friday</td>\n",
       "      <td>SHERBOURNE STATION</td>\n",
       "      <td>EUCO</td>\n",
       "      <td>5</td>\n",
       "      <td>9</td>\n",
       "      <td>E</td>\n",
       "      <td>BD</td>\n",
       "      <td>5250</td>\n",
       "      <td>EUCO</td>\n",
       "      <td>Couplers</td>\n",
       "      <td>SUB</td>\n",
       "    </tr>\n",
       "    <tr>\n",
       "      <th>2</th>\n",
       "      <td>2021-01-01</td>\n",
       "      <td>01:07</td>\n",
       "      <td>Friday</td>\n",
       "      <td>KENNEDY BD STATION</td>\n",
       "      <td>EUCD</td>\n",
       "      <td>5</td>\n",
       "      <td>9</td>\n",
       "      <td>E</td>\n",
       "      <td>BD</td>\n",
       "      <td>5249</td>\n",
       "      <td>EUCD</td>\n",
       "      <td>Consequential Delay (2nd Delay Same Fault)</td>\n",
       "      <td>SUB</td>\n",
       "    </tr>\n",
       "  </tbody>\n",
       "</table>\n",
       "</div>"
      ],
      "text/plain": [
       "        date   time     day             station   code  min_delay  min_gap  \\\n",
       "0 2021-01-01  00:33  Friday       BLOOR STATION  MUPAA          0        0   \n",
       "1 2021-01-01  00:39  Friday  SHERBOURNE STATION   EUCO          5        9   \n",
       "2 2021-01-01  01:07  Friday  KENNEDY BD STATION   EUCD          5        9   \n",
       "\n",
       "  bound line  vehicle rmenu_code  \\\n",
       "0     N   YU     6046      MUPAA   \n",
       "1     E   BD     5250       EUCO   \n",
       "2     E   BD     5249       EUCD   \n",
       "\n",
       "                                    code_description sub_or_srt  \n",
       "0  Passenger Assistance Alarm Activated - No Trou...        SUB  \n",
       "1                                           Couplers        SUB  \n",
       "2         Consequential Delay (2nd Delay Same Fault)        SUB  "
      ]
     },
     "execution_count": 31,
     "metadata": {},
     "output_type": "execute_result"
    }
   ],
   "source": [
    "delays_w_reasons = pd.merge(all_delays, \n",
    "                            delay_reasons, \n",
    "                            how='left',\n",
    "                            left_on='code', \n",
    "                            right_on='rmenu_code')\n",
    "delays_w_reasons.head(3)"
   ]
  },
  {
   "cell_type": "markdown",
   "id": "a8014d0b",
   "metadata": {
    "slideshow": {
     "slide_type": "slide"
    }
   },
   "source": [
    "## Practice"
   ]
  },
  {
   "cell_type": "markdown",
   "id": "f6da1e91",
   "metadata": {
    "slideshow": {
     "slide_type": "subslide"
    }
   },
   "source": [
    "Try performing an `inner` join with `all_delays` and `delay_reasons`. Assign the result to a different variable name. Compare the shapes of `delays_w_reasons` and this new DataFrame. Did we get the same number of rows with the inner join?"
   ]
  },
  {
   "cell_type": "markdown",
   "id": "600b645e",
   "metadata": {
    "slideshow": {
     "slide_type": "slide"
    }
   },
   "source": [
    "## `drop()`\n",
    "\n",
    "The resulting DataFrame has both our join columns, which is redundant. We can drop one with the `drop()` DataFrame method, passing in the column name(s) we want to drop in the `columns` keyword argument."
   ]
  },
  {
   "cell_type": "code",
   "execution_count": 32,
   "id": "3ad1af1d",
   "metadata": {
    "slideshow": {
     "slide_type": "fragment"
    }
   },
   "outputs": [
    {
     "data": {
      "text/html": [
       "<div>\n",
       "<style scoped>\n",
       "    .dataframe tbody tr th:only-of-type {\n",
       "        vertical-align: middle;\n",
       "    }\n",
       "\n",
       "    .dataframe tbody tr th {\n",
       "        vertical-align: top;\n",
       "    }\n",
       "\n",
       "    .dataframe thead th {\n",
       "        text-align: right;\n",
       "    }\n",
       "</style>\n",
       "<table border=\"1\" class=\"dataframe\">\n",
       "  <thead>\n",
       "    <tr style=\"text-align: right;\">\n",
       "      <th></th>\n",
       "      <th>date</th>\n",
       "      <th>time</th>\n",
       "      <th>day</th>\n",
       "      <th>station</th>\n",
       "      <th>code</th>\n",
       "      <th>min_delay</th>\n",
       "      <th>min_gap</th>\n",
       "      <th>bound</th>\n",
       "      <th>line</th>\n",
       "      <th>vehicle</th>\n",
       "      <th>code_description</th>\n",
       "      <th>sub_or_srt</th>\n",
       "    </tr>\n",
       "  </thead>\n",
       "  <tbody>\n",
       "    <tr>\n",
       "      <th>0</th>\n",
       "      <td>2021-01-01</td>\n",
       "      <td>00:33</td>\n",
       "      <td>Friday</td>\n",
       "      <td>BLOOR STATION</td>\n",
       "      <td>MUPAA</td>\n",
       "      <td>0</td>\n",
       "      <td>0</td>\n",
       "      <td>N</td>\n",
       "      <td>YU</td>\n",
       "      <td>6046</td>\n",
       "      <td>Passenger Assistance Alarm Activated - No Trou...</td>\n",
       "      <td>SUB</td>\n",
       "    </tr>\n",
       "    <tr>\n",
       "      <th>1</th>\n",
       "      <td>2021-01-01</td>\n",
       "      <td>00:39</td>\n",
       "      <td>Friday</td>\n",
       "      <td>SHERBOURNE STATION</td>\n",
       "      <td>EUCO</td>\n",
       "      <td>5</td>\n",
       "      <td>9</td>\n",
       "      <td>E</td>\n",
       "      <td>BD</td>\n",
       "      <td>5250</td>\n",
       "      <td>Couplers</td>\n",
       "      <td>SUB</td>\n",
       "    </tr>\n",
       "    <tr>\n",
       "      <th>2</th>\n",
       "      <td>2021-01-01</td>\n",
       "      <td>01:07</td>\n",
       "      <td>Friday</td>\n",
       "      <td>KENNEDY BD STATION</td>\n",
       "      <td>EUCD</td>\n",
       "      <td>5</td>\n",
       "      <td>9</td>\n",
       "      <td>E</td>\n",
       "      <td>BD</td>\n",
       "      <td>5249</td>\n",
       "      <td>Consequential Delay (2nd Delay Same Fault)</td>\n",
       "      <td>SUB</td>\n",
       "    </tr>\n",
       "  </tbody>\n",
       "</table>\n",
       "</div>"
      ],
      "text/plain": [
       "        date   time     day             station   code  min_delay  min_gap  \\\n",
       "0 2021-01-01  00:33  Friday       BLOOR STATION  MUPAA          0        0   \n",
       "1 2021-01-01  00:39  Friday  SHERBOURNE STATION   EUCO          5        9   \n",
       "2 2021-01-01  01:07  Friday  KENNEDY BD STATION   EUCD          5        9   \n",
       "\n",
       "  bound line  vehicle                                   code_description  \\\n",
       "0     N   YU     6046  Passenger Assistance Alarm Activated - No Trou...   \n",
       "1     E   BD     5250                                           Couplers   \n",
       "2     E   BD     5249         Consequential Delay (2nd Delay Same Fault)   \n",
       "\n",
       "  sub_or_srt  \n",
       "0        SUB  \n",
       "1        SUB  \n",
       "2        SUB  "
      ]
     },
     "execution_count": 32,
     "metadata": {},
     "output_type": "execute_result"
    }
   ],
   "source": [
    "delays_w_reasons = delays_w_reasons.drop(columns='rmenu_code')\n",
    "delays_w_reasons.head(3)"
   ]
  },
  {
   "cell_type": "markdown",
   "id": "f3f80a0d",
   "metadata": {
    "slideshow": {
     "slide_type": "slide"
    }
   },
   "source": [
    "## Creating new columns\n",
    "\n",
    "Adding a column to a DataFrame looks like adding a key-value pair to a dictionary. At its simplest, we can assign a single value to repeat down a column."
   ]
  },
  {
   "cell_type": "code",
   "execution_count": 33,
   "id": "96c7d550",
   "metadata": {
    "slideshow": {
     "slide_type": "fragment"
    }
   },
   "outputs": [
    {
     "data": {
      "text/plain": [
       "array([2021], dtype=int64)"
      ]
     },
     "execution_count": 33,
     "metadata": {},
     "output_type": "execute_result"
    }
   ],
   "source": [
    "delays_w_reasons['year'] = 2021\n",
    "delays_w_reasons['year'].unique()"
   ]
  },
  {
   "cell_type": "markdown",
   "id": "4472b1c3",
   "metadata": {
    "slideshow": {
     "slide_type": "subslide"
    }
   },
   "source": [
    "We can also write an expression and store the resulting values in a new column. "
   ]
  },
  {
   "cell_type": "code",
   "execution_count": 34,
   "id": "67d1a11a",
   "metadata": {
    "slideshow": {
     "slide_type": "fragment"
    }
   },
   "outputs": [
    {
     "data": {
      "text/html": [
       "<div>\n",
       "<style scoped>\n",
       "    .dataframe tbody tr th:only-of-type {\n",
       "        vertical-align: middle;\n",
       "    }\n",
       "\n",
       "    .dataframe tbody tr th {\n",
       "        vertical-align: top;\n",
       "    }\n",
       "\n",
       "    .dataframe thead th {\n",
       "        text-align: right;\n",
       "    }\n",
       "</style>\n",
       "<table border=\"1\" class=\"dataframe\">\n",
       "  <thead>\n",
       "    <tr style=\"text-align: right;\">\n",
       "      <th></th>\n",
       "      <th>min_delay</th>\n",
       "      <th>hour_delay</th>\n",
       "    </tr>\n",
       "  </thead>\n",
       "  <tbody>\n",
       "    <tr>\n",
       "      <th>0</th>\n",
       "      <td>0</td>\n",
       "      <td>0.00</td>\n",
       "    </tr>\n",
       "    <tr>\n",
       "      <th>1</th>\n",
       "      <td>5</td>\n",
       "      <td>0.08</td>\n",
       "    </tr>\n",
       "    <tr>\n",
       "      <th>2</th>\n",
       "      <td>5</td>\n",
       "      <td>0.08</td>\n",
       "    </tr>\n",
       "    <tr>\n",
       "      <th>3</th>\n",
       "      <td>0</td>\n",
       "      <td>0.00</td>\n",
       "    </tr>\n",
       "    <tr>\n",
       "      <th>4</th>\n",
       "      <td>0</td>\n",
       "      <td>0.00</td>\n",
       "    </tr>\n",
       "  </tbody>\n",
       "</table>\n",
       "</div>"
      ],
      "text/plain": [
       "   min_delay  hour_delay\n",
       "0          0        0.00\n",
       "1          5        0.08\n",
       "2          5        0.08\n",
       "3          0        0.00\n",
       "4          0        0.00"
      ]
     },
     "execution_count": 34,
     "metadata": {},
     "output_type": "execute_result"
    }
   ],
   "source": [
    "delays_w_reasons['hour_delay'] = round(delays_w_reasons['min_delay'] / 60, 2)\n",
    "delays_w_reasons[['min_delay', 'hour_delay']].head()"
   ]
  },
  {
   "cell_type": "markdown",
   "id": "ca901417",
   "metadata": {
    "slideshow": {
     "slide_type": "subslide"
    }
   },
   "source": [
    "It is also possible to extract parts of a datetime column with the `dt` accessor."
   ]
  },
  {
   "cell_type": "code",
   "execution_count": 35,
   "id": "b7bf8880",
   "metadata": {
    "slideshow": {
     "slide_type": "fragment"
    }
   },
   "outputs": [
    {
     "data": {
      "text/plain": [
       "0         1\n",
       "1         1\n",
       "2         1\n",
       "3         1\n",
       "4         1\n",
       "         ..\n",
       "16365    12\n",
       "16366    12\n",
       "16367    12\n",
       "16368    12\n",
       "16369    12\n",
       "Name: month, Length: 16370, dtype: int64"
      ]
     },
     "execution_count": 35,
     "metadata": {},
     "output_type": "execute_result"
    }
   ],
   "source": [
    "delays_w_reasons['month'] = delays_w_reasons['date'].dt.month\n",
    "delays_w_reasons['month']"
   ]
  },
  {
   "cell_type": "markdown",
   "id": "dc115fa5",
   "metadata": {
    "slideshow": {
     "slide_type": "slide"
    }
   },
   "source": [
    "## Practice"
   ]
  },
  {
   "cell_type": "markdown",
   "id": "529e579d",
   "metadata": {
    "slideshow": {
     "slide_type": "subslide"
    }
   },
   "source": [
    "* Create a new integer column, `hour`, that contains the hour in which a delay occurred. **Hint:** Use `pd.to_datetime()`, specifying that the format is hour:minutes.\n",
    "* Drop the `year` column."
   ]
  },
  {
   "cell_type": "code",
   "execution_count": 36,
   "id": "f5fd6616",
   "metadata": {
    "slideshow": {
     "slide_type": "skip"
    }
   },
   "outputs": [],
   "source": [
    "# two ways to extract hour\n",
    "# convert to time, then access hour\n",
    "delays_w_reasons['hour'] = pd.to_datetime(delays_w_reasons['time'], format='%H:%M').dt.hour\n",
    "\n",
    "# split and take first part\n",
    "delays_w_reasons['hour'] = delays_w_reasons['time'].str.split(':', expand=True)[0]\n",
    "delays_w_reasons['hour'] = delays_w_reasons['hour'].astype(int)"
   ]
  },
  {
   "cell_type": "markdown",
   "id": "b2578e3a",
   "metadata": {
    "slideshow": {
     "slide_type": "slide"
    }
   },
   "source": [
    "## Filtering and selecting data\n",
    "\n",
    "Let's take another look at the TTC subway delay data. There are only 4 subway lines in Toronto, but `describe()` reported 17 unique values. "
   ]
  },
  {
   "cell_type": "code",
   "execution_count": 37,
   "id": "f8d26f1e",
   "metadata": {
    "slideshow": {
     "slide_type": "fragment"
    }
   },
   "outputs": [
    {
     "data": {
      "text/plain": [
       "array(['YU', 'BD', 'SHP', 'SRT', 'YU/BD', nan, 'YONGE/UNIVERSITY/BLOOR',\n",
       "       'YU / BD', 'YUS', '999', 'SHEP', '36 FINCH WEST', 'YUS & BD',\n",
       "       'YU & BD LINES', '35 JANE', '52', '41 KEELE', 'YUS/BD'],\n",
       "      dtype=object)"
      ]
     },
     "execution_count": 37,
     "metadata": {},
     "output_type": "execute_result"
    }
   ],
   "source": [
    "delays_w_reasons['line'].unique()"
   ]
  },
  {
   "cell_type": "markdown",
   "id": "37536ee5",
   "metadata": {
    "slideshow": {
     "slide_type": "subslide"
    }
   },
   "source": [
    "Looks like some of the line values should be updated (YU/BD variants) and others should be dropped (e.g., 36 FINCH WEST, NaNs). Luckily there don't seem to be too many affected records, though the NaNs are not shown."
   ]
  },
  {
   "cell_type": "code",
   "execution_count": 38,
   "id": "5449ef1f",
   "metadata": {
    "slideshow": {
     "slide_type": "fragment"
    }
   },
   "outputs": [
    {
     "data": {
      "text/plain": [
       "YU                        8880\n",
       "BD                        5734\n",
       "SHP                        657\n",
       "SRT                        656\n",
       "YU/BD                      346\n",
       "YUS                         18\n",
       "YU / BD                     17\n",
       "YU & BD LINES                1\n",
       "41 KEELE                     1\n",
       "52                           1\n",
       "35 JANE                      1\n",
       "999                          1\n",
       "YUS & BD                     1\n",
       "36 FINCH WEST                1\n",
       "SHEP                         1\n",
       "YONGE/UNIVERSITY/BLOOR       1\n",
       "YUS/BD                       1\n",
       "Name: line, dtype: int64"
      ]
     },
     "execution_count": 38,
     "metadata": {},
     "output_type": "execute_result"
    }
   ],
   "source": [
    "delays_w_reasons['line'].value_counts()"
   ]
  },
  {
   "cell_type": "markdown",
   "id": "4ca268eb",
   "metadata": {
    "slideshow": {
     "slide_type": "slide"
    }
   },
   "source": [
    "### `.loc[]` and `isna()`\n",
    "\n",
    "To find the records with no line, we can use `.loc[]`, which lets us access rows and columns with either a boolean array or row/column labels.\n",
    "\n",
    "In this case, the boolean array is the product of the `isna()` Series method."
   ]
  },
  {
   "cell_type": "code",
   "execution_count": 39,
   "id": "68732379",
   "metadata": {
    "slideshow": {
     "slide_type": "subslide"
    }
   },
   "outputs": [
    {
     "data": {
      "text/html": [
       "<div>\n",
       "<style scoped>\n",
       "    .dataframe tbody tr th:only-of-type {\n",
       "        vertical-align: middle;\n",
       "    }\n",
       "\n",
       "    .dataframe tbody tr th {\n",
       "        vertical-align: top;\n",
       "    }\n",
       "\n",
       "    .dataframe thead th {\n",
       "        text-align: right;\n",
       "    }\n",
       "</style>\n",
       "<table border=\"1\" class=\"dataframe\">\n",
       "  <thead>\n",
       "    <tr style=\"text-align: right;\">\n",
       "      <th></th>\n",
       "      <th>date</th>\n",
       "      <th>time</th>\n",
       "      <th>day</th>\n",
       "      <th>station</th>\n",
       "      <th>code</th>\n",
       "      <th>min_delay</th>\n",
       "      <th>min_gap</th>\n",
       "      <th>bound</th>\n",
       "      <th>line</th>\n",
       "      <th>vehicle</th>\n",
       "      <th>code_description</th>\n",
       "      <th>sub_or_srt</th>\n",
       "      <th>year</th>\n",
       "      <th>hour_delay</th>\n",
       "      <th>month</th>\n",
       "      <th>hour</th>\n",
       "    </tr>\n",
       "  </thead>\n",
       "  <tbody>\n",
       "    <tr>\n",
       "      <th>495</th>\n",
       "      <td>2021-01-13</td>\n",
       "      <td>15:22</td>\n",
       "      <td>Wednesday</td>\n",
       "      <td>FINCH WEST STATION</td>\n",
       "      <td>MUSAN</td>\n",
       "      <td>3</td>\n",
       "      <td>6</td>\n",
       "      <td>S</td>\n",
       "      <td>NaN</td>\n",
       "      <td>5751</td>\n",
       "      <td>Unsanitary Vehicle</td>\n",
       "      <td>SUB</td>\n",
       "      <td>2021</td>\n",
       "      <td>0.05</td>\n",
       "      <td>1</td>\n",
       "      <td>15</td>\n",
       "    </tr>\n",
       "    <tr>\n",
       "      <th>513</th>\n",
       "      <td>2021-01-13</td>\n",
       "      <td>22:08</td>\n",
       "      <td>Wednesday</td>\n",
       "      <td>EGLINTON WEST STATION</td>\n",
       "      <td>PUMEL</td>\n",
       "      <td>0</td>\n",
       "      <td>0</td>\n",
       "      <td>NaN</td>\n",
       "      <td>NaN</td>\n",
       "      <td>0</td>\n",
       "      <td>Escalator/Elevator Incident</td>\n",
       "      <td>SUB</td>\n",
       "      <td>2021</td>\n",
       "      <td>0.00</td>\n",
       "      <td>1</td>\n",
       "      <td>22</td>\n",
       "    </tr>\n",
       "    <tr>\n",
       "      <th>1044</th>\n",
       "      <td>2021-01-27</td>\n",
       "      <td>22:00</td>\n",
       "      <td>Wednesday</td>\n",
       "      <td>YONGE-UNIVERSITY AND B</td>\n",
       "      <td>MUO</td>\n",
       "      <td>0</td>\n",
       "      <td>0</td>\n",
       "      <td>NaN</td>\n",
       "      <td>NaN</td>\n",
       "      <td>0</td>\n",
       "      <td>Miscellaneous Other</td>\n",
       "      <td>SUB</td>\n",
       "      <td>2021</td>\n",
       "      <td>0.00</td>\n",
       "      <td>1</td>\n",
       "      <td>22</td>\n",
       "    </tr>\n",
       "    <tr>\n",
       "      <th>1045</th>\n",
       "      <td>2021-01-27</td>\n",
       "      <td>23:00</td>\n",
       "      <td>Wednesday</td>\n",
       "      <td>FINCH STATION</td>\n",
       "      <td>MUO</td>\n",
       "      <td>0</td>\n",
       "      <td>0</td>\n",
       "      <td>NaN</td>\n",
       "      <td>NaN</td>\n",
       "      <td>0</td>\n",
       "      <td>Miscellaneous Other</td>\n",
       "      <td>SUB</td>\n",
       "      <td>2021</td>\n",
       "      <td>0.00</td>\n",
       "      <td>1</td>\n",
       "      <td>23</td>\n",
       "    </tr>\n",
       "    <tr>\n",
       "      <th>1362</th>\n",
       "      <td>2021-02-04</td>\n",
       "      <td>01:45</td>\n",
       "      <td>Thursday</td>\n",
       "      <td>LAWRENCE STATION</td>\n",
       "      <td>TUSC</td>\n",
       "      <td>0</td>\n",
       "      <td>0</td>\n",
       "      <td>S</td>\n",
       "      <td>NaN</td>\n",
       "      <td>5596</td>\n",
       "      <td>Operator Overspeeding</td>\n",
       "      <td>SUB</td>\n",
       "      <td>2021</td>\n",
       "      <td>0.00</td>\n",
       "      <td>2</td>\n",
       "      <td>1</td>\n",
       "    </tr>\n",
       "    <tr>\n",
       "      <th>1679</th>\n",
       "      <td>2021-02-11</td>\n",
       "      <td>01:12</td>\n",
       "      <td>Thursday</td>\n",
       "      <td>GREENWOOD CARHOUSE</td>\n",
       "      <td>MUIE</td>\n",
       "      <td>0</td>\n",
       "      <td>0</td>\n",
       "      <td>NaN</td>\n",
       "      <td>NaN</td>\n",
       "      <td>0</td>\n",
       "      <td>Injured Employee</td>\n",
       "      <td>SUB</td>\n",
       "      <td>2021</td>\n",
       "      <td>0.00</td>\n",
       "      <td>2</td>\n",
       "      <td>1</td>\n",
       "    </tr>\n",
       "    <tr>\n",
       "      <th>2179</th>\n",
       "      <td>2021-02-22</td>\n",
       "      <td>08:27</td>\n",
       "      <td>Monday</td>\n",
       "      <td>BICHMOUNT DIVISION</td>\n",
       "      <td>MUIE</td>\n",
       "      <td>0</td>\n",
       "      <td>0</td>\n",
       "      <td>NaN</td>\n",
       "      <td>NaN</td>\n",
       "      <td>0</td>\n",
       "      <td>Injured Employee</td>\n",
       "      <td>SUB</td>\n",
       "      <td>2021</td>\n",
       "      <td>0.00</td>\n",
       "      <td>2</td>\n",
       "      <td>8</td>\n",
       "    </tr>\n",
       "    <tr>\n",
       "      <th>2204</th>\n",
       "      <td>2021-02-22</td>\n",
       "      <td>22:33</td>\n",
       "      <td>Monday</td>\n",
       "      <td>BLOOR STATION</td>\n",
       "      <td>SUAP</td>\n",
       "      <td>4</td>\n",
       "      <td>9</td>\n",
       "      <td>N</td>\n",
       "      <td>NaN</td>\n",
       "      <td>6006</td>\n",
       "      <td>Assault / Patron Involved</td>\n",
       "      <td>SUB</td>\n",
       "      <td>2021</td>\n",
       "      <td>0.07</td>\n",
       "      <td>2</td>\n",
       "      <td>22</td>\n",
       "    </tr>\n",
       "    <tr>\n",
       "      <th>2206</th>\n",
       "      <td>2021-02-22</td>\n",
       "      <td>23:36</td>\n",
       "      <td>Monday</td>\n",
       "      <td>EGLINTON STATION</td>\n",
       "      <td>MUO</td>\n",
       "      <td>0</td>\n",
       "      <td>0</td>\n",
       "      <td>NaN</td>\n",
       "      <td>NaN</td>\n",
       "      <td>0</td>\n",
       "      <td>Miscellaneous Other</td>\n",
       "      <td>SUB</td>\n",
       "      <td>2021</td>\n",
       "      <td>0.00</td>\n",
       "      <td>2</td>\n",
       "      <td>23</td>\n",
       "    </tr>\n",
       "    <tr>\n",
       "      <th>3039</th>\n",
       "      <td>2021-03-17</td>\n",
       "      <td>05:15</td>\n",
       "      <td>Wednesday</td>\n",
       "      <td>INGLIS BUILDING</td>\n",
       "      <td>PUMEL</td>\n",
       "      <td>0</td>\n",
       "      <td>0</td>\n",
       "      <td>NaN</td>\n",
       "      <td>NaN</td>\n",
       "      <td>0</td>\n",
       "      <td>Escalator/Elevator Incident</td>\n",
       "      <td>SUB</td>\n",
       "      <td>2021</td>\n",
       "      <td>0.00</td>\n",
       "      <td>3</td>\n",
       "      <td>5</td>\n",
       "    </tr>\n",
       "    <tr>\n",
       "      <th>3330</th>\n",
       "      <td>2021-03-24</td>\n",
       "      <td>19:13</td>\n",
       "      <td>Wednesday</td>\n",
       "      <td>INGLIS BUILDING</td>\n",
       "      <td>PUMEL</td>\n",
       "      <td>0</td>\n",
       "      <td>0</td>\n",
       "      <td>NaN</td>\n",
       "      <td>NaN</td>\n",
       "      <td>0</td>\n",
       "      <td>Escalator/Elevator Incident</td>\n",
       "      <td>SUB</td>\n",
       "      <td>2021</td>\n",
       "      <td>0.00</td>\n",
       "      <td>3</td>\n",
       "      <td>19</td>\n",
       "    </tr>\n",
       "    <tr>\n",
       "      <th>3407</th>\n",
       "      <td>2021-03-26</td>\n",
       "      <td>09:03</td>\n",
       "      <td>Friday</td>\n",
       "      <td>WILSON YARD (SOUTH TAI</td>\n",
       "      <td>PUTO</td>\n",
       "      <td>0</td>\n",
       "      <td>0</td>\n",
       "      <td>NaN</td>\n",
       "      <td>NaN</td>\n",
       "      <td>0</td>\n",
       "      <td>T&amp;S Other</td>\n",
       "      <td>SUB</td>\n",
       "      <td>2021</td>\n",
       "      <td>0.00</td>\n",
       "      <td>3</td>\n",
       "      <td>9</td>\n",
       "    </tr>\n",
       "    <tr>\n",
       "      <th>3557</th>\n",
       "      <td>2021-03-30</td>\n",
       "      <td>00:36</td>\n",
       "      <td>Tuesday</td>\n",
       "      <td>INGLIS BUILDING</td>\n",
       "      <td>PUMEL</td>\n",
       "      <td>0</td>\n",
       "      <td>0</td>\n",
       "      <td>NaN</td>\n",
       "      <td>NaN</td>\n",
       "      <td>0</td>\n",
       "      <td>Escalator/Elevator Incident</td>\n",
       "      <td>SUB</td>\n",
       "      <td>2021</td>\n",
       "      <td>0.00</td>\n",
       "      <td>3</td>\n",
       "      <td>0</td>\n",
       "    </tr>\n",
       "    <tr>\n",
       "      <th>3944</th>\n",
       "      <td>2021-04-08</td>\n",
       "      <td>23:45</td>\n",
       "      <td>Thursday</td>\n",
       "      <td>DAVISVILLE YARD</td>\n",
       "      <td>MUIE</td>\n",
       "      <td>0</td>\n",
       "      <td>0</td>\n",
       "      <td>NaN</td>\n",
       "      <td>NaN</td>\n",
       "      <td>0</td>\n",
       "      <td>Injured Employee</td>\n",
       "      <td>SUB</td>\n",
       "      <td>2021</td>\n",
       "      <td>0.00</td>\n",
       "      <td>4</td>\n",
       "      <td>23</td>\n",
       "    </tr>\n",
       "    <tr>\n",
       "      <th>4097</th>\n",
       "      <td>2021-04-13</td>\n",
       "      <td>10:57</td>\n",
       "      <td>Tuesday</td>\n",
       "      <td>SPADINA STATION</td>\n",
       "      <td>SUAE</td>\n",
       "      <td>0</td>\n",
       "      <td>0</td>\n",
       "      <td>NaN</td>\n",
       "      <td>NaN</td>\n",
       "      <td>0</td>\n",
       "      <td>Assault / Employee Involved</td>\n",
       "      <td>SUB</td>\n",
       "      <td>2021</td>\n",
       "      <td>0.00</td>\n",
       "      <td>4</td>\n",
       "      <td>10</td>\n",
       "    </tr>\n",
       "    <tr>\n",
       "      <th>4119</th>\n",
       "      <td>2021-04-13</td>\n",
       "      <td>22:00</td>\n",
       "      <td>Tuesday</td>\n",
       "      <td>YONGE-UNIVERSITY AND B</td>\n",
       "      <td>MUO</td>\n",
       "      <td>0</td>\n",
       "      <td>0</td>\n",
       "      <td>NaN</td>\n",
       "      <td>NaN</td>\n",
       "      <td>0</td>\n",
       "      <td>Miscellaneous Other</td>\n",
       "      <td>SUB</td>\n",
       "      <td>2021</td>\n",
       "      <td>0.00</td>\n",
       "      <td>4</td>\n",
       "      <td>22</td>\n",
       "    </tr>\n",
       "    <tr>\n",
       "      <th>4336</th>\n",
       "      <td>2021-04-19</td>\n",
       "      <td>23:00</td>\n",
       "      <td>Monday</td>\n",
       "      <td>SHEPPARD WEST TO LAWRE</td>\n",
       "      <td>MUO</td>\n",
       "      <td>0</td>\n",
       "      <td>0</td>\n",
       "      <td>NaN</td>\n",
       "      <td>NaN</td>\n",
       "      <td>0</td>\n",
       "      <td>Miscellaneous Other</td>\n",
       "      <td>SUB</td>\n",
       "      <td>2021</td>\n",
       "      <td>0.00</td>\n",
       "      <td>4</td>\n",
       "      <td>23</td>\n",
       "    </tr>\n",
       "    <tr>\n",
       "      <th>4748</th>\n",
       "      <td>2021-04-29</td>\n",
       "      <td>22:00</td>\n",
       "      <td>Thursday</td>\n",
       "      <td>YONGE UNIVERSITY SPADI</td>\n",
       "      <td>MUO</td>\n",
       "      <td>0</td>\n",
       "      <td>0</td>\n",
       "      <td>NaN</td>\n",
       "      <td>NaN</td>\n",
       "      <td>0</td>\n",
       "      <td>Miscellaneous Other</td>\n",
       "      <td>SUB</td>\n",
       "      <td>2021</td>\n",
       "      <td>0.00</td>\n",
       "      <td>4</td>\n",
       "      <td>22</td>\n",
       "    </tr>\n",
       "    <tr>\n",
       "      <th>5312</th>\n",
       "      <td>2021-05-15</td>\n",
       "      <td>05:05</td>\n",
       "      <td>Saturday</td>\n",
       "      <td>SPADINA BD STATION</td>\n",
       "      <td>MUNCA</td>\n",
       "      <td>0</td>\n",
       "      <td>0</td>\n",
       "      <td>NaN</td>\n",
       "      <td>NaN</td>\n",
       "      <td>0</td>\n",
       "      <td>NaN</td>\n",
       "      <td>NaN</td>\n",
       "      <td>2021</td>\n",
       "      <td>0.00</td>\n",
       "      <td>5</td>\n",
       "      <td>5</td>\n",
       "    </tr>\n",
       "    <tr>\n",
       "      <th>5448</th>\n",
       "      <td>2021-05-18</td>\n",
       "      <td>20:15</td>\n",
       "      <td>Tuesday</td>\n",
       "      <td>VAUGHAN MC STATION</td>\n",
       "      <td>MUWR</td>\n",
       "      <td>0</td>\n",
       "      <td>0</td>\n",
       "      <td>NaN</td>\n",
       "      <td>NaN</td>\n",
       "      <td>0</td>\n",
       "      <td>Work Refusal</td>\n",
       "      <td>SUB</td>\n",
       "      <td>2021</td>\n",
       "      <td>0.00</td>\n",
       "      <td>5</td>\n",
       "      <td>20</td>\n",
       "    </tr>\n",
       "    <tr>\n",
       "      <th>5484</th>\n",
       "      <td>2021-05-19</td>\n",
       "      <td>18:11</td>\n",
       "      <td>Wednesday</td>\n",
       "      <td>QUEEN'S QUAY STATION</td>\n",
       "      <td>PUMEL</td>\n",
       "      <td>0</td>\n",
       "      <td>0</td>\n",
       "      <td>NaN</td>\n",
       "      <td>NaN</td>\n",
       "      <td>0</td>\n",
       "      <td>Escalator/Elevator Incident</td>\n",
       "      <td>SUB</td>\n",
       "      <td>2021</td>\n",
       "      <td>0.00</td>\n",
       "      <td>5</td>\n",
       "      <td>18</td>\n",
       "    </tr>\n",
       "    <tr>\n",
       "      <th>5642</th>\n",
       "      <td>2021-05-23</td>\n",
       "      <td>23:19</td>\n",
       "      <td>Sunday</td>\n",
       "      <td>ST ANDREW STATION</td>\n",
       "      <td>SUDP</td>\n",
       "      <td>0</td>\n",
       "      <td>0</td>\n",
       "      <td>NaN</td>\n",
       "      <td>NaN</td>\n",
       "      <td>0</td>\n",
       "      <td>Disorderly Patron</td>\n",
       "      <td>SUB</td>\n",
       "      <td>2021</td>\n",
       "      <td>0.00</td>\n",
       "      <td>5</td>\n",
       "      <td>23</td>\n",
       "    </tr>\n",
       "    <tr>\n",
       "      <th>5685</th>\n",
       "      <td>2021-05-25</td>\n",
       "      <td>00:19</td>\n",
       "      <td>Tuesday</td>\n",
       "      <td>DUNDA WEST STATION</td>\n",
       "      <td>SUO</td>\n",
       "      <td>0</td>\n",
       "      <td>0</td>\n",
       "      <td>E</td>\n",
       "      <td>NaN</td>\n",
       "      <td>0</td>\n",
       "      <td>Passenger Other</td>\n",
       "      <td>SUB</td>\n",
       "      <td>2021</td>\n",
       "      <td>0.00</td>\n",
       "      <td>5</td>\n",
       "      <td>0</td>\n",
       "    </tr>\n",
       "    <tr>\n",
       "      <th>6042</th>\n",
       "      <td>2021-06-02</td>\n",
       "      <td>22:28</td>\n",
       "      <td>Wednesday</td>\n",
       "      <td>WARDEN STATION</td>\n",
       "      <td>MUIRS</td>\n",
       "      <td>0</td>\n",
       "      <td>0</td>\n",
       "      <td>NaN</td>\n",
       "      <td>NaN</td>\n",
       "      <td>0</td>\n",
       "      <td>Injured or ill Customer (In Station) - Medical...</td>\n",
       "      <td>SUB</td>\n",
       "      <td>2021</td>\n",
       "      <td>0.00</td>\n",
       "      <td>6</td>\n",
       "      <td>22</td>\n",
       "    </tr>\n",
       "    <tr>\n",
       "      <th>6046</th>\n",
       "      <td>2021-06-02</td>\n",
       "      <td>00:56</td>\n",
       "      <td>Wednesday</td>\n",
       "      <td>BAY STATION</td>\n",
       "      <td>SUO</td>\n",
       "      <td>0</td>\n",
       "      <td>0</td>\n",
       "      <td>NaN</td>\n",
       "      <td>NaN</td>\n",
       "      <td>0</td>\n",
       "      <td>Passenger Other</td>\n",
       "      <td>SUB</td>\n",
       "      <td>2021</td>\n",
       "      <td>0.00</td>\n",
       "      <td>6</td>\n",
       "      <td>0</td>\n",
       "    </tr>\n",
       "    <tr>\n",
       "      <th>6540</th>\n",
       "      <td>2021-06-14</td>\n",
       "      <td>22:43</td>\n",
       "      <td>Monday</td>\n",
       "      <td>YONGE BD STATION</td>\n",
       "      <td>MUIS</td>\n",
       "      <td>0</td>\n",
       "      <td>0</td>\n",
       "      <td>NaN</td>\n",
       "      <td>NaN</td>\n",
       "      <td>0</td>\n",
       "      <td>Injured or ill Customer (In Station) - Transpo...</td>\n",
       "      <td>SUB</td>\n",
       "      <td>2021</td>\n",
       "      <td>0.00</td>\n",
       "      <td>6</td>\n",
       "      <td>22</td>\n",
       "    </tr>\n",
       "    <tr>\n",
       "      <th>6560</th>\n",
       "      <td>2021-06-15</td>\n",
       "      <td>07:15</td>\n",
       "      <td>Tuesday</td>\n",
       "      <td>SUBWAY OPERATIONS BUIL</td>\n",
       "      <td>PUMEL</td>\n",
       "      <td>0</td>\n",
       "      <td>0</td>\n",
       "      <td>NaN</td>\n",
       "      <td>NaN</td>\n",
       "      <td>0</td>\n",
       "      <td>Escalator/Elevator Incident</td>\n",
       "      <td>SUB</td>\n",
       "      <td>2021</td>\n",
       "      <td>0.00</td>\n",
       "      <td>6</td>\n",
       "      <td>7</td>\n",
       "    </tr>\n",
       "    <tr>\n",
       "      <th>7137</th>\n",
       "      <td>2021-06-28</td>\n",
       "      <td>01:03</td>\n",
       "      <td>Monday</td>\n",
       "      <td>COXWELL STATION</td>\n",
       "      <td>MUNCA</td>\n",
       "      <td>0</td>\n",
       "      <td>0</td>\n",
       "      <td>NaN</td>\n",
       "      <td>NaN</td>\n",
       "      <td>0</td>\n",
       "      <td>NaN</td>\n",
       "      <td>NaN</td>\n",
       "      <td>2021</td>\n",
       "      <td>0.00</td>\n",
       "      <td>6</td>\n",
       "      <td>1</td>\n",
       "    </tr>\n",
       "    <tr>\n",
       "      <th>7766</th>\n",
       "      <td>2021-07-14</td>\n",
       "      <td>03:51</td>\n",
       "      <td>Wednesday</td>\n",
       "      <td>TRANSIT CONTROL CENTRE</td>\n",
       "      <td>PUSO</td>\n",
       "      <td>0</td>\n",
       "      <td>0</td>\n",
       "      <td>NaN</td>\n",
       "      <td>NaN</td>\n",
       "      <td>0</td>\n",
       "      <td>S/E/C Department Other</td>\n",
       "      <td>SUB</td>\n",
       "      <td>2021</td>\n",
       "      <td>0.00</td>\n",
       "      <td>7</td>\n",
       "      <td>3</td>\n",
       "    </tr>\n",
       "    <tr>\n",
       "      <th>8889</th>\n",
       "      <td>2021-08-11</td>\n",
       "      <td>07:46</td>\n",
       "      <td>Wednesday</td>\n",
       "      <td>TRANSIT CONTROL</td>\n",
       "      <td>MUIE</td>\n",
       "      <td>0</td>\n",
       "      <td>0</td>\n",
       "      <td>NaN</td>\n",
       "      <td>NaN</td>\n",
       "      <td>0</td>\n",
       "      <td>Injured Employee</td>\n",
       "      <td>SUB</td>\n",
       "      <td>2021</td>\n",
       "      <td>0.00</td>\n",
       "      <td>8</td>\n",
       "      <td>7</td>\n",
       "    </tr>\n",
       "    <tr>\n",
       "      <th>9628</th>\n",
       "      <td>2021-08-29</td>\n",
       "      <td>15:49</td>\n",
       "      <td>Sunday</td>\n",
       "      <td>YORKDALE STATION</td>\n",
       "      <td>SUPOL</td>\n",
       "      <td>0</td>\n",
       "      <td>0</td>\n",
       "      <td>NaN</td>\n",
       "      <td>NaN</td>\n",
       "      <td>0</td>\n",
       "      <td>Held By Polce - Non-TTC Related</td>\n",
       "      <td>SUB</td>\n",
       "      <td>2021</td>\n",
       "      <td>0.00</td>\n",
       "      <td>8</td>\n",
       "      <td>15</td>\n",
       "    </tr>\n",
       "    <tr>\n",
       "      <th>9629</th>\n",
       "      <td>2021-08-29</td>\n",
       "      <td>16:13</td>\n",
       "      <td>Sunday</td>\n",
       "      <td>YORK MILLS STATION</td>\n",
       "      <td>MUO</td>\n",
       "      <td>0</td>\n",
       "      <td>0</td>\n",
       "      <td>NaN</td>\n",
       "      <td>NaN</td>\n",
       "      <td>0</td>\n",
       "      <td>Miscellaneous Other</td>\n",
       "      <td>SUB</td>\n",
       "      <td>2021</td>\n",
       "      <td>0.00</td>\n",
       "      <td>8</td>\n",
       "      <td>16</td>\n",
       "    </tr>\n",
       "    <tr>\n",
       "      <th>9780</th>\n",
       "      <td>2021-09-01</td>\n",
       "      <td>20:35</td>\n",
       "      <td>Wednesday</td>\n",
       "      <td>MAIN STREET AND UNION</td>\n",
       "      <td>MUO</td>\n",
       "      <td>0</td>\n",
       "      <td>0</td>\n",
       "      <td>NaN</td>\n",
       "      <td>NaN</td>\n",
       "      <td>0</td>\n",
       "      <td>Miscellaneous Other</td>\n",
       "      <td>SUB</td>\n",
       "      <td>2021</td>\n",
       "      <td>0.00</td>\n",
       "      <td>9</td>\n",
       "      <td>20</td>\n",
       "    </tr>\n",
       "    <tr>\n",
       "      <th>9789</th>\n",
       "      <td>2021-09-01</td>\n",
       "      <td>22:14</td>\n",
       "      <td>Wednesday</td>\n",
       "      <td>UNION AND KENNEDY STAT</td>\n",
       "      <td>MUO</td>\n",
       "      <td>0</td>\n",
       "      <td>0</td>\n",
       "      <td>NaN</td>\n",
       "      <td>NaN</td>\n",
       "      <td>0</td>\n",
       "      <td>Miscellaneous Other</td>\n",
       "      <td>SUB</td>\n",
       "      <td>2021</td>\n",
       "      <td>0.00</td>\n",
       "      <td>9</td>\n",
       "      <td>22</td>\n",
       "    </tr>\n",
       "    <tr>\n",
       "      <th>10336</th>\n",
       "      <td>2021-09-13</td>\n",
       "      <td>17:20</td>\n",
       "      <td>Monday</td>\n",
       "      <td>MCBRIEN BUILDING</td>\n",
       "      <td>SUO</td>\n",
       "      <td>0</td>\n",
       "      <td>0</td>\n",
       "      <td>NaN</td>\n",
       "      <td>NaN</td>\n",
       "      <td>0</td>\n",
       "      <td>Passenger Other</td>\n",
       "      <td>SUB</td>\n",
       "      <td>2021</td>\n",
       "      <td>0.00</td>\n",
       "      <td>9</td>\n",
       "      <td>17</td>\n",
       "    </tr>\n",
       "    <tr>\n",
       "      <th>10951</th>\n",
       "      <td>2021-09-26</td>\n",
       "      <td>15:50</td>\n",
       "      <td>Sunday</td>\n",
       "      <td>WILSON STATION</td>\n",
       "      <td>PUOPO</td>\n",
       "      <td>0</td>\n",
       "      <td>0</td>\n",
       "      <td>N</td>\n",
       "      <td>NaN</td>\n",
       "      <td>5471</td>\n",
       "      <td>OPTO (COMMS) Train Door Monitoring</td>\n",
       "      <td>SUB</td>\n",
       "      <td>2021</td>\n",
       "      <td>0.00</td>\n",
       "      <td>9</td>\n",
       "      <td>15</td>\n",
       "    </tr>\n",
       "    <tr>\n",
       "      <th>11223</th>\n",
       "      <td>2021-10-01</td>\n",
       "      <td>00:33</td>\n",
       "      <td>Friday</td>\n",
       "      <td>WELLESLEY STATION</td>\n",
       "      <td>SUDP</td>\n",
       "      <td>0</td>\n",
       "      <td>0</td>\n",
       "      <td>NaN</td>\n",
       "      <td>NaN</td>\n",
       "      <td>0</td>\n",
       "      <td>Disorderly Patron</td>\n",
       "      <td>SUB</td>\n",
       "      <td>2021</td>\n",
       "      <td>0.00</td>\n",
       "      <td>10</td>\n",
       "      <td>0</td>\n",
       "    </tr>\n",
       "    <tr>\n",
       "      <th>12533</th>\n",
       "      <td>2021-10-28</td>\n",
       "      <td>14:18</td>\n",
       "      <td>Thursday</td>\n",
       "      <td>VICTORIA PARK STATION</td>\n",
       "      <td>MUIS</td>\n",
       "      <td>0</td>\n",
       "      <td>0</td>\n",
       "      <td>NaN</td>\n",
       "      <td>NaN</td>\n",
       "      <td>0</td>\n",
       "      <td>Injured or ill Customer (In Station) - Transpo...</td>\n",
       "      <td>SUB</td>\n",
       "      <td>2021</td>\n",
       "      <td>0.00</td>\n",
       "      <td>10</td>\n",
       "      <td>14</td>\n",
       "    </tr>\n",
       "    <tr>\n",
       "      <th>12826</th>\n",
       "      <td>2021-11-02</td>\n",
       "      <td>12:22</td>\n",
       "      <td>Tuesday</td>\n",
       "      <td>GREENWOOD SHOP</td>\n",
       "      <td>MUIE</td>\n",
       "      <td>0</td>\n",
       "      <td>0</td>\n",
       "      <td>NaN</td>\n",
       "      <td>NaN</td>\n",
       "      <td>0</td>\n",
       "      <td>Injured Employee</td>\n",
       "      <td>SUB</td>\n",
       "      <td>2021</td>\n",
       "      <td>0.00</td>\n",
       "      <td>11</td>\n",
       "      <td>12</td>\n",
       "    </tr>\n",
       "    <tr>\n",
       "      <th>13007</th>\n",
       "      <td>2021-11-05</td>\n",
       "      <td>08:59</td>\n",
       "      <td>Friday</td>\n",
       "      <td>BLOOR STATION</td>\n",
       "      <td>MUIRS</td>\n",
       "      <td>0</td>\n",
       "      <td>0</td>\n",
       "      <td>S</td>\n",
       "      <td>NaN</td>\n",
       "      <td>0</td>\n",
       "      <td>Injured or ill Customer (In Station) - Medical...</td>\n",
       "      <td>SUB</td>\n",
       "      <td>2021</td>\n",
       "      <td>0.00</td>\n",
       "      <td>11</td>\n",
       "      <td>8</td>\n",
       "    </tr>\n",
       "    <tr>\n",
       "      <th>13080</th>\n",
       "      <td>2021-11-06</td>\n",
       "      <td>18:41</td>\n",
       "      <td>Saturday</td>\n",
       "      <td>KENNEDY BD STATION</td>\n",
       "      <td>MUO</td>\n",
       "      <td>0</td>\n",
       "      <td>0</td>\n",
       "      <td>NaN</td>\n",
       "      <td>NaN</td>\n",
       "      <td>0</td>\n",
       "      <td>Miscellaneous Other</td>\n",
       "      <td>SUB</td>\n",
       "      <td>2021</td>\n",
       "      <td>0.00</td>\n",
       "      <td>11</td>\n",
       "      <td>18</td>\n",
       "    </tr>\n",
       "    <tr>\n",
       "      <th>13273</th>\n",
       "      <td>2021-11-10</td>\n",
       "      <td>16:25</td>\n",
       "      <td>Wednesday</td>\n",
       "      <td>SUMMERHILL STATION</td>\n",
       "      <td>TUS</td>\n",
       "      <td>3</td>\n",
       "      <td>6</td>\n",
       "      <td>N</td>\n",
       "      <td>NaN</td>\n",
       "      <td>6501</td>\n",
       "      <td>Crew Unable to Maintain Schedule</td>\n",
       "      <td>SUB</td>\n",
       "      <td>2021</td>\n",
       "      <td>0.05</td>\n",
       "      <td>11</td>\n",
       "      <td>16</td>\n",
       "    </tr>\n",
       "    <tr>\n",
       "      <th>13402</th>\n",
       "      <td>2021-11-12</td>\n",
       "      <td>20:42</td>\n",
       "      <td>Friday</td>\n",
       "      <td>CLOSURES BUILDING</td>\n",
       "      <td>MUIE</td>\n",
       "      <td>0</td>\n",
       "      <td>0</td>\n",
       "      <td>NaN</td>\n",
       "      <td>NaN</td>\n",
       "      <td>0</td>\n",
       "      <td>Injured Employee</td>\n",
       "      <td>SUB</td>\n",
       "      <td>2021</td>\n",
       "      <td>0.00</td>\n",
       "      <td>11</td>\n",
       "      <td>20</td>\n",
       "    </tr>\n",
       "    <tr>\n",
       "      <th>13410</th>\n",
       "      <td>2021-11-12</td>\n",
       "      <td>00:02</td>\n",
       "      <td>Friday</td>\n",
       "      <td>TRANSIT CONTROL</td>\n",
       "      <td>MUO</td>\n",
       "      <td>0</td>\n",
       "      <td>0</td>\n",
       "      <td>NaN</td>\n",
       "      <td>NaN</td>\n",
       "      <td>0</td>\n",
       "      <td>Miscellaneous Other</td>\n",
       "      <td>SUB</td>\n",
       "      <td>2021</td>\n",
       "      <td>0.00</td>\n",
       "      <td>11</td>\n",
       "      <td>0</td>\n",
       "    </tr>\n",
       "    <tr>\n",
       "      <th>14177</th>\n",
       "      <td>2021-11-25</td>\n",
       "      <td>21:14</td>\n",
       "      <td>Thursday</td>\n",
       "      <td>WILSON CARHOUSE</td>\n",
       "      <td>MUIE</td>\n",
       "      <td>0</td>\n",
       "      <td>0</td>\n",
       "      <td>NaN</td>\n",
       "      <td>NaN</td>\n",
       "      <td>0</td>\n",
       "      <td>Injured Employee</td>\n",
       "      <td>SUB</td>\n",
       "      <td>2021</td>\n",
       "      <td>0.00</td>\n",
       "      <td>11</td>\n",
       "      <td>21</td>\n",
       "    </tr>\n",
       "    <tr>\n",
       "      <th>14371</th>\n",
       "      <td>2021-11-29</td>\n",
       "      <td>05:10</td>\n",
       "      <td>Monday</td>\n",
       "      <td>GO PROTOCOL</td>\n",
       "      <td>MUO</td>\n",
       "      <td>0</td>\n",
       "      <td>0</td>\n",
       "      <td>NaN</td>\n",
       "      <td>NaN</td>\n",
       "      <td>0</td>\n",
       "      <td>Miscellaneous Other</td>\n",
       "      <td>SUB</td>\n",
       "      <td>2021</td>\n",
       "      <td>0.00</td>\n",
       "      <td>11</td>\n",
       "      <td>5</td>\n",
       "    </tr>\n",
       "    <tr>\n",
       "      <th>14935</th>\n",
       "      <td>2021-12-08</td>\n",
       "      <td>06:00</td>\n",
       "      <td>Wednesday</td>\n",
       "      <td>TORONTO TRANSIT COMMIS</td>\n",
       "      <td>MUO</td>\n",
       "      <td>0</td>\n",
       "      <td>0</td>\n",
       "      <td>NaN</td>\n",
       "      <td>NaN</td>\n",
       "      <td>0</td>\n",
       "      <td>Miscellaneous Other</td>\n",
       "      <td>SUB</td>\n",
       "      <td>2021</td>\n",
       "      <td>0.00</td>\n",
       "      <td>12</td>\n",
       "      <td>6</td>\n",
       "    </tr>\n",
       "    <tr>\n",
       "      <th>14952</th>\n",
       "      <td>2021-12-08</td>\n",
       "      <td>13:58</td>\n",
       "      <td>Wednesday</td>\n",
       "      <td>KIPLING STATION</td>\n",
       "      <td>MUIS</td>\n",
       "      <td>0</td>\n",
       "      <td>0</td>\n",
       "      <td>NaN</td>\n",
       "      <td>NaN</td>\n",
       "      <td>0</td>\n",
       "      <td>Injured or ill Customer (In Station) - Transpo...</td>\n",
       "      <td>SUB</td>\n",
       "      <td>2021</td>\n",
       "      <td>0.00</td>\n",
       "      <td>12</td>\n",
       "      <td>13</td>\n",
       "    </tr>\n",
       "    <tr>\n",
       "      <th>14967</th>\n",
       "      <td>2021-12-08</td>\n",
       "      <td>17:14</td>\n",
       "      <td>Wednesday</td>\n",
       "      <td>QUEEN'S PARK STATION</td>\n",
       "      <td>MUO</td>\n",
       "      <td>0</td>\n",
       "      <td>0</td>\n",
       "      <td>NaN</td>\n",
       "      <td>NaN</td>\n",
       "      <td>0</td>\n",
       "      <td>Miscellaneous Other</td>\n",
       "      <td>SUB</td>\n",
       "      <td>2021</td>\n",
       "      <td>0.00</td>\n",
       "      <td>12</td>\n",
       "      <td>17</td>\n",
       "    </tr>\n",
       "    <tr>\n",
       "      <th>15581</th>\n",
       "      <td>2021-12-19</td>\n",
       "      <td>00:42</td>\n",
       "      <td>Sunday</td>\n",
       "      <td>WILSON CARHOUSE</td>\n",
       "      <td>MUO</td>\n",
       "      <td>0</td>\n",
       "      <td>0</td>\n",
       "      <td>NaN</td>\n",
       "      <td>NaN</td>\n",
       "      <td>0</td>\n",
       "      <td>Miscellaneous Other</td>\n",
       "      <td>SUB</td>\n",
       "      <td>2021</td>\n",
       "      <td>0.00</td>\n",
       "      <td>12</td>\n",
       "      <td>0</td>\n",
       "    </tr>\n",
       "    <tr>\n",
       "      <th>15623</th>\n",
       "      <td>2021-12-20</td>\n",
       "      <td>16:23</td>\n",
       "      <td>Monday</td>\n",
       "      <td>YONGE-SHEPPARD (LINE 4</td>\n",
       "      <td>MUIRS</td>\n",
       "      <td>0</td>\n",
       "      <td>0</td>\n",
       "      <td>NaN</td>\n",
       "      <td>NaN</td>\n",
       "      <td>0</td>\n",
       "      <td>Injured or ill Customer (In Station) - Medical...</td>\n",
       "      <td>SUB</td>\n",
       "      <td>2021</td>\n",
       "      <td>0.00</td>\n",
       "      <td>12</td>\n",
       "      <td>16</td>\n",
       "    </tr>\n",
       "    <tr>\n",
       "      <th>16332</th>\n",
       "      <td>2021-12-31</td>\n",
       "      <td>14:34</td>\n",
       "      <td>Friday</td>\n",
       "      <td>GO PROTOCOL</td>\n",
       "      <td>MUO</td>\n",
       "      <td>0</td>\n",
       "      <td>0</td>\n",
       "      <td>NaN</td>\n",
       "      <td>NaN</td>\n",
       "      <td>0</td>\n",
       "      <td>Miscellaneous Other</td>\n",
       "      <td>SUB</td>\n",
       "      <td>2021</td>\n",
       "      <td>0.00</td>\n",
       "      <td>12</td>\n",
       "      <td>14</td>\n",
       "    </tr>\n",
       "  </tbody>\n",
       "</table>\n",
       "</div>"
      ],
      "text/plain": [
       "            date   time        day                 station   code  min_delay  \\\n",
       "495   2021-01-13  15:22  Wednesday      FINCH WEST STATION  MUSAN          3   \n",
       "513   2021-01-13  22:08  Wednesday   EGLINTON WEST STATION  PUMEL          0   \n",
       "1044  2021-01-27  22:00  Wednesday  YONGE-UNIVERSITY AND B    MUO          0   \n",
       "1045  2021-01-27  23:00  Wednesday           FINCH STATION    MUO          0   \n",
       "1362  2021-02-04  01:45   Thursday        LAWRENCE STATION   TUSC          0   \n",
       "1679  2021-02-11  01:12   Thursday      GREENWOOD CARHOUSE   MUIE          0   \n",
       "2179  2021-02-22  08:27     Monday      BICHMOUNT DIVISION   MUIE          0   \n",
       "2204  2021-02-22  22:33     Monday           BLOOR STATION   SUAP          4   \n",
       "2206  2021-02-22  23:36     Monday        EGLINTON STATION    MUO          0   \n",
       "3039  2021-03-17  05:15  Wednesday         INGLIS BUILDING  PUMEL          0   \n",
       "3330  2021-03-24  19:13  Wednesday         INGLIS BUILDING  PUMEL          0   \n",
       "3407  2021-03-26  09:03     Friday  WILSON YARD (SOUTH TAI   PUTO          0   \n",
       "3557  2021-03-30  00:36    Tuesday         INGLIS BUILDING  PUMEL          0   \n",
       "3944  2021-04-08  23:45   Thursday         DAVISVILLE YARD   MUIE          0   \n",
       "4097  2021-04-13  10:57    Tuesday         SPADINA STATION   SUAE          0   \n",
       "4119  2021-04-13  22:00    Tuesday  YONGE-UNIVERSITY AND B    MUO          0   \n",
       "4336  2021-04-19  23:00     Monday  SHEPPARD WEST TO LAWRE    MUO          0   \n",
       "4748  2021-04-29  22:00   Thursday  YONGE UNIVERSITY SPADI    MUO          0   \n",
       "5312  2021-05-15  05:05   Saturday      SPADINA BD STATION  MUNCA          0   \n",
       "5448  2021-05-18  20:15    Tuesday      VAUGHAN MC STATION   MUWR          0   \n",
       "5484  2021-05-19  18:11  Wednesday    QUEEN'S QUAY STATION  PUMEL          0   \n",
       "5642  2021-05-23  23:19     Sunday       ST ANDREW STATION   SUDP          0   \n",
       "5685  2021-05-25  00:19    Tuesday      DUNDA WEST STATION    SUO          0   \n",
       "6042  2021-06-02  22:28  Wednesday          WARDEN STATION  MUIRS          0   \n",
       "6046  2021-06-02  00:56  Wednesday             BAY STATION    SUO          0   \n",
       "6540  2021-06-14  22:43     Monday        YONGE BD STATION   MUIS          0   \n",
       "6560  2021-06-15  07:15    Tuesday  SUBWAY OPERATIONS BUIL  PUMEL          0   \n",
       "7137  2021-06-28  01:03     Monday         COXWELL STATION  MUNCA          0   \n",
       "7766  2021-07-14  03:51  Wednesday  TRANSIT CONTROL CENTRE   PUSO          0   \n",
       "8889  2021-08-11  07:46  Wednesday         TRANSIT CONTROL   MUIE          0   \n",
       "9628  2021-08-29  15:49     Sunday        YORKDALE STATION  SUPOL          0   \n",
       "9629  2021-08-29  16:13     Sunday      YORK MILLS STATION    MUO          0   \n",
       "9780  2021-09-01  20:35  Wednesday   MAIN STREET AND UNION    MUO          0   \n",
       "9789  2021-09-01  22:14  Wednesday  UNION AND KENNEDY STAT    MUO          0   \n",
       "10336 2021-09-13  17:20     Monday        MCBRIEN BUILDING    SUO          0   \n",
       "10951 2021-09-26  15:50     Sunday          WILSON STATION  PUOPO          0   \n",
       "11223 2021-10-01  00:33     Friday       WELLESLEY STATION   SUDP          0   \n",
       "12533 2021-10-28  14:18   Thursday   VICTORIA PARK STATION   MUIS          0   \n",
       "12826 2021-11-02  12:22    Tuesday          GREENWOOD SHOP   MUIE          0   \n",
       "13007 2021-11-05  08:59     Friday           BLOOR STATION  MUIRS          0   \n",
       "13080 2021-11-06  18:41   Saturday      KENNEDY BD STATION    MUO          0   \n",
       "13273 2021-11-10  16:25  Wednesday      SUMMERHILL STATION    TUS          3   \n",
       "13402 2021-11-12  20:42     Friday       CLOSURES BUILDING   MUIE          0   \n",
       "13410 2021-11-12  00:02     Friday         TRANSIT CONTROL    MUO          0   \n",
       "14177 2021-11-25  21:14   Thursday         WILSON CARHOUSE   MUIE          0   \n",
       "14371 2021-11-29  05:10     Monday             GO PROTOCOL    MUO          0   \n",
       "14935 2021-12-08  06:00  Wednesday  TORONTO TRANSIT COMMIS    MUO          0   \n",
       "14952 2021-12-08  13:58  Wednesday         KIPLING STATION   MUIS          0   \n",
       "14967 2021-12-08  17:14  Wednesday    QUEEN'S PARK STATION    MUO          0   \n",
       "15581 2021-12-19  00:42     Sunday         WILSON CARHOUSE    MUO          0   \n",
       "15623 2021-12-20  16:23     Monday  YONGE-SHEPPARD (LINE 4  MUIRS          0   \n",
       "16332 2021-12-31  14:34     Friday             GO PROTOCOL    MUO          0   \n",
       "\n",
       "       min_gap bound line  vehicle  \\\n",
       "495          6     S  NaN     5751   \n",
       "513          0   NaN  NaN        0   \n",
       "1044         0   NaN  NaN        0   \n",
       "1045         0   NaN  NaN        0   \n",
       "1362         0     S  NaN     5596   \n",
       "1679         0   NaN  NaN        0   \n",
       "2179         0   NaN  NaN        0   \n",
       "2204         9     N  NaN     6006   \n",
       "2206         0   NaN  NaN        0   \n",
       "3039         0   NaN  NaN        0   \n",
       "3330         0   NaN  NaN        0   \n",
       "3407         0   NaN  NaN        0   \n",
       "3557         0   NaN  NaN        0   \n",
       "3944         0   NaN  NaN        0   \n",
       "4097         0   NaN  NaN        0   \n",
       "4119         0   NaN  NaN        0   \n",
       "4336         0   NaN  NaN        0   \n",
       "4748         0   NaN  NaN        0   \n",
       "5312         0   NaN  NaN        0   \n",
       "5448         0   NaN  NaN        0   \n",
       "5484         0   NaN  NaN        0   \n",
       "5642         0   NaN  NaN        0   \n",
       "5685         0     E  NaN        0   \n",
       "6042         0   NaN  NaN        0   \n",
       "6046         0   NaN  NaN        0   \n",
       "6540         0   NaN  NaN        0   \n",
       "6560         0   NaN  NaN        0   \n",
       "7137         0   NaN  NaN        0   \n",
       "7766         0   NaN  NaN        0   \n",
       "8889         0   NaN  NaN        0   \n",
       "9628         0   NaN  NaN        0   \n",
       "9629         0   NaN  NaN        0   \n",
       "9780         0   NaN  NaN        0   \n",
       "9789         0   NaN  NaN        0   \n",
       "10336        0   NaN  NaN        0   \n",
       "10951        0     N  NaN     5471   \n",
       "11223        0   NaN  NaN        0   \n",
       "12533        0   NaN  NaN        0   \n",
       "12826        0   NaN  NaN        0   \n",
       "13007        0     S  NaN        0   \n",
       "13080        0   NaN  NaN        0   \n",
       "13273        6     N  NaN     6501   \n",
       "13402        0   NaN  NaN        0   \n",
       "13410        0   NaN  NaN        0   \n",
       "14177        0   NaN  NaN        0   \n",
       "14371        0   NaN  NaN        0   \n",
       "14935        0   NaN  NaN        0   \n",
       "14952        0   NaN  NaN        0   \n",
       "14967        0   NaN  NaN        0   \n",
       "15581        0   NaN  NaN        0   \n",
       "15623        0   NaN  NaN        0   \n",
       "16332        0   NaN  NaN        0   \n",
       "\n",
       "                                        code_description sub_or_srt  year  \\\n",
       "495                                   Unsanitary Vehicle        SUB  2021   \n",
       "513                          Escalator/Elevator Incident        SUB  2021   \n",
       "1044                                 Miscellaneous Other        SUB  2021   \n",
       "1045                                 Miscellaneous Other        SUB  2021   \n",
       "1362                               Operator Overspeeding        SUB  2021   \n",
       "1679                                    Injured Employee        SUB  2021   \n",
       "2179                                    Injured Employee        SUB  2021   \n",
       "2204                           Assault / Patron Involved        SUB  2021   \n",
       "2206                                 Miscellaneous Other        SUB  2021   \n",
       "3039                         Escalator/Elevator Incident        SUB  2021   \n",
       "3330                         Escalator/Elevator Incident        SUB  2021   \n",
       "3407                                           T&S Other        SUB  2021   \n",
       "3557                         Escalator/Elevator Incident        SUB  2021   \n",
       "3944                                    Injured Employee        SUB  2021   \n",
       "4097                         Assault / Employee Involved        SUB  2021   \n",
       "4119                                 Miscellaneous Other        SUB  2021   \n",
       "4336                                 Miscellaneous Other        SUB  2021   \n",
       "4748                                 Miscellaneous Other        SUB  2021   \n",
       "5312                                                 NaN        NaN  2021   \n",
       "5448                                        Work Refusal        SUB  2021   \n",
       "5484                         Escalator/Elevator Incident        SUB  2021   \n",
       "5642                                   Disorderly Patron        SUB  2021   \n",
       "5685                                     Passenger Other        SUB  2021   \n",
       "6042   Injured or ill Customer (In Station) - Medical...        SUB  2021   \n",
       "6046                                     Passenger Other        SUB  2021   \n",
       "6540   Injured or ill Customer (In Station) - Transpo...        SUB  2021   \n",
       "6560                         Escalator/Elevator Incident        SUB  2021   \n",
       "7137                                                 NaN        NaN  2021   \n",
       "7766                              S/E/C Department Other        SUB  2021   \n",
       "8889                                    Injured Employee        SUB  2021   \n",
       "9628                     Held By Polce - Non-TTC Related        SUB  2021   \n",
       "9629                                 Miscellaneous Other        SUB  2021   \n",
       "9780                                 Miscellaneous Other        SUB  2021   \n",
       "9789                                 Miscellaneous Other        SUB  2021   \n",
       "10336                                    Passenger Other        SUB  2021   \n",
       "10951                 OPTO (COMMS) Train Door Monitoring        SUB  2021   \n",
       "11223                                  Disorderly Patron        SUB  2021   \n",
       "12533  Injured or ill Customer (In Station) - Transpo...        SUB  2021   \n",
       "12826                                   Injured Employee        SUB  2021   \n",
       "13007  Injured or ill Customer (In Station) - Medical...        SUB  2021   \n",
       "13080                                Miscellaneous Other        SUB  2021   \n",
       "13273                   Crew Unable to Maintain Schedule        SUB  2021   \n",
       "13402                                   Injured Employee        SUB  2021   \n",
       "13410                                Miscellaneous Other        SUB  2021   \n",
       "14177                                   Injured Employee        SUB  2021   \n",
       "14371                                Miscellaneous Other        SUB  2021   \n",
       "14935                                Miscellaneous Other        SUB  2021   \n",
       "14952  Injured or ill Customer (In Station) - Transpo...        SUB  2021   \n",
       "14967                                Miscellaneous Other        SUB  2021   \n",
       "15581                                Miscellaneous Other        SUB  2021   \n",
       "15623  Injured or ill Customer (In Station) - Medical...        SUB  2021   \n",
       "16332                                Miscellaneous Other        SUB  2021   \n",
       "\n",
       "       hour_delay  month  hour  \n",
       "495          0.05      1    15  \n",
       "513          0.00      1    22  \n",
       "1044         0.00      1    22  \n",
       "1045         0.00      1    23  \n",
       "1362         0.00      2     1  \n",
       "1679         0.00      2     1  \n",
       "2179         0.00      2     8  \n",
       "2204         0.07      2    22  \n",
       "2206         0.00      2    23  \n",
       "3039         0.00      3     5  \n",
       "3330         0.00      3    19  \n",
       "3407         0.00      3     9  \n",
       "3557         0.00      3     0  \n",
       "3944         0.00      4    23  \n",
       "4097         0.00      4    10  \n",
       "4119         0.00      4    22  \n",
       "4336         0.00      4    23  \n",
       "4748         0.00      4    22  \n",
       "5312         0.00      5     5  \n",
       "5448         0.00      5    20  \n",
       "5484         0.00      5    18  \n",
       "5642         0.00      5    23  \n",
       "5685         0.00      5     0  \n",
       "6042         0.00      6    22  \n",
       "6046         0.00      6     0  \n",
       "6540         0.00      6    22  \n",
       "6560         0.00      6     7  \n",
       "7137         0.00      6     1  \n",
       "7766         0.00      7     3  \n",
       "8889         0.00      8     7  \n",
       "9628         0.00      8    15  \n",
       "9629         0.00      8    16  \n",
       "9780         0.00      9    20  \n",
       "9789         0.00      9    22  \n",
       "10336        0.00      9    17  \n",
       "10951        0.00      9    15  \n",
       "11223        0.00     10     0  \n",
       "12533        0.00     10    14  \n",
       "12826        0.00     11    12  \n",
       "13007        0.00     11     8  \n",
       "13080        0.00     11    18  \n",
       "13273        0.05     11    16  \n",
       "13402        0.00     11    20  \n",
       "13410        0.00     11     0  \n",
       "14177        0.00     11    21  \n",
       "14371        0.00     11     5  \n",
       "14935        0.00     12     6  \n",
       "14952        0.00     12    13  \n",
       "14967        0.00     12    17  \n",
       "15581        0.00     12     0  \n",
       "15623        0.00     12    16  \n",
       "16332        0.00     12    14  "
      ]
     },
     "execution_count": 39,
     "metadata": {},
     "output_type": "execute_result"
    }
   ],
   "source": [
    "# access rows of data where line is NA\n",
    "delays_w_reasons.loc[delays_w_reasons['line'].isna()]"
   ]
  },
  {
   "cell_type": "markdown",
   "id": "e47dcb8a",
   "metadata": {
    "slideshow": {
     "slide_type": "subslide"
    }
   },
   "source": [
    "`.loc[]` also lets us access data by label, with row conditions first and column conditions second."
   ]
  },
  {
   "cell_type": "code",
   "execution_count": 40,
   "id": "040456d6",
   "metadata": {
    "slideshow": {
     "slide_type": "fragment"
    }
   },
   "outputs": [
    {
     "data": {
      "text/html": [
       "<div>\n",
       "<style scoped>\n",
       "    .dataframe tbody tr th:only-of-type {\n",
       "        vertical-align: middle;\n",
       "    }\n",
       "\n",
       "    .dataframe tbody tr th {\n",
       "        vertical-align: top;\n",
       "    }\n",
       "\n",
       "    .dataframe thead th {\n",
       "        text-align: right;\n",
       "    }\n",
       "</style>\n",
       "<table border=\"1\" class=\"dataframe\">\n",
       "  <thead>\n",
       "    <tr style=\"text-align: right;\">\n",
       "      <th></th>\n",
       "      <th>time</th>\n",
       "      <th>station</th>\n",
       "      <th>line</th>\n",
       "    </tr>\n",
       "  </thead>\n",
       "  <tbody>\n",
       "    <tr>\n",
       "      <th>495</th>\n",
       "      <td>15:22</td>\n",
       "      <td>FINCH WEST STATION</td>\n",
       "      <td>NaN</td>\n",
       "    </tr>\n",
       "    <tr>\n",
       "      <th>513</th>\n",
       "      <td>22:08</td>\n",
       "      <td>EGLINTON WEST STATION</td>\n",
       "      <td>NaN</td>\n",
       "    </tr>\n",
       "    <tr>\n",
       "      <th>1044</th>\n",
       "      <td>22:00</td>\n",
       "      <td>YONGE-UNIVERSITY AND B</td>\n",
       "      <td>NaN</td>\n",
       "    </tr>\n",
       "    <tr>\n",
       "      <th>1045</th>\n",
       "      <td>23:00</td>\n",
       "      <td>FINCH STATION</td>\n",
       "      <td>NaN</td>\n",
       "    </tr>\n",
       "    <tr>\n",
       "      <th>1362</th>\n",
       "      <td>01:45</td>\n",
       "      <td>LAWRENCE STATION</td>\n",
       "      <td>NaN</td>\n",
       "    </tr>\n",
       "  </tbody>\n",
       "</table>\n",
       "</div>"
      ],
      "text/plain": [
       "       time                 station line\n",
       "495   15:22      FINCH WEST STATION  NaN\n",
       "513   22:08   EGLINTON WEST STATION  NaN\n",
       "1044  22:00  YONGE-UNIVERSITY AND B  NaN\n",
       "1045  23:00           FINCH STATION  NaN\n",
       "1362  01:45        LAWRENCE STATION  NaN"
      ]
     },
     "execution_count": 40,
     "metadata": {},
     "output_type": "execute_result"
    }
   ],
   "source": [
    "(delays_w_reasons.loc[delays_w_reasons['line'].isna(),  # filter rows\n",
    "                     ['time', 'station', 'line']]  # get columns\n",
    "                 .head())  # first 5 lines to save space"
   ]
  },
  {
   "cell_type": "markdown",
   "id": "91610b43",
   "metadata": {
    "slideshow": {
     "slide_type": "slide"
    }
   },
   "source": [
    "### `query()`\n",
    "\n",
    "Alternatively, we can use the DataFrame `query()` method, which takes a filter condition as a string, and returns a DataFrame of records that met the condition. `query()` is slower than `loc[]`, but it can be easier to read."
   ]
  },
  {
   "cell_type": "code",
   "execution_count": 41,
   "id": "35b5eb05",
   "metadata": {
    "slideshow": {
     "slide_type": "subslide"
    }
   },
   "outputs": [
    {
     "data": {
      "text/html": [
       "<div>\n",
       "<style scoped>\n",
       "    .dataframe tbody tr th:only-of-type {\n",
       "        vertical-align: middle;\n",
       "    }\n",
       "\n",
       "    .dataframe tbody tr th {\n",
       "        vertical-align: top;\n",
       "    }\n",
       "\n",
       "    .dataframe thead th {\n",
       "        text-align: right;\n",
       "    }\n",
       "</style>\n",
       "<table border=\"1\" class=\"dataframe\">\n",
       "  <thead>\n",
       "    <tr style=\"text-align: right;\">\n",
       "      <th></th>\n",
       "      <th>date</th>\n",
       "      <th>time</th>\n",
       "      <th>day</th>\n",
       "      <th>station</th>\n",
       "      <th>code</th>\n",
       "      <th>min_delay</th>\n",
       "      <th>min_gap</th>\n",
       "      <th>bound</th>\n",
       "      <th>line</th>\n",
       "      <th>vehicle</th>\n",
       "      <th>code_description</th>\n",
       "      <th>sub_or_srt</th>\n",
       "      <th>year</th>\n",
       "      <th>hour_delay</th>\n",
       "      <th>month</th>\n",
       "      <th>hour</th>\n",
       "    </tr>\n",
       "  </thead>\n",
       "  <tbody>\n",
       "    <tr>\n",
       "      <th>495</th>\n",
       "      <td>2021-01-13</td>\n",
       "      <td>15:22</td>\n",
       "      <td>Wednesday</td>\n",
       "      <td>FINCH WEST STATION</td>\n",
       "      <td>MUSAN</td>\n",
       "      <td>3</td>\n",
       "      <td>6</td>\n",
       "      <td>S</td>\n",
       "      <td>NaN</td>\n",
       "      <td>5751</td>\n",
       "      <td>Unsanitary Vehicle</td>\n",
       "      <td>SUB</td>\n",
       "      <td>2021</td>\n",
       "      <td>0.05</td>\n",
       "      <td>1</td>\n",
       "      <td>15</td>\n",
       "    </tr>\n",
       "    <tr>\n",
       "      <th>513</th>\n",
       "      <td>2021-01-13</td>\n",
       "      <td>22:08</td>\n",
       "      <td>Wednesday</td>\n",
       "      <td>EGLINTON WEST STATION</td>\n",
       "      <td>PUMEL</td>\n",
       "      <td>0</td>\n",
       "      <td>0</td>\n",
       "      <td>NaN</td>\n",
       "      <td>NaN</td>\n",
       "      <td>0</td>\n",
       "      <td>Escalator/Elevator Incident</td>\n",
       "      <td>SUB</td>\n",
       "      <td>2021</td>\n",
       "      <td>0.00</td>\n",
       "      <td>1</td>\n",
       "      <td>22</td>\n",
       "    </tr>\n",
       "    <tr>\n",
       "      <th>1044</th>\n",
       "      <td>2021-01-27</td>\n",
       "      <td>22:00</td>\n",
       "      <td>Wednesday</td>\n",
       "      <td>YONGE-UNIVERSITY AND B</td>\n",
       "      <td>MUO</td>\n",
       "      <td>0</td>\n",
       "      <td>0</td>\n",
       "      <td>NaN</td>\n",
       "      <td>NaN</td>\n",
       "      <td>0</td>\n",
       "      <td>Miscellaneous Other</td>\n",
       "      <td>SUB</td>\n",
       "      <td>2021</td>\n",
       "      <td>0.00</td>\n",
       "      <td>1</td>\n",
       "      <td>22</td>\n",
       "    </tr>\n",
       "    <tr>\n",
       "      <th>1045</th>\n",
       "      <td>2021-01-27</td>\n",
       "      <td>23:00</td>\n",
       "      <td>Wednesday</td>\n",
       "      <td>FINCH STATION</td>\n",
       "      <td>MUO</td>\n",
       "      <td>0</td>\n",
       "      <td>0</td>\n",
       "      <td>NaN</td>\n",
       "      <td>NaN</td>\n",
       "      <td>0</td>\n",
       "      <td>Miscellaneous Other</td>\n",
       "      <td>SUB</td>\n",
       "      <td>2021</td>\n",
       "      <td>0.00</td>\n",
       "      <td>1</td>\n",
       "      <td>23</td>\n",
       "    </tr>\n",
       "    <tr>\n",
       "      <th>1362</th>\n",
       "      <td>2021-02-04</td>\n",
       "      <td>01:45</td>\n",
       "      <td>Thursday</td>\n",
       "      <td>LAWRENCE STATION</td>\n",
       "      <td>TUSC</td>\n",
       "      <td>0</td>\n",
       "      <td>0</td>\n",
       "      <td>S</td>\n",
       "      <td>NaN</td>\n",
       "      <td>5596</td>\n",
       "      <td>Operator Overspeeding</td>\n",
       "      <td>SUB</td>\n",
       "      <td>2021</td>\n",
       "      <td>0.00</td>\n",
       "      <td>2</td>\n",
       "      <td>1</td>\n",
       "    </tr>\n",
       "  </tbody>\n",
       "</table>\n",
       "</div>"
      ],
      "text/plain": [
       "           date   time        day                 station   code  min_delay  \\\n",
       "495  2021-01-13  15:22  Wednesday      FINCH WEST STATION  MUSAN          3   \n",
       "513  2021-01-13  22:08  Wednesday   EGLINTON WEST STATION  PUMEL          0   \n",
       "1044 2021-01-27  22:00  Wednesday  YONGE-UNIVERSITY AND B    MUO          0   \n",
       "1045 2021-01-27  23:00  Wednesday           FINCH STATION    MUO          0   \n",
       "1362 2021-02-04  01:45   Thursday        LAWRENCE STATION   TUSC          0   \n",
       "\n",
       "      min_gap bound line  vehicle             code_description sub_or_srt  \\\n",
       "495         6     S  NaN     5751           Unsanitary Vehicle        SUB   \n",
       "513         0   NaN  NaN        0  Escalator/Elevator Incident        SUB   \n",
       "1044        0   NaN  NaN        0          Miscellaneous Other        SUB   \n",
       "1045        0   NaN  NaN        0          Miscellaneous Other        SUB   \n",
       "1362        0     S  NaN     5596        Operator Overspeeding        SUB   \n",
       "\n",
       "      year  hour_delay  month  hour  \n",
       "495   2021        0.05      1    15  \n",
       "513   2021        0.00      1    22  \n",
       "1044  2021        0.00      1    22  \n",
       "1045  2021        0.00      1    23  \n",
       "1362  2021        0.00      2     1  "
      ]
     },
     "execution_count": 41,
     "metadata": {},
     "output_type": "execute_result"
    }
   ],
   "source": [
    "# slower than .loc, but can be easier to read\n",
    "delays_w_reasons.query('line.isna()').head()"
   ]
  },
  {
   "cell_type": "markdown",
   "id": "53f356d2",
   "metadata": {
    "slideshow": {
     "slide_type": "slide"
    }
   },
   "source": [
    "### `dropna()`\n",
    "\n",
    "In this case, the number of records without lines is relatively small. Most do not have delay durations. Some appear to be at rail yards, i.e. not on a rail line. For our analysis, we may drop them with the `dropna()` DataFrame method. We can drop rows missing lines by passing a `subset`."
   ]
  },
  {
   "cell_type": "code",
   "execution_count": 42,
   "id": "af8db773",
   "metadata": {
    "slideshow": {
     "slide_type": "fragment"
    }
   },
   "outputs": [],
   "source": [
    "delays_w_reasons = delays_w_reasons.dropna(subset='line')"
   ]
  },
  {
   "cell_type": "markdown",
   "id": "3b0b4dab",
   "metadata": {
    "slideshow": {
     "slide_type": "slide"
    }
   },
   "source": [
    "### Filtering data with `.loc[]` and `isin()`\n",
    "\n",
    "We can use `.loc[]` to create a delays DataFrame without the invalid lines. To to this, we first create a list of values to exclude, then pass the list to the Series `isin()` method. Finally, we negate the expression, and assign the output back to `delays_w_reasons`.\n",
    "\n",
    "**Note: The negation operator here is `~`, not `!`. The `and` and `or` operators are different as well: `&` and `|` respectively.**"
   ]
  },
  {
   "cell_type": "code",
   "execution_count": 43,
   "id": "6841bff3",
   "metadata": {
    "slideshow": {
     "slide_type": "subslide"
    }
   },
   "outputs": [],
   "source": [
    "# set up filter list\n",
    "filter_list = ['999', '36 FINCH WEST', '35 JANE', '52', '41 KEELE']"
   ]
  },
  {
   "cell_type": "code",
   "execution_count": 44,
   "id": "f0469986",
   "metadata": {
    "slideshow": {
     "slide_type": "subslide"
    }
   },
   "outputs": [
    {
     "data": {
      "text/plain": [
       "array(['YU', 'BD', 'SHP', 'SRT', 'YU/BD', 'YONGE/UNIVERSITY/BLOOR',\n",
       "       'YU / BD', 'YUS', 'SHEP', 'YUS & BD', 'YU & BD LINES', 'YUS/BD'],\n",
       "      dtype=object)"
      ]
     },
     "execution_count": 44,
     "metadata": {},
     "output_type": "execute_result"
    }
   ],
   "source": [
    "# filter out records with invalid lines\n",
    "delays_w_reasons = delays_w_reasons.loc[~delays_w_reasons['line'].isin(filter_list)]\n",
    "delays_w_reasons['line'].unique()"
   ]
  },
  {
   "cell_type": "markdown",
   "id": "a5ae5e91",
   "metadata": {
    "slideshow": {
     "slide_type": "slide"
    }
   },
   "source": [
    "### Replacing values with `str.replace()`\n",
    "\n",
    "To standardize the YU/BD values, we can replace the less common ones. One way to do this is by selecting the line Series and using `str.replace()`, like below for \"YUS\"."
   ]
  },
  {
   "cell_type": "code",
   "execution_count": 45,
   "id": "ed6c34bc",
   "metadata": {
    "slideshow": {
     "slide_type": "fragment"
    }
   },
   "outputs": [
    {
     "data": {
      "text/plain": [
       "array(['YU', 'BD', 'SHP', 'SRT', 'YU/BD', 'YONGE/UNIVERSITY/BLOOR',\n",
       "       'YU / BD', 'SHEP', 'YU & BD', 'YU & BD LINES'], dtype=object)"
      ]
     },
     "execution_count": 45,
     "metadata": {},
     "output_type": "execute_result"
    }
   ],
   "source": [
    "delays_w_reasons['line'] = (delays_w_reasons['line']\n",
    "                            .str.replace('YUS', 'YU'))\n",
    "delays_w_reasons['line'].unique()"
   ]
  },
  {
   "cell_type": "markdown",
   "id": "ca415f18",
   "metadata": {
    "slideshow": {
     "slide_type": "subslide"
    }
   },
   "source": [
    "Another is to assign \"YU/BD\" to values selected by `.loc[]`"
   ]
  },
  {
   "cell_type": "code",
   "execution_count": 46,
   "id": "d478589f",
   "metadata": {
    "slideshow": {
     "slide_type": "subslide"
    }
   },
   "outputs": [
    {
     "data": {
      "text/plain": [
       "590      YONGE/UNIVERSITY/BLOOR\n",
       "852                     YU / BD\n",
       "1137                    YU / BD\n",
       "1628                    YU / BD\n",
       "1672                    YU / BD\n",
       "1700                    YU / BD\n",
       "6725                    YU / BD\n",
       "7469                    YU / BD\n",
       "8034                    YU & BD\n",
       "8301                    YU / BD\n",
       "8341                    YU / BD\n",
       "8463                    YU / BD\n",
       "9164                    YU / BD\n",
       "9541              YU & BD LINES\n",
       "9839                    YU / BD\n",
       "10792                   YU / BD\n",
       "11119                   YU / BD\n",
       "11299                   YU / BD\n",
       "12128                   YU / BD\n",
       "15574                   YU / BD\n",
       "Name: line, dtype: object"
      ]
     },
     "execution_count": 46,
     "metadata": {},
     "output_type": "execute_result"
    }
   ],
   "source": [
    "yubd_list = ['YONGE/UNIVERSITY/BLOOR', \n",
    "             'YU / BD', \n",
    "             'YU & BD', \n",
    "             'YU & BD LINES']\n",
    "\n",
    "# check the .loc[] selection\n",
    "delays_w_reasons.loc[delays_w_reasons['line'].isin(yubd_list), 'line'] "
   ]
  },
  {
   "cell_type": "code",
   "execution_count": 47,
   "id": "8c0d6d26",
   "metadata": {
    "slideshow": {
     "slide_type": "subslide"
    }
   },
   "outputs": [
    {
     "data": {
      "text/plain": [
       "array(['YU', 'BD', 'SHP', 'SRT', 'YU/BD', 'SHEP'], dtype=object)"
      ]
     },
     "execution_count": 47,
     "metadata": {},
     "output_type": "execute_result"
    }
   ],
   "source": [
    "delays_w_reasons.loc[delays_w_reasons['line'].isin(yubd_list), 'line'] = 'YU/BD'\n",
    "delays_w_reasons['line'].unique()"
   ]
  },
  {
   "cell_type": "markdown",
   "id": "e8b20ffb",
   "metadata": {
    "slideshow": {
     "slide_type": "slide"
    }
   },
   "source": [
    "## Practice"
   ]
  },
  {
   "cell_type": "markdown",
   "id": "d0b078c5",
   "metadata": {
    "slideshow": {
     "slide_type": "subslide"
    }
   },
   "source": [
    "* Select the date, time, and station for all delays on the Yonge-University (\"YU\") and Bloor-Danforth (\"BD\") lines.\n",
    "* Create a new DataFrame, `nonzero_delays`, containing delays with a `min_time` greater than zero."
   ]
  },
  {
   "cell_type": "markdown",
   "id": "89c714a8",
   "metadata": {
    "slideshow": {
     "slide_type": "slide"
    }
   },
   "source": [
    "## Grouping\n",
    "\n",
    "A core workflow in `pandas` is _split-apply-combine_:\n",
    "* **splitting** data into groups\n",
    "* **applying** a function to each group, such calculating group sums, standardizing data, or filtering out some groups\n",
    "* **combining** the results into a data structure"
   ]
  },
  {
   "cell_type": "markdown",
   "id": "796c8a56",
   "metadata": {
    "slideshow": {
     "slide_type": "subslide"
    }
   },
   "source": [
    "This workflow starts by grouping data by calling the `groupby()` method. We'll pass in a column name or list of names to group by."
   ]
  },
  {
   "cell_type": "code",
   "execution_count": 48,
   "id": "75abe5b0",
   "metadata": {
    "slideshow": {
     "slide_type": "fragment"
    }
   },
   "outputs": [],
   "source": [
    "line_groups = delays_w_reasons.groupby('line')"
   ]
  },
  {
   "cell_type": "markdown",
   "id": "568b986a",
   "metadata": {
    "slideshow": {
     "slide_type": "subslide"
    }
   },
   "source": [
    "`groupby()` returns a grouped DataFrame that we can use to calculate groupwise statistics. The grouping column values become indexes, or row labels. **Note that this grouped DataFrame still references the original, so mutating one affects the other.**"
   ]
  },
  {
   "cell_type": "code",
   "execution_count": 49,
   "id": "4ba73a9f",
   "metadata": {
    "slideshow": {
     "slide_type": "fragment"
    }
   },
   "outputs": [
    {
     "data": {
      "text/plain": [
       "line\n",
       "BD       329.47\n",
       "SHEP       0.00\n",
       "SHP       28.43\n",
       "SRT       57.82\n",
       "YU       477.50\n",
       "YU/BD      0.00\n",
       "Name: hour_delay, dtype: float64"
      ]
     },
     "execution_count": 49,
     "metadata": {},
     "output_type": "execute_result"
    }
   ],
   "source": [
    "# how many hours of delays did each line have in 2021?\n",
    "line_groups['hour_delay'].sum()"
   ]
  },
  {
   "cell_type": "markdown",
   "id": "44c2841b",
   "metadata": {
    "slideshow": {
     "slide_type": "subslide"
    }
   },
   "source": [
    "We can group by more than one column by passing a list into `groupby()`. Data is grouped in the order of column names."
   ]
  },
  {
   "cell_type": "code",
   "execution_count": 50,
   "id": "7e01fcae",
   "metadata": {
    "slideshow": {
     "slide_type": "fragment"
    }
   },
   "outputs": [],
   "source": [
    "# group by line first, then reason code description\n",
    "line_code_groups = delays_w_reasons.groupby(['line', 'code_description'])"
   ]
  },
  {
   "cell_type": "markdown",
   "id": "bfe2015d",
   "metadata": {
    "slideshow": {
     "slide_type": "subslide"
    }
   },
   "source": [
    "### Chaining methods and `unstack()`ing\n",
    "\n",
    "We can _chain_ methods together for convenience and code readability. Here, we calculate the `size()` of each group, then `unstack()` the resulting Series by the first part of the row label, line. The `tail()` method is added to the end so that the output takes less screen space."
   ]
  },
  {
   "cell_type": "code",
   "execution_count": 51,
   "id": "65da4ee2",
   "metadata": {
    "slideshow": {
     "slide_type": "subslide"
    }
   },
   "outputs": [
    {
     "data": {
      "text/html": [
       "<div>\n",
       "<style scoped>\n",
       "    .dataframe tbody tr th:only-of-type {\n",
       "        vertical-align: middle;\n",
       "    }\n",
       "\n",
       "    .dataframe tbody tr th {\n",
       "        vertical-align: top;\n",
       "    }\n",
       "\n",
       "    .dataframe thead th {\n",
       "        text-align: right;\n",
       "    }\n",
       "</style>\n",
       "<table border=\"1\" class=\"dataframe\">\n",
       "  <thead>\n",
       "    <tr style=\"text-align: right;\">\n",
       "      <th>line</th>\n",
       "      <th>BD</th>\n",
       "      <th>SHEP</th>\n",
       "      <th>SHP</th>\n",
       "      <th>SRT</th>\n",
       "      <th>YU</th>\n",
       "      <th>YU/BD</th>\n",
       "    </tr>\n",
       "    <tr>\n",
       "      <th>code_description</th>\n",
       "      <th></th>\n",
       "      <th></th>\n",
       "      <th></th>\n",
       "      <th></th>\n",
       "      <th></th>\n",
       "      <th></th>\n",
       "    </tr>\n",
       "  </thead>\n",
       "  <tbody>\n",
       "    <tr>\n",
       "      <th>Work Refusal</th>\n",
       "      <td>4.0</td>\n",
       "      <td>NaN</td>\n",
       "      <td>1.0</td>\n",
       "      <td>NaN</td>\n",
       "      <td>12.0</td>\n",
       "      <td>NaN</td>\n",
       "    </tr>\n",
       "    <tr>\n",
       "      <th>Work Vehicle</th>\n",
       "      <td>3.0</td>\n",
       "      <td>NaN</td>\n",
       "      <td>NaN</td>\n",
       "      <td>NaN</td>\n",
       "      <td>7.0</td>\n",
       "      <td>NaN</td>\n",
       "    </tr>\n",
       "    <tr>\n",
       "      <th>Work Zone Problems - Signals</th>\n",
       "      <td>4.0</td>\n",
       "      <td>NaN</td>\n",
       "      <td>4.0</td>\n",
       "      <td>NaN</td>\n",
       "      <td>5.0</td>\n",
       "      <td>NaN</td>\n",
       "    </tr>\n",
       "    <tr>\n",
       "      <th>Work Zone Problems - Track</th>\n",
       "      <td>12.0</td>\n",
       "      <td>NaN</td>\n",
       "      <td>NaN</td>\n",
       "      <td>NaN</td>\n",
       "      <td>29.0</td>\n",
       "      <td>NaN</td>\n",
       "    </tr>\n",
       "    <tr>\n",
       "      <th>Yard/Carhouse Related Problems</th>\n",
       "      <td>17.0</td>\n",
       "      <td>NaN</td>\n",
       "      <td>NaN</td>\n",
       "      <td>NaN</td>\n",
       "      <td>15.0</td>\n",
       "      <td>NaN</td>\n",
       "    </tr>\n",
       "  </tbody>\n",
       "</table>\n",
       "</div>"
      ],
      "text/plain": [
       "line                              BD  SHEP  SHP  SRT    YU  YU/BD\n",
       "code_description                                                 \n",
       "Work Refusal                     4.0   NaN  1.0  NaN  12.0    NaN\n",
       "Work Vehicle                     3.0   NaN  NaN  NaN   7.0    NaN\n",
       "Work Zone Problems - Signals     4.0   NaN  4.0  NaN   5.0    NaN\n",
       "Work Zone Problems - Track      12.0   NaN  NaN  NaN  29.0    NaN\n",
       "Yard/Carhouse Related Problems  17.0   NaN  NaN  NaN  15.0    NaN"
      ]
     },
     "execution_count": 51,
     "metadata": {},
     "output_type": "execute_result"
    }
   ],
   "source": [
    "# view the number of delays by reason and line\n",
    "line_code_groups.size().unstack(0).tail()"
   ]
  },
  {
   "cell_type": "markdown",
   "id": "46476768",
   "metadata": {
    "slideshow": {
     "slide_type": "slide"
    }
   },
   "source": [
    "### `agg()`regating\n",
    "\n",
    "So far, we have applied one function at a time. The `agg()` DataFrame method lets us apply multiple functions on different columns at once.\n",
    "\n",
    "`agg()`'s argument syntax is a little unusual. It follows this pattern:\n",
    "```python\n",
    "DataFrame.agg(agg_colname=('column_to_aggregate', 'aggregation_function_name'),\n",
    "              agg_colname2=('col_to_agg2', 'agg_func_name'))\n",
    "```"
   ]
  },
  {
   "cell_type": "code",
   "execution_count": 52,
   "id": "9d9c2e24",
   "metadata": {
    "slideshow": {
     "slide_type": "subslide"
    }
   },
   "outputs": [
    {
     "data": {
      "text/html": [
       "<div>\n",
       "<style scoped>\n",
       "    .dataframe tbody tr th:only-of-type {\n",
       "        vertical-align: middle;\n",
       "    }\n",
       "\n",
       "    .dataframe tbody tr th {\n",
       "        vertical-align: top;\n",
       "    }\n",
       "\n",
       "    .dataframe thead th {\n",
       "        text-align: right;\n",
       "    }\n",
       "</style>\n",
       "<table border=\"1\" class=\"dataframe\">\n",
       "  <thead>\n",
       "    <tr style=\"text-align: right;\">\n",
       "      <th></th>\n",
       "      <th>delay_count</th>\n",
       "      <th>total_delay_min</th>\n",
       "      <th>mean_delay_min</th>\n",
       "    </tr>\n",
       "    <tr>\n",
       "      <th>date</th>\n",
       "      <th></th>\n",
       "      <th></th>\n",
       "      <th></th>\n",
       "    </tr>\n",
       "  </thead>\n",
       "  <tbody>\n",
       "    <tr>\n",
       "      <th>2021-01-01</th>\n",
       "      <td>36</td>\n",
       "      <td>159</td>\n",
       "      <td>4.416667</td>\n",
       "    </tr>\n",
       "    <tr>\n",
       "      <th>2021-01-02</th>\n",
       "      <td>49</td>\n",
       "      <td>284</td>\n",
       "      <td>5.795918</td>\n",
       "    </tr>\n",
       "    <tr>\n",
       "      <th>2021-01-03</th>\n",
       "      <td>19</td>\n",
       "      <td>51</td>\n",
       "      <td>2.684211</td>\n",
       "    </tr>\n",
       "    <tr>\n",
       "      <th>2021-01-04</th>\n",
       "      <td>41</td>\n",
       "      <td>284</td>\n",
       "      <td>6.926829</td>\n",
       "    </tr>\n",
       "    <tr>\n",
       "      <th>2021-01-05</th>\n",
       "      <td>40</td>\n",
       "      <td>298</td>\n",
       "      <td>7.450000</td>\n",
       "    </tr>\n",
       "  </tbody>\n",
       "</table>\n",
       "</div>"
      ],
      "text/plain": [
       "            delay_count  total_delay_min  mean_delay_min\n",
       "date                                                    \n",
       "2021-01-01           36              159        4.416667\n",
       "2021-01-02           49              284        5.795918\n",
       "2021-01-03           19               51        2.684211\n",
       "2021-01-04           41              284        6.926829\n",
       "2021-01-05           40              298        7.450000"
      ]
     },
     "execution_count": 52,
     "metadata": {},
     "output_type": "execute_result"
    }
   ],
   "source": [
    "delay_summary = (delays_w_reasons\n",
    "                 .groupby('date')\n",
    "                 .agg(delay_count=('station', 'count'),\n",
    "                      total_delay_min=('min_delay', 'sum'),\n",
    "                      mean_delay_min=('min_delay', 'mean')))\n",
    "\n",
    "delay_summary.head()"
   ]
  },
  {
   "cell_type": "markdown",
   "id": "3d231ace",
   "metadata": {
    "slideshow": {
     "slide_type": "slide"
    }
   },
   "source": [
    "## Plotting\n",
    "\n",
    "The summary table we just generated can be easily plotted within `pandas`. Since the index contains dates, `pandas` automatically knows to plot values as time series data, with the dates in the x-axis -- we just have to call the `plot()` method."
   ]
  },
  {
   "cell_type": "code",
   "execution_count": 53,
   "id": "cdf7e9c6",
   "metadata": {
    "slideshow": {
     "slide_type": "fragment"
    }
   },
   "outputs": [
    {
     "data": {
      "text/plain": [
       "<AxesSubplot:xlabel='date'>"
      ]
     },
     "execution_count": 53,
     "metadata": {},
     "output_type": "execute_result"
    },
    {
     "data": {
      "image/png": "[encoded data removed]",
      "text/plain": [
       "<Figure size 432x288 with 1 Axes>"
      ]
     },
     "metadata": {
      "needs_background": "light"
     },
     "output_type": "display_data"
    }
   ],
   "source": [
    "delay_summary.plot()"
   ]
  },
  {
   "cell_type": "markdown",
   "id": "3642c2b3",
   "metadata": {
    "slideshow": {
     "slide_type": "subslide"
    }
   },
   "source": [
    "To create a separate plot for each column, we can specify `subplots=True`"
   ]
  },
  {
   "cell_type": "code",
   "execution_count": 54,
   "id": "8eb53896",
   "metadata": {
    "slideshow": {
     "slide_type": "fragment"
    }
   },
   "outputs": [
    {
     "data": {
      "text/plain": [
       "array([<AxesSubplot:xlabel='date'>, <AxesSubplot:xlabel='date'>,\n",
       "       <AxesSubplot:xlabel='date'>], dtype=object)"
      ]
     },
     "execution_count": 54,
     "metadata": {},
     "output_type": "execute_result"
    },
    {
     "data": {
      "image/png": "[encoded data removed]",
      "text/plain": [
       "<Figure size 432x288 with 3 Axes>"
      ]
     },
     "metadata": {
      "needs_background": "light"
     },
     "output_type": "display_data"
    }
   ],
   "source": [
    "delay_summary.plot(subplots=True)"
   ]
  },
  {
   "cell_type": "markdown",
   "id": "a2a69b4f",
   "metadata": {
    "slideshow": {
     "slide_type": "slide"
    }
   },
   "source": [
    "We can plot other aggregations too. Below, we use `line_groups` and calculate the size of each group, i.e., the number of delays reported on each line. Then we plot the data, telling `pandas` that the plot `kind` should be a bar graph, with TTC lines should in the `x`-axis. We also pass in a title."
   ]
  },
  {
   "cell_type": "code",
   "execution_count": 55,
   "id": "669a85d3",
   "metadata": {
    "slideshow": {
     "slide_type": "subslide"
    }
   },
   "outputs": [
    {
     "data": {
      "text/plain": [
       "<AxesSubplot:title={'center':'Delays by Subway Line, 2021'}, xlabel='line'>"
      ]
     },
     "execution_count": 55,
     "metadata": {},
     "output_type": "execute_result"
    },
    {
     "data": {
      "image/png": "[encoded data removed]",
      "text/plain": [
       "<Figure size 432x288 with 1 Axes>"
      ]
     },
     "metadata": {
      "needs_background": "light"
     },
     "output_type": "display_data"
    }
   ],
   "source": [
    "(line_groups\n",
    " .size()\n",
    " .plot(x='line', \n",
    "       kind='bar', \n",
    "       title='Delays by Subway Line, 2021'))"
   ]
  },
  {
   "cell_type": "markdown",
   "id": "8a878479",
   "metadata": {
    "slideshow": {
     "slide_type": "slide"
    }
   },
   "source": [
    "## Practice"
   ]
  },
  {
   "cell_type": "markdown",
   "id": "8f62e572",
   "metadata": {
    "slideshow": {
     "slide_type": "subslide"
    }
   },
   "source": [
    "* Sum up and plot the total delay time, in hours, by line.\n",
    "* Re-create `delay_summary`, but group by date and line this time. Add an additional aggregation column.\n",
    "  * Experiment with the `unstack()` and `reset_index()` methods. Try passing in 0 or 1 as an argument. How does `delay_summary` change?"
   ]
  },
  {
   "cell_type": "code",
   "execution_count": 56,
   "id": "7b47be79",
   "metadata": {
    "slideshow": {
     "slide_type": "skip"
    }
   },
   "outputs": [
    {
     "data": {
      "text/plain": [
       "<AxesSubplot:xlabel='line'>"
      ]
     },
     "execution_count": 56,
     "metadata": {},
     "output_type": "execute_result"
    },
    {
     "data": {
      "image/png": "[encoded data removed]",
      "text/plain": [
       "<Figure size 432x288 with 1 Axes>"
      ]
     },
     "metadata": {
      "needs_background": "light"
     },
     "output_type": "display_data"
    }
   ],
   "source": [
    "(delays_w_reasons\n",
    " .groupby('line')['min_delay']\n",
    " .sum()\n",
    " .plot(x='line', kind='bar'))"
   ]
  },
  {
   "cell_type": "markdown",
   "id": "ab74a77e",
   "metadata": {
    "slideshow": {
     "slide_type": "slide"
    }
   },
   "source": [
    "# Writing to file"
   ]
  },
  {
   "cell_type": "markdown",
   "id": "7979702c",
   "metadata": {
    "slideshow": {
     "slide_type": "slide"
    }
   },
   "source": [
    "## Exporting DataFrames\n",
    "\n",
    "DataFrames have `to_[file format]()` methods, analagous to `pandas` read functions. The counterpart to `pd.read_csv()`, for instance, is `DataFrame.to_csv()`. The export methods generally take a file path to save to as their first argument. Additional arguments vary a bit by export format, but `index` is a common useful one. It takes a boolean of whether to write the index to file -- set it to `False` if the index is the numbered default. \n",
    "\n",
    "Two additional useful parameters in `DataFrame.to_csv()` and `DataFrame.to_excel()` are `na_rep`, which takes a string to use for null values, and `columns`, which lets us write out a subset of columns."
   ]
  },
  {
   "cell_type": "code",
   "execution_count": 57,
   "id": "91f7c8f3",
   "metadata": {
    "slideshow": {
     "slide_type": "fragment"
    }
   },
   "outputs": [],
   "source": [
    "# write delays_w_reasons to an Excel file\n",
    "delays_w_reasons.to_excel('ttc_subway_delays_w_reasons.xlsx', index=False)"
   ]
  },
  {
   "cell_type": "markdown",
   "id": "ea83644d",
   "metadata": {
    "slideshow": {
     "slide_type": "slide"
    }
   },
   "source": [
    "# More wrangling"
   ]
  },
  {
   "cell_type": "markdown",
   "id": "72e9148c",
   "metadata": {
    "slideshow": {
     "slide_type": "slide"
    }
   },
   "source": [
    "## Neighbourhood Profiles\n",
    "\n",
    "The bike theft data includes neighbourhood identifiers. These neighbourhoods are designated by City of Toronto, which publishes neighbourhood demographic profiles. Let's get this data to start investigating if neighbourhoods with more bike theft reports simply have higher populations. In the process, we will reinforce what we learned so far. We will also learn about two last ways to reshape data: `melt()`, which rearranges data from a wide format to a long format; and `pivot()`, which reorganizes data based on index and column values."
   ]
  },
  {
   "cell_type": "markdown",
   "id": "b1b005de",
   "metadata": {
    "slideshow": {
     "slide_type": "slide"
    }
   },
   "source": [
    "## Getting data\n",
    "\n",
    "Let's load the neighbourhood data and explore it."
   ]
  },
  {
   "cell_type": "code",
   "execution_count": 58,
   "id": "404dd51a",
   "metadata": {
    "slideshow": {
     "slide_type": "fragment"
    }
   },
   "outputs": [],
   "source": [
    "profiles = pd.read_csv('../data/neighbourhood-profiles-2016-140-model.csv')"
   ]
  },
  {
   "cell_type": "code",
   "execution_count": 59,
   "id": "0ca65148",
   "metadata": {
    "slideshow": {
     "slide_type": "fragment"
    }
   },
   "outputs": [
    {
     "data": {
      "text/plain": [
       "(2383, 146)"
      ]
     },
     "execution_count": 59,
     "metadata": {},
     "output_type": "execute_result"
    }
   ],
   "source": [
    "profiles.shape"
   ]
  },
  {
   "cell_type": "markdown",
   "id": "83df3ffa",
   "metadata": {
    "slideshow": {
     "slide_type": "slide"
    }
   },
   "source": [
    "The neighbourhood profiles are in an unusual format. Neighbourhood names are in the columns, while attribute fields are rows, and there are thousands of attributes."
   ]
  },
  {
   "cell_type": "code",
   "execution_count": 60,
   "id": "c1cb68c4",
   "metadata": {
    "slideshow": {
     "slide_type": "fragment"
    }
   },
   "outputs": [
    {
     "data": {
      "text/html": [
       "<div>\n",
       "<style scoped>\n",
       "    .dataframe tbody tr th:only-of-type {\n",
       "        vertical-align: middle;\n",
       "    }\n",
       "\n",
       "    .dataframe tbody tr th {\n",
       "        vertical-align: top;\n",
       "    }\n",
       "\n",
       "    .dataframe thead th {\n",
       "        text-align: right;\n",
       "    }\n",
       "</style>\n",
       "<table border=\"1\" class=\"dataframe\">\n",
       "  <thead>\n",
       "    <tr style=\"text-align: right;\">\n",
       "      <th></th>\n",
       "      <th>_id</th>\n",
       "      <th>Category</th>\n",
       "      <th>Topic</th>\n",
       "      <th>Data Source</th>\n",
       "      <th>Characteristic</th>\n",
       "      <th>City of Toronto</th>\n",
       "      <th>Agincourt North</th>\n",
       "      <th>Agincourt South-Malvern West</th>\n",
       "      <th>Alderwood</th>\n",
       "      <th>Annex</th>\n",
       "      <th>Banbury-Don Mills</th>\n",
       "      <th>Bathurst Manor</th>\n",
       "      <th>Bay Street Corridor</th>\n",
       "      <th>Bayview Village</th>\n",
       "      <th>Bayview Woods-Steeles</th>\n",
       "      <th>Bedford Park-Nortown</th>\n",
       "      <th>Beechborough-Greenbrook</th>\n",
       "      <th>Bendale</th>\n",
       "      <th>Birchcliffe-Cliffside</th>\n",
       "      <th>Black Creek</th>\n",
       "      <th>Blake-Jones</th>\n",
       "      <th>Briar Hill-Belgravia</th>\n",
       "      <th>Bridle Path-Sunnybrook-York Mills</th>\n",
       "      <th>Broadview North</th>\n",
       "      <th>Brookhaven-Amesbury</th>\n",
       "      <th>Cabbagetown-South St. James Town</th>\n",
       "      <th>Caledonia-Fairbank</th>\n",
       "      <th>Casa Loma</th>\n",
       "      <th>Centennial Scarborough</th>\n",
       "      <th>Church-Yonge Corridor</th>\n",
       "      <th>Clairlea-Birchmount</th>\n",
       "      <th>Clanton Park</th>\n",
       "      <th>Cliffcrest</th>\n",
       "      <th>Corso Italia-Davenport</th>\n",
       "      <th>Danforth</th>\n",
       "      <th>Danforth East York</th>\n",
       "      <th>Don Valley Village</th>\n",
       "      <th>Dorset Park</th>\n",
       "      <th>Dovercourt-Wallace Emerson-Junction</th>\n",
       "      <th>Downsview-Roding-CFB</th>\n",
       "      <th>Dufferin Grove</th>\n",
       "      <th>East End-Danforth</th>\n",
       "      <th>Edenbridge-Humber Valley</th>\n",
       "      <th>Eglinton East</th>\n",
       "      <th>Elms-Old Rexdale</th>\n",
       "      <th>Englemount-Lawrence</th>\n",
       "      <th>Eringate-Centennial-West Deane</th>\n",
       "      <th>Etobicoke West Mall</th>\n",
       "      <th>Flemingdon Park</th>\n",
       "      <th>Forest Hill North</th>\n",
       "      <th>Forest Hill South</th>\n",
       "      <th>Glenfield-Jane Heights</th>\n",
       "      <th>Greenwood-Coxwell</th>\n",
       "      <th>Guildwood</th>\n",
       "      <th>Henry Farm</th>\n",
       "      <th>High Park North</th>\n",
       "      <th>High Park-Swansea</th>\n",
       "      <th>Highland Creek</th>\n",
       "      <th>Hillcrest Village</th>\n",
       "      <th>Humber Heights-Westmount</th>\n",
       "      <th>Humber Summit</th>\n",
       "      <th>Humbermede</th>\n",
       "      <th>Humewood-Cedarvale</th>\n",
       "      <th>Ionview</th>\n",
       "      <th>Islington-City Centre West</th>\n",
       "      <th>Junction Area</th>\n",
       "      <th>Keelesdale-Eglinton West</th>\n",
       "      <th>Kennedy Park</th>\n",
       "      <th>Kensington-Chinatown</th>\n",
       "      <th>Kingsview Village-The Westway</th>\n",
       "      <th>Kingsway South</th>\n",
       "      <th>Lambton Baby Point</th>\n",
       "      <th>L'Amoreaux</th>\n",
       "      <th>Lansing-Westgate</th>\n",
       "      <th>Lawrence Park North</th>\n",
       "      <th>Lawrence Park South</th>\n",
       "      <th>Leaside-Bennington</th>\n",
       "      <th>Little Portugal</th>\n",
       "      <th>Long Branch</th>\n",
       "      <th>Malvern</th>\n",
       "      <th>Maple Leaf</th>\n",
       "      <th>Markland Wood</th>\n",
       "      <th>Milliken</th>\n",
       "      <th>Mimico (includes Humber Bay Shores)</th>\n",
       "      <th>Morningside</th>\n",
       "      <th>Moss Park</th>\n",
       "      <th>Mount Dennis</th>\n",
       "      <th>Mount Olive-Silverstone-Jamestown</th>\n",
       "      <th>Mount Pleasant East</th>\n",
       "      <th>Mount Pleasant West</th>\n",
       "      <th>New Toronto</th>\n",
       "      <th>Newtonbrook East</th>\n",
       "      <th>Newtonbrook West</th>\n",
       "      <th>Niagara</th>\n",
       "      <th>North Riverdale</th>\n",
       "      <th>North St. James Town</th>\n",
       "      <th>Oakridge</th>\n",
       "      <th>Oakwood Village</th>\n",
       "      <th>O'Connor-Parkview</th>\n",
       "      <th>Old East York</th>\n",
       "      <th>Palmerston-Little Italy</th>\n",
       "      <th>Parkwoods-Donalda</th>\n",
       "      <th>Pelmo Park-Humberlea</th>\n",
       "      <th>Playter Estates-Danforth</th>\n",
       "      <th>Pleasant View</th>\n",
       "      <th>Princess-Rosethorn</th>\n",
       "      <th>Regent Park</th>\n",
       "      <th>Rexdale-Kipling</th>\n",
       "      <th>Rockcliffe-Smythe</th>\n",
       "      <th>Roncesvalles</th>\n",
       "      <th>Rosedale-Moore Park</th>\n",
       "      <th>Rouge</th>\n",
       "      <th>Runnymede-Bloor West Village</th>\n",
       "      <th>Rustic</th>\n",
       "      <th>Scarborough Village</th>\n",
       "      <th>South Parkdale</th>\n",
       "      <th>South Riverdale</th>\n",
       "      <th>St.Andrew-Windfields</th>\n",
       "      <th>Steeles</th>\n",
       "      <th>Stonegate-Queensway</th>\n",
       "      <th>Tam O'Shanter-Sullivan</th>\n",
       "      <th>Taylor-Massey</th>\n",
       "      <th>The Beaches</th>\n",
       "      <th>Thistletown-Beaumond Heights</th>\n",
       "      <th>Thorncliffe Park</th>\n",
       "      <th>Trinity-Bellwoods</th>\n",
       "      <th>University</th>\n",
       "      <th>Victoria Village</th>\n",
       "      <th>Waterfront Communities-The Island</th>\n",
       "      <th>West Hill</th>\n",
       "      <th>West Humber-Clairville</th>\n",
       "      <th>Westminster-Branson</th>\n",
       "      <th>Weston</th>\n",
       "      <th>Weston-Pelham Park</th>\n",
       "      <th>Wexford/Maryvale</th>\n",
       "      <th>Willowdale East</th>\n",
       "      <th>Willowdale West</th>\n",
       "      <th>Willowridge-Martingrove-Richview</th>\n",
       "      <th>Woburn</th>\n",
       "      <th>Woodbine Corridor</th>\n",
       "      <th>Woodbine-Lumsden</th>\n",
       "      <th>Wychwood</th>\n",
       "      <th>Yonge-Eglinton</th>\n",
       "      <th>Yonge-St.Clair</th>\n",
       "      <th>York University Heights</th>\n",
       "      <th>Yorkdale-Glen Park</th>\n",
       "    </tr>\n",
       "  </thead>\n",
       "  <tbody>\n",
       "    <tr>\n",
       "      <th>0</th>\n",
       "      <td>1</td>\n",
       "      <td>Neighbourhood Information</td>\n",
       "      <td>Neighbourhood Information</td>\n",
       "      <td>City of Toronto</td>\n",
       "      <td>Neighbourhood Number</td>\n",
       "      <td>NaN</td>\n",
       "      <td>129</td>\n",
       "      <td>128</td>\n",
       "      <td>20</td>\n",
       "      <td>95</td>\n",
       "      <td>42</td>\n",
       "      <td>34</td>\n",
       "      <td>76</td>\n",
       "      <td>52</td>\n",
       "      <td>49</td>\n",
       "      <td>39</td>\n",
       "      <td>112</td>\n",
       "      <td>127</td>\n",
       "      <td>122</td>\n",
       "      <td>24</td>\n",
       "      <td>69</td>\n",
       "      <td>108</td>\n",
       "      <td>41</td>\n",
       "      <td>57</td>\n",
       "      <td>30</td>\n",
       "      <td>71</td>\n",
       "      <td>109</td>\n",
       "      <td>96</td>\n",
       "      <td>133</td>\n",
       "      <td>75</td>\n",
       "      <td>120</td>\n",
       "      <td>33</td>\n",
       "      <td>123</td>\n",
       "      <td>92</td>\n",
       "      <td>66</td>\n",
       "      <td>59</td>\n",
       "      <td>47</td>\n",
       "      <td>126</td>\n",
       "      <td>93</td>\n",
       "      <td>26</td>\n",
       "      <td>83</td>\n",
       "      <td>62</td>\n",
       "      <td>9</td>\n",
       "      <td>138</td>\n",
       "      <td>5</td>\n",
       "      <td>32</td>\n",
       "      <td>11</td>\n",
       "      <td>13</td>\n",
       "      <td>44</td>\n",
       "      <td>102</td>\n",
       "      <td>101</td>\n",
       "      <td>25</td>\n",
       "      <td>65</td>\n",
       "      <td>140</td>\n",
       "      <td>53</td>\n",
       "      <td>88</td>\n",
       "      <td>87</td>\n",
       "      <td>134</td>\n",
       "      <td>48</td>\n",
       "      <td>8</td>\n",
       "      <td>21</td>\n",
       "      <td>22</td>\n",
       "      <td>106</td>\n",
       "      <td>125</td>\n",
       "      <td>14</td>\n",
       "      <td>90</td>\n",
       "      <td>110</td>\n",
       "      <td>124</td>\n",
       "      <td>78</td>\n",
       "      <td>6</td>\n",
       "      <td>15</td>\n",
       "      <td>114</td>\n",
       "      <td>117</td>\n",
       "      <td>38</td>\n",
       "      <td>105</td>\n",
       "      <td>103</td>\n",
       "      <td>56</td>\n",
       "      <td>84</td>\n",
       "      <td>19</td>\n",
       "      <td>132</td>\n",
       "      <td>29</td>\n",
       "      <td>12</td>\n",
       "      <td>130</td>\n",
       "      <td>17</td>\n",
       "      <td>135</td>\n",
       "      <td>73</td>\n",
       "      <td>115</td>\n",
       "      <td>2</td>\n",
       "      <td>99</td>\n",
       "      <td>104</td>\n",
       "      <td>18</td>\n",
       "      <td>50</td>\n",
       "      <td>36</td>\n",
       "      <td>82</td>\n",
       "      <td>68</td>\n",
       "      <td>74</td>\n",
       "      <td>121</td>\n",
       "      <td>107</td>\n",
       "      <td>54</td>\n",
       "      <td>58</td>\n",
       "      <td>80</td>\n",
       "      <td>45</td>\n",
       "      <td>23</td>\n",
       "      <td>67</td>\n",
       "      <td>46</td>\n",
       "      <td>10</td>\n",
       "      <td>72</td>\n",
       "      <td>4</td>\n",
       "      <td>111</td>\n",
       "      <td>86</td>\n",
       "      <td>98</td>\n",
       "      <td>131</td>\n",
       "      <td>89</td>\n",
       "      <td>28</td>\n",
       "      <td>139</td>\n",
       "      <td>85</td>\n",
       "      <td>70</td>\n",
       "      <td>40</td>\n",
       "      <td>116</td>\n",
       "      <td>16</td>\n",
       "      <td>118</td>\n",
       "      <td>61</td>\n",
       "      <td>63</td>\n",
       "      <td>3</td>\n",
       "      <td>55</td>\n",
       "      <td>81</td>\n",
       "      <td>79</td>\n",
       "      <td>43</td>\n",
       "      <td>77</td>\n",
       "      <td>136</td>\n",
       "      <td>1</td>\n",
       "      <td>35</td>\n",
       "      <td>113</td>\n",
       "      <td>91</td>\n",
       "      <td>119</td>\n",
       "      <td>51</td>\n",
       "      <td>37</td>\n",
       "      <td>7</td>\n",
       "      <td>137</td>\n",
       "      <td>64</td>\n",
       "      <td>60</td>\n",
       "      <td>94</td>\n",
       "      <td>100</td>\n",
       "      <td>97</td>\n",
       "      <td>27</td>\n",
       "      <td>31</td>\n",
       "    </tr>\n",
       "    <tr>\n",
       "      <th>1</th>\n",
       "      <td>2</td>\n",
       "      <td>Neighbourhood Information</td>\n",
       "      <td>Neighbourhood Information</td>\n",
       "      <td>City of Toronto</td>\n",
       "      <td>TSNS2020 Designation</td>\n",
       "      <td>NaN</td>\n",
       "      <td>No Designation</td>\n",
       "      <td>No Designation</td>\n",
       "      <td>No Designation</td>\n",
       "      <td>No Designation</td>\n",
       "      <td>No Designation</td>\n",
       "      <td>No Designation</td>\n",
       "      <td>No Designation</td>\n",
       "      <td>No Designation</td>\n",
       "      <td>No Designation</td>\n",
       "      <td>No Designation</td>\n",
       "      <td>NIA</td>\n",
       "      <td>No Designation</td>\n",
       "      <td>No Designation</td>\n",
       "      <td>NIA</td>\n",
       "      <td>No Designation</td>\n",
       "      <td>No Designation</td>\n",
       "      <td>No Designation</td>\n",
       "      <td>No Designation</td>\n",
       "      <td>No Designation</td>\n",
       "      <td>No Designation</td>\n",
       "      <td>No Designation</td>\n",
       "      <td>No Designation</td>\n",
       "      <td>No Designation</td>\n",
       "      <td>No Designation</td>\n",
       "      <td>No Designation</td>\n",
       "      <td>No Designation</td>\n",
       "      <td>No Designation</td>\n",
       "      <td>No Designation</td>\n",
       "      <td>No Designation</td>\n",
       "      <td>No Designation</td>\n",
       "      <td>No Designation</td>\n",
       "      <td>Emerging Neighbourhood</td>\n",
       "      <td>No Designation</td>\n",
       "      <td>NIA</td>\n",
       "      <td>No Designation</td>\n",
       "      <td>No Designation</td>\n",
       "      <td>No Designation</td>\n",
       "      <td>NIA</td>\n",
       "      <td>NIA</td>\n",
       "      <td>Emerging Neighbourhood</td>\n",
       "      <td>No Designation</td>\n",
       "      <td>No Designation</td>\n",
       "      <td>NIA</td>\n",
       "      <td>No Designation</td>\n",
       "      <td>No Designation</td>\n",
       "      <td>NIA</td>\n",
       "      <td>No Designation</td>\n",
       "      <td>No Designation</td>\n",
       "      <td>No Designation</td>\n",
       "      <td>No Designation</td>\n",
       "      <td>No Designation</td>\n",
       "      <td>No Designation</td>\n",
       "      <td>No Designation</td>\n",
       "      <td>Emerging Neighbourhood</td>\n",
       "      <td>NIA</td>\n",
       "      <td>NIA</td>\n",
       "      <td>No Designation</td>\n",
       "      <td>NIA</td>\n",
       "      <td>No Designation</td>\n",
       "      <td>No Designation</td>\n",
       "      <td>NIA</td>\n",
       "      <td>NIA</td>\n",
       "      <td>No Designation</td>\n",
       "      <td>NIA</td>\n",
       "      <td>No Designation</td>\n",
       "      <td>No Designation</td>\n",
       "      <td>Emerging Neighbourhood</td>\n",
       "      <td>No Designation</td>\n",
       "      <td>No Designation</td>\n",
       "      <td>No Designation</td>\n",
       "      <td>No Designation</td>\n",
       "      <td>No Designation</td>\n",
       "      <td>No Designation</td>\n",
       "      <td>Emerging Neighbourhood</td>\n",
       "      <td>No Designation</td>\n",
       "      <td>No Designation</td>\n",
       "      <td>No Designation</td>\n",
       "      <td>No Designation</td>\n",
       "      <td>NIA</td>\n",
       "      <td>No Designation</td>\n",
       "      <td>NIA</td>\n",
       "      <td>NIA</td>\n",
       "      <td>No Designation</td>\n",
       "      <td>No Designation</td>\n",
       "      <td>No Designation</td>\n",
       "      <td>No Designation</td>\n",
       "      <td>No Designation</td>\n",
       "      <td>No Designation</td>\n",
       "      <td>No Designation</td>\n",
       "      <td>No Designation</td>\n",
       "      <td>NIA</td>\n",
       "      <td>No Designation</td>\n",
       "      <td>No Designation</td>\n",
       "      <td>No Designation</td>\n",
       "      <td>No Designation</td>\n",
       "      <td>No Designation</td>\n",
       "      <td>No Designation</td>\n",
       "      <td>No Designation</td>\n",
       "      <td>No Designation</td>\n",
       "      <td>No Designation</td>\n",
       "      <td>NIA</td>\n",
       "      <td>No Designation</td>\n",
       "      <td>NIA</td>\n",
       "      <td>No Designation</td>\n",
       "      <td>No Designation</td>\n",
       "      <td>No Designation</td>\n",
       "      <td>No Designation</td>\n",
       "      <td>NIA</td>\n",
       "      <td>NIA</td>\n",
       "      <td>NIA</td>\n",
       "      <td>No Designation</td>\n",
       "      <td>No Designation</td>\n",
       "      <td>Emerging Neighbourhood</td>\n",
       "      <td>No Designation</td>\n",
       "      <td>No Designation</td>\n",
       "      <td>NIA</td>\n",
       "      <td>No Designation</td>\n",
       "      <td>NIA</td>\n",
       "      <td>NIA</td>\n",
       "      <td>No Designation</td>\n",
       "      <td>No Designation</td>\n",
       "      <td>NIA</td>\n",
       "      <td>No Designation</td>\n",
       "      <td>NIA</td>\n",
       "      <td>No Designation</td>\n",
       "      <td>Emerging Neighbourhood</td>\n",
       "      <td>NIA</td>\n",
       "      <td>NIA</td>\n",
       "      <td>No Designation</td>\n",
       "      <td>No Designation</td>\n",
       "      <td>No Designation</td>\n",
       "      <td>No Designation</td>\n",
       "      <td>NIA</td>\n",
       "      <td>No Designation</td>\n",
       "      <td>No Designation</td>\n",
       "      <td>No Designation</td>\n",
       "      <td>No Designation</td>\n",
       "      <td>No Designation</td>\n",
       "      <td>NIA</td>\n",
       "      <td>Emerging Neighbourhood</td>\n",
       "    </tr>\n",
       "    <tr>\n",
       "      <th>2</th>\n",
       "      <td>3</td>\n",
       "      <td>Population</td>\n",
       "      <td>Population and dwellings</td>\n",
       "      <td>Census Profile 98-316-X2016001</td>\n",
       "      <td>Population, 2016</td>\n",
       "      <td>2,731,571</td>\n",
       "      <td>29,113</td>\n",
       "      <td>23,757</td>\n",
       "      <td>12,054</td>\n",
       "      <td>30,526</td>\n",
       "      <td>27,695</td>\n",
       "      <td>15,873</td>\n",
       "      <td>25,797</td>\n",
       "      <td>21,396</td>\n",
       "      <td>13,154</td>\n",
       "      <td>23,236</td>\n",
       "      <td>6,577</td>\n",
       "      <td>29,960</td>\n",
       "      <td>22,291</td>\n",
       "      <td>21,737</td>\n",
       "      <td>7,727</td>\n",
       "      <td>14,257</td>\n",
       "      <td>9,266</td>\n",
       "      <td>11,499</td>\n",
       "      <td>17,757</td>\n",
       "      <td>11,669</td>\n",
       "      <td>9,955</td>\n",
       "      <td>10,968</td>\n",
       "      <td>13,362</td>\n",
       "      <td>31,340</td>\n",
       "      <td>26,984</td>\n",
       "      <td>16,472</td>\n",
       "      <td>15,935</td>\n",
       "      <td>14,133</td>\n",
       "      <td>9,666</td>\n",
       "      <td>17,180</td>\n",
       "      <td>27,051</td>\n",
       "      <td>25,003</td>\n",
       "      <td>36,625</td>\n",
       "      <td>35,052</td>\n",
       "      <td>11,785</td>\n",
       "      <td>21,381</td>\n",
       "      <td>15,535</td>\n",
       "      <td>22,776</td>\n",
       "      <td>9,456</td>\n",
       "      <td>22,372</td>\n",
       "      <td>18,588</td>\n",
       "      <td>11,848</td>\n",
       "      <td>21,933</td>\n",
       "      <td>12,806</td>\n",
       "      <td>10,732</td>\n",
       "      <td>30,491</td>\n",
       "      <td>14,417</td>\n",
       "      <td>9,917</td>\n",
       "      <td>15,723</td>\n",
       "      <td>22,162</td>\n",
       "      <td>23,925</td>\n",
       "      <td>12,494</td>\n",
       "      <td>16,934</td>\n",
       "      <td>10,948</td>\n",
       "      <td>12,416</td>\n",
       "      <td>15,545</td>\n",
       "      <td>14,365</td>\n",
       "      <td>13,641</td>\n",
       "      <td>43,965</td>\n",
       "      <td>14,366</td>\n",
       "      <td>11,058</td>\n",
       "      <td>17,123</td>\n",
       "      <td>17,945</td>\n",
       "      <td>22,000</td>\n",
       "      <td>9,271</td>\n",
       "      <td>7,985</td>\n",
       "      <td>43,993</td>\n",
       "      <td>16,164</td>\n",
       "      <td>14,607</td>\n",
       "      <td>15,179</td>\n",
       "      <td>16,828</td>\n",
       "      <td>15,559</td>\n",
       "      <td>10,084</td>\n",
       "      <td>43,794</td>\n",
       "      <td>10,111</td>\n",
       "      <td>10,554</td>\n",
       "      <td>26,572</td>\n",
       "      <td>33,964</td>\n",
       "      <td>17,455</td>\n",
       "      <td>20,506</td>\n",
       "      <td>13,593</td>\n",
       "      <td>32,954</td>\n",
       "      <td>16,775</td>\n",
       "      <td>29,658</td>\n",
       "      <td>11,463</td>\n",
       "      <td>16,097</td>\n",
       "      <td>23,831</td>\n",
       "      <td>31,180</td>\n",
       "      <td>11,916</td>\n",
       "      <td>18,615</td>\n",
       "      <td>13,845</td>\n",
       "      <td>21,210</td>\n",
       "      <td>18,675</td>\n",
       "      <td>9,233</td>\n",
       "      <td>13,826</td>\n",
       "      <td>34,805</td>\n",
       "      <td>10,722</td>\n",
       "      <td>7,804</td>\n",
       "      <td>15,818</td>\n",
       "      <td>11,051</td>\n",
       "      <td>10,803</td>\n",
       "      <td>10,529</td>\n",
       "      <td>22,246</td>\n",
       "      <td>14,974</td>\n",
       "      <td>20,923</td>\n",
       "      <td>46,496</td>\n",
       "      <td>10,070</td>\n",
       "      <td>9,941</td>\n",
       "      <td>16,724</td>\n",
       "      <td>21,849</td>\n",
       "      <td>27,876</td>\n",
       "      <td>17,812</td>\n",
       "      <td>24,623</td>\n",
       "      <td>25,051</td>\n",
       "      <td>27,446</td>\n",
       "      <td>15,683</td>\n",
       "      <td>21,567</td>\n",
       "      <td>10,360</td>\n",
       "      <td>21,108</td>\n",
       "      <td>16,556</td>\n",
       "      <td>7,607</td>\n",
       "      <td>17,510</td>\n",
       "      <td>65,913</td>\n",
       "      <td>27,392</td>\n",
       "      <td>33,312</td>\n",
       "      <td>26,274</td>\n",
       "      <td>17,992</td>\n",
       "      <td>11,098</td>\n",
       "      <td>27,917</td>\n",
       "      <td>50,434</td>\n",
       "      <td>16,936</td>\n",
       "      <td>22,156</td>\n",
       "      <td>53,485</td>\n",
       "      <td>12,541</td>\n",
       "      <td>7,865</td>\n",
       "      <td>14,349</td>\n",
       "      <td>11,817</td>\n",
       "      <td>12,528</td>\n",
       "      <td>27,593</td>\n",
       "      <td>14,804</td>\n",
       "    </tr>\n",
       "    <tr>\n",
       "      <th>3</th>\n",
       "      <td>4</td>\n",
       "      <td>Population</td>\n",
       "      <td>Population and dwellings</td>\n",
       "      <td>Census Profile 98-316-X2016001</td>\n",
       "      <td>Population, 2011</td>\n",
       "      <td>2,615,060</td>\n",
       "      <td>30,279</td>\n",
       "      <td>21,988</td>\n",
       "      <td>11,904</td>\n",
       "      <td>29,177</td>\n",
       "      <td>26,918</td>\n",
       "      <td>15,434</td>\n",
       "      <td>19,348</td>\n",
       "      <td>17,671</td>\n",
       "      <td>13,530</td>\n",
       "      <td>23,185</td>\n",
       "      <td>6,488</td>\n",
       "      <td>27,876</td>\n",
       "      <td>21,856</td>\n",
       "      <td>22,057</td>\n",
       "      <td>7,763</td>\n",
       "      <td>14,302</td>\n",
       "      <td>8,713</td>\n",
       "      <td>11,563</td>\n",
       "      <td>17,787</td>\n",
       "      <td>12,053</td>\n",
       "      <td>9,851</td>\n",
       "      <td>10,487</td>\n",
       "      <td>13,093</td>\n",
       "      <td>28,349</td>\n",
       "      <td>24,770</td>\n",
       "      <td>14,612</td>\n",
       "      <td>15,703</td>\n",
       "      <td>13,743</td>\n",
       "      <td>9,444</td>\n",
       "      <td>16,712</td>\n",
       "      <td>26,739</td>\n",
       "      <td>24,363</td>\n",
       "      <td>34,631</td>\n",
       "      <td>34,659</td>\n",
       "      <td>11,449</td>\n",
       "      <td>20,839</td>\n",
       "      <td>14,943</td>\n",
       "      <td>22,829</td>\n",
       "      <td>9,550</td>\n",
       "      <td>22,086</td>\n",
       "      <td>18,810</td>\n",
       "      <td>10,927</td>\n",
       "      <td>22,168</td>\n",
       "      <td>12,474</td>\n",
       "      <td>10,926</td>\n",
       "      <td>31,390</td>\n",
       "      <td>14,083</td>\n",
       "      <td>9,816</td>\n",
       "      <td>11,333</td>\n",
       "      <td>21,292</td>\n",
       "      <td>21,740</td>\n",
       "      <td>13,097</td>\n",
       "      <td>17,656</td>\n",
       "      <td>10,583</td>\n",
       "      <td>12,525</td>\n",
       "      <td>15,853</td>\n",
       "      <td>14,108</td>\n",
       "      <td>13,091</td>\n",
       "      <td>38,084</td>\n",
       "      <td>14,027</td>\n",
       "      <td>10,638</td>\n",
       "      <td>17,058</td>\n",
       "      <td>18,495</td>\n",
       "      <td>21,723</td>\n",
       "      <td>9,170</td>\n",
       "      <td>7,921</td>\n",
       "      <td>44,919</td>\n",
       "      <td>14,642</td>\n",
       "      <td>14,541</td>\n",
       "      <td>15,070</td>\n",
       "      <td>17,011</td>\n",
       "      <td>12,050</td>\n",
       "      <td>9,632</td>\n",
       "      <td>45,086</td>\n",
       "      <td>10,197</td>\n",
       "      <td>10,436</td>\n",
       "      <td>27,167</td>\n",
       "      <td>26,541</td>\n",
       "      <td>17,587</td>\n",
       "      <td>16,306</td>\n",
       "      <td>13,145</td>\n",
       "      <td>32,788</td>\n",
       "      <td>15,982</td>\n",
       "      <td>28,593</td>\n",
       "      <td>10,900</td>\n",
       "      <td>16,423</td>\n",
       "      <td>23,052</td>\n",
       "      <td>21,274</td>\n",
       "      <td>12,191</td>\n",
       "      <td>17,832</td>\n",
       "      <td>13,497</td>\n",
       "      <td>21,073</td>\n",
       "      <td>18,316</td>\n",
       "      <td>9,118</td>\n",
       "      <td>13,746</td>\n",
       "      <td>34,617</td>\n",
       "      <td>8,710</td>\n",
       "      <td>7,653</td>\n",
       "      <td>16,144</td>\n",
       "      <td>11,197</td>\n",
       "      <td>10,007</td>\n",
       "      <td>10,488</td>\n",
       "      <td>22,267</td>\n",
       "      <td>15,050</td>\n",
       "      <td>20,631</td>\n",
       "      <td>45,912</td>\n",
       "      <td>9,632</td>\n",
       "      <td>9,951</td>\n",
       "      <td>16,609</td>\n",
       "      <td>21,251</td>\n",
       "      <td>25,642</td>\n",
       "      <td>17,958</td>\n",
       "      <td>25,017</td>\n",
       "      <td>24,691</td>\n",
       "      <td>27,398</td>\n",
       "      <td>15,594</td>\n",
       "      <td>21,130</td>\n",
       "      <td>10,138</td>\n",
       "      <td>19,225</td>\n",
       "      <td>16,802</td>\n",
       "      <td>7,782</td>\n",
       "      <td>17,182</td>\n",
       "      <td>43,361</td>\n",
       "      <td>26,547</td>\n",
       "      <td>34,100</td>\n",
       "      <td>25,446</td>\n",
       "      <td>18,170</td>\n",
       "      <td>12,010</td>\n",
       "      <td>27,018</td>\n",
       "      <td>45,041</td>\n",
       "      <td>15,004</td>\n",
       "      <td>21,343</td>\n",
       "      <td>53,350</td>\n",
       "      <td>11,703</td>\n",
       "      <td>7,826</td>\n",
       "      <td>13,986</td>\n",
       "      <td>10,578</td>\n",
       "      <td>11,652</td>\n",
       "      <td>27,713</td>\n",
       "      <td>14,687</td>\n",
       "    </tr>\n",
       "    <tr>\n",
       "      <th>4</th>\n",
       "      <td>5</td>\n",
       "      <td>Population</td>\n",
       "      <td>Population and dwellings</td>\n",
       "      <td>Census Profile 98-316-X2016001</td>\n",
       "      <td>Population Change 2011-2016</td>\n",
       "      <td>4.50%</td>\n",
       "      <td>-3.90%</td>\n",
       "      <td>8.00%</td>\n",
       "      <td>1.30%</td>\n",
       "      <td>4.60%</td>\n",
       "      <td>2.90%</td>\n",
       "      <td>2.80%</td>\n",
       "      <td>33.30%</td>\n",
       "      <td>21.10%</td>\n",
       "      <td>-2.80%</td>\n",
       "      <td>0.20%</td>\n",
       "      <td>1.40%</td>\n",
       "      <td>7.50%</td>\n",
       "      <td>2.00%</td>\n",
       "      <td>-1.50%</td>\n",
       "      <td>-0.50%</td>\n",
       "      <td>-0.30%</td>\n",
       "      <td>6.30%</td>\n",
       "      <td>-0.60%</td>\n",
       "      <td>-0.20%</td>\n",
       "      <td>-3.20%</td>\n",
       "      <td>1.10%</td>\n",
       "      <td>4.60%</td>\n",
       "      <td>2.10%</td>\n",
       "      <td>10.60%</td>\n",
       "      <td>8.90%</td>\n",
       "      <td>12.70%</td>\n",
       "      <td>1.50%</td>\n",
       "      <td>2.80%</td>\n",
       "      <td>2.40%</td>\n",
       "      <td>2.80%</td>\n",
       "      <td>1.20%</td>\n",
       "      <td>2.60%</td>\n",
       "      <td>5.80%</td>\n",
       "      <td>1.10%</td>\n",
       "      <td>2.90%</td>\n",
       "      <td>2.60%</td>\n",
       "      <td>4.00%</td>\n",
       "      <td>-0.20%</td>\n",
       "      <td>-1.00%</td>\n",
       "      <td>1.30%</td>\n",
       "      <td>-1.20%</td>\n",
       "      <td>8.40%</td>\n",
       "      <td>-1.10%</td>\n",
       "      <td>2.70%</td>\n",
       "      <td>-1.80%</td>\n",
       "      <td>-2.90%</td>\n",
       "      <td>2.40%</td>\n",
       "      <td>1.00%</td>\n",
       "      <td>38.70%</td>\n",
       "      <td>4.10%</td>\n",
       "      <td>10.10%</td>\n",
       "      <td>-4.60%</td>\n",
       "      <td>-4.10%</td>\n",
       "      <td>3.40%</td>\n",
       "      <td>-0.90%</td>\n",
       "      <td>-1.90%</td>\n",
       "      <td>1.80%</td>\n",
       "      <td>4.20%</td>\n",
       "      <td>15.40%</td>\n",
       "      <td>2.40%</td>\n",
       "      <td>3.90%</td>\n",
       "      <td>0.40%</td>\n",
       "      <td>-3.00%</td>\n",
       "      <td>1.30%</td>\n",
       "      <td>1.10%</td>\n",
       "      <td>0.80%</td>\n",
       "      <td>-2.10%</td>\n",
       "      <td>10.40%</td>\n",
       "      <td>0.50%</td>\n",
       "      <td>0.70%</td>\n",
       "      <td>-1.10%</td>\n",
       "      <td>29.10%</td>\n",
       "      <td>4.70%</td>\n",
       "      <td>-2.90%</td>\n",
       "      <td>-0.80%</td>\n",
       "      <td>1.10%</td>\n",
       "      <td>-2.20%</td>\n",
       "      <td>28.00%</td>\n",
       "      <td>-0.80%</td>\n",
       "      <td>25.80%</td>\n",
       "      <td>3.40%</td>\n",
       "      <td>0.50%</td>\n",
       "      <td>5.00%</td>\n",
       "      <td>3.70%</td>\n",
       "      <td>5.20%</td>\n",
       "      <td>-2.00%</td>\n",
       "      <td>3.40%</td>\n",
       "      <td>46.60%</td>\n",
       "      <td>-2.30%</td>\n",
       "      <td>4.40%</td>\n",
       "      <td>2.60%</td>\n",
       "      <td>0.70%</td>\n",
       "      <td>2.00%</td>\n",
       "      <td>1.30%</td>\n",
       "      <td>0.60%</td>\n",
       "      <td>0.50%</td>\n",
       "      <td>23.10%</td>\n",
       "      <td>2.00%</td>\n",
       "      <td>-2.00%</td>\n",
       "      <td>-1.30%</td>\n",
       "      <td>8.00%</td>\n",
       "      <td>0.40%</td>\n",
       "      <td>-0.10%</td>\n",
       "      <td>-0.50%</td>\n",
       "      <td>1.40%</td>\n",
       "      <td>1.30%</td>\n",
       "      <td>4.50%</td>\n",
       "      <td>-0.10%</td>\n",
       "      <td>0.70%</td>\n",
       "      <td>2.80%</td>\n",
       "      <td>8.70%</td>\n",
       "      <td>-0.80%</td>\n",
       "      <td>-1.60%</td>\n",
       "      <td>1.50%</td>\n",
       "      <td>0.20%</td>\n",
       "      <td>0.60%</td>\n",
       "      <td>2.10%</td>\n",
       "      <td>2.20%</td>\n",
       "      <td>9.80%</td>\n",
       "      <td>-1.50%</td>\n",
       "      <td>-2.20%</td>\n",
       "      <td>1.90%</td>\n",
       "      <td>52.00%</td>\n",
       "      <td>3.20%</td>\n",
       "      <td>-2.30%</td>\n",
       "      <td>3.30%</td>\n",
       "      <td>-1.00%</td>\n",
       "      <td>-7.60%</td>\n",
       "      <td>3.30%</td>\n",
       "      <td>12.00%</td>\n",
       "      <td>12.90%</td>\n",
       "      <td>3.80%</td>\n",
       "      <td>0.30%</td>\n",
       "      <td>7.20%</td>\n",
       "      <td>0.50%</td>\n",
       "      <td>2.60%</td>\n",
       "      <td>11.70%</td>\n",
       "      <td>7.50%</td>\n",
       "      <td>-0.40%</td>\n",
       "      <td>0.80%</td>\n",
       "    </tr>\n",
       "  </tbody>\n",
       "</table>\n",
       "</div>"
      ],
      "text/plain": [
       "   _id                   Category                      Topic  \\\n",
       "0    1  Neighbourhood Information  Neighbourhood Information   \n",
       "1    2  Neighbourhood Information  Neighbourhood Information   \n",
       "2    3                 Population   Population and dwellings   \n",
       "3    4                 Population   Population and dwellings   \n",
       "4    5                 Population   Population and dwellings   \n",
       "\n",
       "                      Data Source               Characteristic  \\\n",
       "0                 City of Toronto         Neighbourhood Number   \n",
       "1                 City of Toronto         TSNS2020 Designation   \n",
       "2  Census Profile 98-316-X2016001             Population, 2016   \n",
       "3  Census Profile 98-316-X2016001             Population, 2011   \n",
       "4  Census Profile 98-316-X2016001  Population Change 2011-2016   \n",
       "\n",
       "  City of Toronto Agincourt North Agincourt South-Malvern West  \\\n",
       "0             NaN             129                          128   \n",
       "1             NaN  No Designation               No Designation   \n",
       "2       2,731,571          29,113                       23,757   \n",
       "3       2,615,060          30,279                       21,988   \n",
       "4           4.50%          -3.90%                        8.00%   \n",
       "\n",
       "        Alderwood           Annex Banbury-Don Mills  Bathurst Manor  \\\n",
       "0              20              95                42              34   \n",
       "1  No Designation  No Designation    No Designation  No Designation   \n",
       "2          12,054          30,526            27,695          15,873   \n",
       "3          11,904          29,177            26,918          15,434   \n",
       "4           1.30%           4.60%             2.90%           2.80%   \n",
       "\n",
       "  Bay Street Corridor Bayview Village Bayview Woods-Steeles  \\\n",
       "0                  76              52                    49   \n",
       "1      No Designation  No Designation        No Designation   \n",
       "2              25,797          21,396                13,154   \n",
       "3              19,348          17,671                13,530   \n",
       "4              33.30%          21.10%                -2.80%   \n",
       "\n",
       "  Bedford Park-Nortown Beechborough-Greenbrook         Bendale  \\\n",
       "0                   39                     112             127   \n",
       "1       No Designation                     NIA  No Designation   \n",
       "2               23,236                   6,577          29,960   \n",
       "3               23,185                   6,488          27,876   \n",
       "4                0.20%                   1.40%           7.50%   \n",
       "\n",
       "  Birchcliffe-Cliffside Black Creek     Blake-Jones Briar Hill-Belgravia  \\\n",
       "0                   122          24              69                  108   \n",
       "1        No Designation         NIA  No Designation       No Designation   \n",
       "2                22,291      21,737           7,727               14,257   \n",
       "3                21,856      22,057           7,763               14,302   \n",
       "4                 2.00%      -1.50%          -0.50%               -0.30%   \n",
       "\n",
       "  Bridle Path-Sunnybrook-York Mills Broadview North Brookhaven-Amesbury  \\\n",
       "0                                41              57                  30   \n",
       "1                    No Designation  No Designation      No Designation   \n",
       "2                             9,266          11,499              17,757   \n",
       "3                             8,713          11,563              17,787   \n",
       "4                             6.30%          -0.60%              -0.20%   \n",
       "\n",
       "  Cabbagetown-South St. James Town Caledonia-Fairbank       Casa Loma  \\\n",
       "0                               71                109              96   \n",
       "1                   No Designation     No Designation  No Designation   \n",
       "2                           11,669              9,955          10,968   \n",
       "3                           12,053              9,851          10,487   \n",
       "4                           -3.20%              1.10%           4.60%   \n",
       "\n",
       "  Centennial Scarborough Church-Yonge Corridor Clairlea-Birchmount  \\\n",
       "0                    133                    75                 120   \n",
       "1         No Designation        No Designation      No Designation   \n",
       "2                 13,362                31,340              26,984   \n",
       "3                 13,093                28,349              24,770   \n",
       "4                  2.10%                10.60%               8.90%   \n",
       "\n",
       "     Clanton Park      Cliffcrest Corso Italia-Davenport        Danforth  \\\n",
       "0              33             123                     92              66   \n",
       "1  No Designation  No Designation         No Designation  No Designation   \n",
       "2          16,472          15,935                 14,133           9,666   \n",
       "3          14,612          15,703                 13,743           9,444   \n",
       "4          12.70%           1.50%                  2.80%           2.40%   \n",
       "\n",
       "  Danforth East York Don Valley Village             Dorset Park  \\\n",
       "0                 59                 47                     126   \n",
       "1     No Designation     No Designation  Emerging Neighbourhood   \n",
       "2             17,180             27,051                  25,003   \n",
       "3             16,712             26,739                  24,363   \n",
       "4              2.80%              1.20%                   2.60%   \n",
       "\n",
       "  Dovercourt-Wallace Emerson-Junction Downsview-Roding-CFB  Dufferin Grove  \\\n",
       "0                                  93                   26              83   \n",
       "1                      No Designation                  NIA  No Designation   \n",
       "2                              36,625               35,052          11,785   \n",
       "3                              34,631               34,659          11,449   \n",
       "4                               5.80%                1.10%           2.90%   \n",
       "\n",
       "  East End-Danforth Edenbridge-Humber Valley Eglinton East Elms-Old Rexdale  \\\n",
       "0                62                        9           138                5   \n",
       "1    No Designation           No Designation           NIA              NIA   \n",
       "2            21,381                   15,535        22,776            9,456   \n",
       "3            20,839                   14,943        22,829            9,550   \n",
       "4             2.60%                    4.00%        -0.20%           -1.00%   \n",
       "\n",
       "      Englemount-Lawrence Eringate-Centennial-West Deane Etobicoke West Mall  \\\n",
       "0                      32                             11                  13   \n",
       "1  Emerging Neighbourhood                 No Designation      No Designation   \n",
       "2                  22,372                         18,588              11,848   \n",
       "3                  22,086                         18,810              10,927   \n",
       "4                   1.30%                         -1.20%               8.40%   \n",
       "\n",
       "  Flemingdon Park Forest Hill North Forest Hill South Glenfield-Jane Heights  \\\n",
       "0              44               102               101                     25   \n",
       "1             NIA    No Designation    No Designation                    NIA   \n",
       "2          21,933            12,806            10,732                 30,491   \n",
       "3          22,168            12,474            10,926                 31,390   \n",
       "4          -1.10%             2.70%            -1.80%                 -2.90%   \n",
       "\n",
       "  Greenwood-Coxwell       Guildwood      Henry Farm High Park North  \\\n",
       "0                65             140              53              88   \n",
       "1    No Designation  No Designation  No Designation  No Designation   \n",
       "2            14,417           9,917          15,723          22,162   \n",
       "3            14,083           9,816          11,333          21,292   \n",
       "4             2.40%           1.00%          38.70%           4.10%   \n",
       "\n",
       "  High Park-Swansea  Highland Creek Hillcrest Village  \\\n",
       "0                87             134                48   \n",
       "1    No Designation  No Designation    No Designation   \n",
       "2            23,925          12,494            16,934   \n",
       "3            21,740          13,097            17,656   \n",
       "4            10.10%          -4.60%            -4.10%   \n",
       "\n",
       "  Humber Heights-Westmount Humber Summit Humbermede Humewood-Cedarvale  \\\n",
       "0                        8            21         22                106   \n",
       "1   Emerging Neighbourhood           NIA        NIA     No Designation   \n",
       "2                   10,948        12,416     15,545             14,365   \n",
       "3                   10,583        12,525     15,853             14,108   \n",
       "4                    3.40%        -0.90%     -1.90%              1.80%   \n",
       "\n",
       "  Ionview Islington-City Centre West   Junction Area Keelesdale-Eglinton West  \\\n",
       "0     125                         14              90                      110   \n",
       "1     NIA             No Designation  No Designation                      NIA   \n",
       "2  13,641                     43,965          14,366                   11,058   \n",
       "3  13,091                     38,084          14,027                   10,638   \n",
       "4   4.20%                     15.40%           2.40%                    3.90%   \n",
       "\n",
       "  Kennedy Park Kensington-Chinatown Kingsview Village-The Westway  \\\n",
       "0          124                   78                             6   \n",
       "1          NIA       No Designation                           NIA   \n",
       "2       17,123               17,945                        22,000   \n",
       "3       17,058               18,495                        21,723   \n",
       "4        0.40%               -3.00%                         1.30%   \n",
       "\n",
       "   Kingsway South Lambton Baby Point              L'Amoreaux Lansing-Westgate  \\\n",
       "0              15                114                     117               38   \n",
       "1  No Designation     No Designation  Emerging Neighbourhood   No Designation   \n",
       "2           9,271              7,985                  43,993           16,164   \n",
       "3           9,170              7,921                  44,919           14,642   \n",
       "4           1.10%              0.80%                  -2.10%           10.40%   \n",
       "\n",
       "  Lawrence Park North Lawrence Park South Leaside-Bennington Little Portugal  \\\n",
       "0                 105                 103                 56              84   \n",
       "1      No Designation      No Designation     No Designation  No Designation   \n",
       "2              14,607              15,179             16,828          15,559   \n",
       "3              14,541              15,070             17,011          12,050   \n",
       "4               0.50%               0.70%             -1.10%          29.10%   \n",
       "\n",
       "      Long Branch                 Malvern      Maple Leaf   Markland Wood  \\\n",
       "0              19                     132              29              12   \n",
       "1  No Designation  Emerging Neighbourhood  No Designation  No Designation   \n",
       "2          10,084                  43,794          10,111          10,554   \n",
       "3           9,632                  45,086          10,197          10,436   \n",
       "4           4.70%                  -2.90%          -0.80%           1.10%   \n",
       "\n",
       "         Milliken Mimico (includes Humber Bay Shores) Morningside  \\\n",
       "0             130                                  17         135   \n",
       "1  No Designation                      No Designation         NIA   \n",
       "2          26,572                              33,964      17,455   \n",
       "3          27,167                              26,541      17,587   \n",
       "4          -2.20%                              28.00%      -0.80%   \n",
       "\n",
       "        Moss Park Mount Dennis Mount Olive-Silverstone-Jamestown  \\\n",
       "0              73          115                                 2   \n",
       "1  No Designation          NIA                               NIA   \n",
       "2          20,506       13,593                            32,954   \n",
       "3          16,306       13,145                            32,788   \n",
       "4          25.80%        3.40%                             0.50%   \n",
       "\n",
       "  Mount Pleasant East Mount Pleasant West     New Toronto Newtonbrook East  \\\n",
       "0                  99                 104              18               50   \n",
       "1      No Designation      No Designation  No Designation   No Designation   \n",
       "2              16,775              29,658          11,463           16,097   \n",
       "3              15,982              28,593          10,900           16,423   \n",
       "4               5.00%               3.70%           5.20%           -2.00%   \n",
       "\n",
       "  Newtonbrook West         Niagara North Riverdale North St. James Town  \\\n",
       "0               36              82              68                   74   \n",
       "1   No Designation  No Designation  No Designation       No Designation   \n",
       "2           23,831          31,180          11,916               18,615   \n",
       "3           23,052          21,274          12,191               17,832   \n",
       "4            3.40%          46.60%          -2.30%                4.40%   \n",
       "\n",
       "  Oakridge Oakwood Village O'Connor-Parkview   Old East York  \\\n",
       "0      121             107                54              58   \n",
       "1      NIA  No Designation    No Designation  No Designation   \n",
       "2   13,845          21,210            18,675           9,233   \n",
       "3   13,497          21,073            18,316           9,118   \n",
       "4    2.60%           0.70%             2.00%           1.30%   \n",
       "\n",
       "  Palmerston-Little Italy Parkwoods-Donalda Pelmo Park-Humberlea  \\\n",
       "0                      80                45                   23   \n",
       "1          No Designation    No Designation       No Designation   \n",
       "2                  13,826            34,805               10,722   \n",
       "3                  13,746            34,617                8,710   \n",
       "4                   0.60%             0.50%               23.10%   \n",
       "\n",
       "  Playter Estates-Danforth   Pleasant View Princess-Rosethorn Regent Park  \\\n",
       "0                       67              46                 10          72   \n",
       "1           No Designation  No Designation     No Designation         NIA   \n",
       "2                    7,804          15,818             11,051      10,803   \n",
       "3                    7,653          16,144             11,197      10,007   \n",
       "4                    2.00%          -2.00%             -1.30%       8.00%   \n",
       "\n",
       "  Rexdale-Kipling Rockcliffe-Smythe    Roncesvalles Rosedale-Moore Park  \\\n",
       "0               4               111              86                  98   \n",
       "1  No Designation               NIA  No Designation      No Designation   \n",
       "2          10,529            22,246          14,974              20,923   \n",
       "3          10,488            22,267          15,050              20,631   \n",
       "4           0.40%            -0.10%          -0.50%               1.40%   \n",
       "\n",
       "            Rouge Runnymede-Bloor West Village  Rustic Scarborough Village  \\\n",
       "0             131                           89      28                 139   \n",
       "1  No Designation               No Designation     NIA                 NIA   \n",
       "2          46,496                       10,070   9,941              16,724   \n",
       "3          45,912                        9,632   9,951              16,609   \n",
       "4           1.30%                        4.50%  -0.10%               0.70%   \n",
       "\n",
       "  South Parkdale South Riverdale St.Andrew-Windfields                 Steeles  \\\n",
       "0             85              70                   40                     116   \n",
       "1            NIA  No Designation       No Designation  Emerging Neighbourhood   \n",
       "2         21,849          27,876               17,812                  24,623   \n",
       "3         21,251          25,642               17,958                  25,017   \n",
       "4          2.80%           8.70%               -0.80%                  -1.60%   \n",
       "\n",
       "  Stonegate-Queensway Tam O'Shanter-Sullivan Taylor-Massey     The Beaches  \\\n",
       "0                  16                    118            61              63   \n",
       "1      No Designation         No Designation           NIA  No Designation   \n",
       "2              25,051                 27,446        15,683          21,567   \n",
       "3              24,691                 27,398        15,594          21,130   \n",
       "4               1.50%                  0.20%         0.60%           2.10%   \n",
       "\n",
       "  Thistletown-Beaumond Heights Thorncliffe Park Trinity-Bellwoods  \\\n",
       "0                            3               55                81   \n",
       "1                          NIA              NIA    No Designation   \n",
       "2                       10,360           21,108            16,556   \n",
       "3                       10,138           19,225            16,802   \n",
       "4                        2.20%            9.80%            -1.50%   \n",
       "\n",
       "       University Victoria Village Waterfront Communities-The Island  \\\n",
       "0              79               43                                77   \n",
       "1  No Designation              NIA                    No Designation   \n",
       "2           7,607           17,510                            65,913   \n",
       "3           7,782           17,182                            43,361   \n",
       "4          -2.20%            1.90%                            52.00%   \n",
       "\n",
       "  West Hill West Humber-Clairville     Westminster-Branson  Weston  \\\n",
       "0       136                      1                      35     113   \n",
       "1       NIA         No Designation  Emerging Neighbourhood     NIA   \n",
       "2    27,392                 33,312                  26,274  17,992   \n",
       "3    26,547                 34,100                  25,446  18,170   \n",
       "4     3.20%                 -2.30%                   3.30%  -1.00%   \n",
       "\n",
       "  Weston-Pelham Park Wexford/Maryvale Willowdale East Willowdale West  \\\n",
       "0                 91              119              51              37   \n",
       "1                NIA   No Designation  No Designation  No Designation   \n",
       "2             11,098           27,917          50,434          16,936   \n",
       "3             12,010           27,018          45,041          15,004   \n",
       "4             -7.60%            3.30%          12.00%          12.90%   \n",
       "\n",
       "  Willowridge-Martingrove-Richview  Woburn Woodbine Corridor Woodbine-Lumsden  \\\n",
       "0                                7     137                64               60   \n",
       "1                   No Designation     NIA    No Designation   No Designation   \n",
       "2                           22,156  53,485            12,541            7,865   \n",
       "3                           21,343  53,350            11,703            7,826   \n",
       "4                            3.80%   0.30%             7.20%            0.50%   \n",
       "\n",
       "         Wychwood  Yonge-Eglinton  Yonge-St.Clair York University Heights  \\\n",
       "0              94             100              97                      27   \n",
       "1  No Designation  No Designation  No Designation                     NIA   \n",
       "2          14,349          11,817          12,528                  27,593   \n",
       "3          13,986          10,578          11,652                  27,713   \n",
       "4           2.60%          11.70%           7.50%                  -0.40%   \n",
       "\n",
       "       Yorkdale-Glen Park  \n",
       "0                      31  \n",
       "1  Emerging Neighbourhood  \n",
       "2                  14,804  \n",
       "3                  14,687  \n",
       "4                   0.80%  "
      ]
     },
     "execution_count": 60,
     "metadata": {},
     "output_type": "execute_result"
    }
   ],
   "source": [
    "profiles.head()"
   ]
  },
  {
   "cell_type": "markdown",
   "id": "5ea6aace",
   "metadata": {
    "slideshow": {
     "slide_type": "subslide"
    }
   },
   "source": [
    "Because of the layout and formatting characters, all of the numeric values have been read in as text data. It also looks like the characteristics are not unique."
   ]
  },
  {
   "cell_type": "code",
   "execution_count": 61,
   "id": "42ecb81a",
   "metadata": {
    "slideshow": {
     "slide_type": "fragment"
    }
   },
   "outputs": [
    {
     "data": {
      "text/plain": [
       "object    145\n",
       "int64       1\n",
       "dtype: int64"
      ]
     },
     "execution_count": 61,
     "metadata": {},
     "output_type": "execute_result"
    }
   ],
   "source": [
    "profiles.dtypes.value_counts()"
   ]
  },
  {
   "cell_type": "code",
   "execution_count": 62,
   "id": "2b8e01d7",
   "metadata": {
    "slideshow": {
     "slide_type": "fragment"
    }
   },
   "outputs": [
    {
     "data": {
      "text/plain": [
       "1651"
      ]
     },
     "execution_count": 62,
     "metadata": {},
     "output_type": "execute_result"
    }
   ],
   "source": [
    "len(profiles['Characteristic'].unique())"
   ]
  },
  {
   "cell_type": "markdown",
   "id": "a5b82901",
   "metadata": {
    "slideshow": {
     "slide_type": "slide"
    }
   },
   "source": [
    "## Removing extra whitespace\n",
    "\n",
    "The characteristic values contain extra whitespace. Let's remove the whitespace up with `str.strip()`."
   ]
  },
  {
   "cell_type": "code",
   "execution_count": 63,
   "id": "99c0e7bf",
   "metadata": {
    "scrolled": true,
    "slideshow": {
     "slide_type": "fragment"
    }
   },
   "outputs": [
    {
     "data": {
      "text/plain": [
       "['    Female parent',\n",
       " '    Male parent',\n",
       " 'Couple census families in private households',\n",
       " '  Couples with children',\n",
       " '    1 child']"
      ]
     },
     "execution_count": 63,
     "metadata": {},
     "output_type": "execute_result"
    }
   ],
   "source": [
    "# the whitespace is easier to see in a list than a Series\n",
    "list(profiles['Characteristic'][95:100])"
   ]
  },
  {
   "cell_type": "code",
   "execution_count": 64,
   "id": "8d0f3ece",
   "metadata": {
    "slideshow": {
     "slide_type": "fragment"
    }
   },
   "outputs": [
    {
     "data": {
      "text/plain": [
       "['Female parent',\n",
       " 'Male parent',\n",
       " 'Couple census families in private households',\n",
       " 'Couples with children',\n",
       " '1 child']"
      ]
     },
     "execution_count": 64,
     "metadata": {},
     "output_type": "execute_result"
    }
   ],
   "source": [
    "profiles['Characteristic'] = profiles['Characteristic'].str.strip()\n",
    "\n",
    "# get the first 10 characteristics\n",
    "list(profiles['Characteristic'][95:100])"
   ]
  },
  {
   "cell_type": "markdown",
   "id": "9620cecf",
   "metadata": {
    "slideshow": {
     "slide_type": "slide"
    }
   },
   "source": [
    "## Subsetting data\n",
    "\n",
    "1651 characteristics is still a lot. Let's check out the categories to understand the areas covered."
   ]
  },
  {
   "cell_type": "code",
   "execution_count": 65,
   "id": "654a4874",
   "metadata": {
    "slideshow": {
     "slide_type": "fragment"
    }
   },
   "outputs": [
    {
     "data": {
      "text/plain": [
       "array(['Neighbourhood Information', 'Population',\n",
       "       'Families, households and marital status', 'Language', 'Income',\n",
       "       'Immigration and citizenship', 'Visible minority', 'Ethnic origin',\n",
       "       'Aboriginal peoples', 'Education', 'Housing', 'Language of work',\n",
       "       'Labour', 'Journey to work', 'Mobility'], dtype=object)"
      ]
     },
     "execution_count": 65,
     "metadata": {},
     "output_type": "execute_result"
    }
   ],
   "source": [
    "profiles['Category'].unique()"
   ]
  },
  {
   "cell_type": "markdown",
   "id": "d3f649a8",
   "metadata": {
    "slideshow": {
     "slide_type": "subslide"
    }
   },
   "source": [
    "\"Journey to work\" sounds relevant. We can use `.loc[]` to get the rows in that category, then select the Topic column and get its unique values."
   ]
  },
  {
   "cell_type": "code",
   "execution_count": 66,
   "id": "d9aa979f",
   "metadata": {
    "slideshow": {
     "slide_type": "fragment"
    }
   },
   "outputs": [
    {
     "data": {
      "text/plain": [
       "array(['Commuting destination', 'Main mode of commuting',\n",
       "       'Commuting duration', 'Time leaving for work'], dtype=object)"
      ]
     },
     "execution_count": 66,
     "metadata": {},
     "output_type": "execute_result"
    }
   ],
   "source": [
    "profiles.loc[profiles['Category'] == 'Journey to work']['Topic'].unique()"
   ]
  },
  {
   "cell_type": "markdown",
   "id": "773070fe",
   "metadata": {
    "slideshow": {
     "slide_type": "subslide"
    }
   },
   "source": [
    "The \"Population and dwellings\" topic we saw in the DataFrame head looked promising as well. Let's check out the Characteristics in that topic."
   ]
  },
  {
   "cell_type": "code",
   "execution_count": 67,
   "id": "90d44d6d",
   "metadata": {
    "slideshow": {
     "slide_type": "fragment"
    }
   },
   "outputs": [
    {
     "data": {
      "text/plain": [
       "array(['Population, 2016', 'Population, 2011',\n",
       "       'Population Change 2011-2016', 'Total private dwellings',\n",
       "       'Private dwellings occupied by usual residents',\n",
       "       'Population density per square kilometre',\n",
       "       'Land area in square kilometres'], dtype=object)"
      ]
     },
     "execution_count": 67,
     "metadata": {},
     "output_type": "execute_result"
    }
   ],
   "source": [
    "profiles.loc[profiles['Topic'] == 'Population and dwellings']['Characteristic'].unique()"
   ]
  },
  {
   "cell_type": "markdown",
   "id": "c773679f",
   "metadata": {
    "slideshow": {
     "slide_type": "subslide"
    }
   },
   "source": [
    "Now that we know what topics we're interested in, let's create a subset DataFrame limited to them. We'll use the `copy()` DataFrame method to leave the original data untouched."
   ]
  },
  {
   "cell_type": "code",
   "execution_count": 68,
   "id": "a27a2b27",
   "metadata": {
    "slideshow": {
     "slide_type": "fragment"
    }
   },
   "outputs": [
    {
     "data": {
      "text/plain": [
       "(16, 146)"
      ]
     },
     "execution_count": 68,
     "metadata": {},
     "output_type": "execute_result"
    }
   ],
   "source": [
    "topics = ['Neighbourhood Information', 'Population and dwellings', 'Main mode of commuting']\n",
    "\n",
    "# make sure it's an independent copy\n",
    "profiles_subset = profiles.copy()\n",
    "\n",
    "# get just the topics we're interested in\n",
    "profiles_subset = profiles_subset.loc[profiles['Topic'].isin(topics)]\n",
    "profiles_subset.shape"
   ]
  },
  {
   "cell_type": "markdown",
   "id": "fa1fc9e0",
   "metadata": {
    "slideshow": {
     "slide_type": "slide"
    }
   },
   "source": [
    "## Reshaping data with `melt()`\n",
    "\n",
    "Now we're ready to reshape our data. We can `drop()` the ID, data source, and category columns now.\n",
    "\n",
    "To `melt()` a DataFrame, we specify `id_vars` -- the columns to keep as identifiers. All other columns are 'melted' into a new `variable` column. The values at DataFrame[id_vars, variable_col] move into a `value` column. We can change the names of the variable and value columns with the `var_name` and `value_name` arguments."
   ]
  },
  {
   "attachments": {
    "image.png": {
     "image/png": "[encoded data removed]"
    }
   },
   "cell_type": "markdown",
   "id": "c1e70318",
   "metadata": {
    "slideshow": {
     "slide_type": "subslide"
    }
   },
   "source": [
    "The `pandas` documentation provides an [illustrative example](https://pandas.pydata.org/pandas-docs/stable/user_guide/reshaping.html#reshaping-melt):\n",
    "\n",
    "![image.png](attachment:image.png)"
   ]
  },
  {
   "cell_type": "markdown",
   "id": "095177ed",
   "metadata": {
    "slideshow": {
     "slide_type": "subslide"
    }
   },
   "source": [
    "Let's `melt()` the profiles subset. We'll keep `Topic` and `Characteristic` as our `id_vars`. This will melt the neighbourhood names into the `variable` column, which we'll rename `Neighbourhood`."
   ]
  },
  {
   "cell_type": "code",
   "execution_count": 69,
   "id": "47d7bfd4",
   "metadata": {
    "slideshow": {
     "slide_type": "fragment"
    }
   },
   "outputs": [
    {
     "data": {
      "text/html": [
       "<div>\n",
       "<style scoped>\n",
       "    .dataframe tbody tr th:only-of-type {\n",
       "        vertical-align: middle;\n",
       "    }\n",
       "\n",
       "    .dataframe tbody tr th {\n",
       "        vertical-align: top;\n",
       "    }\n",
       "\n",
       "    .dataframe thead th {\n",
       "        text-align: right;\n",
       "    }\n",
       "</style>\n",
       "<table border=\"1\" class=\"dataframe\">\n",
       "  <thead>\n",
       "    <tr style=\"text-align: right;\">\n",
       "      <th></th>\n",
       "      <th>Topic</th>\n",
       "      <th>Characteristic</th>\n",
       "      <th>Neighbourhood</th>\n",
       "      <th>value</th>\n",
       "    </tr>\n",
       "  </thead>\n",
       "  <tbody>\n",
       "    <tr>\n",
       "      <th>0</th>\n",
       "      <td>Neighbourhood Information</td>\n",
       "      <td>Neighbourhood Number</td>\n",
       "      <td>City of Toronto</td>\n",
       "      <td>NaN</td>\n",
       "    </tr>\n",
       "    <tr>\n",
       "      <th>1</th>\n",
       "      <td>Neighbourhood Information</td>\n",
       "      <td>TSNS2020 Designation</td>\n",
       "      <td>City of Toronto</td>\n",
       "      <td>NaN</td>\n",
       "    </tr>\n",
       "    <tr>\n",
       "      <th>2</th>\n",
       "      <td>Population and dwellings</td>\n",
       "      <td>Population, 2016</td>\n",
       "      <td>City of Toronto</td>\n",
       "      <td>2,731,571</td>\n",
       "    </tr>\n",
       "    <tr>\n",
       "      <th>3</th>\n",
       "      <td>Population and dwellings</td>\n",
       "      <td>Population, 2011</td>\n",
       "      <td>City of Toronto</td>\n",
       "      <td>2,615,060</td>\n",
       "    </tr>\n",
       "    <tr>\n",
       "      <th>4</th>\n",
       "      <td>Population and dwellings</td>\n",
       "      <td>Population Change 2011-2016</td>\n",
       "      <td>City of Toronto</td>\n",
       "      <td>4.50%</td>\n",
       "    </tr>\n",
       "  </tbody>\n",
       "</table>\n",
       "</div>"
      ],
      "text/plain": [
       "                       Topic               Characteristic    Neighbourhood  \\\n",
       "0  Neighbourhood Information         Neighbourhood Number  City of Toronto   \n",
       "1  Neighbourhood Information         TSNS2020 Designation  City of Toronto   \n",
       "2   Population and dwellings             Population, 2016  City of Toronto   \n",
       "3   Population and dwellings             Population, 2011  City of Toronto   \n",
       "4   Population and dwellings  Population Change 2011-2016  City of Toronto   \n",
       "\n",
       "       value  \n",
       "0        NaN  \n",
       "1        NaN  \n",
       "2  2,731,571  \n",
       "3  2,615,060  \n",
       "4      4.50%  "
      ]
     },
     "execution_count": 69,
     "metadata": {},
     "output_type": "execute_result"
    }
   ],
   "source": [
    "profiles_melt = (profiles_subset\n",
    "                 .drop(columns=['_id', 'Data Source', 'Category'])\n",
    "                 .melt(id_vars=['Topic', 'Characteristic'],\n",
    "                       var_name='Neighbourhood'))\n",
    "profiles_melt.head()"
   ]
  },
  {
   "cell_type": "markdown",
   "id": "5f093297",
   "metadata": {
    "slideshow": {
     "slide_type": "slide"
    }
   },
   "source": [
    "## Reshaping data with `pivot()`\n",
    "\n",
    "The profile data is looking much closer to what we want! The next step is to make the Topic/Characteristic the column header, `pivot()`ing the values. To do this, we specify the column(s) to use as the `index`, or row labels; the column(s) whose values we should use as `column` names, and which column our `values` come from.\n",
    "\n",
    "Pivoting on two columns creates a multi-level column header, so we then drop the top `Topic` level with `droplevel()`. Finally, we `reset_index()` to make neighbourhood names a regular column."
   ]
  },
  {
   "cell_type": "code",
   "execution_count": 70,
   "id": "b72b82c8",
   "metadata": {
    "slideshow": {
     "slide_type": "subslide"
    }
   },
   "outputs": [
    {
     "data": {
      "text/html": [
       "<div>\n",
       "<style scoped>\n",
       "    .dataframe tbody tr th:only-of-type {\n",
       "        vertical-align: middle;\n",
       "    }\n",
       "\n",
       "    .dataframe tbody tr th {\n",
       "        vertical-align: top;\n",
       "    }\n",
       "\n",
       "    .dataframe thead th {\n",
       "        text-align: right;\n",
       "    }\n",
       "</style>\n",
       "<table border=\"1\" class=\"dataframe\">\n",
       "  <thead>\n",
       "    <tr style=\"text-align: right;\">\n",
       "      <th>Characteristic</th>\n",
       "      <th>Neighbourhood</th>\n",
       "      <th>Neighbourhood Number</th>\n",
       "      <th>TSNS2020 Designation</th>\n",
       "      <th>Population, 2016</th>\n",
       "      <th>Population, 2011</th>\n",
       "      <th>Population Change 2011-2016</th>\n",
       "      <th>Total private dwellings</th>\n",
       "      <th>Private dwellings occupied by usual residents</th>\n",
       "      <th>Population density per square kilometre</th>\n",
       "      <th>Land area in square kilometres</th>\n",
       "      <th>Total - Main mode of commuting for the employed labour force aged 15 years and over in private households with a usual place of work or no fixed workplace address - 25% sample data</th>\n",
       "      <th>Car, truck, van - as a driver</th>\n",
       "      <th>Car, truck, van - as a passenger</th>\n",
       "      <th>Public transit</th>\n",
       "      <th>Walked</th>\n",
       "      <th>Bicycle</th>\n",
       "      <th>Other method</th>\n",
       "    </tr>\n",
       "  </thead>\n",
       "  <tbody>\n",
       "    <tr>\n",
       "      <th>0</th>\n",
       "      <td>Agincourt North</td>\n",
       "      <td>129</td>\n",
       "      <td>No Designation</td>\n",
       "      <td>29,113</td>\n",
       "      <td>30,279</td>\n",
       "      <td>-3.90%</td>\n",
       "      <td>9,371</td>\n",
       "      <td>9,120</td>\n",
       "      <td>3,929</td>\n",
       "      <td>7.41</td>\n",
       "      <td>11,820</td>\n",
       "      <td>7,155</td>\n",
       "      <td>930</td>\n",
       "      <td>3,350</td>\n",
       "      <td>265</td>\n",
       "      <td>70</td>\n",
       "      <td>45</td>\n",
       "    </tr>\n",
       "    <tr>\n",
       "      <th>1</th>\n",
       "      <td>Agincourt South-Malvern West</td>\n",
       "      <td>128</td>\n",
       "      <td>No Designation</td>\n",
       "      <td>23,757</td>\n",
       "      <td>21,988</td>\n",
       "      <td>8.00%</td>\n",
       "      <td>8,535</td>\n",
       "      <td>8,136</td>\n",
       "      <td>3,034</td>\n",
       "      <td>7.83</td>\n",
       "      <td>10,160</td>\n",
       "      <td>6,135</td>\n",
       "      <td>665</td>\n",
       "      <td>2,985</td>\n",
       "      <td>280</td>\n",
       "      <td>35</td>\n",
       "      <td>65</td>\n",
       "    </tr>\n",
       "    <tr>\n",
       "      <th>2</th>\n",
       "      <td>Alderwood</td>\n",
       "      <td>20</td>\n",
       "      <td>No Designation</td>\n",
       "      <td>12,054</td>\n",
       "      <td>11,904</td>\n",
       "      <td>1.30%</td>\n",
       "      <td>4,732</td>\n",
       "      <td>4,616</td>\n",
       "      <td>2,435</td>\n",
       "      <td>4.95</td>\n",
       "      <td>6,045</td>\n",
       "      <td>4,090</td>\n",
       "      <td>355</td>\n",
       "      <td>1,285</td>\n",
       "      <td>195</td>\n",
       "      <td>65</td>\n",
       "      <td>65</td>\n",
       "    </tr>\n",
       "    <tr>\n",
       "      <th>3</th>\n",
       "      <td>Annex</td>\n",
       "      <td>95</td>\n",
       "      <td>No Designation</td>\n",
       "      <td>30,526</td>\n",
       "      <td>29,177</td>\n",
       "      <td>4.60%</td>\n",
       "      <td>18,109</td>\n",
       "      <td>15,934</td>\n",
       "      <td>10,863</td>\n",
       "      <td>2.81</td>\n",
       "      <td>14,910</td>\n",
       "      <td>3,290</td>\n",
       "      <td>290</td>\n",
       "      <td>6,200</td>\n",
       "      <td>3,200</td>\n",
       "      <td>1,675</td>\n",
       "      <td>225</td>\n",
       "    </tr>\n",
       "    <tr>\n",
       "      <th>4</th>\n",
       "      <td>Banbury-Don Mills</td>\n",
       "      <td>42</td>\n",
       "      <td>No Designation</td>\n",
       "      <td>27,695</td>\n",
       "      <td>26,918</td>\n",
       "      <td>2.90%</td>\n",
       "      <td>12,473</td>\n",
       "      <td>12,124</td>\n",
       "      <td>2,775</td>\n",
       "      <td>9.98</td>\n",
       "      <td>11,395</td>\n",
       "      <td>7,150</td>\n",
       "      <td>500</td>\n",
       "      <td>2,945</td>\n",
       "      <td>615</td>\n",
       "      <td>65</td>\n",
       "      <td>140</td>\n",
       "    </tr>\n",
       "  </tbody>\n",
       "</table>\n",
       "</div>"
      ],
      "text/plain": [
       "Characteristic                 Neighbourhood Neighbourhood Number  \\\n",
       "0                            Agincourt North                  129   \n",
       "1               Agincourt South-Malvern West                  128   \n",
       "2                                  Alderwood                   20   \n",
       "3                                      Annex                   95   \n",
       "4                          Banbury-Don Mills                   42   \n",
       "\n",
       "Characteristic TSNS2020 Designation Population, 2016 Population, 2011  \\\n",
       "0                    No Designation           29,113           30,279   \n",
       "1                    No Designation           23,757           21,988   \n",
       "2                    No Designation           12,054           11,904   \n",
       "3                    No Designation           30,526           29,177   \n",
       "4                    No Designation           27,695           26,918   \n",
       "\n",
       "Characteristic Population Change 2011-2016 Total private dwellings  \\\n",
       "0                                   -3.90%                   9,371   \n",
       "1                                    8.00%                   8,535   \n",
       "2                                    1.30%                   4,732   \n",
       "3                                    4.60%                  18,109   \n",
       "4                                    2.90%                  12,473   \n",
       "\n",
       "Characteristic Private dwellings occupied by usual residents  \\\n",
       "0                                                      9,120   \n",
       "1                                                      8,136   \n",
       "2                                                      4,616   \n",
       "3                                                     15,934   \n",
       "4                                                     12,124   \n",
       "\n",
       "Characteristic Population density per square kilometre  \\\n",
       "0                                                3,929   \n",
       "1                                                3,034   \n",
       "2                                                2,435   \n",
       "3                                               10,863   \n",
       "4                                                2,775   \n",
       "\n",
       "Characteristic Land area in square kilometres  \\\n",
       "0                                        7.41   \n",
       "1                                        7.83   \n",
       "2                                        4.95   \n",
       "3                                        2.81   \n",
       "4                                        9.98   \n",
       "\n",
       "Characteristic Total - Main mode of commuting for the employed labour force aged 15 years and over in private households with a usual place of work or no fixed workplace address - 25% sample data  \\\n",
       "0                                                          11,820                                                                                                                                     \n",
       "1                                                          10,160                                                                                                                                     \n",
       "2                                                           6,045                                                                                                                                     \n",
       "3                                                          14,910                                                                                                                                     \n",
       "4                                                          11,395                                                                                                                                     \n",
       "\n",
       "Characteristic Car, truck, van - as a driver Car, truck, van - as a passenger  \\\n",
       "0                                      7,155                              930   \n",
       "1                                      6,135                              665   \n",
       "2                                      4,090                              355   \n",
       "3                                      3,290                              290   \n",
       "4                                      7,150                              500   \n",
       "\n",
       "Characteristic Public transit Walked Bicycle Other method  \n",
       "0                       3,350    265      70           45  \n",
       "1                       2,985    280      35           65  \n",
       "2                       1,285    195      65           65  \n",
       "3                       6,200  3,200   1,675          225  \n",
       "4                       2,945    615      65          140  "
      ]
     },
     "execution_count": 70,
     "metadata": {},
     "output_type": "execute_result"
    }
   ],
   "source": [
    "neighbourhoods = (profiles_melt.pivot(index='Neighbourhood', \n",
    "                                      columns=['Topic', 'Characteristic'], \n",
    "                                      values='value')\n",
    "                               .droplevel(0, axis=1) # remove topic col header\n",
    "                               .reset_index()) # make Neighbourhood a regular column\n",
    "neighbourhoods.head()"
   ]
  },
  {
   "cell_type": "markdown",
   "id": "06b9259c",
   "metadata": {
    "slideshow": {
     "slide_type": "slide"
    }
   },
   "source": [
    "## Renaming all columns\n",
    "\n",
    "Much better! These column names could be shorter, though. Let's rename them to be easier to work with. We could use the `rename()` DataFrame method, passing in a dictionary of old and new names. Since there isn't an easy renaming function, and some of the current names are very long, we will instead reassign a list of new names to the `columns` attribute of our DataFrame."
   ]
  },
  {
   "cell_type": "code",
   "execution_count": 71,
   "id": "f7750cb5",
   "metadata": {
    "slideshow": {
     "slide_type": "subslide"
    }
   },
   "outputs": [
    {
     "data": {
      "text/plain": [
       "Index(['neighbourhood', 'n_id', 'designation', 'pop_2016', 'pop_2011',\n",
       "       'pop_change', 'private_dwellings', 'occupied_dwllings', 'pop_dens',\n",
       "       'area', 'total_commuters', 'drive', 'car_passenger', 'transit', 'walk',\n",
       "       'bike', 'other'],\n",
       "      dtype='object')"
      ]
     },
     "execution_count": 71,
     "metadata": {},
     "output_type": "execute_result"
    }
   ],
   "source": [
    "# rename all columns\n",
    "neighbourhoods.columns = ['neighbourhood',\n",
    "                          'n_id',\n",
    "                          'designation',\n",
    "                          'pop_2016',\n",
    "                          'pop_2011',\n",
    "                          'pop_change',\n",
    "                          'private_dwellings',\n",
    "                          'occupied_dwllings',\n",
    "                          'pop_dens',\n",
    "                          'area',\n",
    "                          'total_commuters',\n",
    "                          'drive',\n",
    "                          'car_passenger',\n",
    "                          'transit',\n",
    "                          'walk',\n",
    "                          'bike',\n",
    "                          'other']\n",
    "neighbourhoods.columns"
   ]
  },
  {
   "cell_type": "markdown",
   "id": "7ee1c6f7",
   "metadata": {
    "slideshow": {
     "slide_type": "slide"
    }
   },
   "source": [
    "## Replacing values in multiple columns\n",
    "\n",
    "All of the values in our neighbourhood data are text right now. Part of the problem is that numbers contain characters like commas and percentage signs. We can remove these from everywhere in our data with the DataFrame `replace()` method, which takes a string to look for and a replacement string. Normally, `replace()` looks for a perfect, full-string match. Since we're only looking for a substring match, we set `regex=True`."
   ]
  },
  {
   "cell_type": "code",
   "execution_count": 72,
   "id": "721d0a64",
   "metadata": {
    "slideshow": {
     "slide_type": "fragment"
    }
   },
   "outputs": [
    {
     "data": {
      "text/html": [
       "<div>\n",
       "<style scoped>\n",
       "    .dataframe tbody tr th:only-of-type {\n",
       "        vertical-align: middle;\n",
       "    }\n",
       "\n",
       "    .dataframe tbody tr th {\n",
       "        vertical-align: top;\n",
       "    }\n",
       "\n",
       "    .dataframe thead th {\n",
       "        text-align: right;\n",
       "    }\n",
       "</style>\n",
       "<table border=\"1\" class=\"dataframe\">\n",
       "  <thead>\n",
       "    <tr style=\"text-align: right;\">\n",
       "      <th></th>\n",
       "      <th>neighbourhood</th>\n",
       "      <th>n_id</th>\n",
       "      <th>designation</th>\n",
       "      <th>pop_2016</th>\n",
       "      <th>pop_2011</th>\n",
       "      <th>pop_change</th>\n",
       "      <th>private_dwellings</th>\n",
       "      <th>occupied_dwllings</th>\n",
       "      <th>pop_dens</th>\n",
       "      <th>area</th>\n",
       "      <th>total_commuters</th>\n",
       "      <th>drive</th>\n",
       "      <th>car_passenger</th>\n",
       "      <th>transit</th>\n",
       "      <th>walk</th>\n",
       "      <th>bike</th>\n",
       "      <th>other</th>\n",
       "    </tr>\n",
       "  </thead>\n",
       "  <tbody>\n",
       "    <tr>\n",
       "      <th>0</th>\n",
       "      <td>Agincourt North</td>\n",
       "      <td>129</td>\n",
       "      <td>No Designation</td>\n",
       "      <td>29113</td>\n",
       "      <td>30279</td>\n",
       "      <td>-3.90</td>\n",
       "      <td>9371</td>\n",
       "      <td>9120</td>\n",
       "      <td>3929</td>\n",
       "      <td>7.41</td>\n",
       "      <td>11820</td>\n",
       "      <td>7155</td>\n",
       "      <td>930</td>\n",
       "      <td>3350</td>\n",
       "      <td>265</td>\n",
       "      <td>70</td>\n",
       "      <td>45</td>\n",
       "    </tr>\n",
       "    <tr>\n",
       "      <th>1</th>\n",
       "      <td>Agincourt South-Malvern West</td>\n",
       "      <td>128</td>\n",
       "      <td>No Designation</td>\n",
       "      <td>23757</td>\n",
       "      <td>21988</td>\n",
       "      <td>8.00</td>\n",
       "      <td>8535</td>\n",
       "      <td>8136</td>\n",
       "      <td>3034</td>\n",
       "      <td>7.83</td>\n",
       "      <td>10160</td>\n",
       "      <td>6135</td>\n",
       "      <td>665</td>\n",
       "      <td>2985</td>\n",
       "      <td>280</td>\n",
       "      <td>35</td>\n",
       "      <td>65</td>\n",
       "    </tr>\n",
       "  </tbody>\n",
       "</table>\n",
       "</div>"
      ],
      "text/plain": [
       "                  neighbourhood n_id     designation pop_2016 pop_2011  \\\n",
       "0               Agincourt North  129  No Designation    29113    30279   \n",
       "1  Agincourt South-Malvern West  128  No Designation    23757    21988   \n",
       "\n",
       "  pop_change private_dwellings occupied_dwllings pop_dens  area  \\\n",
       "0      -3.90              9371              9120     3929  7.41   \n",
       "1       8.00              8535              8136     3034  7.83   \n",
       "\n",
       "  total_commuters drive car_passenger transit walk bike other  \n",
       "0           11820  7155           930    3350  265   70    45  \n",
       "1           10160  6135           665    2985  280   35    65  "
      ]
     },
     "execution_count": 72,
     "metadata": {},
     "output_type": "execute_result"
    }
   ],
   "source": [
    "# for those comfortable with regex, ',|%' and '[,%]' also work\n",
    "neighbourhoods = (neighbourhoods.replace(',', '', regex=True)\n",
    "                                .replace('%', '', regex=True))\n",
    "neighbourhoods.head(2)"
   ]
  },
  {
   "cell_type": "markdown",
   "id": "9d658d15",
   "metadata": {
    "slideshow": {
     "slide_type": "slide"
    }
   },
   "source": [
    "## `apply()`ing a function to multiple columns\n",
    "\n",
    "Now the numbers look like numbers, but they are still strings. We can convert them with `pd.to_numeric()`, which takes a Series and returns it as the most appropriate numeric data type. Doing this for columns one-by-one would be tedious. Instead, we can use the `apply()` DataFrame method to run a function on every column in a DataFrame. `apply()` takes the name of the function to apply and any arguments needed to run that function. We only want to convert from `pop_2016` onwards, so we'll use `.loc[]` to select the correct columns."
   ]
  },
  {
   "cell_type": "code",
   "execution_count": 73,
   "id": "7af549a2",
   "metadata": {
    "slideshow": {
     "slide_type": "subslide"
    }
   },
   "outputs": [
    {
     "data": {
      "text/html": [
       "<div>\n",
       "<style scoped>\n",
       "    .dataframe tbody tr th:only-of-type {\n",
       "        vertical-align: middle;\n",
       "    }\n",
       "\n",
       "    .dataframe tbody tr th {\n",
       "        vertical-align: top;\n",
       "    }\n",
       "\n",
       "    .dataframe thead th {\n",
       "        text-align: right;\n",
       "    }\n",
       "</style>\n",
       "<table border=\"1\" class=\"dataframe\">\n",
       "  <thead>\n",
       "    <tr style=\"text-align: right;\">\n",
       "      <th></th>\n",
       "      <th>neighbourhood</th>\n",
       "      <th>n_id</th>\n",
       "      <th>designation</th>\n",
       "      <th>pop_2016</th>\n",
       "      <th>pop_2011</th>\n",
       "      <th>pop_change</th>\n",
       "      <th>private_dwellings</th>\n",
       "      <th>occupied_dwllings</th>\n",
       "      <th>pop_dens</th>\n",
       "      <th>area</th>\n",
       "      <th>total_commuters</th>\n",
       "      <th>drive</th>\n",
       "      <th>car_passenger</th>\n",
       "      <th>transit</th>\n",
       "      <th>walk</th>\n",
       "      <th>bike</th>\n",
       "      <th>other</th>\n",
       "    </tr>\n",
       "  </thead>\n",
       "  <tbody>\n",
       "    <tr>\n",
       "      <th>0</th>\n",
       "      <td>Agincourt North</td>\n",
       "      <td>129</td>\n",
       "      <td>No Designation</td>\n",
       "      <td>29113</td>\n",
       "      <td>30279</td>\n",
       "      <td>-3.9</td>\n",
       "      <td>9371</td>\n",
       "      <td>9120</td>\n",
       "      <td>3929</td>\n",
       "      <td>7.41</td>\n",
       "      <td>11820</td>\n",
       "      <td>7155</td>\n",
       "      <td>930</td>\n",
       "      <td>3350</td>\n",
       "      <td>265</td>\n",
       "      <td>70</td>\n",
       "      <td>45</td>\n",
       "    </tr>\n",
       "    <tr>\n",
       "      <th>1</th>\n",
       "      <td>Agincourt South-Malvern West</td>\n",
       "      <td>128</td>\n",
       "      <td>No Designation</td>\n",
       "      <td>23757</td>\n",
       "      <td>21988</td>\n",
       "      <td>8.0</td>\n",
       "      <td>8535</td>\n",
       "      <td>8136</td>\n",
       "      <td>3034</td>\n",
       "      <td>7.83</td>\n",
       "      <td>10160</td>\n",
       "      <td>6135</td>\n",
       "      <td>665</td>\n",
       "      <td>2985</td>\n",
       "      <td>280</td>\n",
       "      <td>35</td>\n",
       "      <td>65</td>\n",
       "    </tr>\n",
       "    <tr>\n",
       "      <th>2</th>\n",
       "      <td>Alderwood</td>\n",
       "      <td>20</td>\n",
       "      <td>No Designation</td>\n",
       "      <td>12054</td>\n",
       "      <td>11904</td>\n",
       "      <td>1.3</td>\n",
       "      <td>4732</td>\n",
       "      <td>4616</td>\n",
       "      <td>2435</td>\n",
       "      <td>4.95</td>\n",
       "      <td>6045</td>\n",
       "      <td>4090</td>\n",
       "      <td>355</td>\n",
       "      <td>1285</td>\n",
       "      <td>195</td>\n",
       "      <td>65</td>\n",
       "      <td>65</td>\n",
       "    </tr>\n",
       "    <tr>\n",
       "      <th>3</th>\n",
       "      <td>Annex</td>\n",
       "      <td>95</td>\n",
       "      <td>No Designation</td>\n",
       "      <td>30526</td>\n",
       "      <td>29177</td>\n",
       "      <td>4.6</td>\n",
       "      <td>18109</td>\n",
       "      <td>15934</td>\n",
       "      <td>10863</td>\n",
       "      <td>2.81</td>\n",
       "      <td>14910</td>\n",
       "      <td>3290</td>\n",
       "      <td>290</td>\n",
       "      <td>6200</td>\n",
       "      <td>3200</td>\n",
       "      <td>1675</td>\n",
       "      <td>225</td>\n",
       "    </tr>\n",
       "    <tr>\n",
       "      <th>4</th>\n",
       "      <td>Banbury-Don Mills</td>\n",
       "      <td>42</td>\n",
       "      <td>No Designation</td>\n",
       "      <td>27695</td>\n",
       "      <td>26918</td>\n",
       "      <td>2.9</td>\n",
       "      <td>12473</td>\n",
       "      <td>12124</td>\n",
       "      <td>2775</td>\n",
       "      <td>9.98</td>\n",
       "      <td>11395</td>\n",
       "      <td>7150</td>\n",
       "      <td>500</td>\n",
       "      <td>2945</td>\n",
       "      <td>615</td>\n",
       "      <td>65</td>\n",
       "      <td>140</td>\n",
       "    </tr>\n",
       "  </tbody>\n",
       "</table>\n",
       "</div>"
      ],
      "text/plain": [
       "                  neighbourhood n_id     designation  pop_2016  pop_2011  \\\n",
       "0               Agincourt North  129  No Designation     29113     30279   \n",
       "1  Agincourt South-Malvern West  128  No Designation     23757     21988   \n",
       "2                     Alderwood   20  No Designation     12054     11904   \n",
       "3                         Annex   95  No Designation     30526     29177   \n",
       "4             Banbury-Don Mills   42  No Designation     27695     26918   \n",
       "\n",
       "   pop_change  private_dwellings  occupied_dwllings  pop_dens  area  \\\n",
       "0        -3.9               9371               9120      3929  7.41   \n",
       "1         8.0               8535               8136      3034  7.83   \n",
       "2         1.3               4732               4616      2435  4.95   \n",
       "3         4.6              18109              15934     10863  2.81   \n",
       "4         2.9              12473              12124      2775  9.98   \n",
       "\n",
       "   total_commuters  drive  car_passenger  transit  walk  bike  other  \n",
       "0            11820   7155            930     3350   265    70     45  \n",
       "1            10160   6135            665     2985   280    35     65  \n",
       "2             6045   4090            355     1285   195    65     65  \n",
       "3            14910   3290            290     6200  3200  1675    225  \n",
       "4            11395   7150            500     2945   615    65    140  "
      ]
     },
     "execution_count": 73,
     "metadata": {},
     "output_type": "execute_result"
    }
   ],
   "source": [
    "# select all rows, columns from pop_2016 to end\n",
    "neighbourhoods.loc[:, 'pop_2016':] = neighbourhoods.loc[:, 'pop_2016':].apply(pd.to_numeric)\n",
    "neighbourhoods.head()"
   ]
  },
  {
   "cell_type": "code",
   "execution_count": 74,
   "id": "1ffe61f0",
   "metadata": {
    "slideshow": {
     "slide_type": "subslide"
    }
   },
   "outputs": [
    {
     "data": {
      "text/plain": [
       "neighbourhood         object\n",
       "n_id                  object\n",
       "designation           object\n",
       "pop_2016               int64\n",
       "pop_2011               int64\n",
       "pop_change           float64\n",
       "private_dwellings      int64\n",
       "occupied_dwllings      int64\n",
       "pop_dens               int64\n",
       "area                 float64\n",
       "total_commuters        int64\n",
       "drive                  int64\n",
       "car_passenger          int64\n",
       "transit                int64\n",
       "walk                   int64\n",
       "bike                   int64\n",
       "other                  int64\n",
       "dtype: object"
      ]
     },
     "execution_count": 74,
     "metadata": {},
     "output_type": "execute_result"
    }
   ],
   "source": [
    "# confirm dtypes\n",
    "neighbourhoods.dtypes"
   ]
  },
  {
   "cell_type": "markdown",
   "id": "1ebd8c26",
   "metadata": {
    "slideshow": {
     "slide_type": "slide"
    }
   },
   "source": [
    "## Calculating more columns\n",
    "\n",
    "Let's fix the population change column and calculate the percentage of commuters who bike."
   ]
  },
  {
   "cell_type": "code",
   "execution_count": 75,
   "id": "030c5c3b",
   "metadata": {
    "slideshow": {
     "slide_type": "subslide"
    }
   },
   "outputs": [
    {
     "data": {
      "text/html": [
       "<div>\n",
       "<style scoped>\n",
       "    .dataframe tbody tr th:only-of-type {\n",
       "        vertical-align: middle;\n",
       "    }\n",
       "\n",
       "    .dataframe tbody tr th {\n",
       "        vertical-align: top;\n",
       "    }\n",
       "\n",
       "    .dataframe thead th {\n",
       "        text-align: right;\n",
       "    }\n",
       "</style>\n",
       "<table border=\"1\" class=\"dataframe\">\n",
       "  <thead>\n",
       "    <tr style=\"text-align: right;\">\n",
       "      <th></th>\n",
       "      <th>neighbourhood</th>\n",
       "      <th>n_id</th>\n",
       "      <th>designation</th>\n",
       "      <th>pop_2016</th>\n",
       "      <th>pop_2011</th>\n",
       "      <th>pop_change</th>\n",
       "      <th>private_dwellings</th>\n",
       "      <th>occupied_dwllings</th>\n",
       "      <th>pop_dens</th>\n",
       "      <th>area</th>\n",
       "      <th>total_commuters</th>\n",
       "      <th>drive</th>\n",
       "      <th>car_passenger</th>\n",
       "      <th>transit</th>\n",
       "      <th>walk</th>\n",
       "      <th>bike</th>\n",
       "      <th>other</th>\n",
       "      <th>pct_bike</th>\n",
       "    </tr>\n",
       "  </thead>\n",
       "  <tbody>\n",
       "    <tr>\n",
       "      <th>0</th>\n",
       "      <td>Agincourt North</td>\n",
       "      <td>129</td>\n",
       "      <td>No Designation</td>\n",
       "      <td>29113</td>\n",
       "      <td>30279</td>\n",
       "      <td>-0.039</td>\n",
       "      <td>9371</td>\n",
       "      <td>9120</td>\n",
       "      <td>3929</td>\n",
       "      <td>7.41</td>\n",
       "      <td>11820</td>\n",
       "      <td>7155</td>\n",
       "      <td>930</td>\n",
       "      <td>3350</td>\n",
       "      <td>265</td>\n",
       "      <td>70</td>\n",
       "      <td>45</td>\n",
       "      <td>0.006</td>\n",
       "    </tr>\n",
       "    <tr>\n",
       "      <th>1</th>\n",
       "      <td>Agincourt South-Malvern West</td>\n",
       "      <td>128</td>\n",
       "      <td>No Designation</td>\n",
       "      <td>23757</td>\n",
       "      <td>21988</td>\n",
       "      <td>0.080</td>\n",
       "      <td>8535</td>\n",
       "      <td>8136</td>\n",
       "      <td>3034</td>\n",
       "      <td>7.83</td>\n",
       "      <td>10160</td>\n",
       "      <td>6135</td>\n",
       "      <td>665</td>\n",
       "      <td>2985</td>\n",
       "      <td>280</td>\n",
       "      <td>35</td>\n",
       "      <td>65</td>\n",
       "      <td>0.003</td>\n",
       "    </tr>\n",
       "    <tr>\n",
       "      <th>2</th>\n",
       "      <td>Alderwood</td>\n",
       "      <td>20</td>\n",
       "      <td>No Designation</td>\n",
       "      <td>12054</td>\n",
       "      <td>11904</td>\n",
       "      <td>0.013</td>\n",
       "      <td>4732</td>\n",
       "      <td>4616</td>\n",
       "      <td>2435</td>\n",
       "      <td>4.95</td>\n",
       "      <td>6045</td>\n",
       "      <td>4090</td>\n",
       "      <td>355</td>\n",
       "      <td>1285</td>\n",
       "      <td>195</td>\n",
       "      <td>65</td>\n",
       "      <td>65</td>\n",
       "      <td>0.011</td>\n",
       "    </tr>\n",
       "    <tr>\n",
       "      <th>3</th>\n",
       "      <td>Annex</td>\n",
       "      <td>95</td>\n",
       "      <td>No Designation</td>\n",
       "      <td>30526</td>\n",
       "      <td>29177</td>\n",
       "      <td>0.046</td>\n",
       "      <td>18109</td>\n",
       "      <td>15934</td>\n",
       "      <td>10863</td>\n",
       "      <td>2.81</td>\n",
       "      <td>14910</td>\n",
       "      <td>3290</td>\n",
       "      <td>290</td>\n",
       "      <td>6200</td>\n",
       "      <td>3200</td>\n",
       "      <td>1675</td>\n",
       "      <td>225</td>\n",
       "      <td>0.112</td>\n",
       "    </tr>\n",
       "    <tr>\n",
       "      <th>4</th>\n",
       "      <td>Banbury-Don Mills</td>\n",
       "      <td>42</td>\n",
       "      <td>No Designation</td>\n",
       "      <td>27695</td>\n",
       "      <td>26918</td>\n",
       "      <td>0.029</td>\n",
       "      <td>12473</td>\n",
       "      <td>12124</td>\n",
       "      <td>2775</td>\n",
       "      <td>9.98</td>\n",
       "      <td>11395</td>\n",
       "      <td>7150</td>\n",
       "      <td>500</td>\n",
       "      <td>2945</td>\n",
       "      <td>615</td>\n",
       "      <td>65</td>\n",
       "      <td>140</td>\n",
       "      <td>0.006</td>\n",
       "    </tr>\n",
       "  </tbody>\n",
       "</table>\n",
       "</div>"
      ],
      "text/plain": [
       "                  neighbourhood n_id     designation  pop_2016  pop_2011  \\\n",
       "0               Agincourt North  129  No Designation     29113     30279   \n",
       "1  Agincourt South-Malvern West  128  No Designation     23757     21988   \n",
       "2                     Alderwood   20  No Designation     12054     11904   \n",
       "3                         Annex   95  No Designation     30526     29177   \n",
       "4             Banbury-Don Mills   42  No Designation     27695     26918   \n",
       "\n",
       "   pop_change  private_dwellings  occupied_dwllings  pop_dens  area  \\\n",
       "0      -0.039               9371               9120      3929  7.41   \n",
       "1       0.080               8535               8136      3034  7.83   \n",
       "2       0.013               4732               4616      2435  4.95   \n",
       "3       0.046              18109              15934     10863  2.81   \n",
       "4       0.029              12473              12124      2775  9.98   \n",
       "\n",
       "   total_commuters  drive  car_passenger  transit  walk  bike  other  pct_bike  \n",
       "0            11820   7155            930     3350   265    70     45     0.006  \n",
       "1            10160   6135            665     2985   280    35     65     0.003  \n",
       "2             6045   4090            355     1285   195    65     65     0.011  \n",
       "3            14910   3290            290     6200  3200  1675    225     0.112  \n",
       "4            11395   7150            500     2945   615    65    140     0.006  "
      ]
     },
     "execution_count": 75,
     "metadata": {},
     "output_type": "execute_result"
    }
   ],
   "source": [
    "neighbourhoods['pop_change'] = neighbourhoods['pop_change'] / 100\n",
    "neighbourhoods['pct_bike'] = round(neighbourhoods['bike'] / neighbourhoods['total_commuters'], 3)\n",
    "neighbourhoods.head()"
   ]
  },
  {
   "cell_type": "markdown",
   "id": "91e0031a",
   "metadata": {
    "slideshow": {
     "slide_type": "slide"
    }
   },
   "source": [
    "## `merge()`ing\n",
    "\n",
    "The profile are now ready to merge into the bike thefts data!"
   ]
  },
  {
   "cell_type": "code",
   "execution_count": 76,
   "id": "095e3853",
   "metadata": {
    "slideshow": {
     "slide_type": "subslide"
    }
   },
   "outputs": [
    {
     "data": {
      "text/html": [
       "<div>\n",
       "<style scoped>\n",
       "    .dataframe tbody tr th:only-of-type {\n",
       "        vertical-align: middle;\n",
       "    }\n",
       "\n",
       "    .dataframe tbody tr th {\n",
       "        vertical-align: top;\n",
       "    }\n",
       "\n",
       "    .dataframe thead th {\n",
       "        text-align: right;\n",
       "    }\n",
       "</style>\n",
       "<table border=\"1\" class=\"dataframe\">\n",
       "  <thead>\n",
       "    <tr style=\"text-align: right;\">\n",
       "      <th></th>\n",
       "      <th>_id</th>\n",
       "      <th>objectid</th>\n",
       "      <th>event_unique_id</th>\n",
       "      <th>primary_offence</th>\n",
       "      <th>occurrence_date</th>\n",
       "      <th>occurrence_year</th>\n",
       "      <th>occurrence_month</th>\n",
       "      <th>occurrence_dayofweek</th>\n",
       "      <th>occurrence_dayofmonth</th>\n",
       "      <th>occurrence_dayofyear</th>\n",
       "      <th>occurrence_hour</th>\n",
       "      <th>report_date</th>\n",
       "      <th>report_year</th>\n",
       "      <th>report_month</th>\n",
       "      <th>report_dayofweek</th>\n",
       "      <th>report_dayofmonth</th>\n",
       "      <th>report_dayofyear</th>\n",
       "      <th>report_hour</th>\n",
       "      <th>division</th>\n",
       "      <th>city</th>\n",
       "      <th>hood_id</th>\n",
       "      <th>neighbourhoodname</th>\n",
       "      <th>location_type</th>\n",
       "      <th>premises_type</th>\n",
       "      <th>bike_make</th>\n",
       "      <th>bike_model</th>\n",
       "      <th>bike_type</th>\n",
       "      <th>bike_speed</th>\n",
       "      <th>bike_colour</th>\n",
       "      <th>bike_cost</th>\n",
       "      <th>status</th>\n",
       "      <th>objectid2</th>\n",
       "      <th>geometry</th>\n",
       "      <th>neighbourhood</th>\n",
       "      <th>n_id</th>\n",
       "      <th>designation</th>\n",
       "      <th>pop_2016</th>\n",
       "      <th>pop_2011</th>\n",
       "      <th>pop_change</th>\n",
       "      <th>private_dwellings</th>\n",
       "      <th>occupied_dwllings</th>\n",
       "      <th>pop_dens</th>\n",
       "      <th>area</th>\n",
       "      <th>total_commuters</th>\n",
       "      <th>drive</th>\n",
       "      <th>car_passenger</th>\n",
       "      <th>transit</th>\n",
       "      <th>walk</th>\n",
       "      <th>bike</th>\n",
       "      <th>other</th>\n",
       "      <th>pct_bike</th>\n",
       "    </tr>\n",
       "  </thead>\n",
       "  <tbody>\n",
       "    <tr>\n",
       "      <th>0</th>\n",
       "      <td>1</td>\n",
       "      <td>17744</td>\n",
       "      <td>GO-20179016397</td>\n",
       "      <td>THEFT UNDER</td>\n",
       "      <td>2017-10-03</td>\n",
       "      <td>2017</td>\n",
       "      <td>October</td>\n",
       "      <td>Tuesday</td>\n",
       "      <td>3</td>\n",
       "      <td>276</td>\n",
       "      <td>14</td>\n",
       "      <td>2017-10-03</td>\n",
       "      <td>2017</td>\n",
       "      <td>October</td>\n",
       "      <td>Tuesday</td>\n",
       "      <td>3</td>\n",
       "      <td>276</td>\n",
       "      <td>18</td>\n",
       "      <td>D22</td>\n",
       "      <td>Toronto</td>\n",
       "      <td>15</td>\n",
       "      <td>Kingsway South (15)</td>\n",
       "      <td>Streets, Roads, Highways (Bicycle Path, Privat...</td>\n",
       "      <td>Outside</td>\n",
       "      <td>GI</td>\n",
       "      <td>ESCAPE 2</td>\n",
       "      <td>OT</td>\n",
       "      <td>7</td>\n",
       "      <td>BLK</td>\n",
       "      <td>700.0</td>\n",
       "      <td>STOLEN</td>\n",
       "      <td>1</td>\n",
       "      <td>{'type': 'Point', 'coordinates': (-79.50655965...</td>\n",
       "      <td>Kingsway South</td>\n",
       "      <td>15</td>\n",
       "      <td>No Designation</td>\n",
       "      <td>9271.0</td>\n",
       "      <td>9170.0</td>\n",
       "      <td>0.011</td>\n",
       "      <td>3710.0</td>\n",
       "      <td>3584.0</td>\n",
       "      <td>3593.0</td>\n",
       "      <td>2.58</td>\n",
       "      <td>3735.0</td>\n",
       "      <td>2210.0</td>\n",
       "      <td>120.0</td>\n",
       "      <td>1185.0</td>\n",
       "      <td>115.0</td>\n",
       "      <td>30.0</td>\n",
       "      <td>50.0</td>\n",
       "      <td>0.008</td>\n",
       "    </tr>\n",
       "    <tr>\n",
       "      <th>1</th>\n",
       "      <td>2</td>\n",
       "      <td>17759</td>\n",
       "      <td>GO-20172033056</td>\n",
       "      <td>THEFT UNDER - BICYCLE</td>\n",
       "      <td>2017-11-08</td>\n",
       "      <td>2017</td>\n",
       "      <td>November</td>\n",
       "      <td>Wednesday</td>\n",
       "      <td>8</td>\n",
       "      <td>312</td>\n",
       "      <td>3</td>\n",
       "      <td>2017-11-08</td>\n",
       "      <td>2017</td>\n",
       "      <td>November</td>\n",
       "      <td>Wednesday</td>\n",
       "      <td>8</td>\n",
       "      <td>312</td>\n",
       "      <td>22</td>\n",
       "      <td>D22</td>\n",
       "      <td>Toronto</td>\n",
       "      <td>15</td>\n",
       "      <td>Kingsway South (15)</td>\n",
       "      <td>Single Home, House (Attach Garage, Cottage, Mo...</td>\n",
       "      <td>House</td>\n",
       "      <td>UNKNOWN MAKE</td>\n",
       "      <td>NaN</td>\n",
       "      <td>TO</td>\n",
       "      <td>1</td>\n",
       "      <td>BLK</td>\n",
       "      <td>1100.0</td>\n",
       "      <td>RECOVERED</td>\n",
       "      <td>2</td>\n",
       "      <td>{'type': 'Point', 'coordinates': (-79.50484874...</td>\n",
       "      <td>Kingsway South</td>\n",
       "      <td>15</td>\n",
       "      <td>No Designation</td>\n",
       "      <td>9271.0</td>\n",
       "      <td>9170.0</td>\n",
       "      <td>0.011</td>\n",
       "      <td>3710.0</td>\n",
       "      <td>3584.0</td>\n",
       "      <td>3593.0</td>\n",
       "      <td>2.58</td>\n",
       "      <td>3735.0</td>\n",
       "      <td>2210.0</td>\n",
       "      <td>120.0</td>\n",
       "      <td>1185.0</td>\n",
       "      <td>115.0</td>\n",
       "      <td>30.0</td>\n",
       "      <td>50.0</td>\n",
       "      <td>0.008</td>\n",
       "    </tr>\n",
       "    <tr>\n",
       "      <th>2</th>\n",
       "      <td>3</td>\n",
       "      <td>17906</td>\n",
       "      <td>GO-20189030822</td>\n",
       "      <td>THEFT UNDER - BICYCLE</td>\n",
       "      <td>2018-09-14</td>\n",
       "      <td>2018</td>\n",
       "      <td>September</td>\n",
       "      <td>Friday</td>\n",
       "      <td>14</td>\n",
       "      <td>257</td>\n",
       "      <td>9</td>\n",
       "      <td>2018-09-17</td>\n",
       "      <td>2018</td>\n",
       "      <td>September</td>\n",
       "      <td>Monday</td>\n",
       "      <td>17</td>\n",
       "      <td>260</td>\n",
       "      <td>16</td>\n",
       "      <td>D22</td>\n",
       "      <td>Toronto</td>\n",
       "      <td>15</td>\n",
       "      <td>Kingsway South (15)</td>\n",
       "      <td>Ttc Subway Station</td>\n",
       "      <td>Transit</td>\n",
       "      <td>OT</td>\n",
       "      <td>CROSSTRAIL</td>\n",
       "      <td>MT</td>\n",
       "      <td>24</td>\n",
       "      <td>BLK</td>\n",
       "      <td>904.0</td>\n",
       "      <td>STOLEN</td>\n",
       "      <td>3</td>\n",
       "      <td>{'type': 'Point', 'coordinates': (-79.51170915...</td>\n",
       "      <td>Kingsway South</td>\n",
       "      <td>15</td>\n",
       "      <td>No Designation</td>\n",
       "      <td>9271.0</td>\n",
       "      <td>9170.0</td>\n",
       "      <td>0.011</td>\n",
       "      <td>3710.0</td>\n",
       "      <td>3584.0</td>\n",
       "      <td>3593.0</td>\n",
       "      <td>2.58</td>\n",
       "      <td>3735.0</td>\n",
       "      <td>2210.0</td>\n",
       "      <td>120.0</td>\n",
       "      <td>1185.0</td>\n",
       "      <td>115.0</td>\n",
       "      <td>30.0</td>\n",
       "      <td>50.0</td>\n",
       "      <td>0.008</td>\n",
       "    </tr>\n",
       "    <tr>\n",
       "      <th>3</th>\n",
       "      <td>4</td>\n",
       "      <td>17962</td>\n",
       "      <td>GO-2015804467</td>\n",
       "      <td>THEFT UNDER</td>\n",
       "      <td>2015-05-07</td>\n",
       "      <td>2015</td>\n",
       "      <td>May</td>\n",
       "      <td>Thursday</td>\n",
       "      <td>7</td>\n",
       "      <td>127</td>\n",
       "      <td>18</td>\n",
       "      <td>2015-05-14</td>\n",
       "      <td>2015</td>\n",
       "      <td>May</td>\n",
       "      <td>Thursday</td>\n",
       "      <td>14</td>\n",
       "      <td>134</td>\n",
       "      <td>14</td>\n",
       "      <td>D22</td>\n",
       "      <td>Toronto</td>\n",
       "      <td>15</td>\n",
       "      <td>Kingsway South (15)</td>\n",
       "      <td>Ttc Subway Station</td>\n",
       "      <td>Transit</td>\n",
       "      <td>GT</td>\n",
       "      <td>NaN</td>\n",
       "      <td>TO</td>\n",
       "      <td>10</td>\n",
       "      <td>BLKDGR</td>\n",
       "      <td>400.0</td>\n",
       "      <td>STOLEN</td>\n",
       "      <td>4</td>\n",
       "      <td>{'type': 'Point', 'coordinates': (-79.51170915...</td>\n",
       "      <td>Kingsway South</td>\n",
       "      <td>15</td>\n",
       "      <td>No Designation</td>\n",
       "      <td>9271.0</td>\n",
       "      <td>9170.0</td>\n",
       "      <td>0.011</td>\n",
       "      <td>3710.0</td>\n",
       "      <td>3584.0</td>\n",
       "      <td>3593.0</td>\n",
       "      <td>2.58</td>\n",
       "      <td>3735.0</td>\n",
       "      <td>2210.0</td>\n",
       "      <td>120.0</td>\n",
       "      <td>1185.0</td>\n",
       "      <td>115.0</td>\n",
       "      <td>30.0</td>\n",
       "      <td>50.0</td>\n",
       "      <td>0.008</td>\n",
       "    </tr>\n",
       "    <tr>\n",
       "      <th>4</th>\n",
       "      <td>5</td>\n",
       "      <td>17963</td>\n",
       "      <td>GO-20159002781</td>\n",
       "      <td>THEFT UNDER</td>\n",
       "      <td>2015-05-16</td>\n",
       "      <td>2015</td>\n",
       "      <td>May</td>\n",
       "      <td>Saturday</td>\n",
       "      <td>16</td>\n",
       "      <td>136</td>\n",
       "      <td>12</td>\n",
       "      <td>2015-05-16</td>\n",
       "      <td>2015</td>\n",
       "      <td>May</td>\n",
       "      <td>Saturday</td>\n",
       "      <td>16</td>\n",
       "      <td>136</td>\n",
       "      <td>15</td>\n",
       "      <td>D22</td>\n",
       "      <td>Toronto</td>\n",
       "      <td>15</td>\n",
       "      <td>Kingsway South (15)</td>\n",
       "      <td>Ttc Subway Station</td>\n",
       "      <td>Transit</td>\n",
       "      <td>GI</td>\n",
       "      <td>NaN</td>\n",
       "      <td>MT</td>\n",
       "      <td>6</td>\n",
       "      <td>RED</td>\n",
       "      <td>600.0</td>\n",
       "      <td>STOLEN</td>\n",
       "      <td>5</td>\n",
       "      <td>{'type': 'Point', 'coordinates': (-79.51132657...</td>\n",
       "      <td>Kingsway South</td>\n",
       "      <td>15</td>\n",
       "      <td>No Designation</td>\n",
       "      <td>9271.0</td>\n",
       "      <td>9170.0</td>\n",
       "      <td>0.011</td>\n",
       "      <td>3710.0</td>\n",
       "      <td>3584.0</td>\n",
       "      <td>3593.0</td>\n",
       "      <td>2.58</td>\n",
       "      <td>3735.0</td>\n",
       "      <td>2210.0</td>\n",
       "      <td>120.0</td>\n",
       "      <td>1185.0</td>\n",
       "      <td>115.0</td>\n",
       "      <td>30.0</td>\n",
       "      <td>50.0</td>\n",
       "      <td>0.008</td>\n",
       "    </tr>\n",
       "  </tbody>\n",
       "</table>\n",
       "</div>"
      ],
      "text/plain": [
       "   _id  objectid event_unique_id        primary_offence occurrence_date  \\\n",
       "0    1     17744  GO-20179016397            THEFT UNDER      2017-10-03   \n",
       "1    2     17759  GO-20172033056  THEFT UNDER - BICYCLE      2017-11-08   \n",
       "2    3     17906  GO-20189030822  THEFT UNDER - BICYCLE      2018-09-14   \n",
       "3    4     17962   GO-2015804467            THEFT UNDER      2015-05-07   \n",
       "4    5     17963  GO-20159002781            THEFT UNDER      2015-05-16   \n",
       "\n",
       "   occurrence_year occurrence_month occurrence_dayofweek  \\\n",
       "0             2017          October              Tuesday   \n",
       "1             2017         November            Wednesday   \n",
       "2             2018        September               Friday   \n",
       "3             2015              May             Thursday   \n",
       "4             2015              May             Saturday   \n",
       "\n",
       "   occurrence_dayofmonth  occurrence_dayofyear  occurrence_hour report_date  \\\n",
       "0                      3                   276               14  2017-10-03   \n",
       "1                      8                   312                3  2017-11-08   \n",
       "2                     14                   257                9  2018-09-17   \n",
       "3                      7                   127               18  2015-05-14   \n",
       "4                     16                   136               12  2015-05-16   \n",
       "\n",
       "   report_year report_month report_dayofweek  report_dayofmonth  \\\n",
       "0         2017      October          Tuesday                  3   \n",
       "1         2017     November        Wednesday                  8   \n",
       "2         2018    September           Monday                 17   \n",
       "3         2015          May         Thursday                 14   \n",
       "4         2015          May         Saturday                 16   \n",
       "\n",
       "   report_dayofyear  report_hour division     city hood_id  \\\n",
       "0               276           18      D22  Toronto      15   \n",
       "1               312           22      D22  Toronto      15   \n",
       "2               260           16      D22  Toronto      15   \n",
       "3               134           14      D22  Toronto      15   \n",
       "4               136           15      D22  Toronto      15   \n",
       "\n",
       "     neighbourhoodname                                      location_type  \\\n",
       "0  Kingsway South (15)  Streets, Roads, Highways (Bicycle Path, Privat...   \n",
       "1  Kingsway South (15)  Single Home, House (Attach Garage, Cottage, Mo...   \n",
       "2  Kingsway South (15)                                 Ttc Subway Station   \n",
       "3  Kingsway South (15)                                 Ttc Subway Station   \n",
       "4  Kingsway South (15)                                 Ttc Subway Station   \n",
       "\n",
       "  premises_type     bike_make  bike_model bike_type  bike_speed bike_colour  \\\n",
       "0       Outside            GI    ESCAPE 2        OT           7         BLK   \n",
       "1         House  UNKNOWN MAKE         NaN        TO           1         BLK   \n",
       "2       Transit            OT  CROSSTRAIL        MT          24         BLK   \n",
       "3       Transit            GT         NaN        TO          10      BLKDGR   \n",
       "4       Transit            GI         NaN        MT           6         RED   \n",
       "\n",
       "   bike_cost     status  objectid2  \\\n",
       "0      700.0     STOLEN          1   \n",
       "1     1100.0  RECOVERED          2   \n",
       "2      904.0     STOLEN          3   \n",
       "3      400.0     STOLEN          4   \n",
       "4      600.0     STOLEN          5   \n",
       "\n",
       "                                            geometry   neighbourhood n_id  \\\n",
       "0  {'type': 'Point', 'coordinates': (-79.50655965...  Kingsway South   15   \n",
       "1  {'type': 'Point', 'coordinates': (-79.50484874...  Kingsway South   15   \n",
       "2  {'type': 'Point', 'coordinates': (-79.51170915...  Kingsway South   15   \n",
       "3  {'type': 'Point', 'coordinates': (-79.51170915...  Kingsway South   15   \n",
       "4  {'type': 'Point', 'coordinates': (-79.51132657...  Kingsway South   15   \n",
       "\n",
       "      designation  pop_2016  pop_2011  pop_change  private_dwellings  \\\n",
       "0  No Designation    9271.0    9170.0       0.011             3710.0   \n",
       "1  No Designation    9271.0    9170.0       0.011             3710.0   \n",
       "2  No Designation    9271.0    9170.0       0.011             3710.0   \n",
       "3  No Designation    9271.0    9170.0       0.011             3710.0   \n",
       "4  No Designation    9271.0    9170.0       0.011             3710.0   \n",
       "\n",
       "   occupied_dwllings  pop_dens  area  total_commuters   drive  car_passenger  \\\n",
       "0             3584.0    3593.0  2.58           3735.0  2210.0          120.0   \n",
       "1             3584.0    3593.0  2.58           3735.0  2210.0          120.0   \n",
       "2             3584.0    3593.0  2.58           3735.0  2210.0          120.0   \n",
       "3             3584.0    3593.0  2.58           3735.0  2210.0          120.0   \n",
       "4             3584.0    3593.0  2.58           3735.0  2210.0          120.0   \n",
       "\n",
       "   transit   walk  bike  other  pct_bike  \n",
       "0   1185.0  115.0  30.0   50.0     0.008  \n",
       "1   1185.0  115.0  30.0   50.0     0.008  \n",
       "2   1185.0  115.0  30.0   50.0     0.008  \n",
       "3   1185.0  115.0  30.0   50.0     0.008  \n",
       "4   1185.0  115.0  30.0   50.0     0.008  "
      ]
     },
     "execution_count": 76,
     "metadata": {},
     "output_type": "execute_result"
    }
   ],
   "source": [
    "thefts_demo = pd.merge(thefts, \n",
    "                       neighbourhoods, \n",
    "                       how='left', \n",
    "                       left_on='hood_id', \n",
    "                       right_on='n_id')\n",
    "thefts_demo.head()"
   ]
  },
  {
   "cell_type": "markdown",
   "id": "a5eb14eb",
   "metadata": {
    "slideshow": {
     "slide_type": "slide"
    }
   },
   "source": [
    "## Grouping and plotting\n",
    "\n",
    "With the datasets joned, we can aggregate and plot the data. We can start using statistical methods, like `corr()` to check for relationships between variables as well."
   ]
  },
  {
   "cell_type": "code",
   "execution_count": 77,
   "id": "a035462b",
   "metadata": {
    "slideshow": {
     "slide_type": "fragment"
    }
   },
   "outputs": [],
   "source": [
    "thefts_2016_grouped = (thefts_demo\n",
    "                       .query('occurrence_year == 2016')\n",
    "                       .groupby(['neighbourhood']))"
   ]
  },
  {
   "cell_type": "code",
   "execution_count": 78,
   "id": "03909127",
   "metadata": {
    "slideshow": {
     "slide_type": "skip"
    }
   },
   "outputs": [
    {
     "data": {
      "text/plain": [
       "<AxesSubplot:ylabel='Frequency'>"
      ]
     },
     "execution_count": 78,
     "metadata": {},
     "output_type": "execute_result"
    },
    {
     "data": {
      "image/png": "[encoded data removed]",
      "text/plain": [
       "<Figure size 432x288 with 1 Axes>"
      ]
     },
     "metadata": {
      "needs_background": "light"
     },
     "output_type": "display_data"
    }
   ],
   "source": [
    "# neighbourhood populations are skewed\n",
    "neighbourhoods.query('neighbourhood != \"City of Toronto\"')['pop_2016'].plot(kind='hist')"
   ]
  },
  {
   "cell_type": "code",
   "execution_count": 79,
   "id": "e7cb4b45",
   "metadata": {
    "slideshow": {
     "slide_type": "skip"
    }
   },
   "outputs": [
    {
     "data": {
      "text/plain": [
       "<AxesSubplot:ylabel='Frequency'>"
      ]
     },
     "execution_count": 79,
     "metadata": {},
     "output_type": "execute_result"
    },
    {
     "data": {
      "image/png": "[encoded data removed]",
      "text/plain": [
       "<Figure size 432x288 with 1 Axes>"
      ]
     },
     "metadata": {
      "needs_background": "light"
     },
     "output_type": "display_data"
    }
   ],
   "source": [
    "# so are the % of commuters who bike to work\n",
    "neighbourhoods.query('neighbourhood != \"City of Toronto\"')['pct_bike'].plot(kind='hist')"
   ]
  },
  {
   "cell_type": "code",
   "execution_count": 80,
   "id": "7cb9084c",
   "metadata": {
    "slideshow": {
     "slide_type": "skip"
    }
   },
   "outputs": [
    {
     "data": {
      "text/plain": [
       "<AxesSubplot:ylabel='Frequency'>"
      ]
     },
     "execution_count": 80,
     "metadata": {},
     "output_type": "execute_result"
    },
    {
     "data": {
      "image/png": "[encoded data removed]",
      "text/plain": [
       "<Figure size 432x288 with 1 Axes>"
      ]
     },
     "metadata": {
      "needs_background": "light"
     },
     "output_type": "display_data"
    }
   ],
   "source": [
    "# as are thefts\n",
    "thefts_2016_grouped.size().plot(kind='hist')"
   ]
  },
  {
   "cell_type": "code",
   "execution_count": 81,
   "id": "e422ff22",
   "metadata": {
    "slideshow": {
     "slide_type": "subslide"
    }
   },
   "outputs": [
    {
     "data": {
      "text/plain": [
       "<AxesSubplot:xlabel='pop', ylabel='total_thefts'>"
      ]
     },
     "execution_count": 81,
     "metadata": {},
     "output_type": "execute_result"
    },
    {
     "data": {
      "image/png": "[encoded data removed]",
      "text/plain": [
       "<Figure size 432x288 with 1 Axes>"
      ]
     },
     "metadata": {
      "needs_background": "light"
     },
     "output_type": "display_data"
    }
   ],
   "source": [
    "# thefts counts vs population\n",
    "(thefts_2016_grouped\n",
    " .agg(total_thefts=('_id', 'count'),\n",
    "      pop=('pop_2016', 'median'),\n",
    "      pct_bike=('pct_bike', 'mean'))\n",
    " .reset_index()\n",
    " .plot(kind='scatter', y='total_thefts', x='pop'))"
   ]
  },
  {
   "cell_type": "code",
   "execution_count": 82,
   "id": "851d0f91",
   "metadata": {
    "slideshow": {
     "slide_type": "subslide"
    }
   },
   "outputs": [
    {
     "data": {
      "text/plain": [
       "<AxesSubplot:title={'center':'Reported Bike Thefts, 2016'}, xlabel='neighbourhood'>"
      ]
     },
     "execution_count": 82,
     "metadata": {},
     "output_type": "execute_result"
    },
    {
     "data": {
      "image/png": "[encoded data removed]",
      "text/plain": [
       "<Figure size 432x288 with 1 Axes>"
      ]
     },
     "metadata": {
      "needs_background": "light"
     },
     "output_type": "display_data"
    }
   ],
   "source": [
    "(thefts_2016_grouped\n",
    " .size()\n",
    " .sort_values(ascending=False)\n",
    " .head(10)\n",
    " .plot(kind='bar', title='Reported Bike Thefts, 2016'))"
   ]
  },
  {
   "cell_type": "code",
   "execution_count": 83,
   "id": "00aa8cc9",
   "metadata": {
    "slideshow": {
     "slide_type": "subslide"
    }
   },
   "outputs": [
    {
     "data": {
      "text/html": [
       "<div>\n",
       "<style scoped>\n",
       "    .dataframe tbody tr th:only-of-type {\n",
       "        vertical-align: middle;\n",
       "    }\n",
       "\n",
       "    .dataframe tbody tr th {\n",
       "        vertical-align: top;\n",
       "    }\n",
       "\n",
       "    .dataframe thead th {\n",
       "        text-align: right;\n",
       "    }\n",
       "</style>\n",
       "<table border=\"1\" class=\"dataframe\">\n",
       "  <thead>\n",
       "    <tr style=\"text-align: right;\">\n",
       "      <th></th>\n",
       "      <th>total_thefts</th>\n",
       "      <th>pop</th>\n",
       "      <th>dens</th>\n",
       "      <th>pct_bike</th>\n",
       "    </tr>\n",
       "  </thead>\n",
       "  <tbody>\n",
       "    <tr>\n",
       "      <th>total_thefts</th>\n",
       "      <td>1.000000</td>\n",
       "      <td>0.267761</td>\n",
       "      <td>0.485556</td>\n",
       "      <td>0.650101</td>\n",
       "    </tr>\n",
       "    <tr>\n",
       "      <th>pop</th>\n",
       "      <td>0.267761</td>\n",
       "      <td>1.000000</td>\n",
       "      <td>0.020082</td>\n",
       "      <td>-0.218934</td>\n",
       "    </tr>\n",
       "    <tr>\n",
       "      <th>dens</th>\n",
       "      <td>0.485556</td>\n",
       "      <td>0.020082</td>\n",
       "      <td>1.000000</td>\n",
       "      <td>0.603434</td>\n",
       "    </tr>\n",
       "    <tr>\n",
       "      <th>pct_bike</th>\n",
       "      <td>0.650101</td>\n",
       "      <td>-0.218934</td>\n",
       "      <td>0.603434</td>\n",
       "      <td>1.000000</td>\n",
       "    </tr>\n",
       "  </tbody>\n",
       "</table>\n",
       "</div>"
      ],
      "text/plain": [
       "              total_thefts       pop      dens  pct_bike\n",
       "total_thefts      1.000000  0.267761  0.485556  0.650101\n",
       "pop               0.267761  1.000000  0.020082 -0.218934\n",
       "dens              0.485556  0.020082  1.000000  0.603434\n",
       "pct_bike          0.650101 -0.218934  0.603434  1.000000"
      ]
     },
     "execution_count": 83,
     "metadata": {},
     "output_type": "execute_result"
    }
   ],
   "source": [
    "# a quick correlation check\n",
    "(thefts_2016_grouped\n",
    " .agg(total_thefts=('_id', 'count'),\n",
    "      pop=('pop_2016', 'median'),\n",
    "      dens=('pop_dens', 'median'),\n",
    "      pct_bike=('pct_bike', 'mean'))\n",
    " .corr('spearman'))"
   ]
  },
  {
   "cell_type": "code",
   "execution_count": 84,
   "id": "75a86cd5",
   "metadata": {
    "slideshow": {
     "slide_type": "subslide"
    }
   },
   "outputs": [],
   "source": [
    "thefts_demo.to_csv('../data/bike_thefts_joined.csv', index=False)\n",
    "neighbourhoods.to_csv('../data/neighbourhoods.csv', index=False)"
   ]
  },
  {
   "cell_type": "markdown",
   "id": "0d1c483c",
   "metadata": {
    "slideshow": {
     "slide_type": "slide"
    }
   },
   "source": [
    "# References"
   ]
  },
  {
   "cell_type": "markdown",
   "id": "9f0d2c99",
   "metadata": {
    "slideshow": {
     "slide_type": "subslide"
    }
   },
   "source": [
    "### Programming\n",
    "- pandas development team. _API reference_. https://pandas.pydata.org/pandas-docs/stable/reference/index.html\n",
    "- pandas development team. _User guide_. https://pandas.pydata.org/pandas-docs/stable/user_guide/index.html\n",
    "- _Python strftime cheatsheet_. https://strftime.org/\n",
    "\n",
    "\n",
    "### Data Sources\n",
    "- Open Data Toronto. _Neighbourhood Profiles_. https://open.toronto.ca/dataset/neighbourhood-profiles/\n",
    "- Open Data Toronto. _TTC Subway Delay Data_. https://open.toronto.ca/dataset/ttc-subway-delay-data/\n",
    "- Open Data Toronto. _Bicyle Thefts_. https://open.toronto.ca/dataset/bicycle-thefts/"
   ]
  }
 ],
 "metadata": {
  "celltoolbar": "Slideshow",
  "kernelspec": {
   "display_name": "Python 3 (ipykernel)",
   "language": "python",
   "name": "python3"
  },
  "language_info": {
   "codemirror_mode": {
    "name": "ipython",
    "version": 3
   },
   "file_extension": ".py",
   "mimetype": "text/x-python",
   "name": "python",
   "nbconvert_exporter": "python",
   "pygments_lexer": "ipython3",
   "version": "3.10.4"
  },
  "rise": {
   "scroll": true,
   "theme": "solarized",
   "transition": "none"
  }
 },
 "nbformat": 4,
 "nbformat_minor": 5
}
