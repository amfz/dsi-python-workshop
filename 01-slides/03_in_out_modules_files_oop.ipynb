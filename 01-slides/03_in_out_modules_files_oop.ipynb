{
 "cells": [
  {
   "cell_type": "markdown",
   "id": "40d3f376",
   "metadata": {
    "slideshow": {
     "slide_type": "slide"
    }
   },
   "source": [
    "# In/Out: Modules, Files, Objects\n",
    "\n",
    "## Introduction to Python\n",
    "\n",
    "Data Sciences Institute, University of Toronto\n",
    "\n",
    "Instructor: A Mahfouz | TA: Kaylie Lau  \n",
    "July 2022"
   ]
  },
  {
   "cell_type": "markdown",
   "id": "11cd7cd4",
   "metadata": {
    "slideshow": {
     "slide_type": "skip"
    }
   },
   "source": [
    "### Jupyter Notebook as a Slideshow\n",
    "\n",
    "To see this notebook as a live slideshow, we need to install RISE (Reveal.js - Jupyter/IPython Slideshow Extension):\n",
    "\n",
    "1. Insert a cell and execute the following code: `conda install -c conda-forge rise`\n",
    "2. Restart the Jupyter Notebook.\n",
    "3. On the top of your notebook you have a new icon that looks like a bar chart; hover over the icon to see 'Enter/Exit RISE Slideshow'.\n",
    "4. Click on the RISE icon and enjoy the slideshow.\n",
    "5. You can edit the notebook in a slideshow mode by double clicking the line.\n",
    "*This is done only once. Now all your notebooks will have the RISE extension (unless you re-install the Jupyter Notebook).*"
   ]
  },
  {
   "cell_type": "markdown",
   "id": "e5e5ab47",
   "metadata": {
    "slideshow": {
     "slide_type": "slide"
    }
   },
   "source": [
    "# Contents:\n",
    "\n",
    "1. Modules\n",
    "2. Working with Files\n",
    "3. Object-Oriented Programming"
   ]
  },
  {
   "cell_type": "markdown",
   "id": "b80d4fb6",
   "metadata": {
    "slideshow": {
     "slide_type": "slide"
    }
   },
   "source": [
    "# Modules"
   ]
  },
  {
   "cell_type": "markdown",
   "id": "87f65f22",
   "metadata": {
    "slideshow": {
     "slide_type": "slide"
    }
   },
   "source": [
    "## What is a module?\n",
    "\n",
    "A _module_ is a file that contains Python function definitions and executable statements. Just as functions let us reuse code in a program, modules let us reuse code across multiple programs. \n",
    "\n",
    "Modules to do related tasks can be collected into a _package_. Later on, we will use packages to work with datasets. You may hear terms module, package, and library used interchangeably -- they all refer to reusable collections of code that make it easier to do certain tasks."
   ]
  },
  {
   "cell_type": "markdown",
   "id": "e5d501b3",
   "metadata": {
    "slideshow": {
     "slide_type": "slide"
    }
   },
   "source": [
    "## Working with modules\n",
    "\n",
    "Python comes with several modules built in. To use one, we `import` it. Normally, `import` statements go at the very top of the file -- we're only putting them in the middle here for teaching purposes."
   ]
  },
  {
   "cell_type": "code",
   "execution_count": 1,
   "id": "c08ca78f",
   "metadata": {
    "slideshow": {
     "slide_type": "fragment"
    }
   },
   "outputs": [],
   "source": [
    "import math"
   ]
  },
  {
   "cell_type": "markdown",
   "id": "9e1a8d99",
   "metadata": {
    "slideshow": {
     "slide_type": "subslide"
    }
   },
   "source": [
    "When using code in a module, we first reference the module, follwed by a period, then the value or function being used."
   ]
  },
  {
   "cell_type": "code",
   "execution_count": 2,
   "id": "407dfc26",
   "metadata": {
    "slideshow": {
     "slide_type": "fragment"
    }
   },
   "outputs": [
    {
     "data": {
      "text/plain": [
       "3.141592653589793"
      ]
     },
     "execution_count": 2,
     "metadata": {},
     "output_type": "execute_result"
    }
   ],
   "source": [
    "math.pi"
   ]
  },
  {
   "cell_type": "code",
   "execution_count": 3,
   "id": "25fce45c",
   "metadata": {
    "slideshow": {
     "slide_type": "fragment"
    }
   },
   "outputs": [
    {
     "data": {
      "text/plain": [
       "4"
      ]
     },
     "execution_count": 3,
     "metadata": {},
     "output_type": "execute_result"
    }
   ],
   "source": [
    "math.gcd(13984, 232, 18356)"
   ]
  },
  {
   "cell_type": "markdown",
   "id": "bbe0ad03",
   "metadata": {
    "slideshow": {
     "slide_type": "subslide"
    }
   },
   "source": [
    "Not referencing the module produces an error."
   ]
  },
  {
   "cell_type": "code",
   "execution_count": 4,
   "id": "71224e29",
   "metadata": {
    "slideshow": {
     "slide_type": "fragment"
    }
   },
   "outputs": [
    {
     "ename": "NameError",
     "evalue": "name 'pi' is not defined",
     "output_type": "error",
     "traceback": [
      "\u001b[1;31m---------------------------------------------------------------------------\u001b[0m",
      "\u001b[1;31mNameError\u001b[0m                                 Traceback (most recent call last)",
      "Input \u001b[1;32mIn [4]\u001b[0m, in \u001b[0;36m<cell line: 1>\u001b[1;34m()\u001b[0m\n\u001b[1;32m----> 1\u001b[0m \u001b[43mpi\u001b[49m\n",
      "\u001b[1;31mNameError\u001b[0m: name 'pi' is not defined"
     ]
    }
   ],
   "source": [
    "pi"
   ]
  },
  {
   "cell_type": "code",
   "execution_count": 5,
   "id": "93e6765f",
   "metadata": {
    "slideshow": {
     "slide_type": "fragment"
    }
   },
   "outputs": [
    {
     "ename": "NameError",
     "evalue": "name 'gcd' is not defined",
     "output_type": "error",
     "traceback": [
      "\u001b[1;31m---------------------------------------------------------------------------\u001b[0m",
      "\u001b[1;31mNameError\u001b[0m                                 Traceback (most recent call last)",
      "Input \u001b[1;32mIn [5]\u001b[0m, in \u001b[0;36m<cell line: 1>\u001b[1;34m()\u001b[0m\n\u001b[1;32m----> 1\u001b[0m \u001b[43mgcd\u001b[49m(\u001b[38;5;241m13984\u001b[39m, \u001b[38;5;241m232\u001b[39m, \u001b[38;5;241m18356\u001b[39m)\n",
      "\u001b[1;31mNameError\u001b[0m: name 'gcd' is not defined"
     ]
    }
   ],
   "source": [
    "gcd(13984, 232, 18356)"
   ]
  },
  {
   "cell_type": "markdown",
   "id": "8a9cad8c",
   "metadata": {
    "slideshow": {
     "slide_type": "subslide"
    }
   },
   "source": [
    "If we only want a part of a module, we can import parts with a `from...import` statement. This is useful for large modules like `datetime`, where we may only want to use a few features."
   ]
  },
  {
   "cell_type": "code",
   "execution_count": 6,
   "id": "c0bbaa05",
   "metadata": {
    "slideshow": {
     "slide_type": "fragment"
    }
   },
   "outputs": [],
   "source": [
    "from datetime import date"
   ]
  },
  {
   "cell_type": "code",
   "execution_count": 7,
   "id": "de2b81f5",
   "metadata": {
    "slideshow": {
     "slide_type": "fragment"
    }
   },
   "outputs": [
    {
     "name": "stdout",
     "output_type": "stream",
     "text": [
      "2022-07-13\n"
     ]
    }
   ],
   "source": [
    "# we don't have to write datetime.date.today()\n",
    "print(date.today())"
   ]
  },
  {
   "cell_type": "markdown",
   "id": "5c336296",
   "metadata": {
    "slideshow": {
     "slide_type": "slide"
    }
   },
   "source": [
    "## Working with dates\n",
    "\n",
    "Earlier, we encountered the `datetime` module. `datetime` provides date, time, datetime, and timedelta types, plus ways to manipulate them."
   ]
  },
  {
   "cell_type": "code",
   "execution_count": 8,
   "id": "340ff83d",
   "metadata": {
    "slideshow": {
     "slide_type": "fragment"
    }
   },
   "outputs": [],
   "source": [
    "# import more submodules from datetime\n",
    "from datetime import datetime, timedelta"
   ]
  },
  {
   "cell_type": "markdown",
   "id": "e1418831",
   "metadata": {
    "slideshow": {
     "slide_type": "slide"
    }
   },
   "source": [
    "### Creating dates\n",
    "\n",
    "The easiest day to create a date is with `date` and `datetime`'s `today()` method. Of course, this is only good so long as we want the current date. We can use the `date()` and `datetime()` functions to create dates in general, passing in integers for year, month, and day, plus an optional timezone argument. For `datetime()`, we can also pass arguments for hour, minute, second, and microsecond."
   ]
  },
  {
   "cell_type": "code",
   "execution_count": 9,
   "id": "f3dd49ba",
   "metadata": {
    "slideshow": {
     "slide_type": "subslide"
    }
   },
   "outputs": [
    {
     "name": "stdout",
     "output_type": "stream",
     "text": [
      "2022-07-13 08:01:34.318522\n"
     ]
    },
    {
     "data": {
      "text/plain": [
       "datetime.datetime(2022, 7, 13, 8, 1, 34, 318522)"
      ]
     },
     "execution_count": 9,
     "metadata": {},
     "output_type": "execute_result"
    }
   ],
   "source": [
    "print(datetime.today())\n",
    "datetime.today()"
   ]
  },
  {
   "cell_type": "code",
   "execution_count": 10,
   "id": "b070d064",
   "metadata": {
    "slideshow": {
     "slide_type": "fragment"
    }
   },
   "outputs": [
    {
     "data": {
      "text/plain": [
       "datetime.date(1991, 2, 20)"
      ]
     },
     "execution_count": 10,
     "metadata": {},
     "output_type": "execute_result"
    }
   ],
   "source": [
    "py_launch = date(1991, 2, 20)\n",
    "py_launch"
   ]
  },
  {
   "cell_type": "markdown",
   "id": "6052feea",
   "metadata": {
    "slideshow": {
     "slide_type": "slide"
    }
   },
   "source": [
    "### Accessing date parts\n",
    "\n",
    "We can access parts of a datetime, like the month or the minute."
   ]
  },
  {
   "cell_type": "code",
   "execution_count": 11,
   "id": "515df9e0",
   "metadata": {
    "slideshow": {
     "slide_type": "fragment"
    }
   },
   "outputs": [
    {
     "data": {
      "text/plain": [
       "1991"
      ]
     },
     "execution_count": 11,
     "metadata": {},
     "output_type": "execute_result"
    }
   ],
   "source": [
    "py_launch.year"
   ]
  },
  {
   "cell_type": "code",
   "execution_count": 12,
   "id": "a357a372",
   "metadata": {
    "slideshow": {
     "slide_type": "fragment"
    }
   },
   "outputs": [
    {
     "data": {
      "text/plain": [
       "1"
      ]
     },
     "execution_count": 12,
     "metadata": {},
     "output_type": "execute_result"
    }
   ],
   "source": [
    "datetime.today().minute"
   ]
  },
  {
   "cell_type": "markdown",
   "id": "cd83aa4a",
   "metadata": {
    "slideshow": {
     "slide_type": "subslide"
    }
   },
   "source": [
    "We can even do arithmetic with datetime parts, but it's not datetime-specific."
   ]
  },
  {
   "cell_type": "code",
   "execution_count": 13,
   "id": "784acaac",
   "metadata": {
    "slideshow": {
     "slide_type": "fragment"
    }
   },
   "outputs": [
    {
     "data": {
      "text/plain": [
       "1996"
      ]
     },
     "execution_count": 13,
     "metadata": {},
     "output_type": "execute_result"
    }
   ],
   "source": [
    "# we can add to datetime parts\n",
    "py_launch.year + 5"
   ]
  },
  {
   "cell_type": "code",
   "execution_count": 14,
   "id": "c3ae4893",
   "metadata": {
    "slideshow": {
     "slide_type": "fragment"
    }
   },
   "outputs": [
    {
     "data": {
      "text/plain": [
       "61"
      ]
     },
     "execution_count": 14,
     "metadata": {},
     "output_type": "execute_result"
    }
   ],
   "source": [
    "datetime.today().minute + 60"
   ]
  },
  {
   "cell_type": "markdown",
   "id": "47bae18f",
   "metadata": {
    "slideshow": {
     "slide_type": "slide"
    }
   },
   "source": [
    "### Date operations and `timedelta`\n",
    "\n",
    "We can add and subtract dates from one another with the `+` and `-` operators. The value we get back isn't a date or a time, however, but a `timedelta` -- a different type of data that stores the difference in days, seconds, and microseconds."
   ]
  },
  {
   "cell_type": "code",
   "execution_count": 15,
   "id": "307fa784",
   "metadata": {
    "slideshow": {
     "slide_type": "fragment"
    }
   },
   "outputs": [
    {
     "data": {
      "text/plain": [
       "datetime.timedelta(days=-8230, seconds=57505, microseconds=583480)"
      ]
     },
     "execution_count": 15,
     "metadata": {},
     "output_type": "execute_result"
    }
   ],
   "source": [
    "datetime(2000, 1, 1) - datetime.today()"
   ]
  },
  {
   "cell_type": "markdown",
   "id": "20e2933f",
   "metadata": {
    "slideshow": {
     "slide_type": "subslide"
    }
   },
   "source": [
    "To format the age more nicely, we can access `timedelta`'s `days` part and divide."
   ]
  },
  {
   "cell_type": "code",
   "execution_count": 16,
   "id": "2fc1dd14",
   "metadata": {
    "slideshow": {
     "slide_type": "fragment"
    }
   },
   "outputs": [
    {
     "name": "stdout",
     "output_type": "stream",
     "text": [
      "Python is 11466 days, 0:00:00\n"
     ]
    }
   ],
   "source": [
    "# calculate how old Python is\n",
    "py_age = date.today() - date(1991, 2, 20)\n",
    "print(f'Python is {py_age}')"
   ]
  },
  {
   "cell_type": "code",
   "execution_count": 17,
   "id": "b430c7af",
   "metadata": {
    "slideshow": {
     "slide_type": "fragment"
    }
   },
   "outputs": [
    {
     "name": "stdout",
     "output_type": "stream",
     "text": [
      "Python is 31 years old.\n"
     ]
    }
   ],
   "source": [
    "print(f'Python is {py_age.days//365} years old.')"
   ]
  },
  {
   "cell_type": "markdown",
   "id": "8ab5625f",
   "metadata": {
    "slideshow": {
     "slide_type": "subslide"
    }
   },
   "source": [
    "If we want to add or subtract a specific amount of time, we can use the `timedelta()` function, passing in as keyword arguments the desired interval."
   ]
  },
  {
   "cell_type": "code",
   "execution_count": 18,
   "id": "8b3307f7",
   "metadata": {
    "slideshow": {
     "slide_type": "fragment"
    }
   },
   "outputs": [
    {
     "data": {
      "text/plain": [
       "datetime.datetime(2022, 7, 13, 9, 1, 34, 458519)"
      ]
     },
     "execution_count": 18,
     "metadata": {},
     "output_type": "execute_result"
    }
   ],
   "source": [
    "# find the time an hour from now\n",
    "datetime.today() + timedelta(hours=1)"
   ]
  },
  {
   "cell_type": "markdown",
   "id": "8c6114c7",
   "metadata": {
    "slideshow": {
     "slide_type": "slide"
    }
   },
   "source": [
    "### `strptime()` and `strftime()`\n",
    "\n",
    "Often, we get dates and times as text in a variety of formats. Just as often, we need to format a date or a time for text. `strptime()` and `strftime()` let us convert strings into datetimes and datetimes into formatted strings, respectively. To do so, we specify the datetime format using format codes. "
   ]
  },
  {
   "cell_type": "markdown",
   "id": "6db08b6b",
   "metadata": {
    "slideshow": {
     "slide_type": "subslide"
    }
   },
   "source": [
    "### Datetime format codes\n",
    "\n",
    "https://strftime.org/ has a complete cheat sheet for format codes. The most common codes are below.\n",
    "\n",
    "| Code | Description |\n",
    "|---|---|\n",
    "| %Y | Four-digit year |\n",
    "| %m | Zero-padded month |\n",
    "| %B | Month name |\n",
    "| %A | Day name |\n",
    "| %d | Zero-padded day |\n",
    "| %H | Zero-padded hour (24-hour clock) |\n",
    "| %I | Zero-padded hour (12-hour clock) |\n",
    "| %M | Zero-padded minute |\n",
    "| %S | Zero-padded second |\n",
    "| %p | AM/PM |"
   ]
  },
  {
   "cell_type": "code",
   "execution_count": 19,
   "id": "2602a534",
   "metadata": {
    "slideshow": {
     "slide_type": "subslide"
    }
   },
   "outputs": [
    {
     "data": {
      "text/plain": [
       "'08:01 Wednesday 13 July 2022'"
      ]
     },
     "execution_count": 19,
     "metadata": {},
     "output_type": "execute_result"
    }
   ],
   "source": [
    "datetime.today().strftime('%H:%M %A %d %B %Y')"
   ]
  },
  {
   "cell_type": "code",
   "execution_count": 20,
   "id": "2973d812",
   "metadata": {
    "slideshow": {
     "slide_type": "fragment"
    }
   },
   "outputs": [
    {
     "data": {
      "text/plain": [
       "datetime.datetime(1991, 2, 20, 0, 0)"
      ]
     },
     "execution_count": 20,
     "metadata": {},
     "output_type": "execute_result"
    }
   ],
   "source": [
    "# parse a string to datetime\n",
    "datetime.strptime(\"Feb 20 '91\", \"%b %d '%y\")"
   ]
  },
  {
   "cell_type": "markdown",
   "id": "9675877a",
   "metadata": {
    "slideshow": {
     "slide_type": "slide"
    }
   },
   "source": [
    "## Regular expressions\n",
    "\n",
    "Python also has a module `re`, for _regular expressions_. Regular expressions, or _regex_, can be thought of a mini-language for pattern matching text. Regular expressions give us more powerful tools for finding substrings."
   ]
  },
  {
   "cell_type": "code",
   "execution_count": 21,
   "id": "c0fd02fc",
   "metadata": {
    "slideshow": {
     "slide_type": "fragment"
    }
   },
   "outputs": [],
   "source": [
    "import re"
   ]
  },
  {
   "cell_type": "code",
   "execution_count": 22,
   "id": "1c306f87",
   "metadata": {
    "slideshow": {
     "slide_type": "fragment"
    }
   },
   "outputs": [],
   "source": [
    "text = '''My favourite thing to do on nice days is program.\n",
    "Programming is fun as long as there aren't too many bugs!'''"
   ]
  },
  {
   "cell_type": "markdown",
   "id": "f2a33ae5",
   "metadata": {
    "slideshow": {
     "slide_type": "slide"
    }
   },
   "source": [
    "### regex: a brief guide\n",
    "\n",
    "There are several special characters in regex. These are some of the most common. Python's documentation provides a [guide to regular expression syntax](https://docs.python.org/3/library/re.html#regular-expression-syntax).\n",
    "\n",
    "| Character | Meaning |\n",
    "|---|---|\n",
    "| * | Match zero or more of the RE before |\n",
    "| + | Match one or more of the RE before |\n",
    "| ? | Match zero or one of the RE before |\n",
    "| \\ | Escape character |\n",
    "| \\d | Match any decimal digit |\n",
    "| \\s | Match any whitespace |\n",
    "| \\w | Match any word character (letters, digits, underscore) |\n",
    "| [aeiou] | Match any of the characters in brackets |"
   ]
  },
  {
   "cell_type": "markdown",
   "id": "0c8dd018",
   "metadata": {
    "slideshow": {
     "slide_type": "slide"
    }
   },
   "source": [
    "### Searching for text\n",
    "\n",
    "`re`'s `search()` function lets us pattern match text. It returns a special match type that tells us what text was matched and where in the string it was found. Note that only the first match is indicated."
   ]
  },
  {
   "cell_type": "code",
   "execution_count": 23,
   "id": "9263e625",
   "metadata": {
    "slideshow": {
     "slide_type": "fragment"
    }
   },
   "outputs": [
    {
     "data": {
      "text/plain": [
       "<re.Match object; span=(3, 12), match='favourite'>"
      ]
     },
     "execution_count": 23,
     "metadata": {},
     "output_type": "execute_result"
    }
   ],
   "source": [
    "re.search('favou?rite', text)"
   ]
  },
  {
   "cell_type": "code",
   "execution_count": 24,
   "id": "a81db0a5",
   "metadata": {
    "slideshow": {
     "slide_type": "fragment"
    }
   },
   "outputs": [
    {
     "name": "stdout",
     "output_type": "stream",
     "text": [
      "Text includes favourites\n"
     ]
    }
   ],
   "source": [
    "if re.search('favou?rite', text):\n",
    "    print('Text includes favourites')\n",
    "else:\n",
    "    print('Text is about something else')"
   ]
  },
  {
   "cell_type": "markdown",
   "id": "026828ec",
   "metadata": {
    "slideshow": {
     "slide_type": "subslide"
    }
   },
   "source": [
    "`findall()` returns all non-overlapping matches of a pattern in a string. The result can be either a list of strings or a list of tuples, depending on the regular expression. Note that we can add in flags -- essentially settings -- for pattern matching."
   ]
  },
  {
   "cell_type": "code",
   "execution_count": 25,
   "id": "0fbaa5c0",
   "metadata": {
    "slideshow": {
     "slide_type": "fragment"
    }
   },
   "outputs": [
    {
     "data": {
      "text/plain": [
       "['thing', 'Programming']"
      ]
     },
     "execution_count": 25,
     "metadata": {},
     "output_type": "execute_result"
    }
   ],
   "source": [
    "# match words ending in -ing\n",
    "re.findall('\\w*ing', text)"
   ]
  },
  {
   "cell_type": "code",
   "execution_count": 26,
   "id": "e2b02f20",
   "metadata": {
    "slideshow": {
     "slide_type": "fragment"
    }
   },
   "outputs": [
    {
     "data": {
      "text/plain": [
       "['ing', 'ing']"
      ]
     },
     "execution_count": 26,
     "metadata": {},
     "output_type": "execute_result"
    }
   ],
   "source": [
    "# see what happens if we just search for 'ing'\n",
    "re.findall('ing', text)"
   ]
  },
  {
   "cell_type": "code",
   "execution_count": 27,
   "id": "5e19231b",
   "metadata": {
    "slideshow": {
     "slide_type": "fragment"
    }
   },
   "outputs": [
    {
     "data": {
      "text/plain": [
       "['program', 'Program']"
      ]
     },
     "execution_count": 27,
     "metadata": {},
     "output_type": "execute_result"
    }
   ],
   "source": [
    "# use re.I for case insensitive matching\n",
    "re.findall('program', text, flags=re.I)"
   ]
  },
  {
   "cell_type": "markdown",
   "id": "054484b0",
   "metadata": {
    "slideshow": {
     "slide_type": "slide"
    }
   },
   "source": [
    "### Replacing Text\n",
    "\n",
    "The `sub()` function replaces occurrences of a pattern. `sub()` takes as arguments the pattern to look for, the replacement string, and the string to make replacements in. It also takes an optional `count` argument for how many occurrences to replace and a `flags` argument."
   ]
  },
  {
   "cell_type": "code",
   "execution_count": 28,
   "id": "dd86c4b2",
   "metadata": {
    "slideshow": {
     "slide_type": "fragment"
    }
   },
   "outputs": [
    {
     "data": {
      "text/plain": [
       "\"My favourite thing to do on nice days is garden.\\ngardening is fun as long as there aren't too many bugs!\""
      ]
     },
     "execution_count": 28,
     "metadata": {},
     "output_type": "execute_result"
    }
   ],
   "source": [
    "# replace 'program' with 'garden'\n",
    "re.sub('program+', 'garden', text, flags=re.I)"
   ]
  },
  {
   "cell_type": "markdown",
   "id": "91f3154b",
   "metadata": {
    "slideshow": {
     "slide_type": "slide"
    }
   },
   "source": [
    "### Reusing regular expressions\n",
    "\n",
    "If we want to use a regular expression in multiple places in our program, we can `compile()` the pattern and any flags. Then, we can use the pattern's methods to find and replace text."
   ]
  },
  {
   "cell_type": "code",
   "execution_count": 29,
   "id": "99dfa20d",
   "metadata": {
    "slideshow": {
     "slide_type": "fragment"
    }
   },
   "outputs": [],
   "source": [
    "program_re = re.compile('program', flags=re.I)"
   ]
  },
  {
   "cell_type": "code",
   "execution_count": 30,
   "id": "977095a0",
   "metadata": {
    "slideshow": {
     "slide_type": "fragment"
    }
   },
   "outputs": [],
   "source": [
    "about_py = 'Python is a programming language first released in 1991.'"
   ]
  },
  {
   "cell_type": "code",
   "execution_count": 31,
   "id": "96494b6b",
   "metadata": {
    "slideshow": {
     "slide_type": "fragment"
    }
   },
   "outputs": [
    {
     "name": "stdout",
     "output_type": "stream",
     "text": [
      "['program', 'Program']\n",
      "['program']\n"
     ]
    }
   ],
   "source": [
    "print(program_re.findall(text))\n",
    "print(program_re.findall(about_py))"
   ]
  },
  {
   "cell_type": "markdown",
   "id": "58b5b55e",
   "metadata": {
    "slideshow": {
     "slide_type": "slide"
    }
   },
   "source": [
    "# Working with Files"
   ]
  },
  {
   "cell_type": "markdown",
   "id": "dab3ac0a",
   "metadata": {
    "slideshow": {
     "slide_type": "slide"
    }
   },
   "source": [
    "So far we have worked with data bundled with our notebooks. Most data, of course, is stored elsewhere: in databases and files stored locally and online. We need to be able to read data into a program to do analyses. We should also be able to write data out to files of our own."
   ]
  },
  {
   "cell_type": "markdown",
   "id": "a277810c",
   "metadata": {
    "slideshow": {
     "slide_type": "slide"
    }
   },
   "source": [
    "## Reading and writing files\n",
    "\n",
    "Luckily, Python has a built-in function, `open()` for opening files. `open()` takes a string indicating the _file path_, or location, of the file to open, plus a one-character string indicating whether we should open the file in read-only, overwrite, or append mode.\n",
    "\n",
    "| `open()` mode | Description |\n",
    "|---|---|\n",
    "|`'r'` | Read-only. Produces an error if the file does not already exist. |\n",
    "|`'w'` | Write. Creates a new file if one does not exist. If the file already exists, the current contents are deleted and overwritten. |\n",
    "|`'a'`| Append. Adds to an existing file. If the file does not exist, it will be created. |"
   ]
  },
  {
   "cell_type": "markdown",
   "id": "dc1b1f0e",
   "metadata": {
    "slideshow": {
     "slide_type": "subslide"
    }
   },
   "source": [
    "Paths can be _absolute_, like `C:/Users/Owner/Documents/data/demo_data.csv`, or _relative_, like `data/demo_data.csv`. Relative paths are relative to the folder the Python file is in -- if our code is not in `Documents`, `data/demo_data.csv` won't work."
   ]
  },
  {
   "cell_type": "markdown",
   "id": "8ec68487",
   "metadata": {
    "slideshow": {
     "slide_type": "slide"
    }
   },
   "source": [
    "### Opening files\n",
    "\n",
    "To open a file, we use a `with` statement, which follows the pattern `with open('file_path') as file_variable_name:`, then an indented block of code to process the file. The `with` statement ensures that Python closes the file when we're done working with it."
   ]
  },
  {
   "cell_type": "code",
   "execution_count": 32,
   "id": "5b305de4",
   "metadata": {
    "slideshow": {
     "slide_type": "fragment"
    }
   },
   "outputs": [
    {
     "name": "stdout",
     "output_type": "stream",
     "text": [
      "<_io.TextIOWrapper name='sample_data/california_housing_test.csv' mode='r' encoding='cp1252'>\n"
     ]
    }
   ],
   "source": [
    "with open('sample_data/california_housing_test.csv', 'r') as f:\n",
    "    print(f)"
   ]
  },
  {
   "cell_type": "markdown",
   "id": "86b48775",
   "metadata": {
    "slideshow": {
     "slide_type": "slide"
    }
   },
   "source": [
    "### Reading files\n",
    "\n",
    "Opening a file doesn't immediately get us the file's contents. To do that, we must use a read method.\n",
    "\n",
    "* `read()` returns the full file contents, which can be overwhelming for larger files. \n",
    "* `readline()` returns only the next line in the file. Python keeps track of where it is in the file.\n",
    "* `readlines()` returns the full file as a list. Each item is one line in the file."
   ]
  },
  {
   "cell_type": "code",
   "execution_count": 33,
   "id": "ce0cfbe4",
   "metadata": {
    "slideshow": {
     "slide_type": "subslide"
    }
   },
   "outputs": [
    {
     "name": "stdout",
     "output_type": "stream",
     "text": [
      "longitude,latitude,housing_median_age,total_rooms,total_bedrooms,population,households,median_income,median_house_value\n",
      "\n",
      "-122.05,37.37,27,3885,661,1537,606,6.6085,344700\n",
      "\n",
      "-118.3,34.26,43,1510,310,809,277,3.599,176500\n",
      "\n",
      "-117.81,33.78,27,3589,507,1484,495,5.7934,270500\n",
      "\n",
      "-118.36,33.82,28,67,15,49,11,6.1359,330000\n",
      "\n"
     ]
    }
   ],
   "source": [
    "with open('sample_data/california_housing_test.csv', 'r') as f:\n",
    "    for i in range(5):\n",
    "        print(f.readline())"
   ]
  },
  {
   "cell_type": "markdown",
   "id": "7456e7db",
   "metadata": {
    "slideshow": {
     "slide_type": "slide"
    }
   },
   "source": [
    "### Writing files\n",
    "\n",
    "There are corresponding `write()` methods for files.\n",
    "\n",
    "* `write()` writes a string to file.\n",
    "* `writelines()` writes each item in an iterable to file, with no separating text in between."
   ]
  },
  {
   "cell_type": "code",
   "execution_count": 34,
   "id": "85531f81",
   "metadata": {
    "slideshow": {
     "slide_type": "subslide"
    }
   },
   "outputs": [],
   "source": [
    "provinces = ['BC', 'AB', 'SK', 'MB', 'ON', 'QC', 'NL', 'NB', 'NS', 'PE']\n",
    "with open('provinces.txt', 'w') as province_file:\n",
    "    province_file.writelines(provinces)"
   ]
  },
  {
   "cell_type": "code",
   "execution_count": 35,
   "id": "aaa2bb40",
   "metadata": {
    "slideshow": {
     "slide_type": "fragment"
    }
   },
   "outputs": [
    {
     "name": "stdout",
     "output_type": "stream",
     "text": [
      "BCABSKMBONQCNLNBNSPE\n"
     ]
    }
   ],
   "source": [
    "with open('provinces.txt', 'r') as province_file:\n",
    "    print(province_file.read())"
   ]
  },
  {
   "cell_type": "markdown",
   "id": "7357d118",
   "metadata": {
    "slideshow": {
     "slide_type": "slide"
    }
   },
   "source": [
    "## Working with specific file formats\n",
    "\n",
    "Python has built-in modules for working with specific file formats, like `csv` and `json`. We won't spend much time here, as we will soon be working with libraries that let us open, analyze, and write data in both formats."
   ]
  },
  {
   "cell_type": "code",
   "execution_count": 36,
   "id": "b46dcfa7",
   "metadata": {
    "slideshow": {
     "slide_type": "subslide"
    }
   },
   "outputs": [],
   "source": [
    "import csv"
   ]
  },
  {
   "cell_type": "code",
   "execution_count": null,
   "id": "0a842459",
   "metadata": {
    "slideshow": {
     "slide_type": "fragment"
    }
   },
   "outputs": [],
   "source": [
    "with open('sample_data/california_housing_test.csv', 'r') as f:\n",
    "    contents = csv.reader(f)\n",
    "    for row in contents:\n",
    "        print(row)"
   ]
  },
  {
   "cell_type": "markdown",
   "id": "c83aae9f",
   "metadata": {
    "slideshow": {
     "slide_type": "slide"
    }
   },
   "source": [
    "## Navigating folders\n",
    "\n",
    "Being able to navigate the computer's file system enables us to work with entire folders' worth of files stored locally on a computer (or \"locally\" in an environment like Colab). Python's built-in `os` module lets us do just that."
   ]
  },
  {
   "cell_type": "code",
   "execution_count": 38,
   "id": "1f29bddb",
   "metadata": {
    "slideshow": {
     "slide_type": "fragment"
    }
   },
   "outputs": [],
   "source": [
    "import os"
   ]
  },
  {
   "cell_type": "code",
   "execution_count": 39,
   "id": "701522bd",
   "metadata": {
    "slideshow": {
     "slide_type": "fragment"
    }
   },
   "outputs": [
    {
     "data": {
      "text/plain": [
       "'C:\\\\Users\\\\unive\\\\Documents\\\\GitHub\\\\dsi-python-workshop\\\\01-slides'"
      ]
     },
     "execution_count": 39,
     "metadata": {},
     "output_type": "execute_result"
    }
   ],
   "source": [
    "# get the path to the folder we're currently in\n",
    "os.getcwd()"
   ]
  },
  {
   "cell_type": "code",
   "execution_count": 40,
   "id": "4df1c5d7",
   "metadata": {
    "slideshow": {
     "slide_type": "subslide"
    }
   },
   "outputs": [
    {
     "data": {
      "text/plain": [
       "['.ipynb_checkpoints',\n",
       " '00_hello_python.ipynb',\n",
       " '01_getting_started_fundamentals.ipynb',\n",
       " '02_reality_control_flow_iterables.ipynb',\n",
       " '03_in_out_modules_files_oop.ipynb',\n",
       " '04a_data_numpy.ipynb',\n",
       " '04b_data_pandas.ipynb',\n",
       " 'provinces.txt',\n",
       " 'sample_data']"
      ]
     },
     "execution_count": 40,
     "metadata": {},
     "output_type": "execute_result"
    }
   ],
   "source": [
    "# see the contents of the current folder\n",
    "os.listdir()"
   ]
  },
  {
   "cell_type": "code",
   "execution_count": 41,
   "id": "a0659f7d",
   "metadata": {
    "slideshow": {
     "slide_type": "fragment"
    }
   },
   "outputs": [
    {
     "name": "stdout",
     "output_type": "stream",
     "text": [
      "anscombe.json\n",
      "california_housing_test.csv\n"
     ]
    }
   ],
   "source": [
    "# loop over the files in the sample data folder\n",
    "for i in os.listdir('sample_data'):\n",
    "    print(i)"
   ]
  },
  {
   "cell_type": "markdown",
   "id": "7b02eeb2",
   "metadata": {
    "slideshow": {
     "slide_type": "slide"
    }
   },
   "source": [
    "## Manipulating paths\n",
    "\n",
    "The `os.path` submodule provides safe ways to manipulate paths. `os.path.join()` lets us create properly formatted paths from separate folder and file names, without worrying about getting slashes right. `os.path.exists()` lets us check for a file before trying to open or accidentally overwriting it."
   ]
  },
  {
   "cell_type": "code",
   "execution_count": 42,
   "id": "89b245b5",
   "metadata": {
    "slideshow": {
     "slide_type": "subslide"
    }
   },
   "outputs": [
    {
     "data": {
      "text/plain": [
       "['C:\\\\Users\\\\unive\\\\Documents\\\\GitHub\\\\dsi-python-workshop\\\\01-slides\\\\sample_data\\\\anscombe.json',\n",
       " 'C:\\\\Users\\\\unive\\\\Documents\\\\GitHub\\\\dsi-python-workshop\\\\01-slides\\\\sample_data\\\\california_housing_test.csv']"
      ]
     },
     "execution_count": 42,
     "metadata": {},
     "output_type": "execute_result"
    }
   ],
   "source": [
    "# create full paths for sample data files\n",
    "\n",
    "cwd = os.getcwd()\n",
    "full_paths = []\n",
    "for i in os.listdir('sample_data'):\n",
    "    full_paths.append(os.path.join(cwd, \n",
    "                                   'sample_data', \n",
    "                                   i))\n",
    "full_paths"
   ]
  },
  {
   "cell_type": "code",
   "execution_count": 43,
   "id": "f7d65c3e",
   "metadata": {
    "slideshow": {
     "slide_type": "subslide"
    }
   },
   "outputs": [],
   "source": [
    "# check if a file exists to avoid overwriting it\n",
    "text = 'Lavender is a small purple flower.'\n",
    "\n",
    "if os.path.exists('plants.txt'):\n",
    "    print('plants.txt already exists')\n",
    "else:\n",
    "    with open('plants.txt', 'w') as f:\n",
    "        f.write(text)"
   ]
  },
  {
   "cell_type": "markdown",
   "id": "5016d56e",
   "metadata": {
    "slideshow": {
     "slide_type": "slide"
    }
   },
   "source": [
    "# Object-Oriented Programming\n",
    "(a very brief introduction)"
   ]
  },
  {
   "cell_type": "markdown",
   "id": "dac05654",
   "metadata": {
    "slideshow": {
     "slide_type": "slide"
    }
   },
   "source": [
    "## What is object-oriented programming (OOP)?\n",
    "\n",
    "_Object-oriented programming_ is an approach to writing programs that organizes code into _objects_ with data, or _attributes_, and _methods_ (which we've seen before!). The Python types we have seen are all objects. The data science packages we'll encounter adopt this approach as well.\n",
    "\n",
    "In Python, objects are modeled with _classes_. We can think of a class as a template that defines an object's attributes and methods."
   ]
  },
  {
   "cell_type": "markdown",
   "id": "073bd969",
   "metadata": {
    "slideshow": {
     "slide_type": "notes"
    }
   },
   "source": [
    "## An OOP approach\n",
    "\n",
    "Object-oriented programming can be broken down into phases:\n",
    "\n",
    "1. **Understanding the problem domain**: What work is the program meant to do?\n",
    "2. **Identifying type(s) that might be needed**: Types might correspond to nouns and noun phrases in the problem domain.\n",
    "3. **Identifying features types should have**: Come up with examples of code that uses the type.\n",
    "4. **Writing a class to represent a type**: Translate the type into a Python class and methods.\n",
    "5. **Testing code**: Making sure methods work as expected individually and together."
   ]
  },
  {
   "cell_type": "markdown",
   "id": "70bb0d1f",
   "metadata": {
    "slideshow": {
     "slide_type": "subslide"
    }
   },
   "source": [
    "For example, we can model basketball players as a class. To keep it simple, let's say each player has a position, team, and jersey number. Players can dribble, shoot, or pass the ball to another player.\n",
    "\n",
    "In this case, the class _BasketballPlayer_ would have the attributes _position_, _team_, and _jersey_number_, and the methods _dribble()_, _shoot()_, and _pass_ball(player)_. To create a new BasketballPlayer, we would have to somehow specify their position, team, and jersey number."
   ]
  },
  {
   "cell_type": "markdown",
   "id": "c3ee1c5c",
   "metadata": {
    "slideshow": {
     "slide_type": "subslide"
    }
   },
   "source": [
    "We can model abstract concepts as classes, too. A _Dataset_ class might have attributes like values and size. Methods could include calculating summary statistics, like finding the mean or counting unique values. To create a new Dataset, we would have to specify the values, while the size could be calculated for us.\n",
    "\n",
    "A _LinearModel_ class might have attributes like coefficients and variables, and methods to fit the model to data or make predictions."
   ]
  },
  {
   "cell_type": "markdown",
   "id": "1764ae0c",
   "metadata": {
    "slideshow": {
     "slide_type": "slide"
    }
   },
   "source": [
    "## Creating a class\n",
    "\n",
    "Let's turn _Dataset_ into an actual class. Similar to how we use `def` to start a function definition, we use `class` to define a new class. Class names, by convention, start with a capital letter.\n",
    "\n",
    "```python\n",
    "class Dataset:\n",
    "    '''Data values and methods to summarize them''''\n",
    "```"
   ]
  },
  {
   "cell_type": "markdown",
   "id": "d72534f5",
   "metadata": {
    "slideshow": {
     "slide_type": "subslide"
    }
   },
   "source": [
    "Then, we define the class's `__init__()` method, which is a special method that is called whenever we make a new instance of our class. It _initializes_ the object in memory. The first parameter of every method is  `self`, a reference to the object. `__init()__` should also take data to use to make an object -- in this case, values to store. \n",
    "\n",
    "```python\n",
    "class Dataset:\n",
    "    '''Data values and methods to summarize them'''\n",
    "    \n",
    "    def __init__(self, values):\n",
    "        '''Create a new dataset with values as a list'''\n",
    "```"
   ]
  },
  {
   "cell_type": "markdown",
   "id": "e4b4d1f1",
   "metadata": {
    "slideshow": {
     "slide_type": "subslide"
    }
   },
   "source": [
    "We use `__init__()` to attach data, or attributes, to the individual object. This looks like variable assignments we've seen so far, except that every variable name starts with `self.`. Notice that attributes can be derived.\n",
    "\n",
    "```python\n",
    "class Dataset:\n",
    "    '''Data values and methods to summarize them'''\n",
    "    \n",
    "    def __init__(self, values):\n",
    "        '''Create a new dataset with values as a list'''\n",
    "        self.values = values\n",
    "        self.size = len(values)\n",
    "```"
   ]
  },
  {
   "cell_type": "markdown",
   "id": "2741c59d",
   "metadata": {
    "slideshow": {
     "slide_type": "subslide"
    }
   },
   "source": [
    "We can then define additional methods. Each method takes `self` as its first parameter. Attributes should always be referenced with the `self.` prefix.\n",
    "\n",
    "```python\n",
    "    def unique(self):\n",
    "        '''Return a list of unique values'''\n",
    "        return list(set(self.values))\n",
    "```"
   ]
  },
  {
   "cell_type": "markdown",
   "id": "72e26677",
   "metadata": {
    "slideshow": {
     "slide_type": "subslide"
    }
   },
   "source": [
    "A bare-bones Dataset class might look like this."
   ]
  },
  {
   "cell_type": "code",
   "execution_count": 44,
   "id": "ddc50fe6",
   "metadata": {
    "slideshow": {
     "slide_type": "fragment"
    }
   },
   "outputs": [],
   "source": [
    "class Dataset:\n",
    "    '''Data values and methods to summarize them'''\n",
    "    \n",
    "    def __init__(self, values):\n",
    "        '''Create a new dataset with values as a list'''\n",
    "        self.values = values\n",
    "        self.size = len(values)\n",
    "        \n",
    "    def unique(self):\n",
    "        '''Return a list of unique values'''\n",
    "        return list(set(self.values))\n",
    "    \n",
    "    def mean(self):\n",
    "        '''Return the mean of all numeric values'''\n",
    "        numbers = []\n",
    "        \n",
    "        for i in self.values:\n",
    "            if type(i) is int or type(i) is float:\n",
    "                numbers.append(i)\n",
    "        return sum(numbers)/len(numbers)"
   ]
  },
  {
   "cell_type": "markdown",
   "id": "981b0404",
   "metadata": {
    "slideshow": {
     "slide_type": "subslide"
    }
   },
   "source": [
    "To create a Dataset instance, we do not call `__init__()` directly. Instead, we call `Dataset()`, passing in `values`. Once we have a Dataset instance, we can call Dataset methods just as we did built-in type methods."
   ]
  },
  {
   "cell_type": "code",
   "execution_count": 45,
   "id": "0844ec54",
   "metadata": {
    "slideshow": {
     "slide_type": "subslide"
    }
   },
   "outputs": [
    {
     "name": "stdout",
     "output_type": "stream",
     "text": [
      "['A', 90, 70, 87]\n",
      "6\n",
      "80.8\n"
     ]
    }
   ],
   "source": [
    "grades = Dataset([90, 87, 70, 70, 87, 'A'])\n",
    "\n",
    "print(grades.unique())\n",
    "print(grades.size)\n",
    "print(grades.mean())"
   ]
  },
  {
   "cell_type": "markdown",
   "id": "533fdd56",
   "metadata": {
    "slideshow": {
     "slide_type": "slide"
    }
   },
   "source": [
    "## Why the double underscores?\n",
    "\n",
    "`__init__()` is what Python calls a magic or dunder (for double underscore) method. These methods customize what Python does when other functions are called, like how `__init__()` defined `Dataset()`. \n",
    "\n",
    "Other common magic methods we encounter in classes are `__repr__()`, which tells Python what should appear when we `print()` an object, and `__str__()`, which Python uses to convert an object to a string."
   ]
  },
  {
   "cell_type": "markdown",
   "id": "888c1c1d",
   "metadata": {
    "slideshow": {
     "slide_type": "slide"
    }
   },
   "source": [
    "## Why learn this?\n",
    "\n",
    "It's possible to do a lot of analysis without ever designing our own classes. We do, however, encounter objects all the time. The hypothetical _Dataset_ and _LinearModel_ classes are simplified versions of real classes in packages like `numpy` and `scikit-learn`. Having an intuition for objects makes it easier to understand why code looks the way it does and helps demystify documentation, which often assumes the reader is familiar with OOP concepts."
   ]
  },
  {
   "cell_type": "markdown",
   "id": "b8f97d53",
   "metadata": {
    "slideshow": {
     "slide_type": "slide"
    }
   },
   "source": [
    "# References"
   ]
  },
  {
   "cell_type": "markdown",
   "id": "0d1c483c",
   "metadata": {
    "slideshow": {
     "slide_type": "subslide"
    }
   },
   "source": [
    "- Bostroem, Bekolay, and Staneva (eds): \"Software Carpentry: Programming with Python\" Version 2016.06, June 2016, https://github.com/swcarpentry/python-novice-inflammation, 10.5281/zenodo.57492.\n",
    "- Chapter 6, 10 and 14, Gries, Campbell, and Montojo, 2017, *Practical Programming: An Introduction to Computer Science Using Python 3.6*\n",
    "- \"Modules\", Python Software Foundation, *Python Language Reference, version 3.* https://docs.python.org/3/tutorial/modules.html.\n",
    "- \"datetime\", Python Software Foundation, *Python language Reference, version 3.* https://docs.python.org/3/library/datetime.html\n",
    "- \"os\", Python Software Foundation, *Python language Reference, version 3.* https://docs.python.org/3/library/os.html\n",
    "- \"re\", Python Software Foundation, *Python Language Reference, version 3.* https://docs.python.org/3/library/re.html"
   ]
  }
 ],
 "metadata": {
  "celltoolbar": "Slideshow",
  "kernelspec": {
   "display_name": "Python 3 (ipykernel)",
   "language": "python",
   "name": "python3"
  },
  "language_info": {
   "codemirror_mode": {
    "name": "ipython",
    "version": 3
   },
   "file_extension": ".py",
   "mimetype": "text/x-python",
   "name": "python",
   "nbconvert_exporter": "python",
   "pygments_lexer": "ipython3",
   "version": "3.10.4"
  },
  "rise": {
   "scroll": true,
   "theme": "solarized",
   "transition": "none"
  }
 },
 "nbformat": 4,
 "nbformat_minor": 5
}
