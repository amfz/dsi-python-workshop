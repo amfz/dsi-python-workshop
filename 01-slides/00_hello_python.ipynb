{
 "cells": [
  {
   "cell_type": "markdown",
   "id": "40d3f376",
   "metadata": {
    "slideshow": {
     "slide_type": "slide"
    }
   },
   "source": [
    "# Hello, Python\n",
    "\n",
    "## Introduction to Python  \n",
    "Data Sciences Institute, University of Toronto\n",
    "\n",
    "Instructor: A Mahfouz | TA: Kaylie Lau  \n",
    "July 2022"
   ]
  },
  {
   "cell_type": "markdown",
   "id": "11cd7cd4",
   "metadata": {
    "slideshow": {
     "slide_type": "skip"
    }
   },
   "source": [
    "### Jupyter Notebook as a Slideshow\n",
    "\n",
    "To see this notebook as a live slideshow, we need to install RISE (Reveal.js - Jupyter/IPython Slideshow Extension):\n",
    "\n",
    "1. Insert a cell and execute the following code: `conda install -c conda-forge rise`\n",
    "2. Restart the Jupyter Notebook.\n",
    "3. On the top of your notebook you have a new icon that looks like a bar chart; hover over the icon to see 'Enter/Exit RISE Slideshow'.\n",
    "4. Click on the RISE icon and enjoy the slideshow.\n",
    "5. You can edit the notebook in a slideshow mode by double clicking the line.\n",
    "*This is done only once. Now all your notebooks will have the RISE extension (unless you re-install the Jupyter Notebook).*"
   ]
  },
  {
   "cell_type": "markdown",
   "id": "e5e5ab47",
   "metadata": {
    "slideshow": {
     "slide_type": "slide"
    }
   },
   "source": [
    "# Contents:\n",
    "\n",
    "1. Welcome!\n",
    "2. Course Logistics\n",
    "3. Key Texts\n",
    "4. Setup\n",
    "5. Course Tour"
   ]
  },
  {
   "cell_type": "markdown",
   "id": "73f58102",
   "metadata": {
    "slideshow": {
     "slide_type": "slide"
    }
   },
   "source": [
    "# Welcome!\n",
    "\n",
    "The course introduces the Python programming language starting from its basics, working up to loading, manipulating, and visualizing real datasets with popular data science libraries. It was designed by the University of Toronto's Data Science Institute for those who have a degree in something other than Computer Science/Statistics who are looking to enhance their data science skills for their career.\n",
    "\n",
    "All course materials can be found on GitHub: https://github.com/amfz/dsi-python-workshop"
   ]
  },
  {
   "cell_type": "markdown",
   "id": "35623595",
   "metadata": {
    "slideshow": {
     "slide_type": "slide"
    }
   },
   "source": [
    "# Course Logistics"
   ]
  },
  {
   "cell_type": "markdown",
   "id": "6e110f37",
   "metadata": {
    "slideshow": {
     "slide_type": "slide"
    }
   },
   "source": [
    "## Course contacts\n",
    "\n",
    "**Instructor: A. Mahfouz (they/them)**  \n",
    "Email: amhfz@proton.me\n",
    "\n",
    "\n",
    "**TA: Kaylie Lau (she/her)**  \n",
    "Email: kaylie.lau@mail.utoronto.ca\n",
    "\n",
    "Please include \"DSI-Python\" or similar in the subject line!"
   ]
  },
  {
   "cell_type": "markdown",
   "id": "7da4d8a1",
   "metadata": {
    "slideshow": {
     "slide_type": "slide"
    }
   },
   "source": [
    "## Format\n",
    "\n",
    "The course runs synchronously over Zoom. It consists of three classes a week for two weeks, or six classes total. Classes are 6 PM - 8 PM EDT on Mondays and Thursdays, and 9 AM - 12 PM EDT on Saturdays. Being mindful of online fatigue, there will be one break during each class where students are encouraged to stretch, grab a drink and snacks, or ask any additional questions."
   ]
  },
  {
   "cell_type": "markdown",
   "id": "003cd01a",
   "metadata": {
    "slideshow": {
     "slide_type": "slide"
    }
   },
   "source": [
    "## Prerequisites\n",
    "\n",
    "Learners are expected to know how to operate a computer and to be able to install programs on their machines. Learners are also expected to be familiar with the parts of a data table or spreadsheet, summary statistics, and basic data visualizations. No prior programming knowledge is required."
   ]
  },
  {
   "cell_type": "markdown",
   "id": "a9ec5245",
   "metadata": {
    "slideshow": {
     "slide_type": "slide"
    }
   },
   "source": [
    "## Class expectations\n",
    "\n",
    "The course is a live-coding class. Learners are expected to follow along with the coding in their own Python notebooks. Learners should be active participants while coding and are encouraged to ask questions throughout. Although slides will be available, they should be referenced before or after class, as class will be dedicated to coding with the instructor."
   ]
  },
  {
   "cell_type": "markdown",
   "id": "4b3b75ff",
   "metadata": {
    "slideshow": {
     "slide_type": "slide"
    }
   },
   "source": [
    "## Technology requirements\n",
    "\n",
    "Learners must have an internet connection and a computer to participate in online activities.\n",
    "\n",
    "Learners are highly encouraged to install the following programs in advance:\n",
    "\n",
    "- Anaconda from https://www.anaconda.com/products/individual#Downloads\n",
    "- Jupyter Notebook (install within Anaconda Navigator)\n",
    "\n",
    "If learners prefer, they may use [Google Colab](https://colab.research.google.com/?authuser=1) instead."
   ]
  },
  {
   "cell_type": "markdown",
   "id": "8a5d4910",
   "metadata": {
    "slideshow": {
     "slide_type": "slide"
    }
   },
   "source": [
    "# Key Texts\n",
    "\n",
    "- Gries, P., Campbell, J., Montojo, J., & Coron, T. (2017). *Practical programming: An introduction to computer science using python 3.6.* \n",
    "- Adhikari, DeNero, and Wagner, (2021). *Computational and Inferential Thinking: The Foundations of Data Science.*\n",
    "- Thomas, R. (2021). *Avoiding Data Disasters*. https://www.fast.ai/2021/11/04/data-disasters/\n",
    "- Boykis, V. (2019). *Neural nets are just people all the way down.* https://vicki.substack.com/p/neural-nets-are-just-people-all-the\n"
   ]
  },
  {
   "cell_type": "markdown",
   "id": "f7f1df44",
   "metadata": {
    "slideshow": {
     "slide_type": "slide"
    }
   },
   "source": [
    "# Setup"
   ]
  },
  {
   "cell_type": "markdown",
   "id": "c0e5e1d5",
   "metadata": {
    "slideshow": {
     "slide_type": "slide"
    }
   },
   "source": [
    "## Options\n",
    "\n",
    "\n",
    "<table>\n",
    "    <tr>\n",
    "        <th>Google Colab</th>\n",
    "        <th>Anaconda</th>\n",
    "    </tr>\n",
    "    <tr>\n",
    "        <td>\n",
    "            <ul>\n",
    "                <li>Easy to get started</li>\n",
    "                <li>Less flexible</li>\n",
    "                <li>Runs online through a Google account</li>\n",
    "            </ul>\n",
    "        </td>\n",
    "        <td>\n",
    "            <ul>\n",
    "                <li>Can be tricky to install</li>\n",
    "                <li>Lots of flexibility</li>\n",
    "                <li>Installed on your own computer</li>\n",
    "            </ul>\n",
    "        </td>\n",
    "    </tr>\n",
    "    <tr>\n",
    "        <td>\n",
    "            <p>Go to <a href=\"https://colab.research.google.com/\">https://colab.research.google.com/</a></p>\n",
    "            <p>In the upper left corner, click <strong>File</strong>, then <strong>New notebook</strong>.\n",
    "        </td>\n",
    "        <td>\n",
    "            <p>Download and install from <a href=\"https://www.anaconda.com/products/distributionl#Downloads\">anaconda.com/products/distribution#Downloads</a></p>\n",
    "            <p>Open <strong>Anaconda Navigator</strong>. Then, install and launch <strong>Jupyter Notebook.</strong>\n",
    "        </td>\n",
    "    </tr>\n",
    "</table>\n",
    "    \n"
   ]
  },
  {
   "cell_type": "markdown",
   "id": "a2c2ea75",
   "metadata": {
    "slideshow": {
     "slide_type": "subslide"
    }
   },
   "source": [
    "### Anaconda and Notebooks\n",
    "\n",
    "_Anaconda_ is a software suite that consists of Python and several complementary data science applications. It includes a Python _interpreter_, or a program that translates Python code into machine instructions. It also includes _Jupyter Notebook_, a web application that lets us combine pieces of executable code, text, images, and visualizations in a single document, or notebook. Even though Jupyter Notebook is a web application, notebooks are stored locally on your computer, not hosted online by default.\n",
    "\n",
    "Sections of a notebook are called _cells_. Cells can be run independently of each other, and in any order."
   ]
  },
  {
   "cell_type": "markdown",
   "id": "92258b2e",
   "metadata": {
    "slideshow": {
     "slide_type": "subslide"
    }
   },
   "source": [
    "### Google Colab\n",
    "_Google Colab_ is a Jupyter Notebook environment hosted on the cloud -- that is, on Google's servers. Google Colab provides a standardized notebook environment, with common data science libraries already installed."
   ]
  },
  {
   "cell_type": "markdown",
   "id": "274addfb",
   "metadata": {
    "slideshow": {
     "slide_type": "slide"
    }
   },
   "source": [
    "## Check your Python version\n",
    "\n",
    "Try adding and running your first code cells.\n",
    "\n",
    "1. Add a cell by clicking the **+** in the toolbar (Jupyter Notebooks) or **+ Code** (Google Colab).\n",
    "2. Enter the following: `!python --version`.\n",
    "3. Press `ctrl` + `enter` to run the cell.\n",
    "\n",
    "You should see Python 3.6 or higher."
   ]
  },
  {
   "cell_type": "code",
   "execution_count": 2,
   "id": "fbf32138",
   "metadata": {
    "slideshow": {
     "slide_type": "fragment"
    }
   },
   "outputs": [
    {
     "name": "stdout",
     "output_type": "stream",
     "text": [
      "Python 3.10.4\n"
     ]
    }
   ],
   "source": [
    "!python --version"
   ]
  },
  {
   "cell_type": "markdown",
   "id": "e354e2f1",
   "metadata": {
    "slideshow": {
     "slide_type": "slide"
    }
   },
   "source": [
    "## Adding text\n",
    "\n",
    "Notebooks use markdown, a markup language, for formatting text. IBM publishes a [Jupyter-specific markdown cheat sheet](https://www.ibm.com/docs/en/watson-studio-local/1.2.3?topic=notebooks-markdown-jupyter-cheatsheet).\n",
    "\n",
    "To add a text cell:\n",
    "1. (Jupyter Notebooks) Click **+** in the toolbar. Then in the dropdown menu to the right, switch the cell from Code to **Markdown**.\n",
    "2. (Google Colab) Click **+ Text**\n",
    "3. Add some text. When you are done editing, press `ctrl` + `enter` to run the cell and format your text."
   ]
  },
  {
   "cell_type": "markdown",
   "id": "20e93dcc",
   "metadata": {
    "slideshow": {
     "slide_type": "slide"
    }
   },
   "source": [
    "# Course Tour"
   ]
  },
  {
   "cell_type": "markdown",
   "id": "11113866",
   "metadata": {
    "slideshow": {
     "slide_type": "slide"
    }
   },
   "source": [
    "## Getting Started\n",
    "\n",
    "What are the core features of Python?\n",
    "\n",
    "### Topics\n",
    "* Data types and variables\n",
    "* Expressions and statements\n",
    "* Functions\n",
    "* Dealing with errors\n",
    "* Comments and readability"
   ]
  },
  {
   "cell_type": "markdown",
   "id": "e7b999b1",
   "metadata": {
    "slideshow": {
     "slide_type": "subslide"
    }
   },
   "source": [
    "### What is Python?\n",
    "\n",
    "Python is a general-purpose programming language first released in 1991. It has since become a popular language for data science, thanks to an enthusiastic community and a large ecosystem of code libraries and tools that make it easier to perform common tasks throughout the data science life cycle."
   ]
  },
  {
   "cell_type": "markdown",
   "id": "f8cb8e13",
   "metadata": {
    "slideshow": {
     "slide_type": "subslide"
    }
   },
   "source": [
    "```python\n",
    "# create a variable\n",
    "degrees_celsius = 25\n",
    "\n",
    "# convert to Fahrenheit\n",
    "(9 / 5) * degrees_celsius + 32\n",
    "\n",
    "# make it a function\n",
    "def c_to_f(degrees_c):\n",
    "    return (9 / 5) * degrees_c + 32\n",
    "```"
   ]
  },
  {
   "cell_type": "markdown",
   "id": "a89b5a74",
   "metadata": {
    "slideshow": {
     "slide_type": "slide"
    }
   },
   "source": [
    "## Dealing with Reality\n",
    "\n",
    "What tools does Python give us for working with collections of values and for writing programs that change their behaviour based on data?\n",
    "\n",
    "### Topics\n",
    "* Logic\n",
    "* Conditionals\n",
    "* Iteration\n",
    "* Sequences and collections of values"
   ]
  },
  {
   "cell_type": "markdown",
   "id": "a579777c",
   "metadata": {
    "slideshow": {
     "slide_type": "subslide"
    }
   },
   "source": [
    "```python \n",
    "numbers = [2, 52, 18, 27, 5, 1937]\n",
    "\n",
    "for number in numbers:\n",
    "    if number % 2 == 0:\n",
    "        print('Even')\n",
    "    else:\n",
    "        print('Odd')\n",
    "```"
   ]
  },
  {
   "cell_type": "markdown",
   "id": "c661cb5d",
   "metadata": {
    "slideshow": {
     "slide_type": "slide"
    }
   },
   "source": [
    "## In/Out\n",
    "\n",
    "How can we bring in outside code and data to accomplish tasks? How can we get data out of our programs?\n",
    "\n",
    "### Topics\n",
    "* Modules\n",
    "* Working with files\n",
    "* Object-oriented programming"
   ]
  },
  {
   "cell_type": "markdown",
   "id": "03d2f7e5",
   "metadata": {
    "slideshow": {
     "slide_type": "subslide"
    }
   },
   "source": [
    "```python\n",
    "import os\n",
    "\n",
    "for f in os.listdir('folder'):\n",
    "    if f.endswith('.csv'):\n",
    "        # process file\n",
    "```"
   ]
  },
  {
   "cell_type": "markdown",
   "id": "f7d16d86",
   "metadata": {
    "slideshow": {
     "slide_type": "slide"
    }
   },
   "source": [
    "## Doing More with Data\n",
    "\n",
    "How can we work with real data for analysis?\n",
    "\n",
    "### Topics\n",
    "* `numpy` and `pandas`\n",
    "* Loading tabular data\n",
    "* Exploring data\n",
    "* Wrangling data\n",
    "* Reshaping and combining datasets"
   ]
  },
  {
   "cell_type": "code",
   "execution_count": 57,
   "id": "e64bf489",
   "metadata": {
    "slideshow": {
     "slide_type": "subslide"
    }
   },
   "outputs": [
    {
     "data": {
      "text/html": [
       "<div>\n",
       "<style scoped>\n",
       "    .dataframe tbody tr th:only-of-type {\n",
       "        vertical-align: middle;\n",
       "    }\n",
       "\n",
       "    .dataframe tbody tr th {\n",
       "        vertical-align: top;\n",
       "    }\n",
       "\n",
       "    .dataframe thead th {\n",
       "        text-align: right;\n",
       "    }\n",
       "</style>\n",
       "<table border=\"1\" class=\"dataframe\">\n",
       "  <thead>\n",
       "    <tr style=\"text-align: right;\">\n",
       "      <th></th>\n",
       "      <th>Characteristic</th>\n",
       "      <th>City of Toronto</th>\n",
       "    </tr>\n",
       "  </thead>\n",
       "  <tbody>\n",
       "    <tr>\n",
       "      <th>0</th>\n",
       "      <td>Neighbourhood Number</td>\n",
       "      <td>NaN</td>\n",
       "    </tr>\n",
       "    <tr>\n",
       "      <th>1</th>\n",
       "      <td>TSNS2020 Designation</td>\n",
       "      <td>NaN</td>\n",
       "    </tr>\n",
       "    <tr>\n",
       "      <th>2</th>\n",
       "      <td>Population, 2016</td>\n",
       "      <td>2,731,571</td>\n",
       "    </tr>\n",
       "    <tr>\n",
       "      <th>3</th>\n",
       "      <td>Population, 2011</td>\n",
       "      <td>2,615,060</td>\n",
       "    </tr>\n",
       "    <tr>\n",
       "      <th>4</th>\n",
       "      <td>Population Change 2011-2016</td>\n",
       "      <td>4.50%</td>\n",
       "    </tr>\n",
       "  </tbody>\n",
       "</table>\n",
       "</div>"
      ],
      "text/plain": [
       "                Characteristic City of Toronto\n",
       "0         Neighbourhood Number             NaN\n",
       "1         TSNS2020 Designation             NaN\n",
       "2             Population, 2016       2,731,571\n",
       "3             Population, 2011       2,615,060\n",
       "4  Population Change 2011-2016           4.50%"
      ]
     },
     "execution_count": 57,
     "metadata": {},
     "output_type": "execute_result"
    }
   ],
   "source": [
    "import pandas as pd\n",
    "\n",
    "neighbourhoods = pd.read_csv('../data/neighbourhood-profiles-2016-140-model.csv')\n",
    "neighbourhoods[['Characteristic', 'City of Toronto']].head()"
   ]
  },
  {
   "cell_type": "markdown",
   "id": "7abad1ec",
   "metadata": {
    "slideshow": {
     "slide_type": "slide"
    }
   },
   "source": [
    "## Visualizing Data\n",
    "\n",
    "How do we create visualizations in Python?\n",
    "\n",
    "### Topics\n",
    "* `matplotlib`, `seaborn` and `plotly`\n",
    "* Bar charts, histograms, scatterplots, line charts\n",
    "* Faceting and layering"
   ]
  },
  {
   "cell_type": "code",
   "execution_count": 58,
   "id": "56fa2ed0",
   "metadata": {
    "slideshow": {
     "slide_type": "skip"
    }
   },
   "outputs": [],
   "source": [
    "neighbourhoods = (neighbourhoods\n",
    "                  .query('Characteristic == \"Population, 2016\"')\n",
    "                  .drop(columns=['_id', \n",
    "                                 'Category', \n",
    "                                 'Topic', \n",
    "                                 'Data Source', \n",
    "                                 'City of Toronto'])\n",
    "                  .melt(id_vars=['Characteristic'],\n",
    "                        var_name='Neighbourhood',\n",
    "                        value_name='Population, 2016'))\n",
    "neighbourhoods['Population, 2016'] = neighbourhoods['Population, 2016'].str.replace(',', '')\n",
    "neighbourhoods['Population, 2016'] = pd.to_numeric(neighbourhoods['Population, 2016'])\n",
    "neighbourhoods = neighbourhoods.sort_values(by='Population, 2016', ascending=False)"
   ]
  },
  {
   "cell_type": "code",
   "execution_count": 77,
   "id": "15af717b",
   "metadata": {
    "slideshow": {
     "slide_type": "subslide"
    }
   },
   "outputs": [
    {
     "data": {
      "text/plain": [
       "Text(0.5, 1.0, 'Top 10 Toronto Neighbourhoods by Population')"
      ]
     },
     "execution_count": 77,
     "metadata": {},
     "output_type": "execute_result"
    },
    {
     "data": {
      "image/png": "[encoded data removed]",
      "text/plain": [
       "<Figure size 432x288 with 1 Axes>"
      ]
     },
     "metadata": {},
     "output_type": "display_data"
    }
   ],
   "source": [
    "import seaborn as sns\n",
    "\n",
    "sns.set_theme()\n",
    "\n",
    "(sns.barplot(data=neighbourhoods.head(10), \n",
    "            y='Neighbourhood', \n",
    "            x='Population, 2016')\n",
    "    .set_title('Top 10 Toronto Neighbourhoods by Population',\n",
    "              fontdict={'fontsize': 18}))"
   ]
  },
  {
   "cell_type": "markdown",
   "id": "6a120b79",
   "metadata": {
    "slideshow": {
     "slide_type": "slide"
    }
   },
   "source": [
    "## Do It Again\n",
    "\n",
    "How can we make our work easier to reproduce and/or maintain?\n",
    "\n",
    "### Topics\n",
    "* Environments\n",
    "* Testing and debugging\n",
    "* Moving beyond notebooks"
   ]
  },
  {
   "cell_type": "code",
   "execution_count": 79,
   "id": "88bef59d",
   "metadata": {
    "slideshow": {
     "slide_type": "subslide"
    }
   },
   "outputs": [
    {
     "data": {
      "text/plain": [
       "TestResults(failed=0, attempted=2)"
      ]
     },
     "execution_count": 79,
     "metadata": {},
     "output_type": "execute_result"
    }
   ],
   "source": [
    "import doctest\n",
    "\n",
    "def c_to_f(degrees_c):\n",
    "    '''\n",
    "    Convert degrees Celsius to Fahrenheit\n",
    "    >>> c_to_f(0)\n",
    "    32.0\n",
    "    >>> c_to_f(10)\n",
    "    50.0\n",
    "    '''\n",
    "    return (9 / 5) * degrees_c + 32\n",
    "\n",
    "doctest.testmod()"
   ]
  },
  {
   "cell_type": "markdown",
   "id": "9dc6fb59",
   "metadata": {
    "slideshow": {
     "slide_type": "slide"
    }
   },
   "source": [
    "## Ethics\n",
    "\n",
    "What do we even mean when we talk about ethics in tech? \n",
    "\n",
    "### Topics\n",
    "* What does \"tech ethics\" usually entail?\n",
    "* Where do our data and models come from?\n",
    "* What responsibility do we have for the data we collect and use?"
   ]
  },
  {
   "cell_type": "markdown",
   "id": "a1cb7059",
   "metadata": {
    "slideshow": {
     "slide_type": "slide"
    }
   },
   "source": [
    "## Professional Skills\n",
    "\n",
    "How can we prepare for a data science job interview?\n",
    "\n",
    "### Topics\n",
    "* Technical resources\n",
    "* Common questions"
   ]
  },
  {
   "cell_type": "markdown",
   "id": "0d1c483c",
   "metadata": {
    "slideshow": {
     "slide_type": "slide"
    }
   },
   "source": [
    "# Let's get started!"
   ]
  }
 ],
 "metadata": {
  "celltoolbar": "Slideshow",
  "kernelspec": {
   "display_name": "Python 3 (ipykernel)",
   "language": "python",
   "name": "python3"
  },
  "language_info": {
   "codemirror_mode": {
    "name": "ipython",
    "version": 3
   },
   "file_extension": ".py",
   "mimetype": "text/x-python",
   "name": "python",
   "nbconvert_exporter": "python",
   "pygments_lexer": "ipython3",
   "version": "3.10.4"
  },
  "rise": {
   "scroll": true,
   "theme": "solarized",
   "transition": "none"
  }
 },
 "nbformat": 4,
 "nbformat_minor": 5
}
