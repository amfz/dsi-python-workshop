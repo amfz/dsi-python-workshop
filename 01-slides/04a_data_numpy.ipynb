{
 "cells": [
  {
   "cell_type": "markdown",
   "id": "40d3f376",
   "metadata": {
    "slideshow": {
     "slide_type": "slide"
    }
   },
   "source": [
    "# Doing More with Data: `numpy`\n",
    "\n",
    "## Introduction to Python\n",
    "\n",
    "Data Sciences Institute, University of Toronto\n",
    "\n",
    "Instructor: A Mahfouz | TA: Kaylie Lau  \n",
    "July 2022"
   ]
  },
  {
   "cell_type": "markdown",
   "id": "11cd7cd4",
   "metadata": {
    "slideshow": {
     "slide_type": "skip"
    }
   },
   "source": [
    "### Jupyter Notebook as a Slideshow\n",
    "\n",
    "To see this notebook as a live slideshow, we need to install RISE (Reveal.js - Jupyter/IPython Slideshow Extension):\n",
    "\n",
    "1. Insert a cell and execute the following code: `conda install -c conda-forge rise`\n",
    "2. Restart the Jupyter Notebook.\n",
    "3. On the top of your notebook you have a new icon that looks like a bar chart; hover over the icon to see 'Enter/Exit RISE Slideshow'.\n",
    "4. Click on the RISE icon and enjoy the slideshow.\n",
    "5. You can edit the notebook in a slideshow mode by double clicking the line.\n",
    "*This is done only once. Now all your notebooks will have the RISE extension (unless you re-install the Jupyter Notebook).*"
   ]
  },
  {
   "cell_type": "markdown",
   "id": "e5e5ab47",
   "metadata": {
    "slideshow": {
     "slide_type": "slide"
    }
   },
   "source": [
    "# Contents:\n",
    "\n",
    "1. Setup\n",
    "2. `numpy`\n",
    "  1. Intro and arrays\n",
    "  2. Loading `numpy`\n",
    "  3. Creating arrays\n",
    "  4. Reshaping\n",
    "  5. Basic operations\n",
    "  6. Logic and filtering\n",
    "  7. Loading data"
   ]
  },
  {
   "cell_type": "markdown",
   "id": "7543c2f9",
   "metadata": {
    "slideshow": {
     "slide_type": "slide"
    }
   },
   "source": [
    "# Setup"
   ]
  },
  {
   "cell_type": "markdown",
   "id": "42f401de",
   "metadata": {
    "slideshow": {
     "slide_type": "slide"
    }
   },
   "source": [
    "## Anaconda\n",
    "\n",
    "Install `numpy` if you haven't already. If you're not sure, go through the steps below.\n",
    "\n",
    "1. Open Anaconda Prompt. You may have to do this in admin mode.\n",
    "2. Type `conda install numpy` and press enter to run.\n",
    "3. Press `enter` to answer Y to any prompts."
   ]
  },
  {
   "cell_type": "markdown",
   "id": "240c98df",
   "metadata": {
    "slideshow": {
     "slide_type": "slide"
    }
   },
   "source": [
    "## Google Colab\n",
    "\n",
    "If you're using Colab, you're all set! `numpy` is already installed."
   ]
  },
  {
   "cell_type": "markdown",
   "id": "b80d4fb6",
   "metadata": {
    "slideshow": {
     "slide_type": "slide"
    }
   },
   "source": [
    "# `numpy`"
   ]
  },
  {
   "cell_type": "markdown",
   "id": "4339b9f2",
   "metadata": {
    "slideshow": {
     "slide_type": "slide"
    }
   },
   "source": [
    "## What is `numpy`?\n",
    "\n",
    "`numpy` is a Python package for scientific computing. It gives us _homogenous multidimensional arrays_ -- a way of representing grids of elements where all elements are the same data type -- and functions to work efficiently with them. `numpy` both underpins and complements other data science libraries, including `pandas`, `matplotlib`, and `scikit-learn`."
   ]
  },
  {
   "cell_type": "markdown",
   "id": "135cb217",
   "metadata": {
    "slideshow": {
     "slide_type": "slide"
    }
   },
   "source": [
    "## Arrays vs lists\n",
    "\n",
    "| `numpy` arrays | Python `list` |\n",
    "|---|---|\n",
    "| all elements must be the same type | elements can be different types |\n",
    "| fixed size | can change size |\n",
    "| n-dimensional | 1-dimensional |\n",
    "| faster to process | slower to process |\n",
    "| consumes less memory | consumes more memory |"
   ]
  },
  {
   "cell_type": "markdown",
   "id": "50f9c343",
   "metadata": {
    "slideshow": {
     "slide_type": "slide"
    }
   },
   "source": [
    "## Loading `numpy`\n",
    "\n",
    "We can `import` numpy like any other module. For convenience, `numpy` is typically loaded `as np` -- an alias that makes referencing it easier."
   ]
  },
  {
   "cell_type": "code",
   "execution_count": 1,
   "id": "cea5f938",
   "metadata": {
    "slideshow": {
     "slide_type": "fragment"
    }
   },
   "outputs": [],
   "source": [
    "import numpy as np"
   ]
  },
  {
   "cell_type": "markdown",
   "id": "7e774e1e",
   "metadata": {
    "slideshow": {
     "slide_type": "slide"
    }
   },
   "source": [
    "## `numpy` arrays\n",
    "\n",
    "The main object in `numpy` is the `ndarray`, also referred to as the `array`. Dimensions in an array are called _axes_. Most arrays we'll work with will be one-dimensional _vectors_ and two-dimensional _matrices_.\n",
    "\n",
    "We can create an array by calling `np.array()` and passing in data as a single value, like a list. Below is a matrix. The first axis has a length of two, and the second axis has a length of 3."
   ]
  },
  {
   "cell_type": "code",
   "execution_count": 2,
   "id": "cf533fdd",
   "metadata": {
    "slideshow": {
     "slide_type": "fragment"
    }
   },
   "outputs": [
    {
     "data": {
      "text/plain": [
       "array([[1, 2, 3],\n",
       "       [3, 2, 1]])"
      ]
     },
     "execution_count": 2,
     "metadata": {},
     "output_type": "execute_result"
    }
   ],
   "source": [
    "a = np.array([[1, 2, 3],\n",
    "              [3, 2, 1]])\n",
    "a"
   ]
  },
  {
   "cell_type": "markdown",
   "id": "b0f1b710",
   "metadata": {
    "slideshow": {
     "slide_type": "subslide"
    }
   },
   "source": [
    "An `array` has an `ndim` attribute indicating the number of its axes, a `size` indicating the number of values it has, and a `shape` indicating its size in each dimension. It also has a `dtype` describing what data type all of the elements in the array are."
   ]
  },
  {
   "cell_type": "code",
   "execution_count": 3,
   "id": "aa7267e0",
   "metadata": {
    "slideshow": {
     "slide_type": "fragment"
    }
   },
   "outputs": [
    {
     "name": "stdout",
     "output_type": "stream",
     "text": [
      "(2, 3)\n",
      "int32\n"
     ]
    }
   ],
   "source": [
    "# notice that the shape is rows x columns\n",
    "print(a.shape)\n",
    "\n",
    "#int32 is a numpy-provided dtype\n",
    "print(a.dtype)"
   ]
  },
  {
   "cell_type": "markdown",
   "id": "19868422",
   "metadata": {
    "slideshow": {
     "slide_type": "subslide"
    }
   },
   "source": [
    "We can create arrays with placeholder content in several ways. This is useful when we know how many elements will be in an array, but not their values, as `numpy` arrays have fixed size. The full list is in [`numpy`'s documentation](https://numpy.org/devdocs/user/basics.creation.html#arrays-creation)."
   ]
  },
  {
   "cell_type": "code",
   "execution_count": 4,
   "id": "1fbe0b9b",
   "metadata": {
    "slideshow": {
     "slide_type": "fragment"
    }
   },
   "outputs": [
    {
     "data": {
      "text/plain": [
       "array([[[0., 0.],\n",
       "        [0., 0.],\n",
       "        [0., 0.]],\n",
       "\n",
       "       [[0., 0.],\n",
       "        [0., 0.],\n",
       "        [0., 0.]]])"
      ]
     },
     "execution_count": 4,
     "metadata": {},
     "output_type": "execute_result"
    }
   ],
   "source": [
    "# create an 2x3x2 array of zeros. notice the double parentheses\n",
    "np.zeros((2, 3, 2))"
   ]
  },
  {
   "cell_type": "code",
   "execution_count": 5,
   "id": "ecbd2b2b",
   "metadata": {
    "slideshow": {
     "slide_type": "fragment"
    }
   },
   "outputs": [
    {
     "data": {
      "text/plain": [
       "array([[1, 1, 1],\n",
       "       [1, 1, 1]])"
      ]
     },
     "execution_count": 5,
     "metadata": {},
     "output_type": "execute_result"
    }
   ],
   "source": [
    "# create an array of ones based on the earlier a array\n",
    "np.ones_like(a)"
   ]
  },
  {
   "cell_type": "markdown",
   "id": "c24cee39",
   "metadata": {
    "slideshow": {
     "slide_type": "subslide"
    }
   },
   "source": [
    "We can also create arrays by specifying a range of values through `arange()` or generating random ones through functions like `random.randint()` and `random.random()`."
   ]
  },
  {
   "cell_type": "code",
   "execution_count": 6,
   "id": "1310f431",
   "metadata": {
    "slideshow": {
     "slide_type": "fragment"
    }
   },
   "outputs": [
    {
     "data": {
      "text/plain": [
       "array([1, 3, 5, 7, 9])"
      ]
     },
     "execution_count": 6,
     "metadata": {},
     "output_type": "execute_result"
    }
   ],
   "source": [
    "# create a 1D array from 1 til 10 in steps of 2\n",
    "np.arange(1, 10, 2)"
   ]
  },
  {
   "cell_type": "code",
   "execution_count": 73,
   "id": "15ab7ec5",
   "metadata": {
    "slideshow": {
     "slide_type": "fragment"
    }
   },
   "outputs": [
    {
     "data": {
      "text/plain": [
       "array([0. , 0.1, 0.2, 0.3, 0.4, 0.5, 0.6, 0.7, 0.8, 0.9])"
      ]
     },
     "execution_count": 73,
     "metadata": {},
     "output_type": "execute_result"
    }
   ],
   "source": [
    "# create a 1D array from 0 to 1 in steps of 0.1\n",
    "np.arange(0, 1, 0.1)"
   ]
  },
  {
   "cell_type": "code",
   "execution_count": 7,
   "id": "d4f35396",
   "metadata": {
    "slideshow": {
     "slide_type": "subslide"
    }
   },
   "outputs": [
    {
     "data": {
      "text/plain": [
       "array([[6, 9, 6, 1],\n",
       "       [1, 2, 8, 7],\n",
       "       [3, 5, 6, 3]])"
      ]
     },
     "execution_count": 7,
     "metadata": {},
     "output_type": "execute_result"
    }
   ],
   "source": [
    "# seed is used to create a reproducible random example\n",
    "np.random.seed(1) \n",
    "# create a 3x4 array of random integers between 1 and 10\n",
    "np.random.randint(1, 10, (3, 4))"
   ]
  },
  {
   "cell_type": "markdown",
   "id": "c7c9f568",
   "metadata": {
    "slideshow": {
     "slide_type": "subslide"
    }
   },
   "source": [
    "We can repeat values and arrays to create bigger ones with `repeat()` and `tile()`."
   ]
  },
  {
   "cell_type": "code",
   "execution_count": 8,
   "id": "4e688f6f",
   "metadata": {
    "slideshow": {
     "slide_type": "fragment"
    }
   },
   "outputs": [
    {
     "data": {
      "text/plain": [
       "array([10, 10, 10, 10, 10])"
      ]
     },
     "execution_count": 8,
     "metadata": {},
     "output_type": "execute_result"
    }
   ],
   "source": [
    "# create a 1D array through repetition\n",
    "np.repeat(10, 5)"
   ]
  },
  {
   "cell_type": "code",
   "execution_count": 9,
   "id": "d82d4e65",
   "metadata": {
    "slideshow": {
     "slide_type": "fragment"
    }
   },
   "outputs": [
    {
     "data": {
      "text/plain": [
       "array([[1, 2, 3, 4, 5],\n",
       "       [1, 2, 3, 4, 5],\n",
       "       [1, 2, 3, 4, 5],\n",
       "       [1, 2, 3, 4, 5],\n",
       "       [1, 2, 3, 4, 5]])"
      ]
     },
     "execution_count": 9,
     "metadata": {},
     "output_type": "execute_result"
    }
   ],
   "source": [
    "# create a 2D array through repetition\n",
    "onedim_arr = np.array([1, 2, 3, 4, 5])\n",
    "multidim_arr = np.tile(onedim_arr, (5,1))\n",
    "multidim_arr"
   ]
  },
  {
   "cell_type": "code",
   "execution_count": 10,
   "id": "5de34ff9",
   "metadata": {
    "slideshow": {
     "slide_type": "subslide"
    }
   },
   "outputs": [
    {
     "data": {
      "text/plain": [
       "array([[1, 2, 3, 4, 5, 1, 2, 3, 4, 5, 1, 2, 3, 4, 5],\n",
       "       [1, 2, 3, 4, 5, 1, 2, 3, 4, 5, 1, 2, 3, 4, 5],\n",
       "       [1, 2, 3, 4, 5, 1, 2, 3, 4, 5, 1, 2, 3, 4, 5]])"
      ]
     },
     "execution_count": 10,
     "metadata": {},
     "output_type": "execute_result"
    }
   ],
   "source": [
    "# repeat onedim_arr in multiple directions\n",
    "another_arr = np.tile(onedim_arr, (3,3))\n",
    "another_arr"
   ]
  },
  {
   "cell_type": "markdown",
   "id": "0ae13590",
   "metadata": {
    "slideshow": {
     "slide_type": "slide"
    }
   },
   "source": [
    "### Simulating data\n",
    "\n",
    "Sometimes, it can be useful to simulate data to make sure an analysis works as expected. `numpy`'s `random` submodule provides support for drawing random samples from a variety of distributions. To generate random samples, we first call `default_rng()` to create a sample Generator. Then, we use the Generator's various distribution methods, like `normal()`, to create sample arrays."
   ]
  },
  {
   "cell_type": "code",
   "execution_count": 11,
   "id": "7cd8a282",
   "metadata": {
    "slideshow": {
     "slide_type": "subslide"
    }
   },
   "outputs": [
    {
     "data": {
      "text/plain": [
       "array([[10.7617927 ,  7.40003973, 11.87612799, 12.35141179],\n",
       "       [ 5.12241203,  6.74455123, 10.31960101,  9.20939352],\n",
       "       [ 9.95799711,  7.86739018, 12.19849494, 11.94447984],\n",
       "       [10.16507674, 12.81810302, 11.16877336,  7.85176884],\n",
       "       [10.92187696,  7.6027935 , 12.19612575,  9.87518522]])"
      ]
     },
     "execution_count": 11,
     "metadata": {},
     "output_type": "execute_result"
    }
   ],
   "source": [
    "# create the sample Generator\n",
    "rng = np.random.default_rng(seed=42)\n",
    "\n",
    "# create a 5x6 array w/ normally distributed data\n",
    "# distribution has mean 10, standard dev. 2.5\n",
    "randrng = rng.normal(10, 2.5, (5, 4))\n",
    "randrng"
   ]
  },
  {
   "cell_type": "code",
   "execution_count": 12,
   "id": "f6bd79cb",
   "metadata": {
    "slideshow": {
     "slide_type": "subslide"
    }
   },
   "outputs": [
    {
     "data": {
      "text/plain": [
       "array([[1, 3, 1, 0, 3, 1],\n",
       "       [0, 0, 1, 1, 2, 2],\n",
       "       [0, 1, 0, 0, 3, 1],\n",
       "       [0, 0, 1, 2, 1, 0],\n",
       "       [0, 1, 1, 0, 0, 0]], dtype=int64)"
      ]
     },
     "execution_count": 12,
     "metadata": {},
     "output_type": "execute_result"
    }
   ],
   "source": [
    "# using the same Generator to draw a random sample from a Poisson distribution\n",
    "poissonrng = rng.poisson(1, (5, 6))\n",
    "poissonrng"
   ]
  },
  {
   "cell_type": "markdown",
   "id": "a9db9083",
   "metadata": {
    "slideshow": {
     "slide_type": "slide"
    }
   },
   "source": [
    "## Reshaping arrays\n",
    "\n",
    "We can change the shape of an array in various ways, leaving the elements the same."
   ]
  },
  {
   "cell_type": "code",
   "execution_count": 13,
   "id": "cff90fbf",
   "metadata": {
    "slideshow": {
     "slide_type": "fragment"
    }
   },
   "outputs": [
    {
     "data": {
      "text/plain": [
       "array([[ 5, 10],\n",
       "       [ 4,  8],\n",
       "       [ 3,  6],\n",
       "       [ 2,  4],\n",
       "       [ 1,  2],\n",
       "       [ 0,  0]])"
      ]
     },
     "execution_count": 13,
     "metadata": {},
     "output_type": "execute_result"
    }
   ],
   "source": [
    "# get the transpose of an array\n",
    "b = np.array([[5, 4, 3, 2, 1, 0],\n",
    "              [10, 8, 6, 4, 2, 0]])\n",
    "b.T"
   ]
  },
  {
   "cell_type": "code",
   "execution_count": 14,
   "id": "588fdb6f",
   "metadata": {
    "slideshow": {
     "slide_type": "fragment"
    }
   },
   "outputs": [
    {
     "data": {
      "text/plain": [
       "array([[ 5,  4,  3],\n",
       "       [ 2,  1,  0],\n",
       "       [10,  8,  6],\n",
       "       [ 4,  2,  0]])"
      ]
     },
     "execution_count": 14,
     "metadata": {},
     "output_type": "execute_result"
    }
   ],
   "source": [
    "# change dimensions\n",
    "b.reshape(4, 3)"
   ]
  },
  {
   "cell_type": "code",
   "execution_count": 74,
   "id": "e7a4a530",
   "metadata": {
    "slideshow": {
     "slide_type": "fragment"
    }
   },
   "outputs": [
    {
     "data": {
      "text/plain": [
       "array([ 5,  4,  3,  2,  1,  0, 10,  8,  6,  4,  2,  0])"
      ]
     },
     "execution_count": 74,
     "metadata": {},
     "output_type": "execute_result"
    }
   ],
   "source": [
    "# collapse an array to one dimension\n",
    "b.flatten()"
   ]
  },
  {
   "cell_type": "markdown",
   "id": "62ddbb94",
   "metadata": {
    "slideshow": {
     "slide_type": "slide"
    }
   },
   "source": [
    "If two arrays share the same size along an axis, we can stack them with `np.hstack()` and `np.vstack()`. Notice that we pass the arrays to stack as a tuple."
   ]
  },
  {
   "cell_type": "code",
   "execution_count": 15,
   "id": "96677720",
   "metadata": {
    "slideshow": {
     "slide_type": "fragment"
    }
   },
   "outputs": [
    {
     "data": {
      "text/plain": [
       "array([[ 5,  4,  3,  2,  1,  0,  1,  2,  3],\n",
       "       [10,  8,  6,  4,  2,  0,  3,  2,  1]])"
      ]
     },
     "execution_count": 15,
     "metadata": {},
     "output_type": "execute_result"
    }
   ],
   "source": [
    "# stack a and b horizontally\n",
    "np.hstack((b, a))"
   ]
  },
  {
   "cell_type": "code",
   "execution_count": 16,
   "id": "d84a8fdc",
   "metadata": {
    "slideshow": {
     "slide_type": "fragment"
    }
   },
   "outputs": [
    {
     "data": {
      "text/plain": [
       "array([[ 5,  4,  3],\n",
       "       [ 2,  1,  0],\n",
       "       [10,  8,  6],\n",
       "       [ 4,  2,  0],\n",
       "       [ 1,  2,  3],\n",
       "       [ 3,  2,  1]])"
      ]
     },
     "execution_count": 16,
     "metadata": {},
     "output_type": "execute_result"
    }
   ],
   "source": [
    "# reshape b before stacking vertically\n",
    "np.vstack((b.reshape(4, 3), a))"
   ]
  },
  {
   "cell_type": "markdown",
   "id": "ecf0d862",
   "metadata": {
    "slideshow": {
     "slide_type": "slide"
    }
   },
   "source": [
    "## Basic operations\n",
    "\n",
    "`numpy` arrays let us perform vector operations, manipulating all the elements in an axis without writing loops."
   ]
  },
  {
   "cell_type": "code",
   "execution_count": 17,
   "id": "c8789eee",
   "metadata": {
    "slideshow": {
     "slide_type": "fragment"
    }
   },
   "outputs": [
    {
     "data": {
      "text/plain": [
       "array([ 5, 10, 15, 20])"
      ]
     },
     "execution_count": 17,
     "metadata": {},
     "output_type": "execute_result"
    }
   ],
   "source": [
    "arr1 = np.array([5, 10, 15, 20])\n",
    "arr1"
   ]
  },
  {
   "cell_type": "code",
   "execution_count": 18,
   "id": "3221b5ee",
   "metadata": {
    "slideshow": {
     "slide_type": "fragment"
    }
   },
   "outputs": [
    {
     "data": {
      "text/plain": [
       "array([5, 6, 7, 8])"
      ]
     },
     "execution_count": 18,
     "metadata": {},
     "output_type": "execute_result"
    }
   ],
   "source": [
    "arr2 = np.arange(5, 9)\n",
    "arr2"
   ]
  },
  {
   "cell_type": "code",
   "execution_count": 70,
   "id": "355a767b",
   "metadata": {
    "slideshow": {
     "slide_type": "notes"
    }
   },
   "outputs": [
    {
     "data": {
      "text/plain": [
       "array([ 0.00000000e+00,  7.07106781e-01,  1.00000000e+00,  7.07106781e-01,\n",
       "        1.22464680e-16, -7.07106781e-01, -1.00000000e+00, -7.07106781e-01])"
      ]
     },
     "execution_count": 70,
     "metadata": {},
     "output_type": "execute_result"
    }
   ],
   "source": [
    "np.sin(np.arange(0, 360, 45) * np.pi/180)"
   ]
  },
  {
   "cell_type": "markdown",
   "id": "1a39707c",
   "metadata": {
    "slideshow": {
     "slide_type": "subslide"
    }
   },
   "source": [
    "We can perform operations when arrays are the same length along the axis in use, or when values can be _broadcast_, or repeated, along an axis."
   ]
  },
  {
   "cell_type": "code",
   "execution_count": 19,
   "id": "e5dada56",
   "metadata": {
    "slideshow": {
     "slide_type": "fragment"
    }
   },
   "outputs": [
    {
     "data": {
      "text/plain": [
       "array([ 0,  4,  8, 12])"
      ]
     },
     "execution_count": 19,
     "metadata": {},
     "output_type": "execute_result"
    }
   ],
   "source": [
    "# arr1 and arr2 are the same length\n",
    "arr1 - arr2"
   ]
  },
  {
   "cell_type": "code",
   "execution_count": 76,
   "id": "70a2b6b7",
   "metadata": {
    "slideshow": {
     "slide_type": "subslide"
    }
   },
   "outputs": [
    {
     "data": {
      "text/plain": [
       "[0, 4, 8, 12]"
      ]
     },
     "execution_count": 76,
     "metadata": {},
     "output_type": "execute_result"
    }
   ],
   "source": [
    "results = []\n",
    "for i, j in zip(arr1, arr2):\n",
    "    results.append(i - j)\n",
    "    \n",
    "results"
   ]
  },
  {
   "cell_type": "code",
   "execution_count": 20,
   "id": "11d5c9ab",
   "metadata": {
    "slideshow": {
     "slide_type": "fragment"
    }
   },
   "outputs": [
    {
     "data": {
      "text/plain": [
       "array([10, 20, 30, 40])"
      ]
     },
     "execution_count": 20,
     "metadata": {},
     "output_type": "execute_result"
    }
   ],
   "source": [
    "# multiple each element in arr1 by 2\n",
    "arr1 * 2"
   ]
  },
  {
   "cell_type": "code",
   "execution_count": 21,
   "id": "d96c4676",
   "metadata": {
    "slideshow": {
     "slide_type": "subslide"
    }
   },
   "outputs": [
    {
     "ename": "ValueError",
     "evalue": "operands could not be broadcast together with shapes (4,) (2,) ",
     "output_type": "error",
     "traceback": [
      "\u001b[1;31m---------------------------------------------------------------------------\u001b[0m",
      "\u001b[1;31mValueError\u001b[0m                                Traceback (most recent call last)",
      "Input \u001b[1;32mIn [21]\u001b[0m, in \u001b[0;36m<cell line: 2>\u001b[1;34m()\u001b[0m\n\u001b[0;32m      1\u001b[0m \u001b[38;5;66;03m# incompatible shapes\u001b[39;00m\n\u001b[1;32m----> 2\u001b[0m \u001b[43marr2\u001b[49m\u001b[43m \u001b[49m\u001b[38;5;241;43m+\u001b[39;49m\u001b[43m \u001b[49m\u001b[43mnp\u001b[49m\u001b[38;5;241;43m.\u001b[39;49m\u001b[43marray\u001b[49m\u001b[43m(\u001b[49m\u001b[43m[\u001b[49m\u001b[38;5;241;43m1\u001b[39;49m\u001b[43m,\u001b[49m\u001b[43m \u001b[49m\u001b[38;5;241;43m2\u001b[39;49m\u001b[43m]\u001b[49m\u001b[43m)\u001b[49m\n",
      "\u001b[1;31mValueError\u001b[0m: operands could not be broadcast together with shapes (4,) (2,) "
     ]
    }
   ],
   "source": [
    "# incompatible shapes\n",
    "arr2 + np.array([1, 2])"
   ]
  },
  {
   "cell_type": "code",
   "execution_count": 78,
   "id": "e775898d",
   "metadata": {
    "slideshow": {
     "slide_type": "notes"
    }
   },
   "outputs": [
    {
     "data": {
      "text/plain": [
       "[6, 8]"
      ]
     },
     "execution_count": 78,
     "metadata": {},
     "output_type": "execute_result"
    }
   ],
   "source": [
    "short_output = []\n",
    "for i, j in zip(arr2, np.array([1, 2])):\n",
    "    short_output.append(i + j)\n",
    "    \n",
    "short_output"
   ]
  },
  {
   "cell_type": "markdown",
   "id": "48205385",
   "metadata": {
    "slideshow": {
     "slide_type": "subslide"
    }
   },
   "source": [
    "We can also summarize the values in an array."
   ]
  },
  {
   "cell_type": "code",
   "execution_count": 22,
   "id": "c97fff71",
   "metadata": {
    "slideshow": {
     "slide_type": "fragment"
    }
   },
   "outputs": [
    {
     "name": "stdout",
     "output_type": "stream",
     "text": [
      "arr1 sums to 50.\n",
      "Its max value is 20, and its mean is 12.5.\n"
     ]
    }
   ],
   "source": [
    "print(f'''arr1 sums to {arr1.sum()}.\n",
    "Its max value is {arr1.max()}, and its mean is {arr1.mean()}.''')"
   ]
  },
  {
   "cell_type": "markdown",
   "id": "729111af",
   "metadata": {
    "slideshow": {
     "slide_type": "subslide"
    }
   },
   "source": [
    "Some descriptive statistics are only `numpy` functions, and are not available as `array` methods like we saw above."
   ]
  },
  {
   "cell_type": "code",
   "execution_count": 23,
   "id": "0a29625a",
   "metadata": {
    "slideshow": {
     "slide_type": "fragment"
    }
   },
   "outputs": [
    {
     "data": {
      "text/plain": [
       "12.5"
      ]
     },
     "execution_count": 23,
     "metadata": {},
     "output_type": "execute_result"
    }
   ],
   "source": [
    "np.median(arr1)"
   ]
  },
  {
   "cell_type": "code",
   "execution_count": 24,
   "id": "306e7f1f",
   "metadata": {
    "slideshow": {
     "slide_type": "fragment"
    }
   },
   "outputs": [
    {
     "ename": "AttributeError",
     "evalue": "'numpy.ndarray' object has no attribute 'median'",
     "output_type": "error",
     "traceback": [
      "\u001b[1;31m---------------------------------------------------------------------------\u001b[0m",
      "\u001b[1;31mAttributeError\u001b[0m                            Traceback (most recent call last)",
      "Input \u001b[1;32mIn [24]\u001b[0m, in \u001b[0;36m<cell line: 1>\u001b[1;34m()\u001b[0m\n\u001b[1;32m----> 1\u001b[0m \u001b[43marr1\u001b[49m\u001b[38;5;241;43m.\u001b[39;49m\u001b[43mmedian\u001b[49m()\n",
      "\u001b[1;31mAttributeError\u001b[0m: 'numpy.ndarray' object has no attribute 'median'"
     ]
    }
   ],
   "source": [
    "arr1.median()"
   ]
  },
  {
   "cell_type": "markdown",
   "id": "2efda296",
   "metadata": {
    "slideshow": {
     "slide_type": "slide"
    }
   },
   "source": [
    "## Operations in multiple dimensions\n",
    "\n",
    "In a multi-dimensional array like a matrix, elements of same-sized arrays will be paired up for operations, just as with vectors. If we perform an operation with a matrix and a vector of the same size in one dimension, the vector can be _broadcast_ to repeat along the other dimension."
   ]
  },
  {
   "cell_type": "code",
   "execution_count": 25,
   "id": "3a9faa69",
   "metadata": {
    "slideshow": {
     "slide_type": "fragment"
    }
   },
   "outputs": [
    {
     "data": {
      "text/plain": [
       "array([[  0,  10,  20,  30],\n",
       "       [ 40,  50,  60,  70],\n",
       "       [ 80,  90, 100, 110]])"
      ]
     },
     "execution_count": 25,
     "metadata": {},
     "output_type": "execute_result"
    }
   ],
   "source": [
    "tens = np.arange(0, 120, 10).reshape(3, 4)\n",
    "tens"
   ]
  },
  {
   "cell_type": "code",
   "execution_count": 26,
   "id": "a1983e0d",
   "metadata": {
    "slideshow": {
     "slide_type": "subslide"
    }
   },
   "outputs": [
    {
     "data": {
      "text/plain": [
       "array([[-5,  0,  5, 10],\n",
       "       [35, 40, 45, 50],\n",
       "       [75, 80, 85, 90]])"
      ]
     },
     "execution_count": 26,
     "metadata": {},
     "output_type": "execute_result"
    }
   ],
   "source": [
    "horizontal = np.array([-5, -10, -15, -20])\n",
    "\n",
    "tens + horizontal"
   ]
  },
  {
   "cell_type": "code",
   "execution_count": 27,
   "id": "309f58eb",
   "metadata": {
    "slideshow": {
     "slide_type": "fragment"
    }
   },
   "outputs": [
    {
     "data": {
      "text/plain": [
       "array([[100, 110, 120, 130],\n",
       "       [240, 250, 260, 270],\n",
       "       [380, 390, 400, 410]])"
      ]
     },
     "execution_count": 27,
     "metadata": {},
     "output_type": "execute_result"
    }
   ],
   "source": [
    "vertical = np.array([[100],\n",
    "                     [200],\n",
    "                     [300]])\n",
    "tens + vertical"
   ]
  },
  {
   "cell_type": "markdown",
   "id": "1094644a",
   "metadata": {
    "slideshow": {
     "slide_type": "subslide"
    }
   },
   "source": [
    "We can still calculate statistics for multidimensional arrays, but we must specify the axis to calculate over. To calculate values for each column, we use `axis=0`. To calculate for each row, we use `axis=1`."
   ]
  },
  {
   "cell_type": "code",
   "execution_count": 28,
   "id": "b3c1440f",
   "metadata": {
    "slideshow": {
     "slide_type": "fragment"
    }
   },
   "outputs": [
    {
     "data": {
      "text/plain": [
       "array([40., 50., 60., 70.])"
      ]
     },
     "execution_count": 28,
     "metadata": {},
     "output_type": "execute_result"
    }
   ],
   "source": [
    "tens.mean(axis=0)"
   ]
  },
  {
   "cell_type": "code",
   "execution_count": 29,
   "id": "d332e5f7",
   "metadata": {
    "slideshow": {
     "slide_type": "fragment"
    }
   },
   "outputs": [
    {
     "data": {
      "text/plain": [
       "array([15., 55., 95.])"
      ]
     },
     "execution_count": 29,
     "metadata": {},
     "output_type": "execute_result"
    }
   ],
   "source": [
    "tens.mean(axis=1)"
   ]
  },
  {
   "cell_type": "markdown",
   "id": "a2628461",
   "metadata": {
    "slideshow": {
     "slide_type": "slide"
    }
   },
   "source": [
    "## Indexing, slicing, and iterating\n",
    "\n",
    "We can index and slice arrays like we would a list. "
   ]
  },
  {
   "cell_type": "code",
   "execution_count": 30,
   "id": "5b09c0ee",
   "metadata": {
    "slideshow": {
     "slide_type": "fragment"
    }
   },
   "outputs": [
    {
     "data": {
      "text/plain": [
       "array([ 5, 10, 15, 20])"
      ]
     },
     "execution_count": 30,
     "metadata": {},
     "output_type": "execute_result"
    }
   ],
   "source": [
    "arr1"
   ]
  },
  {
   "cell_type": "code",
   "execution_count": 31,
   "id": "a353dd04",
   "metadata": {
    "slideshow": {
     "slide_type": "fragment"
    }
   },
   "outputs": [
    {
     "data": {
      "text/plain": [
       "10"
      ]
     },
     "execution_count": 31,
     "metadata": {},
     "output_type": "execute_result"
    }
   ],
   "source": [
    "arr1[1]"
   ]
  },
  {
   "cell_type": "code",
   "execution_count": 32,
   "id": "47f8ffeb",
   "metadata": {
    "slideshow": {
     "slide_type": "fragment"
    }
   },
   "outputs": [
    {
     "data": {
      "text/plain": [
       "array([10, 15])"
      ]
     },
     "execution_count": 32,
     "metadata": {},
     "output_type": "execute_result"
    }
   ],
   "source": [
    "arr1[1:3]"
   ]
  },
  {
   "cell_type": "markdown",
   "id": "93d7176b",
   "metadata": {
    "slideshow": {
     "slide_type": "subslide"
    }
   },
   "source": [
    "We can iterate over arrays as well, though vectorized `numpy` operations are preferred when possible."
   ]
  },
  {
   "cell_type": "code",
   "execution_count": 33,
   "id": "649cbd88",
   "metadata": {
    "slideshow": {
     "slide_type": "fragment"
    }
   },
   "outputs": [
    {
     "name": "stdout",
     "output_type": "stream",
     "text": [
      "5\n",
      "10\n",
      "15\n",
      "20\n"
     ]
    }
   ],
   "source": [
    "for i in arr1:\n",
    "    print(i)"
   ]
  },
  {
   "cell_type": "markdown",
   "id": "e1f1ae92",
   "metadata": {
    "slideshow": {
     "slide_type": "subslide"
    }
   },
   "source": [
    "Multidimensional arrays like matrices have one index per axis. We can pass in more than one index within the square brackets."
   ]
  },
  {
   "cell_type": "code",
   "execution_count": 34,
   "id": "53cf1386",
   "metadata": {
    "slideshow": {
     "slide_type": "subslide"
    }
   },
   "outputs": [
    {
     "data": {
      "text/plain": [
       "array([[  0,  10,  20,  30],\n",
       "       [ 40,  50,  60,  70],\n",
       "       [ 80,  90, 100, 110]])"
      ]
     },
     "execution_count": 34,
     "metadata": {},
     "output_type": "execute_result"
    }
   ],
   "source": [
    "tens"
   ]
  },
  {
   "cell_type": "code",
   "execution_count": 35,
   "id": "261defc4",
   "metadata": {
    "slideshow": {
     "slide_type": "fragment"
    }
   },
   "outputs": [
    {
     "data": {
      "text/plain": [
       "60"
      ]
     },
     "execution_count": 35,
     "metadata": {},
     "output_type": "execute_result"
    }
   ],
   "source": [
    "# indexing goes row, column\n",
    "tens[1, 2]"
   ]
  },
  {
   "cell_type": "code",
   "execution_count": 36,
   "id": "6947bfd8",
   "metadata": {
    "slideshow": {
     "slide_type": "fragment"
    }
   },
   "outputs": [
    {
     "data": {
      "text/plain": [
       "array([ 0, 10, 20, 30])"
      ]
     },
     "execution_count": 36,
     "metadata": {},
     "output_type": "execute_result"
    }
   ],
   "source": [
    "# get the first row\n",
    "tens[0]"
   ]
  },
  {
   "cell_type": "code",
   "execution_count": 37,
   "id": "f3dffa04",
   "metadata": {
    "slideshow": {
     "slide_type": "fragment"
    }
   },
   "outputs": [
    {
     "data": {
      "text/plain": [
       "array([ 0, 40, 80])"
      ]
     },
     "execution_count": 37,
     "metadata": {},
     "output_type": "execute_result"
    }
   ],
   "source": [
    "# get the first column\n",
    "tens[:,0]"
   ]
  },
  {
   "cell_type": "code",
   "execution_count": 38,
   "id": "7d0c42cc",
   "metadata": {
    "slideshow": {
     "slide_type": "fragment"
    }
   },
   "outputs": [
    {
     "data": {
      "text/plain": [
       "array([[10, 20],\n",
       "       [50, 60]])"
      ]
     },
     "execution_count": 38,
     "metadata": {},
     "output_type": "execute_result"
    }
   ],
   "source": [
    "# slice rows 1-2, columns 2-3\n",
    "tens[0:2, 1:3]"
   ]
  },
  {
   "cell_type": "markdown",
   "id": "425049f9",
   "metadata": {
    "slideshow": {
     "slide_type": "slide"
    }
   },
   "source": [
    "## Mutations and copies\n",
    "\n",
    "We can also update individual elements in an array. Note that any variables that refer to that array will also change, just like with mutating lists. To make an independent copy of an array, use the `.copy()` method."
   ]
  },
  {
   "cell_type": "code",
   "execution_count": 39,
   "id": "72097846",
   "metadata": {
    "slideshow": {
     "slide_type": "subslide"
    }
   },
   "outputs": [
    {
     "data": {
      "text/plain": [
       "array([[ 5,  3,  5,  8],\n",
       "       [ 8, 10,  2,  8],\n",
       "       [ 1,  7, 10, 10]])"
      ]
     },
     "execution_count": 39,
     "metadata": {},
     "output_type": "execute_result"
    }
   ],
   "source": [
    "# create a 3x4 array of random integers\n",
    "matrix = np.random.randint(1, 11, 12).reshape(3, 4)\n",
    "matrix2 = matrix\n",
    "\n",
    "#make a copy\n",
    "matrix3 = matrix.copy()\n",
    "\n",
    "matrix"
   ]
  },
  {
   "cell_type": "code",
   "execution_count": 40,
   "id": "ddaa9d8d",
   "metadata": {
    "slideshow": {
     "slide_type": "subslide"
    }
   },
   "outputs": [
    {
     "data": {
      "text/plain": [
       "array([[ 5,  3,  5,  8],\n",
       "       [ 0,  0,  0,  0],\n",
       "       [ 1,  7, 10, 10]])"
      ]
     },
     "execution_count": 40,
     "metadata": {},
     "output_type": "execute_result"
    }
   ],
   "source": [
    "# replace the second row\n",
    "matrix2[1] = [0, 0, 0, 0]\n",
    "matrix2"
   ]
  },
  {
   "cell_type": "code",
   "execution_count": 41,
   "id": "a2aaf95f",
   "metadata": {
    "slideshow": {
     "slide_type": "fragment"
    }
   },
   "outputs": [
    {
     "data": {
      "text/plain": [
       "array([[ 5,  3,  5,  8],\n",
       "       [ 0,  0,  0,  0],\n",
       "       [ 1,  7, 10, 10]])"
      ]
     },
     "execution_count": 41,
     "metadata": {},
     "output_type": "execute_result"
    }
   ],
   "source": [
    "# the original also changed\n",
    "matrix"
   ]
  },
  {
   "cell_type": "code",
   "execution_count": 42,
   "id": "8e084715",
   "metadata": {
    "slideshow": {
     "slide_type": "fragment"
    }
   },
   "outputs": [
    {
     "data": {
      "text/plain": [
       "array([[ 5,  3,  5,  8],\n",
       "       [ 8, 10,  2,  8],\n",
       "       [ 1,  7, 10, 10]])"
      ]
     },
     "execution_count": 42,
     "metadata": {},
     "output_type": "execute_result"
    }
   ],
   "source": [
    "# the copy did not\n",
    "matrix3"
   ]
  },
  {
   "cell_type": "markdown",
   "id": "f3f13b89",
   "metadata": {
    "slideshow": {
     "slide_type": "slide"
    }
   },
   "source": [
    "## Logic and filtering\n",
    "\n",
    "`numpy` arrays work with boolean expressions. Each element is checked, and the result is an array of `True`/`False` values. They resulting arrays sometimes called _masks_ because they are used to mask, or filter, data."
   ]
  },
  {
   "cell_type": "code",
   "execution_count": 43,
   "id": "5f267d1d",
   "metadata": {
    "slideshow": {
     "slide_type": "fragment"
    }
   },
   "outputs": [
    {
     "data": {
      "text/plain": [
       "array([[  0,  10,  20,  30],\n",
       "       [ 40,  50,  60,  70],\n",
       "       [ 80,  90, 100, 110]])"
      ]
     },
     "execution_count": 43,
     "metadata": {},
     "output_type": "execute_result"
    }
   ],
   "source": [
    "tens"
   ]
  },
  {
   "cell_type": "code",
   "execution_count": 44,
   "id": "2b39604e",
   "metadata": {
    "slideshow": {
     "slide_type": "fragment"
    }
   },
   "outputs": [
    {
     "data": {
      "text/plain": [
       "array([[ True, False, False,  True],\n",
       "       [False, False,  True, False],\n",
       "       [False,  True, False, False]])"
      ]
     },
     "execution_count": 44,
     "metadata": {},
     "output_type": "execute_result"
    }
   ],
   "source": [
    "# evaluate whether each element is divisible by 3\n",
    "tens % 3 == 0"
   ]
  },
  {
   "cell_type": "code",
   "execution_count": 45,
   "id": "f0cff4b0",
   "metadata": {
    "slideshow": {
     "slide_type": "subslide"
    }
   },
   "outputs": [
    {
     "data": {
      "text/plain": [
       "[[True, False, False, True],\n",
       " [False, False, True, False],\n",
       " [False, True, False, False]]"
      ]
     },
     "execution_count": 45,
     "metadata": {},
     "output_type": "execute_result"
    }
   ],
   "source": [
    "# the same thing with for loops\n",
    "masked = []\n",
    "\n",
    "for row in tens:\n",
    "    masked_row = []\n",
    "    for col in row:\n",
    "        masked_row.append(col % 3 == 0)\n",
    "    masked.append(masked_row)\n",
    "    \n",
    "masked"
   ]
  },
  {
   "cell_type": "markdown",
   "id": "bae12ead",
   "metadata": {
    "slideshow": {
     "slide_type": "subslide"
    }
   },
   "source": [
    "To filter use a boolean expression as a mask, pass it into square brackets after the array to mask."
   ]
  },
  {
   "cell_type": "code",
   "execution_count": 46,
   "id": "6f5fa220",
   "metadata": {
    "slideshow": {
     "slide_type": "fragment"
    }
   },
   "outputs": [
    {
     "data": {
      "text/plain": [
       "array([ 0, 30, 60, 90])"
      ]
     },
     "execution_count": 46,
     "metadata": {},
     "output_type": "execute_result"
    }
   ],
   "source": [
    "tens[tens % 3 == 0]"
   ]
  },
  {
   "cell_type": "code",
   "execution_count": 47,
   "id": "0b7d3b7f",
   "metadata": {
    "slideshow": {
     "slide_type": "fragment"
    }
   },
   "outputs": [
    {
     "data": {
      "text/plain": [
       "array([ 0, 30, 60, 90])"
      ]
     },
     "execution_count": 47,
     "metadata": {},
     "output_type": "execute_result"
    }
   ],
   "source": [
    "# also works\n",
    "mask = tens % 3 == 0\n",
    "tens[mask]"
   ]
  },
  {
   "cell_type": "code",
   "execution_count": 48,
   "id": "a2f02b2b",
   "metadata": {
    "slideshow": {
     "slide_type": "subslide"
    }
   },
   "outputs": [
    {
     "data": {
      "text/plain": [
       "[0, 30, 60, 90]"
      ]
     },
     "execution_count": 48,
     "metadata": {},
     "output_type": "execute_result"
    }
   ],
   "source": [
    "# comparison in standard python\n",
    "filtered_data = []\n",
    "\n",
    "for row in tens:\n",
    "    for col in row:\n",
    "        if col % 3 == 0:\n",
    "            filtered_data.append(col)\n",
    "\n",
    "filtered_data"
   ]
  },
  {
   "cell_type": "markdown",
   "id": "cb4a4676",
   "metadata": {
    "slideshow": {
     "slide_type": "subslide"
    }
   },
   "source": [
    "We can even use masks to generate new arrays with conditionals. `np.where()` takes as its arguments a boolean expression, an expression to evaluate if `True`, and an expression to evaluate elsewise. This is analagous to creating a new array based on an old one with a `for` loop and `if`/`else` statements, but much faster."
   ]
  },
  {
   "cell_type": "code",
   "execution_count": 49,
   "id": "71a2aa2d",
   "metadata": {
    "slideshow": {
     "slide_type": "fragment"
    }
   },
   "outputs": [
    {
     "data": {
      "text/plain": [
       "array([[ 0,  0,  0, 30],\n",
       "       [ 0,  0, 60,  0],\n",
       "       [ 0, 90,  0,  0]])"
      ]
     },
     "execution_count": 49,
     "metadata": {},
     "output_type": "execute_result"
    }
   ],
   "source": [
    "np.where(tens % 3 == 0,  # condition\n",
    "         tens,  # return the element if True \n",
    "         0)  # return 0 if False"
   ]
  },
  {
   "cell_type": "code",
   "execution_count": 50,
   "id": "b207b630",
   "metadata": {
    "slideshow": {
     "slide_type": "subslide"
    }
   },
   "outputs": [
    {
     "data": {
      "text/plain": [
       "[[0, 0, 0, 30], [0, 0, 60, 0], [0, 90, 0, 0]]"
      ]
     },
     "execution_count": 50,
     "metadata": {},
     "output_type": "execute_result"
    }
   ],
   "source": [
    "result = []\n",
    "\n",
    "for row in tens:\n",
    "    result_row = []\n",
    "    for col in row:\n",
    "        if col % 3 == 0:\n",
    "            result_row.append(col)\n",
    "        else:\n",
    "            result_row.append(0)\n",
    "    result.append(result_row)\n",
    "    \n",
    "result"
   ]
  },
  {
   "cell_type": "markdown",
   "id": "6536654d",
   "metadata": {
    "slideshow": {
     "slide_type": "slide"
    }
   },
   "source": [
    "## Loading flat files to `numpy` arrays\n",
    "\n",
    "We can also load data from files into `numpy` arrays. Recall the California housing csv we loaded earlier:"
   ]
  },
  {
   "cell_type": "code",
   "execution_count": 51,
   "id": "4f53edf1",
   "metadata": {
    "slideshow": {
     "slide_type": "fragment"
    }
   },
   "outputs": [
    {
     "name": "stdout",
     "output_type": "stream",
     "text": [
      "longitude,latitude,housing_median_age,total_rooms,total_bedrooms,population,households,median_income,median_house_value\n",
      "\n",
      "-122.05,37.37,27,3885,661,1537,606,6.6085,344700\n",
      "\n",
      "-118.3,34.26,43,1510,310,809,277,3.599,176500\n",
      "\n",
      "-117.81,33.78,27,3589,507,1484,495,5.7934,270500\n",
      "\n",
      "-118.36,33.82,28,67,15,49,11,6.1359,330000\n",
      "\n"
     ]
    }
   ],
   "source": [
    "with open('sample_data/california_housing_test.csv', 'r') as f:\n",
    "    # print the first five lines\n",
    "    for i in range(5):\n",
    "        print(f.readline())"
   ]
  },
  {
   "cell_type": "markdown",
   "id": "1b18537e",
   "metadata": {
    "slideshow": {
     "slide_type": "subslide"
    }
   },
   "source": [
    "We can load this data to a `numpy` array using `genfromtxt()`, which takes a path to a file as an argument. We should also include a `delimiter` argument, indicating how values are separated. Useful optional arguments include `names`, which we can use to tell `numpy` that the first row contains column names; `skip_header`, which we can use to skip the first few lines; and arguments for how to handle missing values."
   ]
  },
  {
   "cell_type": "markdown",
   "id": "d811f466",
   "metadata": {
    "slideshow": {
     "slide_type": "notes"
    }
   },
   "source": [
    "There is also `loadtxt()`, which is simpler than `genfromtxt()`. The former does not have options for using header names or handling missing values.\n",
    "To fill missing values, we need to set the `usemask` parameter to `True`. The result will be a masked array in that case, which we can then convert to a regular array with the `filled(np.nan)` method. Note that this only works for float columns."
   ]
  },
  {
   "cell_type": "code",
   "execution_count": 69,
   "id": "d11869bd",
   "metadata": {
    "slideshow": {
     "slide_type": "notes"
    }
   },
   "outputs": [
    {
     "data": {
      "text/plain": [
       "(3000, 9)"
      ]
     },
     "execution_count": 69,
     "metadata": {},
     "output_type": "execute_result"
    }
   ],
   "source": [
    "hd = np.loadtxt('sample_data/california_housing_test.csv',\n",
    "                delimiter=',',\n",
    "                skiprows=1)\n",
    "hd.shape"
   ]
  },
  {
   "cell_type": "code",
   "execution_count": 63,
   "id": "96435f13",
   "metadata": {
    "slideshow": {
     "slide_type": "fragment"
    }
   },
   "outputs": [
    {
     "data": {
      "text/plain": [
       "array([(-122.05, 37.37, 27., 3885., 661., 1537., 606., 6.6085, 344700.),\n",
       "       (-118.3 , 34.26, 43., 1510., 310.,  809., 277., 3.599 , 176500.),\n",
       "       (-117.81, 33.78, 27., 3589., 507., 1484., 495., 5.7934, 270500.),\n",
       "       ...,\n",
       "       (-119.7 , 36.3 , 10.,  956., 201.,  693., 220., 2.2895,  62000.),\n",
       "       (-117.12, 34.1 , 40.,   96.,  14.,   46.,  14., 3.2708, 162500.),\n",
       "       (-119.63, 34.42, 42., 1765., 263.,  753., 260., 8.5608,     nan)],\n",
       "      dtype=[('longitude', '<f8'), ('latitude', '<f8'), ('housing_median_age', '<f8'), ('total_rooms', '<f8'), ('total_bedrooms', '<f8'), ('population', '<f8'), ('households', '<f8'), ('median_income', '<f8'), ('median_house_value', '<f8')])"
      ]
     },
     "execution_count": 63,
     "metadata": {},
     "output_type": "execute_result"
    }
   ],
   "source": [
    "housing_data = np.genfromtxt('sample_data/california_housing_test.csv',\n",
    "                             delimiter=',', \n",
    "                             #skip_header=1,  # let's use names instead\n",
    "                             names=True,\n",
    "                             missing_values=500001.0,\n",
    "                             filling_values=0.0,\n",
    "                             usemask=True  # replace missing values\n",
    "                            ) \n",
    "                            \n",
    "housing_data.filled(np.nan)"
   ]
  },
  {
   "cell_type": "markdown",
   "id": "acf39b55",
   "metadata": {
    "slideshow": {
     "slide_type": "subslide"
    }
   },
   "source": [
    "If you look closely, the array we got back is not a matrix. Each row looks like a tuple with comma-separated values. If we check the `shape`, we see 3000 rows and what looks like no columns. The `dtype` attribute lists all our field names."
   ]
  },
  {
   "cell_type": "code",
   "execution_count": 57,
   "id": "3c0b6b97",
   "metadata": {
    "slideshow": {
     "slide_type": "fragment"
    }
   },
   "outputs": [
    {
     "data": {
      "text/plain": [
       "(3000,)"
      ]
     },
     "execution_count": 57,
     "metadata": {},
     "output_type": "execute_result"
    }
   ],
   "source": [
    "housing_data.shape"
   ]
  },
  {
   "cell_type": "code",
   "execution_count": 58,
   "id": "47f76c0d",
   "metadata": {
    "slideshow": {
     "slide_type": "fragment"
    }
   },
   "outputs": [
    {
     "data": {
      "text/plain": [
       "dtype([('longitude', '<f8'), ('latitude', '<f8'), ('housing_median_age', '<f8'), ('total_rooms', '<f8'), ('total_bedrooms', '<f8'), ('population', '<f8'), ('households', '<f8'), ('median_income', '<f8'), ('median_house_value', '<f8')])"
      ]
     },
     "execution_count": 58,
     "metadata": {},
     "output_type": "execute_result"
    }
   ],
   "source": [
    "housing_data.dtype"
   ]
  },
  {
   "cell_type": "markdown",
   "id": "d2979b21",
   "metadata": {
    "slideshow": {
     "slide_type": "subslide"
    }
   },
   "source": [
    "In this case, `genfromtxt` returned a _structured array_, a different type of array than the ones we have seen so far. We can refer to fields by putting the field name as a string in square brackets, similar to referencing a dictionary key. However, we will soon see a data type in another package, `pandas`, that is even better suited to working with columns in tabular data like this."
   ]
  },
  {
   "cell_type": "code",
   "execution_count": 59,
   "id": "6e46f077",
   "metadata": {
    "slideshow": {
     "slide_type": "fragment"
    }
   },
   "outputs": [
    {
     "data": {
      "text/plain": [
       "29.0"
      ]
     },
     "execution_count": 59,
     "metadata": {},
     "output_type": "execute_result"
    }
   ],
   "source": [
    "np.median(housing_data['housing_median_age'])"
   ]
  },
  {
   "cell_type": "code",
   "execution_count": 79,
   "id": "64ed4558",
   "metadata": {
    "slideshow": {
     "slide_type": "fragment"
    }
   },
   "outputs": [
    {
     "data": {
      "text/plain": [
       "3.8072717999999997"
      ]
     },
     "execution_count": 79,
     "metadata": {},
     "output_type": "execute_result"
    }
   ],
   "source": [
    "housing_data['median_income'].mean()"
   ]
  },
  {
   "cell_type": "markdown",
   "id": "0d1c483c",
   "metadata": {
    "slideshow": {
     "slide_type": "slide"
    }
   },
   "source": [
    "# References\n",
    "\n",
    "- NumPy. _Basic Numpy_. https://numpy.org/devdocs/user/quickstart.html\n",
    "- NumPy. _Numpy Routines_. https://numpy.org/doc/stable/reference/routines.html"
   ]
  }
 ],
 "metadata": {
  "celltoolbar": "Slideshow",
  "kernelspec": {
   "display_name": "Python 3 (ipykernel)",
   "language": "python",
   "name": "python3"
  },
  "language_info": {
   "codemirror_mode": {
    "name": "ipython",
    "version": 3
   },
   "file_extension": ".py",
   "mimetype": "text/x-python",
   "name": "python",
   "nbconvert_exporter": "python",
   "pygments_lexer": "ipython3",
   "version": "3.10.4"
  },
  "rise": {
   "scroll": true,
   "theme": "solarized",
   "transition": "none"
  }
 },
 "nbformat": 4,
 "nbformat_minor": 5
}
