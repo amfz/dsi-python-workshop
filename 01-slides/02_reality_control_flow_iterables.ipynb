{
 "cells": [
  {
   "cell_type": "markdown",
   "id": "40d3f376",
   "metadata": {
    "slideshow": {
     "slide_type": "slide"
    }
   },
   "source": [
    "# Dealing with Reality: Control Flow and Iterables\n",
    "\n",
    "## Introduction to Python\n",
    "\n",
    "Data Sciences Institute, University of Toronto\n",
    "\n",
    "Instructor: A Mahfouz | TA: Kaylie Lau  \n",
    "July 2022"
   ]
  },
  {
   "cell_type": "markdown",
   "id": "11cd7cd4",
   "metadata": {
    "slideshow": {
     "slide_type": "skip"
    }
   },
   "source": [
    "### Jupyter Notebook as a Slideshow\n",
    "\n",
    "To see this notebook as a live slideshow, we need to install RISE (Reveal.js - Jupyter/IPython Slideshow Extension):\n",
    "\n",
    "1. Insert a cell and execute the following code: `conda install -c conda-forge rise`\n",
    "2. Restart the Jupyter Notebook.\n",
    "3. On the top of your notebook you have a new icon that looks like a bar chart; hover over the icon to see 'Enter/Exit RISE Slideshow'.\n",
    "4. Click on the RISE icon and enjoy the slideshow.\n",
    "5. You can edit the notebook in a slideshow mode by double clicking the line.\n",
    "*This is done only once. Now all your notebooks will have the RISE extension (unless you re-install the Jupyter Notebook).*"
   ]
  },
  {
   "cell_type": "markdown",
   "id": "e5e5ab47",
   "metadata": {
    "slideshow": {
     "slide_type": "slide"
    }
   },
   "source": [
    "# Contents:\n",
    "\n",
    "1. Logic, Revisited\n",
    "2. Control Flow: Conditionals\n",
    "3. Collections of Values\n",
    "  1. Lists and Tuples\n",
    "  3. Sets\n",
    "  4. Dictionaries\n",
    "4. Control Flow: Iteration"
   ]
  },
  {
   "cell_type": "markdown",
   "id": "c28a8f55",
   "metadata": {
    "slideshow": {
     "slide_type": "slide"
    }
   },
   "source": [
    "# Logic"
   ]
  },
  {
   "cell_type": "markdown",
   "id": "dcda64da",
   "metadata": {
    "slideshow": {
     "slide_type": "slide"
    }
   },
   "source": [
    "## Logic Operators\n",
    "\n",
    "Earlier, we introduced the `bool` data type, which has only two possible values: `True` and `False`. There are _boolean_ or _logic operators_ that work with Boolean values:\n",
    "\n",
    "* `not`: negates the truth value of the statement\n",
    "* `and`: check if the statements on both sides are true\n",
    "* `or`: check if at least one of the statements are true"
   ]
  },
  {
   "cell_type": "markdown",
   "id": "410fed7f",
   "metadata": {
    "slideshow": {
     "slide_type": "slide"
    }
   },
   "source": [
    "## `not`\n",
    "\n",
    "|X|`not` X|\n",
    "|-|-|\n",
    "|True|False|\n",
    "|False|True|"
   ]
  },
  {
   "cell_type": "code",
   "execution_count": 1,
   "id": "6436bb1e",
   "metadata": {
    "slideshow": {
     "slide_type": "fragment"
    }
   },
   "outputs": [
    {
     "data": {
      "text/plain": [
       "False"
      ]
     },
     "execution_count": 1,
     "metadata": {},
     "output_type": "execute_result"
    }
   ],
   "source": [
    "not True"
   ]
  },
  {
   "cell_type": "code",
   "execution_count": 2,
   "id": "e46591dc",
   "metadata": {
    "slideshow": {
     "slide_type": "fragment"
    }
   },
   "outputs": [
    {
     "data": {
      "text/plain": [
       "True"
      ]
     },
     "execution_count": 2,
     "metadata": {},
     "output_type": "execute_result"
    }
   ],
   "source": [
    "3 == 3"
   ]
  },
  {
   "cell_type": "code",
   "execution_count": 3,
   "id": "5c5d2b17",
   "metadata": {
    "slideshow": {
     "slide_type": "fragment"
    }
   },
   "outputs": [
    {
     "data": {
      "text/plain": [
       "False"
      ]
     },
     "execution_count": 3,
     "metadata": {},
     "output_type": "execute_result"
    }
   ],
   "source": [
    "not (3 == 3)"
   ]
  },
  {
   "cell_type": "markdown",
   "id": "f555e138",
   "metadata": {
    "slideshow": {
     "slide_type": "slide"
    }
   },
   "source": [
    "## `and`\n",
    "\n",
    "Evaluates to `True` if both statements are true.\n",
    "\n",
    "|X|Y|X `and` Y|\n",
    "|-|-|-|\n",
    "|True|True|True|\n",
    "|False|True|False|\n",
    "|True|False|False|\n",
    "|False|False|False|"
   ]
  },
  {
   "cell_type": "code",
   "execution_count": 4,
   "id": "be67c37a",
   "metadata": {
    "slideshow": {
     "slide_type": "fragment"
    }
   },
   "outputs": [
    {
     "data": {
      "text/plain": [
       "True"
      ]
     },
     "execution_count": 4,
     "metadata": {},
     "output_type": "execute_result"
    }
   ],
   "source": [
    "7 == 7.0 and 32 > 9"
   ]
  },
  {
   "cell_type": "code",
   "execution_count": 5,
   "id": "a1a68c4f",
   "metadata": {
    "slideshow": {
     "slide_type": "fragment"
    }
   },
   "outputs": [
    {
     "data": {
      "text/plain": [
       "False"
      ]
     },
     "execution_count": 5,
     "metadata": {},
     "output_type": "execute_result"
    }
   ],
   "source": [
    "'Python' == 'python' and True"
   ]
  },
  {
   "cell_type": "code",
   "execution_count": 6,
   "id": "81cc08f5",
   "metadata": {
    "slideshow": {
     "slide_type": "fragment"
    }
   },
   "outputs": [
    {
     "data": {
      "text/plain": [
       "True"
      ]
     },
     "execution_count": 6,
     "metadata": {},
     "output_type": "execute_result"
    }
   ],
   "source": [
    "is_summer = True\n",
    "is_sunny = True\n",
    "is_summer and is_sunny"
   ]
  },
  {
   "cell_type": "markdown",
   "id": "3e98c97b",
   "metadata": {
    "slideshow": {
     "slide_type": "slide"
    }
   },
   "source": [
    "## `or` \n",
    "\n",
    "Evaluates to `True` if just one of the statements is true.\n",
    "\n",
    "|X|Y|X `or` Y|\n",
    "|-|-|-|\n",
    "|True|True|True|\n",
    "|False|True|True|\n",
    "|True|False|True|\n",
    "|False|False|False|"
   ]
  },
  {
   "cell_type": "code",
   "execution_count": 7,
   "id": "2dbfb92a",
   "metadata": {
    "slideshow": {
     "slide_type": "fragment"
    }
   },
   "outputs": [
    {
     "data": {
      "text/plain": [
       "True"
      ]
     },
     "execution_count": 7,
     "metadata": {},
     "output_type": "execute_result"
    }
   ],
   "source": [
    "'Python' == 'python' or True"
   ]
  },
  {
   "cell_type": "code",
   "execution_count": 8,
   "id": "92880290",
   "metadata": {
    "slideshow": {
     "slide_type": "fragment"
    }
   },
   "outputs": [
    {
     "data": {
      "text/plain": [
       "False"
      ]
     },
     "execution_count": 8,
     "metadata": {},
     "output_type": "execute_result"
    }
   ],
   "source": [
    "not (7 % 2 == 1) or False"
   ]
  },
  {
   "cell_type": "markdown",
   "id": "fa05eeb9",
   "metadata": {
    "slideshow": {
     "slide_type": "slide"
    }
   },
   "source": [
    "## Operator precedence\n",
    "\n",
    "Boolean operators are evaluated after arithmetic and comparison operators.\n",
    "\n",
    "| Order | Operator | Description |\n",
    "|---|---|---|\n",
    "| 1 | `**` | Exponentiation |\n",
    "| 2 | `-`| Negation |\n",
    "| 3 | `*`, `/`, `//`, `%` | Multiplication, division, integer division, and modulo |\n",
    "| 4 | `+`, `-` | Addition and subtraction |\n",
    "| 5 | `<`, `<=`, `>`, `>=`, `==`, `!=` | Less than, less than or equal to, greater than, greater than or equal to, equal, not equal |\n",
    "| 6 | `not` | Not |\n",
    "| 7 | `and` | And |\n",
    "| 8 | `or` | Or|"
   ]
  },
  {
   "cell_type": "markdown",
   "id": "e92b6a3a",
   "metadata": {
    "slideshow": {
     "slide_type": "slide"
    }
   },
   "source": [
    "# Control Flow"
   ]
  },
  {
   "cell_type": "markdown",
   "id": "319df456",
   "metadata": {
    "slideshow": {
     "slide_type": "slide"
    }
   },
   "source": [
    "## What is control flow?\n",
    "\n",
    "_Control flow_ refers to the way computers execute programs. More specifically, control flow determines the order in which functions are called and statements are executed. Up until now, the code we have written has been more or less linear."
   ]
  },
  {
   "cell_type": "markdown",
   "id": "6a4d1def",
   "metadata": {
    "slideshow": {
     "slide_type": "slide"
    }
   },
   "source": [
    "## Conditionals\n",
    "\n",
    "With a conditional statement, Python will run different lines of code depending on whether the condition is met -- in other words, whether the condition evaluates to `True`. "
   ]
  },
  {
   "cell_type": "markdown",
   "id": "70765b71",
   "metadata": {
    "slideshow": {
     "slide_type": "slide"
    }
   },
   "source": [
    "### `if`\n",
    "\n",
    "Conditional statements start with `if` followed by a condition. If the condition evaluates to `True`, the indented code block below the `if` statement runs. If the condition evaluates to `False`, the code block does not run."
   ]
  },
  {
   "cell_type": "code",
   "execution_count": 9,
   "id": "df30db67",
   "metadata": {
    "slideshow": {
     "slide_type": "fragment"
    }
   },
   "outputs": [
    {
     "name": "stdout",
     "output_type": "stream",
     "text": [
      "We are in the 21st century.\n"
     ]
    }
   ],
   "source": [
    "year = 2022\n",
    "\n",
    "if year >= 2000:\n",
    "    print('We are in the 21st century.')"
   ]
  },
  {
   "cell_type": "markdown",
   "id": "5a3c9bac",
   "metadata": {
    "slideshow": {
     "slide_type": "slide"
    }
   },
   "source": [
    "### `else`\n",
    "\n",
    "We can use an `else` statement to tell Python what code to run if the condition evaluates to `False`. An `else` statement must always be paired with an `if` statement, but as we have seen, `if` statements do not need to be paired with `else`."
   ]
  },
  {
   "cell_type": "code",
   "execution_count": 10,
   "id": "d639d8a5",
   "metadata": {
    "slideshow": {
     "slide_type": "fragment"
    }
   },
   "outputs": [
    {
     "name": "stdout",
     "output_type": "stream",
     "text": [
      "We are not in the 21st century.\n"
     ]
    }
   ],
   "source": [
    "year = 1999\n",
    "\n",
    "if year >= 2000:\n",
    "    print('We are in the 21st century.')\n",
    "else:\n",
    "    print('We are not in the 21st century.')"
   ]
  },
  {
   "cell_type": "markdown",
   "id": "8bb36f3c",
   "metadata": {
    "slideshow": {
     "slide_type": "slide"
    }
   },
   "source": [
    "### `elif`\n",
    "\n",
    "We can evaluate several conditions one after another with `elif`, which is short for \"else if\". Conditions are checked in the order they appear. Python will execute the code block under the first `True` condition and skip subsequent `elif` and `else` statements after without evaluating them."
   ]
  },
  {
   "cell_type": "code",
   "execution_count": 11,
   "id": "1f623bb3",
   "metadata": {
    "slideshow": {
     "slide_type": "fragment"
    }
   },
   "outputs": [
    {
     "name": "stdout",
     "output_type": "stream",
     "text": [
      "We are in the 19th century.\n"
     ]
    }
   ],
   "source": [
    "year = 1867\n",
    "\n",
    "if year >= 2000:\n",
    "    print('We are in the 21st century.')\n",
    "elif year >= 1900:\n",
    "    print('We are in the 20th century.')\n",
    "elif year >= 1800:\n",
    "    print('We are in the 19th century.')\n",
    "elif year >= 1700:\n",
    "    print('We are in the 18th century.')\n",
    "else:\n",
    "    print('We have gone way back in time!')"
   ]
  },
  {
   "cell_type": "markdown",
   "id": "60fd6461",
   "metadata": {
    "slideshow": {
     "slide_type": "slide"
    }
   },
   "source": [
    "### Building more complex conditionals with logical operators\n",
    "\n",
    "We can use logical operators to check more complex conditions."
   ]
  },
  {
   "cell_type": "code",
   "execution_count": 12,
   "id": "f1cf3a8d",
   "metadata": {
    "slideshow": {
     "slide_type": "fragment"
    }
   },
   "outputs": [
    {
     "name": "stdout",
     "output_type": "stream",
     "text": [
      "Weekday\n"
     ]
    }
   ],
   "source": [
    "day_of_week = 'Thursday'\n",
    "\n",
    "if day_of_week == 'Saturday' or day_of_week == 'Sunday':\n",
    "    print('Weekend')\n",
    "else:\n",
    "    print('Weekday')"
   ]
  },
  {
   "cell_type": "markdown",
   "id": "da2b9507",
   "metadata": {
    "slideshow": {
     "slide_type": "slide"
    }
   },
   "source": [
    "### Nested conditionals\n",
    "\n",
    "Conditionals can be nested within one another. This offers another way to test more complex conditionals. Whether to use conditions with logical operators, nested conditionals, or both can depend on personal preference and what we're trying to check.\n",
    "\n",
    "### Conditionals in functions\n",
    "\n",
    "We can also use conditionals in functions to return different values."
   ]
  },
  {
   "cell_type": "markdown",
   "id": "a8203091",
   "metadata": {
    "slideshow": {
     "slide_type": "subslide"
    }
   },
   "source": [
    "#### Example: Will OHIP cover an eye exam?\n",
    "\n",
    "OHIP covers eye exams [in some cases](https://www.ontario.ca/page/what-ohip-covers#section-5). We can translate the eligibility criteria into conditionals."
   ]
  },
  {
   "cell_type": "code",
   "execution_count": 13,
   "id": "1565990f",
   "metadata": {
    "slideshow": {
     "slide_type": "fragment"
    }
   },
   "outputs": [],
   "source": [
    "def eye_exam_covered(age, qualifying_condition, time_since_last_exam):\n",
    "    if time_since_last_exam >= 12:\n",
    "        if age <= 19 or age >= 65:\n",
    "            return True\n",
    "        elif qualifying_condition:\n",
    "            return True\n",
    "    else:\n",
    "        return False"
   ]
  },
  {
   "cell_type": "code",
   "execution_count": 14,
   "id": "e210905c",
   "metadata": {
    "slideshow": {
     "slide_type": "fragment"
    }
   },
   "outputs": [
    {
     "data": {
      "text/plain": [
       "False"
      ]
     },
     "execution_count": 14,
     "metadata": {},
     "output_type": "execute_result"
    }
   ],
   "source": [
    "eye_exam_covered(19, False, 11)"
   ]
  },
  {
   "cell_type": "code",
   "execution_count": 15,
   "id": "5ee26253",
   "metadata": {
    "slideshow": {
     "slide_type": "fragment"
    }
   },
   "outputs": [
    {
     "data": {
      "text/plain": [
       "True"
      ]
     },
     "execution_count": 15,
     "metadata": {},
     "output_type": "execute_result"
    }
   ],
   "source": [
    "eye_exam_covered(27, True, 15)"
   ]
  },
  {
   "cell_type": "markdown",
   "id": "053a833c",
   "metadata": {
    "slideshow": {
     "slide_type": "slide"
    }
   },
   "source": [
    "## Practice"
   ]
  },
  {
   "cell_type": "markdown",
   "id": "4205fa4d",
   "metadata": {
    "slideshow": {
     "slide_type": "subslide"
    }
   },
   "source": [
    "### Conditionals\n",
    "\n",
    "Write a conditional that:\n",
    "* prints a warning message if a bank account balance is below \\\\$100\n",
    "* prints different messages if a bank account balance is below \\\\$3,000, between \\\\$3,000 and \\\\$10,000, or over \\\\$10,000\n",
    "\n",
    "Write a function:\n",
    "* named `different` that takes two parameters, `a` and `b`. If `a` and `b` are different values, the function should return `True`. Otherwise it should return `False`."
   ]
  },
  {
   "cell_type": "markdown",
   "id": "602b56d0",
   "metadata": {
    "slideshow": {
     "slide_type": "slide"
    }
   },
   "source": [
    "# Collections of values"
   ]
  },
  {
   "cell_type": "markdown",
   "id": "006eb53a",
   "metadata": {
    "slideshow": {
     "slide_type": "slide"
    }
   },
   "source": [
    "## Working with multiple values\n",
    "\n",
    "So far, we've worked with individual values: integers, floating point numbers, strings, and booleans. However, we often want to work with groups of values\n",
    "\n",
    "Python offers built-in data types to store and work with multiple values together. They are _lists_, _tuples_, _sets_, and _dictionaries_."
   ]
  },
  {
   "cell_type": "markdown",
   "id": "1e277da4",
   "metadata": {
    "slideshow": {
     "slide_type": "slide"
    }
   },
   "source": [
    "## Lists\n",
    "\n",
    "Python lists let us store and work with multiple values at once. We can create a list by putting values in square brackets (`[]`)"
   ]
  },
  {
   "cell_type": "markdown",
   "id": "baf64490",
   "metadata": {
    "slideshow": {
     "slide_type": "skip"
    }
   },
   "source": [
    "## Creating lists\n",
    "\n",
    "We can create a list by putting values in square brackets."
   ]
  },
  {
   "cell_type": "code",
   "execution_count": 16,
   "id": "88635d63",
   "metadata": {
    "slideshow": {
     "slide_type": "fragment"
    }
   },
   "outputs": [
    {
     "name": "stdout",
     "output_type": "stream",
     "text": [
      "['a', 'e', 'i', 'o', 'u'] are vowels.\n"
     ]
    }
   ],
   "source": [
    "vowels = ['a', 'e', 'i', 'o', 'u']\n",
    "print(f'{vowels} are vowels.')"
   ]
  },
  {
   "cell_type": "markdown",
   "id": "483f9f18",
   "metadata": {
    "slideshow": {
     "slide_type": "subslide"
    }
   },
   "source": [
    "We can create an empty list by just using square brackets with nothing in them. It is also possible to create an empty list with the `list()` function, but this is not considered best practice."
   ]
  },
  {
   "cell_type": "code",
   "execution_count": 17,
   "id": "0a973fe6",
   "metadata": {
    "slideshow": {
     "slide_type": "fragment"
    }
   },
   "outputs": [
    {
     "name": "stdout",
     "output_type": "stream",
     "text": [
      "empty_list is <class 'list'>\n",
      "empty_list2 is <class 'list'>\n"
     ]
    }
   ],
   "source": [
    "# create an empty list the conventional way\n",
    "empty_list = []\n",
    "print('empty_list is', type(empty_list))\n",
    "\n",
    "# this also works\n",
    "empty_list2 = list()\n",
    "print('empty_list2 is', type(empty_list2))"
   ]
  },
  {
   "cell_type": "markdown",
   "id": "a8274795",
   "metadata": {
    "slideshow": {
     "slide_type": "subslide"
    }
   },
   "source": [
    "The values in a list can be different types. They can also repeat."
   ]
  },
  {
   "cell_type": "code",
   "execution_count": 18,
   "id": "38f7147d",
   "metadata": {
    "slideshow": {
     "slide_type": "fragment"
    }
   },
   "outputs": [],
   "source": [
    "# all valid lists!\n",
    "scores = [90, 80, 82, 91, 80]\n",
    "grades = ['K', 1, 2, 3, 4, 5, 6, 7, 8, 9, 10, 11, 12]\n",
    "summary_functions = [len, sum, max, min]"
   ]
  },
  {
   "cell_type": "markdown",
   "id": "e13bc874",
   "metadata": {
    "slideshow": {
     "slide_type": "subslide"
    }
   },
   "source": [
    "We can even store lists within lists. The list below is written out over multiple lines so that it is easier to read."
   ]
  },
  {
   "cell_type": "code",
   "execution_count": 19,
   "id": "40052e17",
   "metadata": {
    "slideshow": {
     "slide_type": "fragment"
    }
   },
   "outputs": [],
   "source": [
    "mystery_solvers = [\n",
    "    ['Sherlock', 'Watson'],\n",
    "    ['Scooby', 'Shaggy', 'Fred', 'Velma', 'Daphne'],\n",
    "    'Poirot'\n",
    "]"
   ]
  },
  {
   "cell_type": "markdown",
   "id": "fa641860",
   "metadata": {
    "slideshow": {
     "slide_type": "slide"
    }
   },
   "source": [
    "## Accessing items in a list\n",
    "\n",
    "Lists are _ordered_, which means that each item in a list can be referenced by its index, or position in the list. Just like getting characters from a string, we can get items from a list by index. We can also slice lists by providing the indices to start and end at in square brackets, separated by a colon. Negative indices count backwards from the end. If we try to access an item at an index that doesn't exist, we will get an error."
   ]
  },
  {
   "cell_type": "code",
   "execution_count": 20,
   "id": "16979fa9",
   "metadata": {
    "slideshow": {
     "slide_type": "subslide"
    }
   },
   "outputs": [
    {
     "data": {
      "text/plain": [
       "'K'"
      ]
     },
     "execution_count": 20,
     "metadata": {},
     "output_type": "execute_result"
    }
   ],
   "source": [
    "# get the first school grade\n",
    "grades[0]"
   ]
  },
  {
   "cell_type": "code",
   "execution_count": 21,
   "id": "c7105f5e",
   "metadata": {
    "slideshow": {
     "slide_type": "fragment"
    }
   },
   "outputs": [
    {
     "data": {
      "text/plain": [
       "[6, 7, 8]"
      ]
     },
     "execution_count": 21,
     "metadata": {},
     "output_type": "execute_result"
    }
   ],
   "source": [
    "# get middle school grades\n",
    "grades[6:9]"
   ]
  },
  {
   "cell_type": "code",
   "execution_count": 22,
   "id": "2d2d13af",
   "metadata": {
    "slideshow": {
     "slide_type": "fragment"
    }
   },
   "outputs": [
    {
     "data": {
      "text/plain": [
       "[9, 10, 11, 12]"
      ]
     },
     "execution_count": 22,
     "metadata": {},
     "output_type": "execute_result"
    }
   ],
   "source": [
    "# get high school grades\n",
    "grades[-4:]"
   ]
  },
  {
   "cell_type": "code",
   "execution_count": 23,
   "id": "34c6721a",
   "metadata": {
    "slideshow": {
     "slide_type": "fragment"
    }
   },
   "outputs": [
    {
     "ename": "IndexError",
     "evalue": "list index out of range",
     "output_type": "error",
     "traceback": [
      "\u001b[1;31m---------------------------------------------------------------------------\u001b[0m",
      "\u001b[1;31mIndexError\u001b[0m                                Traceback (most recent call last)",
      "Input \u001b[1;32mIn [23]\u001b[0m, in \u001b[0;36m<cell line: 1>\u001b[1;34m()\u001b[0m\n\u001b[1;32m----> 1\u001b[0m \u001b[43mgrades\u001b[49m\u001b[43m[\u001b[49m\u001b[38;5;241;43m13\u001b[39;49m\u001b[43m]\u001b[49m\n",
      "\u001b[1;31mIndexError\u001b[0m: list index out of range"
     ]
    }
   ],
   "source": [
    "grades[13]"
   ]
  },
  {
   "cell_type": "markdown",
   "id": "0dae8395",
   "metadata": {
    "slideshow": {
     "slide_type": "slide"
    }
   },
   "source": [
    "### List membership\n",
    "\n",
    "We can check if a value is in a list with the `in` operator."
   ]
  },
  {
   "cell_type": "code",
   "execution_count": 24,
   "id": "a1ce4d32",
   "metadata": {
    "slideshow": {
     "slide_type": "fragment"
    }
   },
   "outputs": [
    {
     "data": {
      "text/plain": [
       "['a', 'e', 'i', 'o', 'u']"
      ]
     },
     "execution_count": 24,
     "metadata": {},
     "output_type": "execute_result"
    }
   ],
   "source": [
    "# recall the vowels list\n",
    "vowels"
   ]
  },
  {
   "cell_type": "code",
   "execution_count": 25,
   "id": "4867a3fb",
   "metadata": {
    "slideshow": {
     "slide_type": "fragment"
    }
   },
   "outputs": [
    {
     "data": {
      "text/plain": [
       "True"
      ]
     },
     "execution_count": 25,
     "metadata": {},
     "output_type": "execute_result"
    }
   ],
   "source": [
    "'e' in vowels"
   ]
  },
  {
   "cell_type": "markdown",
   "id": "30641400",
   "metadata": {
    "slideshow": {
     "slide_type": "slide"
    }
   },
   "source": [
    "## Mutating lists\n",
    "\n",
    "Lists are _mutable_, which means they can be modified in place. In contrast, data types like strings and numbers are _immutable_. They cannot be changed. When we update a string or numeric variable, we are actually replacing the value entirely."
   ]
  },
  {
   "cell_type": "markdown",
   "id": "8d052370",
   "metadata": {
    "slideshow": {
     "slide_type": "fragment"
    }
   },
   "source": [
    "To _mutate_, or change a value in a list, we access it by its index and assign the new value."
   ]
  },
  {
   "cell_type": "code",
   "execution_count": 26,
   "id": "f9b6627b",
   "metadata": {
    "slideshow": {
     "slide_type": "fragment"
    }
   },
   "outputs": [
    {
     "data": {
      "text/plain": [
       "[1, 4, 9, 16, 25, 36, 49]"
      ]
     },
     "execution_count": 26,
     "metadata": {},
     "output_type": "execute_result"
    }
   ],
   "source": [
    "perfect_squares = [1, 4, 9, 16, 25, 37, 49]\n",
    "\n",
    "# fix the error\n",
    "perfect_squares[5] = 36\n",
    "perfect_squares"
   ]
  },
  {
   "cell_type": "markdown",
   "id": "8045c00a",
   "metadata": {
    "slideshow": {
     "slide_type": "slide"
    }
   },
   "source": [
    "## Mutator beware\n",
    "\n",
    "List variables behave in ways that can be surprising."
   ]
  },
  {
   "cell_type": "code",
   "execution_count": 27,
   "id": "e385b52d",
   "metadata": {
    "slideshow": {
     "slide_type": "fragment"
    }
   },
   "outputs": [],
   "source": [
    "sandwich = ['bread', 'cheese', 'bread']"
   ]
  },
  {
   "cell_type": "code",
   "execution_count": 28,
   "id": "cc2bdfbc",
   "metadata": {
    "slideshow": {
     "slide_type": "fragment"
    }
   },
   "outputs": [],
   "source": [
    "sandwich_copy = sandwich"
   ]
  },
  {
   "cell_type": "code",
   "execution_count": 29,
   "id": "aa04a766",
   "metadata": {
    "slideshow": {
     "slide_type": "fragment"
    }
   },
   "outputs": [],
   "source": [
    "# change original sandwich filling\n",
    "sandwich[1] = 'ham'"
   ]
  },
  {
   "cell_type": "code",
   "execution_count": 30,
   "id": "ca9105c9",
   "metadata": {
    "slideshow": {
     "slide_type": "fragment"
    }
   },
   "outputs": [
    {
     "data": {
      "text/plain": [
       "['bread', 'ham', 'bread']"
      ]
     },
     "execution_count": 30,
     "metadata": {},
     "output_type": "execute_result"
    }
   ],
   "source": [
    "sandwich_copy"
   ]
  },
  {
   "cell_type": "code",
   "execution_count": 31,
   "id": "e7ab8cea",
   "metadata": {
    "slideshow": {
     "slide_type": "notes"
    }
   },
   "outputs": [
    {
     "name": "stdout",
     "output_type": "stream",
     "text": [
      "['bread', 'tomato', 'bread']\n",
      "1497574919808\n",
      "1497574919808\n"
     ]
    }
   ],
   "source": [
    "sandwich_copy[1] = 'tomato'\n",
    "print(sandwich)\n",
    "print(id(sandwich))\n",
    "print(id(sandwich_copy))"
   ]
  },
  {
   "cell_type": "markdown",
   "id": "f8da2d7e",
   "metadata": {
    "slideshow": {
     "slide_type": "slide"
    }
   },
   "source": [
    "### What just happened?\n",
    "\n",
    "When we assign a value to a variable, the value is stored somewhere in the computer's memory. This somewhere has an _address_. Python keeps track of the addresses where different variable values can be found.\n",
    "\n",
    "When we assigned `sandwich` to `sandwich_copy`, we did not actually tell Python that the value of `sandwich_copy` is `['bread', 'cheese', 'bread']`. We told Python that the value of `sandwich_copy` can be found at the same memory address as the value of `sandwich`.\n",
    "\n",
    "Remember how we said that lists mutate \"in place\"? The \"in place\" refers to a place in memory. When we updated `sandwich`, we updated the value stored at the memory address linked to both `sandwich` and `sandwich_copy`. As a result, `sandwich_copy` is now also a ham sandwich.\n",
    "\n",
    "Mutating `sandwich_copy` will similarly update the value of `sandwich`."
   ]
  },
  {
   "cell_type": "markdown",
   "id": "7b97ffb0",
   "metadata": {
    "slideshow": {
     "slide_type": "slide"
    }
   },
   "source": [
    "### Why doesn't this happen with string and numeric variables?\n",
    "\n",
    "Because strings and numeric values are immutable, they cannot be changed in place. When we update a string or numeric variable, the memory address where the value is found changes."
   ]
  },
  {
   "cell_type": "code",
   "execution_count": 32,
   "id": "319588e8",
   "metadata": {
    "slideshow": {
     "slide_type": "fragment"
    }
   },
   "outputs": [
    {
     "data": {
      "text/plain": [
       "1"
      ]
     },
     "execution_count": 32,
     "metadata": {},
     "output_type": "execute_result"
    }
   ],
   "source": [
    "# Python tracks where in memory 1 is stored\n",
    "a = 1\n",
    "\n",
    "# Python will look for b's value at the same memory address as a's value\n",
    "b = a\n",
    "\n",
    "# 2 is stored at a new address. 1 is still stored at the old address\n",
    "a = 2\n",
    "\n",
    "# Python still looks to the old address a and b shared to find b's value\n",
    "b"
   ]
  },
  {
   "cell_type": "markdown",
   "id": "1c3314f6",
   "metadata": {
    "slideshow": {
     "slide_type": "slide"
    }
   },
   "source": [
    "### Making an independent copy of a list\n",
    "\n",
    "To make an independent copy of a list, we can pass the list we want to copy to the `list()` function."
   ]
  },
  {
   "cell_type": "code",
   "execution_count": 33,
   "id": "f6ad422d",
   "metadata": {
    "slideshow": {
     "slide_type": "fragment"
    }
   },
   "outputs": [
    {
     "data": {
      "text/plain": [
       "['burger', 'fries', 'drink']"
      ]
     },
     "execution_count": 33,
     "metadata": {},
     "output_type": "execute_result"
    }
   ],
   "source": [
    "combo = ['burger', 'fries', 'drink']\n",
    "kid_meal = list(combo)\n",
    "combo[0] = 'chicken sandwich'\n",
    "kid_meal"
   ]
  },
  {
   "cell_type": "markdown",
   "id": "7ecc552c",
   "metadata": {
    "slideshow": {
     "slide_type": "slide"
    }
   },
   "source": [
    "## Operations on lists\n",
    "\n",
    "There are many ways to manipulate data in a list. Some produce summary statistics about the values in the list."
   ]
  },
  {
   "cell_type": "code",
   "execution_count": 34,
   "id": "a00d5f22",
   "metadata": {
    "slideshow": {
     "slide_type": "fragment"
    }
   },
   "outputs": [
    {
     "data": {
      "text/plain": [
       "7"
      ]
     },
     "execution_count": 34,
     "metadata": {},
     "output_type": "execute_result"
    }
   ],
   "source": [
    "len(perfect_squares)"
   ]
  },
  {
   "cell_type": "code",
   "execution_count": 35,
   "id": "e6207e4d",
   "metadata": {
    "slideshow": {
     "slide_type": "fragment"
    }
   },
   "outputs": [
    {
     "data": {
      "text/plain": [
       "49"
      ]
     },
     "execution_count": 35,
     "metadata": {},
     "output_type": "execute_result"
    }
   ],
   "source": [
    "max(perfect_squares)"
   ]
  },
  {
   "cell_type": "code",
   "execution_count": 36,
   "id": "f35e3c9d",
   "metadata": {
    "slideshow": {
     "slide_type": "fragment"
    }
   },
   "outputs": [
    {
     "data": {
      "text/plain": [
       "140"
      ]
     },
     "execution_count": 36,
     "metadata": {},
     "output_type": "execute_result"
    }
   ],
   "source": [
    "sum(perfect_squares)"
   ]
  },
  {
   "cell_type": "markdown",
   "id": "15a35d8e",
   "metadata": {
    "slideshow": {
     "slide_type": "subslide"
    }
   },
   "source": [
    "The `+` and `*` operators work on lists as well. `+` concatenates two lists."
   ]
  },
  {
   "cell_type": "code",
   "execution_count": 37,
   "id": "4b3f1abb",
   "metadata": {
    "slideshow": {
     "slide_type": "fragment"
    }
   },
   "outputs": [
    {
     "data": {
      "text/plain": [
       "['a', 'b', 'c', 1, 2, 3]"
      ]
     },
     "execution_count": 37,
     "metadata": {},
     "output_type": "execute_result"
    }
   ],
   "source": [
    "letters = ['a', 'b', 'c']\n",
    "numbers = [1, 2, 3]\n",
    "characters = letters + numbers\n",
    "characters"
   ]
  },
  {
   "cell_type": "markdown",
   "id": "c5b26a22",
   "metadata": {
    "slideshow": {
     "slide_type": "subslide"
    }
   },
   "source": [
    "`*` repeats the list's items `int` times."
   ]
  },
  {
   "cell_type": "code",
   "execution_count": 38,
   "id": "e0946f89",
   "metadata": {
    "slideshow": {
     "slide_type": "fragment"
    }
   },
   "outputs": [
    {
     "data": {
      "text/plain": [
       "['a', 'b', 'c', 'a', 'b', 'c']"
      ]
     },
     "execution_count": 38,
     "metadata": {},
     "output_type": "execute_result"
    }
   ],
   "source": [
    "letters * 2"
   ]
  },
  {
   "cell_type": "code",
   "execution_count": 39,
   "id": "70327087",
   "metadata": {
    "slideshow": {
     "slide_type": "fragment"
    }
   },
   "outputs": [
    {
     "data": {
      "text/plain": [
       "[1, 2, 3, 1, 2, 3]"
      ]
     },
     "execution_count": 39,
     "metadata": {},
     "output_type": "execute_result"
    }
   ],
   "source": [
    "numbers * 2"
   ]
  },
  {
   "cell_type": "code",
   "execution_count": 40,
   "id": "7369a425",
   "metadata": {
    "slideshow": {
     "slide_type": "fragment"
    }
   },
   "outputs": [
    {
     "data": {
      "text/plain": [
       "['a', 'b', 'c']"
      ]
     },
     "execution_count": 40,
     "metadata": {},
     "output_type": "execute_result"
    }
   ],
   "source": [
    "letters"
   ]
  },
  {
   "cell_type": "markdown",
   "id": "7b8573c0",
   "metadata": {
    "slideshow": {
     "slide_type": "fragment"
    }
   },
   "source": [
    "Notice that `letters` did not change. `+` and `*` do not mutate lists."
   ]
  },
  {
   "cell_type": "markdown",
   "id": "32dd471b",
   "metadata": {
    "slideshow": {
     "slide_type": "slide"
    }
   },
   "source": [
    "## List methods\n",
    "\n",
    "Lists, like strings, have their own methods. Remember that methods are called with the pattern `value.method(arguments)`.\n",
    "\n",
    "Almost all list methods modify lists in place. That is, they mutate them."
   ]
  },
  {
   "cell_type": "markdown",
   "id": "e8f64e9b",
   "metadata": {
    "slideshow": {
     "slide_type": "slide"
    }
   },
   "source": [
    "### Adding items\n",
    "\n",
    "We can add items to the end of a list with `append()` and `extend()`. `append()` takes one (and only one!) argument and tacks that value on to the end of a list."
   ]
  },
  {
   "cell_type": "code",
   "execution_count": 41,
   "id": "a30b6271",
   "metadata": {
    "slideshow": {
     "slide_type": "fragment"
    }
   },
   "outputs": [],
   "source": [
    "rainbow = ['red', 'orange', 'yellow', 'green', 'light blue', 'blue', 'violet']"
   ]
  },
  {
   "cell_type": "code",
   "execution_count": 42,
   "id": "48b89f8f",
   "metadata": {
    "slideshow": {
     "slide_type": "fragment"
    }
   },
   "outputs": [
    {
     "data": {
      "text/plain": [
       "['red', 'orange', 'yellow', 'green', 'light blue', 'blue', 'violet', 'purple']"
      ]
     },
     "execution_count": 42,
     "metadata": {},
     "output_type": "execute_result"
    }
   ],
   "source": [
    "rainbow.append('purple')\n",
    "rainbow"
   ]
  },
  {
   "cell_type": "code",
   "execution_count": 43,
   "id": "d296dab5",
   "metadata": {
    "slideshow": {
     "slide_type": "fragment"
    }
   },
   "outputs": [
    {
     "data": {
      "text/plain": [
       "['red',\n",
       " 'orange',\n",
       " 'yellow',\n",
       " 'green',\n",
       " 'light blue',\n",
       " 'blue',\n",
       " 'violet',\n",
       " 'purple',\n",
       " ['purple']]"
      ]
     },
     "execution_count": 43,
     "metadata": {},
     "output_type": "execute_result"
    }
   ],
   "source": [
    "# try appending a list\n",
    "rainbow.append(['purple'])\n",
    "rainbow"
   ]
  },
  {
   "cell_type": "markdown",
   "id": "f5652c01",
   "metadata": {
    "slideshow": {
     "slide_type": "subslide"
    }
   },
   "source": [
    "`extend()` also adds a single argument to the end of a list. Notice the difference -- it adds the argument value in pieces."
   ]
  },
  {
   "cell_type": "code",
   "execution_count": 44,
   "id": "3b3684ca",
   "metadata": {},
   "outputs": [
    {
     "data": {
      "text/plain": [
       "['red',\n",
       " 'orange',\n",
       " 'yellow',\n",
       " 'green',\n",
       " 'light blue',\n",
       " 'blue',\n",
       " 'violet',\n",
       " 'purple',\n",
       " ['purple'],\n",
       " 'magenta',\n",
       " 'pink']"
      ]
     },
     "execution_count": 44,
     "metadata": {},
     "output_type": "execute_result"
    }
   ],
   "source": [
    "rainbow.extend(['magenta', 'pink'])\n",
    "rainbow"
   ]
  },
  {
   "cell_type": "markdown",
   "id": "59ae62c6",
   "metadata": {
    "slideshow": {
     "slide_type": "subslide"
    }
   },
   "source": [
    "Strings get broken up into single characters. "
   ]
  },
  {
   "cell_type": "code",
   "execution_count": 45,
   "id": "26a9b6f6",
   "metadata": {
    "slideshow": {
     "slide_type": "fragment"
    }
   },
   "outputs": [
    {
     "data": {
      "text/plain": [
       "['red',\n",
       " 'orange',\n",
       " 'yellow',\n",
       " 'green',\n",
       " 'light blue',\n",
       " 'blue',\n",
       " 'violet',\n",
       " 'purple',\n",
       " ['purple'],\n",
       " 'magenta',\n",
       " 'pink',\n",
       " 'p',\n",
       " 'a',\n",
       " 'l',\n",
       " 'e',\n",
       " ' ',\n",
       " 'p',\n",
       " 'i',\n",
       " 'n',\n",
       " 'k']"
      ]
     },
     "execution_count": 45,
     "metadata": {},
     "output_type": "execute_result"
    }
   ],
   "source": [
    "rainbow.extend('pale pink')\n",
    "rainbow"
   ]
  },
  {
   "cell_type": "markdown",
   "id": "dd3b4077",
   "metadata": {
    "slideshow": {
     "slide_type": "subslide"
    }
   },
   "source": [
    "And numbers don't work with `extend()` at all."
   ]
  },
  {
   "cell_type": "code",
   "execution_count": 46,
   "id": "35dd6e4a",
   "metadata": {
    "slideshow": {
     "slide_type": "fragment"
    }
   },
   "outputs": [
    {
     "ename": "TypeError",
     "evalue": "'float' object is not iterable",
     "output_type": "error",
     "traceback": [
      "\u001b[1;31m---------------------------------------------------------------------------\u001b[0m",
      "\u001b[1;31mTypeError\u001b[0m                                 Traceback (most recent call last)",
      "Input \u001b[1;32mIn [46]\u001b[0m, in \u001b[0;36m<cell line: 1>\u001b[1;34m()\u001b[0m\n\u001b[1;32m----> 1\u001b[0m \u001b[43mrainbow\u001b[49m\u001b[38;5;241;43m.\u001b[39;49m\u001b[43mextend\u001b[49m\u001b[43m(\u001b[49m\u001b[38;5;241;43m2.3\u001b[39;49m\u001b[43m)\u001b[49m\n",
      "\u001b[1;31mTypeError\u001b[0m: 'float' object is not iterable"
     ]
    }
   ],
   "source": [
    "rainbow.extend(2.3)"
   ]
  },
  {
   "cell_type": "markdown",
   "id": "8e9de0fe",
   "metadata": {
    "slideshow": {
     "slide_type": "subslide"
    }
   },
   "source": [
    "What happens if we try to append data and assign the list to a new variable?"
   ]
  },
  {
   "cell_type": "code",
   "execution_count": 47,
   "id": "a8e0c225",
   "metadata": {
    "slideshow": {
     "slide_type": "fragment"
    }
   },
   "outputs": [
    {
     "name": "stdout",
     "output_type": "stream",
     "text": [
      "None\n"
     ]
    }
   ],
   "source": [
    "new_rainbow = rainbow.append('dark purple')\n",
    "print(new_rainbow)"
   ]
  },
  {
   "cell_type": "markdown",
   "id": "e0b4e5c7",
   "metadata": {
    "slideshow": {
     "slide_type": "fragment"
    }
   },
   "source": [
    "**List methods that only mutate a list return `None`, or no data.** The data we're looking for is in the original list."
   ]
  },
  {
   "cell_type": "markdown",
   "id": "0d03bf24",
   "metadata": {
    "slideshow": {
     "slide_type": "slide"
    }
   },
   "source": [
    "### Inserting items\n",
    "\n",
    "If we want to add an item somewhere else to a list besides the end, we can use the `insert()` method, passing in the index to insert data into and what value to put in. Like the `append()` and `extend()`, `insert()` modifies the list in place."
   ]
  },
  {
   "cell_type": "code",
   "execution_count": 48,
   "id": "5d8b8486",
   "metadata": {
    "slideshow": {
     "slide_type": "fragment"
    }
   },
   "outputs": [
    {
     "data": {
      "text/plain": [
       "['red',\n",
       " 'orange',\n",
       " 'yellow',\n",
       " 'green',\n",
       " 'light blue',\n",
       " 'blue',\n",
       " 'indigo',\n",
       " 'violet',\n",
       " 'purple',\n",
       " ['purple'],\n",
       " 'magenta',\n",
       " 'pink',\n",
       " 'p',\n",
       " 'a',\n",
       " 'l',\n",
       " 'e',\n",
       " ' ',\n",
       " 'p',\n",
       " 'i',\n",
       " 'n',\n",
       " 'k',\n",
       " 'dark purple']"
      ]
     },
     "execution_count": 48,
     "metadata": {},
     "output_type": "execute_result"
    }
   ],
   "source": [
    "rainbow.insert(6, 'indigo')\n",
    "rainbow"
   ]
  },
  {
   "cell_type": "markdown",
   "id": "f6da6b49",
   "metadata": {
    "slideshow": {
     "slide_type": "slide"
    }
   },
   "source": [
    "### Removing items\n",
    "\n",
    "We can remove items by value with the `remove()` method. Notice that `remove()` only gets rid of the first match."
   ]
  },
  {
   "cell_type": "code",
   "execution_count": 49,
   "id": "87836c7c",
   "metadata": {
    "slideshow": {
     "slide_type": "fragment"
    }
   },
   "outputs": [
    {
     "data": {
      "text/plain": [
       "['red',\n",
       " 'orange',\n",
       " 'yellow',\n",
       " 'green',\n",
       " 'light blue',\n",
       " 'blue',\n",
       " 'indigo',\n",
       " 'violet',\n",
       " 'purple',\n",
       " ['purple'],\n",
       " 'magenta',\n",
       " 'pink',\n",
       " 'a',\n",
       " 'l',\n",
       " 'e',\n",
       " ' ',\n",
       " 'p',\n",
       " 'i',\n",
       " 'n',\n",
       " 'k',\n",
       " 'dark purple']"
      ]
     },
     "execution_count": 49,
     "metadata": {},
     "output_type": "execute_result"
    }
   ],
   "source": [
    "rainbow.remove('p')\n",
    "rainbow"
   ]
  },
  {
   "cell_type": "markdown",
   "id": "413912d9",
   "metadata": {
    "slideshow": {
     "slide_type": "subslide"
    }
   },
   "source": [
    "We can also remove one or more items by index with the `del` operator."
   ]
  },
  {
   "cell_type": "code",
   "execution_count": 50,
   "id": "d057d783",
   "metadata": {
    "scrolled": true,
    "slideshow": {
     "slide_type": "fragment"
    }
   },
   "outputs": [
    {
     "data": {
      "text/plain": [
       "['red', 'orange', 'yellow', 'green', 'light blue', 'blue', 'indigo', 'violet']"
      ]
     },
     "execution_count": 50,
     "metadata": {},
     "output_type": "execute_result"
    }
   ],
   "source": [
    "# get rid of all the stuff we appended and extended\n",
    "del rainbow[-13:]\n",
    "rainbow"
   ]
  },
  {
   "cell_type": "markdown",
   "id": "5d08aa26",
   "metadata": {
    "slideshow": {
     "slide_type": "fragment"
    }
   },
   "source": [
    "To empty a list out completely, we can `clear()` it."
   ]
  },
  {
   "cell_type": "code",
   "execution_count": 51,
   "id": "466b4610",
   "metadata": {
    "slideshow": {
     "slide_type": "fragment"
    }
   },
   "outputs": [
    {
     "data": {
      "text/plain": [
       "[]"
      ]
     },
     "execution_count": 51,
     "metadata": {},
     "output_type": "execute_result"
    }
   ],
   "source": [
    "rainbow.clear()\n",
    "rainbow"
   ]
  },
  {
   "cell_type": "markdown",
   "id": "9f482a2f",
   "metadata": {
    "slideshow": {
     "slide_type": "slide"
    }
   },
   "source": [
    "## Practice"
   ]
  },
  {
   "cell_type": "markdown",
   "id": "4439c26b",
   "metadata": {
    "slideshow": {
     "slide_type": "subslide"
    }
   },
   "source": [
    "Create a list, `books`, containing the following items: 'War and Peace', 'Pride and Prejudice', 'Mockingjay', 'Three Musketeers', 'The Adventures of Robinson Crusoe', 'Yevgeniy Onegin'.\n",
    "\n",
    "1. Using slicing or indexing, create the following:\n",
    "    - An empty list\n",
    "    - The last item of `books`\n",
    "    - List of three items: 'Three Musketeers', 'The Adventures of Robinson Crusoe', 'Yevgeniy Onegin'.\n",
    "\n",
    "    \n",
    "2. Using list methods:\n",
    "    - Remove 'Pride and Prejudice' from the list.\n",
    "    - Insert 'Harry Potter and the Chamber of Secrets' after 'Mocking Jay'."
   ]
  },
  {
   "cell_type": "markdown",
   "id": "d384d98b",
   "metadata": {
    "slideshow": {
     "slide_type": "slide"
    }
   },
   "source": [
    "## Sorting lists\n",
    "\n",
    "Lists are ordered, which means that they can be sorted. There are two ways to sort lists. Which way to use depends on if we want to modify the original list in place or if we want to make a brand new list.\n",
    "\n",
    "It can be easier to follow code that creates a brand new list. Mutating the original list, on the other hand, is more efficient for large lists."
   ]
  },
  {
   "cell_type": "markdown",
   "id": "d8ca8dff",
   "metadata": {
    "slideshow": {
     "slide_type": "slide"
    }
   },
   "source": [
    "### Modifying in place\n",
    "\n",
    "The `sort()` method reorders a list's values in place and returns `None`."
   ]
  },
  {
   "cell_type": "code",
   "execution_count": 52,
   "id": "32e6b82f",
   "metadata": {
    "slideshow": {
     "slide_type": "fragment"
    }
   },
   "outputs": [
    {
     "name": "stdout",
     "output_type": "stream",
     "text": [
      "Output of sort(): None\n",
      "Original list: ['apple', 'banana', 'kiwi', 'pineapple']\n"
     ]
    }
   ],
   "source": [
    "fruits = ['pineapple', 'apple', 'kiwi', 'banana']\n",
    "print(f'Output of sort(): {fruits.sort()}')\n",
    "print(f'Original list: {fruits}')"
   ]
  },
  {
   "cell_type": "markdown",
   "id": "c7a3aac5",
   "metadata": {
    "slideshow": {
     "slide_type": "slide"
    }
   },
   "source": [
    "### Make a new sorted list\n",
    "\n",
    "The `sorted()` function takes a list as an argument and returns a new list with sorted values."
   ]
  },
  {
   "cell_type": "code",
   "execution_count": 53,
   "id": "781702f0",
   "metadata": {
    "slideshow": {
     "slide_type": "fragment"
    }
   },
   "outputs": [
    {
     "name": "stdout",
     "output_type": "stream",
     "text": [
      "Output of sorted(): ['bell pepper', 'cabbage', 'celery', 'onion', 'potato']\n",
      "Original list: ['potato', 'celery', 'cabbage', 'bell pepper', 'onion']\n"
     ]
    }
   ],
   "source": [
    "veggies = ['potato', 'celery', 'cabbage', 'bell pepper', 'onion']\n",
    "print(f'Output of sorted(): {sorted(veggies)}')\n",
    "print(f'Original list: {veggies}')"
   ]
  },
  {
   "cell_type": "markdown",
   "id": "9d3cd462",
   "metadata": {
    "slideshow": {
     "slide_type": "slide"
    }
   },
   "source": [
    "### Defining sorting criteria\n",
    "\n",
    "Both `sort()` and `sorted()` take an optional `key` argument. We can pass any function name without parentheses to `key` depending on how we want to sort a list."
   ]
  },
  {
   "cell_type": "code",
   "execution_count": 54,
   "id": "a1f89496",
   "metadata": {
    "slideshow": {
     "slide_type": "fragment"
    }
   },
   "outputs": [],
   "source": [
    "def last_letter(text):\n",
    "    return text[-1]"
   ]
  },
  {
   "cell_type": "code",
   "execution_count": 55,
   "id": "1413b3fb",
   "metadata": {
    "slideshow": {
     "slide_type": "fragment"
    }
   },
   "outputs": [
    {
     "data": {
      "text/plain": [
       "['cabbage', 'onion', 'potato', 'bell pepper', 'celery']"
      ]
     },
     "execution_count": 55,
     "metadata": {},
     "output_type": "execute_result"
    }
   ],
   "source": [
    "sorted(veggies, key=last_letter)"
   ]
  },
  {
   "cell_type": "markdown",
   "id": "f644b1fe",
   "metadata": {
    "slideshow": {
     "slide_type": "subslide"
    }
   },
   "source": [
    "We can use our own functions to even sort nested lists."
   ]
  },
  {
   "cell_type": "code",
   "execution_count": 56,
   "id": "c739ca0d",
   "metadata": {
    "slideshow": {
     "slide_type": "fragment"
    }
   },
   "outputs": [],
   "source": [
    "students_per_class = [['Grade 9', 20], ['Grade 10', 17], ['Grade 11', 13], ['Grade 12', 22]]"
   ]
  },
  {
   "cell_type": "code",
   "execution_count": 57,
   "id": "48df2d04",
   "metadata": {
    "slideshow": {
     "slide_type": "fragment"
    }
   },
   "outputs": [],
   "source": [
    "def second_element(item):\n",
    "    return item[1]"
   ]
  },
  {
   "cell_type": "code",
   "execution_count": 58,
   "id": "afb408d0",
   "metadata": {
    "slideshow": {
     "slide_type": "fragment"
    }
   },
   "outputs": [
    {
     "data": {
      "text/plain": [
       "[['Grade 11', 13], ['Grade 10', 17], ['Grade 9', 20], ['Grade 12', 22]]"
      ]
     },
     "execution_count": 58,
     "metadata": {},
     "output_type": "execute_result"
    }
   ],
   "source": [
    "students_per_class.sort(key = second_element)\n",
    "students_per_class"
   ]
  },
  {
   "cell_type": "markdown",
   "id": "fd3198f8",
   "metadata": {
    "slideshow": {
     "slide_type": "slide"
    }
   },
   "source": [
    "## Practice"
   ]
  },
  {
   "cell_type": "markdown",
   "id": "d70ca838",
   "metadata": {
    "slideshow": {
     "slide_type": "subslide"
    }
   },
   "source": [
    "\n",
    "#### Sorting in place\n",
    "\n",
    "Sort the `colors` list below, keeping the original list unchanged.\n",
    "\n",
    "`colors = ['purple', 'black', 'maroon', 'mauve', 'aquamarine']`\n",
    "\n",
    "#### Custom sorting\n",
    "Given the list `people`, sort it by people's first name, last name and age. Store the sorted lists under the following names: `by_first_name`, `by_last_name`, and `by_age`, respectively.\n",
    "\n",
    "`people = [('Mark', 'Harrison', 56), ('Ken', 'Wolseley', 23), ('Emily', 'Robinson', 77)]`"
   ]
  },
  {
   "cell_type": "markdown",
   "id": "012f3f7c",
   "metadata": {
    "slideshow": {
     "slide_type": "slide"
    }
   },
   "source": [
    "## Tuples\n",
    "\n",
    "_Tuples_ are a built-in data type similar to lists. Like lists, they are ordered collections of values. We can store multiple values in them, access values by index, slice them, and do things like calculate their length.\n",
    "\n",
    "**The key difference is that tuples are _immutable_: they cannot be changed once they are created.** We cannot update a tuple to add, remove, replace, or reorder items in place. This makes tuples a good choice for storing values that should be read-only."
   ]
  },
  {
   "cell_type": "markdown",
   "id": "ed57cd80",
   "metadata": {
    "slideshow": {
     "slide_type": "slide"
    }
   },
   "source": [
    "## Creating tuples\n",
    "\n",
    "We can create a tuple by surrounding values in parentheses."
   ]
  },
  {
   "cell_type": "code",
   "execution_count": 59,
   "id": "03a4588b",
   "metadata": {
    "slideshow": {
     "slide_type": "fragment"
    }
   },
   "outputs": [
    {
     "data": {
      "text/plain": [
       "('changeable', 'fluctuating', 'inconstant', 'variable')"
      ]
     },
     "execution_count": 59,
     "metadata": {},
     "output_type": "execute_result"
    }
   ],
   "source": [
    "mutable_synonyms = ('changeable', 'fluctuating', 'inconstant', 'variable')\n",
    "mutable_synonyms"
   ]
  },
  {
   "cell_type": "markdown",
   "id": "78dbe8b5",
   "metadata": {
    "slideshow": {
     "slide_type": "subslide"
    }
   },
   "source": [
    "To create an empty tuple, we can use either parentheses or the `tuple()` function. We can't add things to an empty tuple later!"
   ]
  },
  {
   "cell_type": "code",
   "execution_count": 60,
   "id": "dd7866e6",
   "metadata": {
    "slideshow": {
     "slide_type": "fragment"
    }
   },
   "outputs": [
    {
     "data": {
      "text/plain": [
       "tuple"
      ]
     },
     "execution_count": 60,
     "metadata": {},
     "output_type": "execute_result"
    }
   ],
   "source": [
    "empty = ()\n",
    "type(empty)"
   ]
  },
  {
   "cell_type": "code",
   "execution_count": 61,
   "id": "a1455b74",
   "metadata": {
    "slideshow": {
     "slide_type": "fragment"
    }
   },
   "outputs": [
    {
     "data": {
      "text/plain": [
       "tuple"
      ]
     },
     "execution_count": 61,
     "metadata": {},
     "output_type": "execute_result"
    }
   ],
   "source": [
    "also_empty = tuple()\n",
    "type(also_empty)"
   ]
  },
  {
   "cell_type": "code",
   "execution_count": 62,
   "id": "3b7b303b",
   "metadata": {
    "slideshow": {
     "slide_type": "fragment"
    }
   },
   "outputs": [
    {
     "ename": "AttributeError",
     "evalue": "'tuple' object has no attribute 'append'",
     "output_type": "error",
     "traceback": [
      "\u001b[1;31m---------------------------------------------------------------------------\u001b[0m",
      "\u001b[1;31mAttributeError\u001b[0m                            Traceback (most recent call last)",
      "Input \u001b[1;32mIn [62]\u001b[0m, in \u001b[0;36m<cell line: 2>\u001b[1;34m()\u001b[0m\n\u001b[0;32m      1\u001b[0m \u001b[38;5;66;03m# not an actual tuple method\u001b[39;00m\n\u001b[1;32m----> 2\u001b[0m \u001b[43mempty\u001b[49m\u001b[38;5;241;43m.\u001b[39;49m\u001b[43mappend\u001b[49m(\u001b[38;5;124m'\u001b[39m\u001b[38;5;124mhi\u001b[39m\u001b[38;5;124m'\u001b[39m)\n",
      "\u001b[1;31mAttributeError\u001b[0m: 'tuple' object has no attribute 'append'"
     ]
    }
   ],
   "source": [
    "# not an actual tuple method\n",
    "empty.append('hi')"
   ]
  },
  {
   "cell_type": "markdown",
   "id": "738e9291",
   "metadata": {
    "slideshow": {
     "slide_type": "slide"
    }
   },
   "source": [
    "## Working with tuples\n",
    "\n",
    "Functions that work on lists _and do not modify the list in place_ also work on tuples."
   ]
  },
  {
   "cell_type": "code",
   "execution_count": 63,
   "id": "6704df77",
   "metadata": {
    "slideshow": {
     "slide_type": "fragment"
    }
   },
   "outputs": [
    {
     "data": {
      "text/plain": [
       "4"
      ]
     },
     "execution_count": 63,
     "metadata": {},
     "output_type": "execute_result"
    }
   ],
   "source": [
    "len(mutable_synonyms)"
   ]
  },
  {
   "cell_type": "code",
   "execution_count": 64,
   "id": "06cf3451",
   "metadata": {
    "slideshow": {
     "slide_type": "fragment"
    }
   },
   "outputs": [
    {
     "data": {
      "text/plain": [
       "['changeable', 'fluctuating', 'inconstant', 'variable']"
      ]
     },
     "execution_count": 64,
     "metadata": {},
     "output_type": "execute_result"
    }
   ],
   "source": [
    "sorted(mutable_synonyms)"
   ]
  },
  {
   "cell_type": "code",
   "execution_count": 65,
   "id": "fd3265cc",
   "metadata": {
    "slideshow": {
     "slide_type": "fragment"
    }
   },
   "outputs": [
    {
     "data": {
      "text/plain": [
       "('changeable',\n",
       " 'fluctuating',\n",
       " 'inconstant',\n",
       " 'variable',\n",
       " 'modifiable',\n",
       " 'shifting')"
      ]
     },
     "execution_count": 65,
     "metadata": {},
     "output_type": "execute_result"
    }
   ],
   "source": [
    "mutable_synonyms + ('modifiable', 'shifting')"
   ]
  },
  {
   "cell_type": "code",
   "execution_count": 66,
   "id": "a37eb94c",
   "metadata": {
    "slideshow": {
     "slide_type": "fragment"
    }
   },
   "outputs": [
    {
     "data": {
      "text/plain": [
       "('changeable', 'fluctuating', 'inconstant', 'variable')"
      ]
     },
     "execution_count": 66,
     "metadata": {},
     "output_type": "execute_result"
    }
   ],
   "source": [
    "# check that mutable_synonyms hasn't changed\n",
    "mutable_synonyms"
   ]
  },
  {
   "cell_type": "markdown",
   "id": "61112f8b",
   "metadata": {
    "slideshow": {
     "slide_type": "slide"
    }
   },
   "source": [
    "## Sets\n",
    "\n",
    "_Sets_ are another built-in data type. Like lists, they are mutable. Unlike lists and tuples, the items in a set are **unordered and distinct**. This makes them well-suited for cases where we do not want any duplicates in our data, like when de-duping a list or comparing unique values."
   ]
  },
  {
   "cell_type": "markdown",
   "id": "06cf4974",
   "metadata": {
    "slideshow": {
     "slide_type": "slide"
    }
   },
   "source": [
    "## Creating Sets\n",
    "\n",
    "We can create a set by surrounding values in curly braces."
   ]
  },
  {
   "cell_type": "code",
   "execution_count": 67,
   "id": "5d80afd8",
   "metadata": {
    "slideshow": {
     "slide_type": "fragment"
    }
   },
   "outputs": [
    {
     "data": {
      "text/plain": [
       "{'apple', 'book', 'box', 'coat', 'hair', 'lock', 'xylophone'}"
      ]
     },
     "execution_count": 67,
     "metadata": {},
     "output_type": "execute_result"
    }
   ],
   "source": [
    "things = {'coat', 'lock', 'box', 'book', 'apple', 'hair','xylophone', 'lock', 'book'}\n",
    "things"
   ]
  },
  {
   "cell_type": "code",
   "execution_count": 68,
   "id": "b0b6379a",
   "metadata": {
    "slideshow": {
     "slide_type": "fragment"
    }
   },
   "outputs": [
    {
     "data": {
      "text/plain": [
       "{'M1M', 'M1T', 'M5R', 'M5V'}"
      ]
     },
     "execution_count": 68,
     "metadata": {},
     "output_type": "execute_result"
    }
   ],
   "source": [
    "# turn a list into a set to remove duplicates\n",
    "visitor_post_codes = ['M5R', 'M5V', 'M1M', 'M1M', 'M1T']\n",
    "set(visitor_post_codes)"
   ]
  },
  {
   "cell_type": "markdown",
   "id": "f3335d87",
   "metadata": {
    "slideshow": {
     "slide_type": "subslide"
    }
   },
   "source": [
    "The only way to create an empty set is with the `set()` function."
   ]
  },
  {
   "cell_type": "code",
   "execution_count": 69,
   "id": "6bac952a",
   "metadata": {
    "slideshow": {
     "slide_type": "fragment"
    }
   },
   "outputs": [
    {
     "data": {
      "text/plain": [
       "set()"
      ]
     },
     "execution_count": 69,
     "metadata": {},
     "output_type": "execute_result"
    }
   ],
   "source": [
    "empty_set = set()\n",
    "empty_set"
   ]
  },
  {
   "cell_type": "markdown",
   "id": "df56002b",
   "metadata": {
    "slideshow": {
     "slide_type": "slide"
    }
   },
   "source": [
    "## Working with sets\n",
    "\n",
    "Sets are mutable, so we can add and remove items, and the set will be modified in place. This also means we have to be careful when setting one set equal to another -- modifying one means modifying both!"
   ]
  },
  {
   "cell_type": "markdown",
   "id": "6e30c27e",
   "metadata": {
    "slideshow": {
     "slide_type": "subslide"
    }
   },
   "source": [
    "If an item is already in a set, it won't be duplicated."
   ]
  },
  {
   "cell_type": "code",
   "execution_count": 70,
   "id": "a6f6df51",
   "metadata": {
    "slideshow": {
     "slide_type": "fragment"
    }
   },
   "outputs": [
    {
     "data": {
      "text/plain": [
       "True"
      ]
     },
     "execution_count": 70,
     "metadata": {},
     "output_type": "execute_result"
    }
   ],
   "source": [
    "# check for membership\n",
    "'lock' in things"
   ]
  },
  {
   "cell_type": "code",
   "execution_count": 71,
   "id": "08ad81be",
   "metadata": {
    "slideshow": {
     "slide_type": "fragment"
    }
   },
   "outputs": [
    {
     "data": {
      "text/plain": [
       "{'apple', 'book', 'box', 'coat', 'hair', 'lock', 'xylophone'}"
      ]
     },
     "execution_count": 71,
     "metadata": {},
     "output_type": "execute_result"
    }
   ],
   "source": [
    "# the set will not update\n",
    "things.add('lock')\n",
    "things"
   ]
  },
  {
   "cell_type": "code",
   "execution_count": 72,
   "id": "9136a509",
   "metadata": {
    "slideshow": {
     "slide_type": "fragment"
    }
   },
   "outputs": [
    {
     "data": {
      "text/plain": [
       "{'apple', 'book', 'box', 'coat', 'hair', 'lock', 'mirror', 'xylophone'}"
      ]
     },
     "execution_count": 72,
     "metadata": {},
     "output_type": "execute_result"
    }
   ],
   "source": [
    "# notice where mirror appears in the set\n",
    "things.add('mirror')\n",
    "things"
   ]
  },
  {
   "cell_type": "code",
   "execution_count": 73,
   "id": "2f0e8e77",
   "metadata": {
    "slideshow": {
     "slide_type": "fragment"
    }
   },
   "outputs": [
    {
     "data": {
      "text/plain": [
       "{'book', 'box', 'coat', 'hair', 'lock', 'mirror', 'xylophone'}"
      ]
     },
     "execution_count": 73,
     "metadata": {},
     "output_type": "execute_result"
    }
   ],
   "source": [
    "things.remove('apple')\n",
    "things"
   ]
  },
  {
   "cell_type": "markdown",
   "id": "78dd87cf",
   "metadata": {
    "slideshow": {
     "slide_type": "subslide"
    }
   },
   "source": [
    "Since sets are unordered, we cannot slice them or access items by index."
   ]
  },
  {
   "cell_type": "code",
   "execution_count": 74,
   "id": "1f861290",
   "metadata": {
    "slideshow": {
     "slide_type": "fragment"
    }
   },
   "outputs": [
    {
     "ename": "TypeError",
     "evalue": "'set' object is not subscriptable",
     "output_type": "error",
     "traceback": [
      "\u001b[1;31m---------------------------------------------------------------------------\u001b[0m",
      "\u001b[1;31mTypeError\u001b[0m                                 Traceback (most recent call last)",
      "Input \u001b[1;32mIn [74]\u001b[0m, in \u001b[0;36m<cell line: 1>\u001b[1;34m()\u001b[0m\n\u001b[1;32m----> 1\u001b[0m \u001b[43mthings\u001b[49m\u001b[43m[\u001b[49m\u001b[38;5;241;43m1\u001b[39;49m\u001b[43m]\u001b[49m\n",
      "\u001b[1;31mTypeError\u001b[0m: 'set' object is not subscriptable"
     ]
    }
   ],
   "source": [
    "things[1]"
   ]
  },
  {
   "cell_type": "markdown",
   "id": "92127bd7",
   "metadata": {
    "slideshow": {
     "slide_type": "slide"
    }
   },
   "source": [
    "## Set operations\n",
    "\n",
    "There are some operations that are unique to sets. A _union_ combines two sets to get the unique values in both. An _intersection_ finds the values two sets have in common. A _symmetric difference_ finds the values that are in only one of two sets. And _difference_ finds the values in the first set that are not in the second set.\n",
    "\n",
    "Each operation has a corresponding set method."
   ]
  },
  {
   "cell_type": "code",
   "execution_count": 75,
   "id": "31a4a0b4",
   "metadata": {
    "slideshow": {
     "slide_type": "subslide"
    }
   },
   "outputs": [],
   "source": [
    "rainbow = {'red', 'orange', 'yellow', 'green', 'blue', 'indigo', 'violet'}\n",
    "olympic_flag = {'red', 'green', 'yellow', 'blue', 'black'}"
   ]
  },
  {
   "cell_type": "code",
   "execution_count": 76,
   "id": "77906906",
   "metadata": {
    "slideshow": {
     "slide_type": "fragment"
    }
   },
   "outputs": [
    {
     "name": "stdout",
     "output_type": "stream",
     "text": [
      "In the rainbow but not the Olympic flag: {'violet', 'indigo', 'orange'}\n",
      "In the Olympic flag but not the rainbow: {'black'}\n"
     ]
    }
   ],
   "source": [
    "print(f'In the rainbow but not the Olympic flag: {rainbow.difference(olympic_flag)}')\n",
    "print(f'In the Olympic flag but not the rainbow: {olympic_flag.difference(rainbow)}')"
   ]
  },
  {
   "cell_type": "code",
   "execution_count": 77,
   "id": "0f70aa26",
   "metadata": {
    "slideshow": {
     "slide_type": "fragment"
    }
   },
   "outputs": [
    {
     "name": "stdout",
     "output_type": "stream",
     "text": [
      "Only in one: {'violet', 'black', 'orange', 'indigo'}\n"
     ]
    }
   ],
   "source": [
    "print(f'Only in one: {rainbow.symmetric_difference(olympic_flag)}')"
   ]
  },
  {
   "cell_type": "code",
   "execution_count": 78,
   "id": "eca13bed",
   "metadata": {
    "slideshow": {
     "slide_type": "fragment"
    }
   },
   "outputs": [
    {
     "name": "stdout",
     "output_type": "stream",
     "text": [
      "Common colours : {'green', 'blue', 'yellow', 'red'}\n"
     ]
    }
   ],
   "source": [
    "print(f'Common colours : {rainbow.intersection(olympic_flag)}')"
   ]
  },
  {
   "cell_type": "code",
   "execution_count": 79,
   "id": "26c9bc0d",
   "metadata": {
    "slideshow": {
     "slide_type": "fragment"
    }
   },
   "outputs": [
    {
     "name": "stdout",
     "output_type": "stream",
     "text": [
      "All colours: {'violet', 'yellow', 'orange', 'green', 'black', 'indigo', 'red', 'blue'}\n"
     ]
    }
   ],
   "source": [
    "print(f'All colours: {rainbow.union(olympic_flag)}')"
   ]
  },
  {
   "cell_type": "markdown",
   "id": "351c544b",
   "metadata": {
    "slideshow": {
     "slide_type": "slide"
    }
   },
   "source": [
    "## Dictionaries\n",
    "\n",
    "Dictionaries are our last collection of data. They store data in _key:value_ pairs and let us look up values by key. Dictionaries, like lists, are ordered and mutable. Every key in a dictionary is unique."
   ]
  },
  {
   "cell_type": "markdown",
   "id": "eddaf0db",
   "metadata": {
    "slideshow": {
     "slide_type": "slide"
    }
   },
   "source": [
    "## Creating dictionaries\n",
    "\n",
    "To make a dictionary, we place curly braces around key:value pairs. Keys can be any immutable data type -- strings, numbers, booleans, and tuples all work. Values can be any data type."
   ]
  },
  {
   "cell_type": "code",
   "execution_count": 80,
   "id": "4ebcf461",
   "metadata": {
    "slideshow": {
     "slide_type": "fragment"
    }
   },
   "outputs": [
    {
     "data": {
      "text/plain": [
       "{'Canada': 'Ottawa',\n",
       " 'United States': 'Washington, D.C.',\n",
       " 'Mexico': 'Mexico City'}"
      ]
     },
     "execution_count": 80,
     "metadata": {},
     "output_type": "execute_result"
    }
   ],
   "source": [
    "capitals = {'Canada': 'Ottawa',\n",
    "           'United States': 'Washington, D.C.',\n",
    "           'Mexico': 'Mexico City'}\n",
    "capitals"
   ]
  },
  {
   "cell_type": "code",
   "execution_count": 81,
   "id": "26204e75",
   "metadata": {
    "slideshow": {
     "slide_type": "fragment"
    }
   },
   "outputs": [
    {
     "data": {
      "text/plain": [
       "{2020: 'Tokyo', 2016: 'Rio de Janiero', 2012: 'London'}"
      ]
     },
     "execution_count": 81,
     "metadata": {},
     "output_type": "execute_result"
    }
   ],
   "source": [
    "olympics_cities = {2020: 'Tokyo', 2016: 'Rio de Janiero', 2012: 'London'}\n",
    "olympics_cities"
   ]
  },
  {
   "cell_type": "markdown",
   "id": "dbef9ac7",
   "metadata": {
    "slideshow": {
     "slide_type": "subslide"
    }
   },
   "source": [
    "We can nest dictionaries within dictionaries."
   ]
  },
  {
   "cell_type": "code",
   "execution_count": 82,
   "id": "9567a42f",
   "metadata": {
    "slideshow": {
     "slide_type": "fragment"
    }
   },
   "outputs": [
    {
     "data": {
      "text/plain": [
       "{'summer': {2020: 'Tokyo', 2016: 'Rio de Janiero', 2012: 'London'},\n",
       " 'winter': {2022: 'Beijing', 2018: 'Pyeongchang'}}"
      ]
     },
     "execution_count": 82,
     "metadata": {},
     "output_type": "execute_result"
    }
   ],
   "source": [
    "all_olympics_hosts = {'summer': olympics_cities,\n",
    "                     'winter': {2022: 'Beijing', 2018: 'Pyeongchang'}}\n",
    "all_olympics_hosts"
   ]
  },
  {
   "cell_type": "markdown",
   "id": "b6456f09",
   "metadata": {
    "slideshow": {
     "slide_type": "subslide"
    }
   },
   "source": [
    "The preferred way to create an empty dictionary is with curly braces, but the `dict()` function also works."
   ]
  },
  {
   "cell_type": "code",
   "execution_count": 83,
   "id": "82ea8a74",
   "metadata": {
    "slideshow": {
     "slide_type": "fragment"
    }
   },
   "outputs": [
    {
     "data": {
      "text/plain": [
       "dict"
      ]
     },
     "execution_count": 83,
     "metadata": {},
     "output_type": "execute_result"
    }
   ],
   "source": [
    "empty_dictionary = {}\n",
    "type(empty_dictionary)"
   ]
  },
  {
   "cell_type": "code",
   "execution_count": 84,
   "id": "740e8ab8",
   "metadata": {
    "slideshow": {
     "slide_type": "fragment"
    }
   },
   "outputs": [
    {
     "data": {
      "text/plain": [
       "dict"
      ]
     },
     "execution_count": 84,
     "metadata": {},
     "output_type": "execute_result"
    }
   ],
   "source": [
    "still_empty = dict()\n",
    "type(still_empty)"
   ]
  },
  {
   "cell_type": "markdown",
   "id": "0273d8d1",
   "metadata": {
    "slideshow": {
     "slide_type": "slide"
    }
   },
   "source": [
    "## Accessing, adding, and updating dictionary items\n",
    "\n",
    "We access the content of a dictionary by specifying the dictionary, then the key to look up in square brackets. To access nested values, we _chain_ together bracket selections."
   ]
  },
  {
   "cell_type": "code",
   "execution_count": 85,
   "id": "d8c5c78b",
   "metadata": {
    "slideshow": {
     "slide_type": "fragment"
    }
   },
   "outputs": [
    {
     "data": {
      "text/plain": [
       "'Rio de Janiero'"
      ]
     },
     "execution_count": 85,
     "metadata": {},
     "output_type": "execute_result"
    }
   ],
   "source": [
    "olympics_cities[2016]"
   ]
  },
  {
   "cell_type": "code",
   "execution_count": 86,
   "id": "8c3ef741",
   "metadata": {
    "slideshow": {
     "slide_type": "fragment"
    }
   },
   "outputs": [
    {
     "data": {
      "text/plain": [
       "'Pyeongchang'"
      ]
     },
     "execution_count": 86,
     "metadata": {},
     "output_type": "execute_result"
    }
   ],
   "source": [
    "all_olympics_hosts['winter'][2018]"
   ]
  },
  {
   "cell_type": "markdown",
   "id": "07cfdbaa",
   "metadata": {
    "slideshow": {
     "slide_type": "subslide"
    }
   },
   "source": [
    "Trying to access a key that doesn't exist results in an error."
   ]
  },
  {
   "cell_type": "code",
   "execution_count": 87,
   "id": "22e5885c",
   "metadata": {
    "slideshow": {
     "slide_type": "fragment"
    }
   },
   "outputs": [
    {
     "ename": "KeyError",
     "evalue": "2014",
     "output_type": "error",
     "traceback": [
      "\u001b[1;31m---------------------------------------------------------------------------\u001b[0m",
      "\u001b[1;31mKeyError\u001b[0m                                  Traceback (most recent call last)",
      "Input \u001b[1;32mIn [87]\u001b[0m, in \u001b[0;36m<cell line: 1>\u001b[1;34m()\u001b[0m\n\u001b[1;32m----> 1\u001b[0m \u001b[43molympics_cities\u001b[49m\u001b[43m[\u001b[49m\u001b[38;5;241;43m2014\u001b[39;49m\u001b[43m]\u001b[49m\n",
      "\u001b[1;31mKeyError\u001b[0m: 2014"
     ]
    }
   ],
   "source": [
    "olympics_cities[2014]"
   ]
  },
  {
   "cell_type": "markdown",
   "id": "49190dce",
   "metadata": {
    "slideshow": {
     "slide_type": "subslide"
    }
   },
   "source": [
    "The `get()` method provides a safe way to work with dictionary values. It takes the name of the key to look up and the default value to create a new key:value pair if the key does not exist."
   ]
  },
  {
   "cell_type": "code",
   "execution_count": 88,
   "id": "2db879ff",
   "metadata": {
    "slideshow": {
     "slide_type": "fragment"
    }
   },
   "outputs": [
    {
     "data": {
      "text/plain": [
       "{2020: 'Tokyo', 2016: 'Rio de Janiero', 2012: 'London'}"
      ]
     },
     "execution_count": 88,
     "metadata": {},
     "output_type": "execute_result"
    }
   ],
   "source": [
    "olympics_cities.get(2004, 'Athens')\n",
    "olympics_cities"
   ]
  },
  {
   "cell_type": "markdown",
   "id": "5b266b2a",
   "metadata": {
    "slideshow": {
     "slide_type": "subslide"
    }
   },
   "source": [
    "We can check to see if a key is in a dictionary with `in`."
   ]
  },
  {
   "cell_type": "code",
   "execution_count": 89,
   "id": "bbaf14b2",
   "metadata": {
    "slideshow": {
     "slide_type": "fragment"
    }
   },
   "outputs": [
    {
     "data": {
      "text/plain": [
       "True"
      ]
     },
     "execution_count": 89,
     "metadata": {},
     "output_type": "execute_result"
    }
   ],
   "source": [
    "2016 in olympics_cities"
   ]
  },
  {
   "cell_type": "code",
   "execution_count": 90,
   "id": "e9980b1e",
   "metadata": {
    "slideshow": {
     "slide_type": "fragment"
    }
   },
   "outputs": [
    {
     "data": {
      "text/plain": [
       "False"
      ]
     },
     "execution_count": 90,
     "metadata": {},
     "output_type": "execute_result"
    }
   ],
   "source": [
    "# 'in' looks for matching keys\n",
    "'Rio de Janiero' in olympics_cities"
   ]
  },
  {
   "cell_type": "markdown",
   "id": "d995abbd",
   "metadata": {
    "slideshow": {
     "slide_type": "subslide"
    }
   },
   "source": [
    "If we assign a value to a key that doesn't exist, the key:value pair will be added to the dictionary. If we assign a value to a key that already exists, the value for that key will be updated. "
   ]
  },
  {
   "cell_type": "code",
   "execution_count": 91,
   "id": "b4716837",
   "metadata": {
    "slideshow": {
     "slide_type": "fragment"
    }
   },
   "outputs": [
    {
     "data": {
      "text/plain": [
       "{2020: 'Tokyo', 2016: 'Rio de Janiero', 2012: 'London', 2008: 'Barcelona'}"
      ]
     },
     "execution_count": 91,
     "metadata": {},
     "output_type": "execute_result"
    }
   ],
   "source": [
    "olympics_cities[2008] = 'Barcelona'\n",
    "olympics_cities"
   ]
  },
  {
   "cell_type": "code",
   "execution_count": 92,
   "id": "24f9054f",
   "metadata": {
    "slideshow": {
     "slide_type": "fragment"
    }
   },
   "outputs": [
    {
     "data": {
      "text/plain": [
       "{2020: 'Tokyo', 2016: 'Rio de Janiero', 2012: 'London', 2008: 'Beijing'}"
      ]
     },
     "execution_count": 92,
     "metadata": {},
     "output_type": "execute_result"
    }
   ],
   "source": [
    "# fix 2008's city\n",
    "olympics_cities[2008] = 'Beijing'\n",
    "olympics_cities"
   ]
  },
  {
   "cell_type": "markdown",
   "id": "eff9bfad",
   "metadata": {
    "slideshow": {
     "slide_type": "subslide"
    }
   },
   "source": [
    "### Mutations, mutations\n",
    "\n",
    "Notice that updating a dictionary will also change other variables that reference it! Let's take a look at our `all_olympics_hosts` dictionary."
   ]
  },
  {
   "cell_type": "code",
   "execution_count": 93,
   "id": "3b592169",
   "metadata": {
    "slideshow": {
     "slide_type": "fragment"
    }
   },
   "outputs": [
    {
     "data": {
      "text/plain": [
       "{'summer': {2020: 'Tokyo',\n",
       "  2016: 'Rio de Janiero',\n",
       "  2012: 'London',\n",
       "  2008: 'Beijing'},\n",
       " 'winter': {2022: 'Beijing', 2018: 'Pyeongchang'}}"
      ]
     },
     "execution_count": 93,
     "metadata": {},
     "output_type": "execute_result"
    }
   ],
   "source": [
    "all_olympics_hosts"
   ]
  },
  {
   "cell_type": "markdown",
   "id": "16a219ae",
   "metadata": {
    "slideshow": {
     "slide_type": "fragment"
    }
   },
   "source": [
    "## Deleting dictionary items\n",
    "\n",
    "To remove a key:value pair from a dictionary, we can use the `del` operator."
   ]
  },
  {
   "cell_type": "code",
   "execution_count": 94,
   "id": "1f186d4c",
   "metadata": {
    "slideshow": {
     "slide_type": "fragment"
    }
   },
   "outputs": [
    {
     "data": {
      "text/plain": [
       "{2016: 'Rio de Janiero', 2012: 'London', 2008: 'Beijing'}"
      ]
     },
     "execution_count": 94,
     "metadata": {},
     "output_type": "execute_result"
    }
   ],
   "source": [
    "del olympics_cities[2020]\n",
    "olympics_cities"
   ]
  },
  {
   "cell_type": "markdown",
   "id": "bad3cc3f",
   "metadata": {
    "slideshow": {
     "slide_type": "slide"
    }
   },
   "source": [
    "## Dictionary methods\n",
    "\n",
    "Python dictionaries have methods for getting keys, values, and items (that is, key:value pairs). This is useful for getting all dictionary keys, checking for values in a dictionary, and, as we'll see soon, working with keys, values, and items one-by-one."
   ]
  },
  {
   "cell_type": "code",
   "execution_count": 95,
   "id": "9765afb3",
   "metadata": {
    "slideshow": {
     "slide_type": "fragment"
    }
   },
   "outputs": [
    {
     "data": {
      "text/plain": [
       "dict_keys(['summer', 'winter'])"
      ]
     },
     "execution_count": 95,
     "metadata": {},
     "output_type": "execute_result"
    }
   ],
   "source": [
    "all_olympics_hosts.keys()"
   ]
  },
  {
   "cell_type": "code",
   "execution_count": 96,
   "id": "1790f770",
   "metadata": {
    "slideshow": {
     "slide_type": "fragment"
    }
   },
   "outputs": [
    {
     "name": "stdout",
     "output_type": "stream",
     "text": [
      "London was a host city\n"
     ]
    }
   ],
   "source": [
    "if 'London' in olympics_cities.values():\n",
    "    print('London was a host city')\n",
    "else:\n",
    "    print('London was not a host city')"
   ]
  },
  {
   "cell_type": "code",
   "execution_count": 97,
   "id": "c8061f92",
   "metadata": {
    "slideshow": {
     "slide_type": "fragment"
    }
   },
   "outputs": [
    {
     "data": {
      "text/plain": [
       "dict_items([(2022, 'Beijing'), (2018, 'Pyeongchang')])"
      ]
     },
     "execution_count": 97,
     "metadata": {},
     "output_type": "execute_result"
    }
   ],
   "source": [
    "# get keys and values for the nested winter dictionary\n",
    "all_olympics_hosts['winter'].items()"
   ]
  },
  {
   "cell_type": "markdown",
   "id": "3358fff3",
   "metadata": {
    "slideshow": {
     "slide_type": "slide"
    }
   },
   "source": [
    "## Practice"
   ]
  },
  {
   "cell_type": "markdown",
   "id": "293a1358",
   "metadata": {
    "slideshow": {
     "slide_type": "subslide"
    }
   },
   "source": [
    "Write a function called `dict_intersect` that takes two dictionaries, `d1` and `d2`, as arguments and returns a set that contains only the values found in both of the original dictionaries."
   ]
  },
  {
   "cell_type": "markdown",
   "id": "66118b34",
   "metadata": {
    "slideshow": {
     "slide_type": "slide"
    }
   },
   "source": [
    "## Collections: a summary\n",
    "\n",
    "(Adapted from: Table 17, Chapter 11, _Practical Programming: An Introduction to Computer Science Using Python 3.6_)\n",
    "\n",
    "| Collection | Mutable? | Ordered? | Use when...|\n",
    "|---|---|---|---|\n",
    "| `str` | No | Yes | You want to keep track of text. |\n",
    "| `list` | Yes | Yes | You want to keep track of and update an ordered sequence.|\n",
    "| `tuple` | No | Yes | You want to build an ordered sequence that you know won't change or that you want to use as a key in a dictionary or as a value in a set. |\n",
    "| `set` | Yes | No | You want to keep track of values, but order doesn't matter, and you don't want duplicates. The values must be immutable. |\n",
    "| `dict` | Yes | No | You want to keep a mapping of keys to values. The keys must be immutable. |"
   ]
  },
  {
   "cell_type": "markdown",
   "id": "60cda1ba",
   "metadata": {
    "slideshow": {
     "slide_type": "slide"
    }
   },
   "source": [
    "# Control Flow: Iteration"
   ]
  },
  {
   "cell_type": "markdown",
   "id": "ca6a6ced",
   "metadata": {
    "slideshow": {
     "slide_type": "slide"
    }
   },
   "source": [
    "## What are iteration and loops?\n",
    "\n",
    "Earlier, we saw how to control the flow of a program through `if`/`elif`/`else` statements, which tell Python to run or skip blocks of code depending on whether a condition is met.\n",
    "\n",
    "We can also tell Python to repeat code in a loop for a certain number of times or until a condition is met, a technique called _iteration_. For example, we may want to manipulate every item in a list individually. Copy/pasting code for each item is inefficient and error-prone. Instead, we can use one of Python's two loops: `for` loops or `while` loops."
   ]
  },
  {
   "cell_type": "markdown",
   "id": "a2dfa50a",
   "metadata": {
    "slideshow": {
     "slide_type": "slide"
    }
   },
   "source": [
    "## `for` loops\n",
    "\n",
    "A `for` loop runs an indented block of code for every item in an _iterable_ -- a data type like a list, tuple, set, dictionary, or even string. When setting up a `for` loop, we have to specify a variable name to refer to individual items by. Try to pick one that makes sense, but if you're in a rush, `i` (for index) is conventional."
   ]
  },
  {
   "cell_type": "code",
   "execution_count": 98,
   "id": "d248517f",
   "metadata": {
    "slideshow": {
     "slide_type": "fragment"
    }
   },
   "outputs": [
    {
     "name": "stdout",
     "output_type": "stream",
     "text": [
      "Give me an a!\n",
      "Give me an e!\n",
      "Give me an i!\n",
      "Give me an o!\n",
      "Give me an u!\n"
     ]
    }
   ],
   "source": [
    "for vowel in vowels:\n",
    "    print(f'Give me an {vowel}!')"
   ]
  },
  {
   "cell_type": "markdown",
   "id": "8e1ba720",
   "metadata": {
    "slideshow": {
     "slide_type": "subslide"
    }
   },
   "source": [
    "If we simply want to run a block of code _n_ number of times, we can use the `range()` function to create an iterable to loop over."
   ]
  },
  {
   "cell_type": "code",
   "execution_count": 99,
   "id": "0e0b74ff",
   "metadata": {
    "slideshow": {
     "slide_type": "fragment"
    }
   },
   "outputs": [
    {
     "name": "stdout",
     "output_type": "stream",
     "text": [
      "0 0\n",
      "1 2\n",
      "2 4\n",
      "3 6\n",
      "4 8\n",
      "5 10\n",
      "6 12\n"
     ]
    }
   ],
   "source": [
    "for i in range(7):\n",
    "    print(i, i*2)"
   ]
  },
  {
   "cell_type": "markdown",
   "id": "2ad93ebf",
   "metadata": {
    "slideshow": {
     "slide_type": "subslide"
    }
   },
   "source": [
    "We can use loops to build new lists (and other iterables)."
   ]
  },
  {
   "cell_type": "code",
   "execution_count": 100,
   "id": "e01cb12f",
   "metadata": {
    "slideshow": {
     "slide_type": "fragment"
    }
   },
   "outputs": [
    {
     "data": {
      "text/plain": [
       "['processed_data_01.xlsx',\n",
       " 'processed_data_02.xlsx',\n",
       " 'processed_data_03.xlsx',\n",
       " 'processed_data_04.xlsx']"
      ]
     },
     "execution_count": 100,
     "metadata": {},
     "output_type": "execute_result"
    }
   ],
   "source": [
    "input_files = ['data_01.csv', 'data_02.csv', 'data_03.csv', 'data_04.csv']\n",
    "output_files = []\n",
    "\n",
    "for i in input_files:\n",
    "    output_file_name = 'processed_' + i.replace('.csv', '.xlsx')\n",
    "    output_files.append(output_file_name)\n",
    "    \n",
    "output_files"
   ]
  },
  {
   "cell_type": "markdown",
   "id": "d5949e22",
   "metadata": {
    "slideshow": {
     "slide_type": "slide"
    }
   },
   "source": [
    "## Looping with multiple values\n",
    "\n",
    "It is often useful to iterate over more than one value at once, such as when working with functions like `enumerate()` and methods like `dict.items()`, which give us index:value and key:value pairs, respectively. Because these methods give us two values at once, we need to supply two looping variables. The returned value pairs are _unpacked_ to our variables."
   ]
  },
  {
   "cell_type": "code",
   "execution_count": 101,
   "id": "dbf18fa4",
   "metadata": {
    "slideshow": {
     "slide_type": "fragment"
    }
   },
   "outputs": [
    {
     "name": "stdout",
     "output_type": "stream",
     "text": [
      "Stop 1 is Sheppard-Yonge.\n",
      "Stop 2 is Bayview.\n",
      "Stop 3 is Bessarion.\n",
      "Stop 4 is Leslie.\n",
      "Stop 5 is Don Mills.\n"
     ]
    }
   ],
   "source": [
    "stops = ['Sheppard-Yonge', 'Bayview', 'Bessarion', 'Leslie', 'Don Mills']\n",
    "for idx, stop in enumerate(stops):\n",
    "    print(f'Stop {idx + 1} is {stop}.')"
   ]
  },
  {
   "cell_type": "code",
   "execution_count": 102,
   "id": "dffcff90",
   "metadata": {
    "slideshow": {
     "slide_type": "subslide"
    }
   },
   "outputs": [
    {
     "data": {
      "text/plain": [
       "[2, 20, 200, 2000]"
      ]
     },
     "execution_count": 102,
     "metadata": {},
     "output_type": "execute_result"
    }
   ],
   "source": [
    "# double a list in place\n",
    "numbers = [1, 10, 100, 1000]\n",
    "for idx, val in enumerate(numbers):\n",
    "    numbers[idx] = val * 2\n",
    "numbers"
   ]
  },
  {
   "cell_type": "markdown",
   "id": "3859b887",
   "metadata": {
    "slideshow": {
     "slide_type": "slide"
    }
   },
   "source": [
    "## Looping over two iterables at once\n",
    "\n",
    "To loop over more than one iterable at the same time, we can `zip()` them up. Note that if the iterables are different lengths, we won't get the \"extra\" values in the longer iterable. "
   ]
  },
  {
   "cell_type": "code",
   "execution_count": 103,
   "id": "1df5c753",
   "metadata": {
    "slideshow": {
     "slide_type": "fragment"
    }
   },
   "outputs": [
    {
     "name": "stdout",
     "output_type": "stream",
     "text": [
      "(43.65, -79.38)\n",
      "(45.52, -73.57)\n",
      "(49.28, -123.13)\n"
     ]
    }
   ],
   "source": [
    "lats = (43.650, 45.520, 49.280)\n",
    "lons = (-79.380, -73.570, -123.130)\n",
    "\n",
    "for i, j in zip(lats, lons):\n",
    "    print(f'({i}, {j})')"
   ]
  },
  {
   "cell_type": "markdown",
   "id": "c93d6c38",
   "metadata": {
    "slideshow": {
     "slide_type": "slide"
    }
   },
   "source": [
    "## Loops within loops\n",
    "\n",
    "We can nest loops within each other, indenting once more each time. The variables from the higher-level loop are available at the lower levels.\n",
    "\n",
    "One thing to keep in mind is that the number of times code runs increases very quickly with nested loops -- slightly longer iterables can mean a longer-running program than expected!"
   ]
  },
  {
   "cell_type": "code",
   "execution_count": 104,
   "id": "d2fa7beb",
   "metadata": {
    "slideshow": {
     "slide_type": "fragment"
    }
   },
   "outputs": [
    {
     "name": "stdout",
     "output_type": "stream",
     "text": [
      "The 2016 Summer Olympics were in Rio de Janiero.\n",
      "The 2012 Summer Olympics were in London.\n",
      "The 2008 Summer Olympics were in Beijing.\n",
      "The 2022 Winter Olympics were in Beijing.\n",
      "The 2018 Winter Olympics were in Pyeongchang.\n"
     ]
    }
   ],
   "source": [
    "for key, value in all_olympics_hosts.items():\n",
    "    for year, city in value.items():\n",
    "        # this way of formatting strings is new\n",
    "        print(f'The {year} {key.title()} Olympics were in {city}.')"
   ]
  },
  {
   "cell_type": "code",
   "execution_count": 105,
   "id": "123ca926",
   "metadata": {
    "slideshow": {
     "slide_type": "subslide"
    }
   },
   "outputs": [],
   "source": [
    "def print_table(n):\n",
    "    \"\"\"Print the multiplication table for numbers 1 through n inclusive.\n",
    "    >>> print_table(3)\n",
    "      1 2  3 \n",
    "    1 1 2  3 \n",
    "    2 2 4  6\n",
    "    3 3 6  9\n",
    "    \"\"\"\n",
    "    # The numbers to include in the table.\n",
    "    numbers = list(range(1, n + 1))\n",
    "    # Print the header row.\n",
    "    for i in numbers:\n",
    "        print(f'\\t{i}', end='')\n",
    "    # End the header row.\n",
    "    print()\n",
    "    # Print each row number and the contents of each row.\n",
    "    for i in numbers:\n",
    "        print (i, end='')\n",
    "        for j in numbers:\n",
    "            print(f'\\t{i * j}', end='')\n",
    "        # End the current row.\n",
    "        print()"
   ]
  },
  {
   "cell_type": "code",
   "execution_count": 106,
   "id": "26858eb7",
   "metadata": {
    "slideshow": {
     "slide_type": "subslide"
    }
   },
   "outputs": [
    {
     "name": "stdout",
     "output_type": "stream",
     "text": [
      "\t1\t2\t3\t4\t5\n",
      "1\t1\t2\t3\t4\t5\n",
      "2\t2\t4\t6\t8\t10\n",
      "3\t3\t6\t9\t12\t15\n",
      "4\t4\t8\t12\t16\t20\n",
      "5\t5\t10\t15\t20\t25\n"
     ]
    }
   ],
   "source": [
    "print_table(5)"
   ]
  },
  {
   "cell_type": "markdown",
   "id": "cd0a8cd4",
   "metadata": {
    "slideshow": {
     "slide_type": "slide"
    }
   },
   "source": [
    "## `while` loops\n",
    "\n",
    "What if we aren't sure how many times code needs to run, but we know how to tell when we're done? In that case, we can use a `while` loop, which runs an indented block of code until a condition is met."
   ]
  },
  {
   "cell_type": "code",
   "execution_count": 107,
   "id": "755633ee",
   "metadata": {
    "slideshow": {
     "slide_type": "fragment"
    }
   },
   "outputs": [
    {
     "name": "stdout",
     "output_type": "stream",
     "text": [
      "4\n",
      "3\n",
      "2\n",
      "1\n"
     ]
    }
   ],
   "source": [
    "countdown = 4\n",
    "\n",
    "while countdown > 0:\n",
    "    print(countdown)\n",
    "    countdown -= 1"
   ]
  },
  {
   "cell_type": "markdown",
   "id": "9dead781",
   "metadata": {
    "slideshow": {
     "slide_type": "slide"
    }
   },
   "source": [
    "## Infinite loops\n",
    "\n",
    "What happens if we omit the last line of code in the countdown example? The countdown never changes, so it never hits zero, and our program keeps printing \"4\". We've just created an _infinite loop_.\n",
    "\n",
    "(**NOTE**: If you try this, you will need to interrupt the program. In Anaconda, press `ctrl+c` on your keyboard or go to **Kernel --> Interrupt** in the toolbar. In Colab, press `ctrl+m+i` or go to **Runtime --> Interrupt execution** in the toolbar. You may want to try this in a new notebook.)"
   ]
  },
  {
   "cell_type": "code",
   "execution_count": 108,
   "id": "bab8a554",
   "metadata": {
    "slideshow": {
     "slide_type": "fragment"
    }
   },
   "outputs": [],
   "source": [
    "# uncomment the lines below to run\n",
    "#countdown = 4\n",
    "\n",
    "#while countdown > 0:\n",
    "#    print(countdown)"
   ]
  },
  {
   "cell_type": "markdown",
   "id": "60840e98",
   "metadata": {
    "slideshow": {
     "slide_type": "subslide"
    }
   },
   "source": [
    "Infinite loops are sometimes necessary. They are used extensively in gaming or to run a connection to a server, for example. To create an intentional infinite loop, we make the `while` condition `True`."
   ]
  },
  {
   "cell_type": "markdown",
   "id": "0d942f1c",
   "metadata": {
    "slideshow": {
     "slide_type": "slide"
    }
   },
   "source": [
    "## `break`ing free\n",
    "\n",
    "A `break` statement interrupts the execution of a loop."
   ]
  },
  {
   "cell_type": "code",
   "execution_count": 109,
   "id": "b497e524",
   "metadata": {
    "slideshow": {
     "slide_type": "fragment"
    }
   },
   "outputs": [
    {
     "name": "stdout",
     "output_type": "stream",
     "text": [
      "4\n",
      "3\n",
      "We are breaking the loop early.\n",
      "Done iterating.\n"
     ]
    }
   ],
   "source": [
    "countdown = 4\n",
    "\n",
    "while countdown > 0:\n",
    "    print(countdown)\n",
    "    if countdown == 3:\n",
    "        print('We are breaking the loop early.')\n",
    "        break\n",
    "    countdown -=1\n",
    "    \n",
    "print('Done iterating.')"
   ]
  },
  {
   "cell_type": "markdown",
   "id": "3b5ab52c",
   "metadata": {
    "slideshow": {
     "slide_type": "subslide"
    }
   },
   "source": [
    "Even infinite loops can be exited."
   ]
  },
  {
   "cell_type": "code",
   "execution_count": 110,
   "id": "055270c4",
   "metadata": {
    "scrolled": true,
    "slideshow": {
     "slide_type": "fragment"
    }
   },
   "outputs": [
    {
     "name": "stdout",
     "output_type": "stream",
     "text": [
      "What's the password? password\n",
      "What's the password? let me in\n",
      "What's the password? please\n",
      "What's the password? open sesame\n",
      "You're in!\n"
     ]
    }
   ],
   "source": [
    "while True:\n",
    "    password = input(\"What's the password? \")\n",
    "    # case-insensitive comparison\n",
    "    if password.lower() == 'open sesame':\n",
    "        print(\"You're in!\")\n",
    "        break"
   ]
  },
  {
   "cell_type": "markdown",
   "id": "a7b6ffbc",
   "metadata": {
    "slideshow": {
     "slide_type": "slide"
    }
   },
   "source": [
    "## Please `continue`...\n",
    "\n",
    "Lastly, we can interrupt a loop with a `continue` statement, which tells Python to leave the current iteration of the loop and start back up at the top"
   ]
  },
  {
   "cell_type": "code",
   "execution_count": 111,
   "id": "fdcea735",
   "metadata": {},
   "outputs": [
    {
     "name": "stdout",
     "output_type": "stream",
     "text": [
      "Make a wish: infinite money\n",
      "Wish granted.\n",
      "Make a wish: never get rained on\n",
      "Wish granted.\n",
      "Make a wish: infinite wishes\n",
      "You can't do that!\n",
      "Make a wish: no more allergies\n",
      "Wish granted.\n",
      "You have used all your wishes.\n"
     ]
    }
   ],
   "source": [
    "wishes = 3\n",
    "while wishes > 0:\n",
    "    wish = input('Make a wish: ')\n",
    "    if 'infinite wishes' in wish.lower():\n",
    "        print('You can\\'t do that!')\n",
    "        continue\n",
    "    else:\n",
    "        print('Wish granted.')\n",
    "    wishes -= 1\n",
    "print('You have used all your wishes.')"
   ]
  },
  {
   "cell_type": "markdown",
   "id": "43173e94",
   "metadata": {
    "slideshow": {
     "slide_type": "slide"
    }
   },
   "source": [
    "## Practice"
   ]
  },
  {
   "cell_type": "markdown",
   "id": "e69e873f",
   "metadata": {
    "slideshow": {
     "slide_type": "subslide"
    }
   },
   "source": [
    "#### \n",
    "\n",
    "Write a loop that iterates over the two lists below simultaneously. For each pair of values, print the first number divided by the second. The loop should keep running when it encounters a zero divisor.\n",
    "```python\n",
    "dividends = [100, 37.5, -12]\n",
    "divisors [8, 0, -3]\n",
    "```"
   ]
  },
  {
   "cell_type": "markdown",
   "id": "0d1c483c",
   "metadata": {
    "slideshow": {
     "slide_type": "slide"
    }
   },
   "source": [
    "# References\n",
    "\n",
    "- Bostroem, Bekolay, and Staneva (eds): \"Software Carpentry: Programming with Python\" Version 2016.06, June 2016, https://github.com/swcarpentry/python-novice-inflammation, 10.5281/zenodo.57492.\n",
    "- Chapter 8, 9, and 11, Gries, Campbell, and Montojo, 2017, *Practical Programming: An Introduction to Computer Science Using Python 3.6*\n",
    "- \"Modules\", Python Software Foundation, *Python Language Reference, version 3.* Available at https://docs.python.org/3/tutorial/modules.html."
   ]
  }
 ],
 "metadata": {
  "celltoolbar": "Slideshow",
  "kernelspec": {
   "display_name": "Python 3 (ipykernel)",
   "language": "python",
   "name": "python3"
  },
  "language_info": {
   "codemirror_mode": {
    "name": "ipython",
    "version": 3
   },
   "file_extension": ".py",
   "mimetype": "text/x-python",
   "name": "python",
   "nbconvert_exporter": "python",
   "pygments_lexer": "ipython3",
   "version": "3.10.4"
  },
  "rise": {
   "scroll": true,
   "theme": "solarized",
   "transition": "none"
  }
 },
 "nbformat": 4,
 "nbformat_minor": 5
}
